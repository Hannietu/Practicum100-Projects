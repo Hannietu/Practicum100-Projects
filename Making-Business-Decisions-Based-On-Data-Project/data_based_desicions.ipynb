{
 "cells": [
  {
   "cell_type": "markdown",
   "metadata": {},
   "source": [
    "# Making Business decisions based on data project"
   ]
  },
  {
   "cell_type": "markdown",
   "metadata": {},
   "source": [
    "This project is for a big online store.\n",
    "\n",
    "The project included a list of hypotheses that may help boost the company's revenue.\n",
    "\n",
    "On the first part of the project I prioritized the list of hypotheses by applying ICE and RICE frameworks.\n",
    "\n",
    "On the second part of the project I analyzed the results of the A/B test performed. \n",
    "\n",
    "In my analysis I used two datasets: Orders_US and Visits_US.\n",
    "\n",
    "My analysis included the following metrics for both groups:\n",
    "1. Cumulative revenue\n",
    "2. Cumulative avergae check & the relative difference between the groups\n",
    "3. Daily conversion rate\n",
    "4. Number of orders per user\n",
    "5. 95th and 99th percentile for the number of orders per user and the orders prices\n",
    "6. Statistical significance of the conversion rate and and average check (with raw data and with filtered data)\n",
    "\n",
    "And finally I presented my conclusions regarding the performed A/B test.\n"
   ]
  },
  {
   "cell_type": "markdown",
   "metadata": {},
   "source": [
    "## Part 1: Prioritizing Hypotheses"
   ]
  },
  {
   "cell_type": "code",
   "execution_count": 1,
   "metadata": {},
   "outputs": [
    {
     "name": "stdout",
     "output_type": "stream",
     "text": [
      "Defaulting to user installation because normal site-packages is not writeable\n",
      "Collecting sidetable\n",
      "  Downloading sidetable-0.9.0-py3-none-any.whl (17 kB)\n",
      "Collecting pandas>=1.0\n",
      "  Downloading pandas-1.3.5-cp37-cp37m-manylinux_2_17_x86_64.manylinux2014_x86_64.whl (11.3 MB)\n",
      "\u001b[K     |████████████████████████████████| 11.3 MB 50 kB/s eta 0:00:011\n",
      "\u001b[?25hRequirement already satisfied: python-dateutil>=2.7.3 in /opt/conda/lib/python3.7/site-packages (from pandas>=1.0->sidetable) (2.8.1)\n",
      "Requirement already satisfied: pytz>=2017.3 in /opt/conda/lib/python3.7/site-packages (from pandas>=1.0->sidetable) (2021.1)\n",
      "Requirement already satisfied: numpy>=1.17.3; platform_machine != \"aarch64\" and platform_machine != \"arm64\" and python_version < \"3.10\" in /opt/conda/lib/python3.7/site-packages (from pandas>=1.0->sidetable) (1.19.5)\n",
      "Requirement already satisfied: six>=1.5 in /opt/conda/lib/python3.7/site-packages (from python-dateutil>=2.7.3->pandas>=1.0->sidetable) (1.15.0)\n",
      "Installing collected packages: pandas, sidetable\n",
      "Successfully installed pandas-1.3.5 sidetable-0.9.0\n"
     ]
    }
   ],
   "source": [
    "!pip install sidetable"
   ]
  },
  {
   "cell_type": "code",
   "execution_count": 2,
   "metadata": {},
   "outputs": [],
   "source": [
    "#import libraries\n",
    "import pandas as pd\n",
    "import sidetable\n",
    "import matplotlib.pyplot as plt\n",
    "import numpy as np\n",
    "import math\n",
    "from scipy import stats"
   ]
  },
  {
   "cell_type": "code",
   "execution_count": 3,
   "metadata": {},
   "outputs": [],
   "source": [
    "#download the datasets\n",
    "try:\n",
    "    hypotheses = pd.read_csv('/datasets/hypotheses_us.csv', sep = ';')\n",
    "except:\n",
    "    print('An error has occured with \"hypotheses_us\" file reading')"
   ]
  },
  {
   "cell_type": "code",
   "execution_count": 4,
   "metadata": {},
   "outputs": [
    {
     "data": {
      "text/html": [
       "<div>\n",
       "<style scoped>\n",
       "    .dataframe tbody tr th:only-of-type {\n",
       "        vertical-align: middle;\n",
       "    }\n",
       "\n",
       "    .dataframe tbody tr th {\n",
       "        vertical-align: top;\n",
       "    }\n",
       "\n",
       "    .dataframe thead th {\n",
       "        text-align: right;\n",
       "    }\n",
       "</style>\n",
       "<table border=\"1\" class=\"dataframe\">\n",
       "  <thead>\n",
       "    <tr style=\"text-align: right;\">\n",
       "      <th></th>\n",
       "      <th>Hypothesis</th>\n",
       "      <th>Reach</th>\n",
       "      <th>Impact</th>\n",
       "      <th>Confidence</th>\n",
       "      <th>Effort</th>\n",
       "    </tr>\n",
       "  </thead>\n",
       "  <tbody>\n",
       "    <tr>\n",
       "      <th>0</th>\n",
       "      <td>Add two new channels for attracting traffic. This will bring 30% more users</td>\n",
       "      <td>3</td>\n",
       "      <td>10</td>\n",
       "      <td>8</td>\n",
       "      <td>6</td>\n",
       "    </tr>\n",
       "    <tr>\n",
       "      <th>1</th>\n",
       "      <td>Launch your own delivery service. This will shorten delivery time</td>\n",
       "      <td>2</td>\n",
       "      <td>5</td>\n",
       "      <td>4</td>\n",
       "      <td>10</td>\n",
       "    </tr>\n",
       "    <tr>\n",
       "      <th>2</th>\n",
       "      <td>Add product recommendation blocks to the store's site. This will increase conversion and average purchase size</td>\n",
       "      <td>8</td>\n",
       "      <td>3</td>\n",
       "      <td>7</td>\n",
       "      <td>3</td>\n",
       "    </tr>\n",
       "    <tr>\n",
       "      <th>3</th>\n",
       "      <td>Change the category structure. This will increase conversion since users will find the products they want more quickly</td>\n",
       "      <td>8</td>\n",
       "      <td>3</td>\n",
       "      <td>3</td>\n",
       "      <td>8</td>\n",
       "    </tr>\n",
       "    <tr>\n",
       "      <th>4</th>\n",
       "      <td>Change the background color on the main page. This will increase user engagement</td>\n",
       "      <td>3</td>\n",
       "      <td>1</td>\n",
       "      <td>1</td>\n",
       "      <td>1</td>\n",
       "    </tr>\n",
       "    <tr>\n",
       "      <th>5</th>\n",
       "      <td>Add a customer review page. This will increase the number of orders</td>\n",
       "      <td>3</td>\n",
       "      <td>2</td>\n",
       "      <td>2</td>\n",
       "      <td>3</td>\n",
       "    </tr>\n",
       "    <tr>\n",
       "      <th>6</th>\n",
       "      <td>Show banners with current offers and sales on the main page. This will boost conversion</td>\n",
       "      <td>5</td>\n",
       "      <td>3</td>\n",
       "      <td>8</td>\n",
       "      <td>3</td>\n",
       "    </tr>\n",
       "    <tr>\n",
       "      <th>7</th>\n",
       "      <td>Add a subscription form to all the main pages. This will help you compile a mailing list</td>\n",
       "      <td>10</td>\n",
       "      <td>7</td>\n",
       "      <td>8</td>\n",
       "      <td>5</td>\n",
       "    </tr>\n",
       "    <tr>\n",
       "      <th>8</th>\n",
       "      <td>Launch a promotion that gives users discounts on their birthdays</td>\n",
       "      <td>1</td>\n",
       "      <td>9</td>\n",
       "      <td>9</td>\n",
       "      <td>5</td>\n",
       "    </tr>\n",
       "  </tbody>\n",
       "</table>\n",
       "</div>"
      ],
      "text/plain": [
       "                                                                                                               Hypothesis  \\\n",
       "0                                             Add two new channels for attracting traffic. This will bring 30% more users   \n",
       "1                                                       Launch your own delivery service. This will shorten delivery time   \n",
       "2          Add product recommendation blocks to the store's site. This will increase conversion and average purchase size   \n",
       "3  Change the category structure. This will increase conversion since users will find the products they want more quickly   \n",
       "4                                        Change the background color on the main page. This will increase user engagement   \n",
       "5                                                     Add a customer review page. This will increase the number of orders   \n",
       "6                                 Show banners with current offers and sales on the main page. This will boost conversion   \n",
       "7                                Add a subscription form to all the main pages. This will help you compile a mailing list   \n",
       "8                                                        Launch a promotion that gives users discounts on their birthdays   \n",
       "\n",
       "   Reach  Impact  Confidence  Effort  \n",
       "0      3      10           8       6  \n",
       "1      2       5           4      10  \n",
       "2      8       3           7       3  \n",
       "3      8       3           3       8  \n",
       "4      3       1           1       1  \n",
       "5      3       2           2       3  \n",
       "6      5       3           8       3  \n",
       "7     10       7           8       5  \n",
       "8      1       9           9       5  "
      ]
     },
     "metadata": {},
     "output_type": "display_data"
    }
   ],
   "source": [
    "#looking at the data table \n",
    "pd.set_option(\"display.max_colwidth\", 450)\n",
    "display(hypotheses)"
   ]
  },
  {
   "cell_type": "code",
   "execution_count": 5,
   "metadata": {},
   "outputs": [
    {
     "name": "stdout",
     "output_type": "stream",
     "text": [
      "<class 'pandas.core.frame.DataFrame'>\n",
      "RangeIndex: 9 entries, 0 to 8\n",
      "Data columns (total 5 columns):\n",
      " #   Column      Non-Null Count  Dtype \n",
      "---  ------      --------------  ----- \n",
      " 0   Hypothesis  9 non-null      object\n",
      " 1   Reach       9 non-null      int64 \n",
      " 2   Impact      9 non-null      int64 \n",
      " 3   Confidence  9 non-null      int64 \n",
      " 4   Effort      9 non-null      int64 \n",
      "dtypes: int64(4), object(1)\n",
      "memory usage: 488.0+ bytes\n"
     ]
    }
   ],
   "source": [
    "hypotheses.info()"
   ]
  },
  {
   "cell_type": "markdown",
   "metadata": {},
   "source": [
    "We have 9 hypotheses with a reach, impact, confidence and effort score for each one. \n",
    "We will calculate the ICE and RICE frameworks to prioritize these hypotheses."
   ]
  },
  {
   "cell_type": "markdown",
   "metadata": {},
   "source": [
    "ICE and RICE are popular frameworks used to prioritize problems. \n",
    "\n",
    "Reach — how many users will be affected by the update you want to introduce (Only used in RICE)\n",
    "\n",
    "Impact — how strongly this update will affect the users, their experience, and their satisfaction with the product\n",
    "\n",
    "Confidence — how sure you are that your product will affect them in this way\n",
    "\n",
    "Effort — how much will it cost to test the hypothesis"
   ]
  },
  {
   "cell_type": "code",
   "execution_count": 6,
   "metadata": {},
   "outputs": [
    {
     "data": {
      "text/html": [
       "<div>\n",
       "<style scoped>\n",
       "    .dataframe tbody tr th:only-of-type {\n",
       "        vertical-align: middle;\n",
       "    }\n",
       "\n",
       "    .dataframe tbody tr th {\n",
       "        vertical-align: top;\n",
       "    }\n",
       "\n",
       "    .dataframe thead th {\n",
       "        text-align: right;\n",
       "    }\n",
       "</style>\n",
       "<table border=\"1\" class=\"dataframe\">\n",
       "  <thead>\n",
       "    <tr style=\"text-align: right;\">\n",
       "      <th></th>\n",
       "      <th>Hypothesis</th>\n",
       "      <th>Reach</th>\n",
       "      <th>Impact</th>\n",
       "      <th>Confidence</th>\n",
       "      <th>Effort</th>\n",
       "      <th>ICE</th>\n",
       "    </tr>\n",
       "  </thead>\n",
       "  <tbody>\n",
       "    <tr>\n",
       "      <th>8</th>\n",
       "      <td>Launch a promotion that gives users discounts on their birthdays</td>\n",
       "      <td>1</td>\n",
       "      <td>9</td>\n",
       "      <td>9</td>\n",
       "      <td>5</td>\n",
       "      <td>16.20</td>\n",
       "    </tr>\n",
       "    <tr>\n",
       "      <th>0</th>\n",
       "      <td>Add two new channels for attracting traffic. This will bring 30% more users</td>\n",
       "      <td>3</td>\n",
       "      <td>10</td>\n",
       "      <td>8</td>\n",
       "      <td>6</td>\n",
       "      <td>13.33</td>\n",
       "    </tr>\n",
       "    <tr>\n",
       "      <th>7</th>\n",
       "      <td>Add a subscription form to all the main pages. This will help you compile a mailing list</td>\n",
       "      <td>10</td>\n",
       "      <td>7</td>\n",
       "      <td>8</td>\n",
       "      <td>5</td>\n",
       "      <td>11.20</td>\n",
       "    </tr>\n",
       "    <tr>\n",
       "      <th>6</th>\n",
       "      <td>Show banners with current offers and sales on the main page. This will boost conversion</td>\n",
       "      <td>5</td>\n",
       "      <td>3</td>\n",
       "      <td>8</td>\n",
       "      <td>3</td>\n",
       "      <td>8.00</td>\n",
       "    </tr>\n",
       "    <tr>\n",
       "      <th>2</th>\n",
       "      <td>Add product recommendation blocks to the store's site. This will increase conversion and average purchase size</td>\n",
       "      <td>8</td>\n",
       "      <td>3</td>\n",
       "      <td>7</td>\n",
       "      <td>3</td>\n",
       "      <td>7.00</td>\n",
       "    </tr>\n",
       "    <tr>\n",
       "      <th>1</th>\n",
       "      <td>Launch your own delivery service. This will shorten delivery time</td>\n",
       "      <td>2</td>\n",
       "      <td>5</td>\n",
       "      <td>4</td>\n",
       "      <td>10</td>\n",
       "      <td>2.00</td>\n",
       "    </tr>\n",
       "    <tr>\n",
       "      <th>5</th>\n",
       "      <td>Add a customer review page. This will increase the number of orders</td>\n",
       "      <td>3</td>\n",
       "      <td>2</td>\n",
       "      <td>2</td>\n",
       "      <td>3</td>\n",
       "      <td>1.33</td>\n",
       "    </tr>\n",
       "    <tr>\n",
       "      <th>3</th>\n",
       "      <td>Change the category structure. This will increase conversion since users will find the products they want more quickly</td>\n",
       "      <td>8</td>\n",
       "      <td>3</td>\n",
       "      <td>3</td>\n",
       "      <td>8</td>\n",
       "      <td>1.12</td>\n",
       "    </tr>\n",
       "    <tr>\n",
       "      <th>4</th>\n",
       "      <td>Change the background color on the main page. This will increase user engagement</td>\n",
       "      <td>3</td>\n",
       "      <td>1</td>\n",
       "      <td>1</td>\n",
       "      <td>1</td>\n",
       "      <td>1.00</td>\n",
       "    </tr>\n",
       "  </tbody>\n",
       "</table>\n",
       "</div>"
      ],
      "text/plain": [
       "                                                                                                               Hypothesis  \\\n",
       "8                                                        Launch a promotion that gives users discounts on their birthdays   \n",
       "0                                             Add two new channels for attracting traffic. This will bring 30% more users   \n",
       "7                                Add a subscription form to all the main pages. This will help you compile a mailing list   \n",
       "6                                 Show banners with current offers and sales on the main page. This will boost conversion   \n",
       "2          Add product recommendation blocks to the store's site. This will increase conversion and average purchase size   \n",
       "1                                                       Launch your own delivery service. This will shorten delivery time   \n",
       "5                                                     Add a customer review page. This will increase the number of orders   \n",
       "3  Change the category structure. This will increase conversion since users will find the products they want more quickly   \n",
       "4                                        Change the background color on the main page. This will increase user engagement   \n",
       "\n",
       "   Reach  Impact  Confidence  Effort    ICE  \n",
       "8      1       9           9       5  16.20  \n",
       "0      3      10           8       6  13.33  \n",
       "7     10       7           8       5  11.20  \n",
       "6      5       3           8       3   8.00  \n",
       "2      8       3           7       3   7.00  \n",
       "1      2       5           4      10   2.00  \n",
       "5      3       2           2       3   1.33  \n",
       "3      8       3           3       8   1.12  \n",
       "4      3       1           1       1   1.00  "
      ]
     },
     "metadata": {},
     "output_type": "display_data"
    }
   ],
   "source": [
    "#calculating ICE\n",
    "hypotheses['ICE'] = hypotheses['Impact'] * hypotheses['Confidence'] / hypotheses['Effort']\n",
    "pd.set_option(\"display.max_colwidth\", 450)\n",
    "display(hypotheses.sort_values(by = 'ICE', ascending = False).round(2))"
   ]
  },
  {
   "cell_type": "markdown",
   "metadata": {},
   "source": [
    "We can learn that according to the ICE method hypotheses number 8 is ranked in the highest priority for us."
   ]
  },
  {
   "cell_type": "code",
   "execution_count": 7,
   "metadata": {},
   "outputs": [
    {
     "data": {
      "text/html": [
       "<div>\n",
       "<style scoped>\n",
       "    .dataframe tbody tr th:only-of-type {\n",
       "        vertical-align: middle;\n",
       "    }\n",
       "\n",
       "    .dataframe tbody tr th {\n",
       "        vertical-align: top;\n",
       "    }\n",
       "\n",
       "    .dataframe thead th {\n",
       "        text-align: right;\n",
       "    }\n",
       "</style>\n",
       "<table border=\"1\" class=\"dataframe\">\n",
       "  <thead>\n",
       "    <tr style=\"text-align: right;\">\n",
       "      <th></th>\n",
       "      <th>Hypothesis</th>\n",
       "      <th>Reach</th>\n",
       "      <th>Impact</th>\n",
       "      <th>Confidence</th>\n",
       "      <th>Effort</th>\n",
       "      <th>ICE</th>\n",
       "      <th>RICE</th>\n",
       "    </tr>\n",
       "  </thead>\n",
       "  <tbody>\n",
       "    <tr>\n",
       "      <th>7</th>\n",
       "      <td>Add a subscription form to all the main pages. This will help you compile a mailing list</td>\n",
       "      <td>10</td>\n",
       "      <td>7</td>\n",
       "      <td>8</td>\n",
       "      <td>5</td>\n",
       "      <td>11.20</td>\n",
       "      <td>112.0</td>\n",
       "    </tr>\n",
       "    <tr>\n",
       "      <th>2</th>\n",
       "      <td>Add product recommendation blocks to the store's site. This will increase conversion and average purchase size</td>\n",
       "      <td>8</td>\n",
       "      <td>3</td>\n",
       "      <td>7</td>\n",
       "      <td>3</td>\n",
       "      <td>7.00</td>\n",
       "      <td>56.0</td>\n",
       "    </tr>\n",
       "    <tr>\n",
       "      <th>0</th>\n",
       "      <td>Add two new channels for attracting traffic. This will bring 30% more users</td>\n",
       "      <td>3</td>\n",
       "      <td>10</td>\n",
       "      <td>8</td>\n",
       "      <td>6</td>\n",
       "      <td>13.33</td>\n",
       "      <td>40.0</td>\n",
       "    </tr>\n",
       "    <tr>\n",
       "      <th>6</th>\n",
       "      <td>Show banners with current offers and sales on the main page. This will boost conversion</td>\n",
       "      <td>5</td>\n",
       "      <td>3</td>\n",
       "      <td>8</td>\n",
       "      <td>3</td>\n",
       "      <td>8.00</td>\n",
       "      <td>40.0</td>\n",
       "    </tr>\n",
       "    <tr>\n",
       "      <th>8</th>\n",
       "      <td>Launch a promotion that gives users discounts on their birthdays</td>\n",
       "      <td>1</td>\n",
       "      <td>9</td>\n",
       "      <td>9</td>\n",
       "      <td>5</td>\n",
       "      <td>16.20</td>\n",
       "      <td>16.2</td>\n",
       "    </tr>\n",
       "    <tr>\n",
       "      <th>3</th>\n",
       "      <td>Change the category structure. This will increase conversion since users will find the products they want more quickly</td>\n",
       "      <td>8</td>\n",
       "      <td>3</td>\n",
       "      <td>3</td>\n",
       "      <td>8</td>\n",
       "      <td>1.12</td>\n",
       "      <td>9.0</td>\n",
       "    </tr>\n",
       "    <tr>\n",
       "      <th>1</th>\n",
       "      <td>Launch your own delivery service. This will shorten delivery time</td>\n",
       "      <td>2</td>\n",
       "      <td>5</td>\n",
       "      <td>4</td>\n",
       "      <td>10</td>\n",
       "      <td>2.00</td>\n",
       "      <td>4.0</td>\n",
       "    </tr>\n",
       "    <tr>\n",
       "      <th>5</th>\n",
       "      <td>Add a customer review page. This will increase the number of orders</td>\n",
       "      <td>3</td>\n",
       "      <td>2</td>\n",
       "      <td>2</td>\n",
       "      <td>3</td>\n",
       "      <td>1.33</td>\n",
       "      <td>4.0</td>\n",
       "    </tr>\n",
       "    <tr>\n",
       "      <th>4</th>\n",
       "      <td>Change the background color on the main page. This will increase user engagement</td>\n",
       "      <td>3</td>\n",
       "      <td>1</td>\n",
       "      <td>1</td>\n",
       "      <td>1</td>\n",
       "      <td>1.00</td>\n",
       "      <td>3.0</td>\n",
       "    </tr>\n",
       "  </tbody>\n",
       "</table>\n",
       "</div>"
      ],
      "text/plain": [
       "                                                                                                               Hypothesis  \\\n",
       "7                                Add a subscription form to all the main pages. This will help you compile a mailing list   \n",
       "2          Add product recommendation blocks to the store's site. This will increase conversion and average purchase size   \n",
       "0                                             Add two new channels for attracting traffic. This will bring 30% more users   \n",
       "6                                 Show banners with current offers and sales on the main page. This will boost conversion   \n",
       "8                                                        Launch a promotion that gives users discounts on their birthdays   \n",
       "3  Change the category structure. This will increase conversion since users will find the products they want more quickly   \n",
       "1                                                       Launch your own delivery service. This will shorten delivery time   \n",
       "5                                                     Add a customer review page. This will increase the number of orders   \n",
       "4                                        Change the background color on the main page. This will increase user engagement   \n",
       "\n",
       "   Reach  Impact  Confidence  Effort    ICE   RICE  \n",
       "7     10       7           8       5  11.20  112.0  \n",
       "2      8       3           7       3   7.00   56.0  \n",
       "0      3      10           8       6  13.33   40.0  \n",
       "6      5       3           8       3   8.00   40.0  \n",
       "8      1       9           9       5  16.20   16.2  \n",
       "3      8       3           3       8   1.12    9.0  \n",
       "1      2       5           4      10   2.00    4.0  \n",
       "5      3       2           2       3   1.33    4.0  \n",
       "4      3       1           1       1   1.00    3.0  "
      ]
     },
     "metadata": {},
     "output_type": "display_data"
    }
   ],
   "source": [
    "#calculating RICE\n",
    "hypotheses['RICE'] = hypotheses['Reach'] * hypotheses['Impact'] * hypotheses['Confidence'] / hypotheses['Effort']\n",
    "pd.set_option(\"display.max_colwidth\", 450)\n",
    "display(hypotheses.sort_values(by = 'RICE', ascending = False).round(2))"
   ]
  },
  {
   "cell_type": "code",
   "execution_count": 8,
   "metadata": {},
   "outputs": [
    {
     "data": {
      "image/png": "[encoded data removed]",
      "text/plain": [
       "<Figure size 936x648 with 1 Axes>"
      ]
     },
     "metadata": {
      "needs_background": "light"
     },
     "output_type": "display_data"
    }
   ],
   "source": [
    "plt.figure(figsize = (13,9))\n",
    "plt.scatter(hypotheses['Hypothesis'],hypotheses['ICE'], label = 'ICE score')\n",
    "plt.scatter(hypotheses['Hypothesis'],hypotheses['RICE'], label = 'RICE score')\n",
    "plt.title('Hypothesis ICE & RICE scores scatter plot' )\n",
    "plt.legend(loc = 'upper left')\n",
    "plt.xticks(rotation = 90)\n",
    "plt.show()"
   ]
  },
  {
   "cell_type": "markdown",
   "metadata": {},
   "source": [
    "According to the RICE method when we take into consideration the Reach factor, hypotheses number 7 gets the highest priority while hypotheses number 8 is legging in the 5th place. This happens because the Reach factor for hypotheses number 7 is much higher than for hypotheses number 8 (10 vs 1) and we ignored this when we calculated ICE previously. \n",
    "We may have higher confidence in number 8 and the impact might be greater with the same effort but we will reach less users with this hypotheses."
   ]
  },
  {
   "cell_type": "markdown",
   "metadata": {},
   "source": [
    "## Part 2: A/B Test Analysis"
   ]
  },
  {
   "cell_type": "code",
   "execution_count": 9,
   "metadata": {},
   "outputs": [],
   "source": [
    "#download the datasets\n",
    "try:\n",
    "    visits = pd.read_csv('/datasets/visits_us.csv', sep = ',')\n",
    "except:\n",
    "    print('An error has occured with \"visits_us\" file reading')"
   ]
  },
  {
   "cell_type": "code",
   "execution_count": 10,
   "metadata": {},
   "outputs": [],
   "source": [
    "#download the datasets\n",
    "try:\n",
    "    orders = pd.read_csv('/datasets/orders_us.csv', sep = ',')\n",
    "except:\n",
    "    print('An error has occured with \"orders_us\" file reading')"
   ]
  },
  {
   "cell_type": "code",
   "execution_count": 11,
   "metadata": {},
   "outputs": [
    {
     "data": {
      "text/html": [
       "<div>\n",
       "<style scoped>\n",
       "    .dataframe tbody tr th:only-of-type {\n",
       "        vertical-align: middle;\n",
       "    }\n",
       "\n",
       "    .dataframe tbody tr th {\n",
       "        vertical-align: top;\n",
       "    }\n",
       "\n",
       "    .dataframe thead th {\n",
       "        text-align: right;\n",
       "    }\n",
       "</style>\n",
       "<table border=\"1\" class=\"dataframe\">\n",
       "  <thead>\n",
       "    <tr style=\"text-align: right;\">\n",
       "      <th></th>\n",
       "      <th>date</th>\n",
       "      <th>group</th>\n",
       "      <th>visits</th>\n",
       "    </tr>\n",
       "  </thead>\n",
       "  <tbody>\n",
       "    <tr>\n",
       "      <th>0</th>\n",
       "      <td>2019-08-01</td>\n",
       "      <td>A</td>\n",
       "      <td>719</td>\n",
       "    </tr>\n",
       "    <tr>\n",
       "      <th>1</th>\n",
       "      <td>2019-08-02</td>\n",
       "      <td>A</td>\n",
       "      <td>619</td>\n",
       "    </tr>\n",
       "    <tr>\n",
       "      <th>2</th>\n",
       "      <td>2019-08-03</td>\n",
       "      <td>A</td>\n",
       "      <td>507</td>\n",
       "    </tr>\n",
       "    <tr>\n",
       "      <th>3</th>\n",
       "      <td>2019-08-04</td>\n",
       "      <td>A</td>\n",
       "      <td>717</td>\n",
       "    </tr>\n",
       "    <tr>\n",
       "      <th>4</th>\n",
       "      <td>2019-08-05</td>\n",
       "      <td>A</td>\n",
       "      <td>756</td>\n",
       "    </tr>\n",
       "    <tr>\n",
       "      <th>5</th>\n",
       "      <td>2019-08-06</td>\n",
       "      <td>A</td>\n",
       "      <td>667</td>\n",
       "    </tr>\n",
       "    <tr>\n",
       "      <th>6</th>\n",
       "      <td>2019-08-07</td>\n",
       "      <td>A</td>\n",
       "      <td>644</td>\n",
       "    </tr>\n",
       "    <tr>\n",
       "      <th>7</th>\n",
       "      <td>2019-08-08</td>\n",
       "      <td>A</td>\n",
       "      <td>610</td>\n",
       "    </tr>\n",
       "    <tr>\n",
       "      <th>8</th>\n",
       "      <td>2019-08-09</td>\n",
       "      <td>A</td>\n",
       "      <td>617</td>\n",
       "    </tr>\n",
       "    <tr>\n",
       "      <th>9</th>\n",
       "      <td>2019-08-10</td>\n",
       "      <td>A</td>\n",
       "      <td>406</td>\n",
       "    </tr>\n",
       "  </tbody>\n",
       "</table>\n",
       "</div>"
      ],
      "text/plain": [
       "         date group  visits\n",
       "0  2019-08-01     A     719\n",
       "1  2019-08-02     A     619\n",
       "2  2019-08-03     A     507\n",
       "3  2019-08-04     A     717\n",
       "4  2019-08-05     A     756\n",
       "5  2019-08-06     A     667\n",
       "6  2019-08-07     A     644\n",
       "7  2019-08-08     A     610\n",
       "8  2019-08-09     A     617\n",
       "9  2019-08-10     A     406"
      ]
     },
     "metadata": {},
     "output_type": "display_data"
    }
   ],
   "source": [
    "#looking at the visits data\n",
    "display(visits.head(10))"
   ]
  },
  {
   "cell_type": "markdown",
   "metadata": {},
   "source": [
    "The visits data set includes the date of the visit, the visit group (A/B) and the number of visits on this day."
   ]
  },
  {
   "cell_type": "code",
   "execution_count": 12,
   "metadata": {},
   "outputs": [
    {
     "name": "stdout",
     "output_type": "stream",
     "text": [
      "<class 'pandas.core.frame.DataFrame'>\n",
      "RangeIndex: 62 entries, 0 to 61\n",
      "Data columns (total 3 columns):\n",
      " #   Column  Non-Null Count  Dtype \n",
      "---  ------  --------------  ----- \n",
      " 0   date    62 non-null     object\n",
      " 1   group   62 non-null     object\n",
      " 2   visits  62 non-null     int64 \n",
      "dtypes: int64(1), object(2)\n",
      "memory usage: 1.6+ KB\n"
     ]
    }
   ],
   "source": [
    "visits.info()"
   ]
  },
  {
   "cell_type": "markdown",
   "metadata": {},
   "source": [
    "The visits dataset includes 62 rows. The date data type is object, we will change it to datetime type."
   ]
  },
  {
   "cell_type": "code",
   "execution_count": 13,
   "metadata": {},
   "outputs": [
    {
     "data": {
      "text/html": [
       "<div>\n",
       "<style scoped>\n",
       "    .dataframe tbody tr th:only-of-type {\n",
       "        vertical-align: middle;\n",
       "    }\n",
       "\n",
       "    .dataframe tbody tr th {\n",
       "        vertical-align: top;\n",
       "    }\n",
       "\n",
       "    .dataframe thead th {\n",
       "        text-align: right;\n",
       "    }\n",
       "</style>\n",
       "<table border=\"1\" class=\"dataframe\">\n",
       "  <thead>\n",
       "    <tr style=\"text-align: right;\">\n",
       "      <th></th>\n",
       "      <th>date</th>\n",
       "      <th>group</th>\n",
       "      <th>visits</th>\n",
       "    </tr>\n",
       "  </thead>\n",
       "  <tbody>\n",
       "    <tr>\n",
       "      <th>count</th>\n",
       "      <td>62</td>\n",
       "      <td>62</td>\n",
       "      <td>62.000000</td>\n",
       "    </tr>\n",
       "    <tr>\n",
       "      <th>unique</th>\n",
       "      <td>31</td>\n",
       "      <td>2</td>\n",
       "      <td>NaN</td>\n",
       "    </tr>\n",
       "    <tr>\n",
       "      <th>top</th>\n",
       "      <td>2019-08-01</td>\n",
       "      <td>A</td>\n",
       "      <td>NaN</td>\n",
       "    </tr>\n",
       "    <tr>\n",
       "      <th>freq</th>\n",
       "      <td>2</td>\n",
       "      <td>31</td>\n",
       "      <td>NaN</td>\n",
       "    </tr>\n",
       "    <tr>\n",
       "      <th>mean</th>\n",
       "      <td>NaN</td>\n",
       "      <td>NaN</td>\n",
       "      <td>607.290323</td>\n",
       "    </tr>\n",
       "    <tr>\n",
       "      <th>std</th>\n",
       "      <td>NaN</td>\n",
       "      <td>NaN</td>\n",
       "      <td>114.400560</td>\n",
       "    </tr>\n",
       "    <tr>\n",
       "      <th>min</th>\n",
       "      <td>NaN</td>\n",
       "      <td>NaN</td>\n",
       "      <td>361.000000</td>\n",
       "    </tr>\n",
       "    <tr>\n",
       "      <th>25%</th>\n",
       "      <td>NaN</td>\n",
       "      <td>NaN</td>\n",
       "      <td>534.000000</td>\n",
       "    </tr>\n",
       "    <tr>\n",
       "      <th>50%</th>\n",
       "      <td>NaN</td>\n",
       "      <td>NaN</td>\n",
       "      <td>624.500000</td>\n",
       "    </tr>\n",
       "    <tr>\n",
       "      <th>75%</th>\n",
       "      <td>NaN</td>\n",
       "      <td>NaN</td>\n",
       "      <td>710.500000</td>\n",
       "    </tr>\n",
       "    <tr>\n",
       "      <th>max</th>\n",
       "      <td>NaN</td>\n",
       "      <td>NaN</td>\n",
       "      <td>770.000000</td>\n",
       "    </tr>\n",
       "  </tbody>\n",
       "</table>\n",
       "</div>"
      ],
      "text/plain": [
       "              date group      visits\n",
       "count           62    62   62.000000\n",
       "unique          31     2         NaN\n",
       "top     2019-08-01     A         NaN\n",
       "freq             2    31         NaN\n",
       "mean           NaN   NaN  607.290323\n",
       "std            NaN   NaN  114.400560\n",
       "min            NaN   NaN  361.000000\n",
       "25%            NaN   NaN  534.000000\n",
       "50%            NaN   NaN  624.500000\n",
       "75%            NaN   NaN  710.500000\n",
       "max            NaN   NaN  770.000000"
      ]
     },
     "execution_count": 13,
     "metadata": {},
     "output_type": "execute_result"
    }
   ],
   "source": [
    "visits.describe(include = 'all')"
   ]
  },
  {
   "cell_type": "markdown",
   "metadata": {},
   "source": [
    "This dataset includes 62 rows , with 31 dates (for each group). We can see we have equal amount of dates for A and B groups. The number of visits per day vary between 361 - 770, with a mean of 607 and std of 114. "
   ]
  },
  {
   "cell_type": "code",
   "execution_count": 14,
   "metadata": {},
   "outputs": [
    {
     "data": {
      "text/html": [
       "<style type=\"text/css\">\n",
       "</style>\n",
       "<table id=\"T_993b6_\">\n",
       "  <thead>\n",
       "    <tr>\n",
       "      <th class=\"blank level0\" >&nbsp;</th>\n",
       "      <th class=\"col_heading level0 col0\" >missing</th>\n",
       "      <th class=\"col_heading level0 col1\" >total</th>\n",
       "      <th class=\"col_heading level0 col2\" >percent</th>\n",
       "    </tr>\n",
       "  </thead>\n",
       "  <tbody>\n",
       "    <tr>\n",
       "      <th id=\"T_993b6_level0_row0\" class=\"row_heading level0 row0\" >date</th>\n",
       "      <td id=\"T_993b6_row0_col0\" class=\"data row0 col0\" >0</td>\n",
       "      <td id=\"T_993b6_row0_col1\" class=\"data row0 col1\" >62</td>\n",
       "      <td id=\"T_993b6_row0_col2\" class=\"data row0 col2\" >0.00%</td>\n",
       "    </tr>\n",
       "    <tr>\n",
       "      <th id=\"T_993b6_level0_row1\" class=\"row_heading level0 row1\" >group</th>\n",
       "      <td id=\"T_993b6_row1_col0\" class=\"data row1 col0\" >0</td>\n",
       "      <td id=\"T_993b6_row1_col1\" class=\"data row1 col1\" >62</td>\n",
       "      <td id=\"T_993b6_row1_col2\" class=\"data row1 col2\" >0.00%</td>\n",
       "    </tr>\n",
       "    <tr>\n",
       "      <th id=\"T_993b6_level0_row2\" class=\"row_heading level0 row2\" >visits</th>\n",
       "      <td id=\"T_993b6_row2_col0\" class=\"data row2 col0\" >0</td>\n",
       "      <td id=\"T_993b6_row2_col1\" class=\"data row2 col1\" >62</td>\n",
       "      <td id=\"T_993b6_row2_col2\" class=\"data row2 col2\" >0.00%</td>\n",
       "    </tr>\n",
       "  </tbody>\n",
       "</table>\n"
      ],
      "text/plain": [
       "<pandas.io.formats.style.Styler at 0x7f7ee56f9610>"
      ]
     },
     "execution_count": 14,
     "metadata": {},
     "output_type": "execute_result"
    }
   ],
   "source": [
    "#Looking for missing values in the visits dataset\n",
    "visits.stb.missing(style = True)"
   ]
  },
  {
   "cell_type": "markdown",
   "metadata": {},
   "source": [
    "There are no missing values in the missing dataset."
   ]
  },
  {
   "cell_type": "code",
   "execution_count": 15,
   "metadata": {},
   "outputs": [
    {
     "data": {
      "text/html": [
       "<div>\n",
       "<style scoped>\n",
       "    .dataframe tbody tr th:only-of-type {\n",
       "        vertical-align: middle;\n",
       "    }\n",
       "\n",
       "    .dataframe tbody tr th {\n",
       "        vertical-align: top;\n",
       "    }\n",
       "\n",
       "    .dataframe thead th {\n",
       "        text-align: right;\n",
       "    }\n",
       "</style>\n",
       "<table border=\"1\" class=\"dataframe\">\n",
       "  <thead>\n",
       "    <tr style=\"text-align: right;\">\n",
       "      <th></th>\n",
       "      <th>transactionId</th>\n",
       "      <th>visitorId</th>\n",
       "      <th>date</th>\n",
       "      <th>revenue</th>\n",
       "      <th>group</th>\n",
       "    </tr>\n",
       "  </thead>\n",
       "  <tbody>\n",
       "    <tr>\n",
       "      <th>0</th>\n",
       "      <td>3667963787</td>\n",
       "      <td>3312258926</td>\n",
       "      <td>2019-08-15</td>\n",
       "      <td>30.4</td>\n",
       "      <td>B</td>\n",
       "    </tr>\n",
       "    <tr>\n",
       "      <th>1</th>\n",
       "      <td>2804400009</td>\n",
       "      <td>3642806036</td>\n",
       "      <td>2019-08-15</td>\n",
       "      <td>15.2</td>\n",
       "      <td>B</td>\n",
       "    </tr>\n",
       "    <tr>\n",
       "      <th>2</th>\n",
       "      <td>2961555356</td>\n",
       "      <td>4069496402</td>\n",
       "      <td>2019-08-15</td>\n",
       "      <td>10.2</td>\n",
       "      <td>A</td>\n",
       "    </tr>\n",
       "    <tr>\n",
       "      <th>3</th>\n",
       "      <td>3797467345</td>\n",
       "      <td>1196621759</td>\n",
       "      <td>2019-08-15</td>\n",
       "      <td>155.1</td>\n",
       "      <td>B</td>\n",
       "    </tr>\n",
       "    <tr>\n",
       "      <th>4</th>\n",
       "      <td>2282983706</td>\n",
       "      <td>2322279887</td>\n",
       "      <td>2019-08-15</td>\n",
       "      <td>40.5</td>\n",
       "      <td>B</td>\n",
       "    </tr>\n",
       "    <tr>\n",
       "      <th>5</th>\n",
       "      <td>182168103</td>\n",
       "      <td>935554773</td>\n",
       "      <td>2019-08-15</td>\n",
       "      <td>35.0</td>\n",
       "      <td>B</td>\n",
       "    </tr>\n",
       "    <tr>\n",
       "      <th>6</th>\n",
       "      <td>398296753</td>\n",
       "      <td>2900797465</td>\n",
       "      <td>2019-08-15</td>\n",
       "      <td>30.6</td>\n",
       "      <td>B</td>\n",
       "    </tr>\n",
       "    <tr>\n",
       "      <th>7</th>\n",
       "      <td>2626614568</td>\n",
       "      <td>78758296</td>\n",
       "      <td>2019-08-15</td>\n",
       "      <td>20.1</td>\n",
       "      <td>A</td>\n",
       "    </tr>\n",
       "    <tr>\n",
       "      <th>8</th>\n",
       "      <td>1576988021</td>\n",
       "      <td>295230930</td>\n",
       "      <td>2019-08-15</td>\n",
       "      <td>215.9</td>\n",
       "      <td>A</td>\n",
       "    </tr>\n",
       "    <tr>\n",
       "      <th>9</th>\n",
       "      <td>1506739906</td>\n",
       "      <td>1882260405</td>\n",
       "      <td>2019-08-15</td>\n",
       "      <td>30.5</td>\n",
       "      <td>B</td>\n",
       "    </tr>\n",
       "  </tbody>\n",
       "</table>\n",
       "</div>"
      ],
      "text/plain": [
       "   transactionId   visitorId        date  revenue group\n",
       "0     3667963787  3312258926  2019-08-15     30.4     B\n",
       "1     2804400009  3642806036  2019-08-15     15.2     B\n",
       "2     2961555356  4069496402  2019-08-15     10.2     A\n",
       "3     3797467345  1196621759  2019-08-15    155.1     B\n",
       "4     2282983706  2322279887  2019-08-15     40.5     B\n",
       "5      182168103   935554773  2019-08-15     35.0     B\n",
       "6      398296753  2900797465  2019-08-15     30.6     B\n",
       "7     2626614568    78758296  2019-08-15     20.1     A\n",
       "8     1576988021   295230930  2019-08-15    215.9     A\n",
       "9     1506739906  1882260405  2019-08-15     30.5     B"
      ]
     },
     "metadata": {},
     "output_type": "display_data"
    }
   ],
   "source": [
    "#looking at the orders data\n",
    "display(orders.head(10))"
   ]
  },
  {
   "cell_type": "markdown",
   "metadata": {},
   "source": [
    "The orders dataset includes each order transaction ID , the visitor ID, the date of the order, the revnue for this order and the group this visitor belongs to."
   ]
  },
  {
   "cell_type": "code",
   "execution_count": 16,
   "metadata": {},
   "outputs": [
    {
     "name": "stdout",
     "output_type": "stream",
     "text": [
      "<class 'pandas.core.frame.DataFrame'>\n",
      "RangeIndex: 1197 entries, 0 to 1196\n",
      "Data columns (total 5 columns):\n",
      " #   Column         Non-Null Count  Dtype  \n",
      "---  ------         --------------  -----  \n",
      " 0   transactionId  1197 non-null   int64  \n",
      " 1   visitorId      1197 non-null   int64  \n",
      " 2   date           1197 non-null   object \n",
      " 3   revenue        1197 non-null   float64\n",
      " 4   group          1197 non-null   object \n",
      "dtypes: float64(1), int64(2), object(2)\n",
      "memory usage: 46.9+ KB\n"
     ]
    }
   ],
   "source": [
    "orders.info()"
   ]
  },
  {
   "cell_type": "markdown",
   "metadata": {},
   "source": [
    "The orders data set includes 1197 rows. The date type is object, we will change it to datetime type."
   ]
  },
  {
   "cell_type": "code",
   "execution_count": 17,
   "metadata": {},
   "outputs": [
    {
     "data": {
      "text/html": [
       "<div>\n",
       "<style scoped>\n",
       "    .dataframe tbody tr th:only-of-type {\n",
       "        vertical-align: middle;\n",
       "    }\n",
       "\n",
       "    .dataframe tbody tr th {\n",
       "        vertical-align: top;\n",
       "    }\n",
       "\n",
       "    .dataframe thead th {\n",
       "        text-align: right;\n",
       "    }\n",
       "</style>\n",
       "<table border=\"1\" class=\"dataframe\">\n",
       "  <thead>\n",
       "    <tr style=\"text-align: right;\">\n",
       "      <th></th>\n",
       "      <th>transactionId</th>\n",
       "      <th>visitorId</th>\n",
       "      <th>date</th>\n",
       "      <th>revenue</th>\n",
       "      <th>group</th>\n",
       "    </tr>\n",
       "  </thead>\n",
       "  <tbody>\n",
       "    <tr>\n",
       "      <th>count</th>\n",
       "      <td>1.197000e+03</td>\n",
       "      <td>1.197000e+03</td>\n",
       "      <td>1197</td>\n",
       "      <td>1197.000000</td>\n",
       "      <td>1197</td>\n",
       "    </tr>\n",
       "    <tr>\n",
       "      <th>unique</th>\n",
       "      <td>NaN</td>\n",
       "      <td>NaN</td>\n",
       "      <td>31</td>\n",
       "      <td>NaN</td>\n",
       "      <td>2</td>\n",
       "    </tr>\n",
       "    <tr>\n",
       "      <th>top</th>\n",
       "      <td>NaN</td>\n",
       "      <td>NaN</td>\n",
       "      <td>2019-08-05</td>\n",
       "      <td>NaN</td>\n",
       "      <td>B</td>\n",
       "    </tr>\n",
       "    <tr>\n",
       "      <th>freq</th>\n",
       "      <td>NaN</td>\n",
       "      <td>NaN</td>\n",
       "      <td>48</td>\n",
       "      <td>NaN</td>\n",
       "      <td>640</td>\n",
       "    </tr>\n",
       "    <tr>\n",
       "      <th>mean</th>\n",
       "      <td>2.155621e+09</td>\n",
       "      <td>2.165960e+09</td>\n",
       "      <td>NaN</td>\n",
       "      <td>131.491646</td>\n",
       "      <td>NaN</td>\n",
       "    </tr>\n",
       "    <tr>\n",
       "      <th>std</th>\n",
       "      <td>1.229085e+09</td>\n",
       "      <td>1.236014e+09</td>\n",
       "      <td>NaN</td>\n",
       "      <td>603.004729</td>\n",
       "      <td>NaN</td>\n",
       "    </tr>\n",
       "    <tr>\n",
       "      <th>min</th>\n",
       "      <td>1.062393e+06</td>\n",
       "      <td>5.114589e+06</td>\n",
       "      <td>NaN</td>\n",
       "      <td>5.000000</td>\n",
       "      <td>NaN</td>\n",
       "    </tr>\n",
       "    <tr>\n",
       "      <th>25%</th>\n",
       "      <td>1.166776e+09</td>\n",
       "      <td>1.111826e+09</td>\n",
       "      <td>NaN</td>\n",
       "      <td>20.800000</td>\n",
       "      <td>NaN</td>\n",
       "    </tr>\n",
       "    <tr>\n",
       "      <th>50%</th>\n",
       "      <td>2.145194e+09</td>\n",
       "      <td>2.217985e+09</td>\n",
       "      <td>NaN</td>\n",
       "      <td>50.200000</td>\n",
       "      <td>NaN</td>\n",
       "    </tr>\n",
       "    <tr>\n",
       "      <th>75%</th>\n",
       "      <td>3.237740e+09</td>\n",
       "      <td>3.177606e+09</td>\n",
       "      <td>NaN</td>\n",
       "      <td>130.400000</td>\n",
       "      <td>NaN</td>\n",
       "    </tr>\n",
       "    <tr>\n",
       "      <th>max</th>\n",
       "      <td>4.293856e+09</td>\n",
       "      <td>4.283872e+09</td>\n",
       "      <td>NaN</td>\n",
       "      <td>19920.400000</td>\n",
       "      <td>NaN</td>\n",
       "    </tr>\n",
       "  </tbody>\n",
       "</table>\n",
       "</div>"
      ],
      "text/plain": [
       "        transactionId     visitorId        date       revenue group\n",
       "count    1.197000e+03  1.197000e+03        1197   1197.000000  1197\n",
       "unique            NaN           NaN          31           NaN     2\n",
       "top               NaN           NaN  2019-08-05           NaN     B\n",
       "freq              NaN           NaN          48           NaN   640\n",
       "mean     2.155621e+09  2.165960e+09         NaN    131.491646   NaN\n",
       "std      1.229085e+09  1.236014e+09         NaN    603.004729   NaN\n",
       "min      1.062393e+06  5.114589e+06         NaN      5.000000   NaN\n",
       "25%      1.166776e+09  1.111826e+09         NaN     20.800000   NaN\n",
       "50%      2.145194e+09  2.217985e+09         NaN     50.200000   NaN\n",
       "75%      3.237740e+09  3.177606e+09         NaN    130.400000   NaN\n",
       "max      4.293856e+09  4.283872e+09         NaN  19920.400000   NaN"
      ]
     },
     "execution_count": 17,
     "metadata": {},
     "output_type": "execute_result"
    }
   ],
   "source": [
    "orders.describe(include = 'all')"
   ]
  },
  {
   "cell_type": "markdown",
   "metadata": {},
   "source": [
    "We have 31 unique dates, as expected from the visits table, group B made more orders (640). \n",
    "The revenue from each order varies from 5 to 19920 USD, very large range. "
   ]
  },
  {
   "cell_type": "code",
   "execution_count": 18,
   "metadata": {},
   "outputs": [
    {
     "data": {
      "text/html": [
       "<style type=\"text/css\">\n",
       "</style>\n",
       "<table id=\"T_3561d_\">\n",
       "  <thead>\n",
       "    <tr>\n",
       "      <th class=\"blank level0\" >&nbsp;</th>\n",
       "      <th class=\"col_heading level0 col0\" >missing</th>\n",
       "      <th class=\"col_heading level0 col1\" >total</th>\n",
       "      <th class=\"col_heading level0 col2\" >percent</th>\n",
       "    </tr>\n",
       "  </thead>\n",
       "  <tbody>\n",
       "    <tr>\n",
       "      <th id=\"T_3561d_level0_row0\" class=\"row_heading level0 row0\" >transactionId</th>\n",
       "      <td id=\"T_3561d_row0_col0\" class=\"data row0 col0\" >0</td>\n",
       "      <td id=\"T_3561d_row0_col1\" class=\"data row0 col1\" >1,197</td>\n",
       "      <td id=\"T_3561d_row0_col2\" class=\"data row0 col2\" >0.00%</td>\n",
       "    </tr>\n",
       "    <tr>\n",
       "      <th id=\"T_3561d_level0_row1\" class=\"row_heading level0 row1\" >visitorId</th>\n",
       "      <td id=\"T_3561d_row1_col0\" class=\"data row1 col0\" >0</td>\n",
       "      <td id=\"T_3561d_row1_col1\" class=\"data row1 col1\" >1,197</td>\n",
       "      <td id=\"T_3561d_row1_col2\" class=\"data row1 col2\" >0.00%</td>\n",
       "    </tr>\n",
       "    <tr>\n",
       "      <th id=\"T_3561d_level0_row2\" class=\"row_heading level0 row2\" >date</th>\n",
       "      <td id=\"T_3561d_row2_col0\" class=\"data row2 col0\" >0</td>\n",
       "      <td id=\"T_3561d_row2_col1\" class=\"data row2 col1\" >1,197</td>\n",
       "      <td id=\"T_3561d_row2_col2\" class=\"data row2 col2\" >0.00%</td>\n",
       "    </tr>\n",
       "    <tr>\n",
       "      <th id=\"T_3561d_level0_row3\" class=\"row_heading level0 row3\" >revenue</th>\n",
       "      <td id=\"T_3561d_row3_col0\" class=\"data row3 col0\" >0</td>\n",
       "      <td id=\"T_3561d_row3_col1\" class=\"data row3 col1\" >1,197</td>\n",
       "      <td id=\"T_3561d_row3_col2\" class=\"data row3 col2\" >0.00%</td>\n",
       "    </tr>\n",
       "    <tr>\n",
       "      <th id=\"T_3561d_level0_row4\" class=\"row_heading level0 row4\" >group</th>\n",
       "      <td id=\"T_3561d_row4_col0\" class=\"data row4 col0\" >0</td>\n",
       "      <td id=\"T_3561d_row4_col1\" class=\"data row4 col1\" >1,197</td>\n",
       "      <td id=\"T_3561d_row4_col2\" class=\"data row4 col2\" >0.00%</td>\n",
       "    </tr>\n",
       "  </tbody>\n",
       "</table>\n"
      ],
      "text/plain": [
       "<pandas.io.formats.style.Styler at 0x7f7ee6014a10>"
      ]
     },
     "execution_count": 18,
     "metadata": {},
     "output_type": "execute_result"
    }
   ],
   "source": [
    "#Looking for missing values in the orders dataset\n",
    "orders.stb.missing(style = True)"
   ]
  },
  {
   "cell_type": "markdown",
   "metadata": {},
   "source": [
    "We don't have any missing data in the orders dataset"
   ]
  },
  {
   "cell_type": "code",
   "execution_count": 19,
   "metadata": {},
   "outputs": [
    {
     "data": {
      "text/html": [
       "<div>\n",
       "<style scoped>\n",
       "    .dataframe tbody tr th:only-of-type {\n",
       "        vertical-align: middle;\n",
       "    }\n",
       "\n",
       "    .dataframe tbody tr th {\n",
       "        vertical-align: top;\n",
       "    }\n",
       "\n",
       "    .dataframe thead th {\n",
       "        text-align: right;\n",
       "    }\n",
       "</style>\n",
       "<table border=\"1\" class=\"dataframe\">\n",
       "  <thead>\n",
       "    <tr style=\"text-align: right;\">\n",
       "      <th></th>\n",
       "      <th>visitorId</th>\n",
       "      <th>group</th>\n",
       "    </tr>\n",
       "  </thead>\n",
       "  <tbody>\n",
       "    <tr>\n",
       "      <th>2</th>\n",
       "      <td>8300375</td>\n",
       "      <td>2</td>\n",
       "    </tr>\n",
       "    <tr>\n",
       "      <th>44</th>\n",
       "      <td>199603092</td>\n",
       "      <td>2</td>\n",
       "    </tr>\n",
       "    <tr>\n",
       "      <th>51</th>\n",
       "      <td>232979603</td>\n",
       "      <td>2</td>\n",
       "    </tr>\n",
       "    <tr>\n",
       "      <th>55</th>\n",
       "      <td>237748145</td>\n",
       "      <td>2</td>\n",
       "    </tr>\n",
       "    <tr>\n",
       "      <th>66</th>\n",
       "      <td>276558944</td>\n",
       "      <td>2</td>\n",
       "    </tr>\n",
       "  </tbody>\n",
       "</table>\n",
       "</div>"
      ],
      "text/plain": [
       "    visitorId  group\n",
       "2     8300375      2\n",
       "44  199603092      2\n",
       "51  232979603      2\n",
       "55  237748145      2\n",
       "66  276558944      2"
      ]
     },
     "execution_count": 19,
     "metadata": {},
     "output_type": "execute_result"
    }
   ],
   "source": [
    "# checking to see if we have users that were accidently assigned to both groups\n",
    "duplicates = orders.groupby('visitorId')['group'].nunique().reset_index().query('group > 1')\n",
    "duplicates.head()"
   ]
  },
  {
   "cell_type": "code",
   "execution_count": 20,
   "metadata": {},
   "outputs": [
    {
     "data": {
      "text/plain": [
       "58"
      ]
     },
     "execution_count": 20,
     "metadata": {},
     "output_type": "execute_result"
    }
   ],
   "source": [
    "#checking how many users we have that were assigend to both groups\n",
    "duplicates['visitorId'].count()"
   ]
  },
  {
   "cell_type": "markdown",
   "metadata": {},
   "source": [
    "we have 58 buyers that were assigned to both groups. We will remove these users from the test analysis since their results may distort our analysis. "
   ]
  },
  {
   "cell_type": "code",
   "execution_count": 21,
   "metadata": {},
   "outputs": [],
   "source": [
    "#making a list of visitor IDs from the duplicates table\n",
    "dup_list = list(duplicates['visitorId'])"
   ]
  },
  {
   "cell_type": "code",
   "execution_count": 22,
   "metadata": {},
   "outputs": [
    {
     "data": {
      "text/html": [
       "<div>\n",
       "<style scoped>\n",
       "    .dataframe tbody tr th:only-of-type {\n",
       "        vertical-align: middle;\n",
       "    }\n",
       "\n",
       "    .dataframe tbody tr th {\n",
       "        vertical-align: top;\n",
       "    }\n",
       "\n",
       "    .dataframe thead th {\n",
       "        text-align: right;\n",
       "    }\n",
       "</style>\n",
       "<table border=\"1\" class=\"dataframe\">\n",
       "  <thead>\n",
       "    <tr style=\"text-align: right;\">\n",
       "      <th></th>\n",
       "      <th>transactionId</th>\n",
       "      <th>visitorId</th>\n",
       "      <th>date</th>\n",
       "      <th>revenue</th>\n",
       "      <th>group</th>\n",
       "    </tr>\n",
       "  </thead>\n",
       "  <tbody>\n",
       "    <tr>\n",
       "      <th>0</th>\n",
       "      <td>3667963787</td>\n",
       "      <td>3312258926</td>\n",
       "      <td>2019-08-15</td>\n",
       "      <td>30.4</td>\n",
       "      <td>B</td>\n",
       "    </tr>\n",
       "    <tr>\n",
       "      <th>1</th>\n",
       "      <td>2804400009</td>\n",
       "      <td>3642806036</td>\n",
       "      <td>2019-08-15</td>\n",
       "      <td>15.2</td>\n",
       "      <td>B</td>\n",
       "    </tr>\n",
       "    <tr>\n",
       "      <th>3</th>\n",
       "      <td>3797467345</td>\n",
       "      <td>1196621759</td>\n",
       "      <td>2019-08-15</td>\n",
       "      <td>155.1</td>\n",
       "      <td>B</td>\n",
       "    </tr>\n",
       "    <tr>\n",
       "      <th>4</th>\n",
       "      <td>2282983706</td>\n",
       "      <td>2322279887</td>\n",
       "      <td>2019-08-15</td>\n",
       "      <td>40.5</td>\n",
       "      <td>B</td>\n",
       "    </tr>\n",
       "    <tr>\n",
       "      <th>5</th>\n",
       "      <td>182168103</td>\n",
       "      <td>935554773</td>\n",
       "      <td>2019-08-15</td>\n",
       "      <td>35.0</td>\n",
       "      <td>B</td>\n",
       "    </tr>\n",
       "  </tbody>\n",
       "</table>\n",
       "</div>"
      ],
      "text/plain": [
       "   transactionId   visitorId        date  revenue group\n",
       "0     3667963787  3312258926  2019-08-15     30.4     B\n",
       "1     2804400009  3642806036  2019-08-15     15.2     B\n",
       "3     3797467345  1196621759  2019-08-15    155.1     B\n",
       "4     2282983706  2322279887  2019-08-15     40.5     B\n",
       "5      182168103   935554773  2019-08-15     35.0     B"
      ]
     },
     "execution_count": 22,
     "metadata": {},
     "output_type": "execute_result"
    }
   ],
   "source": [
    "orders_new = orders.query('visitorId not in @dup_list')\n",
    "orders_new.head()"
   ]
  },
  {
   "cell_type": "markdown",
   "metadata": {},
   "source": [
    "Now we have a table for orders that include only users that were assigned either to group A or group B."
   ]
  },
  {
   "cell_type": "code",
   "execution_count": 23,
   "metadata": {},
   "outputs": [
    {
     "name": "stdout",
     "output_type": "stream",
     "text": [
      "<class 'pandas.core.frame.DataFrame'>\n",
      "Int64Index: 1016 entries, 0 to 1196\n",
      "Data columns (total 5 columns):\n",
      " #   Column         Non-Null Count  Dtype         \n",
      "---  ------         --------------  -----         \n",
      " 0   transactionId  1016 non-null   int64         \n",
      " 1   visitorId      1016 non-null   int64         \n",
      " 2   date           1016 non-null   datetime64[ns]\n",
      " 3   revenue        1016 non-null   float64       \n",
      " 4   group          1016 non-null   object        \n",
      "dtypes: datetime64[ns](1), float64(1), int64(2), object(1)\n",
      "memory usage: 47.6+ KB\n"
     ]
    },
    {
     "name": "stderr",
     "output_type": "stream",
     "text": [
      "/opt/conda/lib/python3.7/site-packages/ipykernel_launcher.py:2: SettingWithCopyWarning: \n",
      "A value is trying to be set on a copy of a slice from a DataFrame.\n",
      "Try using .loc[row_indexer,col_indexer] = value instead\n",
      "\n",
      "See the caveats in the documentation: https://pandas.pydata.org/pandas-docs/stable/user_guide/indexing.html#returning-a-view-versus-a-copy\n",
      "  \n"
     ]
    }
   ],
   "source": [
    "#before we starts with the analysis I will change the date data type \n",
    "orders_new['date'] = pd.to_datetime(orders_new['date'])\n",
    "orders_new.info()"
   ]
  },
  {
   "cell_type": "code",
   "execution_count": 24,
   "metadata": {},
   "outputs": [],
   "source": [
    "visits['date'] = pd.to_datetime(visits['date'])"
   ]
  },
  {
   "cell_type": "code",
   "execution_count": 25,
   "metadata": {},
   "outputs": [
    {
     "data": {
      "text/html": [
       "<div>\n",
       "<style scoped>\n",
       "    .dataframe tbody tr th:only-of-type {\n",
       "        vertical-align: middle;\n",
       "    }\n",
       "\n",
       "    .dataframe tbody tr th {\n",
       "        vertical-align: top;\n",
       "    }\n",
       "\n",
       "    .dataframe thead th {\n",
       "        text-align: right;\n",
       "    }\n",
       "</style>\n",
       "<table border=\"1\" class=\"dataframe\">\n",
       "  <thead>\n",
       "    <tr style=\"text-align: right;\">\n",
       "      <th></th>\n",
       "      <th>date</th>\n",
       "      <th>group</th>\n",
       "      <th>visits</th>\n",
       "    </tr>\n",
       "  </thead>\n",
       "  <tbody>\n",
       "  </tbody>\n",
       "</table>\n",
       "</div>"
      ],
      "text/plain": [
       "Empty DataFrame\n",
       "Columns: [date, group, visits]\n",
       "Index: []"
      ]
     },
     "metadata": {},
     "output_type": "display_data"
    }
   ],
   "source": [
    "#looking for duplicates in visits dataset\n",
    "visits_d = visits[visits.duplicated()]\n",
    "display(visits_d)"
   ]
  },
  {
   "cell_type": "code",
   "execution_count": 26,
   "metadata": {},
   "outputs": [
    {
     "data": {
      "text/html": [
       "<div>\n",
       "<style scoped>\n",
       "    .dataframe tbody tr th:only-of-type {\n",
       "        vertical-align: middle;\n",
       "    }\n",
       "\n",
       "    .dataframe tbody tr th {\n",
       "        vertical-align: top;\n",
       "    }\n",
       "\n",
       "    .dataframe thead th {\n",
       "        text-align: right;\n",
       "    }\n",
       "</style>\n",
       "<table border=\"1\" class=\"dataframe\">\n",
       "  <thead>\n",
       "    <tr style=\"text-align: right;\">\n",
       "      <th></th>\n",
       "      <th>transactionId</th>\n",
       "      <th>visitorId</th>\n",
       "      <th>date</th>\n",
       "      <th>revenue</th>\n",
       "      <th>group</th>\n",
       "    </tr>\n",
       "  </thead>\n",
       "  <tbody>\n",
       "  </tbody>\n",
       "</table>\n",
       "</div>"
      ],
      "text/plain": [
       "Empty DataFrame\n",
       "Columns: [transactionId, visitorId, date, revenue, group]\n",
       "Index: []"
      ]
     },
     "metadata": {},
     "output_type": "display_data"
    }
   ],
   "source": [
    "#looking for duplicates in orders dataset\n",
    "orders_d = orders[orders.duplicated()]\n",
    "display(orders_d)"
   ]
  },
  {
   "cell_type": "markdown",
   "metadata": {},
   "source": [
    "There are no duplicated row in our datasets. "
   ]
  },
  {
   "cell_type": "markdown",
   "metadata": {},
   "source": [
    "**Graph cumulative revenue by group. Make conclusions and conjectures.**"
   ]
  },
  {
   "cell_type": "code",
   "execution_count": 27,
   "metadata": {},
   "outputs": [],
   "source": [
    "#creating a table for each test group\n",
    "orders_A = orders_new[orders_new['group'] =='A'].reset_index()\n",
    "orders_B = orders_new[orders_new['group'] =='B'].reset_index()"
   ]
  },
  {
   "cell_type": "code",
   "execution_count": 28,
   "metadata": {},
   "outputs": [
    {
     "data": {
      "text/html": [
       "<div>\n",
       "<style scoped>\n",
       "    .dataframe tbody tr th:only-of-type {\n",
       "        vertical-align: middle;\n",
       "    }\n",
       "\n",
       "    .dataframe tbody tr th {\n",
       "        vertical-align: top;\n",
       "    }\n",
       "\n",
       "    .dataframe thead th {\n",
       "        text-align: right;\n",
       "    }\n",
       "</style>\n",
       "<table border=\"1\" class=\"dataframe\">\n",
       "  <thead>\n",
       "    <tr style=\"text-align: right;\">\n",
       "      <th></th>\n",
       "      <th>date</th>\n",
       "      <th>revenue</th>\n",
       "    </tr>\n",
       "  </thead>\n",
       "  <tbody>\n",
       "    <tr>\n",
       "      <th>0</th>\n",
       "      <td>2019-08-01</td>\n",
       "      <td>2266.6</td>\n",
       "    </tr>\n",
       "    <tr>\n",
       "      <th>1</th>\n",
       "      <td>2019-08-02</td>\n",
       "      <td>1468.3</td>\n",
       "    </tr>\n",
       "    <tr>\n",
       "      <th>2</th>\n",
       "      <td>2019-08-03</td>\n",
       "      <td>1815.2</td>\n",
       "    </tr>\n",
       "    <tr>\n",
       "      <th>3</th>\n",
       "      <td>2019-08-04</td>\n",
       "      <td>675.5</td>\n",
       "    </tr>\n",
       "    <tr>\n",
       "      <th>4</th>\n",
       "      <td>2019-08-05</td>\n",
       "      <td>1398.0</td>\n",
       "    </tr>\n",
       "  </tbody>\n",
       "</table>\n",
       "</div>"
      ],
      "text/plain": [
       "        date  revenue\n",
       "0 2019-08-01   2266.6\n",
       "1 2019-08-02   1468.3\n",
       "2 2019-08-03   1815.2\n",
       "3 2019-08-04    675.5\n",
       "4 2019-08-05   1398.0"
      ]
     },
     "execution_count": 28,
     "metadata": {},
     "output_type": "execute_result"
    }
   ],
   "source": [
    "#calculating the revenue per day for group A\n",
    "orders_A_daily = orders_A.groupby('date').agg({'revenue':'sum'}).reset_index()\n",
    "orders_A_daily.head()"
   ]
  },
  {
   "cell_type": "code",
   "execution_count": 29,
   "metadata": {},
   "outputs": [
    {
     "data": {
      "text/html": [
       "<div>\n",
       "<style scoped>\n",
       "    .dataframe tbody tr th:only-of-type {\n",
       "        vertical-align: middle;\n",
       "    }\n",
       "\n",
       "    .dataframe tbody tr th {\n",
       "        vertical-align: top;\n",
       "    }\n",
       "\n",
       "    .dataframe thead th {\n",
       "        text-align: right;\n",
       "    }\n",
       "</style>\n",
       "<table border=\"1\" class=\"dataframe\">\n",
       "  <thead>\n",
       "    <tr style=\"text-align: right;\">\n",
       "      <th></th>\n",
       "      <th>date</th>\n",
       "      <th>revenue</th>\n",
       "      <th>cum_revenue</th>\n",
       "    </tr>\n",
       "  </thead>\n",
       "  <tbody>\n",
       "    <tr>\n",
       "      <th>0</th>\n",
       "      <td>2019-08-01</td>\n",
       "      <td>2266.6</td>\n",
       "      <td>2266.6</td>\n",
       "    </tr>\n",
       "    <tr>\n",
       "      <th>1</th>\n",
       "      <td>2019-08-02</td>\n",
       "      <td>1468.3</td>\n",
       "      <td>3734.9</td>\n",
       "    </tr>\n",
       "    <tr>\n",
       "      <th>2</th>\n",
       "      <td>2019-08-03</td>\n",
       "      <td>1815.2</td>\n",
       "      <td>5550.1</td>\n",
       "    </tr>\n",
       "    <tr>\n",
       "      <th>3</th>\n",
       "      <td>2019-08-04</td>\n",
       "      <td>675.5</td>\n",
       "      <td>6225.6</td>\n",
       "    </tr>\n",
       "    <tr>\n",
       "      <th>4</th>\n",
       "      <td>2019-08-05</td>\n",
       "      <td>1398.0</td>\n",
       "      <td>7623.6</td>\n",
       "    </tr>\n",
       "  </tbody>\n",
       "</table>\n",
       "</div>"
      ],
      "text/plain": [
       "        date  revenue  cum_revenue\n",
       "0 2019-08-01   2266.6       2266.6\n",
       "1 2019-08-02   1468.3       3734.9\n",
       "2 2019-08-03   1815.2       5550.1\n",
       "3 2019-08-04    675.5       6225.6\n",
       "4 2019-08-05   1398.0       7623.6"
      ]
     },
     "execution_count": 29,
     "metadata": {},
     "output_type": "execute_result"
    }
   ],
   "source": [
    "#calculating the cumulative revenue for group A\n",
    "orders_A_daily['cum_revenue'] = orders_A_daily['revenue'].cumsum()\n",
    "orders_A_daily.head()"
   ]
  },
  {
   "cell_type": "code",
   "execution_count": 30,
   "metadata": {},
   "outputs": [
    {
     "data": {
      "text/html": [
       "<div>\n",
       "<style scoped>\n",
       "    .dataframe tbody tr th:only-of-type {\n",
       "        vertical-align: middle;\n",
       "    }\n",
       "\n",
       "    .dataframe tbody tr th {\n",
       "        vertical-align: top;\n",
       "    }\n",
       "\n",
       "    .dataframe thead th {\n",
       "        text-align: right;\n",
       "    }\n",
       "</style>\n",
       "<table border=\"1\" class=\"dataframe\">\n",
       "  <thead>\n",
       "    <tr style=\"text-align: right;\">\n",
       "      <th></th>\n",
       "      <th>date</th>\n",
       "      <th>revenue</th>\n",
       "    </tr>\n",
       "  </thead>\n",
       "  <tbody>\n",
       "    <tr>\n",
       "      <th>0</th>\n",
       "      <td>2019-08-01</td>\n",
       "      <td>967.2</td>\n",
       "    </tr>\n",
       "    <tr>\n",
       "      <th>1</th>\n",
       "      <td>2019-08-02</td>\n",
       "      <td>2568.1</td>\n",
       "    </tr>\n",
       "    <tr>\n",
       "      <th>2</th>\n",
       "      <td>2019-08-03</td>\n",
       "      <td>1071.6</td>\n",
       "    </tr>\n",
       "    <tr>\n",
       "      <th>3</th>\n",
       "      <td>2019-08-04</td>\n",
       "      <td>1531.6</td>\n",
       "    </tr>\n",
       "    <tr>\n",
       "      <th>4</th>\n",
       "      <td>2019-08-05</td>\n",
       "      <td>1449.3</td>\n",
       "    </tr>\n",
       "  </tbody>\n",
       "</table>\n",
       "</div>"
      ],
      "text/plain": [
       "        date  revenue\n",
       "0 2019-08-01    967.2\n",
       "1 2019-08-02   2568.1\n",
       "2 2019-08-03   1071.6\n",
       "3 2019-08-04   1531.6\n",
       "4 2019-08-05   1449.3"
      ]
     },
     "execution_count": 30,
     "metadata": {},
     "output_type": "execute_result"
    }
   ],
   "source": [
    "#calculating the revenue per day for group B\n",
    "orders_B_daily = orders_B.groupby('date').agg({'revenue':'sum'}).reset_index()\n",
    "orders_B_daily.head()"
   ]
  },
  {
   "cell_type": "code",
   "execution_count": 31,
   "metadata": {},
   "outputs": [
    {
     "data": {
      "text/html": [
       "<div>\n",
       "<style scoped>\n",
       "    .dataframe tbody tr th:only-of-type {\n",
       "        vertical-align: middle;\n",
       "    }\n",
       "\n",
       "    .dataframe tbody tr th {\n",
       "        vertical-align: top;\n",
       "    }\n",
       "\n",
       "    .dataframe thead th {\n",
       "        text-align: right;\n",
       "    }\n",
       "</style>\n",
       "<table border=\"1\" class=\"dataframe\">\n",
       "  <thead>\n",
       "    <tr style=\"text-align: right;\">\n",
       "      <th></th>\n",
       "      <th>date</th>\n",
       "      <th>revenue</th>\n",
       "      <th>cum_revenue</th>\n",
       "    </tr>\n",
       "  </thead>\n",
       "  <tbody>\n",
       "    <tr>\n",
       "      <th>0</th>\n",
       "      <td>2019-08-01</td>\n",
       "      <td>967.2</td>\n",
       "      <td>967.2</td>\n",
       "    </tr>\n",
       "    <tr>\n",
       "      <th>1</th>\n",
       "      <td>2019-08-02</td>\n",
       "      <td>2568.1</td>\n",
       "      <td>3535.3</td>\n",
       "    </tr>\n",
       "    <tr>\n",
       "      <th>2</th>\n",
       "      <td>2019-08-03</td>\n",
       "      <td>1071.6</td>\n",
       "      <td>4606.9</td>\n",
       "    </tr>\n",
       "    <tr>\n",
       "      <th>3</th>\n",
       "      <td>2019-08-04</td>\n",
       "      <td>1531.6</td>\n",
       "      <td>6138.5</td>\n",
       "    </tr>\n",
       "    <tr>\n",
       "      <th>4</th>\n",
       "      <td>2019-08-05</td>\n",
       "      <td>1449.3</td>\n",
       "      <td>7587.8</td>\n",
       "    </tr>\n",
       "  </tbody>\n",
       "</table>\n",
       "</div>"
      ],
      "text/plain": [
       "        date  revenue  cum_revenue\n",
       "0 2019-08-01    967.2        967.2\n",
       "1 2019-08-02   2568.1       3535.3\n",
       "2 2019-08-03   1071.6       4606.9\n",
       "3 2019-08-04   1531.6       6138.5\n",
       "4 2019-08-05   1449.3       7587.8"
      ]
     },
     "execution_count": 31,
     "metadata": {},
     "output_type": "execute_result"
    }
   ],
   "source": [
    "#calculating the cumulative revenue for group B\n",
    "orders_B_daily['cum_revenue'] = orders_B_daily['revenue'].cumsum()\n",
    "orders_B_daily.head()"
   ]
  },
  {
   "cell_type": "code",
   "execution_count": 32,
   "metadata": {
    "scrolled": false
   },
   "outputs": [
    {
     "name": "stderr",
     "output_type": "stream",
     "text": [
      "/opt/conda/lib/python3.7/site-packages/matplotlib/cbook/__init__.py:1402: FutureWarning: Support for multi-dimensional indexing (e.g. `obj[:, None]`) is deprecated and will be removed in a future version.  Convert to a numpy array before indexing instead.\n",
      "  x[:, None]\n",
      "/opt/conda/lib/python3.7/site-packages/matplotlib/cbook/__init__.py:1402: FutureWarning: Support for multi-dimensional indexing (e.g. `obj[:, None]`) is deprecated and will be removed in a future version.  Convert to a numpy array before indexing instead.\n",
      "  x[:, None]\n",
      "/opt/conda/lib/python3.7/site-packages/matplotlib/axes/_base.py:276: FutureWarning: Support for multi-dimensional indexing (e.g. `obj[:, None]`) is deprecated and will be removed in a future version.  Convert to a numpy array before indexing instead.\n",
      "  x = x[:, np.newaxis]\n",
      "/opt/conda/lib/python3.7/site-packages/matplotlib/axes/_base.py:278: FutureWarning: Support for multi-dimensional indexing (e.g. `obj[:, None]`) is deprecated and will be removed in a future version.  Convert to a numpy array before indexing instead.\n",
      "  y = y[:, np.newaxis]\n",
      "/opt/conda/lib/python3.7/site-packages/matplotlib/cbook/__init__.py:1402: FutureWarning: Support for multi-dimensional indexing (e.g. `obj[:, None]`) is deprecated and will be removed in a future version.  Convert to a numpy array before indexing instead.\n",
      "  x[:, None]\n",
      "/opt/conda/lib/python3.7/site-packages/matplotlib/axes/_base.py:276: FutureWarning: Support for multi-dimensional indexing (e.g. `obj[:, None]`) is deprecated and will be removed in a future version.  Convert to a numpy array before indexing instead.\n",
      "  x = x[:, np.newaxis]\n",
      "/opt/conda/lib/python3.7/site-packages/matplotlib/axes/_base.py:278: FutureWarning: Support for multi-dimensional indexing (e.g. `obj[:, None]`) is deprecated and will be removed in a future version.  Convert to a numpy array before indexing instead.\n",
      "  y = y[:, np.newaxis]\n"
     ]
    },
    {
     "data": {
      "image/png": "[encoded data removed]",
      "text/plain": [
       "<Figure size 936x648 with 1 Axes>"
      ]
     },
     "metadata": {
      "needs_background": "light"
     },
     "output_type": "display_data"
    }
   ],
   "source": [
    "#plotting the cumulative revenue for both groups\n",
    "plt.figure(figsize=(13,9))\n",
    "plt.plot(orders_A_daily['date'], orders_A_daily['cum_revenue'], label = 'Group A')\n",
    "plt.plot(orders_B_daily['date'], orders_B_daily['cum_revenue'], label = 'Group B')\n",
    "plt.title('Daily cumulative revenue')\n",
    "plt.xlabel('Date')\n",
    "plt.ylabel('Revenue')\n",
    "plt.legend()\n",
    "plt.grid()\n",
    "plt.show()\n"
   ]
  },
  {
   "cell_type": "code",
   "execution_count": 91,
   "metadata": {},
   "outputs": [
    {
     "data": {
      "image/png": "[encoded data removed]",
      "text/plain": [
       "<Figure size 936x648 with 1 Axes>"
      ]
     },
     "metadata": {
      "needs_background": "light"
     },
     "output_type": "display_data"
    }
   ],
   "source": [
    "#plotting the cumulative revenue for both groups\n",
    "plt.figure(figsize=(13,9))\n",
    "plt.plot(orders_A_daily[['date']], orders_A_daily[['cum_revenue']], label = 'Group A')\n",
    "plt.plot(orders_B_daily[['date']], orders_B_daily[['cum_revenue']], label = 'Group B')\n",
    "plt.title('Daily cumulative revenue')\n",
    "plt.xlabel('Date')\n",
    "plt.ylabel('Revenue')\n",
    "plt.legend()\n",
    "plt.grid()\n",
    "plt.show()"
   ]
  },
  {
   "cell_type": "markdown",
   "metadata": {},
   "source": [
    "It looks like in the first half of the month there was no difference between the groups and only after August 20th we can see a clear difference with group B having a higher cumulative revenue. overall both groups are showing a positive slope in the cumulative revenue throughout the month. "
   ]
  },
  {
   "cell_type": "markdown",
   "metadata": {},
   "source": [
    "**Graph cumulative average order size by group. Make conclusions and conjectures.**"
   ]
  },
  {
   "cell_type": "code",
   "execution_count": 33,
   "metadata": {},
   "outputs": [
    {
     "data": {
      "text/html": [
       "<div>\n",
       "<style scoped>\n",
       "    .dataframe tbody tr th:only-of-type {\n",
       "        vertical-align: middle;\n",
       "    }\n",
       "\n",
       "    .dataframe tbody tr th {\n",
       "        vertical-align: top;\n",
       "    }\n",
       "\n",
       "    .dataframe thead th {\n",
       "        text-align: right;\n",
       "    }\n",
       "</style>\n",
       "<table border=\"1\" class=\"dataframe\">\n",
       "  <thead>\n",
       "    <tr style=\"text-align: right;\">\n",
       "      <th></th>\n",
       "      <th>date</th>\n",
       "      <th>revenue</th>\n",
       "      <th>orders</th>\n",
       "      <th>avg_check</th>\n",
       "    </tr>\n",
       "  </thead>\n",
       "  <tbody>\n",
       "    <tr>\n",
       "      <th>0</th>\n",
       "      <td>2019-08-01</td>\n",
       "      <td>2266.6</td>\n",
       "      <td>23</td>\n",
       "      <td>98.547826</td>\n",
       "    </tr>\n",
       "    <tr>\n",
       "      <th>1</th>\n",
       "      <td>2019-08-02</td>\n",
       "      <td>1468.3</td>\n",
       "      <td>19</td>\n",
       "      <td>77.278947</td>\n",
       "    </tr>\n",
       "    <tr>\n",
       "      <th>2</th>\n",
       "      <td>2019-08-03</td>\n",
       "      <td>1815.2</td>\n",
       "      <td>24</td>\n",
       "      <td>75.633333</td>\n",
       "    </tr>\n",
       "    <tr>\n",
       "      <th>3</th>\n",
       "      <td>2019-08-04</td>\n",
       "      <td>675.5</td>\n",
       "      <td>11</td>\n",
       "      <td>61.409091</td>\n",
       "    </tr>\n",
       "    <tr>\n",
       "      <th>4</th>\n",
       "      <td>2019-08-05</td>\n",
       "      <td>1398.0</td>\n",
       "      <td>22</td>\n",
       "      <td>63.545455</td>\n",
       "    </tr>\n",
       "  </tbody>\n",
       "</table>\n",
       "</div>"
      ],
      "text/plain": [
       "        date  revenue  orders  avg_check\n",
       "0 2019-08-01   2266.6      23  98.547826\n",
       "1 2019-08-02   1468.3      19  77.278947\n",
       "2 2019-08-03   1815.2      24  75.633333\n",
       "3 2019-08-04    675.5      11  61.409091\n",
       "4 2019-08-05   1398.0      22  63.545455"
      ]
     },
     "execution_count": 33,
     "metadata": {},
     "output_type": "execute_result"
    }
   ],
   "source": [
    "#calculating the average check\n",
    "#we'll start be aggregating the data by date and counting the number of buyers a day\n",
    "avg_chk_A = orders_A.groupby('date').agg({'revenue':'sum', 'transactionId':'count'}).reset_index()\n",
    "avg_chk_A.columns = ['date', 'revenue', 'orders']\n",
    "avg_chk_A['avg_check'] = avg_chk_A['revenue'] / avg_chk_A['orders']\n",
    "avg_chk_A.head()"
   ]
  },
  {
   "cell_type": "code",
   "execution_count": 34,
   "metadata": {},
   "outputs": [],
   "source": [
    "#calculating cumulative revenue and cumulative orders\n",
    "avg_chk_A['cum_rev'] = avg_chk_A['revenue'].cumsum()\n",
    "avg_chk_A['cum_orders'] = avg_chk_A['orders'].cumsum()"
   ]
  },
  {
   "cell_type": "code",
   "execution_count": 35,
   "metadata": {},
   "outputs": [
    {
     "data": {
      "text/html": [
       "<div>\n",
       "<style scoped>\n",
       "    .dataframe tbody tr th:only-of-type {\n",
       "        vertical-align: middle;\n",
       "    }\n",
       "\n",
       "    .dataframe tbody tr th {\n",
       "        vertical-align: top;\n",
       "    }\n",
       "\n",
       "    .dataframe thead th {\n",
       "        text-align: right;\n",
       "    }\n",
       "</style>\n",
       "<table border=\"1\" class=\"dataframe\">\n",
       "  <thead>\n",
       "    <tr style=\"text-align: right;\">\n",
       "      <th></th>\n",
       "      <th>date</th>\n",
       "      <th>revenue</th>\n",
       "      <th>orders</th>\n",
       "      <th>avg_check</th>\n",
       "      <th>cum_rev</th>\n",
       "      <th>cum_orders</th>\n",
       "      <th>cum_avg_check</th>\n",
       "    </tr>\n",
       "  </thead>\n",
       "  <tbody>\n",
       "    <tr>\n",
       "      <th>0</th>\n",
       "      <td>2019-08-01</td>\n",
       "      <td>2266.6</td>\n",
       "      <td>23</td>\n",
       "      <td>98.547826</td>\n",
       "      <td>2266.6</td>\n",
       "      <td>23</td>\n",
       "      <td>98.547826</td>\n",
       "    </tr>\n",
       "    <tr>\n",
       "      <th>1</th>\n",
       "      <td>2019-08-02</td>\n",
       "      <td>1468.3</td>\n",
       "      <td>19</td>\n",
       "      <td>77.278947</td>\n",
       "      <td>3734.9</td>\n",
       "      <td>42</td>\n",
       "      <td>88.926190</td>\n",
       "    </tr>\n",
       "    <tr>\n",
       "      <th>2</th>\n",
       "      <td>2019-08-03</td>\n",
       "      <td>1815.2</td>\n",
       "      <td>24</td>\n",
       "      <td>75.633333</td>\n",
       "      <td>5550.1</td>\n",
       "      <td>66</td>\n",
       "      <td>84.092424</td>\n",
       "    </tr>\n",
       "    <tr>\n",
       "      <th>3</th>\n",
       "      <td>2019-08-04</td>\n",
       "      <td>675.5</td>\n",
       "      <td>11</td>\n",
       "      <td>61.409091</td>\n",
       "      <td>6225.6</td>\n",
       "      <td>77</td>\n",
       "      <td>80.851948</td>\n",
       "    </tr>\n",
       "    <tr>\n",
       "      <th>4</th>\n",
       "      <td>2019-08-05</td>\n",
       "      <td>1398.0</td>\n",
       "      <td>22</td>\n",
       "      <td>63.545455</td>\n",
       "      <td>7623.6</td>\n",
       "      <td>99</td>\n",
       "      <td>77.006061</td>\n",
       "    </tr>\n",
       "  </tbody>\n",
       "</table>\n",
       "</div>"
      ],
      "text/plain": [
       "        date  revenue  orders  avg_check  cum_rev  cum_orders  cum_avg_check\n",
       "0 2019-08-01   2266.6      23  98.547826   2266.6          23      98.547826\n",
       "1 2019-08-02   1468.3      19  77.278947   3734.9          42      88.926190\n",
       "2 2019-08-03   1815.2      24  75.633333   5550.1          66      84.092424\n",
       "3 2019-08-04    675.5      11  61.409091   6225.6          77      80.851948\n",
       "4 2019-08-05   1398.0      22  63.545455   7623.6          99      77.006061"
      ]
     },
     "execution_count": 35,
     "metadata": {},
     "output_type": "execute_result"
    }
   ],
   "source": [
    "#calculating cumulative average check\n",
    "avg_chk_A['cum_avg_check'] = avg_chk_A['cum_rev'] / avg_chk_A['cum_orders']\n",
    "avg_chk_A.head()"
   ]
  },
  {
   "cell_type": "code",
   "execution_count": 36,
   "metadata": {},
   "outputs": [
    {
     "data": {
      "text/html": [
       "<div>\n",
       "<style scoped>\n",
       "    .dataframe tbody tr th:only-of-type {\n",
       "        vertical-align: middle;\n",
       "    }\n",
       "\n",
       "    .dataframe tbody tr th {\n",
       "        vertical-align: top;\n",
       "    }\n",
       "\n",
       "    .dataframe thead th {\n",
       "        text-align: right;\n",
       "    }\n",
       "</style>\n",
       "<table border=\"1\" class=\"dataframe\">\n",
       "  <thead>\n",
       "    <tr style=\"text-align: right;\">\n",
       "      <th></th>\n",
       "      <th>date</th>\n",
       "      <th>revenue</th>\n",
       "      <th>orders</th>\n",
       "      <th>avg_check</th>\n",
       "      <th>cum_rev</th>\n",
       "      <th>cum_orders</th>\n",
       "      <th>cum_avg_check</th>\n",
       "    </tr>\n",
       "  </thead>\n",
       "  <tbody>\n",
       "    <tr>\n",
       "      <th>0</th>\n",
       "      <td>2019-08-01</td>\n",
       "      <td>967.2</td>\n",
       "      <td>17</td>\n",
       "      <td>56.894118</td>\n",
       "      <td>967.2</td>\n",
       "      <td>17</td>\n",
       "      <td>56.894118</td>\n",
       "    </tr>\n",
       "    <tr>\n",
       "      <th>1</th>\n",
       "      <td>2019-08-02</td>\n",
       "      <td>2568.1</td>\n",
       "      <td>23</td>\n",
       "      <td>111.656522</td>\n",
       "      <td>3535.3</td>\n",
       "      <td>40</td>\n",
       "      <td>88.382500</td>\n",
       "    </tr>\n",
       "    <tr>\n",
       "      <th>2</th>\n",
       "      <td>2019-08-03</td>\n",
       "      <td>1071.6</td>\n",
       "      <td>14</td>\n",
       "      <td>76.542857</td>\n",
       "      <td>4606.9</td>\n",
       "      <td>54</td>\n",
       "      <td>85.312963</td>\n",
       "    </tr>\n",
       "    <tr>\n",
       "      <th>3</th>\n",
       "      <td>2019-08-04</td>\n",
       "      <td>1531.6</td>\n",
       "      <td>14</td>\n",
       "      <td>109.400000</td>\n",
       "      <td>6138.5</td>\n",
       "      <td>68</td>\n",
       "      <td>90.272059</td>\n",
       "    </tr>\n",
       "    <tr>\n",
       "      <th>4</th>\n",
       "      <td>2019-08-05</td>\n",
       "      <td>1449.3</td>\n",
       "      <td>21</td>\n",
       "      <td>69.014286</td>\n",
       "      <td>7587.8</td>\n",
       "      <td>89</td>\n",
       "      <td>85.256180</td>\n",
       "    </tr>\n",
       "  </tbody>\n",
       "</table>\n",
       "</div>"
      ],
      "text/plain": [
       "        date  revenue  orders   avg_check  cum_rev  cum_orders  cum_avg_check\n",
       "0 2019-08-01    967.2      17   56.894118    967.2          17      56.894118\n",
       "1 2019-08-02   2568.1      23  111.656522   3535.3          40      88.382500\n",
       "2 2019-08-03   1071.6      14   76.542857   4606.9          54      85.312963\n",
       "3 2019-08-04   1531.6      14  109.400000   6138.5          68      90.272059\n",
       "4 2019-08-05   1449.3      21   69.014286   7587.8          89      85.256180"
      ]
     },
     "execution_count": 36,
     "metadata": {},
     "output_type": "execute_result"
    }
   ],
   "source": [
    "#doing the same for group B\n",
    "avg_chk_B = orders_B.groupby('date').agg({'revenue':'sum', 'transactionId':'count'}).reset_index()\n",
    "avg_chk_B.columns = ['date', 'revenue', 'orders']\n",
    "avg_chk_B['avg_check'] = avg_chk_B['revenue'] / avg_chk_B['orders']\n",
    "avg_chk_B['cum_rev'] = avg_chk_B['revenue'].cumsum()\n",
    "avg_chk_B['cum_orders'] = avg_chk_B['orders'].cumsum()\n",
    "avg_chk_B['cum_avg_check'] = avg_chk_B['cum_rev'] / avg_chk_B['cum_orders']\n",
    "avg_chk_B.head()"
   ]
  },
  {
   "cell_type": "code",
   "execution_count": 37,
   "metadata": {},
   "outputs": [
    {
     "name": "stderr",
     "output_type": "stream",
     "text": [
      "/opt/conda/lib/python3.7/site-packages/matplotlib/cbook/__init__.py:1402: FutureWarning: Support for multi-dimensional indexing (e.g. `obj[:, None]`) is deprecated and will be removed in a future version.  Convert to a numpy array before indexing instead.\n",
      "  x[:, None]\n",
      "/opt/conda/lib/python3.7/site-packages/matplotlib/cbook/__init__.py:1402: FutureWarning: Support for multi-dimensional indexing (e.g. `obj[:, None]`) is deprecated and will be removed in a future version.  Convert to a numpy array before indexing instead.\n",
      "  x[:, None]\n",
      "/opt/conda/lib/python3.7/site-packages/matplotlib/axes/_base.py:276: FutureWarning: Support for multi-dimensional indexing (e.g. `obj[:, None]`) is deprecated and will be removed in a future version.  Convert to a numpy array before indexing instead.\n",
      "  x = x[:, np.newaxis]\n",
      "/opt/conda/lib/python3.7/site-packages/matplotlib/axes/_base.py:278: FutureWarning: Support for multi-dimensional indexing (e.g. `obj[:, None]`) is deprecated and will be removed in a future version.  Convert to a numpy array before indexing instead.\n",
      "  y = y[:, np.newaxis]\n",
      "/opt/conda/lib/python3.7/site-packages/matplotlib/cbook/__init__.py:1402: FutureWarning: Support for multi-dimensional indexing (e.g. `obj[:, None]`) is deprecated and will be removed in a future version.  Convert to a numpy array before indexing instead.\n",
      "  x[:, None]\n",
      "/opt/conda/lib/python3.7/site-packages/matplotlib/axes/_base.py:276: FutureWarning: Support for multi-dimensional indexing (e.g. `obj[:, None]`) is deprecated and will be removed in a future version.  Convert to a numpy array before indexing instead.\n",
      "  x = x[:, np.newaxis]\n",
      "/opt/conda/lib/python3.7/site-packages/matplotlib/axes/_base.py:278: FutureWarning: Support for multi-dimensional indexing (e.g. `obj[:, None]`) is deprecated and will be removed in a future version.  Convert to a numpy array before indexing instead.\n",
      "  y = y[:, np.newaxis]\n"
     ]
    },
    {
     "data": {
      "image/png": "[encoded data removed]",
      "text/plain": [
       "<Figure size 936x648 with 1 Axes>"
      ]
     },
     "metadata": {
      "needs_background": "light"
     },
     "output_type": "display_data"
    }
   ],
   "source": [
    "#plotting the cumulative average check for both groups\n",
    "plt.figure(figsize=(13,9))\n",
    "plt.plot(avg_chk_A['date'], avg_chk_A['cum_avg_check'], label = 'Group A')\n",
    "plt.plot(avg_chk_B['date'], avg_chk_B['cum_avg_check'], label = 'Group B')\n",
    "plt.title('Cumulative average check')\n",
    "plt.xlabel('Date')\n",
    "plt.legend()\n",
    "plt.show()"
   ]
  },
  {
   "cell_type": "markdown",
   "metadata": {},
   "source": [
    "The average check is acting similar to the cumulative revenue around the August 20th date, we see that in the first half of the month both groups act pretty similar and around August 20th we see a change and group B shows higher cumumlative avergae check values. \n",
    "Something happend around this date that we need to investigate in order to know which part of the month is more relevant for our A/B testing analysis. "
   ]
  },
  {
   "cell_type": "markdown",
   "metadata": {},
   "source": [
    "### Graph the relative difference in cumulative average order size for group B compared with group A. Make conclusions and conjectures."
   ]
  },
  {
   "cell_type": "code",
   "execution_count": 38,
   "metadata": {},
   "outputs": [
    {
     "name": "stderr",
     "output_type": "stream",
     "text": [
      "/opt/conda/lib/python3.7/site-packages/matplotlib/cbook/__init__.py:1402: FutureWarning: Support for multi-dimensional indexing (e.g. `obj[:, None]`) is deprecated and will be removed in a future version.  Convert to a numpy array before indexing instead.\n",
      "  x[:, None]\n",
      "/opt/conda/lib/python3.7/site-packages/matplotlib/axes/_base.py:276: FutureWarning: Support for multi-dimensional indexing (e.g. `obj[:, None]`) is deprecated and will be removed in a future version.  Convert to a numpy array before indexing instead.\n",
      "  x = x[:, np.newaxis]\n",
      "/opt/conda/lib/python3.7/site-packages/matplotlib/axes/_base.py:278: FutureWarning: Support for multi-dimensional indexing (e.g. `obj[:, None]`) is deprecated and will be removed in a future version.  Convert to a numpy array before indexing instead.\n",
      "  y = y[:, np.newaxis]\n"
     ]
    },
    {
     "data": {
      "image/png": "[encoded data removed]",
      "text/plain": [
       "<Figure size 936x648 with 1 Axes>"
      ]
     },
     "metadata": {
      "needs_background": "light"
     },
     "output_type": "display_data"
    }
   ],
   "source": [
    "relative_dif = avg_chk_B['cum_avg_check'] - avg_chk_A['cum_avg_check']\n",
    "plt.figure(figsize=(13,9))\n",
    "plt.plot(avg_chk_A['date'],relative_dif)\n",
    "plt.title('Average check relative difference')\n",
    "plt.show()"
   ]
  },
  {
   "cell_type": "markdown",
   "metadata": {},
   "source": [
    "We can see that at the first half of the month the relative difference in cumulative average check changed between -40 to 30 and somewhere around the 20th day of the month there was a sharp change and the relative difference was  greater then before but then it started descreasing again until the end of the month. It looks like most of the month group B's avergae order check is higher than group A, but it changes throughout the month but it's not stable. "
   ]
  },
  {
   "cell_type": "code",
   "execution_count": 39,
   "metadata": {},
   "outputs": [
    {
     "data": {
      "text/html": [
       "<div>\n",
       "<style scoped>\n",
       "    .dataframe tbody tr th:only-of-type {\n",
       "        vertical-align: middle;\n",
       "    }\n",
       "\n",
       "    .dataframe tbody tr th {\n",
       "        vertical-align: top;\n",
       "    }\n",
       "\n",
       "    .dataframe thead th {\n",
       "        text-align: right;\n",
       "    }\n",
       "</style>\n",
       "<table border=\"1\" class=\"dataframe\">\n",
       "  <thead>\n",
       "    <tr style=\"text-align: right;\">\n",
       "      <th></th>\n",
       "      <th>date</th>\n",
       "      <th>revenue</th>\n",
       "      <th>orders</th>\n",
       "      <th>avg_check</th>\n",
       "      <th>cum_rev</th>\n",
       "      <th>cum_orders</th>\n",
       "      <th>cum_avg_check</th>\n",
       "    </tr>\n",
       "  </thead>\n",
       "  <tbody>\n",
       "    <tr>\n",
       "      <th>15</th>\n",
       "      <td>2019-08-16</td>\n",
       "      <td>1807.0</td>\n",
       "      <td>18</td>\n",
       "      <td>100.388889</td>\n",
       "      <td>32840.2</td>\n",
       "      <td>307</td>\n",
       "      <td>106.971336</td>\n",
       "    </tr>\n",
       "    <tr>\n",
       "      <th>16</th>\n",
       "      <td>2019-08-17</td>\n",
       "      <td>1276.0</td>\n",
       "      <td>13</td>\n",
       "      <td>98.153846</td>\n",
       "      <td>34116.2</td>\n",
       "      <td>320</td>\n",
       "      <td>106.613125</td>\n",
       "    </tr>\n",
       "    <tr>\n",
       "      <th>17</th>\n",
       "      <td>2019-08-18</td>\n",
       "      <td>568.5</td>\n",
       "      <td>7</td>\n",
       "      <td>81.214286</td>\n",
       "      <td>34684.7</td>\n",
       "      <td>327</td>\n",
       "      <td>106.069419</td>\n",
       "    </tr>\n",
       "    <tr>\n",
       "      <th>18</th>\n",
       "      <td>2019-08-19</td>\n",
       "      <td>22064.9</td>\n",
       "      <td>21</td>\n",
       "      <td>1050.709524</td>\n",
       "      <td>56749.6</td>\n",
       "      <td>348</td>\n",
       "      <td>163.073563</td>\n",
       "    </tr>\n",
       "    <tr>\n",
       "      <th>19</th>\n",
       "      <td>2019-08-20</td>\n",
       "      <td>2324.6</td>\n",
       "      <td>20</td>\n",
       "      <td>116.230000</td>\n",
       "      <td>59074.2</td>\n",
       "      <td>368</td>\n",
       "      <td>160.527717</td>\n",
       "    </tr>\n",
       "    <tr>\n",
       "      <th>20</th>\n",
       "      <td>2019-08-21</td>\n",
       "      <td>2200.2</td>\n",
       "      <td>12</td>\n",
       "      <td>183.350000</td>\n",
       "      <td>61274.4</td>\n",
       "      <td>380</td>\n",
       "      <td>161.248421</td>\n",
       "    </tr>\n",
       "    <tr>\n",
       "      <th>21</th>\n",
       "      <td>2019-08-22</td>\n",
       "      <td>2229.5</td>\n",
       "      <td>21</td>\n",
       "      <td>106.166667</td>\n",
       "      <td>63503.9</td>\n",
       "      <td>401</td>\n",
       "      <td>158.363840</td>\n",
       "    </tr>\n",
       "    <tr>\n",
       "      <th>22</th>\n",
       "      <td>2019-08-23</td>\n",
       "      <td>1228.9</td>\n",
       "      <td>13</td>\n",
       "      <td>94.530769</td>\n",
       "      <td>64732.8</td>\n",
       "      <td>414</td>\n",
       "      <td>156.359420</td>\n",
       "    </tr>\n",
       "    <tr>\n",
       "      <th>23</th>\n",
       "      <td>2019-08-24</td>\n",
       "      <td>1405.7</td>\n",
       "      <td>14</td>\n",
       "      <td>100.407143</td>\n",
       "      <td>66138.5</td>\n",
       "      <td>428</td>\n",
       "      <td>154.529206</td>\n",
       "    </tr>\n",
       "    <tr>\n",
       "      <th>24</th>\n",
       "      <td>2019-08-25</td>\n",
       "      <td>1255.3</td>\n",
       "      <td>12</td>\n",
       "      <td>104.608333</td>\n",
       "      <td>67393.8</td>\n",
       "      <td>440</td>\n",
       "      <td>153.167727</td>\n",
       "    </tr>\n",
       "    <tr>\n",
       "      <th>25</th>\n",
       "      <td>2019-08-26</td>\n",
       "      <td>2744.3</td>\n",
       "      <td>22</td>\n",
       "      <td>124.740909</td>\n",
       "      <td>70138.1</td>\n",
       "      <td>462</td>\n",
       "      <td>151.814069</td>\n",
       "    </tr>\n",
       "    <tr>\n",
       "      <th>26</th>\n",
       "      <td>2019-08-27</td>\n",
       "      <td>1746.9</td>\n",
       "      <td>11</td>\n",
       "      <td>158.809091</td>\n",
       "      <td>71885.0</td>\n",
       "      <td>473</td>\n",
       "      <td>151.976744</td>\n",
       "    </tr>\n",
       "    <tr>\n",
       "      <th>27</th>\n",
       "      <td>2019-08-28</td>\n",
       "      <td>1010.5</td>\n",
       "      <td>22</td>\n",
       "      <td>45.931818</td>\n",
       "      <td>72895.5</td>\n",
       "      <td>495</td>\n",
       "      <td>147.263636</td>\n",
       "    </tr>\n",
       "    <tr>\n",
       "      <th>28</th>\n",
       "      <td>2019-08-29</td>\n",
       "      <td>1681.2</td>\n",
       "      <td>15</td>\n",
       "      <td>112.080000</td>\n",
       "      <td>74576.7</td>\n",
       "      <td>510</td>\n",
       "      <td>146.228824</td>\n",
       "    </tr>\n",
       "    <tr>\n",
       "      <th>29</th>\n",
       "      <td>2019-08-30</td>\n",
       "      <td>3286.8</td>\n",
       "      <td>21</td>\n",
       "      <td>156.514286</td>\n",
       "      <td>77863.5</td>\n",
       "      <td>531</td>\n",
       "      <td>146.635593</td>\n",
       "    </tr>\n",
       "    <tr>\n",
       "      <th>30</th>\n",
       "      <td>2019-08-31</td>\n",
       "      <td>1787.7</td>\n",
       "      <td>17</td>\n",
       "      <td>105.158824</td>\n",
       "      <td>79651.2</td>\n",
       "      <td>548</td>\n",
       "      <td>145.348905</td>\n",
       "    </tr>\n",
       "  </tbody>\n",
       "</table>\n",
       "</div>"
      ],
      "text/plain": [
       "         date  revenue  orders    avg_check  cum_rev  cum_orders  \\\n",
       "15 2019-08-16   1807.0      18   100.388889  32840.2         307   \n",
       "16 2019-08-17   1276.0      13    98.153846  34116.2         320   \n",
       "17 2019-08-18    568.5       7    81.214286  34684.7         327   \n",
       "18 2019-08-19  22064.9      21  1050.709524  56749.6         348   \n",
       "19 2019-08-20   2324.6      20   116.230000  59074.2         368   \n",
       "20 2019-08-21   2200.2      12   183.350000  61274.4         380   \n",
       "21 2019-08-22   2229.5      21   106.166667  63503.9         401   \n",
       "22 2019-08-23   1228.9      13    94.530769  64732.8         414   \n",
       "23 2019-08-24   1405.7      14   100.407143  66138.5         428   \n",
       "24 2019-08-25   1255.3      12   104.608333  67393.8         440   \n",
       "25 2019-08-26   2744.3      22   124.740909  70138.1         462   \n",
       "26 2019-08-27   1746.9      11   158.809091  71885.0         473   \n",
       "27 2019-08-28   1010.5      22    45.931818  72895.5         495   \n",
       "28 2019-08-29   1681.2      15   112.080000  74576.7         510   \n",
       "29 2019-08-30   3286.8      21   156.514286  77863.5         531   \n",
       "30 2019-08-31   1787.7      17   105.158824  79651.2         548   \n",
       "\n",
       "    cum_avg_check  \n",
       "15     106.971336  \n",
       "16     106.613125  \n",
       "17     106.069419  \n",
       "18     163.073563  \n",
       "19     160.527717  \n",
       "20     161.248421  \n",
       "21     158.363840  \n",
       "22     156.359420  \n",
       "23     154.529206  \n",
       "24     153.167727  \n",
       "25     151.814069  \n",
       "26     151.976744  \n",
       "27     147.263636  \n",
       "28     146.228824  \n",
       "29     146.635593  \n",
       "30     145.348905  "
      ]
     },
     "metadata": {},
     "output_type": "display_data"
    }
   ],
   "source": [
    "#looking for the specific date of the change in behaviour\n",
    "display(avg_chk_B[avg_chk_B['date'] > '2019-08-15'])"
   ]
  },
  {
   "cell_type": "markdown",
   "metadata": {},
   "source": [
    "We can see that on August 19th there was a significant increase in cumulative revenue (~20,000 USD change which is 10 times more than the month before) while the number of orders was relavtively the same, this might have been cause due to a specific order, we will examine more.\n",
    "Also, we can see that the drop we saw towards the end of the month was due to a higher number of orders while the revenue per day did not increase by much, giving us a decrease in the average check."
   ]
  },
  {
   "cell_type": "code",
   "execution_count": 40,
   "metadata": {},
   "outputs": [
    {
     "data": {
      "text/html": [
       "<div>\n",
       "<style scoped>\n",
       "    .dataframe tbody tr th:only-of-type {\n",
       "        vertical-align: middle;\n",
       "    }\n",
       "\n",
       "    .dataframe tbody tr th {\n",
       "        vertical-align: top;\n",
       "    }\n",
       "\n",
       "    .dataframe thead th {\n",
       "        text-align: right;\n",
       "    }\n",
       "</style>\n",
       "<table border=\"1\" class=\"dataframe\">\n",
       "  <thead>\n",
       "    <tr style=\"text-align: right;\">\n",
       "      <th></th>\n",
       "      <th>index</th>\n",
       "      <th>transactionId</th>\n",
       "      <th>visitorId</th>\n",
       "      <th>date</th>\n",
       "      <th>revenue</th>\n",
       "      <th>group</th>\n",
       "    </tr>\n",
       "  </thead>\n",
       "  <tbody>\n",
       "    <tr>\n",
       "      <th>138</th>\n",
       "      <td>315</td>\n",
       "      <td>1939633950</td>\n",
       "      <td>157579733</td>\n",
       "      <td>2019-08-19</td>\n",
       "      <td>40.8</td>\n",
       "      <td>B</td>\n",
       "    </tr>\n",
       "    <tr>\n",
       "      <th>139</th>\n",
       "      <td>319</td>\n",
       "      <td>2414788465</td>\n",
       "      <td>2247745159</td>\n",
       "      <td>2019-08-19</td>\n",
       "      <td>25.1</td>\n",
       "      <td>B</td>\n",
       "    </tr>\n",
       "    <tr>\n",
       "      <th>140</th>\n",
       "      <td>320</td>\n",
       "      <td>1652782757</td>\n",
       "      <td>2763027084</td>\n",
       "      <td>2019-08-19</td>\n",
       "      <td>25.5</td>\n",
       "      <td>B</td>\n",
       "    </tr>\n",
       "    <tr>\n",
       "      <th>141</th>\n",
       "      <td>322</td>\n",
       "      <td>3154167297</td>\n",
       "      <td>2091902649</td>\n",
       "      <td>2019-08-19</td>\n",
       "      <td>5.8</td>\n",
       "      <td>B</td>\n",
       "    </tr>\n",
       "    <tr>\n",
       "      <th>156</th>\n",
       "      <td>363</td>\n",
       "      <td>2096847394</td>\n",
       "      <td>4251115836</td>\n",
       "      <td>2019-08-19</td>\n",
       "      <td>40.5</td>\n",
       "      <td>B</td>\n",
       "    </tr>\n",
       "    <tr>\n",
       "      <th>157</th>\n",
       "      <td>367</td>\n",
       "      <td>1033377712</td>\n",
       "      <td>3860669668</td>\n",
       "      <td>2019-08-19</td>\n",
       "      <td>65.4</td>\n",
       "      <td>B</td>\n",
       "    </tr>\n",
       "    <tr>\n",
       "      <th>158</th>\n",
       "      <td>368</td>\n",
       "      <td>3268879337</td>\n",
       "      <td>2536252163</td>\n",
       "      <td>2019-08-19</td>\n",
       "      <td>310.1</td>\n",
       "      <td>B</td>\n",
       "    </tr>\n",
       "    <tr>\n",
       "      <th>185</th>\n",
       "      <td>423</td>\n",
       "      <td>4161654914</td>\n",
       "      <td>990904712</td>\n",
       "      <td>2019-08-19</td>\n",
       "      <td>175.1</td>\n",
       "      <td>B</td>\n",
       "    </tr>\n",
       "    <tr>\n",
       "      <th>186</th>\n",
       "      <td>424</td>\n",
       "      <td>2609443403</td>\n",
       "      <td>2406916810</td>\n",
       "      <td>2019-08-19</td>\n",
       "      <td>10.2</td>\n",
       "      <td>B</td>\n",
       "    </tr>\n",
       "    <tr>\n",
       "      <th>187</th>\n",
       "      <td>425</td>\n",
       "      <td>590470918</td>\n",
       "      <td>1920142716</td>\n",
       "      <td>2019-08-19</td>\n",
       "      <td>19920.4</td>\n",
       "      <td>B</td>\n",
       "    </tr>\n",
       "    <tr>\n",
       "      <th>188</th>\n",
       "      <td>426</td>\n",
       "      <td>19467429</td>\n",
       "      <td>2397843657</td>\n",
       "      <td>2019-08-19</td>\n",
       "      <td>45.5</td>\n",
       "      <td>B</td>\n",
       "    </tr>\n",
       "    <tr>\n",
       "      <th>189</th>\n",
       "      <td>427</td>\n",
       "      <td>3019510679</td>\n",
       "      <td>2397843657</td>\n",
       "      <td>2019-08-19</td>\n",
       "      <td>25.5</td>\n",
       "      <td>B</td>\n",
       "    </tr>\n",
       "    <tr>\n",
       "      <th>190</th>\n",
       "      <td>429</td>\n",
       "      <td>2436528253</td>\n",
       "      <td>1060341621</td>\n",
       "      <td>2019-08-19</td>\n",
       "      <td>20.9</td>\n",
       "      <td>B</td>\n",
       "    </tr>\n",
       "    <tr>\n",
       "      <th>205</th>\n",
       "      <td>459</td>\n",
       "      <td>863448794</td>\n",
       "      <td>2738601405</td>\n",
       "      <td>2019-08-19</td>\n",
       "      <td>5.8</td>\n",
       "      <td>B</td>\n",
       "    </tr>\n",
       "    <tr>\n",
       "      <th>206</th>\n",
       "      <td>461</td>\n",
       "      <td>2683113224</td>\n",
       "      <td>154576532</td>\n",
       "      <td>2019-08-19</td>\n",
       "      <td>410.5</td>\n",
       "      <td>B</td>\n",
       "    </tr>\n",
       "    <tr>\n",
       "      <th>207</th>\n",
       "      <td>463</td>\n",
       "      <td>4170537404</td>\n",
       "      <td>290022471</td>\n",
       "      <td>2019-08-19</td>\n",
       "      <td>255.5</td>\n",
       "      <td>B</td>\n",
       "    </tr>\n",
       "    <tr>\n",
       "      <th>221</th>\n",
       "      <td>486</td>\n",
       "      <td>752294429</td>\n",
       "      <td>2758621772</td>\n",
       "      <td>2019-08-19</td>\n",
       "      <td>20.4</td>\n",
       "      <td>B</td>\n",
       "    </tr>\n",
       "    <tr>\n",
       "      <th>238</th>\n",
       "      <td>523</td>\n",
       "      <td>1739748874</td>\n",
       "      <td>522292794</td>\n",
       "      <td>2019-08-19</td>\n",
       "      <td>80.1</td>\n",
       "      <td>B</td>\n",
       "    </tr>\n",
       "    <tr>\n",
       "      <th>239</th>\n",
       "      <td>526</td>\n",
       "      <td>1654949825</td>\n",
       "      <td>1335154194</td>\n",
       "      <td>2019-08-19</td>\n",
       "      <td>10.7</td>\n",
       "      <td>B</td>\n",
       "    </tr>\n",
       "    <tr>\n",
       "      <th>240</th>\n",
       "      <td>527</td>\n",
       "      <td>1570513684</td>\n",
       "      <td>2837914161</td>\n",
       "      <td>2019-08-19</td>\n",
       "      <td>515.9</td>\n",
       "      <td>B</td>\n",
       "    </tr>\n",
       "    <tr>\n",
       "      <th>241</th>\n",
       "      <td>529</td>\n",
       "      <td>90109939</td>\n",
       "      <td>2075769885</td>\n",
       "      <td>2019-08-19</td>\n",
       "      <td>55.2</td>\n",
       "      <td>B</td>\n",
       "    </tr>\n",
       "  </tbody>\n",
       "</table>\n",
       "</div>"
      ],
      "text/plain": [
       "     index  transactionId   visitorId       date  revenue group\n",
       "138    315     1939633950   157579733 2019-08-19     40.8     B\n",
       "139    319     2414788465  2247745159 2019-08-19     25.1     B\n",
       "140    320     1652782757  2763027084 2019-08-19     25.5     B\n",
       "141    322     3154167297  2091902649 2019-08-19      5.8     B\n",
       "156    363     2096847394  4251115836 2019-08-19     40.5     B\n",
       "157    367     1033377712  3860669668 2019-08-19     65.4     B\n",
       "158    368     3268879337  2536252163 2019-08-19    310.1     B\n",
       "185    423     4161654914   990904712 2019-08-19    175.1     B\n",
       "186    424     2609443403  2406916810 2019-08-19     10.2     B\n",
       "187    425      590470918  1920142716 2019-08-19  19920.4     B\n",
       "188    426       19467429  2397843657 2019-08-19     45.5     B\n",
       "189    427     3019510679  2397843657 2019-08-19     25.5     B\n",
       "190    429     2436528253  1060341621 2019-08-19     20.9     B\n",
       "205    459      863448794  2738601405 2019-08-19      5.8     B\n",
       "206    461     2683113224   154576532 2019-08-19    410.5     B\n",
       "207    463     4170537404   290022471 2019-08-19    255.5     B\n",
       "221    486      752294429  2758621772 2019-08-19     20.4     B\n",
       "238    523     1739748874   522292794 2019-08-19     80.1     B\n",
       "239    526     1654949825  1335154194 2019-08-19     10.7     B\n",
       "240    527     1570513684  2837914161 2019-08-19    515.9     B\n",
       "241    529       90109939  2075769885 2019-08-19     55.2     B"
      ]
     },
     "metadata": {},
     "output_type": "display_data"
    }
   ],
   "source": [
    "#looking into the orders of group B on August 19th\n",
    "display(orders_B[orders_B['date'] == '2019-08-19'])"
   ]
  },
  {
   "cell_type": "markdown",
   "metadata": {},
   "source": [
    "This day seems pretty normal except for one specific user who in one purchase paid 19,920 USD which is extremly high, but this one specific purchase can't teach us about the test we are trying to do. let's remove this purchase and calculate the average check again."
   ]
  },
  {
   "cell_type": "code",
   "execution_count": 41,
   "metadata": {},
   "outputs": [],
   "source": [
    "#removing the out of range order from group B\n",
    "orders_B_clean = orders_B[orders_B['transactionId'] != 590470918]"
   ]
  },
  {
   "cell_type": "code",
   "execution_count": 42,
   "metadata": {},
   "outputs": [
    {
     "data": {
      "text/html": [
       "<div>\n",
       "<style scoped>\n",
       "    .dataframe tbody tr th:only-of-type {\n",
       "        vertical-align: middle;\n",
       "    }\n",
       "\n",
       "    .dataframe tbody tr th {\n",
       "        vertical-align: top;\n",
       "    }\n",
       "\n",
       "    .dataframe thead th {\n",
       "        text-align: right;\n",
       "    }\n",
       "</style>\n",
       "<table border=\"1\" class=\"dataframe\">\n",
       "  <thead>\n",
       "    <tr style=\"text-align: right;\">\n",
       "      <th></th>\n",
       "      <th>date</th>\n",
       "      <th>revenue</th>\n",
       "      <th>orders</th>\n",
       "      <th>avg_check</th>\n",
       "      <th>cum_rev</th>\n",
       "      <th>cum_orders</th>\n",
       "      <th>cum_avg_check</th>\n",
       "    </tr>\n",
       "  </thead>\n",
       "  <tbody>\n",
       "    <tr>\n",
       "      <th>0</th>\n",
       "      <td>2019-08-01</td>\n",
       "      <td>967.2</td>\n",
       "      <td>17</td>\n",
       "      <td>56.894118</td>\n",
       "      <td>967.2</td>\n",
       "      <td>17</td>\n",
       "      <td>56.894118</td>\n",
       "    </tr>\n",
       "    <tr>\n",
       "      <th>1</th>\n",
       "      <td>2019-08-02</td>\n",
       "      <td>2568.1</td>\n",
       "      <td>23</td>\n",
       "      <td>111.656522</td>\n",
       "      <td>3535.3</td>\n",
       "      <td>40</td>\n",
       "      <td>88.382500</td>\n",
       "    </tr>\n",
       "    <tr>\n",
       "      <th>2</th>\n",
       "      <td>2019-08-03</td>\n",
       "      <td>1071.6</td>\n",
       "      <td>14</td>\n",
       "      <td>76.542857</td>\n",
       "      <td>4606.9</td>\n",
       "      <td>54</td>\n",
       "      <td>85.312963</td>\n",
       "    </tr>\n",
       "    <tr>\n",
       "      <th>3</th>\n",
       "      <td>2019-08-04</td>\n",
       "      <td>1531.6</td>\n",
       "      <td>14</td>\n",
       "      <td>109.400000</td>\n",
       "      <td>6138.5</td>\n",
       "      <td>68</td>\n",
       "      <td>90.272059</td>\n",
       "    </tr>\n",
       "    <tr>\n",
       "      <th>4</th>\n",
       "      <td>2019-08-05</td>\n",
       "      <td>1449.3</td>\n",
       "      <td>21</td>\n",
       "      <td>69.014286</td>\n",
       "      <td>7587.8</td>\n",
       "      <td>89</td>\n",
       "      <td>85.256180</td>\n",
       "    </tr>\n",
       "  </tbody>\n",
       "</table>\n",
       "</div>"
      ],
      "text/plain": [
       "        date  revenue  orders   avg_check  cum_rev  cum_orders  cum_avg_check\n",
       "0 2019-08-01    967.2      17   56.894118    967.2          17      56.894118\n",
       "1 2019-08-02   2568.1      23  111.656522   3535.3          40      88.382500\n",
       "2 2019-08-03   1071.6      14   76.542857   4606.9          54      85.312963\n",
       "3 2019-08-04   1531.6      14  109.400000   6138.5          68      90.272059\n",
       "4 2019-08-05   1449.3      21   69.014286   7587.8          89      85.256180"
      ]
     },
     "execution_count": 42,
     "metadata": {},
     "output_type": "execute_result"
    }
   ],
   "source": [
    "#calculating cumulative average check for group B with the filtered data\n",
    "avg_chk_Bclean = orders_B_clean.groupby('date').agg({'revenue':'sum', 'transactionId':'count'}).reset_index()\n",
    "avg_chk_Bclean.columns = ['date', 'revenue', 'orders']\n",
    "avg_chk_Bclean['avg_check'] = avg_chk_Bclean['revenue'] / avg_chk_Bclean['orders']\n",
    "avg_chk_Bclean['cum_rev'] = avg_chk_Bclean['revenue'].cumsum()\n",
    "avg_chk_Bclean['cum_orders'] = avg_chk_Bclean['orders'].cumsum()\n",
    "avg_chk_Bclean['cum_avg_check'] = avg_chk_Bclean['cum_rev'] / avg_chk_Bclean['cum_orders']\n",
    "avg_chk_Bclean.head()"
   ]
  },
  {
   "cell_type": "code",
   "execution_count": 43,
   "metadata": {},
   "outputs": [
    {
     "name": "stderr",
     "output_type": "stream",
     "text": [
      "/opt/conda/lib/python3.7/site-packages/matplotlib/cbook/__init__.py:1402: FutureWarning: Support for multi-dimensional indexing (e.g. `obj[:, None]`) is deprecated and will be removed in a future version.  Convert to a numpy array before indexing instead.\n",
      "  x[:, None]\n",
      "/opt/conda/lib/python3.7/site-packages/matplotlib/cbook/__init__.py:1402: FutureWarning: Support for multi-dimensional indexing (e.g. `obj[:, None]`) is deprecated and will be removed in a future version.  Convert to a numpy array before indexing instead.\n",
      "  x[:, None]\n",
      "/opt/conda/lib/python3.7/site-packages/matplotlib/axes/_base.py:276: FutureWarning: Support for multi-dimensional indexing (e.g. `obj[:, None]`) is deprecated and will be removed in a future version.  Convert to a numpy array before indexing instead.\n",
      "  x = x[:, np.newaxis]\n",
      "/opt/conda/lib/python3.7/site-packages/matplotlib/axes/_base.py:278: FutureWarning: Support for multi-dimensional indexing (e.g. `obj[:, None]`) is deprecated and will be removed in a future version.  Convert to a numpy array before indexing instead.\n",
      "  y = y[:, np.newaxis]\n",
      "/opt/conda/lib/python3.7/site-packages/matplotlib/cbook/__init__.py:1402: FutureWarning: Support for multi-dimensional indexing (e.g. `obj[:, None]`) is deprecated and will be removed in a future version.  Convert to a numpy array before indexing instead.\n",
      "  x[:, None]\n",
      "/opt/conda/lib/python3.7/site-packages/matplotlib/axes/_base.py:276: FutureWarning: Support for multi-dimensional indexing (e.g. `obj[:, None]`) is deprecated and will be removed in a future version.  Convert to a numpy array before indexing instead.\n",
      "  x = x[:, np.newaxis]\n",
      "/opt/conda/lib/python3.7/site-packages/matplotlib/axes/_base.py:278: FutureWarning: Support for multi-dimensional indexing (e.g. `obj[:, None]`) is deprecated and will be removed in a future version.  Convert to a numpy array before indexing instead.\n",
      "  y = y[:, np.newaxis]\n"
     ]
    },
    {
     "data": {
      "image/png": "[encoded data removed]",
      "text/plain": [
       "<Figure size 936x648 with 1 Axes>"
      ]
     },
     "metadata": {
      "needs_background": "light"
     },
     "output_type": "display_data"
    }
   ],
   "source": [
    "#plotting the cumulative average check for both groups with group B filtered data\n",
    "plt.figure(figsize=(13,9))\n",
    "plt.plot(avg_chk_A['date'], avg_chk_A['cum_avg_check'], label = 'Group A')\n",
    "plt.plot(avg_chk_Bclean['date'], avg_chk_Bclean['cum_avg_check'], label = 'Group B filtered data')\n",
    "plt.title('Cumulative average check')\n",
    "plt.legend()\n",
    "plt.show()"
   ]
  },
  {
   "cell_type": "markdown",
   "metadata": {},
   "source": [
    "After filtering the data for group B (only removing 1 specific order) we can see that the groups' average check is pretty similar. \n",
    "We will check for anomalies in the data later on an perform a more accurate filtering of the data.."
   ]
  },
  {
   "cell_type": "markdown",
   "metadata": {},
   "source": [
    "**Calculate each group's conversion rate as the ratio of orders to the number of visits for each day. Plot the daily conversion rates of the two groups and describe the difference. Draw conclusions and make conjectures.**"
   ]
  },
  {
   "cell_type": "code",
   "execution_count": 44,
   "metadata": {},
   "outputs": [],
   "source": [
    "#spliting the visits data to the 2 groups\n",
    "visits_A = visits[visits['group'] == 'A']\n",
    "visits_B = visits[visits['group']=='B']"
   ]
  },
  {
   "cell_type": "code",
   "execution_count": 45,
   "metadata": {},
   "outputs": [],
   "source": [
    "#creating a table with number of orders per day for each group\n",
    "orders_A_count = orders_A.groupby('date').agg({'transactionId':'count'}).reset_index()\n",
    "orders_B_count = orders_B.groupby('date').agg({'transactionId':'count'}).reset_index()"
   ]
  },
  {
   "cell_type": "code",
   "execution_count": 46,
   "metadata": {},
   "outputs": [],
   "source": [
    "#merging the visits and orders tables\n",
    "orders_visits_A = visits_A.merge(orders_A_count, on = 'date')\n",
    "orders_visits_A.columns = ['date', 'group', 'visits', 'orders']\n",
    "orders_visits_B = visits_B.merge(orders_B_count, on = 'date')\n",
    "orders_visits_B.columns = ['date', 'group', 'visits', 'orders']"
   ]
  },
  {
   "cell_type": "code",
   "execution_count": 47,
   "metadata": {},
   "outputs": [],
   "source": [
    "#calculating the conversion rate for each group\n",
    "orders_visits_A['conversion'] = orders_visits_A['orders'] / orders_visits_A['visits']\n",
    "orders_visits_B['conversion'] = orders_visits_B['orders'] / orders_visits_B['visits']"
   ]
  },
  {
   "cell_type": "code",
   "execution_count": 48,
   "metadata": {},
   "outputs": [
    {
     "name": "stderr",
     "output_type": "stream",
     "text": [
      "/opt/conda/lib/python3.7/site-packages/matplotlib/cbook/__init__.py:1402: FutureWarning: Support for multi-dimensional indexing (e.g. `obj[:, None]`) is deprecated and will be removed in a future version.  Convert to a numpy array before indexing instead.\n",
      "  x[:, None]\n",
      "/opt/conda/lib/python3.7/site-packages/matplotlib/axes/_base.py:276: FutureWarning: Support for multi-dimensional indexing (e.g. `obj[:, None]`) is deprecated and will be removed in a future version.  Convert to a numpy array before indexing instead.\n",
      "  x = x[:, np.newaxis]\n",
      "/opt/conda/lib/python3.7/site-packages/matplotlib/axes/_base.py:278: FutureWarning: Support for multi-dimensional indexing (e.g. `obj[:, None]`) is deprecated and will be removed in a future version.  Convert to a numpy array before indexing instead.\n",
      "  y = y[:, np.newaxis]\n",
      "/opt/conda/lib/python3.7/site-packages/matplotlib/cbook/__init__.py:1402: FutureWarning: Support for multi-dimensional indexing (e.g. `obj[:, None]`) is deprecated and will be removed in a future version.  Convert to a numpy array before indexing instead.\n",
      "  x[:, None]\n",
      "/opt/conda/lib/python3.7/site-packages/matplotlib/axes/_base.py:276: FutureWarning: Support for multi-dimensional indexing (e.g. `obj[:, None]`) is deprecated and will be removed in a future version.  Convert to a numpy array before indexing instead.\n",
      "  x = x[:, np.newaxis]\n",
      "/opt/conda/lib/python3.7/site-packages/matplotlib/axes/_base.py:278: FutureWarning: Support for multi-dimensional indexing (e.g. `obj[:, None]`) is deprecated and will be removed in a future version.  Convert to a numpy array before indexing instead.\n",
      "  y = y[:, np.newaxis]\n"
     ]
    },
    {
     "data": {
      "image/png": "[encoded data removed]",
      "text/plain": [
       "<Figure size 936x648 with 1 Axes>"
      ]
     },
     "metadata": {
      "needs_background": "light"
     },
     "output_type": "display_data"
    }
   ],
   "source": [
    "#plotting the daily conversion rate for both groups\n",
    "plt.figure(figsize=(13,9))\n",
    "plt.plot(orders_visits_A['date'], orders_visits_A['conversion'], label = 'Group A')\n",
    "plt.plot(orders_visits_B['date'], orders_visits_B['conversion'], label = 'Group B')\n",
    "plt.title('Daily conversion rate')\n",
    "plt.legend()\n",
    "plt.show()"
   ]
  },
  {
   "cell_type": "markdown",
   "metadata": {},
   "source": [
    "From the conversion rate plot we can see the both groups act in a similar way, no distinct difference. There are some days when Group B has a higher conversion rate and some days it's the other way around."
   ]
  },
  {
   "cell_type": "markdown",
   "metadata": {},
   "source": [
    "**Plot a scatter chart of the number of orders per user. Make conclusions and conjectures.**"
   ]
  },
  {
   "cell_type": "code",
   "execution_count": 49,
   "metadata": {},
   "outputs": [],
   "source": [
    "#creating a table of number of orders per user for both groups\n",
    "orders_user_A = orders_A.groupby('visitorId').agg({'transactionId':'count'}).reset_index()\n",
    "orders_user_A.columns = ['visitorId', 'orders']\n",
    "orders_user_B = orders_B.groupby('visitorId').agg({'transactionId':'count'}).reset_index()\n",
    "orders_user_B.columns = ['visitorId', 'orders']"
   ]
  },
  {
   "cell_type": "code",
   "execution_count": 50,
   "metadata": {},
   "outputs": [
    {
     "data": {
      "image/png": "[encoded data removed]",
      "text/plain": [
       "<Figure size 936x648 with 1 Axes>"
      ]
     },
     "metadata": {
      "needs_background": "light"
     },
     "output_type": "display_data"
    }
   ],
   "source": [
    "#generating a scatter plot\n",
    "plt.figure(figsize = (13,9))\n",
    "plt.scatter(orders_user_A['visitorId'], orders_user_A['orders'], label = 'Group A')\n",
    "plt.scatter(orders_user_B['visitorId'], orders_user_B['orders'], label = 'Group B')\n",
    "plt.title('Number of orders per user')\n",
    "plt.ylabel('Number of orders')\n",
    "plt.legend()\n",
    "plt.show()"
   ]
  },
  {
   "cell_type": "markdown",
   "metadata": {},
   "source": [
    "We can see that most of the users for both groups made only 1 order during August, there are a few users who made 2 orders per month and even less who made three orders. There's no visible difference between the groups."
   ]
  },
  {
   "cell_type": "markdown",
   "metadata": {},
   "source": [
    "**Calculate the 95th and 99th percentiles for the number of orders per user. Define the point at which a data point becomes an anomaly.**"
   ]
  },
  {
   "cell_type": "code",
   "execution_count": 51,
   "metadata": {},
   "outputs": [
    {
     "name": "stdout",
     "output_type": "stream",
     "text": [
      "[1.   2.56]\n"
     ]
    }
   ],
   "source": [
    "#calculating the 95th and 99th perecentile for the number of orders per user for group A\n",
    "print(np.percentile(orders_user_A['orders'], [95,99]))"
   ]
  },
  {
   "cell_type": "markdown",
   "metadata": {},
   "source": [
    "For group A not more than 5% of users placed more than 1 order and not more than 1% place more than 2 orders."
   ]
  },
  {
   "cell_type": "code",
   "execution_count": 52,
   "metadata": {},
   "outputs": [
    {
     "name": "stdout",
     "output_type": "stream",
     "text": [
      "[1. 2.]\n"
     ]
    }
   ],
   "source": [
    "#calculating the 95th and 99th perecentile for the number of orders per user for group B\n",
    "print(np.percentile(orders_user_B['orders'], [95,99]))"
   ]
  },
  {
   "cell_type": "markdown",
   "metadata": {},
   "source": [
    "Same for group B, not more than 5% of users placed more than 1 order and not more than 1% place more than 2 orders."
   ]
  },
  {
   "cell_type": "markdown",
   "metadata": {},
   "source": [
    "**Plot a scatter chart of order prices. Make conclusions and conjectures.**"
   ]
  },
  {
   "cell_type": "code",
   "execution_count": 53,
   "metadata": {},
   "outputs": [
    {
     "data": {
      "image/png": "[encoded data removed]",
      "text/plain": [
       "<Figure size 936x648 with 1 Axes>"
      ]
     },
     "metadata": {
      "needs_background": "light"
     },
     "output_type": "display_data"
    }
   ],
   "source": [
    "#creating a scatter plot for the orders prices for both groups\n",
    "plt.figure(figsize = (13, 9))\n",
    "plt.scatter(orders_A['transactionId'], orders_A['revenue'], label = 'Group A')\n",
    "plt.scatter(orders_B['transactionId'], orders_B['revenue'], label = 'Group B')\n",
    "plt.title('Orders prices')\n",
    "plt.legend()\n",
    "plt.show()"
   ]
  },
  {
   "cell_type": "markdown",
   "metadata": {},
   "source": [
    "We can spot the one order with the extreme revenue we already discussed before, I will use the clean data to see the other orders better."
   ]
  },
  {
   "cell_type": "code",
   "execution_count": 54,
   "metadata": {},
   "outputs": [
    {
     "data": {
      "image/png": "[encoded data removed]",
      "text/plain": [
       "<Figure size 936x648 with 1 Axes>"
      ]
     },
     "metadata": {
      "needs_background": "light"
     },
     "output_type": "display_data"
    }
   ],
   "source": [
    "#creating a scatter plot for the orders prices for both groups with the clean data\n",
    "plt.figure(figsize = (13, 9))\n",
    "plt.scatter(orders_A['transactionId'], orders_A['revenue'], label = 'Group A')\n",
    "plt.scatter(orders_B_clean['transactionId'], orders_B_clean['revenue'], label = 'Group B clean data')\n",
    "plt.title('Orders prices')\n",
    "plt.legend()\n",
    "plt.show()"
   ]
  },
  {
   "cell_type": "markdown",
   "metadata": {},
   "source": [
    "It looks like most of the orders are within the range of 0-500 USD."
   ]
  },
  {
   "cell_type": "markdown",
   "metadata": {},
   "source": [
    "**Calculate the 95th and 99th percentiles of order prices. Define the point at which a data point becomes an anomaly.**"
   ]
  },
  {
   "cell_type": "code",
   "execution_count": 55,
   "metadata": {},
   "outputs": [
    {
     "name": "stdout",
     "output_type": "stream",
     "text": [
      "[385.63  863.201]\n"
     ]
    }
   ],
   "source": [
    "#calculating the 95th and 99th perecentile for the price of orders per user for group A\n",
    "print(np.percentile(orders_A['revenue'], [95,99]))"
   ]
  },
  {
   "cell_type": "markdown",
   "metadata": {},
   "source": [
    "For group A we can see that 95% of the users are spending less than 385 USD per order and not more than 1% of the users spend more than 863 USD."
   ]
  },
  {
   "cell_type": "code",
   "execution_count": 56,
   "metadata": {},
   "outputs": [
    {
     "name": "stdout",
     "output_type": "stream",
     "text": [
      "[425.795 763.865]\n"
     ]
    }
   ],
   "source": [
    "#calculating the 95th and 99th perecentile for the price of orders per user for group B \n",
    "print(np.percentile(orders_B['revenue'], [95,99]))"
   ]
  },
  {
   "cell_type": "markdown",
   "metadata": {},
   "source": [
    "For group B it's very close to group A, even if we keep the one extreme value order, 95% of the users spend up to ~420 USD and not more than 1% of the users spend more than 763 USD. "
   ]
  },
  {
   "cell_type": "markdown",
   "metadata": {},
   "source": [
    "We will apply what we learned about the anomalies of the two group to create a filtered data set."
   ]
  },
  {
   "cell_type": "code",
   "execution_count": 57,
   "metadata": {},
   "outputs": [],
   "source": [
    "#creating a list of abnormal users according to the 99 percentile that we calculated above\n",
    "revenue_limA = np.percentile(orders_A['revenue'], 99) \n",
    "revenue_limB = np.percentile(orders_B['revenue'], 99)\n",
    "\n",
    "orders_limA = np.percentile(orders_user_A['orders'], 99)\n",
    "orders_limB = np.percentile(orders_user_B['orders'], 99)\n",
    "\n",
    "usersWithManyOrders = pd.concat(\n",
    "    [\n",
    "        orders_user_A[orders_user_A['orders'] > orders_limA]['visitorId'],\n",
    "        orders_user_B[orders_user_B['orders'] > orders_limB]['visitorId'],\n",
    "    ],\n",
    "    axis=0,\n",
    ")\n",
    "usersWithExpensiveOrders = pd.concat(\n",
    "    [\n",
    "        orders_A[orders_A['revenue'] > revenue_limA]['visitorId'],\n",
    "        orders_B[orders_B['revenue'] > revenue_limB]['visitorId'],\n",
    "    ],\n",
    "    axis = 0,\n",
    ")\n",
    "abnormalUsers = (\n",
    "    pd.concat([usersWithManyOrders, usersWithExpensiveOrders], axis=0)\n",
    "    .drop_duplicates()\n",
    "    .sort_values()\n",
    ")\n",
    "abnormalUsers_list = list(abnormalUsers)"
   ]
  },
  {
   "cell_type": "code",
   "execution_count": 58,
   "metadata": {},
   "outputs": [
    {
     "data": {
      "text/html": [
       "<div>\n",
       "<style scoped>\n",
       "    .dataframe tbody tr th:only-of-type {\n",
       "        vertical-align: middle;\n",
       "    }\n",
       "\n",
       "    .dataframe tbody tr th {\n",
       "        vertical-align: top;\n",
       "    }\n",
       "\n",
       "    .dataframe thead th {\n",
       "        text-align: right;\n",
       "    }\n",
       "</style>\n",
       "<table border=\"1\" class=\"dataframe\">\n",
       "  <thead>\n",
       "    <tr style=\"text-align: right;\">\n",
       "      <th></th>\n",
       "      <th>index</th>\n",
       "      <th>transactionId</th>\n",
       "      <th>visitorId</th>\n",
       "      <th>date</th>\n",
       "      <th>revenue</th>\n",
       "      <th>group</th>\n",
       "    </tr>\n",
       "  </thead>\n",
       "  <tbody>\n",
       "    <tr>\n",
       "      <th>0</th>\n",
       "      <td>7</td>\n",
       "      <td>2626614568</td>\n",
       "      <td>78758296</td>\n",
       "      <td>2019-08-15</td>\n",
       "      <td>20.1</td>\n",
       "      <td>A</td>\n",
       "    </tr>\n",
       "    <tr>\n",
       "      <th>1</th>\n",
       "      <td>8</td>\n",
       "      <td>1576988021</td>\n",
       "      <td>295230930</td>\n",
       "      <td>2019-08-15</td>\n",
       "      <td>215.9</td>\n",
       "      <td>A</td>\n",
       "    </tr>\n",
       "    <tr>\n",
       "      <th>2</th>\n",
       "      <td>10</td>\n",
       "      <td>3649131742</td>\n",
       "      <td>879864040</td>\n",
       "      <td>2019-08-15</td>\n",
       "      <td>65.7</td>\n",
       "      <td>A</td>\n",
       "    </tr>\n",
       "    <tr>\n",
       "      <th>3</th>\n",
       "      <td>12</td>\n",
       "      <td>2809384911</td>\n",
       "      <td>3213223594</td>\n",
       "      <td>2019-08-15</td>\n",
       "      <td>115.4</td>\n",
       "      <td>A</td>\n",
       "    </tr>\n",
       "    <tr>\n",
       "      <th>4</th>\n",
       "      <td>14</td>\n",
       "      <td>3859315276</td>\n",
       "      <td>1565034404</td>\n",
       "      <td>2019-08-15</td>\n",
       "      <td>170.9</td>\n",
       "      <td>A</td>\n",
       "    </tr>\n",
       "  </tbody>\n",
       "</table>\n",
       "</div>"
      ],
      "text/plain": [
       "   index  transactionId   visitorId       date  revenue group\n",
       "0      7     2626614568    78758296 2019-08-15     20.1     A\n",
       "1      8     1576988021   295230930 2019-08-15    215.9     A\n",
       "2     10     3649131742   879864040 2019-08-15     65.7     A\n",
       "3     12     2809384911  3213223594 2019-08-15    115.4     A\n",
       "4     14     3859315276  1565034404 2019-08-15    170.9     A"
      ]
     },
     "execution_count": 58,
     "metadata": {},
     "output_type": "execute_result"
    }
   ],
   "source": [
    "orders_A_filtered = orders_A.query('visitorId not in @abnormalUsers_list')\n",
    "orders_A_filtered.head()"
   ]
  },
  {
   "cell_type": "code",
   "execution_count": 59,
   "metadata": {},
   "outputs": [
    {
     "data": {
      "text/html": [
       "<div>\n",
       "<style scoped>\n",
       "    .dataframe tbody tr th:only-of-type {\n",
       "        vertical-align: middle;\n",
       "    }\n",
       "\n",
       "    .dataframe tbody tr th {\n",
       "        vertical-align: top;\n",
       "    }\n",
       "\n",
       "    .dataframe thead th {\n",
       "        text-align: right;\n",
       "    }\n",
       "</style>\n",
       "<table border=\"1\" class=\"dataframe\">\n",
       "  <thead>\n",
       "    <tr style=\"text-align: right;\">\n",
       "      <th></th>\n",
       "      <th>index</th>\n",
       "      <th>transactionId</th>\n",
       "      <th>visitorId</th>\n",
       "      <th>date</th>\n",
       "      <th>revenue</th>\n",
       "      <th>group</th>\n",
       "    </tr>\n",
       "  </thead>\n",
       "  <tbody>\n",
       "    <tr>\n",
       "      <th>0</th>\n",
       "      <td>0</td>\n",
       "      <td>3667963787</td>\n",
       "      <td>3312258926</td>\n",
       "      <td>2019-08-15</td>\n",
       "      <td>30.4</td>\n",
       "      <td>B</td>\n",
       "    </tr>\n",
       "    <tr>\n",
       "      <th>1</th>\n",
       "      <td>1</td>\n",
       "      <td>2804400009</td>\n",
       "      <td>3642806036</td>\n",
       "      <td>2019-08-15</td>\n",
       "      <td>15.2</td>\n",
       "      <td>B</td>\n",
       "    </tr>\n",
       "    <tr>\n",
       "      <th>2</th>\n",
       "      <td>3</td>\n",
       "      <td>3797467345</td>\n",
       "      <td>1196621759</td>\n",
       "      <td>2019-08-15</td>\n",
       "      <td>155.1</td>\n",
       "      <td>B</td>\n",
       "    </tr>\n",
       "    <tr>\n",
       "      <th>3</th>\n",
       "      <td>4</td>\n",
       "      <td>2282983706</td>\n",
       "      <td>2322279887</td>\n",
       "      <td>2019-08-15</td>\n",
       "      <td>40.5</td>\n",
       "      <td>B</td>\n",
       "    </tr>\n",
       "    <tr>\n",
       "      <th>4</th>\n",
       "      <td>5</td>\n",
       "      <td>182168103</td>\n",
       "      <td>935554773</td>\n",
       "      <td>2019-08-15</td>\n",
       "      <td>35.0</td>\n",
       "      <td>B</td>\n",
       "    </tr>\n",
       "  </tbody>\n",
       "</table>\n",
       "</div>"
      ],
      "text/plain": [
       "   index  transactionId   visitorId       date  revenue group\n",
       "0      0     3667963787  3312258926 2019-08-15     30.4     B\n",
       "1      1     2804400009  3642806036 2019-08-15     15.2     B\n",
       "2      3     3797467345  1196621759 2019-08-15    155.1     B\n",
       "3      4     2282983706  2322279887 2019-08-15     40.5     B\n",
       "4      5      182168103   935554773 2019-08-15     35.0     B"
      ]
     },
     "execution_count": 59,
     "metadata": {},
     "output_type": "execute_result"
    }
   ],
   "source": [
    "orders_B_filtered = orders_B.query('visitorId not in @abnormalUsers_list')\n",
    "orders_B_filtered.head()"
   ]
  },
  {
   "cell_type": "markdown",
   "metadata": {},
   "source": [
    "**Find the statistical significance of the difference in conversion between the groups using the raw data. Make conclusions and conjectures.**"
   ]
  },
  {
   "cell_type": "code",
   "execution_count": 60,
   "metadata": {},
   "outputs": [
    {
     "data": {
      "image/png": "[encoded data removed]",
      "text/plain": [
       "<Figure size 936x648 with 1 Axes>"
      ]
     },
     "metadata": {
      "needs_background": "light"
     },
     "output_type": "display_data"
    }
   ],
   "source": [
    "#looking at the conversion rates of both groups \n",
    "plt.figure(figsize = (13,9))\n",
    "plt.hist(orders_visits_A['conversion'], alpha = 0.5, label = 'Group A')\n",
    "plt.hist(orders_visits_B['conversion'], alpha = 0.5, label = 'Group B')\n",
    "plt.title('Conversion rate histogram')\n",
    "plt.legend()\n",
    "plt.show()"
   ]
  },
  {
   "cell_type": "code",
   "execution_count": 61,
   "metadata": {},
   "outputs": [],
   "source": [
    "#creating a function to find the statistical significance of the difference in conversion using the raw data\n",
    "#we can use this function later on in our analysis\n",
    "def s_significance(sample1,sample2,alpha=0.05):\n",
    "    #checking if the samples are normaly distributed using the shapiro test\n",
    "    #removing null values from the samples\n",
    "    sample1=sample1.dropna()\n",
    "    sample2=sample2.dropna()\n",
    "    s1, p1_norm=stats.shapiro(sample1)\n",
    "    s2, p2_norm=stats.shapiro(sample2)\n",
    "    if p1_norm > alpha and p2_norm>alpha:\n",
    "        #then both samples are normally distributed and we can continue to perform a t-test\n",
    "        #for t-test we need to check if the variances are equal using the levene test\n",
    "        s_lvn,p_lvn=stats.levene(sample1, sample2)\n",
    "        if p_lvn<alpha:\n",
    "           #variances are not equal\n",
    "            stst,p_value=stats.ttest_ind(sample1, sample2,equal_var=False)\n",
    "        else:\n",
    "            stat,p_value=stats.ttest_ind(sample1, sample2,equal_var=True) \n",
    "    else:\n",
    "    #samples are not normally distributed we need to perform mann-whitney test\n",
    "        stat,p_value=stats.mannwhitneyu(sample1, sample2)\n",
    "    print('P-value is: {}'.format(p_value))\n",
    "    if p_value<alpha:\n",
    "        print('Reject H0')\n",
    "    else:\n",
    "        print('Fail to Reject H0')"
   ]
  },
  {
   "cell_type": "markdown",
   "metadata": {},
   "source": [
    "I will use the above function to check the statistical signicifance between the conversion rate of the two groups using the raw data. \n",
    "\n",
    "H0: There is no statistically significant difference between the conversion rate of group A and group B, the samples are equal. \n",
    "\n",
    "H1: There is a statistically significant difference between conversion rate of group A ang group B."
   ]
  },
  {
   "cell_type": "code",
   "execution_count": 62,
   "metadata": {},
   "outputs": [
    {
     "name": "stdout",
     "output_type": "stream",
     "text": [
      "P-value is: 0.09573715593918651\n",
      "Fail to Reject H0\n"
     ]
    }
   ],
   "source": [
    "#Use the function to check the statistical significance between the conversion rate of the two groups using raw data\n",
    "s_significance(orders_visits_A['conversion'], orders_visits_B['conversion'])"
   ]
  },
  {
   "cell_type": "markdown",
   "metadata": {},
   "source": [
    "We fail to reject the null hypotheses, there is no significant difference between the conversion rate of groups A and B."
   ]
  },
  {
   "cell_type": "markdown",
   "metadata": {},
   "source": [
    "Defining the hypotheses:\n",
    "\n",
    "H0: There is no statistically significant difference between the average order size of group A and group B, the samples are equal. \n",
    "\n",
    "H1: There is a statistically significant difference between average order size of group A ang group B."
   ]
  },
  {
   "cell_type": "code",
   "execution_count": 63,
   "metadata": {},
   "outputs": [
    {
     "name": "stdout",
     "output_type": "stream",
     "text": [
      "P-value is: 0.4775457158686006\n",
      "Fail to Reject H0\n"
     ]
    }
   ],
   "source": [
    "#Use the function to check the statistical significance between the average order size of the two groups using raw data\n",
    "s_significance(avg_chk_A['avg_check'], avg_chk_B['avg_check'])"
   ]
  },
  {
   "cell_type": "markdown",
   "metadata": {},
   "source": [
    "We fail to reject the null hypotheses, there is no significant difference between the average check of groups A and B."
   ]
  },
  {
   "cell_type": "markdown",
   "metadata": {},
   "source": [
    "**Find the statistical significance of the difference in conversion between the groups using the filtered data. Make conclusions and conjectures.**"
   ]
  },
  {
   "cell_type": "code",
   "execution_count": 64,
   "metadata": {},
   "outputs": [],
   "source": [
    "#calculating the conversion rate for group B using the filtered data\n",
    "#counting the number of orders grouped by date\n",
    "orders_B_filtered_count = orders_B_filtered.groupby('date').agg({'transactionId':'count'}).reset_index()\n",
    "#merging the filtered orders data with the visits\n",
    "orders_visits_B_filtered = visits_B.merge(orders_B_filtered_count, on = 'date')\n",
    "orders_visits_B_filtered.columns = ['date', 'group', 'visits', 'orders']\n",
    "#calculating conversion\n",
    "orders_visits_B_filtered['conversion'] = orders_visits_B_filtered['orders'] / orders_visits_B_filtered['visits']"
   ]
  },
  {
   "cell_type": "code",
   "execution_count": 65,
   "metadata": {},
   "outputs": [],
   "source": [
    "#Doing the same for group A\n",
    "#counting the number of orders grouped by date\n",
    "orders_A_filtered_count = orders_A_filtered.groupby('date').agg({'transactionId':'count'}).reset_index()\n",
    "#merging the filtered orders data with the visits\n",
    "orders_visits_A_filtered = visits_A.merge(orders_A_filtered_count, on = 'date')\n",
    "orders_visits_A_filtered.columns = ['date', 'group', 'visits', 'orders']\n",
    "#calculating conversion\n",
    "orders_visits_A_filtered['conversion'] = orders_visits_A_filtered['orders'] / orders_visits_A_filtered['visits']"
   ]
  },
  {
   "cell_type": "code",
   "execution_count": 66,
   "metadata": {},
   "outputs": [
    {
     "data": {
      "image/png": "[encoded data removed]",
      "text/plain": [
       "<Figure size 936x648 with 1 Axes>"
      ]
     },
     "metadata": {
      "needs_background": "light"
     },
     "output_type": "display_data"
    }
   ],
   "source": [
    "#looking at the conversion rates of both filtered groups \n",
    "plt.figure(figsize = (13,9))\n",
    "plt.hist(orders_visits_A_filtered['conversion'], alpha = 0.5, label = 'Group A')\n",
    "plt.hist(orders_visits_B_filtered['conversion'], alpha = 0.5, label = 'Group B')\n",
    "plt.title('Conversion rate histogram (filtered data)')\n",
    "plt.legend()\n",
    "plt.show()"
   ]
  },
  {
   "cell_type": "code",
   "execution_count": 67,
   "metadata": {},
   "outputs": [
    {
     "data": {
      "text/plain": [
       "0.024877867674384355"
      ]
     },
     "execution_count": 67,
     "metadata": {},
     "output_type": "execute_result"
    }
   ],
   "source": [
    "#calculating average conversion rate for group A - filtered\n",
    "orders_visits_A_filtered['conversion'].mean()"
   ]
  },
  {
   "cell_type": "code",
   "execution_count": 68,
   "metadata": {},
   "outputs": [
    {
     "data": {
      "text/plain": [
       "0.029746174447601383"
      ]
     },
     "execution_count": 68,
     "metadata": {},
     "output_type": "execute_result"
    }
   ],
   "source": [
    "#calculating average conversion rate for group B - filtered\n",
    "orders_visits_B_filtered['conversion'].mean()"
   ]
  },
  {
   "cell_type": "code",
   "execution_count": 69,
   "metadata": {},
   "outputs": [
    {
     "data": {
      "text/plain": [
       "19.56882654468698"
      ]
     },
     "execution_count": 69,
     "metadata": {},
     "output_type": "execute_result"
    }
   ],
   "source": [
    "#calculating the differnce in average conversion rate between the group\n",
    "((orders_visits_B_filtered['conversion'].mean()-orders_visits_A_filtered['conversion'].mean())/orders_visits_A_filtered['conversion'].mean())*100"
   ]
  },
  {
   "cell_type": "markdown",
   "metadata": {},
   "source": [
    "Defining the hypotheses:\n",
    "\n",
    "H0: There is no statistically significant difference between the conversion rate of group A and group B, the samples are equal. \n",
    "\n",
    "H1: There is a statistically significant difference between conversion rate of group A ang group B."
   ]
  },
  {
   "cell_type": "code",
   "execution_count": 70,
   "metadata": {},
   "outputs": [
    {
     "name": "stdout",
     "output_type": "stream",
     "text": [
      "P-value is: 0.022044902794960863\n",
      "Reject H0\n"
     ]
    }
   ],
   "source": [
    "#Use the function to check the statistical significance between the conversion rate of the two groups using filtered data\n",
    "s_significance(orders_visits_A_filtered['conversion'], orders_visits_B_filtered['conversion'])"
   ]
  },
  {
   "cell_type": "markdown",
   "metadata": {},
   "source": [
    "When using the filtered data with the anomalies of users who purchased more than twice a month the conversion rate is significantly different between the groups in favor to group B with almost 20% increase in average conversion rate."
   ]
  },
  {
   "cell_type": "code",
   "execution_count": 71,
   "metadata": {},
   "outputs": [],
   "source": [
    "#looking at the cumulative revenue for both groups with filtered data\n",
    "revenue_A_filtered = orders_A_filtered.groupby('date').agg({'revenue':'sum'}).reset_index()\n",
    "revenue_A_filtered['cum_rev'] = revenue_A_filtered['revenue'].cumsum()\n",
    "revenue_B_filtered = orders_B_filtered.groupby('date').agg({'revenue':'sum'}).reset_index()\n",
    "revenue_B_filtered['cum_rev'] = revenue_B_filtered['revenue'].cumsum()"
   ]
  },
  {
   "cell_type": "code",
   "execution_count": 72,
   "metadata": {},
   "outputs": [
    {
     "name": "stderr",
     "output_type": "stream",
     "text": [
      "/opt/conda/lib/python3.7/site-packages/matplotlib/cbook/__init__.py:1402: FutureWarning: Support for multi-dimensional indexing (e.g. `obj[:, None]`) is deprecated and will be removed in a future version.  Convert to a numpy array before indexing instead.\n",
      "  x[:, None]\n",
      "/opt/conda/lib/python3.7/site-packages/matplotlib/cbook/__init__.py:1402: FutureWarning: Support for multi-dimensional indexing (e.g. `obj[:, None]`) is deprecated and will be removed in a future version.  Convert to a numpy array before indexing instead.\n",
      "  x[:, None]\n",
      "/opt/conda/lib/python3.7/site-packages/matplotlib/axes/_base.py:276: FutureWarning: Support for multi-dimensional indexing (e.g. `obj[:, None]`) is deprecated and will be removed in a future version.  Convert to a numpy array before indexing instead.\n",
      "  x = x[:, np.newaxis]\n",
      "/opt/conda/lib/python3.7/site-packages/matplotlib/axes/_base.py:278: FutureWarning: Support for multi-dimensional indexing (e.g. `obj[:, None]`) is deprecated and will be removed in a future version.  Convert to a numpy array before indexing instead.\n",
      "  y = y[:, np.newaxis]\n",
      "/opt/conda/lib/python3.7/site-packages/matplotlib/cbook/__init__.py:1402: FutureWarning: Support for multi-dimensional indexing (e.g. `obj[:, None]`) is deprecated and will be removed in a future version.  Convert to a numpy array before indexing instead.\n",
      "  x[:, None]\n",
      "/opt/conda/lib/python3.7/site-packages/matplotlib/axes/_base.py:276: FutureWarning: Support for multi-dimensional indexing (e.g. `obj[:, None]`) is deprecated and will be removed in a future version.  Convert to a numpy array before indexing instead.\n",
      "  x = x[:, np.newaxis]\n",
      "/opt/conda/lib/python3.7/site-packages/matplotlib/axes/_base.py:278: FutureWarning: Support for multi-dimensional indexing (e.g. `obj[:, None]`) is deprecated and will be removed in a future version.  Convert to a numpy array before indexing instead.\n",
      "  y = y[:, np.newaxis]\n"
     ]
    },
    {
     "data": {
      "image/png": "[encoded data removed]",
      "text/plain": [
       "<Figure size 936x648 with 1 Axes>"
      ]
     },
     "metadata": {
      "needs_background": "light"
     },
     "output_type": "display_data"
    }
   ],
   "source": [
    "#plotting the cumulative revenue \n",
    "plt.figure(figsize=(13,9))\n",
    "plt.plot(revenue_A_filtered['date'], revenue_A_filtered['cum_rev'], label = 'Group A filtered')\n",
    "plt.plot(revenue_B_filtered['date'], revenue_B_filtered['cum_rev'], label = 'Group B filtered')\n",
    "plt.title('Daily cumulative revenue (filtered data)')\n",
    "plt.show()"
   ]
  },
  {
   "cell_type": "markdown",
   "metadata": {},
   "source": [
    "Looking at the revenue graph it looks like from the 5th day of the test, group B's revenue increased and continued to be higher than group B, probably due to the higher conversion rate. "
   ]
  },
  {
   "cell_type": "markdown",
   "metadata": {},
   "source": [
    "**Find the statistical significance of the difference in average order size between the groups using the filtered data. Make conclusions and conjectures.**"
   ]
  },
  {
   "cell_type": "code",
   "execution_count": 73,
   "metadata": {},
   "outputs": [],
   "source": [
    "#calculating average check for Group B with the filtered data\n",
    "avg_chk_B_filtered = orders_B_filtered.groupby('date').agg({'revenue':'sum', 'transactionId':'count'}).reset_index()\n",
    "avg_chk_B_filtered['avg_check'] = avg_chk_B_filtered['revenue'] / avg_chk_B_filtered['transactionId']"
   ]
  },
  {
   "cell_type": "code",
   "execution_count": 74,
   "metadata": {},
   "outputs": [],
   "source": [
    "#doing the same for group A\n",
    "avg_chk_A_filtered = orders_A_filtered.groupby('date').agg({'revenue':'sum', 'transactionId':'count'}).reset_index()\n",
    "avg_chk_A_filtered['avg_check'] = avg_chk_A_filtered['revenue'] / avg_chk_A_filtered['transactionId']"
   ]
  },
  {
   "cell_type": "markdown",
   "metadata": {},
   "source": [
    "Defining the hypotheses:\n",
    "\n",
    "H0: There is no statistically significant difference between the average order size of group A and group B, the samples are equal. \n",
    "\n",
    "H1: There is a statistically significant difference between average order size of group A ang group B."
   ]
  },
  {
   "cell_type": "code",
   "execution_count": 75,
   "metadata": {},
   "outputs": [
    {
     "name": "stdout",
     "output_type": "stream",
     "text": [
      "P-value is: 0.5136004701322858\n",
      "Fail to Reject H0\n"
     ]
    }
   ],
   "source": [
    "#Use the function to check the statistical significance between the average order size of the two groups using filtered data\n",
    "s_significance(avg_chk_A_filtered['avg_check'], avg_chk_B_filtered['avg_check'])"
   ]
  },
  {
   "cell_type": "markdown",
   "metadata": {},
   "source": [
    "Even with the filtered data we can't reject the null hypothese, the avergae check of both groups is not significantly different. It makes sense that the average check will be similar after we removed all the high value orders and kept the same range of orders (up to ~800)."
   ]
  },
  {
   "cell_type": "markdown",
   "metadata": {},
   "source": [
    "**Make a decision based on the test results.**\n",
    "\n",
    "The possible decisions are: \n",
    "1. Stop the test, consider one of the groups the leader. \n",
    "2. Stop the test, conclude that there is no difference between the groups. \n",
    "3. Continue the test."
   ]
  },
  {
   "cell_type": "markdown",
   "metadata": {},
   "source": [
    "The test has been running for 1 month, looking at the results I think we can stop the test and declare that the leading group is Group B.\n",
    "After removing anomalies in both groups we can see that group B has a higher conversion rate and eventhough the average check is the same our total revenue will be higher for group B assuming the conversion is indeed higher."
   ]
  }
 ],
 "metadata": {
  "ExecuteTimeLog": [
   {
    "duration": 892,
    "start_time": "2022-01-15T09:32:03.689Z"
   },
   {
    "duration": 3178,
    "start_time": "2022-01-15T09:32:38.198Z"
   },
   {
    "duration": 2949,
    "start_time": "2022-01-15T09:34:01.445Z"
   },
   {
    "duration": 2644,
    "start_time": "2022-01-15T09:34:35.739Z"
   },
   {
    "duration": 21,
    "start_time": "2022-01-15T09:35:47.570Z"
   },
   {
    "duration": 19,
    "start_time": "2022-01-15T09:36:25.282Z"
   },
   {
    "duration": 19,
    "start_time": "2022-01-15T09:36:48.664Z"
   },
   {
    "duration": 9,
    "start_time": "2022-01-15T09:36:50.257Z"
   },
   {
    "duration": 9,
    "start_time": "2022-01-15T09:37:10.709Z"
   },
   {
    "duration": 11839,
    "start_time": "2022-01-15T09:37:36.376Z"
   },
   {
    "duration": 9518,
    "start_time": "2022-01-15T09:37:55.925Z"
   },
   {
    "duration": 17,
    "start_time": "2022-01-15T09:38:25.834Z"
   },
   {
    "duration": 9507,
    "start_time": "2022-01-15T09:38:26.965Z"
   },
   {
    "duration": 9,
    "start_time": "2022-01-15T09:38:46.674Z"
   },
   {
    "duration": 19,
    "start_time": "2022-01-15T09:38:57.851Z"
   },
   {
    "duration": 13,
    "start_time": "2022-01-15T09:39:00.555Z"
   },
   {
    "duration": 11,
    "start_time": "2022-01-15T09:39:12.682Z"
   },
   {
    "duration": 10,
    "start_time": "2022-01-15T09:39:27.463Z"
   },
   {
    "duration": 10801,
    "start_time": "2022-01-15T09:43:03.399Z"
   },
   {
    "duration": 11425,
    "start_time": "2022-01-15T09:43:29.055Z"
   },
   {
    "duration": 16,
    "start_time": "2022-01-15T09:43:47.517Z"
   },
   {
    "duration": 19,
    "start_time": "2022-01-15T09:44:12.545Z"
   },
   {
    "duration": 10941,
    "start_time": "2022-01-15T09:46:22.442Z"
   },
   {
    "duration": 21,
    "start_time": "2022-01-15T09:46:48.165Z"
   },
   {
    "duration": 64,
    "start_time": "2022-01-15T09:53:29.725Z"
   },
   {
    "duration": 19,
    "start_time": "2022-01-15T09:54:01.965Z"
   },
   {
    "duration": 9,
    "start_time": "2022-01-15T09:54:40.279Z"
   },
   {
    "duration": 19,
    "start_time": "2022-01-15T09:54:45.192Z"
   },
   {
    "duration": 11,
    "start_time": "2022-01-15T09:54:48.563Z"
   },
   {
    "duration": 8,
    "start_time": "2022-01-15T09:55:49.276Z"
   },
   {
    "duration": 19,
    "start_time": "2022-01-15T09:56:01.432Z"
   },
   {
    "duration": 400,
    "start_time": "2022-01-15T09:56:48.333Z"
   },
   {
    "duration": 23,
    "start_time": "2022-01-15T09:57:20.421Z"
   },
   {
    "duration": 11178,
    "start_time": "2022-01-15T10:00:49.338Z"
   },
   {
    "duration": 9,
    "start_time": "2022-01-15T10:02:38.044Z"
   },
   {
    "duration": 882,
    "start_time": "2022-01-15T10:02:49.897Z"
   },
   {
    "duration": 11,
    "start_time": "2022-01-15T10:03:33.610Z"
   },
   {
    "duration": 47,
    "start_time": "2022-01-15T10:03:47.776Z"
   },
   {
    "duration": 14,
    "start_time": "2022-01-15T10:03:51.149Z"
   },
   {
    "duration": 10,
    "start_time": "2022-01-15T10:05:01.955Z"
   },
   {
    "duration": 8,
    "start_time": "2022-01-15T10:06:21.120Z"
   },
   {
    "duration": 420,
    "start_time": "2022-01-15T10:09:47.423Z"
   },
   {
    "duration": 34,
    "start_time": "2022-01-15T10:09:50.788Z"
   },
   {
    "duration": 24,
    "start_time": "2022-01-15T10:13:37.453Z"
   },
   {
    "duration": 11,
    "start_time": "2022-01-15T10:15:21.070Z"
   },
   {
    "duration": 525,
    "start_time": "2022-01-15T10:15:28.317Z"
   },
   {
    "duration": 11,
    "start_time": "2022-01-15T10:17:05.011Z"
   },
   {
    "duration": 27,
    "start_time": "2022-01-15T10:29:08.729Z"
   },
   {
    "duration": 36,
    "start_time": "2022-01-15T10:54:21.197Z"
   },
   {
    "duration": 484,
    "start_time": "2022-01-15T10:57:12.835Z"
   },
   {
    "duration": 141,
    "start_time": "2022-01-15T10:57:33.674Z"
   },
   {
    "duration": 10481,
    "start_time": "2022-01-15T10:57:50.862Z"
   },
   {
    "duration": 15,
    "start_time": "2022-01-15T10:58:13.323Z"
   },
   {
    "duration": 1677,
    "start_time": "2022-01-15T10:59:40.549Z"
   },
   {
    "duration": 15,
    "start_time": "2022-01-15T11:00:09.251Z"
   },
   {
    "duration": 8,
    "start_time": "2022-01-15T11:00:20.737Z"
   },
   {
    "duration": 1574,
    "start_time": "2022-01-15T11:00:40.684Z"
   },
   {
    "duration": 7,
    "start_time": "2022-01-15T11:01:06.087Z"
   },
   {
    "duration": 418,
    "start_time": "2022-01-15T11:03:07.781Z"
   },
   {
    "duration": 568,
    "start_time": "2022-01-15T11:03:33.489Z"
   },
   {
    "duration": 1490,
    "start_time": "2022-01-15T11:04:04.555Z"
   },
   {
    "duration": 142,
    "start_time": "2022-01-15T11:04:34.913Z"
   },
   {
    "duration": 135,
    "start_time": "2022-01-15T11:04:46.335Z"
   },
   {
    "duration": 31,
    "start_time": "2022-01-15T11:04:59.645Z"
   },
   {
    "duration": 33,
    "start_time": "2022-01-15T11:05:12.614Z"
   },
   {
    "duration": 419,
    "start_time": "2022-01-15T11:06:53.576Z"
   },
   {
    "duration": 9,
    "start_time": "2022-01-15T11:07:13.977Z"
   },
   {
    "duration": 19,
    "start_time": "2022-01-15T11:07:22.965Z"
   },
   {
    "duration": 12,
    "start_time": "2022-01-15T11:07:37.486Z"
   },
   {
    "duration": 8,
    "start_time": "2022-01-15T11:11:38.106Z"
   },
   {
    "duration": 379,
    "start_time": "2022-01-15T11:12:14.145Z"
   },
   {
    "duration": 398,
    "start_time": "2022-01-15T11:13:18.871Z"
   },
   {
    "duration": 32,
    "start_time": "2022-01-15T11:13:27.646Z"
   },
   {
    "duration": 20,
    "start_time": "2022-01-15T11:13:52.521Z"
   },
   {
    "duration": 15,
    "start_time": "2022-01-15T11:16:03.931Z"
   },
   {
    "duration": 469,
    "start_time": "2022-01-15T11:16:18.815Z"
   },
   {
    "duration": 9315,
    "start_time": "2022-01-15T11:16:33.760Z"
   },
   {
    "duration": 9,
    "start_time": "2022-01-15T11:17:49.834Z"
   },
   {
    "duration": 512,
    "start_time": "2022-01-15T11:18:06.475Z"
   },
   {
    "duration": 398,
    "start_time": "2022-01-15T11:18:19.561Z"
   },
   {
    "duration": 19,
    "start_time": "2022-01-15T11:18:36.674Z"
   },
   {
    "duration": 9,
    "start_time": "2022-01-15T11:18:44.898Z"
   },
   {
    "duration": 19,
    "start_time": "2022-01-15T11:18:50.762Z"
   },
   {
    "duration": 13,
    "start_time": "2022-01-15T11:19:33.083Z"
   },
   {
    "duration": 25,
    "start_time": "2022-01-15T11:19:41.545Z"
   },
   {
    "duration": 21,
    "start_time": "2022-01-15T11:19:49.111Z"
   },
   {
    "duration": 11188,
    "start_time": "2022-01-15T11:24:46.460Z"
   },
   {
    "duration": 17,
    "start_time": "2022-01-15T11:25:20.559Z"
   },
   {
    "duration": 22,
    "start_time": "2022-01-15T11:25:24.956Z"
   },
   {
    "duration": 20,
    "start_time": "2022-01-15T11:25:38.500Z"
   },
   {
    "duration": 369,
    "start_time": "2022-01-17T17:15:39.459Z"
   },
   {
    "duration": 12987,
    "start_time": "2022-01-17T17:15:53.314Z"
   },
   {
    "duration": 631,
    "start_time": "2022-01-17T17:16:06.303Z"
   },
   {
    "duration": 17,
    "start_time": "2022-01-17T17:16:06.938Z"
   },
   {
    "duration": 33,
    "start_time": "2022-01-17T17:16:06.958Z"
   },
   {
    "duration": 15,
    "start_time": "2022-01-17T17:16:07.005Z"
   },
   {
    "duration": 20,
    "start_time": "2022-01-17T17:16:07.023Z"
   },
   {
    "duration": 43,
    "start_time": "2022-01-17T17:16:07.046Z"
   },
   {
    "duration": 16,
    "start_time": "2022-01-17T17:16:07.094Z"
   },
   {
    "duration": 33,
    "start_time": "2022-01-17T17:16:07.114Z"
   },
   {
    "duration": 21,
    "start_time": "2022-01-17T17:16:07.150Z"
   },
   {
    "duration": 17,
    "start_time": "2022-01-17T17:16:07.174Z"
   },
   {
    "duration": 23,
    "start_time": "2022-01-17T17:16:07.194Z"
   },
   {
    "duration": 965,
    "start_time": "2022-01-17T17:16:07.219Z"
   },
   {
    "duration": 12,
    "start_time": "2022-01-17T17:16:08.186Z"
   },
   {
    "duration": 78,
    "start_time": "2022-01-17T17:16:08.201Z"
   },
   {
    "duration": 30,
    "start_time": "2022-01-17T17:16:08.282Z"
   },
   {
    "duration": 17,
    "start_time": "2022-01-17T17:16:08.315Z"
   },
   {
    "duration": 42,
    "start_time": "2022-01-17T17:16:08.334Z"
   },
   {
    "duration": 15,
    "start_time": "2022-01-17T17:16:08.378Z"
   },
   {
    "duration": 3783,
    "start_time": "2022-01-17T17:16:08.395Z"
   },
   {
    "duration": 301,
    "start_time": "2022-01-17T17:16:42.202Z"
   },
   {
    "duration": 24,
    "start_time": "2022-01-17T17:17:05.376Z"
   },
   {
    "duration": 25,
    "start_time": "2022-01-17T17:18:28.941Z"
   },
   {
    "duration": 8,
    "start_time": "2022-01-17T17:19:06.240Z"
   },
   {
    "duration": 6,
    "start_time": "2022-01-17T17:19:24.168Z"
   },
   {
    "duration": 278,
    "start_time": "2022-01-17T17:21:09.316Z"
   },
   {
    "duration": 3,
    "start_time": "2022-01-17T17:21:18.919Z"
   },
   {
    "duration": 375,
    "start_time": "2022-01-17T17:23:06.801Z"
   },
   {
    "duration": 22,
    "start_time": "2022-01-17T17:23:12.801Z"
   },
   {
    "duration": 289,
    "start_time": "2022-01-17T17:26:10.624Z"
   },
   {
    "duration": 4,
    "start_time": "2022-01-17T17:26:17.895Z"
   },
   {
    "duration": 6,
    "start_time": "2022-01-17T17:26:31.549Z"
   },
   {
    "duration": 18,
    "start_time": "2022-01-17T17:27:51.589Z"
   },
   {
    "duration": 8,
    "start_time": "2022-01-17T17:28:46.165Z"
   },
   {
    "duration": 17,
    "start_time": "2022-01-17T17:28:47.838Z"
   },
   {
    "duration": 18,
    "start_time": "2022-01-17T17:29:15.248Z"
   },
   {
    "duration": 732,
    "start_time": "2022-01-17T17:35:20.964Z"
   },
   {
    "duration": 264,
    "start_time": "2022-01-17T17:35:57.201Z"
   },
   {
    "duration": 4,
    "start_time": "2022-01-17T17:36:13.114Z"
   },
   {
    "duration": 290,
    "start_time": "2022-01-17T17:36:18.691Z"
   },
   {
    "duration": 4,
    "start_time": "2022-01-17T17:36:58.729Z"
   },
   {
    "duration": 466,
    "start_time": "2022-01-17T17:37:03.370Z"
   },
   {
    "duration": 312,
    "start_time": "2022-01-17T17:40:09.526Z"
   },
   {
    "duration": 330,
    "start_time": "2022-01-17T17:41:00.911Z"
   },
   {
    "duration": 511,
    "start_time": "2022-01-17T17:41:15.638Z"
   },
   {
    "duration": 270,
    "start_time": "2022-01-17T17:42:48.540Z"
   },
   {
    "duration": 20,
    "start_time": "2022-01-17T17:43:24.980Z"
   },
   {
    "duration": 8,
    "start_time": "2022-01-17T17:43:56.307Z"
   },
   {
    "duration": 17,
    "start_time": "2022-01-17T17:44:16.691Z"
   },
   {
    "duration": 14,
    "start_time": "2022-01-17T17:44:37.646Z"
   },
   {
    "duration": 12,
    "start_time": "2022-01-17T17:46:06.876Z"
   },
   {
    "duration": 12,
    "start_time": "2022-01-17T17:46:12.407Z"
   },
   {
    "duration": 18,
    "start_time": "2022-01-17T17:46:48.696Z"
   },
   {
    "duration": 16,
    "start_time": "2022-01-17T17:47:10.915Z"
   },
   {
    "duration": 4628,
    "start_time": "2022-01-17T17:48:15.039Z"
   },
   {
    "duration": 387,
    "start_time": "2022-01-17T17:48:36.944Z"
   },
   {
    "duration": 12,
    "start_time": "2022-01-17T17:48:45.063Z"
   },
   {
    "duration": 14,
    "start_time": "2022-01-17T17:48:54.586Z"
   },
   {
    "duration": 4073,
    "start_time": "2022-01-17T17:49:02.597Z"
   },
   {
    "duration": 18,
    "start_time": "2022-01-17T17:49:18.850Z"
   },
   {
    "duration": 13,
    "start_time": "2022-01-17T17:49:20.721Z"
   },
   {
    "duration": 18,
    "start_time": "2022-01-17T17:49:23.863Z"
   },
   {
    "duration": 553,
    "start_time": "2022-01-17T17:49:26.885Z"
   },
   {
    "duration": 622,
    "start_time": "2022-01-17T17:49:48.665Z"
   },
   {
    "duration": 597,
    "start_time": "2022-01-17T17:50:59.281Z"
   },
   {
    "duration": 812,
    "start_time": "2022-01-17T17:51:31.511Z"
   },
   {
    "duration": 850,
    "start_time": "2022-01-17T17:52:15.242Z"
   },
   {
    "duration": 583,
    "start_time": "2022-01-17T17:52:22.825Z"
   },
   {
    "duration": 12,
    "start_time": "2022-01-17T17:53:50.019Z"
   },
   {
    "duration": 749,
    "start_time": "2022-01-17T17:54:06.271Z"
   },
   {
    "duration": 848,
    "start_time": "2022-01-17T17:54:21.730Z"
   },
   {
    "duration": 661,
    "start_time": "2022-01-17T17:54:46.182Z"
   },
   {
    "duration": 709,
    "start_time": "2022-01-17T17:54:53.564Z"
   },
   {
    "duration": 801,
    "start_time": "2022-01-17T17:56:24.401Z"
   },
   {
    "duration": 607,
    "start_time": "2022-01-17T17:56:33.222Z"
   },
   {
    "duration": 4,
    "start_time": "2022-01-17T18:00:26.344Z"
   },
   {
    "duration": 97,
    "start_time": "2022-01-17T18:00:53.037Z"
   },
   {
    "duration": 96,
    "start_time": "2022-01-17T18:01:05.747Z"
   },
   {
    "duration": 883,
    "start_time": "2022-01-17T18:01:11.409Z"
   },
   {
    "duration": 1013,
    "start_time": "2022-01-17T18:02:18.576Z"
   },
   {
    "duration": 17,
    "start_time": "2022-01-17T18:06:23.890Z"
   },
   {
    "duration": 9,
    "start_time": "2022-01-17T18:06:44.210Z"
   },
   {
    "duration": 20,
    "start_time": "2022-01-17T18:06:45.946Z"
   },
   {
    "duration": 14,
    "start_time": "2022-01-17T18:06:49.679Z"
   },
   {
    "duration": 20,
    "start_time": "2022-01-17T18:06:51.857Z"
   },
   {
    "duration": 13,
    "start_time": "2022-01-17T18:06:54.256Z"
   },
   {
    "duration": 11,
    "start_time": "2022-01-17T18:06:56.581Z"
   },
   {
    "duration": 820,
    "start_time": "2022-01-17T18:07:22.283Z"
   },
   {
    "duration": 797,
    "start_time": "2022-01-17T18:07:30.008Z"
   },
   {
    "duration": 492,
    "start_time": "2022-01-17T18:08:23.847Z"
   },
   {
    "duration": 20,
    "start_time": "2022-01-17T18:15:48.732Z"
   },
   {
    "duration": 19,
    "start_time": "2022-01-17T18:16:01.991Z"
   },
   {
    "duration": 18,
    "start_time": "2022-01-17T18:17:50.412Z"
   },
   {
    "duration": 16,
    "start_time": "2022-01-17T18:18:00.480Z"
   },
   {
    "duration": 301,
    "start_time": "2022-01-17T18:18:54.852Z"
   },
   {
    "duration": 12,
    "start_time": "2022-01-17T18:18:59.249Z"
   },
   {
    "duration": 6,
    "start_time": "2022-01-17T18:19:48.862Z"
   },
   {
    "duration": 19,
    "start_time": "2022-01-17T18:19:56.539Z"
   },
   {
    "duration": 22,
    "start_time": "2022-01-17T18:20:01.451Z"
   },
   {
    "duration": 22,
    "start_time": "2022-01-17T18:20:10.616Z"
   },
   {
    "duration": 22,
    "start_time": "2022-01-17T18:21:44.438Z"
   },
   {
    "duration": 633,
    "start_time": "2022-01-17T18:23:24.919Z"
   },
   {
    "duration": 5,
    "start_time": "2022-01-17T18:28:11.839Z"
   },
   {
    "duration": 9,
    "start_time": "2022-01-17T18:28:23.767Z"
   },
   {
    "duration": 253,
    "start_time": "2022-01-17T18:28:45.072Z"
   },
   {
    "duration": 250,
    "start_time": "2022-01-17T18:28:52.944Z"
   },
   {
    "duration": 329,
    "start_time": "2022-01-18T08:01:04.218Z"
   },
   {
    "duration": 10672,
    "start_time": "2022-01-18T08:01:19.152Z"
   },
   {
    "duration": 1013,
    "start_time": "2022-01-18T08:01:29.827Z"
   },
   {
    "duration": 16,
    "start_time": "2022-01-18T08:01:30.843Z"
   },
   {
    "duration": 18,
    "start_time": "2022-01-18T08:01:30.862Z"
   },
   {
    "duration": 20,
    "start_time": "2022-01-18T08:01:30.882Z"
   },
   {
    "duration": 43,
    "start_time": "2022-01-18T08:01:30.904Z"
   },
   {
    "duration": 27,
    "start_time": "2022-01-18T08:01:30.950Z"
   },
   {
    "duration": 28,
    "start_time": "2022-01-18T08:01:30.980Z"
   },
   {
    "duration": 37,
    "start_time": "2022-01-18T08:01:31.012Z"
   },
   {
    "duration": 10,
    "start_time": "2022-01-18T08:01:31.052Z"
   },
   {
    "duration": 21,
    "start_time": "2022-01-18T08:01:31.065Z"
   },
   {
    "duration": 32,
    "start_time": "2022-01-18T08:01:31.089Z"
   },
   {
    "duration": 631,
    "start_time": "2022-01-18T08:01:31.123Z"
   },
   {
    "duration": 12,
    "start_time": "2022-01-18T08:01:31.757Z"
   },
   {
    "duration": 16,
    "start_time": "2022-01-18T08:01:31.772Z"
   },
   {
    "duration": 67,
    "start_time": "2022-01-18T08:01:31.791Z"
   },
   {
    "duration": 16,
    "start_time": "2022-01-18T08:01:31.861Z"
   },
   {
    "duration": 21,
    "start_time": "2022-01-18T08:01:31.880Z"
   },
   {
    "duration": 38,
    "start_time": "2022-01-18T08:01:31.903Z"
   },
   {
    "duration": 12,
    "start_time": "2022-01-18T08:01:31.944Z"
   },
   {
    "duration": 24,
    "start_time": "2022-01-18T08:01:31.959Z"
   },
   {
    "duration": 16,
    "start_time": "2022-01-18T08:01:31.985Z"
   },
   {
    "duration": 38,
    "start_time": "2022-01-18T08:01:32.003Z"
   },
   {
    "duration": 18,
    "start_time": "2022-01-18T08:01:32.045Z"
   },
   {
    "duration": 24,
    "start_time": "2022-01-18T08:01:32.067Z"
   },
   {
    "duration": 47,
    "start_time": "2022-01-18T08:01:32.094Z"
   },
   {
    "duration": 20,
    "start_time": "2022-01-18T08:01:32.147Z"
   },
   {
    "duration": 20,
    "start_time": "2022-01-18T08:01:32.170Z"
   },
   {
    "duration": 523,
    "start_time": "2022-01-18T08:01:32.192Z"
   },
   {
    "duration": 29,
    "start_time": "2022-01-18T08:01:32.718Z"
   },
   {
    "duration": 22,
    "start_time": "2022-01-18T08:01:32.749Z"
   },
   {
    "duration": 23,
    "start_time": "2022-01-18T08:01:32.774Z"
   },
   {
    "duration": 55,
    "start_time": "2022-01-18T08:01:32.799Z"
   },
   {
    "duration": 505,
    "start_time": "2022-01-18T08:01:32.856Z"
   },
   {
    "duration": 432,
    "start_time": "2022-01-18T08:01:33.363Z"
   },
   {
    "duration": 17,
    "start_time": "2022-01-18T08:08:55.009Z"
   },
   {
    "duration": 20,
    "start_time": "2022-01-18T08:17:42.482Z"
   },
   {
    "duration": 398,
    "start_time": "2022-01-18T08:18:00.169Z"
   },
   {
    "duration": 18,
    "start_time": "2022-01-18T08:18:09.309Z"
   },
   {
    "duration": 11,
    "start_time": "2022-01-18T08:23:23.125Z"
   },
   {
    "duration": 5,
    "start_time": "2022-01-18T08:24:10.927Z"
   },
   {
    "duration": 5,
    "start_time": "2022-01-18T08:24:30.654Z"
   },
   {
    "duration": 13,
    "start_time": "2022-01-18T08:26:57.360Z"
   },
   {
    "duration": 10,
    "start_time": "2022-01-18T08:27:19.904Z"
   },
   {
    "duration": 1380,
    "start_time": "2022-01-18T08:28:50.949Z"
   },
   {
    "duration": 287,
    "start_time": "2022-01-18T08:29:14.099Z"
   },
   {
    "duration": 7,
    "start_time": "2022-01-18T08:38:23.575Z"
   },
   {
    "duration": 6,
    "start_time": "2022-01-18T08:38:35.880Z"
   },
   {
    "duration": 11,
    "start_time": "2022-01-18T08:38:37.251Z"
   },
   {
    "duration": 18,
    "start_time": "2022-01-18T08:38:41.194Z"
   },
   {
    "duration": 12,
    "start_time": "2022-01-18T08:39:18.053Z"
   },
   {
    "duration": 13,
    "start_time": "2022-01-18T08:42:45.784Z"
   },
   {
    "duration": 21,
    "start_time": "2022-01-18T08:43:11.410Z"
   },
   {
    "duration": 21,
    "start_time": "2022-01-18T08:43:52.102Z"
   },
   {
    "duration": 15,
    "start_time": "2022-01-18T08:43:57.819Z"
   },
   {
    "duration": 7,
    "start_time": "2022-01-18T08:44:33.552Z"
   },
   {
    "duration": 475,
    "start_time": "2022-01-18T08:46:00.780Z"
   },
   {
    "duration": 275,
    "start_time": "2022-01-18T08:50:38.864Z"
   },
   {
    "duration": 13,
    "start_time": "2022-01-18T08:51:00.280Z"
   },
   {
    "duration": 261,
    "start_time": "2022-01-18T08:51:35.207Z"
   },
   {
    "duration": 14,
    "start_time": "2022-01-18T08:51:43.767Z"
   },
   {
    "duration": 14,
    "start_time": "2022-01-18T08:52:15.318Z"
   },
   {
    "duration": 13,
    "start_time": "2022-01-18T08:53:07.320Z"
   },
   {
    "duration": 522,
    "start_time": "2022-01-18T08:54:55.587Z"
   },
   {
    "duration": 332,
    "start_time": "2022-01-18T08:54:58.673Z"
   },
   {
    "duration": 549,
    "start_time": "2022-01-18T08:55:28.432Z"
   },
   {
    "duration": 547,
    "start_time": "2022-01-18T08:55:50.871Z"
   },
   {
    "duration": 272,
    "start_time": "2022-01-18T09:08:36.350Z"
   },
   {
    "duration": 6,
    "start_time": "2022-01-18T09:08:44.975Z"
   },
   {
    "duration": 5,
    "start_time": "2022-01-18T09:10:45.631Z"
   },
   {
    "duration": 3221,
    "start_time": "2022-01-18T09:14:12.315Z"
   },
   {
    "duration": 570,
    "start_time": "2022-01-18T09:14:32.044Z"
   },
   {
    "duration": 3218,
    "start_time": "2022-01-18T09:17:19.540Z"
   },
   {
    "duration": 5,
    "start_time": "2022-01-18T09:17:34.879Z"
   },
   {
    "duration": 635,
    "start_time": "2022-01-18T09:18:20.259Z"
   },
   {
    "duration": 6,
    "start_time": "2022-01-18T09:20:30.688Z"
   },
   {
    "duration": 5,
    "start_time": "2022-01-18T09:20:47.734Z"
   },
   {
    "duration": 5,
    "start_time": "2022-01-18T09:22:20.579Z"
   },
   {
    "duration": 5,
    "start_time": "2022-01-18T09:24:16.976Z"
   },
   {
    "duration": 9,
    "start_time": "2022-01-18T20:04:37.490Z"
   },
   {
    "duration": 10,
    "start_time": "2022-01-18T20:09:25.394Z"
   },
   {
    "duration": 260,
    "start_time": "2022-01-18T20:11:37.514Z"
   },
   {
    "duration": 7,
    "start_time": "2022-01-18T20:11:46.323Z"
   },
   {
    "duration": 576,
    "start_time": "2022-01-18T20:11:48.870Z"
   },
   {
    "duration": 461,
    "start_time": "2022-01-18T20:12:46.289Z"
   },
   {
    "duration": 7,
    "start_time": "2022-01-18T20:12:57.506Z"
   },
   {
    "duration": 8,
    "start_time": "2022-01-18T20:12:59.192Z"
   },
   {
    "duration": 13,
    "start_time": "2022-01-18T20:14:10.404Z"
   },
   {
    "duration": 361,
    "start_time": "2022-01-18T20:23:17.115Z"
   },
   {
    "duration": 513,
    "start_time": "2022-01-18T20:24:19.637Z"
   },
   {
    "duration": 626,
    "start_time": "2022-01-19T17:43:52.685Z"
   },
   {
    "duration": 6,
    "start_time": "2022-01-19T17:43:59.335Z"
   },
   {
    "duration": 279,
    "start_time": "2022-01-19T17:44:04.026Z"
   },
   {
    "duration": 10572,
    "start_time": "2022-01-19T17:44:19.862Z"
   },
   {
    "duration": 1551,
    "start_time": "2022-01-19T17:44:30.437Z"
   },
   {
    "duration": 20,
    "start_time": "2022-01-19T17:44:31.992Z"
   },
   {
    "duration": 17,
    "start_time": "2022-01-19T17:44:32.015Z"
   },
   {
    "duration": 32,
    "start_time": "2022-01-19T17:44:32.034Z"
   },
   {
    "duration": 31,
    "start_time": "2022-01-19T17:44:32.069Z"
   },
   {
    "duration": 28,
    "start_time": "2022-01-19T17:44:32.103Z"
   },
   {
    "duration": 31,
    "start_time": "2022-01-19T17:44:32.135Z"
   },
   {
    "duration": 44,
    "start_time": "2022-01-19T17:44:32.169Z"
   },
   {
    "duration": 11,
    "start_time": "2022-01-19T17:44:32.216Z"
   },
   {
    "duration": 18,
    "start_time": "2022-01-19T17:44:32.230Z"
   },
   {
    "duration": 23,
    "start_time": "2022-01-19T17:44:32.251Z"
   },
   {
    "duration": 706,
    "start_time": "2022-01-19T17:44:32.277Z"
   },
   {
    "duration": 13,
    "start_time": "2022-01-19T17:44:32.986Z"
   },
   {
    "duration": 16,
    "start_time": "2022-01-19T17:44:33.002Z"
   },
   {
    "duration": 66,
    "start_time": "2022-01-19T17:44:33.021Z"
   },
   {
    "duration": 16,
    "start_time": "2022-01-19T17:44:33.089Z"
   },
   {
    "duration": 19,
    "start_time": "2022-01-19T17:44:33.108Z"
   },
   {
    "duration": 36,
    "start_time": "2022-01-19T17:44:33.130Z"
   },
   {
    "duration": 5,
    "start_time": "2022-01-19T17:44:33.169Z"
   },
   {
    "duration": 23,
    "start_time": "2022-01-19T17:44:33.176Z"
   },
   {
    "duration": 17,
    "start_time": "2022-01-19T17:44:33.201Z"
   },
   {
    "duration": 41,
    "start_time": "2022-01-19T17:44:33.224Z"
   },
   {
    "duration": 11,
    "start_time": "2022-01-19T17:44:33.268Z"
   },
   {
    "duration": 17,
    "start_time": "2022-01-19T17:44:33.281Z"
   },
   {
    "duration": 34,
    "start_time": "2022-01-19T17:44:33.300Z"
   },
   {
    "duration": 31,
    "start_time": "2022-01-19T17:44:33.336Z"
   },
   {
    "duration": 12,
    "start_time": "2022-01-19T17:44:33.369Z"
   },
   {
    "duration": 11,
    "start_time": "2022-01-19T17:44:33.384Z"
   },
   {
    "duration": 506,
    "start_time": "2022-01-19T17:44:33.397Z"
   },
   {
    "duration": 17,
    "start_time": "2022-01-19T17:44:33.905Z"
   },
   {
    "duration": 41,
    "start_time": "2022-01-19T17:44:33.925Z"
   },
   {
    "duration": 16,
    "start_time": "2022-01-19T17:44:33.969Z"
   },
   {
    "duration": 20,
    "start_time": "2022-01-19T17:44:33.988Z"
   },
   {
    "duration": 468,
    "start_time": "2022-01-19T17:44:34.011Z"
   },
   {
    "duration": 450,
    "start_time": "2022-01-19T17:44:34.481Z"
   },
   {
    "duration": 18,
    "start_time": "2022-01-19T17:44:34.934Z"
   },
   {
    "duration": 20,
    "start_time": "2022-01-19T17:44:34.964Z"
   },
   {
    "duration": 6,
    "start_time": "2022-01-19T17:44:34.986Z"
   },
   {
    "duration": 9,
    "start_time": "2022-01-19T17:44:34.994Z"
   },
   {
    "duration": 13,
    "start_time": "2022-01-19T17:44:35.006Z"
   },
   {
    "duration": 58,
    "start_time": "2022-01-19T17:44:35.021Z"
   },
   {
    "duration": 13,
    "start_time": "2022-01-19T17:44:35.081Z"
   },
   {
    "duration": 506,
    "start_time": "2022-01-19T17:44:35.096Z"
   },
   {
    "duration": 13,
    "start_time": "2022-01-19T17:44:35.604Z"
   },
   {
    "duration": 660,
    "start_time": "2022-01-19T17:44:35.619Z"
   },
   {
    "duration": 7,
    "start_time": "2022-01-19T17:44:36.281Z"
   },
   {
    "duration": 8,
    "start_time": "2022-01-19T17:44:36.291Z"
   },
   {
    "duration": 589,
    "start_time": "2022-01-19T17:44:36.302Z"
   },
   {
    "duration": 549,
    "start_time": "2022-01-19T17:44:36.894Z"
   },
   {
    "duration": 6,
    "start_time": "2022-01-19T17:44:37.446Z"
   },
   {
    "duration": 6,
    "start_time": "2022-01-19T17:44:37.466Z"
   },
   {
    "duration": 6,
    "start_time": "2022-01-19T17:44:37.475Z"
   },
   {
    "duration": 538,
    "start_time": "2022-01-19T17:44:37.485Z"
   },
   {
    "duration": 7,
    "start_time": "2022-01-19T17:44:38.026Z"
   },
   {
    "duration": 28,
    "start_time": "2022-01-19T17:44:38.036Z"
   },
   {
    "duration": 4130,
    "start_time": "2022-01-19T17:44:38.067Z"
   },
   {
    "duration": 6,
    "start_time": "2022-01-19T17:44:51.907Z"
   },
   {
    "duration": 106,
    "start_time": "2022-01-19T17:45:30.760Z"
   },
   {
    "duration": 4,
    "start_time": "2022-01-19T17:49:58.132Z"
   },
   {
    "duration": 14,
    "start_time": "2022-01-19T17:53:04.256Z"
   },
   {
    "duration": 8,
    "start_time": "2022-01-19T17:53:34.541Z"
   },
   {
    "duration": 11,
    "start_time": "2022-01-19T17:59:33.171Z"
   },
   {
    "duration": 7,
    "start_time": "2022-01-19T18:00:08.282Z"
   },
   {
    "duration": 291,
    "start_time": "2022-01-19T18:35:16.606Z"
   },
   {
    "duration": 17,
    "start_time": "2022-01-19T18:35:29.780Z"
   },
   {
    "duration": 8,
    "start_time": "2022-01-19T18:37:37.098Z"
   },
   {
    "duration": 15,
    "start_time": "2022-01-19T18:38:41.210Z"
   },
   {
    "duration": 23,
    "start_time": "2022-01-19T18:41:02.786Z"
   },
   {
    "duration": 439,
    "start_time": "2022-01-19T18:41:14.190Z"
   },
   {
    "duration": 423,
    "start_time": "2022-01-19T18:43:36.907Z"
   },
   {
    "duration": 19,
    "start_time": "2022-01-19T18:46:44.125Z"
   },
   {
    "duration": 20,
    "start_time": "2022-01-19T18:50:38.214Z"
   },
   {
    "duration": 5,
    "start_time": "2022-01-19T18:51:26.912Z"
   },
   {
    "duration": 398,
    "start_time": "2022-01-19T18:52:51.975Z"
   },
   {
    "duration": 27,
    "start_time": "2022-01-19T18:53:08.116Z"
   },
   {
    "duration": 445,
    "start_time": "2022-01-19T18:54:01.823Z"
   },
   {
    "duration": 6,
    "start_time": "2022-01-19T18:58:01.458Z"
   },
   {
    "duration": 494,
    "start_time": "2022-01-19T18:59:43.080Z"
   },
   {
    "duration": 8,
    "start_time": "2022-01-19T18:59:51.407Z"
   },
   {
    "duration": 7,
    "start_time": "2022-01-19T19:00:37.546Z"
   },
   {
    "duration": 20,
    "start_time": "2022-01-19T19:02:44.896Z"
   },
   {
    "duration": 27,
    "start_time": "2022-01-19T19:03:26.915Z"
   },
   {
    "duration": 3754,
    "start_time": "2022-01-19T19:03:31.536Z"
   },
   {
    "duration": 4539,
    "start_time": "2022-01-19T19:04:05.038Z"
   },
   {
    "duration": 3392,
    "start_time": "2022-01-19T19:04:27.581Z"
   },
   {
    "duration": 1448,
    "start_time": "2022-01-19T19:04:30.976Z"
   },
   {
    "duration": 19,
    "start_time": "2022-01-19T19:04:32.427Z"
   },
   {
    "duration": 18,
    "start_time": "2022-01-19T19:04:32.449Z"
   },
   {
    "duration": 17,
    "start_time": "2022-01-19T19:04:32.470Z"
   },
   {
    "duration": 28,
    "start_time": "2022-01-19T19:04:32.489Z"
   },
   {
    "duration": 23,
    "start_time": "2022-01-19T19:04:32.520Z"
   },
   {
    "duration": 18,
    "start_time": "2022-01-19T19:04:32.568Z"
   },
   {
    "duration": 41,
    "start_time": "2022-01-19T19:04:32.589Z"
   },
   {
    "duration": 9,
    "start_time": "2022-01-19T19:04:32.633Z"
   },
   {
    "duration": 36,
    "start_time": "2022-01-19T19:04:32.645Z"
   },
   {
    "duration": 39,
    "start_time": "2022-01-19T19:04:32.683Z"
   },
   {
    "duration": 858,
    "start_time": "2022-01-19T19:04:32.724Z"
   },
   {
    "duration": 14,
    "start_time": "2022-01-19T19:04:33.584Z"
   },
   {
    "duration": 15,
    "start_time": "2022-01-19T19:04:33.600Z"
   },
   {
    "duration": 57,
    "start_time": "2022-01-19T19:04:33.617Z"
   },
   {
    "duration": 15,
    "start_time": "2022-01-19T19:04:33.676Z"
   },
   {
    "duration": 19,
    "start_time": "2022-01-19T19:04:33.694Z"
   },
   {
    "duration": 5,
    "start_time": "2022-01-19T19:04:33.716Z"
   },
   {
    "duration": 4,
    "start_time": "2022-01-19T19:04:33.724Z"
   },
   {
    "duration": 22,
    "start_time": "2022-01-19T19:04:33.764Z"
   },
   {
    "duration": 21,
    "start_time": "2022-01-19T19:04:33.789Z"
   },
   {
    "duration": 5,
    "start_time": "2022-01-19T19:04:33.816Z"
   },
   {
    "duration": 44,
    "start_time": "2022-01-19T19:04:33.824Z"
   },
   {
    "duration": 15,
    "start_time": "2022-01-19T19:04:33.870Z"
   },
   {
    "duration": 16,
    "start_time": "2022-01-19T19:04:33.887Z"
   },
   {
    "duration": 17,
    "start_time": "2022-01-19T19:04:33.905Z"
   },
   {
    "duration": 42,
    "start_time": "2022-01-19T19:04:33.924Z"
   },
   {
    "duration": 488,
    "start_time": "2022-01-19T19:04:33.969Z"
   },
   {
    "duration": 20,
    "start_time": "2022-01-19T19:04:34.464Z"
   },
   {
    "duration": 8,
    "start_time": "2022-01-19T19:04:34.487Z"
   },
   {
    "duration": 20,
    "start_time": "2022-01-19T19:04:34.498Z"
   },
   {
    "duration": 70,
    "start_time": "2022-01-19T19:04:34.521Z"
   },
   {
    "duration": 463,
    "start_time": "2022-01-19T19:04:34.593Z"
   },
   {
    "duration": 412,
    "start_time": "2022-01-19T19:04:35.060Z"
   },
   {
    "duration": 21,
    "start_time": "2022-01-19T19:04:35.475Z"
   },
   {
    "duration": 23,
    "start_time": "2022-01-19T19:04:35.498Z"
   },
   {
    "duration": 4,
    "start_time": "2022-01-19T19:04:35.523Z"
   },
   {
    "duration": 24,
    "start_time": "2022-01-19T19:04:35.564Z"
   },
   {
    "duration": 462,
    "start_time": "2022-01-19T19:04:35.591Z"
   },
   {
    "duration": 13,
    "start_time": "2022-01-19T19:04:36.056Z"
   },
   {
    "duration": 13,
    "start_time": "2022-01-19T19:04:36.072Z"
   },
   {
    "duration": 18,
    "start_time": "2022-01-19T19:04:36.088Z"
   },
   {
    "duration": 8,
    "start_time": "2022-01-19T19:04:36.109Z"
   },
   {
    "duration": 581,
    "start_time": "2022-01-19T19:04:36.119Z"
   },
   {
    "duration": 11,
    "start_time": "2022-01-19T19:04:36.703Z"
   },
   {
    "duration": 647,
    "start_time": "2022-01-19T19:04:36.717Z"
   },
   {
    "duration": 7,
    "start_time": "2022-01-19T19:04:37.367Z"
   },
   {
    "duration": 11,
    "start_time": "2022-01-19T19:04:37.376Z"
   },
   {
    "duration": 679,
    "start_time": "2022-01-19T19:04:37.390Z"
   },
   {
    "duration": 568,
    "start_time": "2022-01-19T19:04:38.072Z"
   },
   {
    "duration": 5,
    "start_time": "2022-01-19T19:04:38.643Z"
   },
   {
    "duration": 5,
    "start_time": "2022-01-19T19:04:38.665Z"
   },
   {
    "duration": 9,
    "start_time": "2022-01-19T19:04:38.672Z"
   },
   {
    "duration": 518,
    "start_time": "2022-01-19T19:04:38.684Z"
   },
   {
    "duration": 7,
    "start_time": "2022-01-19T19:04:39.205Z"
   },
   {
    "duration": 11,
    "start_time": "2022-01-19T19:04:39.216Z"
   },
   {
    "duration": 38,
    "start_time": "2022-01-19T19:04:39.229Z"
   },
   {
    "duration": 14,
    "start_time": "2022-01-19T19:04:39.270Z"
   },
   {
    "duration": 521,
    "start_time": "2022-01-19T19:04:39.287Z"
   },
   {
    "duration": 8,
    "start_time": "2022-01-19T19:04:39.811Z"
   },
   {
    "duration": 13,
    "start_time": "2022-01-19T19:04:39.821Z"
   },
   {
    "duration": 29,
    "start_time": "2022-01-19T19:04:39.837Z"
   },
   {
    "duration": 6,
    "start_time": "2022-01-19T19:04:58.075Z"
   },
   {
    "duration": 26,
    "start_time": "2022-01-19T19:05:46.154Z"
   },
   {
    "duration": 10,
    "start_time": "2022-01-19T19:05:54.376Z"
   },
   {
    "duration": 7,
    "start_time": "2022-01-19T19:05:57.043Z"
   },
   {
    "duration": 6,
    "start_time": "2022-01-19T20:04:11.757Z"
   },
   {
    "duration": 13,
    "start_time": "2022-01-19T20:11:53.019Z"
   },
   {
    "duration": 12,
    "start_time": "2022-01-19T20:12:07.300Z"
   },
   {
    "duration": 11,
    "start_time": "2022-01-19T20:13:35.899Z"
   },
   {
    "duration": 14,
    "start_time": "2022-01-19T20:13:46.791Z"
   },
   {
    "duration": 14,
    "start_time": "2022-01-19T20:14:44.971Z"
   },
   {
    "duration": 12,
    "start_time": "2022-01-19T20:16:03.785Z"
   },
   {
    "duration": 18,
    "start_time": "2022-01-19T20:16:15.558Z"
   },
   {
    "duration": 56,
    "start_time": "2022-01-19T20:20:07.064Z"
   },
   {
    "duration": 14,
    "start_time": "2022-01-19T20:29:03.119Z"
   },
   {
    "duration": 285,
    "start_time": "2022-01-19T20:33:19.968Z"
   },
   {
    "duration": 605,
    "start_time": "2022-01-19T20:33:34.158Z"
   },
   {
    "duration": 7,
    "start_time": "2022-01-19T20:35:18.540Z"
   },
   {
    "duration": 4,
    "start_time": "2022-01-19T20:35:50.904Z"
   },
   {
    "duration": 7,
    "start_time": "2022-01-19T20:36:01.590Z"
   },
   {
    "duration": 22,
    "start_time": "2022-01-19T20:37:21.109Z"
   },
   {
    "duration": 22,
    "start_time": "2022-01-19T20:37:50.252Z"
   },
   {
    "duration": 23,
    "start_time": "2022-01-19T20:37:57.761Z"
   },
   {
    "duration": 17,
    "start_time": "2022-01-19T20:38:09.574Z"
   },
   {
    "duration": 17,
    "start_time": "2022-01-19T20:38:14.816Z"
   },
   {
    "duration": 295,
    "start_time": "2022-01-19T20:42:24.233Z"
   },
   {
    "duration": 15,
    "start_time": "2022-01-19T20:43:08.784Z"
   },
   {
    "duration": 14,
    "start_time": "2022-01-19T20:44:02.841Z"
   },
   {
    "duration": 475,
    "start_time": "2022-01-19T20:44:21.958Z"
   },
   {
    "duration": 7,
    "start_time": "2022-01-19T20:44:40.178Z"
   },
   {
    "duration": 312,
    "start_time": "2022-01-19T20:46:40.198Z"
   },
   {
    "duration": 10,
    "start_time": "2022-01-19T20:46:49.372Z"
   },
   {
    "duration": 10,
    "start_time": "2022-01-19T20:47:33.158Z"
   },
   {
    "duration": 8,
    "start_time": "2022-01-19T20:47:46.488Z"
   },
   {
    "duration": 7,
    "start_time": "2022-01-19T20:49:49.980Z"
   },
   {
    "duration": 7,
    "start_time": "2022-01-19T20:52:37.728Z"
   },
   {
    "duration": 6,
    "start_time": "2022-01-19T20:52:51.504Z"
   },
   {
    "duration": 286,
    "start_time": "2022-01-20T18:34:11.624Z"
   },
   {
    "duration": 841,
    "start_time": "2022-01-20T18:34:20.410Z"
   },
   {
    "duration": 7782,
    "start_time": "2022-01-20T18:34:35.827Z"
   },
   {
    "duration": 1148,
    "start_time": "2022-01-20T18:34:43.611Z"
   },
   {
    "duration": 17,
    "start_time": "2022-01-20T18:34:44.761Z"
   },
   {
    "duration": 11,
    "start_time": "2022-01-20T18:34:44.780Z"
   },
   {
    "duration": 13,
    "start_time": "2022-01-20T18:34:44.792Z"
   },
   {
    "duration": 17,
    "start_time": "2022-01-20T18:34:44.807Z"
   },
   {
    "duration": 40,
    "start_time": "2022-01-20T18:34:44.827Z"
   },
   {
    "duration": 21,
    "start_time": "2022-01-20T18:34:44.870Z"
   },
   {
    "duration": 37,
    "start_time": "2022-01-20T18:34:44.893Z"
   },
   {
    "duration": 7,
    "start_time": "2022-01-20T18:34:44.932Z"
   },
   {
    "duration": 15,
    "start_time": "2022-01-20T18:34:44.941Z"
   },
   {
    "duration": 16,
    "start_time": "2022-01-20T18:34:44.958Z"
   },
   {
    "duration": 500,
    "start_time": "2022-01-20T18:34:44.976Z"
   },
   {
    "duration": 9,
    "start_time": "2022-01-20T18:34:45.477Z"
   },
   {
    "duration": 15,
    "start_time": "2022-01-20T18:34:45.488Z"
   },
   {
    "duration": 32,
    "start_time": "2022-01-20T18:34:45.504Z"
   },
   {
    "duration": 28,
    "start_time": "2022-01-20T18:34:45.538Z"
   },
   {
    "duration": 13,
    "start_time": "2022-01-20T18:34:45.568Z"
   },
   {
    "duration": 15,
    "start_time": "2022-01-20T18:34:45.583Z"
   },
   {
    "duration": 6,
    "start_time": "2022-01-20T18:34:45.600Z"
   },
   {
    "duration": 17,
    "start_time": "2022-01-20T18:34:45.608Z"
   },
   {
    "duration": 18,
    "start_time": "2022-01-20T18:34:45.662Z"
   },
   {
    "duration": 25,
    "start_time": "2022-01-20T18:34:45.686Z"
   },
   {
    "duration": 13,
    "start_time": "2022-01-20T18:34:45.715Z"
   },
   {
    "duration": 14,
    "start_time": "2022-01-20T18:34:45.730Z"
   },
   {
    "duration": 22,
    "start_time": "2022-01-20T18:34:45.746Z"
   },
   {
    "duration": 17,
    "start_time": "2022-01-20T18:34:45.770Z"
   },
   {
    "duration": 12,
    "start_time": "2022-01-20T18:34:45.789Z"
   },
   {
    "duration": 350,
    "start_time": "2022-01-20T18:34:45.804Z"
   },
   {
    "duration": 16,
    "start_time": "2022-01-20T18:34:46.156Z"
   },
   {
    "duration": 44,
    "start_time": "2022-01-20T18:34:46.174Z"
   },
   {
    "duration": 38,
    "start_time": "2022-01-20T18:34:46.220Z"
   },
   {
    "duration": 33,
    "start_time": "2022-01-20T18:34:46.260Z"
   },
   {
    "duration": 319,
    "start_time": "2022-01-20T18:34:46.295Z"
   },
   {
    "duration": 256,
    "start_time": "2022-01-20T18:34:46.616Z"
   },
   {
    "duration": 14,
    "start_time": "2022-01-20T18:34:46.875Z"
   },
   {
    "duration": 26,
    "start_time": "2022-01-20T18:34:46.892Z"
   },
   {
    "duration": 27,
    "start_time": "2022-01-20T18:34:46.920Z"
   },
   {
    "duration": 31,
    "start_time": "2022-01-20T18:34:46.949Z"
   },
   {
    "duration": 303,
    "start_time": "2022-01-20T18:34:46.982Z"
   },
   {
    "duration": 5,
    "start_time": "2022-01-20T18:34:47.288Z"
   },
   {
    "duration": 11,
    "start_time": "2022-01-20T18:34:47.296Z"
   },
   {
    "duration": 14,
    "start_time": "2022-01-20T18:34:47.309Z"
   },
   {
    "duration": 139,
    "start_time": "2022-01-20T18:34:47.325Z"
   },
   {
    "duration": 461,
    "start_time": "2022-01-20T18:34:47.466Z"
   },
   {
    "duration": 11,
    "start_time": "2022-01-20T18:34:47.930Z"
   },
   {
    "duration": 577,
    "start_time": "2022-01-20T18:34:47.943Z"
   },
   {
    "duration": 5,
    "start_time": "2022-01-20T18:34:48.522Z"
   },
   {
    "duration": 35,
    "start_time": "2022-01-20T18:34:48.529Z"
   },
   {
    "duration": 555,
    "start_time": "2022-01-20T18:34:48.567Z"
   },
   {
    "duration": 594,
    "start_time": "2022-01-20T18:34:49.124Z"
   },
   {
    "duration": 5,
    "start_time": "2022-01-20T18:34:49.720Z"
   },
   {
    "duration": 6,
    "start_time": "2022-01-20T18:34:49.727Z"
   },
   {
    "duration": 36,
    "start_time": "2022-01-20T18:34:49.735Z"
   },
   {
    "duration": 15,
    "start_time": "2022-01-20T18:34:49.773Z"
   },
   {
    "duration": 15,
    "start_time": "2022-01-20T18:34:49.790Z"
   },
   {
    "duration": 344,
    "start_time": "2022-01-20T18:34:49.807Z"
   },
   {
    "duration": 5,
    "start_time": "2022-01-20T18:34:50.160Z"
   },
   {
    "duration": 13,
    "start_time": "2022-01-20T18:34:50.166Z"
   },
   {
    "duration": 9,
    "start_time": "2022-01-20T18:34:50.181Z"
   },
   {
    "duration": 14,
    "start_time": "2022-01-20T18:34:50.191Z"
   },
   {
    "duration": 34,
    "start_time": "2022-01-20T18:34:50.207Z"
   },
   {
    "duration": 8,
    "start_time": "2022-01-20T18:34:50.243Z"
   },
   {
    "duration": 11,
    "start_time": "2022-01-20T18:34:50.252Z"
   },
   {
    "duration": 329,
    "start_time": "2022-01-20T18:34:50.265Z"
   },
   {
    "duration": 5,
    "start_time": "2022-01-20T18:34:50.597Z"
   },
   {
    "duration": 9,
    "start_time": "2022-01-20T18:34:50.603Z"
   },
   {
    "duration": 14,
    "start_time": "2022-01-20T18:34:50.617Z"
   },
   {
    "duration": 6,
    "start_time": "2022-01-20T18:34:50.660Z"
   },
   {
    "duration": 12,
    "start_time": "2022-01-20T18:34:58.807Z"
   },
   {
    "duration": 12,
    "start_time": "2022-01-20T18:35:32.422Z"
   },
   {
    "duration": 467,
    "start_time": "2022-01-20T18:35:57.098Z"
   },
   {
    "duration": 312,
    "start_time": "2022-01-20T18:36:36.107Z"
   },
   {
    "duration": 282,
    "start_time": "2022-01-20T18:37:14.157Z"
   },
   {
    "duration": 296,
    "start_time": "2022-01-20T18:37:31.657Z"
   },
   {
    "duration": 360,
    "start_time": "2022-01-20T18:38:24.940Z"
   },
   {
    "duration": 320,
    "start_time": "2022-01-20T18:38:38.627Z"
   },
   {
    "duration": 254,
    "start_time": "2022-01-20T18:39:05.060Z"
   },
   {
    "duration": 294,
    "start_time": "2022-01-20T18:41:11.633Z"
   },
   {
    "duration": 311,
    "start_time": "2022-01-20T18:41:34.957Z"
   },
   {
    "duration": 360,
    "start_time": "2022-01-20T18:43:25.903Z"
   },
   {
    "duration": 419,
    "start_time": "2022-01-20T18:43:42.926Z"
   },
   {
    "duration": 452,
    "start_time": "2022-01-20T18:44:11.339Z"
   },
   {
    "duration": 397,
    "start_time": "2022-01-20T18:45:04.712Z"
   },
   {
    "duration": 315,
    "start_time": "2022-01-20T18:46:25.239Z"
   },
   {
    "duration": 315,
    "start_time": "2022-01-20T18:46:31.489Z"
   },
   {
    "duration": 310,
    "start_time": "2022-01-20T18:49:01.345Z"
   },
   {
    "duration": 4,
    "start_time": "2022-01-20T18:50:02.144Z"
   },
   {
    "duration": 4,
    "start_time": "2022-01-20T18:50:12.106Z"
   },
   {
    "duration": 5,
    "start_time": "2022-01-20T18:51:31.464Z"
   },
   {
    "duration": 7,
    "start_time": "2022-01-20T18:51:33.489Z"
   },
   {
    "duration": 4,
    "start_time": "2022-01-20T18:51:38.166Z"
   },
   {
    "duration": 5,
    "start_time": "2022-01-20T18:51:40.033Z"
   },
   {
    "duration": 5,
    "start_time": "2022-01-20T18:51:42.973Z"
   },
   {
    "duration": 4,
    "start_time": "2022-01-20T18:51:59.623Z"
   },
   {
    "duration": 5,
    "start_time": "2022-01-20T18:52:01.983Z"
   },
   {
    "duration": 5,
    "start_time": "2022-01-20T18:53:08.190Z"
   },
   {
    "duration": 4,
    "start_time": "2022-01-20T18:54:58.528Z"
   },
   {
    "duration": 5,
    "start_time": "2022-01-20T18:55:04.825Z"
   },
   {
    "duration": 4,
    "start_time": "2022-01-20T18:55:09.072Z"
   },
   {
    "duration": 89,
    "start_time": "2022-01-20T18:55:47.020Z"
   },
   {
    "duration": 5,
    "start_time": "2022-01-20T18:56:02.502Z"
   },
   {
    "duration": 8,
    "start_time": "2022-01-20T18:58:22.556Z"
   },
   {
    "duration": 10,
    "start_time": "2022-01-20T18:58:24.202Z"
   },
   {
    "duration": 6,
    "start_time": "2022-01-20T18:58:25.749Z"
   },
   {
    "duration": 11,
    "start_time": "2022-01-20T19:09:36.278Z"
   },
   {
    "duration": 10,
    "start_time": "2022-01-20T19:09:54.695Z"
   },
   {
    "duration": 10,
    "start_time": "2022-01-20T19:10:39.548Z"
   },
   {
    "duration": 16,
    "start_time": "2022-01-20T19:11:50.509Z"
   },
   {
    "duration": 7,
    "start_time": "2022-01-20T19:12:29.436Z"
   },
   {
    "duration": 10,
    "start_time": "2022-01-20T19:12:59.131Z"
   },
   {
    "duration": 193,
    "start_time": "2022-01-20T19:14:18.567Z"
   },
   {
    "duration": 301,
    "start_time": "2022-01-20T19:15:33.765Z"
   },
   {
    "duration": 10,
    "start_time": "2022-01-20T19:16:46.064Z"
   },
   {
    "duration": 257,
    "start_time": "2022-01-20T19:17:17.433Z"
   },
   {
    "duration": 277,
    "start_time": "2022-01-20T19:19:02.984Z"
   },
   {
    "duration": 60440,
    "start_time": "2022-01-21T18:16:23.277Z"
   },
   {
    "duration": 1089,
    "start_time": "2022-01-21T18:17:23.720Z"
   },
   {
    "duration": 16,
    "start_time": "2022-01-21T18:17:24.813Z"
   },
   {
    "duration": 9,
    "start_time": "2022-01-21T18:17:24.830Z"
   },
   {
    "duration": 8,
    "start_time": "2022-01-21T18:17:24.841Z"
   },
   {
    "duration": 27,
    "start_time": "2022-01-21T18:17:24.851Z"
   },
   {
    "duration": 11,
    "start_time": "2022-01-21T18:17:24.881Z"
   },
   {
    "duration": 15,
    "start_time": "2022-01-21T18:17:24.894Z"
   },
   {
    "duration": 37,
    "start_time": "2022-01-21T18:17:24.910Z"
   },
   {
    "duration": 6,
    "start_time": "2022-01-21T18:17:24.949Z"
   },
   {
    "duration": 9,
    "start_time": "2022-01-21T18:17:24.956Z"
   },
   {
    "duration": 13,
    "start_time": "2022-01-21T18:17:24.967Z"
   },
   {
    "duration": 53477,
    "start_time": "2022-01-21T18:17:24.981Z"
   },
   {
    "duration": 8,
    "start_time": "2022-01-21T18:18:18.460Z"
   },
   {
    "duration": 10,
    "start_time": "2022-01-21T18:18:18.469Z"
   },
   {
    "duration": 17,
    "start_time": "2022-01-21T18:18:18.480Z"
   },
   {
    "duration": 10,
    "start_time": "2022-01-21T18:18:18.498Z"
   },
   {
    "duration": 10,
    "start_time": "2022-01-21T18:18:18.509Z"
   },
   {
    "duration": 3,
    "start_time": "2022-01-21T18:18:18.521Z"
   },
   {
    "duration": 5,
    "start_time": "2022-01-21T18:18:18.525Z"
   },
   {
    "duration": 13,
    "start_time": "2022-01-21T18:18:18.532Z"
   },
   {
    "duration": 32,
    "start_time": "2022-01-21T18:18:18.549Z"
   },
   {
    "duration": 3,
    "start_time": "2022-01-21T18:18:18.583Z"
   },
   {
    "duration": 10,
    "start_time": "2022-01-21T18:18:18.588Z"
   },
   {
    "duration": 14,
    "start_time": "2022-01-21T18:18:18.599Z"
   },
   {
    "duration": 11,
    "start_time": "2022-01-21T18:18:18.614Z"
   },
   {
    "duration": 11,
    "start_time": "2022-01-21T18:18:18.627Z"
   },
   {
    "duration": 32,
    "start_time": "2022-01-21T18:18:18.640Z"
   },
   {
    "duration": 312,
    "start_time": "2022-01-21T18:18:18.674Z"
   },
   {
    "duration": 13,
    "start_time": "2022-01-21T18:18:18.988Z"
   },
   {
    "duration": 6,
    "start_time": "2022-01-21T18:18:19.002Z"
   },
   {
    "duration": 12,
    "start_time": "2022-01-21T18:18:19.010Z"
   },
   {
    "duration": 16,
    "start_time": "2022-01-21T18:18:19.024Z"
   },
   {
    "duration": 314,
    "start_time": "2022-01-21T18:18:19.042Z"
   },
   {
    "duration": 279,
    "start_time": "2022-01-21T18:18:19.358Z"
   },
   {
    "duration": 14,
    "start_time": "2022-01-21T18:18:19.639Z"
   },
   {
    "duration": 26,
    "start_time": "2022-01-21T18:18:19.655Z"
   },
   {
    "duration": 5,
    "start_time": "2022-01-21T18:18:19.682Z"
   },
   {
    "duration": 17,
    "start_time": "2022-01-21T18:18:19.688Z"
   },
   {
    "duration": 296,
    "start_time": "2022-01-21T18:18:19.706Z"
   },
   {
    "duration": 4,
    "start_time": "2022-01-21T18:18:20.004Z"
   },
   {
    "duration": 9,
    "start_time": "2022-01-21T18:18:20.010Z"
   },
   {
    "duration": 10,
    "start_time": "2022-01-21T18:18:20.020Z"
   },
   {
    "duration": 72,
    "start_time": "2022-01-21T18:18:20.032Z"
   },
   {
    "duration": 281,
    "start_time": "2022-01-21T18:18:20.106Z"
   },
   {
    "duration": 8,
    "start_time": "2022-01-21T18:18:20.389Z"
   },
   {
    "duration": 409,
    "start_time": "2022-01-21T18:18:20.399Z"
   },
   {
    "duration": 4,
    "start_time": "2022-01-21T18:18:20.810Z"
   },
   {
    "duration": 5,
    "start_time": "2022-01-21T18:18:20.816Z"
   },
   {
    "duration": 472,
    "start_time": "2022-01-21T18:18:20.823Z"
   },
   {
    "duration": 383,
    "start_time": "2022-01-21T18:18:21.297Z"
   },
   {
    "duration": 4,
    "start_time": "2022-01-21T18:18:21.682Z"
   },
   {
    "duration": 4,
    "start_time": "2022-01-21T18:18:21.688Z"
   },
   {
    "duration": 9,
    "start_time": "2022-01-21T18:18:21.694Z"
   },
   {
    "duration": 11,
    "start_time": "2022-01-21T18:18:21.705Z"
   },
   {
    "duration": 12,
    "start_time": "2022-01-21T18:18:21.718Z"
   },
   {
    "duration": 334,
    "start_time": "2022-01-21T18:18:21.732Z"
   },
   {
    "duration": 5,
    "start_time": "2022-01-21T18:18:22.071Z"
   },
   {
    "duration": 6,
    "start_time": "2022-01-21T18:18:22.078Z"
   },
   {
    "duration": 5,
    "start_time": "2022-01-21T18:18:22.086Z"
   },
   {
    "duration": 10,
    "start_time": "2022-01-21T18:18:22.093Z"
   },
   {
    "duration": 11,
    "start_time": "2022-01-21T18:18:22.104Z"
   },
   {
    "duration": 306,
    "start_time": "2022-01-21T18:18:22.116Z"
   },
   {
    "duration": 3,
    "start_time": "2022-01-21T18:18:22.423Z"
   },
   {
    "duration": 5,
    "start_time": "2022-01-21T18:18:22.428Z"
   },
   {
    "duration": 5,
    "start_time": "2022-01-21T18:18:22.434Z"
   },
   {
    "duration": 28,
    "start_time": "2022-01-21T18:18:22.444Z"
   },
   {
    "duration": 9,
    "start_time": "2022-01-21T18:18:22.473Z"
   },
   {
    "duration": 273,
    "start_time": "2022-01-21T18:18:22.484Z"
   },
   {
    "duration": 14,
    "start_time": "2022-01-21T18:18:22.758Z"
   },
   {
    "duration": 7,
    "start_time": "2022-01-21T18:18:22.774Z"
   },
   {
    "duration": 6,
    "start_time": "2022-01-21T18:18:22.783Z"
   },
   {
    "duration": 6,
    "start_time": "2022-01-21T18:47:33.931Z"
   },
   {
    "duration": 11,
    "start_time": "2022-01-21T18:53:14.462Z"
   },
   {
    "duration": 15,
    "start_time": "2022-01-21T18:54:00.291Z"
   },
   {
    "duration": 4,
    "start_time": "2022-01-22T10:37:39.675Z"
   },
   {
    "duration": 234,
    "start_time": "2022-01-22T10:37:55.510Z"
   },
   {
    "duration": 186,
    "start_time": "2022-01-22T10:38:04.253Z"
   },
   {
    "duration": 3,
    "start_time": "2022-01-22T10:38:08.778Z"
   },
   {
    "duration": 38435,
    "start_time": "2022-01-22T10:38:15.055Z"
   },
   {
    "duration": 751,
    "start_time": "2022-01-22T10:38:56.863Z"
   },
   {
    "duration": 27629,
    "start_time": "2022-01-22T10:39:03.362Z"
   },
   {
    "duration": 7063,
    "start_time": "2022-01-22T12:41:48.230Z"
   },
   {
    "duration": 1137,
    "start_time": "2022-01-22T12:41:55.295Z"
   },
   {
    "duration": 15,
    "start_time": "2022-01-22T12:41:56.434Z"
   },
   {
    "duration": 287,
    "start_time": "2022-01-22T12:41:56.451Z"
   },
   {
    "duration": 79,
    "start_time": "2022-01-22T12:41:56.663Z"
   },
   {
    "duration": 78,
    "start_time": "2022-01-22T12:41:56.666Z"
   },
   {
    "duration": 76,
    "start_time": "2022-01-22T12:41:56.669Z"
   },
   {
    "duration": 75,
    "start_time": "2022-01-22T12:41:56.671Z"
   },
   {
    "duration": -9,
    "start_time": "2022-01-22T12:41:56.756Z"
   },
   {
    "duration": -10,
    "start_time": "2022-01-22T12:41:56.758Z"
   },
   {
    "duration": -12,
    "start_time": "2022-01-22T12:41:56.761Z"
   },
   {
    "duration": -13,
    "start_time": "2022-01-22T12:41:56.763Z"
   },
   {
    "duration": -14,
    "start_time": "2022-01-22T12:41:56.765Z"
   },
   {
    "duration": -16,
    "start_time": "2022-01-22T12:41:56.768Z"
   },
   {
    "duration": -17,
    "start_time": "2022-01-22T12:41:56.770Z"
   },
   {
    "duration": -18,
    "start_time": "2022-01-22T12:41:56.772Z"
   },
   {
    "duration": -19,
    "start_time": "2022-01-22T12:41:56.774Z"
   },
   {
    "duration": -20,
    "start_time": "2022-01-22T12:41:56.776Z"
   },
   {
    "duration": -21,
    "start_time": "2022-01-22T12:41:56.778Z"
   },
   {
    "duration": -21,
    "start_time": "2022-01-22T12:41:56.779Z"
   },
   {
    "duration": -22,
    "start_time": "2022-01-22T12:41:56.781Z"
   },
   {
    "duration": -23,
    "start_time": "2022-01-22T12:41:56.783Z"
   },
   {
    "duration": -24,
    "start_time": "2022-01-22T12:41:56.785Z"
   },
   {
    "duration": -24,
    "start_time": "2022-01-22T12:41:56.786Z"
   },
   {
    "duration": -25,
    "start_time": "2022-01-22T12:41:56.788Z"
   },
   {
    "duration": -25,
    "start_time": "2022-01-22T12:41:56.789Z"
   },
   {
    "duration": -26,
    "start_time": "2022-01-22T12:41:56.791Z"
   },
   {
    "duration": -28,
    "start_time": "2022-01-22T12:41:56.793Z"
   },
   {
    "duration": -29,
    "start_time": "2022-01-22T12:41:56.795Z"
   },
   {
    "duration": -29,
    "start_time": "2022-01-22T12:41:56.796Z"
   },
   {
    "duration": -29,
    "start_time": "2022-01-22T12:41:56.797Z"
   },
   {
    "duration": -30,
    "start_time": "2022-01-22T12:41:56.799Z"
   },
   {
    "duration": -30,
    "start_time": "2022-01-22T12:41:56.800Z"
   },
   {
    "duration": -30,
    "start_time": "2022-01-22T12:41:56.801Z"
   },
   {
    "duration": -31,
    "start_time": "2022-01-22T12:41:56.803Z"
   },
   {
    "duration": -38,
    "start_time": "2022-01-22T12:41:56.811Z"
   },
   {
    "duration": -107,
    "start_time": "2022-01-22T12:41:56.881Z"
   },
   {
    "duration": -160,
    "start_time": "2022-01-22T12:41:56.935Z"
   },
   {
    "duration": -162,
    "start_time": "2022-01-22T12:41:56.937Z"
   },
   {
    "duration": -161,
    "start_time": "2022-01-22T12:41:56.938Z"
   },
   {
    "duration": -161,
    "start_time": "2022-01-22T12:41:56.939Z"
   },
   {
    "duration": -162,
    "start_time": "2022-01-22T12:41:56.940Z"
   },
   {
    "duration": -162,
    "start_time": "2022-01-22T12:41:56.941Z"
   },
   {
    "duration": -162,
    "start_time": "2022-01-22T12:41:56.942Z"
   },
   {
    "duration": -162,
    "start_time": "2022-01-22T12:41:56.943Z"
   },
   {
    "duration": -162,
    "start_time": "2022-01-22T12:41:56.944Z"
   },
   {
    "duration": -163,
    "start_time": "2022-01-22T12:41:56.945Z"
   },
   {
    "duration": -163,
    "start_time": "2022-01-22T12:41:56.946Z"
   },
   {
    "duration": -163,
    "start_time": "2022-01-22T12:41:56.947Z"
   },
   {
    "duration": -152,
    "start_time": "2022-01-22T12:41:56.948Z"
   },
   {
    "duration": -152,
    "start_time": "2022-01-22T12:41:56.949Z"
   },
   {
    "duration": -153,
    "start_time": "2022-01-22T12:41:56.951Z"
   },
   {
    "duration": -153,
    "start_time": "2022-01-22T12:41:56.952Z"
   },
   {
    "duration": -151,
    "start_time": "2022-01-22T12:41:56.953Z"
   },
   {
    "duration": -151,
    "start_time": "2022-01-22T12:41:56.954Z"
   },
   {
    "duration": -151,
    "start_time": "2022-01-22T12:41:56.955Z"
   },
   {
    "duration": -151,
    "start_time": "2022-01-22T12:41:56.956Z"
   },
   {
    "duration": -151,
    "start_time": "2022-01-22T12:41:56.957Z"
   },
   {
    "duration": -149,
    "start_time": "2022-01-22T12:41:56.958Z"
   },
   {
    "duration": -149,
    "start_time": "2022-01-22T12:41:56.959Z"
   },
   {
    "duration": -149,
    "start_time": "2022-01-22T12:41:56.960Z"
   },
   {
    "duration": -149,
    "start_time": "2022-01-22T12:41:56.961Z"
   },
   {
    "duration": -149,
    "start_time": "2022-01-22T12:41:56.962Z"
   },
   {
    "duration": -149,
    "start_time": "2022-01-22T12:41:56.963Z"
   },
   {
    "duration": -149,
    "start_time": "2022-01-22T12:41:56.964Z"
   },
   {
    "duration": -148,
    "start_time": "2022-01-22T12:41:56.965Z"
   },
   {
    "duration": -148,
    "start_time": "2022-01-22T12:41:56.966Z"
   },
   {
    "duration": -148,
    "start_time": "2022-01-22T12:41:56.967Z"
   },
   {
    "duration": -148,
    "start_time": "2022-01-22T12:41:56.968Z"
   },
   {
    "duration": -148,
    "start_time": "2022-01-22T12:41:56.969Z"
   },
   {
    "duration": -148,
    "start_time": "2022-01-22T12:41:56.970Z"
   },
   {
    "duration": -148,
    "start_time": "2022-01-22T12:41:56.971Z"
   },
   {
    "duration": 204,
    "start_time": "2022-01-22T12:42:52.296Z"
   },
   {
    "duration": 2,
    "start_time": "2022-01-22T12:43:09.411Z"
   },
   {
    "duration": 15,
    "start_time": "2022-01-22T12:43:11.959Z"
   },
   {
    "duration": 195,
    "start_time": "2022-01-22T12:43:15.587Z"
   },
   {
    "duration": 178,
    "start_time": "2022-01-22T12:43:26.679Z"
   },
   {
    "duration": 7162,
    "start_time": "2022-01-22T12:43:41.841Z"
   },
   {
    "duration": 1080,
    "start_time": "2022-01-22T12:43:49.006Z"
   },
   {
    "duration": 26,
    "start_time": "2022-01-22T12:43:50.087Z"
   },
   {
    "duration": 23,
    "start_time": "2022-01-22T12:43:50.114Z"
   },
   {
    "duration": 25,
    "start_time": "2022-01-22T12:43:50.138Z"
   },
   {
    "duration": 29,
    "start_time": "2022-01-22T12:43:50.165Z"
   },
   {
    "duration": 57,
    "start_time": "2022-01-22T12:43:50.195Z"
   },
   {
    "duration": 32,
    "start_time": "2022-01-22T12:43:50.255Z"
   },
   {
    "duration": 35,
    "start_time": "2022-01-22T12:43:50.289Z"
   },
   {
    "duration": 8,
    "start_time": "2022-01-22T12:43:50.326Z"
   },
   {
    "duration": 12,
    "start_time": "2022-01-22T12:43:50.335Z"
   },
   {
    "duration": 18,
    "start_time": "2022-01-22T12:43:50.348Z"
   },
   {
    "duration": 322,
    "start_time": "2022-01-22T12:43:50.368Z"
   },
   {
    "duration": 16,
    "start_time": "2022-01-22T12:43:50.691Z"
   },
   {
    "duration": 21,
    "start_time": "2022-01-22T12:43:50.710Z"
   },
   {
    "duration": 30,
    "start_time": "2022-01-22T12:43:50.733Z"
   },
   {
    "duration": 11,
    "start_time": "2022-01-22T12:43:50.765Z"
   },
   {
    "duration": 33,
    "start_time": "2022-01-22T12:43:50.778Z"
   },
   {
    "duration": 13,
    "start_time": "2022-01-22T12:43:50.813Z"
   },
   {
    "duration": 16,
    "start_time": "2022-01-22T12:43:50.828Z"
   },
   {
    "duration": 16,
    "start_time": "2022-01-22T12:43:50.846Z"
   },
   {
    "duration": 17,
    "start_time": "2022-01-22T12:43:50.864Z"
   },
   {
    "duration": 20,
    "start_time": "2022-01-22T12:43:50.885Z"
   },
   {
    "duration": 17,
    "start_time": "2022-01-22T12:43:50.909Z"
   },
   {
    "duration": 27,
    "start_time": "2022-01-22T12:43:50.928Z"
   },
   {
    "duration": 16,
    "start_time": "2022-01-22T12:43:50.957Z"
   },
   {
    "duration": 17,
    "start_time": "2022-01-22T12:43:50.975Z"
   },
   {
    "duration": 14,
    "start_time": "2022-01-22T12:43:50.994Z"
   },
   {
    "duration": 360,
    "start_time": "2022-01-22T12:43:51.010Z"
   },
   {
    "duration": 29,
    "start_time": "2022-01-22T12:43:51.371Z"
   },
   {
    "duration": 6,
    "start_time": "2022-01-22T12:43:51.405Z"
   },
   {
    "duration": 19,
    "start_time": "2022-01-22T12:43:51.413Z"
   },
   {
    "duration": 16,
    "start_time": "2022-01-22T12:43:51.434Z"
   },
   {
    "duration": 308,
    "start_time": "2022-01-22T12:43:51.451Z"
   },
   {
    "duration": 271,
    "start_time": "2022-01-22T12:43:51.761Z"
   },
   {
    "duration": 14,
    "start_time": "2022-01-22T12:43:52.034Z"
   },
   {
    "duration": 17,
    "start_time": "2022-01-22T12:43:52.050Z"
   },
   {
    "duration": 6,
    "start_time": "2022-01-22T12:43:52.069Z"
   },
   {
    "duration": 45,
    "start_time": "2022-01-22T12:43:52.077Z"
   },
   {
    "duration": 310,
    "start_time": "2022-01-22T12:43:52.124Z"
   },
   {
    "duration": 4,
    "start_time": "2022-01-22T12:43:52.436Z"
   },
   {
    "duration": 11,
    "start_time": "2022-01-22T12:43:52.442Z"
   },
   {
    "duration": 13,
    "start_time": "2022-01-22T12:43:52.455Z"
   },
   {
    "duration": 90,
    "start_time": "2022-01-22T12:43:52.470Z"
   },
   {
    "duration": 317,
    "start_time": "2022-01-22T12:43:52.561Z"
   },
   {
    "duration": 25,
    "start_time": "2022-01-22T12:43:52.879Z"
   },
   {
    "duration": 426,
    "start_time": "2022-01-22T12:43:52.910Z"
   },
   {
    "duration": 4,
    "start_time": "2022-01-22T12:43:53.337Z"
   },
   {
    "duration": 20,
    "start_time": "2022-01-22T12:43:53.343Z"
   },
   {
    "duration": 472,
    "start_time": "2022-01-22T12:43:53.365Z"
   },
   {
    "duration": 415,
    "start_time": "2022-01-22T12:43:53.839Z"
   },
   {
    "duration": 4,
    "start_time": "2022-01-22T12:43:54.256Z"
   },
   {
    "duration": 19,
    "start_time": "2022-01-22T12:43:54.262Z"
   },
   {
    "duration": 44,
    "start_time": "2022-01-22T12:43:54.283Z"
   },
   {
    "duration": 42,
    "start_time": "2022-01-22T12:43:54.329Z"
   },
   {
    "duration": 28,
    "start_time": "2022-01-22T12:43:54.373Z"
   },
   {
    "duration": 353,
    "start_time": "2022-01-22T12:43:54.403Z"
   },
   {
    "duration": 6,
    "start_time": "2022-01-22T12:43:54.758Z"
   },
   {
    "duration": 11,
    "start_time": "2022-01-22T12:43:54.766Z"
   },
   {
    "duration": 24,
    "start_time": "2022-01-22T12:43:54.778Z"
   },
   {
    "duration": 11,
    "start_time": "2022-01-22T12:43:54.805Z"
   },
   {
    "duration": 16,
    "start_time": "2022-01-22T12:43:54.818Z"
   },
   {
    "duration": 326,
    "start_time": "2022-01-22T12:43:54.836Z"
   },
   {
    "duration": 4,
    "start_time": "2022-01-22T12:43:55.163Z"
   },
   {
    "duration": 6,
    "start_time": "2022-01-22T12:43:55.168Z"
   },
   {
    "duration": 24,
    "start_time": "2022-01-22T12:43:55.175Z"
   },
   {
    "duration": 12,
    "start_time": "2022-01-22T12:43:55.202Z"
   },
   {
    "duration": 9,
    "start_time": "2022-01-22T12:43:55.218Z"
   },
   {
    "duration": 302,
    "start_time": "2022-01-22T12:43:55.228Z"
   },
   {
    "duration": 7,
    "start_time": "2022-01-22T12:43:55.532Z"
   },
   {
    "duration": 9,
    "start_time": "2022-01-22T12:43:55.540Z"
   },
   {
    "duration": 11,
    "start_time": "2022-01-22T12:43:55.551Z"
   },
   {
    "duration": 10,
    "start_time": "2022-01-22T12:46:27.526Z"
   },
   {
    "duration": 7121,
    "start_time": "2022-01-22T12:47:12.398Z"
   },
   {
    "duration": 1067,
    "start_time": "2022-01-22T12:47:19.521Z"
   },
   {
    "duration": 22,
    "start_time": "2022-01-22T12:47:20.590Z"
   },
   {
    "duration": 21,
    "start_time": "2022-01-22T12:47:20.613Z"
   },
   {
    "duration": 25,
    "start_time": "2022-01-22T12:47:20.636Z"
   },
   {
    "duration": 21,
    "start_time": "2022-01-22T12:47:20.662Z"
   },
   {
    "duration": 48,
    "start_time": "2022-01-22T12:47:20.685Z"
   },
   {
    "duration": 35,
    "start_time": "2022-01-22T12:47:20.736Z"
   },
   {
    "duration": 51,
    "start_time": "2022-01-22T12:47:20.773Z"
   },
   {
    "duration": 7,
    "start_time": "2022-01-22T12:47:20.825Z"
   },
   {
    "duration": 27,
    "start_time": "2022-01-22T12:47:20.833Z"
   },
   {
    "duration": 31,
    "start_time": "2022-01-22T12:47:20.861Z"
   },
   {
    "duration": 346,
    "start_time": "2022-01-22T12:47:20.894Z"
   },
   {
    "duration": 8,
    "start_time": "2022-01-22T12:47:21.242Z"
   },
   {
    "duration": 23,
    "start_time": "2022-01-22T12:47:21.252Z"
   },
   {
    "duration": 51,
    "start_time": "2022-01-22T12:47:21.277Z"
   },
   {
    "duration": 16,
    "start_time": "2022-01-22T12:47:21.330Z"
   },
   {
    "duration": 29,
    "start_time": "2022-01-22T12:47:21.348Z"
   },
   {
    "duration": 17,
    "start_time": "2022-01-22T12:47:21.378Z"
   },
   {
    "duration": 29,
    "start_time": "2022-01-22T12:47:21.397Z"
   },
   {
    "duration": 34,
    "start_time": "2022-01-22T12:47:21.428Z"
   },
   {
    "duration": 24,
    "start_time": "2022-01-22T12:47:21.464Z"
   },
   {
    "duration": 23,
    "start_time": "2022-01-22T12:47:21.492Z"
   },
   {
    "duration": 28,
    "start_time": "2022-01-22T12:47:21.517Z"
   },
   {
    "duration": 23,
    "start_time": "2022-01-22T12:47:21.547Z"
   },
   {
    "duration": 46,
    "start_time": "2022-01-22T12:47:21.572Z"
   },
   {
    "duration": 30,
    "start_time": "2022-01-22T12:47:21.620Z"
   },
   {
    "duration": 21,
    "start_time": "2022-01-22T12:47:21.652Z"
   },
   {
    "duration": 373,
    "start_time": "2022-01-22T12:47:21.674Z"
   },
   {
    "duration": 16,
    "start_time": "2022-01-22T12:47:22.049Z"
   },
   {
    "duration": 12,
    "start_time": "2022-01-22T12:47:22.067Z"
   },
   {
    "duration": 27,
    "start_time": "2022-01-22T12:47:22.080Z"
   },
   {
    "duration": 22,
    "start_time": "2022-01-22T12:47:22.110Z"
   },
   {
    "duration": 344,
    "start_time": "2022-01-22T12:47:22.134Z"
   },
   {
    "duration": 277,
    "start_time": "2022-01-22T12:47:22.480Z"
   },
   {
    "duration": 13,
    "start_time": "2022-01-22T12:47:22.759Z"
   },
   {
    "duration": 37,
    "start_time": "2022-01-22T12:47:22.774Z"
   },
   {
    "duration": 7,
    "start_time": "2022-01-22T12:47:22.813Z"
   },
   {
    "duration": 28,
    "start_time": "2022-01-22T12:47:22.821Z"
   },
   {
    "duration": 305,
    "start_time": "2022-01-22T12:47:22.851Z"
   },
   {
    "duration": 5,
    "start_time": "2022-01-22T12:47:23.157Z"
   },
   {
    "duration": 12,
    "start_time": "2022-01-22T12:47:23.164Z"
   },
   {
    "duration": 32,
    "start_time": "2022-01-22T12:47:23.177Z"
   },
   {
    "duration": 80,
    "start_time": "2022-01-22T12:47:23.211Z"
   },
   {
    "duration": 328,
    "start_time": "2022-01-22T12:47:23.293Z"
   },
   {
    "duration": 8,
    "start_time": "2022-01-22T12:47:23.623Z"
   },
   {
    "duration": 420,
    "start_time": "2022-01-22T12:47:23.632Z"
   },
   {
    "duration": 4,
    "start_time": "2022-01-22T12:47:24.054Z"
   },
   {
    "duration": 31,
    "start_time": "2022-01-22T12:47:24.060Z"
   },
   {
    "duration": 422,
    "start_time": "2022-01-22T12:47:24.093Z"
   },
   {
    "duration": 417,
    "start_time": "2022-01-22T12:47:24.516Z"
   },
   {
    "duration": 4,
    "start_time": "2022-01-22T12:47:24.935Z"
   },
   {
    "duration": 41,
    "start_time": "2022-01-22T12:47:24.941Z"
   },
   {
    "duration": 37,
    "start_time": "2022-01-22T12:47:24.984Z"
   },
   {
    "duration": 40,
    "start_time": "2022-01-22T12:47:25.022Z"
   },
   {
    "duration": 46,
    "start_time": "2022-01-22T12:47:25.064Z"
   },
   {
    "duration": 340,
    "start_time": "2022-01-22T12:47:25.112Z"
   },
   {
    "duration": 5,
    "start_time": "2022-01-22T12:47:25.453Z"
   },
   {
    "duration": 32,
    "start_time": "2022-01-22T12:47:25.459Z"
   },
   {
    "duration": 36,
    "start_time": "2022-01-22T12:47:25.492Z"
   },
   {
    "duration": 27,
    "start_time": "2022-01-22T12:47:25.530Z"
   },
   {
    "duration": 55,
    "start_time": "2022-01-22T12:47:25.559Z"
   },
   {
    "duration": 334,
    "start_time": "2022-01-22T12:47:25.616Z"
   },
   {
    "duration": 4,
    "start_time": "2022-01-22T12:47:25.952Z"
   },
   {
    "duration": 29,
    "start_time": "2022-01-22T12:47:25.957Z"
   },
   {
    "duration": 33,
    "start_time": "2022-01-22T12:47:25.988Z"
   },
   {
    "duration": 18,
    "start_time": "2022-01-22T12:47:26.022Z"
   },
   {
    "duration": 47,
    "start_time": "2022-01-22T12:47:26.045Z"
   },
   {
    "duration": 330,
    "start_time": "2022-01-22T12:47:26.094Z"
   },
   {
    "duration": 8,
    "start_time": "2022-01-22T12:47:26.426Z"
   },
   {
    "duration": 25,
    "start_time": "2022-01-22T12:47:26.436Z"
   },
   {
    "duration": 21,
    "start_time": "2022-01-22T12:47:26.463Z"
   },
   {
    "duration": 273,
    "start_time": "2022-01-22T12:48:59.340Z"
   },
   {
    "duration": 186,
    "start_time": "2022-01-22T12:49:56.307Z"
   },
   {
    "duration": 14,
    "start_time": "2022-01-22T12:49:59.115Z"
   },
   {
    "duration": 183,
    "start_time": "2022-01-22T12:50:02.426Z"
   },
   {
    "duration": 559,
    "start_time": "2022-01-22T12:50:28.618Z"
   },
   {
    "duration": 385,
    "start_time": "2022-01-22T12:50:34.882Z"
   },
   {
    "duration": 454,
    "start_time": "2022-01-22T12:51:01.407Z"
   },
   {
    "duration": 294,
    "start_time": "2022-01-22T12:51:25.119Z"
   },
   {
    "duration": 599,
    "start_time": "2022-01-22T12:54:20.474Z"
   },
   {
    "duration": 455,
    "start_time": "2022-01-22T12:55:26.652Z"
   },
   {
    "duration": 450,
    "start_time": "2022-01-22T12:56:17.431Z"
   },
   {
    "duration": 497,
    "start_time": "2022-01-22T12:57:34.824Z"
   },
   {
    "duration": 547,
    "start_time": "2022-01-22T12:59:03.078Z"
   },
   {
    "duration": 486,
    "start_time": "2022-01-22T13:01:20.809Z"
   },
   {
    "duration": 8,
    "start_time": "2022-01-22T13:03:22.524Z"
   },
   {
    "duration": 5,
    "start_time": "2022-01-22T13:03:28.205Z"
   },
   {
    "duration": 398,
    "start_time": "2022-01-22T18:57:48.309Z"
   },
   {
    "duration": 12973,
    "start_time": "2022-01-22T18:58:11.958Z"
   },
   {
    "duration": 1885,
    "start_time": "2022-01-22T18:58:24.934Z"
   },
   {
    "duration": 20,
    "start_time": "2022-01-22T18:58:26.822Z"
   },
   {
    "duration": 26,
    "start_time": "2022-01-22T18:58:26.845Z"
   },
   {
    "duration": 31,
    "start_time": "2022-01-22T18:58:26.875Z"
   },
   {
    "duration": 30,
    "start_time": "2022-01-22T18:58:26.911Z"
   },
   {
    "duration": 52,
    "start_time": "2022-01-22T18:58:26.944Z"
   },
   {
    "duration": 935,
    "start_time": "2022-01-22T18:58:27.001Z"
   },
   {
    "duration": 26,
    "start_time": "2022-01-22T18:58:27.940Z"
   },
   {
    "duration": 43,
    "start_time": "2022-01-22T18:58:27.970Z"
   },
   {
    "duration": 11,
    "start_time": "2022-01-22T18:58:28.015Z"
   },
   {
    "duration": 26,
    "start_time": "2022-01-22T18:58:28.029Z"
   },
   {
    "duration": 49,
    "start_time": "2022-01-22T18:58:28.058Z"
   },
   {
    "duration": 880,
    "start_time": "2022-01-22T18:58:28.109Z"
   },
   {
    "duration": 20,
    "start_time": "2022-01-22T18:58:28.992Z"
   },
   {
    "duration": 17,
    "start_time": "2022-01-22T18:58:29.014Z"
   },
   {
    "duration": 74,
    "start_time": "2022-01-22T18:58:29.034Z"
   },
   {
    "duration": 19,
    "start_time": "2022-01-22T18:58:29.111Z"
   },
   {
    "duration": 47,
    "start_time": "2022-01-22T18:58:29.133Z"
   },
   {
    "duration": 9,
    "start_time": "2022-01-22T18:58:29.184Z"
   },
   {
    "duration": 10,
    "start_time": "2022-01-22T18:58:29.196Z"
   },
   {
    "duration": 20,
    "start_time": "2022-01-22T18:58:29.213Z"
   },
   {
    "duration": 35,
    "start_time": "2022-01-22T18:58:29.275Z"
   },
   {
    "duration": 6,
    "start_time": "2022-01-22T18:58:29.316Z"
   },
   {
    "duration": 559,
    "start_time": "2022-01-22T18:58:29.325Z"
   },
   {
    "duration": 29,
    "start_time": "2022-01-22T18:58:29.858Z"
   },
   {
    "duration": 28,
    "start_time": "2022-01-22T18:58:29.860Z"
   },
   {
    "duration": 27,
    "start_time": "2022-01-22T18:58:29.863Z"
   },
   {
    "duration": 26,
    "start_time": "2022-01-22T18:58:29.865Z"
   },
   {
    "duration": 25,
    "start_time": "2022-01-22T18:58:29.867Z"
   },
   {
    "duration": 24,
    "start_time": "2022-01-22T18:58:29.870Z"
   },
   {
    "duration": 24,
    "start_time": "2022-01-22T18:58:29.871Z"
   },
   {
    "duration": 23,
    "start_time": "2022-01-22T18:58:29.874Z"
   },
   {
    "duration": 22,
    "start_time": "2022-01-22T18:58:29.876Z"
   },
   {
    "duration": 22,
    "start_time": "2022-01-22T18:58:29.878Z"
   },
   {
    "duration": 21,
    "start_time": "2022-01-22T18:58:29.880Z"
   },
   {
    "duration": -18,
    "start_time": "2022-01-22T18:58:29.930Z"
   },
   {
    "duration": -19,
    "start_time": "2022-01-22T18:58:29.933Z"
   },
   {
    "duration": -19,
    "start_time": "2022-01-22T18:58:29.935Z"
   },
   {
    "duration": -18,
    "start_time": "2022-01-22T18:58:29.937Z"
   },
   {
    "duration": -18,
    "start_time": "2022-01-22T18:58:29.939Z"
   },
   {
    "duration": -16,
    "start_time": "2022-01-22T18:58:29.940Z"
   },
   {
    "duration": -16,
    "start_time": "2022-01-22T18:58:29.942Z"
   },
   {
    "duration": -16,
    "start_time": "2022-01-22T18:58:29.944Z"
   },
   {
    "duration": 27,
    "start_time": "2022-01-22T18:58:29.946Z"
   },
   {
    "duration": 29,
    "start_time": "2022-01-22T18:58:29.947Z"
   },
   {
    "duration": 36,
    "start_time": "2022-01-22T18:58:29.949Z"
   },
   {
    "duration": 36,
    "start_time": "2022-01-22T18:58:29.951Z"
   },
   {
    "duration": 32,
    "start_time": "2022-01-22T18:58:29.957Z"
   },
   {
    "duration": 33,
    "start_time": "2022-01-22T18:58:29.959Z"
   },
   {
    "duration": 33,
    "start_time": "2022-01-22T18:58:29.961Z"
   },
   {
    "duration": 35,
    "start_time": "2022-01-22T18:58:29.962Z"
   },
   {
    "duration": 31,
    "start_time": "2022-01-22T18:58:29.968Z"
   },
   {
    "duration": 30,
    "start_time": "2022-01-22T18:58:29.970Z"
   },
   {
    "duration": 27,
    "start_time": "2022-01-22T18:58:29.975Z"
   },
   {
    "duration": -34,
    "start_time": "2022-01-22T18:58:30.037Z"
   },
   {
    "duration": -34,
    "start_time": "2022-01-22T18:58:30.039Z"
   },
   {
    "duration": -33,
    "start_time": "2022-01-22T18:58:30.040Z"
   },
   {
    "duration": -32,
    "start_time": "2022-01-22T18:58:30.041Z"
   },
   {
    "duration": -33,
    "start_time": "2022-01-22T18:58:30.043Z"
   },
   {
    "duration": -32,
    "start_time": "2022-01-22T18:58:30.044Z"
   },
   {
    "duration": -41,
    "start_time": "2022-01-22T18:58:30.054Z"
   },
   {
    "duration": -45,
    "start_time": "2022-01-22T18:58:30.060Z"
   },
   {
    "duration": 2,
    "start_time": "2022-01-22T18:58:30.061Z"
   },
   {
    "duration": 4,
    "start_time": "2022-01-22T18:58:30.062Z"
   },
   {
    "duration": 4,
    "start_time": "2022-01-22T18:58:30.063Z"
   },
   {
    "duration": 9,
    "start_time": "2022-01-22T18:58:30.068Z"
   },
   {
    "duration": 1,
    "start_time": "2022-01-22T18:58:30.078Z"
   },
   {
    "duration": 0,
    "start_time": "2022-01-22T18:58:30.080Z"
   },
   {
    "duration": 1,
    "start_time": "2022-01-22T18:58:30.081Z"
   },
   {
    "duration": 0,
    "start_time": "2022-01-22T18:58:30.084Z"
   },
   {
    "duration": 1,
    "start_time": "2022-01-22T18:58:30.085Z"
   },
   {
    "duration": 2,
    "start_time": "2022-01-22T18:58:30.086Z"
   },
   {
    "duration": 1,
    "start_time": "2022-01-22T18:58:30.088Z"
   },
   {
    "duration": 10,
    "start_time": "2022-01-22T18:58:37.026Z"
   },
   {
    "duration": 7,
    "start_time": "2022-01-22T18:58:57.829Z"
   },
   {
    "duration": 15,
    "start_time": "2022-01-22T18:59:07.178Z"
   },
   {
    "duration": 13,
    "start_time": "2022-01-22T19:00:09.580Z"
   },
   {
    "duration": 4499,
    "start_time": "2022-01-22T19:00:35.703Z"
   },
   {
    "duration": 1692,
    "start_time": "2022-01-22T19:00:40.205Z"
   },
   {
    "duration": 19,
    "start_time": "2022-01-22T19:00:41.900Z"
   },
   {
    "duration": 15,
    "start_time": "2022-01-22T19:00:41.922Z"
   },
   {
    "duration": 29,
    "start_time": "2022-01-22T19:00:41.940Z"
   },
   {
    "duration": 31,
    "start_time": "2022-01-22T19:00:41.974Z"
   },
   {
    "duration": 21,
    "start_time": "2022-01-22T19:00:42.007Z"
   },
   {
    "duration": 856,
    "start_time": "2022-01-22T19:00:42.032Z"
   },
   {
    "duration": 19,
    "start_time": "2022-01-22T19:00:42.893Z"
   },
   {
    "duration": 42,
    "start_time": "2022-01-22T19:00:42.915Z"
   },
   {
    "duration": 21,
    "start_time": "2022-01-22T19:00:42.961Z"
   },
   {
    "duration": 14,
    "start_time": "2022-01-22T19:00:42.985Z"
   },
   {
    "duration": 25,
    "start_time": "2022-01-22T19:00:43.001Z"
   },
   {
    "duration": 833,
    "start_time": "2022-01-22T19:00:43.029Z"
   },
   {
    "duration": 19,
    "start_time": "2022-01-22T19:00:43.865Z"
   },
   {
    "duration": 20,
    "start_time": "2022-01-22T19:00:43.887Z"
   },
   {
    "duration": 70,
    "start_time": "2022-01-22T19:00:43.910Z"
   },
   {
    "duration": 16,
    "start_time": "2022-01-22T19:00:43.983Z"
   },
   {
    "duration": 53,
    "start_time": "2022-01-22T19:00:44.001Z"
   },
   {
    "duration": 5,
    "start_time": "2022-01-22T19:00:44.057Z"
   },
   {
    "duration": 28,
    "start_time": "2022-01-22T19:00:44.064Z"
   },
   {
    "duration": 21,
    "start_time": "2022-01-22T19:00:44.095Z"
   },
   {
    "duration": 23,
    "start_time": "2022-01-22T19:00:44.124Z"
   },
   {
    "duration": 5,
    "start_time": "2022-01-22T19:00:44.151Z"
   },
   {
    "duration": 30,
    "start_time": "2022-01-22T19:00:44.165Z"
   },
   {
    "duration": 14,
    "start_time": "2022-01-22T19:00:44.198Z"
   },
   {
    "duration": 9,
    "start_time": "2022-01-22T19:00:44.215Z"
   },
   {
    "duration": 46,
    "start_time": "2022-01-22T19:00:44.227Z"
   },
   {
    "duration": 14,
    "start_time": "2022-01-22T19:00:44.276Z"
   },
   {
    "duration": 15,
    "start_time": "2022-01-22T19:00:44.293Z"
   },
   {
    "duration": 18,
    "start_time": "2022-01-22T19:00:44.311Z"
   },
   {
    "duration": 626,
    "start_time": "2022-01-22T19:00:44.331Z"
   },
   {
    "duration": 26,
    "start_time": "2022-01-22T19:00:44.960Z"
   },
   {
    "duration": 10,
    "start_time": "2022-01-22T19:00:44.989Z"
   },
   {
    "duration": 27,
    "start_time": "2022-01-22T19:00:45.002Z"
   },
   {
    "duration": 64,
    "start_time": "2022-01-22T19:00:45.032Z"
   },
   {
    "duration": 592,
    "start_time": "2022-01-22T19:00:45.098Z"
   },
   {
    "duration": 524,
    "start_time": "2022-01-22T19:00:45.693Z"
   },
   {
    "duration": 20,
    "start_time": "2022-01-22T19:00:46.219Z"
   },
   {
    "duration": 43,
    "start_time": "2022-01-22T19:00:46.241Z"
   },
   {
    "duration": 7,
    "start_time": "2022-01-22T19:00:46.287Z"
   },
   {
    "duration": 131,
    "start_time": "2022-01-22T19:00:46.297Z"
   },
   {
    "duration": 524,
    "start_time": "2022-01-22T19:00:46.430Z"
   },
   {
    "duration": 10,
    "start_time": "2022-01-22T19:00:46.956Z"
   },
   {
    "duration": 29,
    "start_time": "2022-01-22T19:00:46.970Z"
   },
   {
    "duration": 15,
    "start_time": "2022-01-22T19:00:47.002Z"
   },
   {
    "duration": 9,
    "start_time": "2022-01-22T19:00:47.020Z"
   },
   {
    "duration": 537,
    "start_time": "2022-01-22T19:00:47.032Z"
   },
   {
    "duration": 11,
    "start_time": "2022-01-22T19:00:47.571Z"
   },
   {
    "duration": 645,
    "start_time": "2022-01-22T19:00:47.585Z"
   },
   {
    "duration": 6,
    "start_time": "2022-01-22T19:00:48.232Z"
   },
   {
    "duration": 29,
    "start_time": "2022-01-22T19:00:48.240Z"
   },
   {
    "duration": 615,
    "start_time": "2022-01-22T19:00:48.273Z"
   },
   {
    "duration": 624,
    "start_time": "2022-01-22T19:00:48.891Z"
   },
   {
    "duration": 5,
    "start_time": "2022-01-22T19:00:49.517Z"
   },
   {
    "duration": 9,
    "start_time": "2022-01-22T19:00:49.525Z"
   },
   {
    "duration": 41,
    "start_time": "2022-01-22T19:00:49.537Z"
   },
   {
    "duration": 30,
    "start_time": "2022-01-22T19:00:49.582Z"
   },
   {
    "duration": 22,
    "start_time": "2022-01-22T19:00:49.615Z"
   },
   {
    "duration": 640,
    "start_time": "2022-01-22T19:00:49.640Z"
   },
   {
    "duration": 10,
    "start_time": "2022-01-22T19:00:50.284Z"
   },
   {
    "duration": 20,
    "start_time": "2022-01-22T19:00:50.297Z"
   },
   {
    "duration": 9,
    "start_time": "2022-01-22T19:00:50.320Z"
   },
   {
    "duration": 50,
    "start_time": "2022-01-22T19:00:50.332Z"
   },
   {
    "duration": 19,
    "start_time": "2022-01-22T19:00:50.385Z"
   },
   {
    "duration": 562,
    "start_time": "2022-01-22T19:00:50.407Z"
   },
   {
    "duration": 8,
    "start_time": "2022-01-22T19:00:50.972Z"
   },
   {
    "duration": 7,
    "start_time": "2022-01-22T19:00:50.994Z"
   },
   {
    "duration": 10,
    "start_time": "2022-01-22T19:00:51.005Z"
   },
   {
    "duration": 54,
    "start_time": "2022-01-22T19:00:51.018Z"
   },
   {
    "duration": 16,
    "start_time": "2022-01-22T19:00:51.074Z"
   },
   {
    "duration": 592,
    "start_time": "2022-01-22T19:00:51.092Z"
   },
   {
    "duration": 31,
    "start_time": "2022-01-22T19:00:51.701Z"
   },
   {
    "duration": 87,
    "start_time": "2022-01-22T19:00:51.749Z"
   },
   {
    "duration": 94,
    "start_time": "2022-01-22T19:00:51.849Z"
   },
   {
    "duration": 17,
    "start_time": "2022-01-22T19:09:53.527Z"
   },
   {
    "duration": 28,
    "start_time": "2022-01-22T19:10:05.157Z"
   },
   {
    "duration": 16,
    "start_time": "2022-01-22T19:10:08.144Z"
   },
   {
    "duration": 534,
    "start_time": "2022-01-22T19:10:13.596Z"
   },
   {
    "duration": 7,
    "start_time": "2022-01-22T19:10:18.058Z"
   },
   {
    "duration": 3,
    "start_time": "2022-01-22T19:20:29.608Z"
   },
   {
    "duration": 446,
    "start_time": "2022-01-22T19:23:38.132Z"
   },
   {
    "duration": 333,
    "start_time": "2022-01-22T19:23:45.141Z"
   },
   {
    "duration": 12,
    "start_time": "2022-01-22T19:28:00.531Z"
   },
   {
    "duration": 21,
    "start_time": "2022-01-22T19:28:21.363Z"
   },
   {
    "duration": 14,
    "start_time": "2022-01-22T19:28:32.231Z"
   },
   {
    "duration": 25,
    "start_time": "2022-01-22T19:28:40.442Z"
   },
   {
    "duration": 21,
    "start_time": "2022-01-22T19:29:05.211Z"
   },
   {
    "duration": 34,
    "start_time": "2022-01-22T19:29:10.436Z"
   },
   {
    "duration": 689,
    "start_time": "2022-01-22T19:33:56.985Z"
   },
   {
    "duration": 342,
    "start_time": "2022-01-22T19:34:09.576Z"
   },
   {
    "duration": 301,
    "start_time": "2022-01-22T19:35:09.428Z"
   },
   {
    "duration": 499,
    "start_time": "2022-01-22T19:35:40.014Z"
   },
   {
    "duration": 3550,
    "start_time": "2022-01-22T19:36:00.832Z"
   },
   {
    "duration": 1671,
    "start_time": "2022-01-22T19:36:04.385Z"
   },
   {
    "duration": 20,
    "start_time": "2022-01-22T19:36:06.060Z"
   },
   {
    "duration": 18,
    "start_time": "2022-01-22T19:36:06.083Z"
   },
   {
    "duration": 19,
    "start_time": "2022-01-22T19:36:06.104Z"
   },
   {
    "duration": 49,
    "start_time": "2022-01-22T19:36:06.127Z"
   },
   {
    "duration": 35,
    "start_time": "2022-01-22T19:36:06.179Z"
   },
   {
    "duration": 870,
    "start_time": "2022-01-22T19:36:06.217Z"
   },
   {
    "duration": 18,
    "start_time": "2022-01-22T19:36:07.092Z"
   },
   {
    "duration": 48,
    "start_time": "2022-01-22T19:36:07.113Z"
   },
   {
    "duration": 16,
    "start_time": "2022-01-22T19:36:07.168Z"
   },
   {
    "duration": 25,
    "start_time": "2022-01-22T19:36:07.187Z"
   },
   {
    "duration": 34,
    "start_time": "2022-01-22T19:36:07.214Z"
   },
   {
    "duration": 1743,
    "start_time": "2022-01-22T19:36:07.250Z"
   },
   {
    "duration": 13,
    "start_time": "2022-01-22T19:36:08.996Z"
   },
   {
    "duration": 17,
    "start_time": "2022-01-22T19:36:09.012Z"
   },
   {
    "duration": 67,
    "start_time": "2022-01-22T19:36:09.032Z"
   },
   {
    "duration": 16,
    "start_time": "2022-01-22T19:36:09.102Z"
   },
   {
    "duration": 17,
    "start_time": "2022-01-22T19:36:09.121Z"
   },
   {
    "duration": 7,
    "start_time": "2022-01-22T19:36:09.177Z"
   },
   {
    "duration": 17,
    "start_time": "2022-01-22T19:36:09.188Z"
   },
   {
    "duration": 28,
    "start_time": "2022-01-22T19:36:09.208Z"
   },
   {
    "duration": 31,
    "start_time": "2022-01-22T19:36:09.238Z"
   },
   {
    "duration": 7,
    "start_time": "2022-01-22T19:36:09.272Z"
   },
   {
    "duration": 20,
    "start_time": "2022-01-22T19:36:09.283Z"
   },
   {
    "duration": 14,
    "start_time": "2022-01-22T19:36:09.306Z"
   },
   {
    "duration": 13,
    "start_time": "2022-01-22T19:36:09.372Z"
   },
   {
    "duration": 19,
    "start_time": "2022-01-22T19:36:09.389Z"
   },
   {
    "duration": 13,
    "start_time": "2022-01-22T19:36:09.411Z"
   },
   {
    "duration": 76,
    "start_time": "2022-01-22T19:36:09.427Z"
   },
   {
    "duration": 15,
    "start_time": "2022-01-22T19:36:09.506Z"
   },
   {
    "duration": 581,
    "start_time": "2022-01-22T19:36:09.524Z"
   },
   {
    "duration": 30,
    "start_time": "2022-01-22T19:36:10.108Z"
   },
   {
    "duration": 31,
    "start_time": "2022-01-22T19:36:10.140Z"
   },
   {
    "duration": 22,
    "start_time": "2022-01-22T19:36:10.178Z"
   },
   {
    "duration": 28,
    "start_time": "2022-01-22T19:36:10.202Z"
   },
   {
    "duration": 607,
    "start_time": "2022-01-22T19:36:10.233Z"
   },
   {
    "duration": 474,
    "start_time": "2022-01-22T19:36:10.843Z"
   },
   {
    "duration": 21,
    "start_time": "2022-01-22T19:36:11.320Z"
   },
   {
    "duration": 44,
    "start_time": "2022-01-22T19:36:11.344Z"
   },
   {
    "duration": 5,
    "start_time": "2022-01-22T19:36:11.390Z"
   },
   {
    "duration": 28,
    "start_time": "2022-01-22T19:36:11.398Z"
   },
   {
    "duration": 621,
    "start_time": "2022-01-22T19:36:11.429Z"
   },
   {
    "duration": 19,
    "start_time": "2022-01-22T19:36:12.053Z"
   },
   {
    "duration": 21,
    "start_time": "2022-01-22T19:36:12.076Z"
   },
   {
    "duration": 16,
    "start_time": "2022-01-22T19:36:12.100Z"
   },
   {
    "duration": 9,
    "start_time": "2022-01-22T19:36:12.118Z"
   },
   {
    "duration": 550,
    "start_time": "2022-01-22T19:36:12.130Z"
   },
   {
    "duration": 14,
    "start_time": "2022-01-22T19:36:12.683Z"
   },
   {
    "duration": 693,
    "start_time": "2022-01-22T19:36:12.700Z"
   },
   {
    "duration": 6,
    "start_time": "2022-01-22T19:36:13.397Z"
   },
   {
    "duration": 13,
    "start_time": "2022-01-22T19:36:13.406Z"
   },
   {
    "duration": 674,
    "start_time": "2022-01-22T19:36:13.422Z"
   },
   {
    "duration": 675,
    "start_time": "2022-01-22T19:36:14.098Z"
   },
   {
    "duration": 7,
    "start_time": "2022-01-22T19:36:14.777Z"
   },
   {
    "duration": 13,
    "start_time": "2022-01-22T19:36:14.787Z"
   },
   {
    "duration": 17,
    "start_time": "2022-01-22T19:36:14.803Z"
   },
   {
    "duration": 48,
    "start_time": "2022-01-22T19:36:14.822Z"
   },
   {
    "duration": 20,
    "start_time": "2022-01-22T19:36:14.873Z"
   },
   {
    "duration": 574,
    "start_time": "2022-01-22T19:36:14.896Z"
   },
   {
    "duration": 9,
    "start_time": "2022-01-22T19:36:15.473Z"
   },
   {
    "duration": 17,
    "start_time": "2022-01-22T19:36:15.485Z"
   },
   {
    "duration": 16,
    "start_time": "2022-01-22T19:36:15.504Z"
   },
   {
    "duration": 55,
    "start_time": "2022-01-22T19:36:15.523Z"
   },
   {
    "duration": 15,
    "start_time": "2022-01-22T19:36:15.581Z"
   },
   {
    "duration": 524,
    "start_time": "2022-01-22T19:36:15.598Z"
   },
   {
    "duration": 7,
    "start_time": "2022-01-22T19:36:16.125Z"
   },
   {
    "duration": 8,
    "start_time": "2022-01-22T19:36:16.134Z"
   },
   {
    "duration": 9,
    "start_time": "2022-01-22T19:36:16.174Z"
   },
   {
    "duration": 7,
    "start_time": "2022-01-22T19:36:16.186Z"
   },
   {
    "duration": 26,
    "start_time": "2022-01-22T19:36:16.196Z"
   },
   {
    "duration": 547,
    "start_time": "2022-01-22T19:36:16.225Z"
   },
   {
    "duration": 11,
    "start_time": "2022-01-22T19:36:16.774Z"
   },
   {
    "duration": 18,
    "start_time": "2022-01-22T19:36:16.788Z"
   },
   {
    "duration": 7,
    "start_time": "2022-01-22T19:36:16.809Z"
   },
   {
    "duration": 1121,
    "start_time": "2022-01-22T19:37:30.499Z"
   },
   {
    "duration": 539,
    "start_time": "2022-01-22T19:37:34.129Z"
   },
   {
    "duration": 90453,
    "start_time": "2022-01-22T19:59:23.318Z"
   },
   {
    "duration": 1559,
    "start_time": "2022-01-22T20:00:53.775Z"
   },
   {
    "duration": 17,
    "start_time": "2022-01-22T20:00:55.337Z"
   },
   {
    "duration": 21,
    "start_time": "2022-01-22T20:00:55.356Z"
   },
   {
    "duration": 14,
    "start_time": "2022-01-22T20:00:55.379Z"
   },
   {
    "duration": 19,
    "start_time": "2022-01-22T20:00:55.395Z"
   },
   {
    "duration": 53,
    "start_time": "2022-01-22T20:00:55.416Z"
   },
   {
    "duration": 785,
    "start_time": "2022-01-22T20:00:55.473Z"
   },
   {
    "duration": 22,
    "start_time": "2022-01-22T20:00:56.262Z"
   },
   {
    "duration": 33,
    "start_time": "2022-01-22T20:00:56.287Z"
   },
   {
    "duration": 12,
    "start_time": "2022-01-22T20:00:56.323Z"
   },
   {
    "duration": 13,
    "start_time": "2022-01-22T20:00:56.338Z"
   },
   {
    "duration": 33,
    "start_time": "2022-01-22T20:00:56.354Z"
   },
   {
    "duration": 64826,
    "start_time": "2022-01-22T20:00:56.390Z"
   },
   {
    "duration": 14,
    "start_time": "2022-01-22T20:02:01.218Z"
   },
   {
    "duration": 20,
    "start_time": "2022-01-22T20:02:01.234Z"
   },
   {
    "duration": 38,
    "start_time": "2022-01-22T20:02:01.257Z"
   },
   {
    "duration": 16,
    "start_time": "2022-01-22T20:02:01.298Z"
   },
   {
    "duration": 22,
    "start_time": "2022-01-22T20:02:01.316Z"
   },
   {
    "duration": 12,
    "start_time": "2022-01-22T20:02:01.340Z"
   },
   {
    "duration": 16,
    "start_time": "2022-01-22T20:02:01.354Z"
   },
   {
    "duration": 26,
    "start_time": "2022-01-22T20:02:01.372Z"
   },
   {
    "duration": 24,
    "start_time": "2022-01-22T20:02:01.408Z"
   },
   {
    "duration": 6,
    "start_time": "2022-01-22T20:02:01.437Z"
   },
   {
    "duration": 17,
    "start_time": "2022-01-22T20:02:01.446Z"
   },
   {
    "duration": 15,
    "start_time": "2022-01-22T20:02:01.469Z"
   },
   {
    "duration": 11,
    "start_time": "2022-01-22T20:02:01.487Z"
   },
   {
    "duration": 19,
    "start_time": "2022-01-22T20:02:01.500Z"
   },
   {
    "duration": 18,
    "start_time": "2022-01-22T20:02:01.522Z"
   },
   {
    "duration": 21,
    "start_time": "2022-01-22T20:02:01.543Z"
   },
   {
    "duration": 24,
    "start_time": "2022-01-22T20:02:01.571Z"
   },
   {
    "duration": 586,
    "start_time": "2022-01-22T20:02:01.598Z"
   },
   {
    "duration": 82,
    "start_time": "2022-01-22T20:02:02.187Z"
   },
   {
    "duration": 6,
    "start_time": "2022-01-22T20:02:02.272Z"
   },
   {
    "duration": 18,
    "start_time": "2022-01-22T20:02:02.280Z"
   },
   {
    "duration": 78,
    "start_time": "2022-01-22T20:02:02.301Z"
   },
   {
    "duration": 627,
    "start_time": "2022-01-22T20:02:02.382Z"
   },
   {
    "duration": 465,
    "start_time": "2022-01-22T20:02:03.011Z"
   },
   {
    "duration": 21,
    "start_time": "2022-01-22T20:02:03.478Z"
   },
   {
    "duration": 21,
    "start_time": "2022-01-22T20:02:03.501Z"
   },
   {
    "duration": 6,
    "start_time": "2022-01-22T20:02:03.524Z"
   },
   {
    "duration": 94,
    "start_time": "2022-01-22T20:02:03.532Z"
   },
   {
    "duration": 643,
    "start_time": "2022-01-22T20:02:03.628Z"
   },
   {
    "duration": 5,
    "start_time": "2022-01-22T20:02:04.274Z"
   },
   {
    "duration": 13,
    "start_time": "2022-01-22T20:02:04.282Z"
   },
   {
    "duration": 17,
    "start_time": "2022-01-22T20:02:04.297Z"
   },
   {
    "duration": 8,
    "start_time": "2022-01-22T20:02:04.316Z"
   },
   {
    "duration": 522,
    "start_time": "2022-01-22T20:02:04.326Z"
   },
   {
    "duration": 22,
    "start_time": "2022-01-22T20:02:04.851Z"
   },
   {
    "duration": 613,
    "start_time": "2022-01-22T20:02:04.876Z"
   },
   {
    "duration": 6,
    "start_time": "2022-01-22T20:02:05.491Z"
   },
   {
    "duration": 9,
    "start_time": "2022-01-22T20:02:05.500Z"
   },
   {
    "duration": 734,
    "start_time": "2022-01-22T20:02:05.512Z"
   },
   {
    "duration": 635,
    "start_time": "2022-01-22T20:02:06.249Z"
   },
   {
    "duration": 7,
    "start_time": "2022-01-22T20:02:06.887Z"
   },
   {
    "duration": 10,
    "start_time": "2022-01-22T20:02:06.896Z"
   },
   {
    "duration": 14,
    "start_time": "2022-01-22T20:02:06.909Z"
   },
   {
    "duration": 50,
    "start_time": "2022-01-22T20:02:06.926Z"
   },
   {
    "duration": 21,
    "start_time": "2022-01-22T20:02:06.978Z"
   },
   {
    "duration": 544,
    "start_time": "2022-01-22T20:02:07.002Z"
   },
   {
    "duration": 7,
    "start_time": "2022-01-22T20:02:07.548Z"
   },
   {
    "duration": 6,
    "start_time": "2022-01-22T20:02:07.570Z"
   },
   {
    "duration": 7,
    "start_time": "2022-01-22T20:02:07.579Z"
   },
   {
    "duration": 19,
    "start_time": "2022-01-22T20:02:07.588Z"
   },
   {
    "duration": 14,
    "start_time": "2022-01-22T20:02:07.609Z"
   },
   {
    "duration": 525,
    "start_time": "2022-01-22T20:02:07.626Z"
   },
   {
    "duration": 16,
    "start_time": "2022-01-22T20:02:08.153Z"
   },
   {
    "duration": 5,
    "start_time": "2022-01-22T20:02:08.178Z"
   },
   {
    "duration": 8,
    "start_time": "2022-01-22T20:02:08.185Z"
   },
   {
    "duration": 10,
    "start_time": "2022-01-22T20:02:08.196Z"
   },
   {
    "duration": 18,
    "start_time": "2022-01-22T20:02:08.209Z"
   },
   {
    "duration": 534,
    "start_time": "2022-01-22T20:02:08.230Z"
   },
   {
    "duration": 10,
    "start_time": "2022-01-22T20:02:08.770Z"
   },
   {
    "duration": 11,
    "start_time": "2022-01-22T20:02:08.782Z"
   },
   {
    "duration": 11,
    "start_time": "2022-01-22T20:02:08.795Z"
   },
   {
    "duration": 18,
    "start_time": "2022-01-22T20:04:14.658Z"
   },
   {
    "duration": 299,
    "start_time": "2022-01-22T20:04:26.577Z"
   },
   {
    "duration": 115,
    "start_time": "2022-01-22T20:05:00.303Z"
   },
   {
    "duration": 77,
    "start_time": "2022-01-22T20:05:03.910Z"
   },
   {
    "duration": 324,
    "start_time": "2022-01-22T20:07:58.165Z"
   },
   {
    "duration": 414,
    "start_time": "2022-01-22T20:08:10.443Z"
   },
   {
    "duration": 294,
    "start_time": "2022-01-22T20:08:20.923Z"
   },
   {
    "duration": 305,
    "start_time": "2022-01-22T20:08:26.635Z"
   },
   {
    "duration": 906,
    "start_time": "2022-01-22T20:08:38.426Z"
   },
   {
    "duration": 348,
    "start_time": "2022-01-22T20:08:47.088Z"
   },
   {
    "duration": 278,
    "start_time": "2022-01-22T20:08:53.153Z"
   },
   {
    "duration": 18,
    "start_time": "2022-01-22T20:10:53.449Z"
   },
   {
    "duration": 13,
    "start_time": "2022-01-22T20:11:00.161Z"
   },
   {
    "duration": 286,
    "start_time": "2022-01-22T20:11:21.847Z"
   },
   {
    "duration": 275,
    "start_time": "2022-01-22T20:11:31.016Z"
   },
   {
    "duration": 517,
    "start_time": "2022-01-22T20:12:03.546Z"
   },
   {
    "duration": 12,
    "start_time": "2022-01-22T20:12:29.733Z"
   },
   {
    "duration": 13,
    "start_time": "2022-01-22T20:12:38.003Z"
   },
   {
    "duration": 354,
    "start_time": "2022-01-22T20:16:07.610Z"
   },
   {
    "duration": 8,
    "start_time": "2022-01-22T20:16:15.414Z"
   },
   {
    "duration": 743,
    "start_time": "2022-01-22T20:16:28.796Z"
   },
   {
    "duration": 1283,
    "start_time": "2022-01-22T20:16:46.827Z"
   },
   {
    "duration": 8,
    "start_time": "2022-01-22T20:16:50.256Z"
   },
   {
    "duration": 8,
    "start_time": "2022-01-22T20:17:02.451Z"
   },
   {
    "duration": 367,
    "start_time": "2022-01-22T20:17:10.386Z"
   },
   {
    "duration": 14,
    "start_time": "2022-01-22T20:17:13.210Z"
   },
   {
    "duration": 18,
    "start_time": "2022-01-22T20:17:20.898Z"
   },
   {
    "duration": 6,
    "start_time": "2022-01-22T20:22:06.376Z"
   },
   {
    "duration": 7,
    "start_time": "2022-01-22T20:22:11.599Z"
   },
   {
    "duration": 5,
    "start_time": "2022-01-22T20:22:15.407Z"
   },
   {
    "duration": 7,
    "start_time": "2022-01-22T20:22:19.230Z"
   },
   {
    "duration": 5,
    "start_time": "2022-01-22T20:22:23.591Z"
   },
   {
    "duration": 6,
    "start_time": "2022-01-22T20:22:29.782Z"
   },
   {
    "duration": 7,
    "start_time": "2022-01-22T20:22:34.606Z"
   },
   {
    "duration": 8,
    "start_time": "2022-01-22T20:22:39.782Z"
   },
   {
    "duration": 7,
    "start_time": "2022-01-22T20:22:45.909Z"
   },
   {
    "duration": 7,
    "start_time": "2022-01-22T20:22:50.077Z"
   }
  ],
  "kernelspec": {
   "display_name": "Python 3 (ipykernel)",
   "language": "python",
   "name": "python3"
  },
  "language_info": {
   "codemirror_mode": {
    "name": "ipython",
    "version": 3
   },
   "file_extension": ".py",
   "mimetype": "text/x-python",
   "name": "python",
   "nbconvert_exporter": "python",
   "pygments_lexer": "ipython3",
   "version": "3.9.7"
  },
  "toc": {
   "base_numbering": 1,
   "nav_menu": {},
   "number_sections": true,
   "sideBar": true,
   "skip_h1_title": true,
   "title_cell": "Table of Contents",
   "title_sidebar": "Contents",
   "toc_cell": false,
   "toc_position": {},
   "toc_section_display": true,
   "toc_window_display": false
  }
 },
 "nbformat": 4,
 "nbformat_minor": 2
}
