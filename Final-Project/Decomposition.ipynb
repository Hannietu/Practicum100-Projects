{
 "cells": [
  {
   "cell_type": "markdown",
   "metadata": {},
   "source": [
    "# Final Project - Decomposition"
   ]
  },
  {
   "cell_type": "markdown",
   "metadata": {},
   "source": [
    "<b> The goal - find the company's best selling products (and least selling products) in order to increase revenue </b>"
   ]
  },
  {
   "cell_type": "markdown",
   "metadata": {},
   "source": [
    "<b>Step 1: Data preprocessing:</b>\n",
    "\n",
    "    - Overview of the dataset\n",
    "    - Study missing values (and replace / remove if needed)\n",
    "    - Review data types (and convert if needed)\n",
    "    - Study duplicate values (and remove if possible)\n",
    "    - Check the relevance of column names (and change if needed)"
   ]
  },
  {
   "cell_type": "markdown",
   "metadata": {},
   "source": [
    "<b> Step 2: Product range analysis: </b>\n",
    "\n",
    "    - Investigate different types of products\n",
    "    - Classify products into categories by similar word in the description \n",
    "    - Look into average check changes throughout the year for each product category"
   ]
  },
  {
   "cell_type": "markdown",
   "metadata": {},
   "source": [
    "<b> Step 3: Product RFM analysis: </b>\n",
    "\n",
    "    - Calculate products recency, frequency, monetary values\n",
    "    - Categorize products according to their RFM value\n",
    "    - Use visualization for the distribution and the outliars\n",
    "    - Perform product segmentation according to their RFM using KMeans"
   ]
  },
  {
   "cell_type": "markdown",
   "metadata": {},
   "source": [
    "<b> Step 4: Invoice analysis: </b>\n",
    "\n",
    "    - Study different invocies and what they include (number of products, product types, value)\n",
    "    - Peform Apiary basket analysis to learn about products popularity and about which product can uplift another\n",
    "    - Use association rules to learn which should be offered as a bundle\n",
    "    - Look into similarity of products to give better recommendations to customers in case their desired product is out of stock"
   ]
  },
  {
   "cell_type": "markdown",
   "metadata": {},
   "source": [
    "<b> Step 5: Statistical hypothesis test </b>\n",
    "\n",
    "** Subjected to change **\n",
    "\n",
    "    - Does product popularity change throughout the year? (look into summer products, holiday season products etc')\n",
    "    - Do invoices with large number of products (or with high value) depends on time in the year?\n",
    "    - Are expenssive products less popular?"
   ]
  },
  {
   "cell_type": "markdown",
   "metadata": {},
   "source": [
    "<b> Step 6: Project Summary: </b>\n",
    "\n",
    "    - Project summary\n",
    "    - Conclusions and suggestions"
   ]
  }
 ],
 "metadata": {
  "ExecuteTimeLog": [
   {
    "duration": 206,
    "start_time": "2022-04-05T09:05:05.899Z"
   }
  ],
  "kernelspec": {
   "display_name": "Python 3 (ipykernel)",
   "language": "python",
   "name": "python3"
  },
  "language_info": {
   "codemirror_mode": {
    "name": "ipython",
    "version": 3
   },
   "file_extension": ".py",
   "mimetype": "text/x-python",
   "name": "python",
   "nbconvert_exporter": "python",
   "pygments_lexer": "ipython3",
   "version": "3.9.7"
  },
  "toc": {
   "base_numbering": 1,
   "nav_menu": {},
   "number_sections": true,
   "sideBar": true,
   "skip_h1_title": true,
   "title_cell": "Table of Contents",
   "title_sidebar": "Contents",
   "toc_cell": false,
   "toc_position": {},
   "toc_section_display": true,
   "toc_window_display": false
  }
 },
 "nbformat": 4,
 "nbformat_minor": 2
}
