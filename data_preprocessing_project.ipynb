{
 "cells": [
  {
   "cell_type": "markdown",
   "metadata": {},
   "source": [
    "# Analyzing borrowers’ risk of defaulting\n",
    "\n",
    "This project generates a report for a bank’s loan division. The goal of the report is to find out if a customer’s marital status and number of children has an impact on whether they will default on a loan. The bank already has some data on customers’ credit worthiness.\n",
    "\n",
    "This report will be considered when building a **credit scoring** of a potential customer. A ** credit scoring ** is used to evaluate the ability of a potential borrower to repay their loan."
   ]
  },
  {
   "cell_type": "markdown",
   "metadata": {},
   "source": [
    "## Data Overview"
   ]
  },
  {
   "cell_type": "code",
   "execution_count": 1,
   "metadata": {},
   "outputs": [],
   "source": [
    "# import libraries\n",
    "import pandas as pd\n",
    "import nltk\n",
    "from nltk.stem import WordNetLemmatizer"
   ]
  },
  {
   "cell_type": "code",
   "execution_count": 2,
   "metadata": {},
   "outputs": [
    {
     "data": {
      "text/html": [
       "<div>\n",
       "<style scoped>\n",
       "    .dataframe tbody tr th:only-of-type {\n",
       "        vertical-align: middle;\n",
       "    }\n",
       "\n",
       "    .dataframe tbody tr th {\n",
       "        vertical-align: top;\n",
       "    }\n",
       "\n",
       "    .dataframe thead th {\n",
       "        text-align: right;\n",
       "    }\n",
       "</style>\n",
       "<table border=\"1\" class=\"dataframe\">\n",
       "  <thead>\n",
       "    <tr style=\"text-align: right;\">\n",
       "      <th></th>\n",
       "      <th>children</th>\n",
       "      <th>days_employed</th>\n",
       "      <th>dob_years</th>\n",
       "      <th>education</th>\n",
       "      <th>education_id</th>\n",
       "      <th>family_status</th>\n",
       "      <th>family_status_id</th>\n",
       "      <th>gender</th>\n",
       "      <th>income_type</th>\n",
       "      <th>debt</th>\n",
       "      <th>total_income</th>\n",
       "      <th>purpose</th>\n",
       "    </tr>\n",
       "  </thead>\n",
       "  <tbody>\n",
       "    <tr>\n",
       "      <td>0</td>\n",
       "      <td>1</td>\n",
       "      <td>-8437.673028</td>\n",
       "      <td>42</td>\n",
       "      <td>bachelor's degree</td>\n",
       "      <td>0</td>\n",
       "      <td>married</td>\n",
       "      <td>0</td>\n",
       "      <td>F</td>\n",
       "      <td>employee</td>\n",
       "      <td>0</td>\n",
       "      <td>40620.102</td>\n",
       "      <td>purchase of the house</td>\n",
       "    </tr>\n",
       "    <tr>\n",
       "      <td>1</td>\n",
       "      <td>1</td>\n",
       "      <td>-4024.803754</td>\n",
       "      <td>36</td>\n",
       "      <td>secondary education</td>\n",
       "      <td>1</td>\n",
       "      <td>married</td>\n",
       "      <td>0</td>\n",
       "      <td>F</td>\n",
       "      <td>employee</td>\n",
       "      <td>0</td>\n",
       "      <td>17932.802</td>\n",
       "      <td>car purchase</td>\n",
       "    </tr>\n",
       "    <tr>\n",
       "      <td>2</td>\n",
       "      <td>0</td>\n",
       "      <td>-5623.422610</td>\n",
       "      <td>33</td>\n",
       "      <td>Secondary Education</td>\n",
       "      <td>1</td>\n",
       "      <td>married</td>\n",
       "      <td>0</td>\n",
       "      <td>M</td>\n",
       "      <td>employee</td>\n",
       "      <td>0</td>\n",
       "      <td>23341.752</td>\n",
       "      <td>purchase of the house</td>\n",
       "    </tr>\n",
       "    <tr>\n",
       "      <td>3</td>\n",
       "      <td>3</td>\n",
       "      <td>-4124.747207</td>\n",
       "      <td>32</td>\n",
       "      <td>secondary education</td>\n",
       "      <td>1</td>\n",
       "      <td>married</td>\n",
       "      <td>0</td>\n",
       "      <td>M</td>\n",
       "      <td>employee</td>\n",
       "      <td>0</td>\n",
       "      <td>42820.568</td>\n",
       "      <td>supplementary education</td>\n",
       "    </tr>\n",
       "    <tr>\n",
       "      <td>4</td>\n",
       "      <td>0</td>\n",
       "      <td>340266.072047</td>\n",
       "      <td>53</td>\n",
       "      <td>secondary education</td>\n",
       "      <td>1</td>\n",
       "      <td>civil partnership</td>\n",
       "      <td>1</td>\n",
       "      <td>F</td>\n",
       "      <td>retiree</td>\n",
       "      <td>0</td>\n",
       "      <td>25378.572</td>\n",
       "      <td>to have a wedding</td>\n",
       "    </tr>\n",
       "    <tr>\n",
       "      <td>5</td>\n",
       "      <td>0</td>\n",
       "      <td>-926.185831</td>\n",
       "      <td>27</td>\n",
       "      <td>bachelor's degree</td>\n",
       "      <td>0</td>\n",
       "      <td>civil partnership</td>\n",
       "      <td>1</td>\n",
       "      <td>M</td>\n",
       "      <td>business</td>\n",
       "      <td>0</td>\n",
       "      <td>40922.170</td>\n",
       "      <td>purchase of the house</td>\n",
       "    </tr>\n",
       "    <tr>\n",
       "      <td>6</td>\n",
       "      <td>0</td>\n",
       "      <td>-2879.202052</td>\n",
       "      <td>43</td>\n",
       "      <td>bachelor's degree</td>\n",
       "      <td>0</td>\n",
       "      <td>married</td>\n",
       "      <td>0</td>\n",
       "      <td>F</td>\n",
       "      <td>business</td>\n",
       "      <td>0</td>\n",
       "      <td>38484.156</td>\n",
       "      <td>housing transactions</td>\n",
       "    </tr>\n",
       "    <tr>\n",
       "      <td>7</td>\n",
       "      <td>0</td>\n",
       "      <td>-152.779569</td>\n",
       "      <td>50</td>\n",
       "      <td>SECONDARY EDUCATION</td>\n",
       "      <td>1</td>\n",
       "      <td>married</td>\n",
       "      <td>0</td>\n",
       "      <td>M</td>\n",
       "      <td>employee</td>\n",
       "      <td>0</td>\n",
       "      <td>21731.829</td>\n",
       "      <td>education</td>\n",
       "    </tr>\n",
       "    <tr>\n",
       "      <td>8</td>\n",
       "      <td>2</td>\n",
       "      <td>-6929.865299</td>\n",
       "      <td>35</td>\n",
       "      <td>BACHELOR'S DEGREE</td>\n",
       "      <td>0</td>\n",
       "      <td>civil partnership</td>\n",
       "      <td>1</td>\n",
       "      <td>F</td>\n",
       "      <td>employee</td>\n",
       "      <td>0</td>\n",
       "      <td>15337.093</td>\n",
       "      <td>having a wedding</td>\n",
       "    </tr>\n",
       "    <tr>\n",
       "      <td>9</td>\n",
       "      <td>0</td>\n",
       "      <td>-2188.756445</td>\n",
       "      <td>41</td>\n",
       "      <td>secondary education</td>\n",
       "      <td>1</td>\n",
       "      <td>married</td>\n",
       "      <td>0</td>\n",
       "      <td>M</td>\n",
       "      <td>employee</td>\n",
       "      <td>0</td>\n",
       "      <td>23108.150</td>\n",
       "      <td>purchase of the house for my family</td>\n",
       "    </tr>\n",
       "  </tbody>\n",
       "</table>\n",
       "</div>"
      ],
      "text/plain": [
       "   children  days_employed  dob_years            education  education_id  \\\n",
       "0         1   -8437.673028         42    bachelor's degree             0   \n",
       "1         1   -4024.803754         36  secondary education             1   \n",
       "2         0   -5623.422610         33  Secondary Education             1   \n",
       "3         3   -4124.747207         32  secondary education             1   \n",
       "4         0  340266.072047         53  secondary education             1   \n",
       "5         0    -926.185831         27    bachelor's degree             0   \n",
       "6         0   -2879.202052         43    bachelor's degree             0   \n",
       "7         0    -152.779569         50  SECONDARY EDUCATION             1   \n",
       "8         2   -6929.865299         35    BACHELOR'S DEGREE             0   \n",
       "9         0   -2188.756445         41  secondary education             1   \n",
       "\n",
       "       family_status  family_status_id gender income_type  debt  total_income  \\\n",
       "0            married                 0      F    employee     0     40620.102   \n",
       "1            married                 0      F    employee     0     17932.802   \n",
       "2            married                 0      M    employee     0     23341.752   \n",
       "3            married                 0      M    employee     0     42820.568   \n",
       "4  civil partnership                 1      F     retiree     0     25378.572   \n",
       "5  civil partnership                 1      M    business     0     40922.170   \n",
       "6            married                 0      F    business     0     38484.156   \n",
       "7            married                 0      M    employee     0     21731.829   \n",
       "8  civil partnership                 1      F    employee     0     15337.093   \n",
       "9            married                 0      M    employee     0     23108.150   \n",
       "\n",
       "                               purpose  \n",
       "0                purchase of the house  \n",
       "1                         car purchase  \n",
       "2                purchase of the house  \n",
       "3              supplementary education  \n",
       "4                    to have a wedding  \n",
       "5                purchase of the house  \n",
       "6                 housing transactions  \n",
       "7                            education  \n",
       "8                     having a wedding  \n",
       "9  purchase of the house for my family  "
      ]
     },
     "metadata": {},
     "output_type": "display_data"
    }
   ],
   "source": [
    "credit_data = pd.read_csv('/datasets/credit_scoring_eng.csv') #read file\n",
    "\n",
    "display(credit_data.head(10)) #print the first 10 row of the data for general information"
   ]
  },
  {
   "cell_type": "code",
   "execution_count": 3,
   "metadata": {},
   "outputs": [
    {
     "name": "stdout",
     "output_type": "stream",
     "text": [
      "<class 'pandas.core.frame.DataFrame'>\n",
      "RangeIndex: 21525 entries, 0 to 21524\n",
      "Data columns (total 12 columns):\n",
      "children            21525 non-null int64\n",
      "days_employed       19351 non-null float64\n",
      "dob_years           21525 non-null int64\n",
      "education           21525 non-null object\n",
      "education_id        21525 non-null int64\n",
      "family_status       21525 non-null object\n",
      "family_status_id    21525 non-null int64\n",
      "gender              21525 non-null object\n",
      "income_type         21525 non-null object\n",
      "debt                21525 non-null int64\n",
      "total_income        19351 non-null float64\n",
      "purpose             21525 non-null object\n",
      "dtypes: float64(2), int64(5), object(5)\n",
      "memory usage: 2.0+ MB\n"
     ]
    }
   ],
   "source": [
    "credit_data.info() # print the info of the data, length of data, data types, missing values etc'"
   ]
  },
  {
   "cell_type": "code",
   "execution_count": 4,
   "metadata": {},
   "outputs": [
    {
     "data": {
      "text/html": [
       "<div>\n",
       "<style scoped>\n",
       "    .dataframe tbody tr th:only-of-type {\n",
       "        vertical-align: middle;\n",
       "    }\n",
       "\n",
       "    .dataframe tbody tr th {\n",
       "        vertical-align: top;\n",
       "    }\n",
       "\n",
       "    .dataframe thead th {\n",
       "        text-align: right;\n",
       "    }\n",
       "</style>\n",
       "<table border=\"1\" class=\"dataframe\">\n",
       "  <thead>\n",
       "    <tr style=\"text-align: right;\">\n",
       "      <th></th>\n",
       "      <th>children</th>\n",
       "      <th>days_employed</th>\n",
       "      <th>dob_years</th>\n",
       "      <th>education_id</th>\n",
       "      <th>family_status_id</th>\n",
       "      <th>debt</th>\n",
       "      <th>total_income</th>\n",
       "    </tr>\n",
       "  </thead>\n",
       "  <tbody>\n",
       "    <tr>\n",
       "      <td>count</td>\n",
       "      <td>21525.000000</td>\n",
       "      <td>19351.000000</td>\n",
       "      <td>21525.000000</td>\n",
       "      <td>21525.000000</td>\n",
       "      <td>21525.000000</td>\n",
       "      <td>21525.000000</td>\n",
       "      <td>19351.000000</td>\n",
       "    </tr>\n",
       "    <tr>\n",
       "      <td>mean</td>\n",
       "      <td>0.538908</td>\n",
       "      <td>63046.497661</td>\n",
       "      <td>43.293380</td>\n",
       "      <td>0.817236</td>\n",
       "      <td>0.972544</td>\n",
       "      <td>0.080883</td>\n",
       "      <td>26787.568355</td>\n",
       "    </tr>\n",
       "    <tr>\n",
       "      <td>std</td>\n",
       "      <td>1.381587</td>\n",
       "      <td>140827.311974</td>\n",
       "      <td>12.574584</td>\n",
       "      <td>0.548138</td>\n",
       "      <td>1.420324</td>\n",
       "      <td>0.272661</td>\n",
       "      <td>16475.450632</td>\n",
       "    </tr>\n",
       "    <tr>\n",
       "      <td>min</td>\n",
       "      <td>-1.000000</td>\n",
       "      <td>-18388.949901</td>\n",
       "      <td>0.000000</td>\n",
       "      <td>0.000000</td>\n",
       "      <td>0.000000</td>\n",
       "      <td>0.000000</td>\n",
       "      <td>3306.762000</td>\n",
       "    </tr>\n",
       "    <tr>\n",
       "      <td>25%</td>\n",
       "      <td>0.000000</td>\n",
       "      <td>-2747.423625</td>\n",
       "      <td>33.000000</td>\n",
       "      <td>1.000000</td>\n",
       "      <td>0.000000</td>\n",
       "      <td>0.000000</td>\n",
       "      <td>16488.504500</td>\n",
       "    </tr>\n",
       "    <tr>\n",
       "      <td>50%</td>\n",
       "      <td>0.000000</td>\n",
       "      <td>-1203.369529</td>\n",
       "      <td>42.000000</td>\n",
       "      <td>1.000000</td>\n",
       "      <td>0.000000</td>\n",
       "      <td>0.000000</td>\n",
       "      <td>23202.870000</td>\n",
       "    </tr>\n",
       "    <tr>\n",
       "      <td>75%</td>\n",
       "      <td>1.000000</td>\n",
       "      <td>-291.095954</td>\n",
       "      <td>53.000000</td>\n",
       "      <td>1.000000</td>\n",
       "      <td>1.000000</td>\n",
       "      <td>0.000000</td>\n",
       "      <td>32549.611000</td>\n",
       "    </tr>\n",
       "    <tr>\n",
       "      <td>max</td>\n",
       "      <td>20.000000</td>\n",
       "      <td>401755.400475</td>\n",
       "      <td>75.000000</td>\n",
       "      <td>4.000000</td>\n",
       "      <td>4.000000</td>\n",
       "      <td>1.000000</td>\n",
       "      <td>362496.645000</td>\n",
       "    </tr>\n",
       "  </tbody>\n",
       "</table>\n",
       "</div>"
      ],
      "text/plain": [
       "           children  days_employed     dob_years  education_id  \\\n",
       "count  21525.000000   19351.000000  21525.000000  21525.000000   \n",
       "mean       0.538908   63046.497661     43.293380      0.817236   \n",
       "std        1.381587  140827.311974     12.574584      0.548138   \n",
       "min       -1.000000  -18388.949901      0.000000      0.000000   \n",
       "25%        0.000000   -2747.423625     33.000000      1.000000   \n",
       "50%        0.000000   -1203.369529     42.000000      1.000000   \n",
       "75%        1.000000    -291.095954     53.000000      1.000000   \n",
       "max       20.000000  401755.400475     75.000000      4.000000   \n",
       "\n",
       "       family_status_id          debt   total_income  \n",
       "count      21525.000000  21525.000000   19351.000000  \n",
       "mean           0.972544      0.080883   26787.568355  \n",
       "std            1.420324      0.272661   16475.450632  \n",
       "min            0.000000      0.000000    3306.762000  \n",
       "25%            0.000000      0.000000   16488.504500  \n",
       "50%            0.000000      0.000000   23202.870000  \n",
       "75%            1.000000      0.000000   32549.611000  \n",
       "max            4.000000      1.000000  362496.645000  "
      ]
     },
     "execution_count": 4,
     "metadata": {},
     "output_type": "execute_result"
    }
   ],
   "source": [
    "credit_data.describe() # learn mote about important values in the data like mean, median, min and max.."
   ]
  },
  {
   "cell_type": "code",
   "execution_count": 5,
   "metadata": {},
   "outputs": [
    {
     "data": {
      "text/plain": [
       "array([ 1,  0,  3,  2, -1,  4, 20,  5])"
      ]
     },
     "execution_count": 5,
     "metadata": {},
     "output_type": "execute_result"
    }
   ],
   "source": [
    "credit_data['children'].unique()"
   ]
  },
  {
   "cell_type": "markdown",
   "metadata": {},
   "source": [
    "From the info table we can learn that there are 2,174 missing values in the \"days_employed\" and \"total_income\" columns, which is ~10% of the data. \n",
    "Also, the \"days_employed\" columns has weird numbers like (-) days which doesn't make sense and might be a typing error and should be changed to absolute values and the maximum days 401755 which translates to 1,100 years of employment which doesn't make any sense either. Since this column is not part of our investigation we can just ignore it. \n",
    "As for the missing values in the \"total_income\" column we will need to replace them.\n",
    "All the data types seem to be the appropriate ones, we can change the \"total_income\" from float64 to int64 just to make it easier to perform any math calculations on this column. \n",
    "Looking at the describe table, \"Children\" column has (-) value and max value of 20 which is pretty unusual, we should change it to something more reasonable like 2 (assuming it's a typo), will be handled in the next step. \n",
    "In the \"dob_year\" which is suppose to be the age we have a minimum values of 0 which is probably a typo, since this is not something we analyze in this project we can leave it as is. \n",
    "\n"
   ]
  },
  {
   "cell_type": "markdown",
   "metadata": {},
   "source": [
    "## Data preprocessing"
   ]
  },
  {
   "cell_type": "markdown",
   "metadata": {},
   "source": [
    "### Processing missing values"
   ]
  },
  {
   "cell_type": "markdown",
   "metadata": {},
   "source": [
    "Before moving to missing values I will fix the unreasonable values we saw in 'children' column."
   ]
  },
  {
   "cell_type": "code",
   "execution_count": 6,
   "metadata": {},
   "outputs": [],
   "source": [
    "#taking care of the unreasonable values 20, -1\n",
    "credit_data['children'] = credit_data['children'].replace(-1, 1)\n",
    "credit_data['children'] = credit_data['children'].replace(20, 2)"
   ]
  },
  {
   "cell_type": "code",
   "execution_count": 7,
   "metadata": {},
   "outputs": [
    {
     "name": "stdout",
     "output_type": "stream",
     "text": [
      "children               0\n",
      "days_employed       2174\n",
      "dob_years              0\n",
      "education              0\n",
      "education_id           0\n",
      "family_status          0\n",
      "family_status_id       0\n",
      "gender                 0\n",
      "income_type            0\n",
      "debt                   0\n",
      "total_income        2174\n",
      "purpose                0\n",
      "dtype: int64\n"
     ]
    }
   ],
   "source": [
    "print(credit_data.isnull().sum()) #looking for missing values\n"
   ]
  },
  {
   "cell_type": "markdown",
   "metadata": {},
   "source": [
    "There are 2174 missing values in the table in the \"days_employed\" and \"total_income\" columns. The missing values type is float64. "
   ]
  },
  {
   "cell_type": "code",
   "execution_count": 8,
   "metadata": {},
   "outputs": [
    {
     "data": {
      "text/html": [
       "<div>\n",
       "<style scoped>\n",
       "    .dataframe tbody tr th:only-of-type {\n",
       "        vertical-align: middle;\n",
       "    }\n",
       "\n",
       "    .dataframe tbody tr th {\n",
       "        vertical-align: top;\n",
       "    }\n",
       "\n",
       "    .dataframe thead th {\n",
       "        text-align: right;\n",
       "    }\n",
       "</style>\n",
       "<table border=\"1\" class=\"dataframe\">\n",
       "  <thead>\n",
       "    <tr style=\"text-align: right;\">\n",
       "      <th></th>\n",
       "      <th>children</th>\n",
       "      <th>days_employed</th>\n",
       "      <th>dob_years</th>\n",
       "      <th>education</th>\n",
       "      <th>education_id</th>\n",
       "      <th>family_status</th>\n",
       "      <th>family_status_id</th>\n",
       "      <th>gender</th>\n",
       "      <th>income_type</th>\n",
       "      <th>debt</th>\n",
       "      <th>total_income</th>\n",
       "      <th>purpose</th>\n",
       "    </tr>\n",
       "  </thead>\n",
       "  <tbody>\n",
       "    <tr>\n",
       "      <td>12</td>\n",
       "      <td>0</td>\n",
       "      <td>NaN</td>\n",
       "      <td>65</td>\n",
       "      <td>secondary education</td>\n",
       "      <td>1</td>\n",
       "      <td>civil partnership</td>\n",
       "      <td>1</td>\n",
       "      <td>M</td>\n",
       "      <td>retiree</td>\n",
       "      <td>0</td>\n",
       "      <td>NaN</td>\n",
       "      <td>to have a wedding</td>\n",
       "    </tr>\n",
       "    <tr>\n",
       "      <td>26</td>\n",
       "      <td>0</td>\n",
       "      <td>NaN</td>\n",
       "      <td>41</td>\n",
       "      <td>secondary education</td>\n",
       "      <td>1</td>\n",
       "      <td>married</td>\n",
       "      <td>0</td>\n",
       "      <td>M</td>\n",
       "      <td>civil servant</td>\n",
       "      <td>0</td>\n",
       "      <td>NaN</td>\n",
       "      <td>education</td>\n",
       "    </tr>\n",
       "    <tr>\n",
       "      <td>29</td>\n",
       "      <td>0</td>\n",
       "      <td>NaN</td>\n",
       "      <td>63</td>\n",
       "      <td>secondary education</td>\n",
       "      <td>1</td>\n",
       "      <td>unmarried</td>\n",
       "      <td>4</td>\n",
       "      <td>F</td>\n",
       "      <td>retiree</td>\n",
       "      <td>0</td>\n",
       "      <td>NaN</td>\n",
       "      <td>building a real estate</td>\n",
       "    </tr>\n",
       "    <tr>\n",
       "      <td>41</td>\n",
       "      <td>0</td>\n",
       "      <td>NaN</td>\n",
       "      <td>50</td>\n",
       "      <td>secondary education</td>\n",
       "      <td>1</td>\n",
       "      <td>married</td>\n",
       "      <td>0</td>\n",
       "      <td>F</td>\n",
       "      <td>civil servant</td>\n",
       "      <td>0</td>\n",
       "      <td>NaN</td>\n",
       "      <td>second-hand car purchase</td>\n",
       "    </tr>\n",
       "    <tr>\n",
       "      <td>55</td>\n",
       "      <td>0</td>\n",
       "      <td>NaN</td>\n",
       "      <td>54</td>\n",
       "      <td>secondary education</td>\n",
       "      <td>1</td>\n",
       "      <td>civil partnership</td>\n",
       "      <td>1</td>\n",
       "      <td>F</td>\n",
       "      <td>retiree</td>\n",
       "      <td>1</td>\n",
       "      <td>NaN</td>\n",
       "      <td>to have a wedding</td>\n",
       "    </tr>\n",
       "    <tr>\n",
       "      <td>...</td>\n",
       "      <td>...</td>\n",
       "      <td>...</td>\n",
       "      <td>...</td>\n",
       "      <td>...</td>\n",
       "      <td>...</td>\n",
       "      <td>...</td>\n",
       "      <td>...</td>\n",
       "      <td>...</td>\n",
       "      <td>...</td>\n",
       "      <td>...</td>\n",
       "      <td>...</td>\n",
       "      <td>...</td>\n",
       "    </tr>\n",
       "    <tr>\n",
       "      <td>21489</td>\n",
       "      <td>2</td>\n",
       "      <td>NaN</td>\n",
       "      <td>47</td>\n",
       "      <td>Secondary Education</td>\n",
       "      <td>1</td>\n",
       "      <td>married</td>\n",
       "      <td>0</td>\n",
       "      <td>M</td>\n",
       "      <td>business</td>\n",
       "      <td>0</td>\n",
       "      <td>NaN</td>\n",
       "      <td>purchase of a car</td>\n",
       "    </tr>\n",
       "    <tr>\n",
       "      <td>21495</td>\n",
       "      <td>1</td>\n",
       "      <td>NaN</td>\n",
       "      <td>50</td>\n",
       "      <td>secondary education</td>\n",
       "      <td>1</td>\n",
       "      <td>civil partnership</td>\n",
       "      <td>1</td>\n",
       "      <td>F</td>\n",
       "      <td>employee</td>\n",
       "      <td>0</td>\n",
       "      <td>NaN</td>\n",
       "      <td>wedding ceremony</td>\n",
       "    </tr>\n",
       "    <tr>\n",
       "      <td>21497</td>\n",
       "      <td>0</td>\n",
       "      <td>NaN</td>\n",
       "      <td>48</td>\n",
       "      <td>BACHELOR'S DEGREE</td>\n",
       "      <td>0</td>\n",
       "      <td>married</td>\n",
       "      <td>0</td>\n",
       "      <td>F</td>\n",
       "      <td>business</td>\n",
       "      <td>0</td>\n",
       "      <td>NaN</td>\n",
       "      <td>building a property</td>\n",
       "    </tr>\n",
       "    <tr>\n",
       "      <td>21502</td>\n",
       "      <td>1</td>\n",
       "      <td>NaN</td>\n",
       "      <td>42</td>\n",
       "      <td>secondary education</td>\n",
       "      <td>1</td>\n",
       "      <td>married</td>\n",
       "      <td>0</td>\n",
       "      <td>F</td>\n",
       "      <td>employee</td>\n",
       "      <td>0</td>\n",
       "      <td>NaN</td>\n",
       "      <td>building a real estate</td>\n",
       "    </tr>\n",
       "    <tr>\n",
       "      <td>21510</td>\n",
       "      <td>2</td>\n",
       "      <td>NaN</td>\n",
       "      <td>28</td>\n",
       "      <td>secondary education</td>\n",
       "      <td>1</td>\n",
       "      <td>married</td>\n",
       "      <td>0</td>\n",
       "      <td>F</td>\n",
       "      <td>employee</td>\n",
       "      <td>0</td>\n",
       "      <td>NaN</td>\n",
       "      <td>car purchase</td>\n",
       "    </tr>\n",
       "  </tbody>\n",
       "</table>\n",
       "<p>2174 rows × 12 columns</p>\n",
       "</div>"
      ],
      "text/plain": [
       "       children  days_employed  dob_years            education  education_id  \\\n",
       "12            0            NaN         65  secondary education             1   \n",
       "26            0            NaN         41  secondary education             1   \n",
       "29            0            NaN         63  secondary education             1   \n",
       "41            0            NaN         50  secondary education             1   \n",
       "55            0            NaN         54  secondary education             1   \n",
       "...         ...            ...        ...                  ...           ...   \n",
       "21489         2            NaN         47  Secondary Education             1   \n",
       "21495         1            NaN         50  secondary education             1   \n",
       "21497         0            NaN         48    BACHELOR'S DEGREE             0   \n",
       "21502         1            NaN         42  secondary education             1   \n",
       "21510         2            NaN         28  secondary education             1   \n",
       "\n",
       "           family_status  family_status_id gender    income_type  debt  \\\n",
       "12     civil partnership                 1      M        retiree     0   \n",
       "26               married                 0      M  civil servant     0   \n",
       "29             unmarried                 4      F        retiree     0   \n",
       "41               married                 0      F  civil servant     0   \n",
       "55     civil partnership                 1      F        retiree     1   \n",
       "...                  ...               ...    ...            ...   ...   \n",
       "21489            married                 0      M       business     0   \n",
       "21495  civil partnership                 1      F       employee     0   \n",
       "21497            married                 0      F       business     0   \n",
       "21502            married                 0      F       employee     0   \n",
       "21510            married                 0      F       employee     0   \n",
       "\n",
       "       total_income                   purpose  \n",
       "12              NaN         to have a wedding  \n",
       "26              NaN                 education  \n",
       "29              NaN    building a real estate  \n",
       "41              NaN  second-hand car purchase  \n",
       "55              NaN         to have a wedding  \n",
       "...             ...                       ...  \n",
       "21489           NaN         purchase of a car  \n",
       "21495           NaN          wedding ceremony  \n",
       "21497           NaN       building a property  \n",
       "21502           NaN    building a real estate  \n",
       "21510           NaN              car purchase  \n",
       "\n",
       "[2174 rows x 12 columns]"
      ]
     },
     "execution_count": 8,
     "metadata": {},
     "output_type": "execute_result"
    }
   ],
   "source": [
    "credit_data[credit_data.days_employed.isnull()] #looking for a common ground in the missing \"days_employed\" rows"
   ]
  },
  {
   "cell_type": "markdown",
   "metadata": {},
   "source": [
    "No common ground was observed in the missing rows, different education, ages, family status, income type.."
   ]
  },
  {
   "cell_type": "code",
   "execution_count": 9,
   "metadata": {},
   "outputs": [
    {
     "data": {
      "text/html": [
       "<div>\n",
       "<style scoped>\n",
       "    .dataframe tbody tr th:only-of-type {\n",
       "        vertical-align: middle;\n",
       "    }\n",
       "\n",
       "    .dataframe tbody tr th {\n",
       "        vertical-align: top;\n",
       "    }\n",
       "\n",
       "    .dataframe thead th {\n",
       "        text-align: right;\n",
       "    }\n",
       "</style>\n",
       "<table border=\"1\" class=\"dataframe\">\n",
       "  <thead>\n",
       "    <tr style=\"text-align: right;\">\n",
       "      <th></th>\n",
       "      <th>children</th>\n",
       "      <th>days_employed</th>\n",
       "      <th>dob_years</th>\n",
       "      <th>education</th>\n",
       "      <th>education_id</th>\n",
       "      <th>family_status</th>\n",
       "      <th>family_status_id</th>\n",
       "      <th>gender</th>\n",
       "      <th>income_type</th>\n",
       "      <th>debt</th>\n",
       "      <th>total_income</th>\n",
       "      <th>purpose</th>\n",
       "    </tr>\n",
       "  </thead>\n",
       "  <tbody>\n",
       "  </tbody>\n",
       "</table>\n",
       "</div>"
      ],
      "text/plain": [
       "Empty DataFrame\n",
       "Columns: [children, days_employed, dob_years, education, education_id, family_status, family_status_id, gender, income_type, debt, total_income, purpose]\n",
       "Index: []"
      ]
     },
     "execution_count": 9,
     "metadata": {},
     "output_type": "execute_result"
    }
   ],
   "source": [
    "#checking is the missing rows for \"days_employed\" are the same missing rows for \"total_income\"\n",
    "credit_data[credit_data.days_employed.notna() & credit_data.total_income.isnull()] "
   ]
  },
  {
   "cell_type": "markdown",
   "metadata": {},
   "source": [
    "All the missing values in \"days_employed\" are of the same people with no \"total_income\" data.\n",
    "It could be that the reason for these missing values is that these people currently don't have an income and and they are not employed, even though they do have an income type. Or maybe there was a problem in the form in these sections."
   ]
  },
  {
   "cell_type": "code",
   "execution_count": 10,
   "metadata": {},
   "outputs": [],
   "source": [
    "#fill in the missing data of \"total_income\" with the median total income according to the income type and education level\n",
    "credit_data['total_income'] = credit_data['total_income'].fillna(credit_data.groupby(['income_type', 'education_id'])['total_income'].transform('median'))"
   ]
  },
  {
   "cell_type": "code",
   "execution_count": 11,
   "metadata": {},
   "outputs": [],
   "source": [
    "credit_data = credit_data.drop('days_employed',1) #remove \"days_employed\" from the dataset"
   ]
  },
  {
   "cell_type": "code",
   "execution_count": 12,
   "metadata": {},
   "outputs": [
    {
     "data": {
      "text/plain": [
       "children            0\n",
       "dob_years           0\n",
       "education           0\n",
       "education_id        0\n",
       "family_status       0\n",
       "family_status_id    0\n",
       "gender              0\n",
       "income_type         0\n",
       "debt                0\n",
       "total_income        0\n",
       "purpose             0\n",
       "dtype: int64"
      ]
     },
     "execution_count": 12,
     "metadata": {},
     "output_type": "execute_result"
    }
   ],
   "source": [
    "credit_data.isnull().sum() #checking the fill in from previous step"
   ]
  },
  {
   "cell_type": "markdown",
   "metadata": {},
   "source": [
    "There are no more missing values in the \"total_income\" column and the \"days_employed\" column was deleted, as expected."
   ]
  },
  {
   "cell_type": "markdown",
   "metadata": {},
   "source": [
    "Approximately 10% of the data rows are missing the 'days_employed' and 'total_income' information. \n",
    "Since we are not using the \"days_employed\" data for our analysis I removed this column using .drop() method and replace missing values only for the \"total_income\" column which is required for the analysis. \n",
    "I decided to replace the missing values using the .fillna() method, with the median value of a population group with the same income type and same education which are two factors that can affect someone's income. "
   ]
  },
  {
   "cell_type": "markdown",
   "metadata": {},
   "source": [
    "### Data type replacement"
   ]
  },
  {
   "cell_type": "code",
   "execution_count": 13,
   "metadata": {},
   "outputs": [],
   "source": [
    "credit_data['total_income'] = credit_data['total_income'].astype(int) #changing data type of 'total_income' "
   ]
  },
  {
   "cell_type": "markdown",
   "metadata": {},
   "source": [
    "Only for the purposes of faster math calculations I changed the data type of \"total_income\" from float to int using .astype() method. \n",
    "All other columns are represented with the appropriate type. "
   ]
  },
  {
   "cell_type": "markdown",
   "metadata": {},
   "source": [
    "### Processing duplicates"
   ]
  },
  {
   "cell_type": "code",
   "execution_count": 14,
   "metadata": {},
   "outputs": [
    {
     "data": {
      "text/plain": [
       "54"
      ]
     },
     "execution_count": 14,
     "metadata": {},
     "output_type": "execute_result"
    }
   ],
   "source": [
    "len(credit_data[credit_data.duplicated()]) # checking for duplicated data using .duplicated() method"
   ]
  },
  {
   "cell_type": "code",
   "execution_count": 15,
   "metadata": {},
   "outputs": [
    {
     "data": {
      "text/html": [
       "<div>\n",
       "<style scoped>\n",
       "    .dataframe tbody tr th:only-of-type {\n",
       "        vertical-align: middle;\n",
       "    }\n",
       "\n",
       "    .dataframe tbody tr th {\n",
       "        vertical-align: top;\n",
       "    }\n",
       "\n",
       "    .dataframe thead th {\n",
       "        text-align: right;\n",
       "    }\n",
       "</style>\n",
       "<table border=\"1\" class=\"dataframe\">\n",
       "  <thead>\n",
       "    <tr style=\"text-align: right;\">\n",
       "      <th></th>\n",
       "      <th>children</th>\n",
       "      <th>dob_years</th>\n",
       "      <th>education</th>\n",
       "      <th>education_id</th>\n",
       "      <th>family_status</th>\n",
       "      <th>family_status_id</th>\n",
       "      <th>gender</th>\n",
       "      <th>income_type</th>\n",
       "      <th>debt</th>\n",
       "      <th>total_income</th>\n",
       "      <th>purpose</th>\n",
       "    </tr>\n",
       "  </thead>\n",
       "  <tbody>\n",
       "    <tr>\n",
       "      <td>2849</td>\n",
       "      <td>0</td>\n",
       "      <td>41</td>\n",
       "      <td>secondary education</td>\n",
       "      <td>1</td>\n",
       "      <td>married</td>\n",
       "      <td>0</td>\n",
       "      <td>F</td>\n",
       "      <td>employee</td>\n",
       "      <td>0</td>\n",
       "      <td>21848</td>\n",
       "      <td>purchase of the house for my family</td>\n",
       "    </tr>\n",
       "    <tr>\n",
       "      <td>4182</td>\n",
       "      <td>1</td>\n",
       "      <td>34</td>\n",
       "      <td>BACHELOR'S DEGREE</td>\n",
       "      <td>0</td>\n",
       "      <td>civil partnership</td>\n",
       "      <td>1</td>\n",
       "      <td>F</td>\n",
       "      <td>employee</td>\n",
       "      <td>0</td>\n",
       "      <td>26502</td>\n",
       "      <td>wedding ceremony</td>\n",
       "    </tr>\n",
       "    <tr>\n",
       "      <td>4851</td>\n",
       "      <td>0</td>\n",
       "      <td>60</td>\n",
       "      <td>secondary education</td>\n",
       "      <td>1</td>\n",
       "      <td>civil partnership</td>\n",
       "      <td>1</td>\n",
       "      <td>F</td>\n",
       "      <td>retiree</td>\n",
       "      <td>0</td>\n",
       "      <td>18374</td>\n",
       "      <td>wedding ceremony</td>\n",
       "    </tr>\n",
       "    <tr>\n",
       "      <td>5557</td>\n",
       "      <td>0</td>\n",
       "      <td>58</td>\n",
       "      <td>secondary education</td>\n",
       "      <td>1</td>\n",
       "      <td>civil partnership</td>\n",
       "      <td>1</td>\n",
       "      <td>F</td>\n",
       "      <td>retiree</td>\n",
       "      <td>0</td>\n",
       "      <td>18374</td>\n",
       "      <td>to have a wedding</td>\n",
       "    </tr>\n",
       "    <tr>\n",
       "      <td>7808</td>\n",
       "      <td>0</td>\n",
       "      <td>57</td>\n",
       "      <td>secondary education</td>\n",
       "      <td>1</td>\n",
       "      <td>civil partnership</td>\n",
       "      <td>1</td>\n",
       "      <td>F</td>\n",
       "      <td>retiree</td>\n",
       "      <td>0</td>\n",
       "      <td>18374</td>\n",
       "      <td>having a wedding</td>\n",
       "    </tr>\n",
       "    <tr>\n",
       "      <td>8583</td>\n",
       "      <td>0</td>\n",
       "      <td>58</td>\n",
       "      <td>bachelor's degree</td>\n",
       "      <td>0</td>\n",
       "      <td>unmarried</td>\n",
       "      <td>4</td>\n",
       "      <td>F</td>\n",
       "      <td>retiree</td>\n",
       "      <td>0</td>\n",
       "      <td>23078</td>\n",
       "      <td>supplementary education</td>\n",
       "    </tr>\n",
       "    <tr>\n",
       "      <td>9238</td>\n",
       "      <td>2</td>\n",
       "      <td>34</td>\n",
       "      <td>secondary education</td>\n",
       "      <td>1</td>\n",
       "      <td>married</td>\n",
       "      <td>0</td>\n",
       "      <td>F</td>\n",
       "      <td>employee</td>\n",
       "      <td>0</td>\n",
       "      <td>21848</td>\n",
       "      <td>buying property for renting out</td>\n",
       "    </tr>\n",
       "    <tr>\n",
       "      <td>9528</td>\n",
       "      <td>0</td>\n",
       "      <td>66</td>\n",
       "      <td>secondary education</td>\n",
       "      <td>1</td>\n",
       "      <td>widow / widower</td>\n",
       "      <td>2</td>\n",
       "      <td>F</td>\n",
       "      <td>retiree</td>\n",
       "      <td>0</td>\n",
       "      <td>18374</td>\n",
       "      <td>transactions with my real estate</td>\n",
       "    </tr>\n",
       "    <tr>\n",
       "      <td>9627</td>\n",
       "      <td>0</td>\n",
       "      <td>56</td>\n",
       "      <td>secondary education</td>\n",
       "      <td>1</td>\n",
       "      <td>married</td>\n",
       "      <td>0</td>\n",
       "      <td>F</td>\n",
       "      <td>retiree</td>\n",
       "      <td>0</td>\n",
       "      <td>18374</td>\n",
       "      <td>transactions with my real estate</td>\n",
       "    </tr>\n",
       "    <tr>\n",
       "      <td>10462</td>\n",
       "      <td>0</td>\n",
       "      <td>62</td>\n",
       "      <td>secondary education</td>\n",
       "      <td>1</td>\n",
       "      <td>married</td>\n",
       "      <td>0</td>\n",
       "      <td>F</td>\n",
       "      <td>retiree</td>\n",
       "      <td>0</td>\n",
       "      <td>18374</td>\n",
       "      <td>buy commercial real estate</td>\n",
       "    </tr>\n",
       "    <tr>\n",
       "      <td>10697</td>\n",
       "      <td>0</td>\n",
       "      <td>40</td>\n",
       "      <td>secondary education</td>\n",
       "      <td>1</td>\n",
       "      <td>civil partnership</td>\n",
       "      <td>1</td>\n",
       "      <td>F</td>\n",
       "      <td>business</td>\n",
       "      <td>0</td>\n",
       "      <td>25451</td>\n",
       "      <td>to have a wedding</td>\n",
       "    </tr>\n",
       "    <tr>\n",
       "      <td>10864</td>\n",
       "      <td>0</td>\n",
       "      <td>62</td>\n",
       "      <td>secondary education</td>\n",
       "      <td>1</td>\n",
       "      <td>married</td>\n",
       "      <td>0</td>\n",
       "      <td>F</td>\n",
       "      <td>retiree</td>\n",
       "      <td>0</td>\n",
       "      <td>18374</td>\n",
       "      <td>housing renovation</td>\n",
       "    </tr>\n",
       "    <tr>\n",
       "      <td>10994</td>\n",
       "      <td>0</td>\n",
       "      <td>62</td>\n",
       "      <td>secondary education</td>\n",
       "      <td>1</td>\n",
       "      <td>married</td>\n",
       "      <td>0</td>\n",
       "      <td>F</td>\n",
       "      <td>retiree</td>\n",
       "      <td>0</td>\n",
       "      <td>18374</td>\n",
       "      <td>housing renovation</td>\n",
       "    </tr>\n",
       "    <tr>\n",
       "      <td>11791</td>\n",
       "      <td>0</td>\n",
       "      <td>47</td>\n",
       "      <td>secondary education</td>\n",
       "      <td>1</td>\n",
       "      <td>married</td>\n",
       "      <td>0</td>\n",
       "      <td>F</td>\n",
       "      <td>employee</td>\n",
       "      <td>0</td>\n",
       "      <td>21848</td>\n",
       "      <td>building a property</td>\n",
       "    </tr>\n",
       "    <tr>\n",
       "      <td>12373</td>\n",
       "      <td>0</td>\n",
       "      <td>58</td>\n",
       "      <td>secondary education</td>\n",
       "      <td>1</td>\n",
       "      <td>married</td>\n",
       "      <td>0</td>\n",
       "      <td>M</td>\n",
       "      <td>employee</td>\n",
       "      <td>0</td>\n",
       "      <td>21848</td>\n",
       "      <td>buy real estate</td>\n",
       "    </tr>\n",
       "    <tr>\n",
       "      <td>12375</td>\n",
       "      <td>1</td>\n",
       "      <td>37</td>\n",
       "      <td>secondary education</td>\n",
       "      <td>1</td>\n",
       "      <td>married</td>\n",
       "      <td>0</td>\n",
       "      <td>F</td>\n",
       "      <td>employee</td>\n",
       "      <td>0</td>\n",
       "      <td>21848</td>\n",
       "      <td>buy real estate</td>\n",
       "    </tr>\n",
       "    <tr>\n",
       "      <td>12736</td>\n",
       "      <td>0</td>\n",
       "      <td>59</td>\n",
       "      <td>secondary education</td>\n",
       "      <td>1</td>\n",
       "      <td>married</td>\n",
       "      <td>0</td>\n",
       "      <td>F</td>\n",
       "      <td>retiree</td>\n",
       "      <td>0</td>\n",
       "      <td>18374</td>\n",
       "      <td>to become educated</td>\n",
       "    </tr>\n",
       "    <tr>\n",
       "      <td>13025</td>\n",
       "      <td>1</td>\n",
       "      <td>44</td>\n",
       "      <td>secondary education</td>\n",
       "      <td>1</td>\n",
       "      <td>married</td>\n",
       "      <td>0</td>\n",
       "      <td>F</td>\n",
       "      <td>employee</td>\n",
       "      <td>0</td>\n",
       "      <td>21848</td>\n",
       "      <td>second-hand car purchase</td>\n",
       "    </tr>\n",
       "    <tr>\n",
       "      <td>13639</td>\n",
       "      <td>0</td>\n",
       "      <td>64</td>\n",
       "      <td>secondary education</td>\n",
       "      <td>1</td>\n",
       "      <td>married</td>\n",
       "      <td>0</td>\n",
       "      <td>F</td>\n",
       "      <td>retiree</td>\n",
       "      <td>0</td>\n",
       "      <td>18374</td>\n",
       "      <td>car</td>\n",
       "    </tr>\n",
       "    <tr>\n",
       "      <td>13773</td>\n",
       "      <td>0</td>\n",
       "      <td>35</td>\n",
       "      <td>secondary education</td>\n",
       "      <td>1</td>\n",
       "      <td>civil partnership</td>\n",
       "      <td>1</td>\n",
       "      <td>F</td>\n",
       "      <td>employee</td>\n",
       "      <td>0</td>\n",
       "      <td>21848</td>\n",
       "      <td>to have a wedding</td>\n",
       "    </tr>\n",
       "    <tr>\n",
       "      <td>13878</td>\n",
       "      <td>1</td>\n",
       "      <td>31</td>\n",
       "      <td>secondary education</td>\n",
       "      <td>1</td>\n",
       "      <td>married</td>\n",
       "      <td>0</td>\n",
       "      <td>F</td>\n",
       "      <td>business</td>\n",
       "      <td>0</td>\n",
       "      <td>25451</td>\n",
       "      <td>purchase of the house</td>\n",
       "    </tr>\n",
       "    <tr>\n",
       "      <td>13942</td>\n",
       "      <td>0</td>\n",
       "      <td>44</td>\n",
       "      <td>secondary education</td>\n",
       "      <td>1</td>\n",
       "      <td>married</td>\n",
       "      <td>0</td>\n",
       "      <td>F</td>\n",
       "      <td>employee</td>\n",
       "      <td>0</td>\n",
       "      <td>21848</td>\n",
       "      <td>car purchase</td>\n",
       "    </tr>\n",
       "    <tr>\n",
       "      <td>14432</td>\n",
       "      <td>2</td>\n",
       "      <td>36</td>\n",
       "      <td>bachelor's degree</td>\n",
       "      <td>0</td>\n",
       "      <td>married</td>\n",
       "      <td>0</td>\n",
       "      <td>F</td>\n",
       "      <td>civil servant</td>\n",
       "      <td>0</td>\n",
       "      <td>27601</td>\n",
       "      <td>getting an education</td>\n",
       "    </tr>\n",
       "    <tr>\n",
       "      <td>14832</td>\n",
       "      <td>0</td>\n",
       "      <td>50</td>\n",
       "      <td>secondary education</td>\n",
       "      <td>1</td>\n",
       "      <td>unmarried</td>\n",
       "      <td>4</td>\n",
       "      <td>F</td>\n",
       "      <td>employee</td>\n",
       "      <td>0</td>\n",
       "      <td>21848</td>\n",
       "      <td>property</td>\n",
       "    </tr>\n",
       "    <tr>\n",
       "      <td>15091</td>\n",
       "      <td>0</td>\n",
       "      <td>58</td>\n",
       "      <td>secondary education</td>\n",
       "      <td>1</td>\n",
       "      <td>civil partnership</td>\n",
       "      <td>1</td>\n",
       "      <td>M</td>\n",
       "      <td>employee</td>\n",
       "      <td>0</td>\n",
       "      <td>21848</td>\n",
       "      <td>having a wedding</td>\n",
       "    </tr>\n",
       "    <tr>\n",
       "      <td>15188</td>\n",
       "      <td>0</td>\n",
       "      <td>60</td>\n",
       "      <td>secondary education</td>\n",
       "      <td>1</td>\n",
       "      <td>married</td>\n",
       "      <td>0</td>\n",
       "      <td>M</td>\n",
       "      <td>employee</td>\n",
       "      <td>0</td>\n",
       "      <td>21848</td>\n",
       "      <td>buy real estate</td>\n",
       "    </tr>\n",
       "    <tr>\n",
       "      <td>15273</td>\n",
       "      <td>0</td>\n",
       "      <td>57</td>\n",
       "      <td>secondary education</td>\n",
       "      <td>1</td>\n",
       "      <td>civil partnership</td>\n",
       "      <td>1</td>\n",
       "      <td>F</td>\n",
       "      <td>retiree</td>\n",
       "      <td>0</td>\n",
       "      <td>18374</td>\n",
       "      <td>wedding ceremony</td>\n",
       "    </tr>\n",
       "    <tr>\n",
       "      <td>16176</td>\n",
       "      <td>0</td>\n",
       "      <td>47</td>\n",
       "      <td>secondary education</td>\n",
       "      <td>1</td>\n",
       "      <td>married</td>\n",
       "      <td>0</td>\n",
       "      <td>F</td>\n",
       "      <td>employee</td>\n",
       "      <td>0</td>\n",
       "      <td>21848</td>\n",
       "      <td>housing renovation</td>\n",
       "    </tr>\n",
       "    <tr>\n",
       "      <td>16378</td>\n",
       "      <td>0</td>\n",
       "      <td>46</td>\n",
       "      <td>secondary education</td>\n",
       "      <td>1</td>\n",
       "      <td>married</td>\n",
       "      <td>0</td>\n",
       "      <td>F</td>\n",
       "      <td>employee</td>\n",
       "      <td>0</td>\n",
       "      <td>21848</td>\n",
       "      <td>university education</td>\n",
       "    </tr>\n",
       "    <tr>\n",
       "      <td>16902</td>\n",
       "      <td>2</td>\n",
       "      <td>39</td>\n",
       "      <td>secondary education</td>\n",
       "      <td>1</td>\n",
       "      <td>civil partnership</td>\n",
       "      <td>1</td>\n",
       "      <td>F</td>\n",
       "      <td>employee</td>\n",
       "      <td>0</td>\n",
       "      <td>21848</td>\n",
       "      <td>to have a wedding</td>\n",
       "    </tr>\n",
       "    <tr>\n",
       "      <td>16904</td>\n",
       "      <td>1</td>\n",
       "      <td>32</td>\n",
       "      <td>bachelor's degree</td>\n",
       "      <td>0</td>\n",
       "      <td>married</td>\n",
       "      <td>0</td>\n",
       "      <td>F</td>\n",
       "      <td>employee</td>\n",
       "      <td>0</td>\n",
       "      <td>26502</td>\n",
       "      <td>buying a second-hand car</td>\n",
       "    </tr>\n",
       "    <tr>\n",
       "      <td>17379</td>\n",
       "      <td>0</td>\n",
       "      <td>54</td>\n",
       "      <td>bachelor's degree</td>\n",
       "      <td>0</td>\n",
       "      <td>married</td>\n",
       "      <td>0</td>\n",
       "      <td>M</td>\n",
       "      <td>business</td>\n",
       "      <td>0</td>\n",
       "      <td>32285</td>\n",
       "      <td>transactions with commercial real estate</td>\n",
       "    </tr>\n",
       "    <tr>\n",
       "      <td>17755</td>\n",
       "      <td>1</td>\n",
       "      <td>43</td>\n",
       "      <td>secondary education</td>\n",
       "      <td>1</td>\n",
       "      <td>married</td>\n",
       "      <td>0</td>\n",
       "      <td>M</td>\n",
       "      <td>employee</td>\n",
       "      <td>0</td>\n",
       "      <td>21848</td>\n",
       "      <td>to become educated</td>\n",
       "    </tr>\n",
       "    <tr>\n",
       "      <td>17774</td>\n",
       "      <td>1</td>\n",
       "      <td>40</td>\n",
       "      <td>secondary education</td>\n",
       "      <td>1</td>\n",
       "      <td>civil partnership</td>\n",
       "      <td>1</td>\n",
       "      <td>F</td>\n",
       "      <td>business</td>\n",
       "      <td>0</td>\n",
       "      <td>25451</td>\n",
       "      <td>building a real estate</td>\n",
       "    </tr>\n",
       "    <tr>\n",
       "      <td>18328</td>\n",
       "      <td>0</td>\n",
       "      <td>29</td>\n",
       "      <td>bachelor's degree</td>\n",
       "      <td>0</td>\n",
       "      <td>married</td>\n",
       "      <td>0</td>\n",
       "      <td>M</td>\n",
       "      <td>employee</td>\n",
       "      <td>0</td>\n",
       "      <td>26502</td>\n",
       "      <td>buy residential real estate</td>\n",
       "    </tr>\n",
       "    <tr>\n",
       "      <td>18349</td>\n",
       "      <td>1</td>\n",
       "      <td>30</td>\n",
       "      <td>bachelor's degree</td>\n",
       "      <td>0</td>\n",
       "      <td>married</td>\n",
       "      <td>0</td>\n",
       "      <td>F</td>\n",
       "      <td>civil servant</td>\n",
       "      <td>0</td>\n",
       "      <td>27601</td>\n",
       "      <td>purchase of the house for my family</td>\n",
       "    </tr>\n",
       "    <tr>\n",
       "      <td>18428</td>\n",
       "      <td>0</td>\n",
       "      <td>64</td>\n",
       "      <td>secondary education</td>\n",
       "      <td>1</td>\n",
       "      <td>married</td>\n",
       "      <td>0</td>\n",
       "      <td>F</td>\n",
       "      <td>retiree</td>\n",
       "      <td>0</td>\n",
       "      <td>18374</td>\n",
       "      <td>housing</td>\n",
       "    </tr>\n",
       "    <tr>\n",
       "      <td>18521</td>\n",
       "      <td>0</td>\n",
       "      <td>56</td>\n",
       "      <td>secondary education</td>\n",
       "      <td>1</td>\n",
       "      <td>civil partnership</td>\n",
       "      <td>1</td>\n",
       "      <td>F</td>\n",
       "      <td>employee</td>\n",
       "      <td>0</td>\n",
       "      <td>21848</td>\n",
       "      <td>to have a wedding</td>\n",
       "    </tr>\n",
       "    <tr>\n",
       "      <td>18563</td>\n",
       "      <td>0</td>\n",
       "      <td>54</td>\n",
       "      <td>secondary education</td>\n",
       "      <td>1</td>\n",
       "      <td>married</td>\n",
       "      <td>0</td>\n",
       "      <td>F</td>\n",
       "      <td>employee</td>\n",
       "      <td>0</td>\n",
       "      <td>21848</td>\n",
       "      <td>transactions with my real estate</td>\n",
       "    </tr>\n",
       "    <tr>\n",
       "      <td>18755</td>\n",
       "      <td>0</td>\n",
       "      <td>58</td>\n",
       "      <td>secondary education</td>\n",
       "      <td>1</td>\n",
       "      <td>married</td>\n",
       "      <td>0</td>\n",
       "      <td>F</td>\n",
       "      <td>retiree</td>\n",
       "      <td>0</td>\n",
       "      <td>18374</td>\n",
       "      <td>to become educated</td>\n",
       "    </tr>\n",
       "    <tr>\n",
       "      <td>19041</td>\n",
       "      <td>0</td>\n",
       "      <td>56</td>\n",
       "      <td>secondary education</td>\n",
       "      <td>1</td>\n",
       "      <td>civil partnership</td>\n",
       "      <td>1</td>\n",
       "      <td>F</td>\n",
       "      <td>employee</td>\n",
       "      <td>0</td>\n",
       "      <td>21848</td>\n",
       "      <td>having a wedding</td>\n",
       "    </tr>\n",
       "    <tr>\n",
       "      <td>19184</td>\n",
       "      <td>0</td>\n",
       "      <td>46</td>\n",
       "      <td>secondary education</td>\n",
       "      <td>1</td>\n",
       "      <td>married</td>\n",
       "      <td>0</td>\n",
       "      <td>F</td>\n",
       "      <td>employee</td>\n",
       "      <td>0</td>\n",
       "      <td>21848</td>\n",
       "      <td>to own a car</td>\n",
       "    </tr>\n",
       "    <tr>\n",
       "      <td>19321</td>\n",
       "      <td>0</td>\n",
       "      <td>23</td>\n",
       "      <td>secondary education</td>\n",
       "      <td>1</td>\n",
       "      <td>unmarried</td>\n",
       "      <td>4</td>\n",
       "      <td>F</td>\n",
       "      <td>employee</td>\n",
       "      <td>0</td>\n",
       "      <td>21848</td>\n",
       "      <td>second-hand car purchase</td>\n",
       "    </tr>\n",
       "    <tr>\n",
       "      <td>19387</td>\n",
       "      <td>0</td>\n",
       "      <td>38</td>\n",
       "      <td>bachelor's degree</td>\n",
       "      <td>0</td>\n",
       "      <td>civil partnership</td>\n",
       "      <td>1</td>\n",
       "      <td>F</td>\n",
       "      <td>business</td>\n",
       "      <td>0</td>\n",
       "      <td>32285</td>\n",
       "      <td>having a wedding</td>\n",
       "    </tr>\n",
       "    <tr>\n",
       "      <td>19688</td>\n",
       "      <td>0</td>\n",
       "      <td>61</td>\n",
       "      <td>secondary education</td>\n",
       "      <td>1</td>\n",
       "      <td>married</td>\n",
       "      <td>0</td>\n",
       "      <td>F</td>\n",
       "      <td>retiree</td>\n",
       "      <td>0</td>\n",
       "      <td>18374</td>\n",
       "      <td>real estate transactions</td>\n",
       "    </tr>\n",
       "    <tr>\n",
       "      <td>19832</td>\n",
       "      <td>0</td>\n",
       "      <td>48</td>\n",
       "      <td>secondary education</td>\n",
       "      <td>1</td>\n",
       "      <td>married</td>\n",
       "      <td>0</td>\n",
       "      <td>F</td>\n",
       "      <td>employee</td>\n",
       "      <td>0</td>\n",
       "      <td>21848</td>\n",
       "      <td>housing renovation</td>\n",
       "    </tr>\n",
       "    <tr>\n",
       "      <td>19946</td>\n",
       "      <td>0</td>\n",
       "      <td>57</td>\n",
       "      <td>secondary education</td>\n",
       "      <td>1</td>\n",
       "      <td>married</td>\n",
       "      <td>0</td>\n",
       "      <td>F</td>\n",
       "      <td>employee</td>\n",
       "      <td>0</td>\n",
       "      <td>21848</td>\n",
       "      <td>second-hand car purchase</td>\n",
       "    </tr>\n",
       "    <tr>\n",
       "      <td>20116</td>\n",
       "      <td>0</td>\n",
       "      <td>57</td>\n",
       "      <td>secondary education</td>\n",
       "      <td>1</td>\n",
       "      <td>civil partnership</td>\n",
       "      <td>1</td>\n",
       "      <td>M</td>\n",
       "      <td>retiree</td>\n",
       "      <td>0</td>\n",
       "      <td>18374</td>\n",
       "      <td>wedding ceremony</td>\n",
       "    </tr>\n",
       "    <tr>\n",
       "      <td>20165</td>\n",
       "      <td>0</td>\n",
       "      <td>42</td>\n",
       "      <td>secondary education</td>\n",
       "      <td>1</td>\n",
       "      <td>married</td>\n",
       "      <td>0</td>\n",
       "      <td>F</td>\n",
       "      <td>employee</td>\n",
       "      <td>0</td>\n",
       "      <td>21848</td>\n",
       "      <td>purchase of the house for my family</td>\n",
       "    </tr>\n",
       "    <tr>\n",
       "      <td>20702</td>\n",
       "      <td>0</td>\n",
       "      <td>64</td>\n",
       "      <td>secondary education</td>\n",
       "      <td>1</td>\n",
       "      <td>married</td>\n",
       "      <td>0</td>\n",
       "      <td>F</td>\n",
       "      <td>retiree</td>\n",
       "      <td>0</td>\n",
       "      <td>18374</td>\n",
       "      <td>supplementary education</td>\n",
       "    </tr>\n",
       "    <tr>\n",
       "      <td>21032</td>\n",
       "      <td>0</td>\n",
       "      <td>60</td>\n",
       "      <td>secondary education</td>\n",
       "      <td>1</td>\n",
       "      <td>married</td>\n",
       "      <td>0</td>\n",
       "      <td>F</td>\n",
       "      <td>retiree</td>\n",
       "      <td>0</td>\n",
       "      <td>18374</td>\n",
       "      <td>to become educated</td>\n",
       "    </tr>\n",
       "    <tr>\n",
       "      <td>21132</td>\n",
       "      <td>0</td>\n",
       "      <td>47</td>\n",
       "      <td>secondary education</td>\n",
       "      <td>1</td>\n",
       "      <td>married</td>\n",
       "      <td>0</td>\n",
       "      <td>F</td>\n",
       "      <td>employee</td>\n",
       "      <td>0</td>\n",
       "      <td>21848</td>\n",
       "      <td>housing renovation</td>\n",
       "    </tr>\n",
       "    <tr>\n",
       "      <td>21281</td>\n",
       "      <td>1</td>\n",
       "      <td>30</td>\n",
       "      <td>bachelor's degree</td>\n",
       "      <td>0</td>\n",
       "      <td>married</td>\n",
       "      <td>0</td>\n",
       "      <td>F</td>\n",
       "      <td>employee</td>\n",
       "      <td>0</td>\n",
       "      <td>26502</td>\n",
       "      <td>buy commercial real estate</td>\n",
       "    </tr>\n",
       "    <tr>\n",
       "      <td>21415</td>\n",
       "      <td>0</td>\n",
       "      <td>54</td>\n",
       "      <td>secondary education</td>\n",
       "      <td>1</td>\n",
       "      <td>married</td>\n",
       "      <td>0</td>\n",
       "      <td>F</td>\n",
       "      <td>retiree</td>\n",
       "      <td>0</td>\n",
       "      <td>18374</td>\n",
       "      <td>housing transactions</td>\n",
       "    </tr>\n",
       "  </tbody>\n",
       "</table>\n",
       "</div>"
      ],
      "text/plain": [
       "       children  dob_years            education  education_id  \\\n",
       "2849          0         41  secondary education             1   \n",
       "4182          1         34    BACHELOR'S DEGREE             0   \n",
       "4851          0         60  secondary education             1   \n",
       "5557          0         58  secondary education             1   \n",
       "7808          0         57  secondary education             1   \n",
       "8583          0         58    bachelor's degree             0   \n",
       "9238          2         34  secondary education             1   \n",
       "9528          0         66  secondary education             1   \n",
       "9627          0         56  secondary education             1   \n",
       "10462         0         62  secondary education             1   \n",
       "10697         0         40  secondary education             1   \n",
       "10864         0         62  secondary education             1   \n",
       "10994         0         62  secondary education             1   \n",
       "11791         0         47  secondary education             1   \n",
       "12373         0         58  secondary education             1   \n",
       "12375         1         37  secondary education             1   \n",
       "12736         0         59  secondary education             1   \n",
       "13025         1         44  secondary education             1   \n",
       "13639         0         64  secondary education             1   \n",
       "13773         0         35  secondary education             1   \n",
       "13878         1         31  secondary education             1   \n",
       "13942         0         44  secondary education             1   \n",
       "14432         2         36    bachelor's degree             0   \n",
       "14832         0         50  secondary education             1   \n",
       "15091         0         58  secondary education             1   \n",
       "15188         0         60  secondary education             1   \n",
       "15273         0         57  secondary education             1   \n",
       "16176         0         47  secondary education             1   \n",
       "16378         0         46  secondary education             1   \n",
       "16902         2         39  secondary education             1   \n",
       "16904         1         32    bachelor's degree             0   \n",
       "17379         0         54    bachelor's degree             0   \n",
       "17755         1         43  secondary education             1   \n",
       "17774         1         40  secondary education             1   \n",
       "18328         0         29    bachelor's degree             0   \n",
       "18349         1         30    bachelor's degree             0   \n",
       "18428         0         64  secondary education             1   \n",
       "18521         0         56  secondary education             1   \n",
       "18563         0         54  secondary education             1   \n",
       "18755         0         58  secondary education             1   \n",
       "19041         0         56  secondary education             1   \n",
       "19184         0         46  secondary education             1   \n",
       "19321         0         23  secondary education             1   \n",
       "19387         0         38    bachelor's degree             0   \n",
       "19688         0         61  secondary education             1   \n",
       "19832         0         48  secondary education             1   \n",
       "19946         0         57  secondary education             1   \n",
       "20116         0         57  secondary education             1   \n",
       "20165         0         42  secondary education             1   \n",
       "20702         0         64  secondary education             1   \n",
       "21032         0         60  secondary education             1   \n",
       "21132         0         47  secondary education             1   \n",
       "21281         1         30    bachelor's degree             0   \n",
       "21415         0         54  secondary education             1   \n",
       "\n",
       "           family_status  family_status_id gender    income_type  debt  \\\n",
       "2849             married                 0      F       employee     0   \n",
       "4182   civil partnership                 1      F       employee     0   \n",
       "4851   civil partnership                 1      F        retiree     0   \n",
       "5557   civil partnership                 1      F        retiree     0   \n",
       "7808   civil partnership                 1      F        retiree     0   \n",
       "8583           unmarried                 4      F        retiree     0   \n",
       "9238             married                 0      F       employee     0   \n",
       "9528     widow / widower                 2      F        retiree     0   \n",
       "9627             married                 0      F        retiree     0   \n",
       "10462            married                 0      F        retiree     0   \n",
       "10697  civil partnership                 1      F       business     0   \n",
       "10864            married                 0      F        retiree     0   \n",
       "10994            married                 0      F        retiree     0   \n",
       "11791            married                 0      F       employee     0   \n",
       "12373            married                 0      M       employee     0   \n",
       "12375            married                 0      F       employee     0   \n",
       "12736            married                 0      F        retiree     0   \n",
       "13025            married                 0      F       employee     0   \n",
       "13639            married                 0      F        retiree     0   \n",
       "13773  civil partnership                 1      F       employee     0   \n",
       "13878            married                 0      F       business     0   \n",
       "13942            married                 0      F       employee     0   \n",
       "14432            married                 0      F  civil servant     0   \n",
       "14832          unmarried                 4      F       employee     0   \n",
       "15091  civil partnership                 1      M       employee     0   \n",
       "15188            married                 0      M       employee     0   \n",
       "15273  civil partnership                 1      F        retiree     0   \n",
       "16176            married                 0      F       employee     0   \n",
       "16378            married                 0      F       employee     0   \n",
       "16902  civil partnership                 1      F       employee     0   \n",
       "16904            married                 0      F       employee     0   \n",
       "17379            married                 0      M       business     0   \n",
       "17755            married                 0      M       employee     0   \n",
       "17774  civil partnership                 1      F       business     0   \n",
       "18328            married                 0      M       employee     0   \n",
       "18349            married                 0      F  civil servant     0   \n",
       "18428            married                 0      F        retiree     0   \n",
       "18521  civil partnership                 1      F       employee     0   \n",
       "18563            married                 0      F       employee     0   \n",
       "18755            married                 0      F        retiree     0   \n",
       "19041  civil partnership                 1      F       employee     0   \n",
       "19184            married                 0      F       employee     0   \n",
       "19321          unmarried                 4      F       employee     0   \n",
       "19387  civil partnership                 1      F       business     0   \n",
       "19688            married                 0      F        retiree     0   \n",
       "19832            married                 0      F       employee     0   \n",
       "19946            married                 0      F       employee     0   \n",
       "20116  civil partnership                 1      M        retiree     0   \n",
       "20165            married                 0      F       employee     0   \n",
       "20702            married                 0      F        retiree     0   \n",
       "21032            married                 0      F        retiree     0   \n",
       "21132            married                 0      F       employee     0   \n",
       "21281            married                 0      F       employee     0   \n",
       "21415            married                 0      F        retiree     0   \n",
       "\n",
       "       total_income                                   purpose  \n",
       "2849          21848       purchase of the house for my family  \n",
       "4182          26502                          wedding ceremony  \n",
       "4851          18374                          wedding ceremony  \n",
       "5557          18374                         to have a wedding  \n",
       "7808          18374                          having a wedding  \n",
       "8583          23078                   supplementary education  \n",
       "9238          21848           buying property for renting out  \n",
       "9528          18374          transactions with my real estate  \n",
       "9627          18374          transactions with my real estate  \n",
       "10462         18374                buy commercial real estate  \n",
       "10697         25451                         to have a wedding  \n",
       "10864         18374                        housing renovation  \n",
       "10994         18374                        housing renovation  \n",
       "11791         21848                       building a property  \n",
       "12373         21848                           buy real estate  \n",
       "12375         21848                           buy real estate  \n",
       "12736         18374                        to become educated  \n",
       "13025         21848                  second-hand car purchase  \n",
       "13639         18374                                       car  \n",
       "13773         21848                         to have a wedding  \n",
       "13878         25451                     purchase of the house  \n",
       "13942         21848                              car purchase  \n",
       "14432         27601                      getting an education  \n",
       "14832         21848                                  property  \n",
       "15091         21848                          having a wedding  \n",
       "15188         21848                           buy real estate  \n",
       "15273         18374                          wedding ceremony  \n",
       "16176         21848                        housing renovation  \n",
       "16378         21848                      university education  \n",
       "16902         21848                         to have a wedding  \n",
       "16904         26502                  buying a second-hand car  \n",
       "17379         32285  transactions with commercial real estate  \n",
       "17755         21848                        to become educated  \n",
       "17774         25451                    building a real estate  \n",
       "18328         26502               buy residential real estate  \n",
       "18349         27601       purchase of the house for my family  \n",
       "18428         18374                                   housing  \n",
       "18521         21848                         to have a wedding  \n",
       "18563         21848          transactions with my real estate  \n",
       "18755         18374                        to become educated  \n",
       "19041         21848                          having a wedding  \n",
       "19184         21848                              to own a car  \n",
       "19321         21848                  second-hand car purchase  \n",
       "19387         32285                          having a wedding  \n",
       "19688         18374                  real estate transactions  \n",
       "19832         21848                        housing renovation  \n",
       "19946         21848                  second-hand car purchase  \n",
       "20116         18374                          wedding ceremony  \n",
       "20165         21848       purchase of the house for my family  \n",
       "20702         18374                   supplementary education  \n",
       "21032         18374                        to become educated  \n",
       "21132         21848                        housing renovation  \n",
       "21281         26502                buy commercial real estate  \n",
       "21415         18374                      housing transactions  "
      ]
     },
     "execution_count": 15,
     "metadata": {},
     "output_type": "execute_result"
    }
   ],
   "source": [
    "credit_data[credit_data.duplicated()]"
   ]
  },
  {
   "cell_type": "markdown",
   "metadata": {},
   "source": [
    "We have 54 duplicates, which is only 2% of the data, but we can see that some of the 'education' values are the same with lower and upper cases. we will change them to lower case and see what happens."
   ]
  },
  {
   "cell_type": "code",
   "execution_count": 16,
   "metadata": {},
   "outputs": [
    {
     "data": {
      "text/plain": [
       "71"
      ]
     },
     "execution_count": 16,
     "metadata": {},
     "output_type": "execute_result"
    }
   ],
   "source": [
    "credit_data['education'] = credit_data['education'].str.lower() #changing 'education' values to lowercase\n",
    "len(credit_data[credit_data.duplicated()]) # counting duplicates"
   ]
  },
  {
   "cell_type": "code",
   "execution_count": 17,
   "metadata": {},
   "outputs": [
    {
     "data": {
      "text/html": [
       "<div>\n",
       "<style scoped>\n",
       "    .dataframe tbody tr th:only-of-type {\n",
       "        vertical-align: middle;\n",
       "    }\n",
       "\n",
       "    .dataframe tbody tr th {\n",
       "        vertical-align: top;\n",
       "    }\n",
       "\n",
       "    .dataframe thead th {\n",
       "        text-align: right;\n",
       "    }\n",
       "</style>\n",
       "<table border=\"1\" class=\"dataframe\">\n",
       "  <thead>\n",
       "    <tr style=\"text-align: right;\">\n",
       "      <th></th>\n",
       "      <th>children</th>\n",
       "      <th>dob_years</th>\n",
       "      <th>education</th>\n",
       "      <th>education_id</th>\n",
       "      <th>family_status</th>\n",
       "      <th>family_status_id</th>\n",
       "      <th>gender</th>\n",
       "      <th>income_type</th>\n",
       "      <th>debt</th>\n",
       "      <th>total_income</th>\n",
       "      <th>purpose</th>\n",
       "    </tr>\n",
       "  </thead>\n",
       "  <tbody>\n",
       "    <tr>\n",
       "      <td>2849</td>\n",
       "      <td>0</td>\n",
       "      <td>41</td>\n",
       "      <td>secondary education</td>\n",
       "      <td>1</td>\n",
       "      <td>married</td>\n",
       "      <td>0</td>\n",
       "      <td>F</td>\n",
       "      <td>employee</td>\n",
       "      <td>0</td>\n",
       "      <td>21848</td>\n",
       "      <td>purchase of the house for my family</td>\n",
       "    </tr>\n",
       "    <tr>\n",
       "      <td>3290</td>\n",
       "      <td>0</td>\n",
       "      <td>58</td>\n",
       "      <td>secondary education</td>\n",
       "      <td>1</td>\n",
       "      <td>civil partnership</td>\n",
       "      <td>1</td>\n",
       "      <td>F</td>\n",
       "      <td>retiree</td>\n",
       "      <td>0</td>\n",
       "      <td>18374</td>\n",
       "      <td>to have a wedding</td>\n",
       "    </tr>\n",
       "    <tr>\n",
       "      <td>4182</td>\n",
       "      <td>1</td>\n",
       "      <td>34</td>\n",
       "      <td>bachelor's degree</td>\n",
       "      <td>0</td>\n",
       "      <td>civil partnership</td>\n",
       "      <td>1</td>\n",
       "      <td>F</td>\n",
       "      <td>employee</td>\n",
       "      <td>0</td>\n",
       "      <td>26502</td>\n",
       "      <td>wedding ceremony</td>\n",
       "    </tr>\n",
       "    <tr>\n",
       "      <td>4851</td>\n",
       "      <td>0</td>\n",
       "      <td>60</td>\n",
       "      <td>secondary education</td>\n",
       "      <td>1</td>\n",
       "      <td>civil partnership</td>\n",
       "      <td>1</td>\n",
       "      <td>F</td>\n",
       "      <td>retiree</td>\n",
       "      <td>0</td>\n",
       "      <td>18374</td>\n",
       "      <td>wedding ceremony</td>\n",
       "    </tr>\n",
       "    <tr>\n",
       "      <td>5557</td>\n",
       "      <td>0</td>\n",
       "      <td>58</td>\n",
       "      <td>secondary education</td>\n",
       "      <td>1</td>\n",
       "      <td>civil partnership</td>\n",
       "      <td>1</td>\n",
       "      <td>F</td>\n",
       "      <td>retiree</td>\n",
       "      <td>0</td>\n",
       "      <td>18374</td>\n",
       "      <td>to have a wedding</td>\n",
       "    </tr>\n",
       "    <tr>\n",
       "      <td>...</td>\n",
       "      <td>...</td>\n",
       "      <td>...</td>\n",
       "      <td>...</td>\n",
       "      <td>...</td>\n",
       "      <td>...</td>\n",
       "      <td>...</td>\n",
       "      <td>...</td>\n",
       "      <td>...</td>\n",
       "      <td>...</td>\n",
       "      <td>...</td>\n",
       "      <td>...</td>\n",
       "    </tr>\n",
       "    <tr>\n",
       "      <td>20702</td>\n",
       "      <td>0</td>\n",
       "      <td>64</td>\n",
       "      <td>secondary education</td>\n",
       "      <td>1</td>\n",
       "      <td>married</td>\n",
       "      <td>0</td>\n",
       "      <td>F</td>\n",
       "      <td>retiree</td>\n",
       "      <td>0</td>\n",
       "      <td>18374</td>\n",
       "      <td>supplementary education</td>\n",
       "    </tr>\n",
       "    <tr>\n",
       "      <td>21032</td>\n",
       "      <td>0</td>\n",
       "      <td>60</td>\n",
       "      <td>secondary education</td>\n",
       "      <td>1</td>\n",
       "      <td>married</td>\n",
       "      <td>0</td>\n",
       "      <td>F</td>\n",
       "      <td>retiree</td>\n",
       "      <td>0</td>\n",
       "      <td>18374</td>\n",
       "      <td>to become educated</td>\n",
       "    </tr>\n",
       "    <tr>\n",
       "      <td>21132</td>\n",
       "      <td>0</td>\n",
       "      <td>47</td>\n",
       "      <td>secondary education</td>\n",
       "      <td>1</td>\n",
       "      <td>married</td>\n",
       "      <td>0</td>\n",
       "      <td>F</td>\n",
       "      <td>employee</td>\n",
       "      <td>0</td>\n",
       "      <td>21848</td>\n",
       "      <td>housing renovation</td>\n",
       "    </tr>\n",
       "    <tr>\n",
       "      <td>21281</td>\n",
       "      <td>1</td>\n",
       "      <td>30</td>\n",
       "      <td>bachelor's degree</td>\n",
       "      <td>0</td>\n",
       "      <td>married</td>\n",
       "      <td>0</td>\n",
       "      <td>F</td>\n",
       "      <td>employee</td>\n",
       "      <td>0</td>\n",
       "      <td>26502</td>\n",
       "      <td>buy commercial real estate</td>\n",
       "    </tr>\n",
       "    <tr>\n",
       "      <td>21415</td>\n",
       "      <td>0</td>\n",
       "      <td>54</td>\n",
       "      <td>secondary education</td>\n",
       "      <td>1</td>\n",
       "      <td>married</td>\n",
       "      <td>0</td>\n",
       "      <td>F</td>\n",
       "      <td>retiree</td>\n",
       "      <td>0</td>\n",
       "      <td>18374</td>\n",
       "      <td>housing transactions</td>\n",
       "    </tr>\n",
       "  </tbody>\n",
       "</table>\n",
       "<p>71 rows × 11 columns</p>\n",
       "</div>"
      ],
      "text/plain": [
       "       children  dob_years            education  education_id  \\\n",
       "2849          0         41  secondary education             1   \n",
       "3290          0         58  secondary education             1   \n",
       "4182          1         34    bachelor's degree             0   \n",
       "4851          0         60  secondary education             1   \n",
       "5557          0         58  secondary education             1   \n",
       "...         ...        ...                  ...           ...   \n",
       "20702         0         64  secondary education             1   \n",
       "21032         0         60  secondary education             1   \n",
       "21132         0         47  secondary education             1   \n",
       "21281         1         30    bachelor's degree             0   \n",
       "21415         0         54  secondary education             1   \n",
       "\n",
       "           family_status  family_status_id gender income_type  debt  \\\n",
       "2849             married                 0      F    employee     0   \n",
       "3290   civil partnership                 1      F     retiree     0   \n",
       "4182   civil partnership                 1      F    employee     0   \n",
       "4851   civil partnership                 1      F     retiree     0   \n",
       "5557   civil partnership                 1      F     retiree     0   \n",
       "...                  ...               ...    ...         ...   ...   \n",
       "20702            married                 0      F     retiree     0   \n",
       "21032            married                 0      F     retiree     0   \n",
       "21132            married                 0      F    employee     0   \n",
       "21281            married                 0      F    employee     0   \n",
       "21415            married                 0      F     retiree     0   \n",
       "\n",
       "       total_income                              purpose  \n",
       "2849          21848  purchase of the house for my family  \n",
       "3290          18374                    to have a wedding  \n",
       "4182          26502                     wedding ceremony  \n",
       "4851          18374                     wedding ceremony  \n",
       "5557          18374                    to have a wedding  \n",
       "...             ...                                  ...  \n",
       "20702         18374              supplementary education  \n",
       "21032         18374                   to become educated  \n",
       "21132         21848                   housing renovation  \n",
       "21281         26502           buy commercial real estate  \n",
       "21415         18374                 housing transactions  \n",
       "\n",
       "[71 rows x 11 columns]"
      ]
     },
     "execution_count": 17,
     "metadata": {},
     "output_type": "execute_result"
    }
   ],
   "source": [
    "credit_data[credit_data.duplicated()]"
   ]
  },
  {
   "cell_type": "markdown",
   "metadata": {},
   "source": [
    "We can see that even after changing the 'education' to lower case we still get a small portion of that data as duplicates. We can remove these rows using drop_duplicates() method."
   ]
  },
  {
   "cell_type": "code",
   "execution_count": 18,
   "metadata": {},
   "outputs": [
    {
     "data": {
      "text/plain": [
       "0"
      ]
     },
     "execution_count": 18,
     "metadata": {},
     "output_type": "execute_result"
    }
   ],
   "source": [
    "credit_data = credit_data.drop_duplicates().reset_index(drop = True) # dropping all the duplicated rows\n",
    "len(credit_data[credit_data.duplicated()]) # making sure we deleted all duplicates"
   ]
  },
  {
   "cell_type": "markdown",
   "metadata": {},
   "source": [
    "There are 54 duplicated rows in the data, this could mean that we might have duplications of some forms. \n",
    "We can see that the 'education column has duplicates but with lower and upper case letter (which might imply that the forms were filled by hand by different people) so we changed it to be all lower case and we received a 71 duplicates which is a similar portion of the dataset.\n",
    "Although we can have duplicates in the data from different clients since there's no specific user ID, diffetnt people can have the same income type, total income, family status, number of children, or education I still decided to remove this data since we can't be sure if it's a duplication of the same client and it's a small portion of the data so I assume it will not effect on the analysis by much. "
   ]
  },
  {
   "cell_type": "markdown",
   "metadata": {},
   "source": [
    "### Categorizing Data"
   ]
  },
  {
   "cell_type": "code",
   "execution_count": 19,
   "metadata": {},
   "outputs": [
    {
     "data": {
      "text/plain": [
       "count     21454.000000\n",
       "mean      26472.049128\n",
       "std       15726.191978\n",
       "min        3306.000000\n",
       "25%       17202.000000\n",
       "50%       22993.000000\n",
       "75%       31728.750000\n",
       "max      362496.000000\n",
       "Name: total_income, dtype: float64"
      ]
     },
     "execution_count": 19,
     "metadata": {},
     "output_type": "execute_result"
    }
   ],
   "source": [
    "# categorizing the data by income levels\n",
    "credit_data['total_income'].describe() #learning more about the distribution of income in our dataset"
   ]
  },
  {
   "cell_type": "markdown",
   "metadata": {},
   "source": [
    "We can categorize the data accoring to the levels in the describe table"
   ]
  },
  {
   "cell_type": "code",
   "execution_count": 20,
   "metadata": {},
   "outputs": [],
   "source": [
    "#define a categorizing function for total_income\n",
    "\n",
    "def income_category(val):\n",
    "    if val > 0 and val <= 17202:\n",
    "        return 'Low income'\n",
    "    elif val <= 22993: \n",
    "        return 'Below average income'\n",
    "    elif val <= 31728:\n",
    "        return 'Above average income'\n",
    "    else:\n",
    "        return 'High income'"
   ]
  },
  {
   "cell_type": "code",
   "execution_count": 21,
   "metadata": {},
   "outputs": [],
   "source": [
    "# apply the above categorizing function on the total income column\n",
    "credit_data['income_category'] = credit_data['total_income'].apply(income_category)"
   ]
  },
  {
   "cell_type": "code",
   "execution_count": 42,
   "metadata": {},
   "outputs": [
    {
     "data": {
      "text/html": [
       "<div>\n",
       "<style scoped>\n",
       "    .dataframe tbody tr th:only-of-type {\n",
       "        vertical-align: middle;\n",
       "    }\n",
       "\n",
       "    .dataframe tbody tr th {\n",
       "        vertical-align: top;\n",
       "    }\n",
       "\n",
       "    .dataframe thead th {\n",
       "        text-align: right;\n",
       "    }\n",
       "</style>\n",
       "<table border=\"1\" class=\"dataframe\">\n",
       "  <thead>\n",
       "    <tr style=\"text-align: right;\">\n",
       "      <th></th>\n",
       "      <th>children</th>\n",
       "      <th>dob_years</th>\n",
       "      <th>education</th>\n",
       "      <th>education_id</th>\n",
       "      <th>family_status</th>\n",
       "      <th>family_status_id</th>\n",
       "      <th>gender</th>\n",
       "      <th>income_type</th>\n",
       "      <th>debt</th>\n",
       "      <th>total_income</th>\n",
       "      <th>purpose</th>\n",
       "      <th>income_category</th>\n",
       "      <th>have_kids</th>\n",
       "    </tr>\n",
       "  </thead>\n",
       "  <tbody>\n",
       "    <tr>\n",
       "      <td>0</td>\n",
       "      <td>1</td>\n",
       "      <td>42</td>\n",
       "      <td>bachelor's degree</td>\n",
       "      <td>0</td>\n",
       "      <td>married</td>\n",
       "      <td>0</td>\n",
       "      <td>F</td>\n",
       "      <td>employee</td>\n",
       "      <td>0</td>\n",
       "      <td>40620</td>\n",
       "      <td>House</td>\n",
       "      <td>High income</td>\n",
       "      <td>Yes</td>\n",
       "    </tr>\n",
       "    <tr>\n",
       "      <td>1</td>\n",
       "      <td>1</td>\n",
       "      <td>36</td>\n",
       "      <td>secondary education</td>\n",
       "      <td>1</td>\n",
       "      <td>married</td>\n",
       "      <td>0</td>\n",
       "      <td>F</td>\n",
       "      <td>employee</td>\n",
       "      <td>0</td>\n",
       "      <td>17932</td>\n",
       "      <td>Car</td>\n",
       "      <td>Below average income</td>\n",
       "      <td>Yes</td>\n",
       "    </tr>\n",
       "    <tr>\n",
       "      <td>2</td>\n",
       "      <td>0</td>\n",
       "      <td>33</td>\n",
       "      <td>secondary education</td>\n",
       "      <td>1</td>\n",
       "      <td>married</td>\n",
       "      <td>0</td>\n",
       "      <td>M</td>\n",
       "      <td>employee</td>\n",
       "      <td>0</td>\n",
       "      <td>23341</td>\n",
       "      <td>House</td>\n",
       "      <td>Above average income</td>\n",
       "      <td>No</td>\n",
       "    </tr>\n",
       "    <tr>\n",
       "      <td>3</td>\n",
       "      <td>3</td>\n",
       "      <td>32</td>\n",
       "      <td>secondary education</td>\n",
       "      <td>1</td>\n",
       "      <td>married</td>\n",
       "      <td>0</td>\n",
       "      <td>M</td>\n",
       "      <td>employee</td>\n",
       "      <td>0</td>\n",
       "      <td>42820</td>\n",
       "      <td>Education</td>\n",
       "      <td>High income</td>\n",
       "      <td>Yes</td>\n",
       "    </tr>\n",
       "    <tr>\n",
       "      <td>4</td>\n",
       "      <td>0</td>\n",
       "      <td>53</td>\n",
       "      <td>secondary education</td>\n",
       "      <td>1</td>\n",
       "      <td>civil partnership</td>\n",
       "      <td>1</td>\n",
       "      <td>F</td>\n",
       "      <td>retiree</td>\n",
       "      <td>0</td>\n",
       "      <td>25378</td>\n",
       "      <td>Wedding</td>\n",
       "      <td>Above average income</td>\n",
       "      <td>No</td>\n",
       "    </tr>\n",
       "  </tbody>\n",
       "</table>\n",
       "</div>"
      ],
      "text/plain": [
       "   children  dob_years            education  education_id      family_status  \\\n",
       "0         1         42    bachelor's degree             0            married   \n",
       "1         1         36  secondary education             1            married   \n",
       "2         0         33  secondary education             1            married   \n",
       "3         3         32  secondary education             1            married   \n",
       "4         0         53  secondary education             1  civil partnership   \n",
       "\n",
       "   family_status_id gender income_type  debt  total_income    purpose  \\\n",
       "0                 0      F    employee     0         40620      House   \n",
       "1                 0      F    employee     0         17932        Car   \n",
       "2                 0      M    employee     0         23341      House   \n",
       "3                 0      M    employee     0         42820  Education   \n",
       "4                 1      F     retiree     0         25378    Wedding   \n",
       "\n",
       "        income_category have_kids  \n",
       "0           High income       Yes  \n",
       "1  Below average income       Yes  \n",
       "2  Above average income        No  \n",
       "3           High income       Yes  \n",
       "4  Above average income        No  "
      ]
     },
     "metadata": {},
     "output_type": "display_data"
    }
   ],
   "source": [
    "display(credit_data.head()) #visualize the new category column"
   ]
  },
  {
   "cell_type": "code",
   "execution_count": 23,
   "metadata": {},
   "outputs": [
    {
     "data": {
      "text/plain": [
       "array(['purchase of the house', 'car purchase', 'supplementary education',\n",
       "       'to have a wedding', 'housing transactions', 'education',\n",
       "       'having a wedding', 'purchase of the house for my family',\n",
       "       'buy real estate', 'buy commercial real estate',\n",
       "       'buy residential real estate', 'construction of own property',\n",
       "       'property', 'building a property', 'buying a second-hand car',\n",
       "       'buying my own car', 'transactions with commercial real estate',\n",
       "       'building a real estate', 'housing',\n",
       "       'transactions with my real estate', 'cars', 'to become educated',\n",
       "       'second-hand car purchase', 'getting an education', 'car',\n",
       "       'wedding ceremony', 'to get a supplementary education',\n",
       "       'purchase of my own house', 'real estate transactions',\n",
       "       'getting higher education', 'to own a car', 'purchase of a car',\n",
       "       'profile education', 'university education',\n",
       "       'buying property for renting out', 'to buy a car',\n",
       "       'housing renovation', 'going to university'], dtype=object)"
      ]
     },
     "execution_count": 23,
     "metadata": {},
     "output_type": "execute_result"
    }
   ],
   "source": [
    "#categorizing by loan purpose using lemmatization \n",
    "#learn about the different loan purposes\n",
    "credit_data['purpose'].unique()"
   ]
  },
  {
   "cell_type": "code",
   "execution_count": 24,
   "metadata": {},
   "outputs": [],
   "source": [
    "#creating the different categories for loan request\n",
    "house = ['house', 'housing', 'estate', 'property']\n",
    "car = ['car', 'cars', ]\n",
    "education = ['education', 'educated', 'university']\n",
    "wedding = ['wedding']"
   ]
  },
  {
   "cell_type": "code",
   "execution_count": 25,
   "metadata": {},
   "outputs": [],
   "source": [
    "#defining the lemmatizing function and categoriez the purpose list we have into 4 groups as described above \n",
    "\n",
    "\n",
    "def lemmatizer_func(line):\n",
    "    wordnet_lemma = WordNetLemmatizer()\n",
    "    word_list = nltk.word_tokenize(line)\n",
    "    word_list = [w.lower() for w in word_list]\n",
    "    \n",
    "    if any(word in word_list for word in house):\n",
    "        return 'House'\n",
    "    elif any(word in word_list for word in car):\n",
    "        return 'Car'    \n",
    "    elif any(word in word_list for word in education):\n",
    "        return 'Education'  \n",
    "    elif any(word in word_list for word in wedding):\n",
    "        return 'Wedding'  \n",
    "    else: \n",
    "        return 'Other'  \n"
   ]
  },
  {
   "cell_type": "code",
   "execution_count": 26,
   "metadata": {},
   "outputs": [],
   "source": [
    "credit_data['purpose'] = credit_data['purpose'].apply(lemmatizer_func) # applying the above function on out data set"
   ]
  },
  {
   "cell_type": "code",
   "execution_count": 27,
   "metadata": {},
   "outputs": [
    {
     "data": {
      "text/plain": [
       "House        10811\n",
       "Car           4306\n",
       "Education     4013\n",
       "Wedding       2324\n",
       "Name: purpose, dtype: int64"
      ]
     },
     "execution_count": 27,
     "metadata": {},
     "output_type": "execute_result"
    }
   ],
   "source": [
    "credit_data['purpose'].value_counts() #check the purpose category distribution "
   ]
  },
  {
   "cell_type": "code",
   "execution_count": 28,
   "metadata": {},
   "outputs": [],
   "source": [
    "# categorizing people with or without kids\n",
    "# defining a function for determining if the client has kids or not \n",
    "def have_kids(num_of_kids):\n",
    "    if num_of_kids == 0:\n",
    "        return 'No'\n",
    "    else: \n",
    "        return 'Yes'"
   ]
  },
  {
   "cell_type": "code",
   "execution_count": 29,
   "metadata": {},
   "outputs": [],
   "source": [
    "# creating a new column of \"Have_kids\"\n",
    "credit_data['have_kids'] = credit_data['children'].apply(have_kids)"
   ]
  },
  {
   "cell_type": "code",
   "execution_count": 30,
   "metadata": {},
   "outputs": [
    {
     "data": {
      "text/plain": [
       "No     14091\n",
       "Yes     7363\n",
       "Name: have_kids, dtype: int64"
      ]
     },
     "execution_count": 30,
     "metadata": {},
     "output_type": "execute_result"
    }
   ],
   "source": [
    "credit_data['have_kids'].value_counts() #check the have_kids category distribution "
   ]
  },
  {
   "cell_type": "code",
   "execution_count": 31,
   "metadata": {},
   "outputs": [
    {
     "data": {
      "text/html": [
       "<div>\n",
       "<style scoped>\n",
       "    .dataframe tbody tr th:only-of-type {\n",
       "        vertical-align: middle;\n",
       "    }\n",
       "\n",
       "    .dataframe tbody tr th {\n",
       "        vertical-align: top;\n",
       "    }\n",
       "\n",
       "    .dataframe thead th {\n",
       "        text-align: right;\n",
       "    }\n",
       "</style>\n",
       "<table border=\"1\" class=\"dataframe\">\n",
       "  <thead>\n",
       "    <tr style=\"text-align: right;\">\n",
       "      <th></th>\n",
       "      <th>children</th>\n",
       "      <th>dob_years</th>\n",
       "      <th>education</th>\n",
       "      <th>education_id</th>\n",
       "      <th>family_status</th>\n",
       "      <th>family_status_id</th>\n",
       "      <th>gender</th>\n",
       "      <th>income_type</th>\n",
       "      <th>debt</th>\n",
       "      <th>total_income</th>\n",
       "      <th>purpose</th>\n",
       "      <th>income_category</th>\n",
       "      <th>have_kids</th>\n",
       "    </tr>\n",
       "  </thead>\n",
       "  <tbody>\n",
       "    <tr>\n",
       "      <td>0</td>\n",
       "      <td>1</td>\n",
       "      <td>42</td>\n",
       "      <td>bachelor's degree</td>\n",
       "      <td>0</td>\n",
       "      <td>married</td>\n",
       "      <td>0</td>\n",
       "      <td>F</td>\n",
       "      <td>employee</td>\n",
       "      <td>0</td>\n",
       "      <td>40620</td>\n",
       "      <td>House</td>\n",
       "      <td>High income</td>\n",
       "      <td>Yes</td>\n",
       "    </tr>\n",
       "    <tr>\n",
       "      <td>1</td>\n",
       "      <td>1</td>\n",
       "      <td>36</td>\n",
       "      <td>secondary education</td>\n",
       "      <td>1</td>\n",
       "      <td>married</td>\n",
       "      <td>0</td>\n",
       "      <td>F</td>\n",
       "      <td>employee</td>\n",
       "      <td>0</td>\n",
       "      <td>17932</td>\n",
       "      <td>Car</td>\n",
       "      <td>Below average income</td>\n",
       "      <td>Yes</td>\n",
       "    </tr>\n",
       "    <tr>\n",
       "      <td>2</td>\n",
       "      <td>0</td>\n",
       "      <td>33</td>\n",
       "      <td>secondary education</td>\n",
       "      <td>1</td>\n",
       "      <td>married</td>\n",
       "      <td>0</td>\n",
       "      <td>M</td>\n",
       "      <td>employee</td>\n",
       "      <td>0</td>\n",
       "      <td>23341</td>\n",
       "      <td>House</td>\n",
       "      <td>Above average income</td>\n",
       "      <td>No</td>\n",
       "    </tr>\n",
       "    <tr>\n",
       "      <td>3</td>\n",
       "      <td>3</td>\n",
       "      <td>32</td>\n",
       "      <td>secondary education</td>\n",
       "      <td>1</td>\n",
       "      <td>married</td>\n",
       "      <td>0</td>\n",
       "      <td>M</td>\n",
       "      <td>employee</td>\n",
       "      <td>0</td>\n",
       "      <td>42820</td>\n",
       "      <td>Education</td>\n",
       "      <td>High income</td>\n",
       "      <td>Yes</td>\n",
       "    </tr>\n",
       "    <tr>\n",
       "      <td>4</td>\n",
       "      <td>0</td>\n",
       "      <td>53</td>\n",
       "      <td>secondary education</td>\n",
       "      <td>1</td>\n",
       "      <td>civil partnership</td>\n",
       "      <td>1</td>\n",
       "      <td>F</td>\n",
       "      <td>retiree</td>\n",
       "      <td>0</td>\n",
       "      <td>25378</td>\n",
       "      <td>Wedding</td>\n",
       "      <td>Above average income</td>\n",
       "      <td>No</td>\n",
       "    </tr>\n",
       "  </tbody>\n",
       "</table>\n",
       "</div>"
      ],
      "text/plain": [
       "   children  dob_years            education  education_id      family_status  \\\n",
       "0         1         42    bachelor's degree             0            married   \n",
       "1         1         36  secondary education             1            married   \n",
       "2         0         33  secondary education             1            married   \n",
       "3         3         32  secondary education             1            married   \n",
       "4         0         53  secondary education             1  civil partnership   \n",
       "\n",
       "   family_status_id gender income_type  debt  total_income    purpose  \\\n",
       "0                 0      F    employee     0         40620      House   \n",
       "1                 0      F    employee     0         17932        Car   \n",
       "2                 0      M    employee     0         23341      House   \n",
       "3                 0      M    employee     0         42820  Education   \n",
       "4                 1      F     retiree     0         25378    Wedding   \n",
       "\n",
       "        income_category have_kids  \n",
       "0           High income       Yes  \n",
       "1  Below average income       Yes  \n",
       "2  Above average income        No  \n",
       "3           High income       Yes  \n",
       "4  Above average income        No  "
      ]
     },
     "execution_count": 31,
     "metadata": {},
     "output_type": "execute_result"
    }
   ],
   "source": [
    "display(credit_data.head())"
   ]
  },
  {
   "cell_type": "markdown",
   "metadata": {},
   "source": [
    "We categorized the \"total income\" into 4 groups - low income, below average, above average and high income and the loan purpose also into 4 groups - Car, house, education and wedding which fitted for all the data set (not value under \"other\").\n",
    "approximately 60% of the people asking for a loan do not have kids. "
   ]
  },
  {
   "cell_type": "markdown",
   "metadata": {},
   "source": [
    "## Analysis"
   ]
  },
  {
   "cell_type": "markdown",
   "metadata": {},
   "source": [
    "**- Is there a relation between having kids and repaying a loan on time?**"
   ]
  },
  {
   "cell_type": "markdown",
   "metadata": {},
   "source": [
    "In order to check if there is a relation between having kids to repaying a loan on time we will create a pivot table with these values: \"have_kids\", \"debt\""
   ]
  },
  {
   "cell_type": "code",
   "execution_count": 32,
   "metadata": {},
   "outputs": [
    {
     "data": {
      "text/html": [
       "<div>\n",
       "<style scoped>\n",
       "    .dataframe tbody tr th:only-of-type {\n",
       "        vertical-align: middle;\n",
       "    }\n",
       "\n",
       "    .dataframe tbody tr th {\n",
       "        vertical-align: top;\n",
       "    }\n",
       "\n",
       "    .dataframe thead th {\n",
       "        text-align: right;\n",
       "    }\n",
       "</style>\n",
       "<table border=\"1\" class=\"dataframe\">\n",
       "  <thead>\n",
       "    <tr style=\"text-align: right;\">\n",
       "      <th>debt</th>\n",
       "      <th>0</th>\n",
       "      <th>1</th>\n",
       "      <th>All</th>\n",
       "    </tr>\n",
       "    <tr>\n",
       "      <th>have_kids</th>\n",
       "      <th></th>\n",
       "      <th></th>\n",
       "      <th></th>\n",
       "    </tr>\n",
       "  </thead>\n",
       "  <tbody>\n",
       "    <tr>\n",
       "      <td>No</td>\n",
       "      <td>13028</td>\n",
       "      <td>1063</td>\n",
       "      <td>14091</td>\n",
       "    </tr>\n",
       "    <tr>\n",
       "      <td>Yes</td>\n",
       "      <td>6685</td>\n",
       "      <td>678</td>\n",
       "      <td>7363</td>\n",
       "    </tr>\n",
       "    <tr>\n",
       "      <td>All</td>\n",
       "      <td>19713</td>\n",
       "      <td>1741</td>\n",
       "      <td>21454</td>\n",
       "    </tr>\n",
       "  </tbody>\n",
       "</table>\n",
       "</div>"
      ],
      "text/plain": [
       "debt           0     1    All\n",
       "have_kids                    \n",
       "No         13028  1063  14091\n",
       "Yes         6685   678   7363\n",
       "All        19713  1741  21454"
      ]
     },
     "execution_count": 32,
     "metadata": {},
     "output_type": "execute_result"
    }
   ],
   "source": [
    "#creating a pivot table\n",
    "kids_status = pd.pivot_table(credit_data, index = 'have_kids', columns = 'debt', values = 'children', aggfunc = 'count', margins = True)\n",
    "kids_status"
   ]
  },
  {
   "cell_type": "code",
   "execution_count": 43,
   "metadata": {},
   "outputs": [
    {
     "data": {
      "text/html": [
       "<div>\n",
       "<style scoped>\n",
       "    .dataframe tbody tr th:only-of-type {\n",
       "        vertical-align: middle;\n",
       "    }\n",
       "\n",
       "    .dataframe tbody tr th {\n",
       "        vertical-align: top;\n",
       "    }\n",
       "\n",
       "    .dataframe thead th {\n",
       "        text-align: right;\n",
       "    }\n",
       "</style>\n",
       "<table border=\"1\" class=\"dataframe\">\n",
       "  <thead>\n",
       "    <tr style=\"text-align: right;\">\n",
       "      <th>debt</th>\n",
       "      <th>0</th>\n",
       "      <th>1</th>\n",
       "      <th>All</th>\n",
       "      <th>default rate</th>\n",
       "    </tr>\n",
       "    <tr>\n",
       "      <th>have_kids</th>\n",
       "      <th></th>\n",
       "      <th></th>\n",
       "      <th></th>\n",
       "      <th></th>\n",
       "    </tr>\n",
       "  </thead>\n",
       "  <tbody>\n",
       "    <tr>\n",
       "      <td>No</td>\n",
       "      <td>13028</td>\n",
       "      <td>1063</td>\n",
       "      <td>14091</td>\n",
       "      <td>7.543822</td>\n",
       "    </tr>\n",
       "    <tr>\n",
       "      <td>Yes</td>\n",
       "      <td>6685</td>\n",
       "      <td>678</td>\n",
       "      <td>7363</td>\n",
       "      <td>9.208203</td>\n",
       "    </tr>\n",
       "    <tr>\n",
       "      <td>All</td>\n",
       "      <td>19713</td>\n",
       "      <td>1741</td>\n",
       "      <td>21454</td>\n",
       "      <td>8.115037</td>\n",
       "    </tr>\n",
       "  </tbody>\n",
       "</table>\n",
       "</div>"
      ],
      "text/plain": [
       "debt           0     1    All  default rate\n",
       "have_kids                                  \n",
       "No         13028  1063  14091      7.543822\n",
       "Yes         6685   678   7363      9.208203\n",
       "All        19713  1741  21454      8.115037"
      ]
     },
     "metadata": {},
     "output_type": "display_data"
    }
   ],
   "source": [
    "#calculating the default rate\n",
    "kids_status['default rate'] = (kids_status[1]/kids_status['All'])*100\n",
    "display(kids_status)"
   ]
  },
  {
   "cell_type": "markdown",
   "metadata": {},
   "source": [
    "There is a relation between having kids to paying back a loan on time, yet it's not very significant. \n",
    "People who have kids have a higher default rate, meaning that comparing to people who don't have kids the don't repay loan on time. Yet, the diference is less than 2% between these groups. \n",
    "We can also take a look at the difference in you have a small family (1 kid) vs. a larger family. "
   ]
  },
  {
   "cell_type": "code",
   "execution_count": 46,
   "metadata": {},
   "outputs": [
    {
     "data": {
      "text/html": [
       "<div>\n",
       "<style scoped>\n",
       "    .dataframe tbody tr th:only-of-type {\n",
       "        vertical-align: middle;\n",
       "    }\n",
       "\n",
       "    .dataframe tbody tr th {\n",
       "        vertical-align: top;\n",
       "    }\n",
       "\n",
       "    .dataframe thead th {\n",
       "        text-align: right;\n",
       "    }\n",
       "</style>\n",
       "<table border=\"1\" class=\"dataframe\">\n",
       "  <thead>\n",
       "    <tr style=\"text-align: right;\">\n",
       "      <th>debt</th>\n",
       "      <th>0</th>\n",
       "      <th>1</th>\n",
       "      <th>All</th>\n",
       "    </tr>\n",
       "    <tr>\n",
       "      <th>children</th>\n",
       "      <th></th>\n",
       "      <th></th>\n",
       "      <th></th>\n",
       "    </tr>\n",
       "  </thead>\n",
       "  <tbody>\n",
       "    <tr>\n",
       "      <td>0</td>\n",
       "      <td>13028.0</td>\n",
       "      <td>1063.0</td>\n",
       "      <td>14091</td>\n",
       "    </tr>\n",
       "    <tr>\n",
       "      <td>1</td>\n",
       "      <td>4410.0</td>\n",
       "      <td>445.0</td>\n",
       "      <td>4855</td>\n",
       "    </tr>\n",
       "    <tr>\n",
       "      <td>2</td>\n",
       "      <td>1926.0</td>\n",
       "      <td>202.0</td>\n",
       "      <td>2128</td>\n",
       "    </tr>\n",
       "    <tr>\n",
       "      <td>3</td>\n",
       "      <td>303.0</td>\n",
       "      <td>27.0</td>\n",
       "      <td>330</td>\n",
       "    </tr>\n",
       "    <tr>\n",
       "      <td>4</td>\n",
       "      <td>37.0</td>\n",
       "      <td>4.0</td>\n",
       "      <td>41</td>\n",
       "    </tr>\n",
       "    <tr>\n",
       "      <td>5</td>\n",
       "      <td>9.0</td>\n",
       "      <td>NaN</td>\n",
       "      <td>9</td>\n",
       "    </tr>\n",
       "    <tr>\n",
       "      <td>All</td>\n",
       "      <td>19713.0</td>\n",
       "      <td>1741.0</td>\n",
       "      <td>21454</td>\n",
       "    </tr>\n",
       "  </tbody>\n",
       "</table>\n",
       "</div>"
      ],
      "text/plain": [
       "debt            0       1    All\n",
       "children                        \n",
       "0         13028.0  1063.0  14091\n",
       "1          4410.0   445.0   4855\n",
       "2          1926.0   202.0   2128\n",
       "3           303.0    27.0    330\n",
       "4            37.0     4.0     41\n",
       "5             9.0     NaN      9\n",
       "All       19713.0  1741.0  21454"
      ]
     },
     "metadata": {},
     "output_type": "display_data"
    }
   ],
   "source": [
    "#creating a pivot table\n",
    "num_kids_status = pd.pivot_table(credit_data, index = 'children', columns = 'debt', values = 'have_kids', aggfunc = 'count', margins = True)\n",
    "display(num_kids_status)"
   ]
  },
  {
   "cell_type": "code",
   "execution_count": 47,
   "metadata": {},
   "outputs": [
    {
     "data": {
      "text/html": [
       "<div>\n",
       "<style scoped>\n",
       "    .dataframe tbody tr th:only-of-type {\n",
       "        vertical-align: middle;\n",
       "    }\n",
       "\n",
       "    .dataframe tbody tr th {\n",
       "        vertical-align: top;\n",
       "    }\n",
       "\n",
       "    .dataframe thead th {\n",
       "        text-align: right;\n",
       "    }\n",
       "</style>\n",
       "<table border=\"1\" class=\"dataframe\">\n",
       "  <thead>\n",
       "    <tr style=\"text-align: right;\">\n",
       "      <th>debt</th>\n",
       "      <th>0</th>\n",
       "      <th>1</th>\n",
       "      <th>All</th>\n",
       "      <th>default_rate</th>\n",
       "    </tr>\n",
       "    <tr>\n",
       "      <th>children</th>\n",
       "      <th></th>\n",
       "      <th></th>\n",
       "      <th></th>\n",
       "      <th></th>\n",
       "    </tr>\n",
       "  </thead>\n",
       "  <tbody>\n",
       "    <tr>\n",
       "      <td>0</td>\n",
       "      <td>13028.0</td>\n",
       "      <td>1063.0</td>\n",
       "      <td>14091</td>\n",
       "      <td>7.543822</td>\n",
       "    </tr>\n",
       "    <tr>\n",
       "      <td>1</td>\n",
       "      <td>4410.0</td>\n",
       "      <td>445.0</td>\n",
       "      <td>4855</td>\n",
       "      <td>9.165808</td>\n",
       "    </tr>\n",
       "    <tr>\n",
       "      <td>2</td>\n",
       "      <td>1926.0</td>\n",
       "      <td>202.0</td>\n",
       "      <td>2128</td>\n",
       "      <td>9.492481</td>\n",
       "    </tr>\n",
       "    <tr>\n",
       "      <td>3</td>\n",
       "      <td>303.0</td>\n",
       "      <td>27.0</td>\n",
       "      <td>330</td>\n",
       "      <td>8.181818</td>\n",
       "    </tr>\n",
       "    <tr>\n",
       "      <td>4</td>\n",
       "      <td>37.0</td>\n",
       "      <td>4.0</td>\n",
       "      <td>41</td>\n",
       "      <td>9.756098</td>\n",
       "    </tr>\n",
       "    <tr>\n",
       "      <td>5</td>\n",
       "      <td>9.0</td>\n",
       "      <td>0.0</td>\n",
       "      <td>9</td>\n",
       "      <td>0.000000</td>\n",
       "    </tr>\n",
       "    <tr>\n",
       "      <td>All</td>\n",
       "      <td>19713.0</td>\n",
       "      <td>1741.0</td>\n",
       "      <td>21454</td>\n",
       "      <td>8.115037</td>\n",
       "    </tr>\n",
       "  </tbody>\n",
       "</table>\n",
       "</div>"
      ],
      "text/plain": [
       "debt            0       1    All  default_rate\n",
       "children                                      \n",
       "0         13028.0  1063.0  14091      7.543822\n",
       "1          4410.0   445.0   4855      9.165808\n",
       "2          1926.0   202.0   2128      9.492481\n",
       "3           303.0    27.0    330      8.181818\n",
       "4            37.0     4.0     41      9.756098\n",
       "5             9.0     0.0      9      0.000000\n",
       "All       19713.0  1741.0  21454      8.115037"
      ]
     },
     "metadata": {},
     "output_type": "display_data"
    }
   ],
   "source": [
    "#calculating the default rate\n",
    "num_kids_status[1] = num_kids_status[1].fillna(0) #changing the Nan value for people with 5 kids and debt = 1 to 0 \n",
    "num_kids_status['default_rate'] = num_kids_status[1]/num_kids_status['All']*100\n",
    "\n",
    "display(num_kids_status)"
   ]
  },
  {
   "cell_type": "markdown",
   "metadata": {},
   "source": [
    "There no significant relation that we can obsorve between the number of children to the default rate.\n",
    "We can see that all the people with 5 kids returned their loans on time, but we only have 9 people with 5 kids so it's irrelevant to make any conclusions on this regard. "
   ]
  },
  {
   "cell_type": "markdown",
   "metadata": {},
   "source": [
    "**- Is there a relation between marital status and repaying a loan on time?**"
   ]
  },
  {
   "cell_type": "code",
   "execution_count": 48,
   "metadata": {},
   "outputs": [
    {
     "data": {
      "text/html": [
       "<div>\n",
       "<style scoped>\n",
       "    .dataframe tbody tr th:only-of-type {\n",
       "        vertical-align: middle;\n",
       "    }\n",
       "\n",
       "    .dataframe tbody tr th {\n",
       "        vertical-align: top;\n",
       "    }\n",
       "\n",
       "    .dataframe thead th {\n",
       "        text-align: right;\n",
       "    }\n",
       "</style>\n",
       "<table border=\"1\" class=\"dataframe\">\n",
       "  <thead>\n",
       "    <tr style=\"text-align: right;\">\n",
       "      <th>debt</th>\n",
       "      <th>0</th>\n",
       "      <th>1</th>\n",
       "      <th>All</th>\n",
       "    </tr>\n",
       "    <tr>\n",
       "      <th>family_status</th>\n",
       "      <th></th>\n",
       "      <th></th>\n",
       "      <th></th>\n",
       "    </tr>\n",
       "  </thead>\n",
       "  <tbody>\n",
       "    <tr>\n",
       "      <td>civil partnership</td>\n",
       "      <td>3763</td>\n",
       "      <td>388</td>\n",
       "      <td>4151</td>\n",
       "    </tr>\n",
       "    <tr>\n",
       "      <td>divorced</td>\n",
       "      <td>1110</td>\n",
       "      <td>85</td>\n",
       "      <td>1195</td>\n",
       "    </tr>\n",
       "    <tr>\n",
       "      <td>married</td>\n",
       "      <td>11408</td>\n",
       "      <td>931</td>\n",
       "      <td>12339</td>\n",
       "    </tr>\n",
       "    <tr>\n",
       "      <td>unmarried</td>\n",
       "      <td>2536</td>\n",
       "      <td>274</td>\n",
       "      <td>2810</td>\n",
       "    </tr>\n",
       "    <tr>\n",
       "      <td>widow / widower</td>\n",
       "      <td>896</td>\n",
       "      <td>63</td>\n",
       "      <td>959</td>\n",
       "    </tr>\n",
       "    <tr>\n",
       "      <td>All</td>\n",
       "      <td>19713</td>\n",
       "      <td>1741</td>\n",
       "      <td>21454</td>\n",
       "    </tr>\n",
       "  </tbody>\n",
       "</table>\n",
       "</div>"
      ],
      "text/plain": [
       "debt                   0     1    All\n",
       "family_status                        \n",
       "civil partnership   3763   388   4151\n",
       "divorced            1110    85   1195\n",
       "married            11408   931  12339\n",
       "unmarried           2536   274   2810\n",
       "widow / widower      896    63    959\n",
       "All                19713  1741  21454"
      ]
     },
     "metadata": {},
     "output_type": "display_data"
    }
   ],
   "source": [
    "#creating a pivot table of \"family status\" and \"debt\"\n",
    "family_status = pd.pivot_table(credit_data, index = 'family_status', columns = 'debt', values = 'family_status_id', aggfunc = 'count', margins = True)\n",
    "display(family_status)"
   ]
  },
  {
   "cell_type": "code",
   "execution_count": 49,
   "metadata": {},
   "outputs": [
    {
     "data": {
      "text/html": [
       "<div>\n",
       "<style scoped>\n",
       "    .dataframe tbody tr th:only-of-type {\n",
       "        vertical-align: middle;\n",
       "    }\n",
       "\n",
       "    .dataframe tbody tr th {\n",
       "        vertical-align: top;\n",
       "    }\n",
       "\n",
       "    .dataframe thead th {\n",
       "        text-align: right;\n",
       "    }\n",
       "</style>\n",
       "<table border=\"1\" class=\"dataframe\">\n",
       "  <thead>\n",
       "    <tr style=\"text-align: right;\">\n",
       "      <th>debt</th>\n",
       "      <th>0</th>\n",
       "      <th>1</th>\n",
       "      <th>All</th>\n",
       "      <th>defualt_rate</th>\n",
       "    </tr>\n",
       "    <tr>\n",
       "      <th>family_status</th>\n",
       "      <th></th>\n",
       "      <th></th>\n",
       "      <th></th>\n",
       "      <th></th>\n",
       "    </tr>\n",
       "  </thead>\n",
       "  <tbody>\n",
       "    <tr>\n",
       "      <td>civil partnership</td>\n",
       "      <td>3763</td>\n",
       "      <td>388</td>\n",
       "      <td>4151</td>\n",
       "      <td>9.347145</td>\n",
       "    </tr>\n",
       "    <tr>\n",
       "      <td>divorced</td>\n",
       "      <td>1110</td>\n",
       "      <td>85</td>\n",
       "      <td>1195</td>\n",
       "      <td>7.112971</td>\n",
       "    </tr>\n",
       "    <tr>\n",
       "      <td>married</td>\n",
       "      <td>11408</td>\n",
       "      <td>931</td>\n",
       "      <td>12339</td>\n",
       "      <td>7.545182</td>\n",
       "    </tr>\n",
       "    <tr>\n",
       "      <td>unmarried</td>\n",
       "      <td>2536</td>\n",
       "      <td>274</td>\n",
       "      <td>2810</td>\n",
       "      <td>9.750890</td>\n",
       "    </tr>\n",
       "    <tr>\n",
       "      <td>widow / widower</td>\n",
       "      <td>896</td>\n",
       "      <td>63</td>\n",
       "      <td>959</td>\n",
       "      <td>6.569343</td>\n",
       "    </tr>\n",
       "    <tr>\n",
       "      <td>All</td>\n",
       "      <td>19713</td>\n",
       "      <td>1741</td>\n",
       "      <td>21454</td>\n",
       "      <td>8.115037</td>\n",
       "    </tr>\n",
       "  </tbody>\n",
       "</table>\n",
       "</div>"
      ],
      "text/plain": [
       "debt                   0     1    All  defualt_rate\n",
       "family_status                                      \n",
       "civil partnership   3763   388   4151      9.347145\n",
       "divorced            1110    85   1195      7.112971\n",
       "married            11408   931  12339      7.545182\n",
       "unmarried           2536   274   2810      9.750890\n",
       "widow / widower      896    63    959      6.569343\n",
       "All                19713  1741  21454      8.115037"
      ]
     },
     "metadata": {},
     "output_type": "display_data"
    }
   ],
   "source": [
    "# calculating default rate\n",
    "family_status['defualt_rate'] = family_status[1]/family_status['All']*100\n",
    "display(family_status)"
   ]
  },
  {
   "cell_type": "markdown",
   "metadata": {},
   "source": [
    "We can see widowers have the best defult rate, while unmarried have the worst. \n",
    "We can split to level of confidence: \n",
    "1. most trusted - widow / widower\n",
    "2. medium trusted - married and divorced\n",
    "3. least trusted - civil partnership and unmarried\n"
   ]
  },
  {
   "cell_type": "markdown",
   "metadata": {},
   "source": [
    "**- Is there a relation between income level and repaying a loan on time?**"
   ]
  },
  {
   "cell_type": "code",
   "execution_count": 50,
   "metadata": {},
   "outputs": [
    {
     "data": {
      "text/html": [
       "<div>\n",
       "<style scoped>\n",
       "    .dataframe tbody tr th:only-of-type {\n",
       "        vertical-align: middle;\n",
       "    }\n",
       "\n",
       "    .dataframe tbody tr th {\n",
       "        vertical-align: top;\n",
       "    }\n",
       "\n",
       "    .dataframe thead th {\n",
       "        text-align: right;\n",
       "    }\n",
       "</style>\n",
       "<table border=\"1\" class=\"dataframe\">\n",
       "  <thead>\n",
       "    <tr style=\"text-align: right;\">\n",
       "      <th>debt</th>\n",
       "      <th>0</th>\n",
       "      <th>1</th>\n",
       "      <th>All</th>\n",
       "    </tr>\n",
       "    <tr>\n",
       "      <th>income_category</th>\n",
       "      <th></th>\n",
       "      <th></th>\n",
       "      <th></th>\n",
       "    </tr>\n",
       "  </thead>\n",
       "  <tbody>\n",
       "    <tr>\n",
       "      <td>Above average income</td>\n",
       "      <td>4906</td>\n",
       "      <td>456</td>\n",
       "      <td>5362</td>\n",
       "    </tr>\n",
       "    <tr>\n",
       "      <td>Below average income</td>\n",
       "      <td>4878</td>\n",
       "      <td>485</td>\n",
       "      <td>5363</td>\n",
       "    </tr>\n",
       "    <tr>\n",
       "      <td>High income</td>\n",
       "      <td>4991</td>\n",
       "      <td>373</td>\n",
       "      <td>5364</td>\n",
       "    </tr>\n",
       "    <tr>\n",
       "      <td>Low income</td>\n",
       "      <td>4938</td>\n",
       "      <td>427</td>\n",
       "      <td>5365</td>\n",
       "    </tr>\n",
       "    <tr>\n",
       "      <td>All</td>\n",
       "      <td>19713</td>\n",
       "      <td>1741</td>\n",
       "      <td>21454</td>\n",
       "    </tr>\n",
       "  </tbody>\n",
       "</table>\n",
       "</div>"
      ],
      "text/plain": [
       "debt                      0     1    All\n",
       "income_category                         \n",
       "Above average income   4906   456   5362\n",
       "Below average income   4878   485   5363\n",
       "High income            4991   373   5364\n",
       "Low income             4938   427   5365\n",
       "All                   19713  1741  21454"
      ]
     },
     "metadata": {},
     "output_type": "display_data"
    }
   ],
   "source": [
    "# creating a pivot table\n",
    "income_status = pd.pivot_table(credit_data, index = 'income_category', columns = 'debt', values = 'income_type', aggfunc = 'count', margins = True)\n",
    "display(income_status)"
   ]
  },
  {
   "cell_type": "code",
   "execution_count": 51,
   "metadata": {},
   "outputs": [
    {
     "data": {
      "text/html": [
       "<div>\n",
       "<style scoped>\n",
       "    .dataframe tbody tr th:only-of-type {\n",
       "        vertical-align: middle;\n",
       "    }\n",
       "\n",
       "    .dataframe tbody tr th {\n",
       "        vertical-align: top;\n",
       "    }\n",
       "\n",
       "    .dataframe thead th {\n",
       "        text-align: right;\n",
       "    }\n",
       "</style>\n",
       "<table border=\"1\" class=\"dataframe\">\n",
       "  <thead>\n",
       "    <tr style=\"text-align: right;\">\n",
       "      <th>debt</th>\n",
       "      <th>0</th>\n",
       "      <th>1</th>\n",
       "      <th>All</th>\n",
       "      <th>defualt_rate</th>\n",
       "    </tr>\n",
       "    <tr>\n",
       "      <th>income_category</th>\n",
       "      <th></th>\n",
       "      <th></th>\n",
       "      <th></th>\n",
       "      <th></th>\n",
       "    </tr>\n",
       "  </thead>\n",
       "  <tbody>\n",
       "    <tr>\n",
       "      <td>Above average income</td>\n",
       "      <td>4906</td>\n",
       "      <td>456</td>\n",
       "      <td>5362</td>\n",
       "      <td>8.504289</td>\n",
       "    </tr>\n",
       "    <tr>\n",
       "      <td>Below average income</td>\n",
       "      <td>4878</td>\n",
       "      <td>485</td>\n",
       "      <td>5363</td>\n",
       "      <td>9.043446</td>\n",
       "    </tr>\n",
       "    <tr>\n",
       "      <td>High income</td>\n",
       "      <td>4991</td>\n",
       "      <td>373</td>\n",
       "      <td>5364</td>\n",
       "      <td>6.953766</td>\n",
       "    </tr>\n",
       "    <tr>\n",
       "      <td>Low income</td>\n",
       "      <td>4938</td>\n",
       "      <td>427</td>\n",
       "      <td>5365</td>\n",
       "      <td>7.958993</td>\n",
       "    </tr>\n",
       "    <tr>\n",
       "      <td>All</td>\n",
       "      <td>19713</td>\n",
       "      <td>1741</td>\n",
       "      <td>21454</td>\n",
       "      <td>8.115037</td>\n",
       "    </tr>\n",
       "  </tbody>\n",
       "</table>\n",
       "</div>"
      ],
      "text/plain": [
       "debt                      0     1    All  defualt_rate\n",
       "income_category                                       \n",
       "Above average income   4906   456   5362      8.504289\n",
       "Below average income   4878   485   5363      9.043446\n",
       "High income            4991   373   5364      6.953766\n",
       "Low income             4938   427   5365      7.958993\n",
       "All                   19713  1741  21454      8.115037"
      ]
     },
     "metadata": {},
     "output_type": "display_data"
    }
   ],
   "source": [
    "#calculating the default rate\n",
    "income_status['defualt_rate'] = income_status[1]/income_status['All']*100\n",
    "display(income_status)"
   ]
  },
  {
   "cell_type": "markdown",
   "metadata": {},
   "source": [
    "This data is somehow surpprising, we would have expected to get the be worst default rate for people with low income yet the worst were the people with around the average incomes (below and above average with very similar default rate). \n",
    "Yet, as we would have anticipated, people in the high income group had the best default rate, since money is probably not an issue in this group. "
   ]
  },
  {
   "cell_type": "markdown",
   "metadata": {},
   "source": [
    "**- How do different loan purposes affect on-time repayment of the loan?**"
   ]
  },
  {
   "cell_type": "code",
   "execution_count": 52,
   "metadata": {},
   "outputs": [
    {
     "data": {
      "text/html": [
       "<div>\n",
       "<style scoped>\n",
       "    .dataframe tbody tr th:only-of-type {\n",
       "        vertical-align: middle;\n",
       "    }\n",
       "\n",
       "    .dataframe tbody tr th {\n",
       "        vertical-align: top;\n",
       "    }\n",
       "\n",
       "    .dataframe thead th {\n",
       "        text-align: right;\n",
       "    }\n",
       "</style>\n",
       "<table border=\"1\" class=\"dataframe\">\n",
       "  <thead>\n",
       "    <tr style=\"text-align: right;\">\n",
       "      <th>debt</th>\n",
       "      <th>0</th>\n",
       "      <th>1</th>\n",
       "      <th>All</th>\n",
       "    </tr>\n",
       "    <tr>\n",
       "      <th>purpose</th>\n",
       "      <th></th>\n",
       "      <th></th>\n",
       "      <th></th>\n",
       "    </tr>\n",
       "  </thead>\n",
       "  <tbody>\n",
       "    <tr>\n",
       "      <td>Car</td>\n",
       "      <td>3903</td>\n",
       "      <td>403</td>\n",
       "      <td>4306</td>\n",
       "    </tr>\n",
       "    <tr>\n",
       "      <td>Education</td>\n",
       "      <td>3643</td>\n",
       "      <td>370</td>\n",
       "      <td>4013</td>\n",
       "    </tr>\n",
       "    <tr>\n",
       "      <td>House</td>\n",
       "      <td>10029</td>\n",
       "      <td>782</td>\n",
       "      <td>10811</td>\n",
       "    </tr>\n",
       "    <tr>\n",
       "      <td>Wedding</td>\n",
       "      <td>2138</td>\n",
       "      <td>186</td>\n",
       "      <td>2324</td>\n",
       "    </tr>\n",
       "    <tr>\n",
       "      <td>All</td>\n",
       "      <td>19713</td>\n",
       "      <td>1741</td>\n",
       "      <td>21454</td>\n",
       "    </tr>\n",
       "  </tbody>\n",
       "</table>\n",
       "</div>"
      ],
      "text/plain": [
       "debt           0     1    All\n",
       "purpose                      \n",
       "Car         3903   403   4306\n",
       "Education   3643   370   4013\n",
       "House      10029   782  10811\n",
       "Wedding     2138   186   2324\n",
       "All        19713  1741  21454"
      ]
     },
     "metadata": {},
     "output_type": "display_data"
    }
   ],
   "source": [
    "# creating a pivot table\n",
    "purpose_status = pd.pivot_table(credit_data, index = 'purpose', columns = 'debt', values = 'income_type', aggfunc = 'count', margins = True)\n",
    "display(purpose_status)"
   ]
  },
  {
   "cell_type": "code",
   "execution_count": 53,
   "metadata": {},
   "outputs": [
    {
     "data": {
      "text/html": [
       "<div>\n",
       "<style scoped>\n",
       "    .dataframe tbody tr th:only-of-type {\n",
       "        vertical-align: middle;\n",
       "    }\n",
       "\n",
       "    .dataframe tbody tr th {\n",
       "        vertical-align: top;\n",
       "    }\n",
       "\n",
       "    .dataframe thead th {\n",
       "        text-align: right;\n",
       "    }\n",
       "</style>\n",
       "<table border=\"1\" class=\"dataframe\">\n",
       "  <thead>\n",
       "    <tr style=\"text-align: right;\">\n",
       "      <th>debt</th>\n",
       "      <th>0</th>\n",
       "      <th>1</th>\n",
       "      <th>All</th>\n",
       "      <th>defualt_rate</th>\n",
       "    </tr>\n",
       "    <tr>\n",
       "      <th>purpose</th>\n",
       "      <th></th>\n",
       "      <th></th>\n",
       "      <th></th>\n",
       "      <th></th>\n",
       "    </tr>\n",
       "  </thead>\n",
       "  <tbody>\n",
       "    <tr>\n",
       "      <td>Car</td>\n",
       "      <td>3903</td>\n",
       "      <td>403</td>\n",
       "      <td>4306</td>\n",
       "      <td>9.359034</td>\n",
       "    </tr>\n",
       "    <tr>\n",
       "      <td>Education</td>\n",
       "      <td>3643</td>\n",
       "      <td>370</td>\n",
       "      <td>4013</td>\n",
       "      <td>9.220035</td>\n",
       "    </tr>\n",
       "    <tr>\n",
       "      <td>House</td>\n",
       "      <td>10029</td>\n",
       "      <td>782</td>\n",
       "      <td>10811</td>\n",
       "      <td>7.233373</td>\n",
       "    </tr>\n",
       "    <tr>\n",
       "      <td>Wedding</td>\n",
       "      <td>2138</td>\n",
       "      <td>186</td>\n",
       "      <td>2324</td>\n",
       "      <td>8.003442</td>\n",
       "    </tr>\n",
       "    <tr>\n",
       "      <td>All</td>\n",
       "      <td>19713</td>\n",
       "      <td>1741</td>\n",
       "      <td>21454</td>\n",
       "      <td>8.115037</td>\n",
       "    </tr>\n",
       "  </tbody>\n",
       "</table>\n",
       "</div>"
      ],
      "text/plain": [
       "debt           0     1    All  defualt_rate\n",
       "purpose                                    \n",
       "Car         3903   403   4306      9.359034\n",
       "Education   3643   370   4013      9.220035\n",
       "House      10029   782  10811      7.233373\n",
       "Wedding     2138   186   2324      8.003442\n",
       "All        19713  1741  21454      8.115037"
      ]
     },
     "metadata": {},
     "output_type": "display_data"
    }
   ],
   "source": [
    "#calculating the default rate\n",
    "purpose_status['defualt_rate'] = purpose_status[1]/purpose_status['All']*100\n",
    "display(purpose_status)"
   ]
  },
  {
   "cell_type": "markdown",
   "metadata": {},
   "source": [
    "We can see that Car and education purposes have a higher default rate, \n",
    "while wedding have a lower defualt rate and house has the lowest. \n",
    "This could be due to a higher intrest rate for houase loans, people prefer to pay them on time. \n",
    "Also, education loans are dependent on whether you completed your studies and found a job that can pay back the loan quickly. \n"
   ]
  },
  {
   "cell_type": "markdown",
   "metadata": {},
   "source": [
    "## Conclusions"
   ]
  },
  {
   "cell_type": "markdown",
   "metadata": {},
   "source": [
    "After examining the data I received, performing some preprocessing methods to clean it, such as replacing missing values and unreasonable values, categorizing the data into the groups of interest - kids status, income level and loan purpose I created several pivot tables to answer the intresting questions requested. \n",
    "\n",
    "From the information gathered above we can conclude from the dataset given that the poplution that is more likely to return loans on time will be composed of the following:\n",
    "1. People with no kids.\n",
    "2. If they have kids it dosn't really matter how many. \n",
    "3. People who are widows / widowers, married or divorced are more trustworthy.\n",
    "4. people with high income level (above 31,703 was tested in this dataset).\n",
    "5. People who ask for a loan for the purpose of buying a house or planning a wedding."
   ]
  }
 ],
 "metadata": {
  "ExecuteTimeLog": [
   {
    "duration": 862,
    "start_time": "2021-10-10T09:28:53.724Z"
   },
   {
    "duration": 23,
    "start_time": "2021-10-10T09:43:15.399Z"
   },
   {
    "duration": 31,
    "start_time": "2021-10-10T09:43:28.952Z"
   },
   {
    "duration": 14,
    "start_time": "2021-10-10T09:43:39.274Z"
   },
   {
    "duration": 349,
    "start_time": "2021-10-10T09:45:10.125Z"
   },
   {
    "duration": 311,
    "start_time": "2021-10-10T09:45:19.196Z"
   },
   {
    "duration": 10,
    "start_time": "2021-10-10T09:46:47.862Z"
   },
   {
    "duration": 18,
    "start_time": "2021-10-10T09:47:09.597Z"
   },
   {
    "duration": 19,
    "start_time": "2021-10-10T09:47:14.537Z"
   },
   {
    "duration": 13,
    "start_time": "2021-10-10T09:47:19.416Z"
   },
   {
    "duration": 13,
    "start_time": "2021-10-10T09:47:31.356Z"
   },
   {
    "duration": 5338,
    "start_time": "2021-10-10T09:51:02.454Z"
   },
   {
    "duration": 25,
    "start_time": "2021-10-10T09:51:29.076Z"
   },
   {
    "duration": 13,
    "start_time": "2021-10-10T09:58:36.767Z"
   },
   {
    "duration": 55,
    "start_time": "2021-10-10T10:03:00.329Z"
   },
   {
    "duration": 34,
    "start_time": "2021-10-10T10:03:25.782Z"
   },
   {
    "duration": 34,
    "start_time": "2021-10-10T10:04:47.639Z"
   },
   {
    "duration": 32,
    "start_time": "2021-10-10T10:05:02.056Z"
   },
   {
    "duration": 20,
    "start_time": "2021-10-10T10:09:37.223Z"
   },
   {
    "duration": 277,
    "start_time": "2021-10-10T10:10:27.319Z"
   },
   {
    "duration": 20,
    "start_time": "2021-10-10T10:10:59.313Z"
   },
   {
    "duration": 1541,
    "start_time": "2021-10-10T10:21:52.951Z"
   },
   {
    "duration": 1460,
    "start_time": "2021-10-10T10:22:15.517Z"
   },
   {
    "duration": 709,
    "start_time": "2021-10-10T10:22:42.230Z"
   },
   {
    "duration": 796,
    "start_time": "2021-10-10T11:11:00.285Z"
   },
   {
    "duration": 35,
    "start_time": "2021-10-10T11:11:01.083Z"
   },
   {
    "duration": 48,
    "start_time": "2021-10-10T11:11:01.120Z"
   },
   {
    "duration": 20,
    "start_time": "2021-10-10T11:11:01.170Z"
   },
   {
    "duration": 1532,
    "start_time": "2021-10-10T11:11:16.534Z"
   },
   {
    "duration": 19,
    "start_time": "2021-10-10T11:12:02.285Z"
   },
   {
    "duration": 21,
    "start_time": "2021-10-10T11:21:01.293Z"
   },
   {
    "duration": 13,
    "start_time": "2021-10-10T11:21:15.124Z"
   },
   {
    "duration": 14,
    "start_time": "2021-10-10T11:23:11.721Z"
   },
   {
    "duration": 14,
    "start_time": "2021-10-10T11:24:19.918Z"
   },
   {
    "duration": 22,
    "start_time": "2021-10-10T11:26:33.705Z"
   },
   {
    "duration": 23,
    "start_time": "2021-10-10T11:27:03.097Z"
   },
   {
    "duration": 30,
    "start_time": "2021-10-10T11:27:35.783Z"
   },
   {
    "duration": 31,
    "start_time": "2021-10-10T11:35:03.080Z"
   },
   {
    "duration": 30,
    "start_time": "2021-10-10T11:38:13.821Z"
   },
   {
    "duration": 22,
    "start_time": "2021-10-10T11:38:33.856Z"
   },
   {
    "duration": 24,
    "start_time": "2021-10-10T11:39:13.521Z"
   },
   {
    "duration": 25,
    "start_time": "2021-10-10T11:55:30.850Z"
   },
   {
    "duration": 2776,
    "start_time": "2021-10-10T12:14:51.305Z"
   },
   {
    "duration": 1902,
    "start_time": "2021-10-10T12:15:10.567Z"
   },
   {
    "duration": -54,
    "start_time": "2021-10-10T12:16:04.662Z"
   },
   {
    "duration": 883,
    "start_time": "2021-10-10T12:16:10.682Z"
   },
   {
    "duration": 35,
    "start_time": "2021-10-10T12:16:11.568Z"
   },
   {
    "duration": 29,
    "start_time": "2021-10-10T12:16:11.606Z"
   },
   {
    "duration": 33563,
    "start_time": "2021-10-10T12:16:49.017Z"
   },
   {
    "duration": 438,
    "start_time": "2021-10-10T12:18:35.488Z"
   },
   {
    "duration": 285,
    "start_time": "2021-10-10T12:18:49.353Z"
   },
   {
    "duration": 308,
    "start_time": "2021-10-10T12:19:02.735Z"
   },
   {
    "duration": 106,
    "start_time": "2021-10-10T12:19:48.065Z"
   },
   {
    "duration": 34310,
    "start_time": "2021-10-10T12:20:06.768Z"
   },
   {
    "duration": 34029,
    "start_time": "2021-10-10T12:21:49.496Z"
   },
   {
    "duration": 33864,
    "start_time": "2021-10-10T12:23:05.816Z"
   },
   {
    "duration": 33956,
    "start_time": "2021-10-10T12:24:09.277Z"
   },
   {
    "duration": 33925,
    "start_time": "2021-10-10T12:25:08.811Z"
   },
   {
    "duration": 33930,
    "start_time": "2021-10-10T12:39:14.521Z"
   },
   {
    "duration": 34340,
    "start_time": "2021-10-10T16:36:04.146Z"
   },
   {
    "duration": 854,
    "start_time": "2021-10-12T17:41:11.741Z"
   },
   {
    "duration": 70,
    "start_time": "2021-10-12T17:42:27.180Z"
   },
   {
    "duration": 126,
    "start_time": "2021-10-12T17:42:49.162Z"
   },
   {
    "duration": 14,
    "start_time": "2021-10-12T17:45:49.403Z"
   },
   {
    "duration": 50,
    "start_time": "2021-10-12T17:46:09.010Z"
   },
   {
    "duration": 61,
    "start_time": "2021-10-12T17:46:18.940Z"
   },
   {
    "duration": 7,
    "start_time": "2021-10-12T17:56:17.407Z"
   },
   {
    "duration": 331,
    "start_time": "2021-10-12T17:56:32.723Z"
   },
   {
    "duration": 6,
    "start_time": "2021-10-12T17:56:40.065Z"
   },
   {
    "duration": 319,
    "start_time": "2021-10-12T17:56:53.933Z"
   },
   {
    "duration": 270,
    "start_time": "2021-10-12T17:56:59.837Z"
   },
   {
    "duration": 5,
    "start_time": "2021-10-12T17:57:11.701Z"
   },
   {
    "duration": 12,
    "start_time": "2021-10-12T18:03:05.985Z"
   },
   {
    "duration": 496,
    "start_time": "2021-10-12T18:05:04.513Z"
   },
   {
    "duration": 284,
    "start_time": "2021-10-12T18:08:45.955Z"
   },
   {
    "duration": 35,
    "start_time": "2021-10-12T18:12:58.927Z"
   },
   {
    "duration": 267,
    "start_time": "2021-10-12T18:15:33.575Z"
   },
   {
    "duration": 13,
    "start_time": "2021-10-12T18:15:44.416Z"
   },
   {
    "duration": 26,
    "start_time": "2021-10-12T18:25:36.298Z"
   },
   {
    "duration": 12,
    "start_time": "2021-10-12T18:26:07.592Z"
   },
   {
    "duration": 29,
    "start_time": "2021-10-12T18:26:22.346Z"
   },
   {
    "duration": 15,
    "start_time": "2021-10-12T18:26:29.634Z"
   },
   {
    "duration": 4311,
    "start_time": "2021-10-12T18:32:08.593Z"
   },
   {
    "duration": 317,
    "start_time": "2021-10-12T18:32:43.848Z"
   },
   {
    "duration": 300,
    "start_time": "2021-10-12T18:34:39.557Z"
   },
   {
    "duration": 7,
    "start_time": "2021-10-12T18:34:55.770Z"
   },
   {
    "duration": 13,
    "start_time": "2021-10-12T18:35:00.537Z"
   },
   {
    "duration": 8,
    "start_time": "2021-10-12T18:38:30.879Z"
   },
   {
    "duration": 5,
    "start_time": "2021-10-12T18:38:51.784Z"
   },
   {
    "duration": 11,
    "start_time": "2021-10-12T18:45:09.099Z"
   },
   {
    "duration": 99,
    "start_time": "2021-10-12T18:50:02.317Z"
   },
   {
    "duration": 93,
    "start_time": "2021-10-12T18:50:15.931Z"
   },
   {
    "duration": 93,
    "start_time": "2021-10-12T18:50:25.646Z"
   },
   {
    "duration": 4,
    "start_time": "2021-10-12T18:50:41.388Z"
   },
   {
    "duration": 5,
    "start_time": "2021-10-12T18:51:02.989Z"
   },
   {
    "duration": 13,
    "start_time": "2021-10-12T18:52:34.445Z"
   },
   {
    "duration": 17,
    "start_time": "2021-10-12T18:52:55.492Z"
   },
   {
    "duration": 18,
    "start_time": "2021-10-12T18:53:27.248Z"
   },
   {
    "duration": 7,
    "start_time": "2021-10-12T18:56:24.541Z"
   },
   {
    "duration": 4,
    "start_time": "2021-10-12T19:01:31.235Z"
   },
   {
    "duration": 98,
    "start_time": "2021-10-12T19:09:34.014Z"
   },
   {
    "duration": 775,
    "start_time": "2021-10-12T19:09:55.242Z"
   },
   {
    "duration": 1084,
    "start_time": "2021-10-12T19:16:36.303Z"
   },
   {
    "duration": 5,
    "start_time": "2021-10-12T19:17:30.327Z"
   },
   {
    "duration": -168,
    "start_time": "2021-10-12T19:17:34.532Z"
   },
   {
    "duration": 14,
    "start_time": "2021-10-12T19:18:10.401Z"
   },
   {
    "duration": 280,
    "start_time": "2021-10-12T19:18:21.362Z"
   },
   {
    "duration": 12,
    "start_time": "2021-10-12T19:18:41.808Z"
   },
   {
    "duration": 7,
    "start_time": "2021-10-12T19:24:42.211Z"
   },
   {
    "duration": 11,
    "start_time": "2021-10-12T19:24:53.576Z"
   },
   {
    "duration": 1567,
    "start_time": "2021-10-12T19:25:19.601Z"
   },
   {
    "duration": 7,
    "start_time": "2021-10-12T19:26:41.992Z"
   },
   {
    "duration": 1860,
    "start_time": "2021-10-12T19:26:45.747Z"
   },
   {
    "duration": 7,
    "start_time": "2021-10-12T19:27:06.651Z"
   },
   {
    "duration": 1413,
    "start_time": "2021-10-12T19:27:09.312Z"
   },
   {
    "duration": 87,
    "start_time": "2021-10-12T19:28:59.202Z"
   },
   {
    "duration": 7,
    "start_time": "2021-10-12T19:29:20.310Z"
   },
   {
    "duration": 880,
    "start_time": "2021-10-12T19:32:14.580Z"
   },
   {
    "duration": 16,
    "start_time": "2021-10-12T19:32:15.463Z"
   },
   {
    "duration": 61,
    "start_time": "2021-10-12T19:32:15.481Z"
   },
   {
    "duration": 6,
    "start_time": "2021-10-12T19:32:15.544Z"
   },
   {
    "duration": 12,
    "start_time": "2021-10-12T19:32:15.568Z"
   },
   {
    "duration": 36,
    "start_time": "2021-10-12T19:32:15.583Z"
   },
   {
    "duration": 14,
    "start_time": "2021-10-12T19:32:15.621Z"
   },
   {
    "duration": 12,
    "start_time": "2021-10-12T19:32:15.669Z"
   },
   {
    "duration": 7,
    "start_time": "2021-10-12T19:32:15.684Z"
   },
   {
    "duration": 15,
    "start_time": "2021-10-12T19:32:15.693Z"
   },
   {
    "duration": 5,
    "start_time": "2021-10-12T19:32:15.710Z"
   },
   {
    "duration": 63,
    "start_time": "2021-10-12T19:32:15.718Z"
   },
   {
    "duration": 11,
    "start_time": "2021-10-12T19:32:15.783Z"
   },
   {
    "duration": 4,
    "start_time": "2021-10-12T19:32:15.796Z"
   },
   {
    "duration": 15,
    "start_time": "2021-10-12T19:32:15.803Z"
   },
   {
    "duration": 49,
    "start_time": "2021-10-12T19:32:15.820Z"
   },
   {
    "duration": 10,
    "start_time": "2021-10-12T19:32:15.871Z"
   },
   {
    "duration": 4,
    "start_time": "2021-10-12T19:32:15.884Z"
   },
   {
    "duration": 835,
    "start_time": "2021-10-12T19:32:15.891Z"
   },
   {
    "duration": 5,
    "start_time": "2021-10-12T19:35:39.431Z"
   },
   {
    "duration": 1056,
    "start_time": "2021-10-12T19:35:47.773Z"
   },
   {
    "duration": 706,
    "start_time": "2021-10-12T19:36:26.836Z"
   },
   {
    "duration": 3,
    "start_time": "2021-10-12T19:37:05.876Z"
   },
   {
    "duration": 583,
    "start_time": "2021-10-12T19:37:08.293Z"
   },
   {
    "duration": 4,
    "start_time": "2021-10-12T19:37:26.981Z"
   },
   {
    "duration": 527,
    "start_time": "2021-10-12T19:37:30.860Z"
   },
   {
    "duration": 4,
    "start_time": "2021-10-12T19:37:39.589Z"
   },
   {
    "duration": 6,
    "start_time": "2021-10-12T19:37:44.053Z"
   },
   {
    "duration": 4,
    "start_time": "2021-10-12T19:37:46.508Z"
   },
   {
    "duration": 7,
    "start_time": "2021-10-12T19:39:23.363Z"
   },
   {
    "duration": 19,
    "start_time": "2021-10-12T19:39:23.373Z"
   },
   {
    "duration": 3,
    "start_time": "2021-10-12T19:39:30.228Z"
   },
   {
    "duration": 3,
    "start_time": "2021-10-12T19:39:32.719Z"
   },
   {
    "duration": 12,
    "start_time": "2021-10-12T19:39:41.127Z"
   },
   {
    "duration": 4,
    "start_time": "2021-10-12T19:39:50.453Z"
   },
   {
    "duration": 6,
    "start_time": "2021-10-12T19:39:52.796Z"
   },
   {
    "duration": 7,
    "start_time": "2021-10-12T19:41:13.933Z"
   },
   {
    "duration": 4,
    "start_time": "2021-10-12T19:41:25.556Z"
   },
   {
    "duration": 6,
    "start_time": "2021-10-12T19:41:35.429Z"
   },
   {
    "duration": 348,
    "start_time": "2021-10-12T19:42:21.901Z"
   },
   {
    "duration": 801,
    "start_time": "2021-10-12T19:42:38.114Z"
   },
   {
    "duration": 15,
    "start_time": "2021-10-12T19:42:38.919Z"
   },
   {
    "duration": 73,
    "start_time": "2021-10-12T19:42:38.937Z"
   },
   {
    "duration": 5,
    "start_time": "2021-10-12T19:42:39.013Z"
   },
   {
    "duration": 12,
    "start_time": "2021-10-12T19:42:39.021Z"
   },
   {
    "duration": 64,
    "start_time": "2021-10-12T19:42:39.035Z"
   },
   {
    "duration": 14,
    "start_time": "2021-10-12T19:42:39.101Z"
   },
   {
    "duration": 11,
    "start_time": "2021-10-12T19:42:39.119Z"
   },
   {
    "duration": 40,
    "start_time": "2021-10-12T19:42:39.133Z"
   },
   {
    "duration": 17,
    "start_time": "2021-10-12T19:42:39.175Z"
   },
   {
    "duration": 5,
    "start_time": "2021-10-12T19:42:39.195Z"
   },
   {
    "duration": 25,
    "start_time": "2021-10-12T19:42:39.202Z"
   },
   {
    "duration": 43,
    "start_time": "2021-10-12T19:42:39.230Z"
   },
   {
    "duration": 5,
    "start_time": "2021-10-12T19:42:39.275Z"
   },
   {
    "duration": 17,
    "start_time": "2021-10-12T19:42:39.282Z"
   },
   {
    "duration": 18,
    "start_time": "2021-10-12T19:42:39.302Z"
   },
   {
    "duration": 8,
    "start_time": "2021-10-12T19:42:39.323Z"
   },
   {
    "duration": 37,
    "start_time": "2021-10-12T19:42:39.333Z"
   },
   {
    "duration": 815,
    "start_time": "2021-10-12T19:42:39.372Z"
   },
   {
    "duration": 2746,
    "start_time": "2021-10-12T19:42:40.190Z"
   },
   {
    "duration": 8,
    "start_time": "2021-10-12T19:43:31.537Z"
   },
   {
    "duration": 11,
    "start_time": "2021-10-12T19:43:57.553Z"
   },
   {
    "duration": 110,
    "start_time": "2021-10-13T08:38:01.478Z"
   },
   {
    "duration": 109,
    "start_time": "2021-10-13T08:38:12.596Z"
   },
   {
    "duration": 4,
    "start_time": "2021-10-13T08:38:23.042Z"
   },
   {
    "duration": 2110,
    "start_time": "2021-10-13T08:39:25.734Z"
   },
   {
    "duration": 787,
    "start_time": "2021-10-13T08:39:44.797Z"
   },
   {
    "duration": 16,
    "start_time": "2021-10-13T08:39:45.587Z"
   },
   {
    "duration": 86,
    "start_time": "2021-10-13T08:39:45.607Z"
   },
   {
    "duration": 6,
    "start_time": "2021-10-13T08:39:45.695Z"
   },
   {
    "duration": 25,
    "start_time": "2021-10-13T08:39:45.703Z"
   },
   {
    "duration": 43,
    "start_time": "2021-10-13T08:39:45.730Z"
   },
   {
    "duration": 13,
    "start_time": "2021-10-13T08:39:45.775Z"
   },
   {
    "duration": 27,
    "start_time": "2021-10-13T08:39:45.790Z"
   },
   {
    "duration": 605,
    "start_time": "2021-10-13T08:39:45.821Z"
   },
   {
    "duration": 610,
    "start_time": "2021-10-13T08:39:46.429Z"
   },
   {
    "duration": 232,
    "start_time": "2021-10-13T08:39:47.041Z"
   },
   {
    "duration": 412,
    "start_time": "2021-10-13T08:39:47.275Z"
   },
   {
    "duration": 320,
    "start_time": "2021-10-13T08:39:47.689Z"
   },
   {
    "duration": 438,
    "start_time": "2021-10-13T08:39:48.012Z"
   },
   {
    "duration": 377,
    "start_time": "2021-10-13T08:39:48.453Z"
   },
   {
    "duration": 59,
    "start_time": "2021-10-13T08:39:48.832Z"
   },
   {
    "duration": 19,
    "start_time": "2021-10-13T08:39:48.894Z"
   },
   {
    "duration": 9,
    "start_time": "2021-10-13T08:39:48.915Z"
   },
   {
    "duration": 798,
    "start_time": "2021-10-13T08:39:48.926Z"
   },
   {
    "duration": 2674,
    "start_time": "2021-10-13T08:39:49.726Z"
   },
   {
    "duration": 11,
    "start_time": "2021-10-13T08:39:52.403Z"
   },
   {
    "duration": 127,
    "start_time": "2021-10-13T08:39:52.417Z"
   },
   {
    "duration": 20,
    "start_time": "2021-10-13T08:39:52.546Z"
   },
   {
    "duration": 8,
    "start_time": "2021-10-13T08:40:20.954Z"
   },
   {
    "duration": 728,
    "start_time": "2021-10-13T08:44:44.285Z"
   },
   {
    "duration": 331,
    "start_time": "2021-10-13T08:44:56.787Z"
   },
   {
    "duration": 299,
    "start_time": "2021-10-13T08:45:23.974Z"
   },
   {
    "duration": 17,
    "start_time": "2021-10-13T08:45:47.677Z"
   },
   {
    "duration": 315,
    "start_time": "2021-10-13T08:46:04.526Z"
   },
   {
    "duration": 345,
    "start_time": "2021-10-13T08:46:25.119Z"
   },
   {
    "duration": 358,
    "start_time": "2021-10-13T08:46:33.759Z"
   },
   {
    "duration": 15,
    "start_time": "2021-10-13T08:46:44.670Z"
   },
   {
    "duration": 20,
    "start_time": "2021-10-13T08:46:56.685Z"
   },
   {
    "duration": 18,
    "start_time": "2021-10-13T08:47:41.254Z"
   },
   {
    "duration": 347,
    "start_time": "2021-10-13T08:48:39.335Z"
   },
   {
    "duration": 16,
    "start_time": "2021-10-13T08:48:56.348Z"
   },
   {
    "duration": 20,
    "start_time": "2021-10-13T08:49:00.070Z"
   },
   {
    "duration": 18,
    "start_time": "2021-10-13T08:49:09.138Z"
   },
   {
    "duration": 25,
    "start_time": "2021-10-13T08:49:41.807Z"
   },
   {
    "duration": 25,
    "start_time": "2021-10-13T08:54:59.023Z"
   },
   {
    "duration": 4,
    "start_time": "2021-10-13T08:55:27.326Z"
   },
   {
    "duration": 10,
    "start_time": "2021-10-13T08:55:29.118Z"
   },
   {
    "duration": 9,
    "start_time": "2021-10-13T08:55:31.168Z"
   },
   {
    "duration": 18,
    "start_time": "2021-10-13T08:55:34.071Z"
   },
   {
    "duration": 4,
    "start_time": "2021-10-13T08:55:53.261Z"
   },
   {
    "duration": 4,
    "start_time": "2021-10-13T08:55:53.686Z"
   },
   {
    "duration": 29,
    "start_time": "2021-10-13T08:55:58.719Z"
   },
   {
    "duration": 541,
    "start_time": "2021-10-13T08:56:29.088Z"
   },
   {
    "duration": 59,
    "start_time": "2021-10-13T08:56:35.695Z"
   },
   {
    "duration": 337,
    "start_time": "2021-10-13T08:57:33.407Z"
   },
   {
    "duration": 8166,
    "start_time": "2021-10-13T08:57:38.735Z"
   },
   {
    "duration": 12,
    "start_time": "2021-10-13T08:58:28.300Z"
   },
   {
    "duration": 70,
    "start_time": "2021-10-13T09:02:06.575Z"
   },
   {
    "duration": 816,
    "start_time": "2021-10-13T09:03:54.614Z"
   },
   {
    "duration": 9,
    "start_time": "2021-10-13T09:04:03.382Z"
   },
   {
    "duration": 5,
    "start_time": "2021-10-13T09:04:17.535Z"
   },
   {
    "duration": 6,
    "start_time": "2021-10-13T09:04:32.647Z"
   },
   {
    "duration": 11,
    "start_time": "2021-10-13T09:04:49.336Z"
   },
   {
    "duration": 68,
    "start_time": "2021-10-13T09:04:53.163Z"
   },
   {
    "duration": 11,
    "start_time": "2021-10-13T09:04:55.540Z"
   },
   {
    "duration": 72,
    "start_time": "2021-10-13T09:06:05.166Z"
   },
   {
    "duration": 14,
    "start_time": "2021-10-13T09:07:31.809Z"
   },
   {
    "duration": 67,
    "start_time": "2021-10-13T09:08:47.234Z"
   },
   {
    "duration": 20,
    "start_time": "2021-10-13T09:09:20.217Z"
   },
   {
    "duration": 985,
    "start_time": "2021-10-13T09:09:50.265Z"
   },
   {
    "duration": 16,
    "start_time": "2021-10-13T09:09:51.253Z"
   },
   {
    "duration": 47,
    "start_time": "2021-10-13T09:09:51.272Z"
   },
   {
    "duration": 5,
    "start_time": "2021-10-13T09:09:51.322Z"
   },
   {
    "duration": 39,
    "start_time": "2021-10-13T09:09:51.330Z"
   },
   {
    "duration": 34,
    "start_time": "2021-10-13T09:09:51.371Z"
   },
   {
    "duration": 12,
    "start_time": "2021-10-13T09:09:51.408Z"
   },
   {
    "duration": 44,
    "start_time": "2021-10-13T09:09:51.423Z"
   },
   {
    "duration": 7,
    "start_time": "2021-10-13T09:09:51.471Z"
   },
   {
    "duration": 15,
    "start_time": "2021-10-13T09:09:51.481Z"
   },
   {
    "duration": 4,
    "start_time": "2021-10-13T09:09:51.499Z"
   },
   {
    "duration": 25,
    "start_time": "2021-10-13T09:09:51.505Z"
   },
   {
    "duration": 37,
    "start_time": "2021-10-13T09:09:51.533Z"
   },
   {
    "duration": 4,
    "start_time": "2021-10-13T09:09:51.572Z"
   },
   {
    "duration": 20,
    "start_time": "2021-10-13T09:09:51.579Z"
   },
   {
    "duration": 21,
    "start_time": "2021-10-13T09:09:51.602Z"
   },
   {
    "duration": 39,
    "start_time": "2021-10-13T09:09:51.625Z"
   },
   {
    "duration": 4,
    "start_time": "2021-10-13T09:09:51.666Z"
   },
   {
    "duration": 809,
    "start_time": "2021-10-13T09:09:51.672Z"
   },
   {
    "duration": 2525,
    "start_time": "2021-10-13T09:09:52.484Z"
   },
   {
    "duration": 9,
    "start_time": "2021-10-13T09:09:55.012Z"
   },
   {
    "duration": 6,
    "start_time": "2021-10-13T09:09:55.024Z"
   },
   {
    "duration": 34,
    "start_time": "2021-10-13T09:09:55.033Z"
   },
   {
    "duration": 18,
    "start_time": "2021-10-13T09:09:55.069Z"
   },
   {
    "duration": 21,
    "start_time": "2021-10-13T09:09:55.089Z"
   },
   {
    "duration": 83,
    "start_time": "2021-10-13T09:09:55.112Z"
   },
   {
    "duration": 18,
    "start_time": "2021-10-13T09:09:55.199Z"
   },
   {
    "duration": 82,
    "start_time": "2021-10-13T09:09:55.219Z"
   },
   {
    "duration": 7,
    "start_time": "2021-10-13T09:09:55.303Z"
   },
   {
    "duration": 88,
    "start_time": "2021-10-13T09:09:55.312Z"
   },
   {
    "duration": 13,
    "start_time": "2021-10-13T09:09:55.403Z"
   },
   {
    "duration": 30,
    "start_time": "2021-10-13T09:13:08.943Z"
   },
   {
    "duration": 8,
    "start_time": "2021-10-13T09:13:18.466Z"
   },
   {
    "duration": 501,
    "start_time": "2021-10-13T09:15:57.304Z"
   },
   {
    "duration": 15,
    "start_time": "2021-10-13T09:16:04.832Z"
   },
   {
    "duration": 5,
    "start_time": "2021-10-13T09:21:40.641Z"
   },
   {
    "duration": 15,
    "start_time": "2021-10-13T09:21:59.482Z"
   },
   {
    "duration": 340,
    "start_time": "2021-10-13T09:22:06.267Z"
   },
   {
    "duration": 14,
    "start_time": "2021-10-13T09:22:38.033Z"
   },
   {
    "duration": 59,
    "start_time": "2021-10-13T09:26:25.306Z"
   },
   {
    "duration": 15,
    "start_time": "2021-10-13T09:27:12.548Z"
   },
   {
    "duration": 6,
    "start_time": "2021-10-13T09:28:16.506Z"
   },
   {
    "duration": 12,
    "start_time": "2021-10-13T09:28:25.097Z"
   },
   {
    "duration": 72,
    "start_time": "2021-10-13T09:34:27.433Z"
   },
   {
    "duration": 12,
    "start_time": "2021-10-13T09:35:22.193Z"
   },
   {
    "duration": 70,
    "start_time": "2021-10-13T09:40:12.723Z"
   },
   {
    "duration": 12,
    "start_time": "2021-10-13T09:40:51.011Z"
   },
   {
    "duration": 799,
    "start_time": "2021-10-13T10:07:49.177Z"
   },
   {
    "duration": 16,
    "start_time": "2021-10-13T10:07:49.979Z"
   },
   {
    "duration": 68,
    "start_time": "2021-10-13T10:07:49.999Z"
   },
   {
    "duration": 6,
    "start_time": "2021-10-13T10:07:50.070Z"
   },
   {
    "duration": 36,
    "start_time": "2021-10-13T10:07:50.078Z"
   },
   {
    "duration": 46,
    "start_time": "2021-10-13T10:07:50.116Z"
   },
   {
    "duration": 13,
    "start_time": "2021-10-13T10:07:50.165Z"
   },
   {
    "duration": 19,
    "start_time": "2021-10-13T10:07:50.182Z"
   },
   {
    "duration": 7,
    "start_time": "2021-10-13T10:07:50.204Z"
   },
   {
    "duration": 17,
    "start_time": "2021-10-13T10:07:50.214Z"
   },
   {
    "duration": 5,
    "start_time": "2021-10-13T10:07:50.263Z"
   },
   {
    "duration": 25,
    "start_time": "2021-10-13T10:07:50.272Z"
   },
   {
    "duration": 12,
    "start_time": "2021-10-13T10:07:50.299Z"
   },
   {
    "duration": 5,
    "start_time": "2021-10-13T10:07:50.314Z"
   },
   {
    "duration": 56,
    "start_time": "2021-10-13T10:07:50.321Z"
   },
   {
    "duration": 23,
    "start_time": "2021-10-13T10:07:50.380Z"
   },
   {
    "duration": 12,
    "start_time": "2021-10-13T10:07:50.405Z"
   },
   {
    "duration": 4,
    "start_time": "2021-10-13T10:07:50.419Z"
   },
   {
    "duration": 759,
    "start_time": "2021-10-13T10:07:50.425Z"
   },
   {
    "duration": 2554,
    "start_time": "2021-10-13T10:07:51.186Z"
   },
   {
    "duration": 10,
    "start_time": "2021-10-13T10:07:53.743Z"
   },
   {
    "duration": 4,
    "start_time": "2021-10-13T10:07:53.762Z"
   },
   {
    "duration": 11,
    "start_time": "2021-10-13T10:07:53.772Z"
   },
   {
    "duration": 11,
    "start_time": "2021-10-13T10:07:53.786Z"
   },
   {
    "duration": 25,
    "start_time": "2021-10-13T10:07:53.800Z"
   },
   {
    "duration": 97,
    "start_time": "2021-10-13T10:07:53.827Z"
   },
   {
    "duration": 17,
    "start_time": "2021-10-13T10:07:53.927Z"
   },
   {
    "duration": 70,
    "start_time": "2021-10-13T10:07:53.961Z"
   },
   {
    "duration": 7,
    "start_time": "2021-10-13T10:07:54.033Z"
   },
   {
    "duration": 89,
    "start_time": "2021-10-13T10:07:54.042Z"
   },
   {
    "duration": 30,
    "start_time": "2021-10-13T10:07:54.133Z"
   },
   {
    "duration": 61,
    "start_time": "2021-10-13T10:07:54.166Z"
   },
   {
    "duration": 35,
    "start_time": "2021-10-13T10:07:54.229Z"
   },
   {
    "duration": 67,
    "start_time": "2021-10-13T10:07:54.267Z"
   },
   {
    "duration": 38,
    "start_time": "2021-10-13T10:07:54.336Z"
   },
   {
    "duration": 86,
    "start_time": "2021-10-13T10:07:54.376Z"
   },
   {
    "duration": 13,
    "start_time": "2021-10-13T10:07:54.464Z"
   },
   {
    "duration": 5,
    "start_time": "2021-10-13T11:23:59.165Z"
   },
   {
    "duration": 520,
    "start_time": "2021-10-13T11:28:42.117Z"
   },
   {
    "duration": 15,
    "start_time": "2021-10-13T11:28:49.365Z"
   },
   {
    "duration": 38,
    "start_time": "2021-10-13T11:29:04.390Z"
   },
   {
    "duration": 61,
    "start_time": "2021-10-13T11:29:19.357Z"
   },
   {
    "duration": 34,
    "start_time": "2021-10-13T11:29:52.021Z"
   },
   {
    "duration": 45,
    "start_time": "2021-10-13T12:45:34.705Z"
   },
   {
    "duration": 24,
    "start_time": "2021-10-13T12:45:40.968Z"
   },
   {
    "duration": 68,
    "start_time": "2021-10-13T12:45:45.360Z"
   },
   {
    "duration": 22,
    "start_time": "2021-10-13T12:46:04.767Z"
   },
   {
    "duration": 49,
    "start_time": "2021-10-13T12:46:14.186Z"
   },
   {
    "duration": 36,
    "start_time": "2021-10-13T12:47:52.881Z"
   },
   {
    "duration": 24,
    "start_time": "2021-10-13T12:48:43.520Z"
   },
   {
    "duration": 870,
    "start_time": "2021-10-13T12:48:54.837Z"
   },
   {
    "duration": 15,
    "start_time": "2021-10-13T12:48:55.709Z"
   },
   {
    "duration": 67,
    "start_time": "2021-10-13T12:48:55.727Z"
   },
   {
    "duration": 5,
    "start_time": "2021-10-13T12:48:55.797Z"
   },
   {
    "duration": 16,
    "start_time": "2021-10-13T12:48:55.805Z"
   },
   {
    "duration": 55,
    "start_time": "2021-10-13T12:48:55.824Z"
   },
   {
    "duration": 12,
    "start_time": "2021-10-13T12:48:55.882Z"
   },
   {
    "duration": 13,
    "start_time": "2021-10-13T12:48:55.897Z"
   },
   {
    "duration": 8,
    "start_time": "2021-10-13T12:48:55.915Z"
   },
   {
    "duration": 42,
    "start_time": "2021-10-13T12:48:55.926Z"
   },
   {
    "duration": 4,
    "start_time": "2021-10-13T12:48:55.971Z"
   },
   {
    "duration": 29,
    "start_time": "2021-10-13T12:48:55.978Z"
   },
   {
    "duration": 75,
    "start_time": "2021-10-13T12:48:56.009Z"
   },
   {
    "duration": 31,
    "start_time": "2021-10-13T12:48:56.086Z"
   },
   {
    "duration": 11,
    "start_time": "2021-10-13T12:48:56.120Z"
   },
   {
    "duration": 29,
    "start_time": "2021-10-13T12:48:56.134Z"
   },
   {
    "duration": 19,
    "start_time": "2021-10-13T12:48:56.165Z"
   },
   {
    "duration": 33,
    "start_time": "2021-10-13T12:48:56.187Z"
   },
   {
    "duration": 20,
    "start_time": "2021-10-13T12:48:56.223Z"
   },
   {
    "duration": 17,
    "start_time": "2021-10-13T12:48:56.245Z"
   },
   {
    "duration": 820,
    "start_time": "2021-10-13T12:48:56.265Z"
   },
   {
    "duration": 2791,
    "start_time": "2021-10-13T12:48:57.088Z"
   },
   {
    "duration": 11,
    "start_time": "2021-10-13T12:48:59.881Z"
   },
   {
    "duration": 7,
    "start_time": "2021-10-13T12:48:59.895Z"
   },
   {
    "duration": 12,
    "start_time": "2021-10-13T12:48:59.904Z"
   },
   {
    "duration": 13,
    "start_time": "2021-10-13T12:48:59.918Z"
   },
   {
    "duration": 43,
    "start_time": "2021-10-13T12:48:59.936Z"
   },
   {
    "duration": 89,
    "start_time": "2021-10-13T12:48:59.983Z"
   },
   {
    "duration": 18,
    "start_time": "2021-10-13T12:49:00.074Z"
   },
   {
    "duration": 91,
    "start_time": "2021-10-13T12:49:00.094Z"
   },
   {
    "duration": 6,
    "start_time": "2021-10-13T12:49:00.188Z"
   },
   {
    "duration": 86,
    "start_time": "2021-10-13T12:49:00.196Z"
   },
   {
    "duration": 14,
    "start_time": "2021-10-13T12:49:00.285Z"
   },
   {
    "duration": 82,
    "start_time": "2021-10-13T12:49:00.301Z"
   },
   {
    "duration": 13,
    "start_time": "2021-10-13T12:49:00.386Z"
   },
   {
    "duration": 96,
    "start_time": "2021-10-13T12:49:00.401Z"
   },
   {
    "duration": 14,
    "start_time": "2021-10-13T12:49:00.500Z"
   },
   {
    "duration": 88,
    "start_time": "2021-10-13T12:49:00.516Z"
   },
   {
    "duration": 12,
    "start_time": "2021-10-13T12:49:00.606Z"
   },
   {
    "duration": 50,
    "start_time": "2021-10-13T12:49:50.432Z"
   },
   {
    "duration": 473,
    "start_time": "2021-10-13T12:50:18.129Z"
   },
   {
    "duration": 36,
    "start_time": "2021-10-13T12:50:25.575Z"
   },
   {
    "duration": 799,
    "start_time": "2021-10-13T17:49:51.392Z"
   },
   {
    "duration": 15,
    "start_time": "2021-10-13T17:49:52.195Z"
   },
   {
    "duration": 77,
    "start_time": "2021-10-13T17:49:52.216Z"
   },
   {
    "duration": 6,
    "start_time": "2021-10-13T17:49:52.296Z"
   },
   {
    "duration": 13,
    "start_time": "2021-10-13T17:49:52.304Z"
   },
   {
    "duration": 58,
    "start_time": "2021-10-13T17:49:52.319Z"
   },
   {
    "duration": 12,
    "start_time": "2021-10-13T17:49:52.380Z"
   },
   {
    "duration": 13,
    "start_time": "2021-10-13T17:49:52.396Z"
   },
   {
    "duration": 6,
    "start_time": "2021-10-13T17:49:52.412Z"
   },
   {
    "duration": 47,
    "start_time": "2021-10-13T17:49:52.420Z"
   },
   {
    "duration": 5,
    "start_time": "2021-10-13T17:49:52.470Z"
   },
   {
    "duration": 25,
    "start_time": "2021-10-13T17:49:52.478Z"
   },
   {
    "duration": 73,
    "start_time": "2021-10-13T17:49:52.506Z"
   },
   {
    "duration": 31,
    "start_time": "2021-10-13T17:49:52.581Z"
   },
   {
    "duration": 65,
    "start_time": "2021-10-13T17:49:52.614Z"
   },
   {
    "duration": 10,
    "start_time": "2021-10-13T17:49:52.681Z"
   },
   {
    "duration": 4,
    "start_time": "2021-10-13T17:49:52.694Z"
   },
   {
    "duration": 19,
    "start_time": "2021-10-13T17:49:52.700Z"
   },
   {
    "duration": 51,
    "start_time": "2021-10-13T17:49:52.722Z"
   },
   {
    "duration": 8,
    "start_time": "2021-10-13T17:49:52.775Z"
   },
   {
    "duration": 4,
    "start_time": "2021-10-13T17:49:52.785Z"
   },
   {
    "duration": 818,
    "start_time": "2021-10-13T17:49:52.792Z"
   },
   {
    "duration": 2555,
    "start_time": "2021-10-13T17:49:53.612Z"
   },
   {
    "duration": 10,
    "start_time": "2021-10-13T17:49:56.169Z"
   },
   {
    "duration": 9,
    "start_time": "2021-10-13T17:49:56.182Z"
   },
   {
    "duration": 12,
    "start_time": "2021-10-13T17:49:56.196Z"
   },
   {
    "duration": 12,
    "start_time": "2021-10-13T17:49:56.210Z"
   },
   {
    "duration": 55,
    "start_time": "2021-10-13T17:49:56.224Z"
   },
   {
    "duration": 67,
    "start_time": "2021-10-13T17:49:56.281Z"
   },
   {
    "duration": 30,
    "start_time": "2021-10-13T17:49:56.350Z"
   },
   {
    "duration": 85,
    "start_time": "2021-10-13T17:49:56.383Z"
   },
   {
    "duration": 6,
    "start_time": "2021-10-13T17:49:56.471Z"
   },
   {
    "duration": 72,
    "start_time": "2021-10-13T17:49:56.479Z"
   },
   {
    "duration": 16,
    "start_time": "2021-10-13T17:49:56.567Z"
   },
   {
    "duration": 83,
    "start_time": "2021-10-13T17:49:56.585Z"
   },
   {
    "duration": 12,
    "start_time": "2021-10-13T17:49:56.671Z"
   },
   {
    "duration": 86,
    "start_time": "2021-10-13T17:49:56.686Z"
   },
   {
    "duration": 12,
    "start_time": "2021-10-13T17:49:56.774Z"
   },
   {
    "duration": 86,
    "start_time": "2021-10-13T17:49:56.789Z"
   },
   {
    "duration": 12,
    "start_time": "2021-10-13T17:49:56.877Z"
   },
   {
    "duration": 930,
    "start_time": "2021-10-13T17:58:03.693Z"
   },
   {
    "duration": 790,
    "start_time": "2021-10-13T17:58:12.221Z"
   },
   {
    "duration": 15,
    "start_time": "2021-10-13T17:58:13.014Z"
   },
   {
    "duration": 68,
    "start_time": "2021-10-13T17:58:13.031Z"
   },
   {
    "duration": 6,
    "start_time": "2021-10-13T17:58:13.101Z"
   },
   {
    "duration": 13,
    "start_time": "2021-10-13T17:58:13.110Z"
   },
   {
    "duration": 62,
    "start_time": "2021-10-13T17:58:13.126Z"
   },
   {
    "duration": 15,
    "start_time": "2021-10-13T17:58:13.191Z"
   },
   {
    "duration": 13,
    "start_time": "2021-10-13T17:58:13.212Z"
   },
   {
    "duration": 42,
    "start_time": "2021-10-13T17:58:13.229Z"
   },
   {
    "duration": 17,
    "start_time": "2021-10-13T17:58:13.273Z"
   },
   {
    "duration": 5,
    "start_time": "2021-10-13T17:58:13.292Z"
   },
   {
    "duration": 28,
    "start_time": "2021-10-13T17:58:13.299Z"
   },
   {
    "duration": 80,
    "start_time": "2021-10-13T17:58:13.330Z"
   },
   {
    "duration": 33,
    "start_time": "2021-10-13T17:58:13.412Z"
   },
   {
    "duration": 386,
    "start_time": "2021-10-13T17:58:13.468Z"
   },
   {
    "duration": 106,
    "start_time": "2021-10-13T17:58:13.751Z"
   },
   {
    "duration": 105,
    "start_time": "2021-10-13T17:58:13.753Z"
   },
   {
    "duration": 106,
    "start_time": "2021-10-13T17:58:13.754Z"
   },
   {
    "duration": 104,
    "start_time": "2021-10-13T17:58:13.757Z"
   },
   {
    "duration": 105,
    "start_time": "2021-10-13T17:58:13.758Z"
   },
   {
    "duration": 96,
    "start_time": "2021-10-13T17:58:13.768Z"
   },
   {
    "duration": 95,
    "start_time": "2021-10-13T17:58:13.770Z"
   },
   {
    "duration": 96,
    "start_time": "2021-10-13T17:58:13.771Z"
   },
   {
    "duration": 95,
    "start_time": "2021-10-13T17:58:13.773Z"
   },
   {
    "duration": 94,
    "start_time": "2021-10-13T17:58:13.775Z"
   },
   {
    "duration": 93,
    "start_time": "2021-10-13T17:58:13.777Z"
   },
   {
    "duration": 91,
    "start_time": "2021-10-13T17:58:13.781Z"
   },
   {
    "duration": 87,
    "start_time": "2021-10-13T17:58:13.786Z"
   },
   {
    "duration": 86,
    "start_time": "2021-10-13T17:58:13.788Z"
   },
   {
    "duration": 85,
    "start_time": "2021-10-13T17:58:13.790Z"
   },
   {
    "duration": 85,
    "start_time": "2021-10-13T17:58:13.792Z"
   },
   {
    "duration": 84,
    "start_time": "2021-10-13T17:58:13.794Z"
   },
   {
    "duration": 83,
    "start_time": "2021-10-13T17:58:13.796Z"
   },
   {
    "duration": 83,
    "start_time": "2021-10-13T17:58:13.798Z"
   },
   {
    "duration": 79,
    "start_time": "2021-10-13T17:58:13.803Z"
   },
   {
    "duration": 79,
    "start_time": "2021-10-13T17:58:13.804Z"
   },
   {
    "duration": 78,
    "start_time": "2021-10-13T17:58:13.806Z"
   },
   {
    "duration": 79,
    "start_time": "2021-10-13T17:58:13.807Z"
   },
   {
    "duration": 78,
    "start_time": "2021-10-13T17:58:13.809Z"
   },
   {
    "duration": 77,
    "start_time": "2021-10-13T17:58:13.811Z"
   },
   {
    "duration": 77,
    "start_time": "2021-10-13T17:58:13.813Z"
   },
   {
    "duration": 19,
    "start_time": "2021-10-13T17:58:25.584Z"
   },
   {
    "duration": 831,
    "start_time": "2021-10-13T17:59:00.044Z"
   },
   {
    "duration": 16,
    "start_time": "2021-10-13T17:59:00.878Z"
   },
   {
    "duration": 72,
    "start_time": "2021-10-13T17:59:00.897Z"
   },
   {
    "duration": 6,
    "start_time": "2021-10-13T17:59:00.972Z"
   },
   {
    "duration": 16,
    "start_time": "2021-10-13T17:59:00.980Z"
   },
   {
    "duration": 41,
    "start_time": "2021-10-13T17:59:00.998Z"
   },
   {
    "duration": 37,
    "start_time": "2021-10-13T17:59:01.042Z"
   },
   {
    "duration": 20,
    "start_time": "2021-10-13T17:59:01.082Z"
   },
   {
    "duration": 7,
    "start_time": "2021-10-13T17:59:01.105Z"
   },
   {
    "duration": 18,
    "start_time": "2021-10-13T17:59:01.115Z"
   },
   {
    "duration": 33,
    "start_time": "2021-10-13T17:59:01.136Z"
   },
   {
    "duration": 25,
    "start_time": "2021-10-13T17:59:01.172Z"
   },
   {
    "duration": 74,
    "start_time": "2021-10-13T17:59:01.199Z"
   },
   {
    "duration": 33,
    "start_time": "2021-10-13T17:59:01.275Z"
   },
   {
    "duration": 65,
    "start_time": "2021-10-13T17:59:01.310Z"
   },
   {
    "duration": 11,
    "start_time": "2021-10-13T17:59:01.378Z"
   },
   {
    "duration": 8,
    "start_time": "2021-10-13T17:59:01.391Z"
   },
   {
    "duration": 30,
    "start_time": "2021-10-13T17:59:01.401Z"
   },
   {
    "duration": 36,
    "start_time": "2021-10-13T17:59:01.434Z"
   },
   {
    "duration": 20,
    "start_time": "2021-10-13T17:59:01.473Z"
   },
   {
    "duration": 20,
    "start_time": "2021-10-13T17:59:01.496Z"
   },
   {
    "duration": 804,
    "start_time": "2021-10-13T17:59:01.519Z"
   },
   {
    "duration": 2968,
    "start_time": "2021-10-13T17:59:02.328Z"
   },
   {
    "duration": 10,
    "start_time": "2021-10-13T17:59:05.299Z"
   },
   {
    "duration": 5,
    "start_time": "2021-10-13T17:59:05.312Z"
   },
   {
    "duration": 12,
    "start_time": "2021-10-13T17:59:05.320Z"
   },
   {
    "duration": 37,
    "start_time": "2021-10-13T17:59:05.334Z"
   },
   {
    "duration": 19,
    "start_time": "2021-10-13T17:59:05.374Z"
   },
   {
    "duration": 97,
    "start_time": "2021-10-13T17:59:05.396Z"
   },
   {
    "duration": 17,
    "start_time": "2021-10-13T17:59:05.495Z"
   },
   {
    "duration": 91,
    "start_time": "2021-10-13T17:59:05.515Z"
   },
   {
    "duration": 6,
    "start_time": "2021-10-13T17:59:05.608Z"
   },
   {
    "duration": 95,
    "start_time": "2021-10-13T17:59:05.617Z"
   },
   {
    "duration": 15,
    "start_time": "2021-10-13T17:59:05.715Z"
   },
   {
    "duration": 85,
    "start_time": "2021-10-13T17:59:05.732Z"
   },
   {
    "duration": 13,
    "start_time": "2021-10-13T17:59:05.820Z"
   },
   {
    "duration": 92,
    "start_time": "2021-10-13T17:59:05.836Z"
   },
   {
    "duration": 12,
    "start_time": "2021-10-13T17:59:05.932Z"
   },
   {
    "duration": 84,
    "start_time": "2021-10-13T17:59:05.947Z"
   },
   {
    "duration": 13,
    "start_time": "2021-10-13T17:59:06.033Z"
   },
   {
    "duration": 809,
    "start_time": "2021-10-14T11:34:40.270Z"
   },
   {
    "duration": 806,
    "start_time": "2021-10-14T11:53:59.841Z"
   },
   {
    "duration": 1524,
    "start_time": "2021-10-14T11:54:11.537Z"
   },
   {
    "duration": 82,
    "start_time": "2021-10-14T11:54:13.065Z"
   },
   {
    "duration": 15,
    "start_time": "2021-10-14T11:54:13.150Z"
   },
   {
    "duration": 70,
    "start_time": "2021-10-14T11:54:13.168Z"
   },
   {
    "duration": 7,
    "start_time": "2021-10-14T11:54:13.240Z"
   },
   {
    "duration": 13,
    "start_time": "2021-10-14T11:54:13.249Z"
   },
   {
    "duration": 62,
    "start_time": "2021-10-14T11:54:13.264Z"
   },
   {
    "duration": 13,
    "start_time": "2021-10-14T11:54:13.328Z"
   },
   {
    "duration": 12,
    "start_time": "2021-10-14T11:54:13.345Z"
   },
   {
    "duration": 7,
    "start_time": "2021-10-14T11:54:13.360Z"
   },
   {
    "duration": 13,
    "start_time": "2021-10-14T11:54:13.401Z"
   },
   {
    "duration": 4,
    "start_time": "2021-10-14T11:54:13.417Z"
   },
   {
    "duration": 26,
    "start_time": "2021-10-14T11:54:13.423Z"
   },
   {
    "duration": 78,
    "start_time": "2021-10-14T11:54:13.451Z"
   },
   {
    "duration": 30,
    "start_time": "2021-10-14T11:54:13.532Z"
   },
   {
    "duration": 61,
    "start_time": "2021-10-14T11:54:13.565Z"
   },
   {
    "duration": 44,
    "start_time": "2021-10-14T11:54:13.628Z"
   },
   {
    "duration": 30,
    "start_time": "2021-10-14T11:54:13.675Z"
   },
   {
    "duration": 4,
    "start_time": "2021-10-14T11:54:13.707Z"
   },
   {
    "duration": 15,
    "start_time": "2021-10-14T11:54:13.713Z"
   },
   {
    "duration": 16,
    "start_time": "2021-10-14T11:54:13.730Z"
   },
   {
    "duration": 6,
    "start_time": "2021-10-14T11:54:13.749Z"
   },
   {
    "duration": 46,
    "start_time": "2021-10-14T11:54:13.757Z"
   },
   {
    "duration": 6,
    "start_time": "2021-10-14T11:54:13.805Z"
   },
   {
    "duration": 2618,
    "start_time": "2021-10-14T11:54:13.813Z"
   },
   {
    "duration": 9,
    "start_time": "2021-10-14T11:54:16.434Z"
   },
   {
    "duration": 4,
    "start_time": "2021-10-14T11:54:16.448Z"
   },
   {
    "duration": 15,
    "start_time": "2021-10-14T11:54:16.455Z"
   },
   {
    "duration": 34,
    "start_time": "2021-10-14T11:54:16.472Z"
   },
   {
    "duration": 18,
    "start_time": "2021-10-14T11:54:16.509Z"
   },
   {
    "duration": 88,
    "start_time": "2021-10-14T11:54:16.529Z"
   },
   {
    "duration": 21,
    "start_time": "2021-10-14T11:54:16.619Z"
   },
   {
    "duration": 87,
    "start_time": "2021-10-14T11:54:16.643Z"
   },
   {
    "duration": 7,
    "start_time": "2021-10-14T11:54:16.733Z"
   },
   {
    "duration": 86,
    "start_time": "2021-10-14T11:54:16.742Z"
   },
   {
    "duration": 17,
    "start_time": "2021-10-14T11:54:16.831Z"
   },
   {
    "duration": 81,
    "start_time": "2021-10-14T11:54:16.850Z"
   },
   {
    "duration": 11,
    "start_time": "2021-10-14T11:54:16.934Z"
   },
   {
    "duration": 84,
    "start_time": "2021-10-14T11:54:16.948Z"
   },
   {
    "duration": 12,
    "start_time": "2021-10-14T11:54:17.034Z"
   },
   {
    "duration": 89,
    "start_time": "2021-10-14T11:54:17.048Z"
   },
   {
    "duration": 11,
    "start_time": "2021-10-14T11:54:17.140Z"
   },
   {
    "duration": 6,
    "start_time": "2021-10-14T11:57:26.939Z"
   },
   {
    "duration": 13,
    "start_time": "2021-10-14T11:57:30.573Z"
   },
   {
    "duration": 4,
    "start_time": "2021-10-14T11:57:47.056Z"
   },
   {
    "duration": 70,
    "start_time": "2021-10-14T11:57:50.337Z"
   },
   {
    "duration": 15,
    "start_time": "2021-10-14T11:57:57.328Z"
   },
   {
    "duration": 49,
    "start_time": "2021-10-14T11:58:01.578Z"
   },
   {
    "duration": 6,
    "start_time": "2021-10-14T11:58:05.681Z"
   },
   {
    "duration": 6,
    "start_time": "2021-10-14T11:58:16.418Z"
   },
   {
    "duration": 12,
    "start_time": "2021-10-14T11:58:20.101Z"
   },
   {
    "duration": 34,
    "start_time": "2021-10-14T11:58:28.233Z"
   },
   {
    "duration": 13,
    "start_time": "2021-10-14T11:58:33.666Z"
   },
   {
    "duration": 7,
    "start_time": "2021-10-14T11:58:37.788Z"
   },
   {
    "duration": 13,
    "start_time": "2021-10-14T11:58:40.896Z"
   },
   {
    "duration": 11,
    "start_time": "2021-10-14T11:59:19.347Z"
   },
   {
    "duration": 527,
    "start_time": "2021-10-14T11:59:23.158Z"
   },
   {
    "duration": 1525,
    "start_time": "2021-10-14T11:59:40.421Z"
   },
   {
    "duration": 82,
    "start_time": "2021-10-14T11:59:41.949Z"
   },
   {
    "duration": 15,
    "start_time": "2021-10-14T11:59:42.034Z"
   },
   {
    "duration": 63,
    "start_time": "2021-10-14T11:59:42.051Z"
   },
   {
    "duration": 5,
    "start_time": "2021-10-14T11:59:42.117Z"
   },
   {
    "duration": 7,
    "start_time": "2021-10-14T11:59:42.124Z"
   },
   {
    "duration": 12,
    "start_time": "2021-10-14T11:59:42.133Z"
   },
   {
    "duration": 65,
    "start_time": "2021-10-14T11:59:42.149Z"
   },
   {
    "duration": 13,
    "start_time": "2021-10-14T11:59:42.217Z"
   },
   {
    "duration": 13,
    "start_time": "2021-10-14T11:59:42.232Z"
   },
   {
    "duration": 6,
    "start_time": "2021-10-14T11:59:42.247Z"
   },
   {
    "duration": 47,
    "start_time": "2021-10-14T11:59:42.255Z"
   },
   {
    "duration": 5,
    "start_time": "2021-10-14T11:59:42.304Z"
   },
   {
    "duration": 28,
    "start_time": "2021-10-14T11:59:42.312Z"
   },
   {
    "duration": 66,
    "start_time": "2021-10-14T11:59:42.343Z"
   },
   {
    "duration": 32,
    "start_time": "2021-10-14T11:59:42.412Z"
   },
   {
    "duration": 63,
    "start_time": "2021-10-14T11:59:42.447Z"
   },
   {
    "duration": 47,
    "start_time": "2021-10-14T11:59:42.512Z"
   },
   {
    "duration": 10,
    "start_time": "2021-10-14T11:59:42.561Z"
   },
   {
    "duration": 27,
    "start_time": "2021-10-14T11:59:42.573Z"
   },
   {
    "duration": 15,
    "start_time": "2021-10-14T11:59:42.603Z"
   },
   {
    "duration": 19,
    "start_time": "2021-10-14T11:59:42.621Z"
   },
   {
    "duration": 6,
    "start_time": "2021-10-14T11:59:42.645Z"
   },
   {
    "duration": 4,
    "start_time": "2021-10-14T11:59:42.654Z"
   },
   {
    "duration": 43,
    "start_time": "2021-10-14T11:59:42.660Z"
   },
   {
    "duration": 2577,
    "start_time": "2021-10-14T11:59:42.705Z"
   },
   {
    "duration": 19,
    "start_time": "2021-10-14T11:59:45.284Z"
   },
   {
    "duration": 7,
    "start_time": "2021-10-14T11:59:45.305Z"
   },
   {
    "duration": 15,
    "start_time": "2021-10-14T11:59:45.315Z"
   },
   {
    "duration": 13,
    "start_time": "2021-10-14T11:59:45.332Z"
   },
   {
    "duration": 18,
    "start_time": "2021-10-14T11:59:45.347Z"
   },
   {
    "duration": 89,
    "start_time": "2021-10-14T11:59:45.368Z"
   },
   {
    "duration": 15,
    "start_time": "2021-10-14T11:59:45.459Z"
   },
   {
    "duration": 88,
    "start_time": "2021-10-14T11:59:45.476Z"
   },
   {
    "duration": 88,
    "start_time": "2021-10-14T11:59:45.567Z"
   },
   {
    "duration": 14,
    "start_time": "2021-10-14T11:59:45.657Z"
   },
   {
    "duration": 78,
    "start_time": "2021-10-14T11:59:45.673Z"
   },
   {
    "duration": 12,
    "start_time": "2021-10-14T11:59:45.753Z"
   },
   {
    "duration": 86,
    "start_time": "2021-10-14T11:59:45.767Z"
   },
   {
    "duration": 12,
    "start_time": "2021-10-14T11:59:45.855Z"
   },
   {
    "duration": 86,
    "start_time": "2021-10-14T11:59:45.870Z"
   },
   {
    "duration": 12,
    "start_time": "2021-10-14T11:59:45.958Z"
   },
   {
    "duration": 71,
    "start_time": "2021-10-14T12:00:09.021Z"
   },
   {
    "duration": 53,
    "start_time": "2021-10-14T12:03:16.293Z"
   },
   {
    "duration": 37,
    "start_time": "2021-10-14T12:05:23.524Z"
   },
   {
    "duration": 26,
    "start_time": "2021-10-14T12:06:52.415Z"
   },
   {
    "duration": 37,
    "start_time": "2021-10-14T12:07:05.550Z"
   },
   {
    "duration": 1524,
    "start_time": "2021-10-14T12:10:06.455Z"
   },
   {
    "duration": 82,
    "start_time": "2021-10-14T12:10:07.981Z"
   },
   {
    "duration": 15,
    "start_time": "2021-10-14T12:10:08.066Z"
   },
   {
    "duration": 61,
    "start_time": "2021-10-14T12:10:08.084Z"
   },
   {
    "duration": 7,
    "start_time": "2021-10-14T12:10:08.147Z"
   },
   {
    "duration": 8,
    "start_time": "2021-10-14T12:10:08.156Z"
   },
   {
    "duration": 36,
    "start_time": "2021-10-14T12:10:08.166Z"
   },
   {
    "duration": 33,
    "start_time": "2021-10-14T12:10:08.206Z"
   },
   {
    "duration": 14,
    "start_time": "2021-10-14T12:10:08.243Z"
   },
   {
    "duration": 49,
    "start_time": "2021-10-14T12:10:08.259Z"
   },
   {
    "duration": 7,
    "start_time": "2021-10-14T12:10:08.311Z"
   },
   {
    "duration": 20,
    "start_time": "2021-10-14T12:10:08.321Z"
   },
   {
    "duration": 6,
    "start_time": "2021-10-14T12:10:08.344Z"
   },
   {
    "duration": 54,
    "start_time": "2021-10-14T12:10:08.352Z"
   },
   {
    "duration": 47,
    "start_time": "2021-10-14T12:10:08.409Z"
   },
   {
    "duration": 53,
    "start_time": "2021-10-14T12:10:08.459Z"
   },
   {
    "duration": 41,
    "start_time": "2021-10-14T12:10:08.515Z"
   },
   {
    "duration": 64,
    "start_time": "2021-10-14T12:10:08.559Z"
   },
   {
    "duration": 10,
    "start_time": "2021-10-14T12:10:08.625Z"
   },
   {
    "duration": 5,
    "start_time": "2021-10-14T12:10:08.637Z"
   },
   {
    "duration": 16,
    "start_time": "2021-10-14T12:10:08.645Z"
   },
   {
    "duration": 49,
    "start_time": "2021-10-14T12:10:08.664Z"
   },
   {
    "duration": 7,
    "start_time": "2021-10-14T12:10:08.719Z"
   },
   {
    "duration": 4,
    "start_time": "2021-10-14T12:10:08.729Z"
   },
   {
    "duration": 10,
    "start_time": "2021-10-14T12:10:08.735Z"
   },
   {
    "duration": 2632,
    "start_time": "2021-10-14T12:10:08.747Z"
   },
   {
    "duration": 10,
    "start_time": "2021-10-14T12:10:11.381Z"
   },
   {
    "duration": 4,
    "start_time": "2021-10-14T12:10:11.401Z"
   },
   {
    "duration": 12,
    "start_time": "2021-10-14T12:10:11.407Z"
   },
   {
    "duration": 14,
    "start_time": "2021-10-14T12:10:11.422Z"
   },
   {
    "duration": 22,
    "start_time": "2021-10-14T12:10:11.438Z"
   },
   {
    "duration": 96,
    "start_time": "2021-10-14T12:10:11.462Z"
   },
   {
    "duration": 15,
    "start_time": "2021-10-14T12:10:11.560Z"
   },
   {
    "duration": 82,
    "start_time": "2021-10-14T12:10:11.577Z"
   },
   {
    "duration": 84,
    "start_time": "2021-10-14T12:10:11.661Z"
   },
   {
    "duration": 15,
    "start_time": "2021-10-14T12:10:11.747Z"
   },
   {
    "duration": 80,
    "start_time": "2021-10-14T12:10:11.764Z"
   },
   {
    "duration": 13,
    "start_time": "2021-10-14T12:10:11.846Z"
   },
   {
    "duration": 86,
    "start_time": "2021-10-14T12:10:11.861Z"
   },
   {
    "duration": 13,
    "start_time": "2021-10-14T12:10:11.950Z"
   },
   {
    "duration": 87,
    "start_time": "2021-10-14T12:10:11.965Z"
   },
   {
    "duration": 11,
    "start_time": "2021-10-14T12:10:12.055Z"
   },
   {
    "duration": 4,
    "start_time": "2021-10-14T12:14:42.047Z"
   },
   {
    "duration": 1629,
    "start_time": "2021-10-14T12:14:52.422Z"
   },
   {
    "duration": 90,
    "start_time": "2021-10-14T12:14:54.054Z"
   },
   {
    "duration": 15,
    "start_time": "2021-10-14T12:14:54.147Z"
   },
   {
    "duration": 69,
    "start_time": "2021-10-14T12:14:54.165Z"
   },
   {
    "duration": 6,
    "start_time": "2021-10-14T12:14:54.236Z"
   },
   {
    "duration": 11,
    "start_time": "2021-10-14T12:14:54.245Z"
   },
   {
    "duration": 42,
    "start_time": "2021-10-14T12:14:54.259Z"
   },
   {
    "duration": 36,
    "start_time": "2021-10-14T12:14:54.306Z"
   },
   {
    "duration": 13,
    "start_time": "2021-10-14T12:14:54.345Z"
   },
   {
    "duration": 43,
    "start_time": "2021-10-14T12:14:54.360Z"
   },
   {
    "duration": 7,
    "start_time": "2021-10-14T12:14:54.405Z"
   },
   {
    "duration": 17,
    "start_time": "2021-10-14T12:14:54.414Z"
   },
   {
    "duration": 6,
    "start_time": "2021-10-14T12:14:54.434Z"
   },
   {
    "duration": 64,
    "start_time": "2021-10-14T12:14:54.442Z"
   },
   {
    "duration": 48,
    "start_time": "2021-10-14T12:14:54.509Z"
   },
   {
    "duration": 57,
    "start_time": "2021-10-14T12:14:54.560Z"
   },
   {
    "duration": 41,
    "start_time": "2021-10-14T12:14:54.619Z"
   },
   {
    "duration": 76,
    "start_time": "2021-10-14T12:14:54.662Z"
   },
   {
    "duration": 14,
    "start_time": "2021-10-14T12:14:54.741Z"
   },
   {
    "duration": 6,
    "start_time": "2021-10-14T12:14:54.759Z"
   },
   {
    "duration": 47,
    "start_time": "2021-10-14T12:14:54.768Z"
   },
   {
    "duration": 25,
    "start_time": "2021-10-14T12:14:54.818Z"
   },
   {
    "duration": 9,
    "start_time": "2021-10-14T12:14:54.850Z"
   },
   {
    "duration": 5,
    "start_time": "2021-10-14T12:14:54.862Z"
   },
   {
    "duration": 9,
    "start_time": "2021-10-14T12:14:54.901Z"
   },
   {
    "duration": 4548,
    "start_time": "2021-10-14T12:14:54.913Z"
   },
   {
    "duration": 9,
    "start_time": "2021-10-14T12:14:59.463Z"
   },
   {
    "duration": 26,
    "start_time": "2021-10-14T12:14:59.474Z"
   },
   {
    "duration": 17,
    "start_time": "2021-10-14T12:14:59.504Z"
   },
   {
    "duration": 17,
    "start_time": "2021-10-14T12:14:59.525Z"
   },
   {
    "duration": 33,
    "start_time": "2021-10-14T12:14:59.544Z"
   },
   {
    "duration": 83,
    "start_time": "2021-10-14T12:14:59.579Z"
   },
   {
    "duration": 16,
    "start_time": "2021-10-14T12:14:59.666Z"
   },
   {
    "duration": 99,
    "start_time": "2021-10-14T12:14:59.684Z"
   },
   {
    "duration": 82,
    "start_time": "2021-10-14T12:14:59.786Z"
   },
   {
    "duration": 32,
    "start_time": "2021-10-14T12:14:59.871Z"
   },
   {
    "duration": 78,
    "start_time": "2021-10-14T12:14:59.907Z"
   },
   {
    "duration": 17,
    "start_time": "2021-10-14T12:14:59.989Z"
   },
   {
    "duration": 93,
    "start_time": "2021-10-14T12:15:00.009Z"
   },
   {
    "duration": 13,
    "start_time": "2021-10-14T12:15:00.104Z"
   },
   {
    "duration": 101,
    "start_time": "2021-10-14T12:15:00.120Z"
   },
   {
    "duration": 17,
    "start_time": "2021-10-14T12:15:00.224Z"
   },
   {
    "duration": 50,
    "start_time": "2021-10-14T12:15:40.761Z"
   },
   {
    "duration": 1493,
    "start_time": "2021-10-14T16:53:21.044Z"
   },
   {
    "duration": 84,
    "start_time": "2021-10-14T16:53:22.540Z"
   },
   {
    "duration": 14,
    "start_time": "2021-10-14T16:53:22.627Z"
   },
   {
    "duration": 67,
    "start_time": "2021-10-14T16:53:22.644Z"
   },
   {
    "duration": 6,
    "start_time": "2021-10-14T16:53:22.713Z"
   },
   {
    "duration": 7,
    "start_time": "2021-10-14T16:53:22.721Z"
   },
   {
    "duration": 15,
    "start_time": "2021-10-14T16:53:22.731Z"
   },
   {
    "duration": 66,
    "start_time": "2021-10-14T16:53:22.751Z"
   },
   {
    "duration": 13,
    "start_time": "2021-10-14T16:53:22.820Z"
   },
   {
    "duration": 14,
    "start_time": "2021-10-14T16:53:22.835Z"
   },
   {
    "duration": 6,
    "start_time": "2021-10-14T16:53:22.851Z"
   },
   {
    "duration": 43,
    "start_time": "2021-10-14T16:53:22.859Z"
   },
   {
    "duration": 5,
    "start_time": "2021-10-14T16:53:22.904Z"
   },
   {
    "duration": 24,
    "start_time": "2021-10-14T16:53:22.912Z"
   },
   {
    "duration": 83,
    "start_time": "2021-10-14T16:53:22.939Z"
   },
   {
    "duration": 35,
    "start_time": "2021-10-14T16:53:23.025Z"
   },
   {
    "duration": 70,
    "start_time": "2021-10-14T16:53:23.063Z"
   },
   {
    "duration": 42,
    "start_time": "2021-10-14T16:53:23.136Z"
   },
   {
    "duration": 13,
    "start_time": "2021-10-14T16:53:23.201Z"
   },
   {
    "duration": 5,
    "start_time": "2021-10-14T16:53:23.217Z"
   },
   {
    "duration": 21,
    "start_time": "2021-10-14T16:53:23.224Z"
   },
   {
    "duration": 19,
    "start_time": "2021-10-14T16:53:23.247Z"
   },
   {
    "duration": 35,
    "start_time": "2021-10-14T16:53:23.271Z"
   },
   {
    "duration": 6,
    "start_time": "2021-10-14T16:53:23.310Z"
   },
   {
    "duration": 6,
    "start_time": "2021-10-14T16:53:23.319Z"
   },
   {
    "duration": 3080,
    "start_time": "2021-10-14T16:53:23.327Z"
   },
   {
    "duration": 14,
    "start_time": "2021-10-14T16:53:26.411Z"
   },
   {
    "duration": 8,
    "start_time": "2021-10-14T16:53:26.427Z"
   },
   {
    "duration": 12,
    "start_time": "2021-10-14T16:53:26.437Z"
   },
   {
    "duration": 12,
    "start_time": "2021-10-14T16:53:26.452Z"
   },
   {
    "duration": 49,
    "start_time": "2021-10-14T16:53:26.467Z"
   },
   {
    "duration": 64,
    "start_time": "2021-10-14T16:53:26.519Z"
   },
   {
    "duration": 15,
    "start_time": "2021-10-14T16:53:26.601Z"
   },
   {
    "duration": 92,
    "start_time": "2021-10-14T16:53:26.618Z"
   },
   {
    "duration": 15,
    "start_time": "2021-10-14T16:53:26.713Z"
   },
   {
    "duration": 76,
    "start_time": "2021-10-14T16:53:26.730Z"
   },
   {
    "duration": 12,
    "start_time": "2021-10-14T16:53:26.808Z"
   },
   {
    "duration": 92,
    "start_time": "2021-10-14T16:53:26.822Z"
   },
   {
    "duration": 12,
    "start_time": "2021-10-14T16:53:26.916Z"
   },
   {
    "duration": 85,
    "start_time": "2021-10-14T16:53:26.931Z"
   },
   {
    "duration": 11,
    "start_time": "2021-10-14T16:53:27.019Z"
   },
   {
    "duration": 18,
    "start_time": "2021-10-14T16:55:48.853Z"
   },
   {
    "duration": 12,
    "start_time": "2021-10-14T16:57:40.270Z"
   },
   {
    "duration": 557,
    "start_time": "2021-10-14T16:57:51.270Z"
   },
   {
    "duration": 361,
    "start_time": "2021-10-14T16:57:56.374Z"
   },
   {
    "duration": 69,
    "start_time": "2021-10-14T16:58:10.790Z"
   },
   {
    "duration": 19,
    "start_time": "2021-10-14T16:58:36.429Z"
   },
   {
    "duration": 63,
    "start_time": "2021-10-14T16:59:01.565Z"
   },
   {
    "duration": 14,
    "start_time": "2021-10-14T16:59:09.789Z"
   },
   {
    "duration": 66,
    "start_time": "2021-10-14T16:59:35.812Z"
   },
   {
    "duration": 13,
    "start_time": "2021-10-14T16:59:59.538Z"
   },
   {
    "duration": 68,
    "start_time": "2021-10-14T17:00:26.421Z"
   },
   {
    "duration": 12,
    "start_time": "2021-10-14T17:00:35.005Z"
   }
  ],
  "kernelspec": {
   "display_name": "Python 3 (ipykernel)",
   "language": "python",
   "name": "python3"
  },
  "language_info": {
   "codemirror_mode": {
    "name": "ipython",
    "version": 3
   },
   "file_extension": ".py",
   "mimetype": "text/x-python",
   "name": "python",
   "nbconvert_exporter": "python",
   "pygments_lexer": "ipython3",
   "version": "3.9.7"
  },
  "toc": {
   "base_numbering": 1,
   "nav_menu": {},
   "number_sections": true,
   "sideBar": true,
   "skip_h1_title": true,
   "title_cell": "Table of Contents",
   "title_sidebar": "Contents",
   "toc_cell": false,
   "toc_position": {},
   "toc_section_display": true,
   "toc_window_display": true
  }
 },
 "nbformat": 4,
 "nbformat_minor": 2
}
