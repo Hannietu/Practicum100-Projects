{
 "cells": [
  {
   "cell_type": "markdown",
   "metadata": {},
   "source": [
    "# Integrated Project 1 "
   ]
  },
  {
   "cell_type": "markdown",
   "metadata": {},
   "source": [
    "## Project overview"
   ]
  },
  {
   "cell_type": "markdown",
   "metadata": {},
   "source": [
    "This project will include an investigation on video games sold around the world, from different genres, platforms, rating, etc'.\n",
    " \n",
    "The goal of this projct is to identify patterns that determine whether a game succeeds or not, which will assist in spoting potential big winners and plan advertising campaigns in the company.\n",
    "\n",
    "This project will include a dataset from the Ice online store data base as well as open source of historical data. \n",
    "\n",
    "<b> Analysis outline: </b>\n",
    "\n",
    "Assessed the data, and made decisions about dealing with missing values.\n",
    "\n",
    "Calculated the total revanue from the different regions we have. \n",
    "\n",
    "Performed a vast analysis on the data, concentrated on more relevant years and top platforms in the market. \n",
    "\n",
    "Performed EDA, plotted histograms and calculated the variances.\n",
    "Performed hypothesis testing to learn about the differences in revanues for different groups of clients.\n",
    "\n",
    "Made recommendations backed by statistics for the popular platforms and genres in differnet regions according the market sales."
   ]
  },
  {
   "cell_type": "markdown",
   "metadata": {},
   "source": [
    "## Data Overview"
   ]
  },
  {
   "cell_type": "code",
   "execution_count": 1,
   "metadata": {},
   "outputs": [
    {
     "name": "stdout",
     "output_type": "stream",
     "text": [
      "Defaulting to user installation because normal site-packages is not writeable\n",
      "Requirement already satisfied: sidetable in /home/jovyan/.local/lib/python3.7/site-packages (0.9.0)\n",
      "Requirement already satisfied: pandas>=1.0 in /home/jovyan/.local/lib/python3.7/site-packages (from sidetable) (1.3.4)\n",
      "Requirement already satisfied: pytz>=2017.3 in /opt/conda/lib/python3.7/site-packages (from pandas>=1.0->sidetable) (2021.1)\n",
      "Requirement already satisfied: python-dateutil>=2.7.3 in /opt/conda/lib/python3.7/site-packages (from pandas>=1.0->sidetable) (2.8.1)\n",
      "Requirement already satisfied: numpy>=1.17.3; platform_machine != \"aarch64\" and platform_machine != \"arm64\" and python_version < \"3.10\" in /opt/conda/lib/python3.7/site-packages (from pandas>=1.0->sidetable) (1.19.5)\n",
      "Requirement already satisfied: six>=1.5 in /opt/conda/lib/python3.7/site-packages (from python-dateutil>=2.7.3->pandas>=1.0->sidetable) (1.15.0)\n"
     ]
    }
   ],
   "source": [
    "!pip install sidetable"
   ]
  },
  {
   "cell_type": "code",
   "execution_count": 2,
   "metadata": {},
   "outputs": [
    {
     "name": "stderr",
     "output_type": "stream",
     "text": [
      "/opt/conda/lib/python3.7/site-packages/statsmodels/tools/_testing.py:19: FutureWarning: pandas.util.testing is deprecated. Use the functions in the public API at pandas.testing instead.\n",
      "  import pandas.util.testing as tm\n"
     ]
    }
   ],
   "source": [
    "import pandas as pd\n",
    "import numpy as np\n",
    "import sidetable\n",
    "import matplotlib as mpl\n",
    "import matplotlib.pyplot as plt\n",
    "import seaborn as sns\n",
    "from scipy import stats"
   ]
  },
  {
   "cell_type": "code",
   "execution_count": 3,
   "metadata": {},
   "outputs": [],
   "source": [
    "#reading the data file\n",
    "try:\n",
    "    games = pd.read_csv('/datasets/games.csv')\n",
    "except:\n",
    "    print(\"An error with file reading has occurred\")"
   ]
  },
  {
   "cell_type": "code",
   "execution_count": 4,
   "metadata": {},
   "outputs": [
    {
     "data": {
      "text/html": [
       "<div>\n",
       "<style scoped>\n",
       "    .dataframe tbody tr th:only-of-type {\n",
       "        vertical-align: middle;\n",
       "    }\n",
       "\n",
       "    .dataframe tbody tr th {\n",
       "        vertical-align: top;\n",
       "    }\n",
       "\n",
       "    .dataframe thead th {\n",
       "        text-align: right;\n",
       "    }\n",
       "</style>\n",
       "<table border=\"1\" class=\"dataframe\">\n",
       "  <thead>\n",
       "    <tr style=\"text-align: right;\">\n",
       "      <th></th>\n",
       "      <th>Name</th>\n",
       "      <th>Platform</th>\n",
       "      <th>Year_of_Release</th>\n",
       "      <th>Genre</th>\n",
       "      <th>NA_sales</th>\n",
       "      <th>EU_sales</th>\n",
       "      <th>JP_sales</th>\n",
       "      <th>Other_sales</th>\n",
       "      <th>Critic_Score</th>\n",
       "      <th>User_Score</th>\n",
       "      <th>Rating</th>\n",
       "    </tr>\n",
       "  </thead>\n",
       "  <tbody>\n",
       "    <tr>\n",
       "      <th>0</th>\n",
       "      <td>Wii Sports</td>\n",
       "      <td>Wii</td>\n",
       "      <td>2006.0</td>\n",
       "      <td>Sports</td>\n",
       "      <td>41.36</td>\n",
       "      <td>28.96</td>\n",
       "      <td>3.77</td>\n",
       "      <td>8.45</td>\n",
       "      <td>76.0</td>\n",
       "      <td>8</td>\n",
       "      <td>E</td>\n",
       "    </tr>\n",
       "    <tr>\n",
       "      <th>1</th>\n",
       "      <td>Super Mario Bros.</td>\n",
       "      <td>NES</td>\n",
       "      <td>1985.0</td>\n",
       "      <td>Platform</td>\n",
       "      <td>29.08</td>\n",
       "      <td>3.58</td>\n",
       "      <td>6.81</td>\n",
       "      <td>0.77</td>\n",
       "      <td>NaN</td>\n",
       "      <td>NaN</td>\n",
       "      <td>NaN</td>\n",
       "    </tr>\n",
       "    <tr>\n",
       "      <th>2</th>\n",
       "      <td>Mario Kart Wii</td>\n",
       "      <td>Wii</td>\n",
       "      <td>2008.0</td>\n",
       "      <td>Racing</td>\n",
       "      <td>15.68</td>\n",
       "      <td>12.76</td>\n",
       "      <td>3.79</td>\n",
       "      <td>3.29</td>\n",
       "      <td>82.0</td>\n",
       "      <td>8.3</td>\n",
       "      <td>E</td>\n",
       "    </tr>\n",
       "    <tr>\n",
       "      <th>3</th>\n",
       "      <td>Wii Sports Resort</td>\n",
       "      <td>Wii</td>\n",
       "      <td>2009.0</td>\n",
       "      <td>Sports</td>\n",
       "      <td>15.61</td>\n",
       "      <td>10.93</td>\n",
       "      <td>3.28</td>\n",
       "      <td>2.95</td>\n",
       "      <td>80.0</td>\n",
       "      <td>8</td>\n",
       "      <td>E</td>\n",
       "    </tr>\n",
       "    <tr>\n",
       "      <th>4</th>\n",
       "      <td>Pokemon Red/Pokemon Blue</td>\n",
       "      <td>GB</td>\n",
       "      <td>1996.0</td>\n",
       "      <td>Role-Playing</td>\n",
       "      <td>11.27</td>\n",
       "      <td>8.89</td>\n",
       "      <td>10.22</td>\n",
       "      <td>1.00</td>\n",
       "      <td>NaN</td>\n",
       "      <td>NaN</td>\n",
       "      <td>NaN</td>\n",
       "    </tr>\n",
       "  </tbody>\n",
       "</table>\n",
       "</div>"
      ],
      "text/plain": [
       "                       Name Platform  Year_of_Release         Genre  NA_sales  \\\n",
       "0                Wii Sports      Wii           2006.0        Sports     41.36   \n",
       "1         Super Mario Bros.      NES           1985.0      Platform     29.08   \n",
       "2            Mario Kart Wii      Wii           2008.0        Racing     15.68   \n",
       "3         Wii Sports Resort      Wii           2009.0        Sports     15.61   \n",
       "4  Pokemon Red/Pokemon Blue       GB           1996.0  Role-Playing     11.27   \n",
       "\n",
       "   EU_sales  JP_sales  Other_sales  Critic_Score User_Score Rating  \n",
       "0     28.96      3.77         8.45          76.0          8      E  \n",
       "1      3.58      6.81         0.77           NaN        NaN    NaN  \n",
       "2     12.76      3.79         3.29          82.0        8.3      E  \n",
       "3     10.93      3.28         2.95          80.0          8      E  \n",
       "4      8.89     10.22         1.00           NaN        NaN    NaN  "
      ]
     },
     "metadata": {},
     "output_type": "display_data"
    }
   ],
   "source": [
    "#looking at the data structure\n",
    "display(games.head())"
   ]
  },
  {
   "cell_type": "code",
   "execution_count": 5,
   "metadata": {},
   "outputs": [
    {
     "name": "stdout",
     "output_type": "stream",
     "text": [
      "<class 'pandas.core.frame.DataFrame'>\n",
      "RangeIndex: 16715 entries, 0 to 16714\n",
      "Data columns (total 11 columns):\n",
      " #   Column           Non-Null Count  Dtype  \n",
      "---  ------           --------------  -----  \n",
      " 0   Name             16713 non-null  object \n",
      " 1   Platform         16715 non-null  object \n",
      " 2   Year_of_Release  16446 non-null  float64\n",
      " 3   Genre            16713 non-null  object \n",
      " 4   NA_sales         16715 non-null  float64\n",
      " 5   EU_sales         16715 non-null  float64\n",
      " 6   JP_sales         16715 non-null  float64\n",
      " 7   Other_sales      16715 non-null  float64\n",
      " 8   Critic_Score     8137 non-null   float64\n",
      " 9   User_Score       10014 non-null  object \n",
      " 10  Rating           9949 non-null   object \n",
      "dtypes: float64(6), object(5)\n",
      "memory usage: 1.4+ MB\n"
     ]
    }
   ],
   "source": [
    "#looking at the data general information\n",
    "games.info()"
   ]
  },
  {
   "cell_type": "markdown",
   "metadata": {},
   "source": [
    "We have a data set of 16715 rows. We can see that we have missing values in columns: Name, Year_of_Release, Genre, Critic_Score, User_Score and Rating. "
   ]
  },
  {
   "cell_type": "code",
   "execution_count": 6,
   "metadata": {},
   "outputs": [
    {
     "data": {
      "text/html": [
       "<style type=\"text/css\">\n",
       "</style>\n",
       "<table id=\"T_d5138_\">\n",
       "  <thead>\n",
       "    <tr>\n",
       "      <th class=\"blank level0\" >&nbsp;</th>\n",
       "      <th class=\"col_heading level0 col0\" >missing</th>\n",
       "      <th class=\"col_heading level0 col1\" >total</th>\n",
       "      <th class=\"col_heading level0 col2\" >percent</th>\n",
       "    </tr>\n",
       "  </thead>\n",
       "  <tbody>\n",
       "    <tr>\n",
       "      <th id=\"T_d5138_level0_row0\" class=\"row_heading level0 row0\" >Critic_Score</th>\n",
       "      <td id=\"T_d5138_row0_col0\" class=\"data row0 col0\" >8,578</td>\n",
       "      <td id=\"T_d5138_row0_col1\" class=\"data row0 col1\" >16,715</td>\n",
       "      <td id=\"T_d5138_row0_col2\" class=\"data row0 col2\" >51.32%</td>\n",
       "    </tr>\n",
       "    <tr>\n",
       "      <th id=\"T_d5138_level0_row1\" class=\"row_heading level0 row1\" >Rating</th>\n",
       "      <td id=\"T_d5138_row1_col0\" class=\"data row1 col0\" >6,766</td>\n",
       "      <td id=\"T_d5138_row1_col1\" class=\"data row1 col1\" >16,715</td>\n",
       "      <td id=\"T_d5138_row1_col2\" class=\"data row1 col2\" >40.48%</td>\n",
       "    </tr>\n",
       "    <tr>\n",
       "      <th id=\"T_d5138_level0_row2\" class=\"row_heading level0 row2\" >User_Score</th>\n",
       "      <td id=\"T_d5138_row2_col0\" class=\"data row2 col0\" >6,701</td>\n",
       "      <td id=\"T_d5138_row2_col1\" class=\"data row2 col1\" >16,715</td>\n",
       "      <td id=\"T_d5138_row2_col2\" class=\"data row2 col2\" >40.09%</td>\n",
       "    </tr>\n",
       "    <tr>\n",
       "      <th id=\"T_d5138_level0_row3\" class=\"row_heading level0 row3\" >Year_of_Release</th>\n",
       "      <td id=\"T_d5138_row3_col0\" class=\"data row3 col0\" >269</td>\n",
       "      <td id=\"T_d5138_row3_col1\" class=\"data row3 col1\" >16,715</td>\n",
       "      <td id=\"T_d5138_row3_col2\" class=\"data row3 col2\" >1.61%</td>\n",
       "    </tr>\n",
       "    <tr>\n",
       "      <th id=\"T_d5138_level0_row4\" class=\"row_heading level0 row4\" >Name</th>\n",
       "      <td id=\"T_d5138_row4_col0\" class=\"data row4 col0\" >2</td>\n",
       "      <td id=\"T_d5138_row4_col1\" class=\"data row4 col1\" >16,715</td>\n",
       "      <td id=\"T_d5138_row4_col2\" class=\"data row4 col2\" >0.01%</td>\n",
       "    </tr>\n",
       "    <tr>\n",
       "      <th id=\"T_d5138_level0_row5\" class=\"row_heading level0 row5\" >Genre</th>\n",
       "      <td id=\"T_d5138_row5_col0\" class=\"data row5 col0\" >2</td>\n",
       "      <td id=\"T_d5138_row5_col1\" class=\"data row5 col1\" >16,715</td>\n",
       "      <td id=\"T_d5138_row5_col2\" class=\"data row5 col2\" >0.01%</td>\n",
       "    </tr>\n",
       "    <tr>\n",
       "      <th id=\"T_d5138_level0_row6\" class=\"row_heading level0 row6\" >Platform</th>\n",
       "      <td id=\"T_d5138_row6_col0\" class=\"data row6 col0\" >0</td>\n",
       "      <td id=\"T_d5138_row6_col1\" class=\"data row6 col1\" >16,715</td>\n",
       "      <td id=\"T_d5138_row6_col2\" class=\"data row6 col2\" >0.00%</td>\n",
       "    </tr>\n",
       "    <tr>\n",
       "      <th id=\"T_d5138_level0_row7\" class=\"row_heading level0 row7\" >NA_sales</th>\n",
       "      <td id=\"T_d5138_row7_col0\" class=\"data row7 col0\" >0</td>\n",
       "      <td id=\"T_d5138_row7_col1\" class=\"data row7 col1\" >16,715</td>\n",
       "      <td id=\"T_d5138_row7_col2\" class=\"data row7 col2\" >0.00%</td>\n",
       "    </tr>\n",
       "    <tr>\n",
       "      <th id=\"T_d5138_level0_row8\" class=\"row_heading level0 row8\" >EU_sales</th>\n",
       "      <td id=\"T_d5138_row8_col0\" class=\"data row8 col0\" >0</td>\n",
       "      <td id=\"T_d5138_row8_col1\" class=\"data row8 col1\" >16,715</td>\n",
       "      <td id=\"T_d5138_row8_col2\" class=\"data row8 col2\" >0.00%</td>\n",
       "    </tr>\n",
       "    <tr>\n",
       "      <th id=\"T_d5138_level0_row9\" class=\"row_heading level0 row9\" >JP_sales</th>\n",
       "      <td id=\"T_d5138_row9_col0\" class=\"data row9 col0\" >0</td>\n",
       "      <td id=\"T_d5138_row9_col1\" class=\"data row9 col1\" >16,715</td>\n",
       "      <td id=\"T_d5138_row9_col2\" class=\"data row9 col2\" >0.00%</td>\n",
       "    </tr>\n",
       "    <tr>\n",
       "      <th id=\"T_d5138_level0_row10\" class=\"row_heading level0 row10\" >Other_sales</th>\n",
       "      <td id=\"T_d5138_row10_col0\" class=\"data row10 col0\" >0</td>\n",
       "      <td id=\"T_d5138_row10_col1\" class=\"data row10 col1\" >16,715</td>\n",
       "      <td id=\"T_d5138_row10_col2\" class=\"data row10 col2\" >0.00%</td>\n",
       "    </tr>\n",
       "  </tbody>\n",
       "</table>\n"
      ],
      "text/plain": [
       "<pandas.io.formats.style.Styler at 0x7f77b758eb90>"
      ]
     },
     "execution_count": 6,
     "metadata": {},
     "output_type": "execute_result"
    }
   ],
   "source": [
    "#looking at the missing values using side table\n",
    "games.stb.missing(style = True)"
   ]
  },
  {
   "cell_type": "markdown",
   "metadata": {},
   "source": [
    "We can see that the critic score has the most significant amount of missing values (over 50% of the data), also Rating and User score are missing a lot of values. This could be because these are new games and no one rated them yet, we can look at their year od release to verify this assumption and then decide how we would like to handle these missing values. \n",
    "As for the other missing values (year of release, Name and Genre) the portion of missing data is very small and we can delete it. "
   ]
  },
  {
   "cell_type": "code",
   "execution_count": 7,
   "metadata": {},
   "outputs": [],
   "source": [
    "#drop the missing data of Year_od_Release, Name & Genre \n",
    "#since it's a small amount of the data\n",
    "\n",
    "games.dropna(subset = ['Year_of_Release'], inplace = True)\n",
    "games.dropna(subset = ['Name'], inplace = True)\n",
    "games.dropna(subset = ['Genre'], inplace = True)"
   ]
  },
  {
   "cell_type": "code",
   "execution_count": 8,
   "metadata": {},
   "outputs": [
    {
     "data": {
      "text/html": [
       "<style type=\"text/css\">\n",
       "</style>\n",
       "<table id=\"T_526c0_\">\n",
       "  <thead>\n",
       "    <tr>\n",
       "      <th class=\"blank level0\" >&nbsp;</th>\n",
       "      <th class=\"col_heading level0 col0\" >missing</th>\n",
       "      <th class=\"col_heading level0 col1\" >total</th>\n",
       "      <th class=\"col_heading level0 col2\" >percent</th>\n",
       "    </tr>\n",
       "  </thead>\n",
       "  <tbody>\n",
       "    <tr>\n",
       "      <th id=\"T_526c0_level0_row0\" class=\"row_heading level0 row0\" >Critic_Score</th>\n",
       "      <td id=\"T_526c0_row0_col0\" class=\"data row0 col0\" >8,461</td>\n",
       "      <td id=\"T_526c0_row0_col1\" class=\"data row0 col1\" >16,444</td>\n",
       "      <td id=\"T_526c0_row0_col2\" class=\"data row0 col2\" >51.45%</td>\n",
       "    </tr>\n",
       "    <tr>\n",
       "      <th id=\"T_526c0_level0_row1\" class=\"row_heading level0 row1\" >Rating</th>\n",
       "      <td id=\"T_526c0_row1_col0\" class=\"data row1 col0\" >6,676</td>\n",
       "      <td id=\"T_526c0_row1_col1\" class=\"data row1 col1\" >16,444</td>\n",
       "      <td id=\"T_526c0_row1_col2\" class=\"data row1 col2\" >40.60%</td>\n",
       "    </tr>\n",
       "    <tr>\n",
       "      <th id=\"T_526c0_level0_row2\" class=\"row_heading level0 row2\" >User_Score</th>\n",
       "      <td id=\"T_526c0_row2_col0\" class=\"data row2 col0\" >6,605</td>\n",
       "      <td id=\"T_526c0_row2_col1\" class=\"data row2 col1\" >16,444</td>\n",
       "      <td id=\"T_526c0_row2_col2\" class=\"data row2 col2\" >40.17%</td>\n",
       "    </tr>\n",
       "    <tr>\n",
       "      <th id=\"T_526c0_level0_row3\" class=\"row_heading level0 row3\" >Name</th>\n",
       "      <td id=\"T_526c0_row3_col0\" class=\"data row3 col0\" >0</td>\n",
       "      <td id=\"T_526c0_row3_col1\" class=\"data row3 col1\" >16,444</td>\n",
       "      <td id=\"T_526c0_row3_col2\" class=\"data row3 col2\" >0.00%</td>\n",
       "    </tr>\n",
       "    <tr>\n",
       "      <th id=\"T_526c0_level0_row4\" class=\"row_heading level0 row4\" >Platform</th>\n",
       "      <td id=\"T_526c0_row4_col0\" class=\"data row4 col0\" >0</td>\n",
       "      <td id=\"T_526c0_row4_col1\" class=\"data row4 col1\" >16,444</td>\n",
       "      <td id=\"T_526c0_row4_col2\" class=\"data row4 col2\" >0.00%</td>\n",
       "    </tr>\n",
       "    <tr>\n",
       "      <th id=\"T_526c0_level0_row5\" class=\"row_heading level0 row5\" >Year_of_Release</th>\n",
       "      <td id=\"T_526c0_row5_col0\" class=\"data row5 col0\" >0</td>\n",
       "      <td id=\"T_526c0_row5_col1\" class=\"data row5 col1\" >16,444</td>\n",
       "      <td id=\"T_526c0_row5_col2\" class=\"data row5 col2\" >0.00%</td>\n",
       "    </tr>\n",
       "    <tr>\n",
       "      <th id=\"T_526c0_level0_row6\" class=\"row_heading level0 row6\" >Genre</th>\n",
       "      <td id=\"T_526c0_row6_col0\" class=\"data row6 col0\" >0</td>\n",
       "      <td id=\"T_526c0_row6_col1\" class=\"data row6 col1\" >16,444</td>\n",
       "      <td id=\"T_526c0_row6_col2\" class=\"data row6 col2\" >0.00%</td>\n",
       "    </tr>\n",
       "    <tr>\n",
       "      <th id=\"T_526c0_level0_row7\" class=\"row_heading level0 row7\" >NA_sales</th>\n",
       "      <td id=\"T_526c0_row7_col0\" class=\"data row7 col0\" >0</td>\n",
       "      <td id=\"T_526c0_row7_col1\" class=\"data row7 col1\" >16,444</td>\n",
       "      <td id=\"T_526c0_row7_col2\" class=\"data row7 col2\" >0.00%</td>\n",
       "    </tr>\n",
       "    <tr>\n",
       "      <th id=\"T_526c0_level0_row8\" class=\"row_heading level0 row8\" >EU_sales</th>\n",
       "      <td id=\"T_526c0_row8_col0\" class=\"data row8 col0\" >0</td>\n",
       "      <td id=\"T_526c0_row8_col1\" class=\"data row8 col1\" >16,444</td>\n",
       "      <td id=\"T_526c0_row8_col2\" class=\"data row8 col2\" >0.00%</td>\n",
       "    </tr>\n",
       "    <tr>\n",
       "      <th id=\"T_526c0_level0_row9\" class=\"row_heading level0 row9\" >JP_sales</th>\n",
       "      <td id=\"T_526c0_row9_col0\" class=\"data row9 col0\" >0</td>\n",
       "      <td id=\"T_526c0_row9_col1\" class=\"data row9 col1\" >16,444</td>\n",
       "      <td id=\"T_526c0_row9_col2\" class=\"data row9 col2\" >0.00%</td>\n",
       "    </tr>\n",
       "    <tr>\n",
       "      <th id=\"T_526c0_level0_row10\" class=\"row_heading level0 row10\" >Other_sales</th>\n",
       "      <td id=\"T_526c0_row10_col0\" class=\"data row10 col0\" >0</td>\n",
       "      <td id=\"T_526c0_row10_col1\" class=\"data row10 col1\" >16,444</td>\n",
       "      <td id=\"T_526c0_row10_col2\" class=\"data row10 col2\" >0.00%</td>\n",
       "    </tr>\n",
       "  </tbody>\n",
       "</table>\n"
      ],
      "text/plain": [
       "<pandas.io.formats.style.Styler at 0x7f77b75a8e50>"
      ]
     },
     "execution_count": 8,
     "metadata": {},
     "output_type": "execute_result"
    }
   ],
   "source": [
    "games.stb.missing(style = True)"
   ]
  },
  {
   "cell_type": "markdown",
   "metadata": {},
   "source": [
    "Looking into data types from the info table we can see that Year_of_Release is a float type where it should be an int since it represents years. I will change the data type.\n",
    "Also, user score is an object, probably because of the 'tbd' values, but it should be a float."
   ]
  },
  {
   "cell_type": "markdown",
   "metadata": {},
   "source": [
    "## Data Preprocessing"
   ]
  },
  {
   "cell_type": "code",
   "execution_count": 9,
   "metadata": {},
   "outputs": [],
   "source": [
    "#changing the column name to lowercase for easier work later\n",
    "games.columns= games.columns.str.lower()"
   ]
  },
  {
   "cell_type": "code",
   "execution_count": 10,
   "metadata": {},
   "outputs": [],
   "source": [
    "#changing data type - year of release\n",
    "games['year_of_release'] = games['year_of_release'].astype(int)"
   ]
  },
  {
   "cell_type": "markdown",
   "metadata": {},
   "source": [
    "Year of release represents a specific year which is a round number and should be type int. \n",
    "As for user_score we can't change to float type unless we remove the rows with 'tbd' values but I won't do it at this stage of the project since these rows might be important for other analysis. "
   ]
  },
  {
   "cell_type": "markdown",
   "metadata": {},
   "source": [
    "In order to decide on how to replace the missing values we will learn more about the data using the describe method. "
   ]
  },
  {
   "cell_type": "code",
   "execution_count": 11,
   "metadata": {},
   "outputs": [
    {
     "data": {
      "text/html": [
       "<div>\n",
       "<style scoped>\n",
       "    .dataframe tbody tr th:only-of-type {\n",
       "        vertical-align: middle;\n",
       "    }\n",
       "\n",
       "    .dataframe tbody tr th {\n",
       "        vertical-align: top;\n",
       "    }\n",
       "\n",
       "    .dataframe thead th {\n",
       "        text-align: right;\n",
       "    }\n",
       "</style>\n",
       "<table border=\"1\" class=\"dataframe\">\n",
       "  <thead>\n",
       "    <tr style=\"text-align: right;\">\n",
       "      <th></th>\n",
       "      <th>name</th>\n",
       "      <th>platform</th>\n",
       "      <th>year_of_release</th>\n",
       "      <th>genre</th>\n",
       "      <th>na_sales</th>\n",
       "      <th>eu_sales</th>\n",
       "      <th>jp_sales</th>\n",
       "      <th>other_sales</th>\n",
       "      <th>critic_score</th>\n",
       "      <th>user_score</th>\n",
       "      <th>rating</th>\n",
       "    </tr>\n",
       "  </thead>\n",
       "  <tbody>\n",
       "    <tr>\n",
       "      <th>count</th>\n",
       "      <td>16444</td>\n",
       "      <td>16444</td>\n",
       "      <td>16444.000000</td>\n",
       "      <td>16444</td>\n",
       "      <td>16444.000000</td>\n",
       "      <td>16444.000000</td>\n",
       "      <td>16444.000000</td>\n",
       "      <td>16444.000000</td>\n",
       "      <td>7983.000000</td>\n",
       "      <td>9839</td>\n",
       "      <td>9768</td>\n",
       "    </tr>\n",
       "    <tr>\n",
       "      <th>unique</th>\n",
       "      <td>11426</td>\n",
       "      <td>31</td>\n",
       "      <td>NaN</td>\n",
       "      <td>12</td>\n",
       "      <td>NaN</td>\n",
       "      <td>NaN</td>\n",
       "      <td>NaN</td>\n",
       "      <td>NaN</td>\n",
       "      <td>NaN</td>\n",
       "      <td>96</td>\n",
       "      <td>8</td>\n",
       "    </tr>\n",
       "    <tr>\n",
       "      <th>top</th>\n",
       "      <td>Need for Speed: Most Wanted</td>\n",
       "      <td>PS2</td>\n",
       "      <td>NaN</td>\n",
       "      <td>Action</td>\n",
       "      <td>NaN</td>\n",
       "      <td>NaN</td>\n",
       "      <td>NaN</td>\n",
       "      <td>NaN</td>\n",
       "      <td>NaN</td>\n",
       "      <td>tbd</td>\n",
       "      <td>E</td>\n",
       "    </tr>\n",
       "    <tr>\n",
       "      <th>freq</th>\n",
       "      <td>12</td>\n",
       "      <td>2127</td>\n",
       "      <td>NaN</td>\n",
       "      <td>3307</td>\n",
       "      <td>NaN</td>\n",
       "      <td>NaN</td>\n",
       "      <td>NaN</td>\n",
       "      <td>NaN</td>\n",
       "      <td>NaN</td>\n",
       "      <td>2376</td>\n",
       "      <td>3921</td>\n",
       "    </tr>\n",
       "    <tr>\n",
       "      <th>mean</th>\n",
       "      <td>NaN</td>\n",
       "      <td>NaN</td>\n",
       "      <td>2006.486256</td>\n",
       "      <td>NaN</td>\n",
       "      <td>0.264012</td>\n",
       "      <td>0.145930</td>\n",
       "      <td>0.078487</td>\n",
       "      <td>0.047594</td>\n",
       "      <td>68.994363</td>\n",
       "      <td>NaN</td>\n",
       "      <td>NaN</td>\n",
       "    </tr>\n",
       "    <tr>\n",
       "      <th>std</th>\n",
       "      <td>NaN</td>\n",
       "      <td>NaN</td>\n",
       "      <td>5.875525</td>\n",
       "      <td>NaN</td>\n",
       "      <td>0.818378</td>\n",
       "      <td>0.506716</td>\n",
       "      <td>0.311100</td>\n",
       "      <td>0.188005</td>\n",
       "      <td>13.920060</td>\n",
       "      <td>NaN</td>\n",
       "      <td>NaN</td>\n",
       "    </tr>\n",
       "    <tr>\n",
       "      <th>min</th>\n",
       "      <td>NaN</td>\n",
       "      <td>NaN</td>\n",
       "      <td>1980.000000</td>\n",
       "      <td>NaN</td>\n",
       "      <td>0.000000</td>\n",
       "      <td>0.000000</td>\n",
       "      <td>0.000000</td>\n",
       "      <td>0.000000</td>\n",
       "      <td>13.000000</td>\n",
       "      <td>NaN</td>\n",
       "      <td>NaN</td>\n",
       "    </tr>\n",
       "    <tr>\n",
       "      <th>25%</th>\n",
       "      <td>NaN</td>\n",
       "      <td>NaN</td>\n",
       "      <td>2003.000000</td>\n",
       "      <td>NaN</td>\n",
       "      <td>0.000000</td>\n",
       "      <td>0.000000</td>\n",
       "      <td>0.000000</td>\n",
       "      <td>0.000000</td>\n",
       "      <td>60.000000</td>\n",
       "      <td>NaN</td>\n",
       "      <td>NaN</td>\n",
       "    </tr>\n",
       "    <tr>\n",
       "      <th>50%</th>\n",
       "      <td>NaN</td>\n",
       "      <td>NaN</td>\n",
       "      <td>2007.000000</td>\n",
       "      <td>NaN</td>\n",
       "      <td>0.080000</td>\n",
       "      <td>0.020000</td>\n",
       "      <td>0.000000</td>\n",
       "      <td>0.010000</td>\n",
       "      <td>71.000000</td>\n",
       "      <td>NaN</td>\n",
       "      <td>NaN</td>\n",
       "    </tr>\n",
       "    <tr>\n",
       "      <th>75%</th>\n",
       "      <td>NaN</td>\n",
       "      <td>NaN</td>\n",
       "      <td>2010.000000</td>\n",
       "      <td>NaN</td>\n",
       "      <td>0.240000</td>\n",
       "      <td>0.110000</td>\n",
       "      <td>0.040000</td>\n",
       "      <td>0.030000</td>\n",
       "      <td>79.000000</td>\n",
       "      <td>NaN</td>\n",
       "      <td>NaN</td>\n",
       "    </tr>\n",
       "    <tr>\n",
       "      <th>max</th>\n",
       "      <td>NaN</td>\n",
       "      <td>NaN</td>\n",
       "      <td>2016.000000</td>\n",
       "      <td>NaN</td>\n",
       "      <td>41.360000</td>\n",
       "      <td>28.960000</td>\n",
       "      <td>10.220000</td>\n",
       "      <td>10.570000</td>\n",
       "      <td>98.000000</td>\n",
       "      <td>NaN</td>\n",
       "      <td>NaN</td>\n",
       "    </tr>\n",
       "  </tbody>\n",
       "</table>\n",
       "</div>"
      ],
      "text/plain": [
       "                               name platform  year_of_release   genre  \\\n",
       "count                         16444    16444     16444.000000   16444   \n",
       "unique                        11426       31              NaN      12   \n",
       "top     Need for Speed: Most Wanted      PS2              NaN  Action   \n",
       "freq                             12     2127              NaN    3307   \n",
       "mean                            NaN      NaN      2006.486256     NaN   \n",
       "std                             NaN      NaN         5.875525     NaN   \n",
       "min                             NaN      NaN      1980.000000     NaN   \n",
       "25%                             NaN      NaN      2003.000000     NaN   \n",
       "50%                             NaN      NaN      2007.000000     NaN   \n",
       "75%                             NaN      NaN      2010.000000     NaN   \n",
       "max                             NaN      NaN      2016.000000     NaN   \n",
       "\n",
       "            na_sales      eu_sales      jp_sales   other_sales  critic_score  \\\n",
       "count   16444.000000  16444.000000  16444.000000  16444.000000   7983.000000   \n",
       "unique           NaN           NaN           NaN           NaN           NaN   \n",
       "top              NaN           NaN           NaN           NaN           NaN   \n",
       "freq             NaN           NaN           NaN           NaN           NaN   \n",
       "mean        0.264012      0.145930      0.078487      0.047594     68.994363   \n",
       "std         0.818378      0.506716      0.311100      0.188005     13.920060   \n",
       "min         0.000000      0.000000      0.000000      0.000000     13.000000   \n",
       "25%         0.000000      0.000000      0.000000      0.000000     60.000000   \n",
       "50%         0.080000      0.020000      0.000000      0.010000     71.000000   \n",
       "75%         0.240000      0.110000      0.040000      0.030000     79.000000   \n",
       "max        41.360000     28.960000     10.220000     10.570000     98.000000   \n",
       "\n",
       "       user_score rating  \n",
       "count        9839   9768  \n",
       "unique         96      8  \n",
       "top           tbd      E  \n",
       "freq         2376   3921  \n",
       "mean          NaN    NaN  \n",
       "std           NaN    NaN  \n",
       "min           NaN    NaN  \n",
       "25%           NaN    NaN  \n",
       "50%           NaN    NaN  \n",
       "75%           NaN    NaN  \n",
       "max           NaN    NaN  "
      ]
     },
     "metadata": {},
     "output_type": "display_data"
    }
   ],
   "source": [
    "#using describe methos to learn more about our data, since we have categorial columns as well we will use include = 'all'\n",
    "display(games.describe(include = 'all'))"
   ]
  },
  {
   "cell_type": "markdown",
   "metadata": {},
   "source": [
    "It looks like for critic_score we are using a scale of 0-100.\n",
    "We can learn that the games we are lookng at were release between the years 2003 -2016, we have 0 values which are probably what we filled in instead of the missing values. \n",
    "We can learn that the most freqent genre is the Action genre, most popular in games and that most games released in these years are for the PS2 platform.\n",
    "We have a lot of 0 values in the sales categories, we can't drop them since it might just mean that there were no sales at all for these specific games, which is important for our forcast. \n",
    "We can see that the name of the game rows might have some rows with the same name , this could be due to the same game being released on different platforms or the same game being released in a leter year (like a new version of the game). \n",
    "User value is a categorial object because it includes a score of tbd - to be determined, and it is the most frequent score, this might mean it's a new game which didn't receive a score by users yet.\n",
    "Rating is also a categorial object."
   ]
  },
  {
   "cell_type": "code",
   "execution_count": 12,
   "metadata": {},
   "outputs": [
    {
     "data": {
      "text/plain": [
       "2009    405\n",
       "2010    331\n",
       "2008    326\n",
       "2011    217\n",
       "2002    192\n",
       "2007    192\n",
       "2006    124\n",
       "2005    121\n",
       "2004    107\n",
       "2003     95\n",
       "2001     82\n",
       "2000     43\n",
       "2015     38\n",
       "2016     34\n",
       "2012     24\n",
       "2014     21\n",
       "2013     15\n",
       "1999      8\n",
       "1997      1\n",
       "Name: year_of_release, dtype: int64"
      ]
     },
     "execution_count": 12,
     "metadata": {},
     "output_type": "execute_result"
    }
   ],
   "source": [
    "#looking into user_score tbd values\n",
    "games[games.user_score == 'tbd']['year_of_release'].value_counts()"
   ]
  },
  {
   "cell_type": "markdown",
   "metadata": {},
   "source": [
    "We can see that our assumption of new releases are in tbd score since the user didn't have a change to evaluate them yet is not true, there are even games from 1997 that were not evaluated by users yet. We have tbd in almost every year. \n",
    "For our analysis we will need to change this column to type float (so we can perform correlation) and also to change these 'tbd's to NaN in order to allow the type change."
   ]
  },
  {
   "cell_type": "code",
   "execution_count": 13,
   "metadata": {},
   "outputs": [
    {
     "data": {
      "text/plain": [
       "name               2376\n",
       "platform           2376\n",
       "year_of_release    2376\n",
       "genre              2376\n",
       "na_sales           2376\n",
       "eu_sales           2376\n",
       "jp_sales           2376\n",
       "other_sales        2376\n",
       "critic_score       1056\n",
       "user_score         2376\n",
       "rating             2326\n",
       "dtype: int64"
      ]
     },
     "execution_count": 13,
     "metadata": {},
     "output_type": "execute_result"
    }
   ],
   "source": [
    "#how many 'tbd's we have\n",
    "games[games['user_score'] == 'tbd'].count()"
   ]
  },
  {
   "cell_type": "code",
   "execution_count": 14,
   "metadata": {},
   "outputs": [],
   "source": [
    "#replace 'tbd' with NaN values\n",
    "games['user_score'] = games['user_score'].replace('tbd', np.nan)"
   ]
  },
  {
   "cell_type": "code",
   "execution_count": 15,
   "metadata": {},
   "outputs": [],
   "source": [
    "#change user score type to float\n",
    "games['user_score'] = pd.to_numeric(games['user_score'], errors='coerce')"
   ]
  },
  {
   "cell_type": "code",
   "execution_count": 16,
   "metadata": {},
   "outputs": [
    {
     "name": "stdout",
     "output_type": "stream",
     "text": [
      "<class 'pandas.core.frame.DataFrame'>\n",
      "Int64Index: 16444 entries, 0 to 16714\n",
      "Data columns (total 11 columns):\n",
      " #   Column           Non-Null Count  Dtype  \n",
      "---  ------           --------------  -----  \n",
      " 0   name             16444 non-null  object \n",
      " 1   platform         16444 non-null  object \n",
      " 2   year_of_release  16444 non-null  int64  \n",
      " 3   genre            16444 non-null  object \n",
      " 4   na_sales         16444 non-null  float64\n",
      " 5   eu_sales         16444 non-null  float64\n",
      " 6   jp_sales         16444 non-null  float64\n",
      " 7   other_sales      16444 non-null  float64\n",
      " 8   critic_score     7983 non-null   float64\n",
      " 9   user_score       7463 non-null   float64\n",
      " 10  rating           9768 non-null   object \n",
      "dtypes: float64(6), int64(1), object(4)\n",
      "memory usage: 1.5+ MB\n"
     ]
    }
   ],
   "source": [
    "games.info()"
   ]
  },
  {
   "cell_type": "code",
   "execution_count": 17,
   "metadata": {},
   "outputs": [
    {
     "data": {
      "text/plain": [
       "2009    775\n",
       "2010    755\n",
       "2008    712\n",
       "2011    636\n",
       "2007    505\n",
       "2006    386\n",
       "2015    381\n",
       "1998    351\n",
       "2012    332\n",
       "2014    320\n",
       "1999    299\n",
       "2005    284\n",
       "1997    272\n",
       "2013    271\n",
       "2016    270\n",
       "1996    255\n",
       "1995    219\n",
       "2000    207\n",
       "2002    202\n",
       "2004    201\n",
       "2003    190\n",
       "2001    156\n",
       "1994    120\n",
       "1993     60\n",
       "1981     46\n",
       "1992     42\n",
       "1991     41\n",
       "1982     36\n",
       "1986     21\n",
       "1983     17\n",
       "1989     17\n",
       "1990     16\n",
       "1987     16\n",
       "1988     14\n",
       "1984     14\n",
       "1985     13\n",
       "1980      9\n",
       "Name: year_of_release, dtype: int64"
      ]
     },
     "execution_count": 17,
     "metadata": {},
     "output_type": "execute_result"
    }
   ],
   "source": [
    "#looking at the critic score NaN values\n",
    "games[games.critic_score.isnull()]['year_of_release'].value_counts()"
   ]
  },
  {
   "cell_type": "markdown",
   "metadata": {},
   "source": [
    "Here as well, we se that we have NaN values for critic score for almost all the release years, not only for new releases. our assumption was wrong, maybe some of the games were never played or some of them were never really rated or this is just missing information. "
   ]
  },
  {
   "cell_type": "code",
   "execution_count": 18,
   "metadata": {},
   "outputs": [
    {
     "data": {
      "text/plain": [
       "2010    456\n",
       "2008    446\n",
       "2011    433\n",
       "2009    415\n",
       "2007    376\n",
       "1998    347\n",
       "2006    328\n",
       "2012    298\n",
       "1999    296\n",
       "2015    291\n",
       "1997    270\n",
       "1996    256\n",
       "2014    236\n",
       "2005    233\n",
       "2013    228\n",
       "2016    222\n",
       "1995    219\n",
       "2000    202\n",
       "2002    174\n",
       "2004    164\n",
       "2003    162\n",
       "2001    143\n",
       "1994    120\n",
       "1993     60\n",
       "1981     46\n",
       "1992     41\n",
       "1991     41\n",
       "1982     36\n",
       "1986     21\n",
       "1983     17\n",
       "1989     17\n",
       "1990     16\n",
       "1987     16\n",
       "1988     14\n",
       "1984     14\n",
       "1985     13\n",
       "1980      9\n",
       "Name: year_of_release, dtype: int64"
      ]
     },
     "execution_count": 18,
     "metadata": {},
     "output_type": "execute_result"
    }
   ],
   "source": [
    "#looking at the rating NaN values\n",
    "games[games.rating.isnull()]['year_of_release'].value_counts()"
   ]
  },
  {
   "cell_type": "markdown",
   "metadata": {},
   "source": [
    "Here as well, we se that we have NaN values for rating for almost all the release years, not only for new releases. our assumption was wrong, maybe some of the games were never played or some of them were never really rated or this is just missing information in our data set. "
   ]
  },
  {
   "cell_type": "code",
   "execution_count": 19,
   "metadata": {},
   "outputs": [],
   "source": [
    "#adding a marker instead of the missing values in rating column\n",
    "games['rating'] = games['rating'].fillna('unknown')"
   ]
  },
  {
   "cell_type": "code",
   "execution_count": 20,
   "metadata": {},
   "outputs": [
    {
     "data": {
      "text/html": [
       "<div>\n",
       "<style scoped>\n",
       "    .dataframe tbody tr th:only-of-type {\n",
       "        vertical-align: middle;\n",
       "    }\n",
       "\n",
       "    .dataframe tbody tr th {\n",
       "        vertical-align: top;\n",
       "    }\n",
       "\n",
       "    .dataframe thead th {\n",
       "        text-align: right;\n",
       "    }\n",
       "</style>\n",
       "<table border=\"1\" class=\"dataframe\">\n",
       "  <thead>\n",
       "    <tr style=\"text-align: right;\">\n",
       "      <th></th>\n",
       "      <th>name</th>\n",
       "      <th>platform</th>\n",
       "      <th>year_of_release</th>\n",
       "      <th>genre</th>\n",
       "      <th>na_sales</th>\n",
       "      <th>eu_sales</th>\n",
       "      <th>jp_sales</th>\n",
       "      <th>other_sales</th>\n",
       "      <th>critic_score</th>\n",
       "      <th>user_score</th>\n",
       "      <th>rating</th>\n",
       "      <th>total_sales</th>\n",
       "    </tr>\n",
       "  </thead>\n",
       "  <tbody>\n",
       "    <tr>\n",
       "      <th>0</th>\n",
       "      <td>Wii Sports</td>\n",
       "      <td>Wii</td>\n",
       "      <td>2006</td>\n",
       "      <td>Sports</td>\n",
       "      <td>41.36</td>\n",
       "      <td>28.96</td>\n",
       "      <td>3.77</td>\n",
       "      <td>8.45</td>\n",
       "      <td>76.0</td>\n",
       "      <td>8.0</td>\n",
       "      <td>E</td>\n",
       "      <td>82.54</td>\n",
       "    </tr>\n",
       "    <tr>\n",
       "      <th>1</th>\n",
       "      <td>Super Mario Bros.</td>\n",
       "      <td>NES</td>\n",
       "      <td>1985</td>\n",
       "      <td>Platform</td>\n",
       "      <td>29.08</td>\n",
       "      <td>3.58</td>\n",
       "      <td>6.81</td>\n",
       "      <td>0.77</td>\n",
       "      <td>NaN</td>\n",
       "      <td>NaN</td>\n",
       "      <td>unknown</td>\n",
       "      <td>40.24</td>\n",
       "    </tr>\n",
       "    <tr>\n",
       "      <th>2</th>\n",
       "      <td>Mario Kart Wii</td>\n",
       "      <td>Wii</td>\n",
       "      <td>2008</td>\n",
       "      <td>Racing</td>\n",
       "      <td>15.68</td>\n",
       "      <td>12.76</td>\n",
       "      <td>3.79</td>\n",
       "      <td>3.29</td>\n",
       "      <td>82.0</td>\n",
       "      <td>8.3</td>\n",
       "      <td>E</td>\n",
       "      <td>35.52</td>\n",
       "    </tr>\n",
       "    <tr>\n",
       "      <th>3</th>\n",
       "      <td>Wii Sports Resort</td>\n",
       "      <td>Wii</td>\n",
       "      <td>2009</td>\n",
       "      <td>Sports</td>\n",
       "      <td>15.61</td>\n",
       "      <td>10.93</td>\n",
       "      <td>3.28</td>\n",
       "      <td>2.95</td>\n",
       "      <td>80.0</td>\n",
       "      <td>8.0</td>\n",
       "      <td>E</td>\n",
       "      <td>32.77</td>\n",
       "    </tr>\n",
       "    <tr>\n",
       "      <th>4</th>\n",
       "      <td>Pokemon Red/Pokemon Blue</td>\n",
       "      <td>GB</td>\n",
       "      <td>1996</td>\n",
       "      <td>Role-Playing</td>\n",
       "      <td>11.27</td>\n",
       "      <td>8.89</td>\n",
       "      <td>10.22</td>\n",
       "      <td>1.00</td>\n",
       "      <td>NaN</td>\n",
       "      <td>NaN</td>\n",
       "      <td>unknown</td>\n",
       "      <td>31.38</td>\n",
       "    </tr>\n",
       "  </tbody>\n",
       "</table>\n",
       "</div>"
      ],
      "text/plain": [
       "                       name platform  year_of_release         genre  na_sales  \\\n",
       "0                Wii Sports      Wii             2006        Sports     41.36   \n",
       "1         Super Mario Bros.      NES             1985      Platform     29.08   \n",
       "2            Mario Kart Wii      Wii             2008        Racing     15.68   \n",
       "3         Wii Sports Resort      Wii             2009        Sports     15.61   \n",
       "4  Pokemon Red/Pokemon Blue       GB             1996  Role-Playing     11.27   \n",
       "\n",
       "   eu_sales  jp_sales  other_sales  critic_score  user_score   rating  \\\n",
       "0     28.96      3.77         8.45          76.0         8.0        E   \n",
       "1      3.58      6.81         0.77           NaN         NaN  unknown   \n",
       "2     12.76      3.79         3.29          82.0         8.3        E   \n",
       "3     10.93      3.28         2.95          80.0         8.0        E   \n",
       "4      8.89     10.22         1.00           NaN         NaN  unknown   \n",
       "\n",
       "   total_sales  \n",
       "0        82.54  \n",
       "1        40.24  \n",
       "2        35.52  \n",
       "3        32.77  \n",
       "4        31.38  "
      ]
     },
     "metadata": {},
     "output_type": "display_data"
    }
   ],
   "source": [
    "#calculating the total sales (the sum of sales in all regions) for each game and putting these values in a separate column\n",
    "games['total_sales'] = games[['na_sales', 'eu_sales', 'jp_sales', 'other_sales']].sum(axis = 1)\n",
    "display(games.head())"
   ]
  },
  {
   "cell_type": "markdown",
   "metadata": {},
   "source": [
    "## Data Analysis"
   ]
  },
  {
   "cell_type": "code",
   "execution_count": 21,
   "metadata": {},
   "outputs": [
    {
     "data": {
      "text/html": [
       "<div>\n",
       "<style scoped>\n",
       "    .dataframe tbody tr th:only-of-type {\n",
       "        vertical-align: middle;\n",
       "    }\n",
       "\n",
       "    .dataframe tbody tr th {\n",
       "        vertical-align: top;\n",
       "    }\n",
       "\n",
       "    .dataframe thead th {\n",
       "        text-align: right;\n",
       "    }\n",
       "</style>\n",
       "<table border=\"1\" class=\"dataframe\">\n",
       "  <thead>\n",
       "    <tr style=\"text-align: right;\">\n",
       "      <th></th>\n",
       "      <th>year_of_release</th>\n",
       "      <th>name</th>\n",
       "    </tr>\n",
       "  </thead>\n",
       "  <tbody>\n",
       "    <tr>\n",
       "      <th>0</th>\n",
       "      <td>1980</td>\n",
       "      <td>9</td>\n",
       "    </tr>\n",
       "    <tr>\n",
       "      <th>1</th>\n",
       "      <td>1981</td>\n",
       "      <td>46</td>\n",
       "    </tr>\n",
       "    <tr>\n",
       "      <th>2</th>\n",
       "      <td>1982</td>\n",
       "      <td>36</td>\n",
       "    </tr>\n",
       "    <tr>\n",
       "      <th>3</th>\n",
       "      <td>1983</td>\n",
       "      <td>17</td>\n",
       "    </tr>\n",
       "    <tr>\n",
       "      <th>4</th>\n",
       "      <td>1984</td>\n",
       "      <td>14</td>\n",
       "    </tr>\n",
       "    <tr>\n",
       "      <th>5</th>\n",
       "      <td>1985</td>\n",
       "      <td>14</td>\n",
       "    </tr>\n",
       "    <tr>\n",
       "      <th>6</th>\n",
       "      <td>1986</td>\n",
       "      <td>21</td>\n",
       "    </tr>\n",
       "    <tr>\n",
       "      <th>7</th>\n",
       "      <td>1987</td>\n",
       "      <td>16</td>\n",
       "    </tr>\n",
       "    <tr>\n",
       "      <th>8</th>\n",
       "      <td>1988</td>\n",
       "      <td>15</td>\n",
       "    </tr>\n",
       "    <tr>\n",
       "      <th>9</th>\n",
       "      <td>1989</td>\n",
       "      <td>17</td>\n",
       "    </tr>\n",
       "    <tr>\n",
       "      <th>10</th>\n",
       "      <td>1990</td>\n",
       "      <td>16</td>\n",
       "    </tr>\n",
       "    <tr>\n",
       "      <th>11</th>\n",
       "      <td>1991</td>\n",
       "      <td>41</td>\n",
       "    </tr>\n",
       "    <tr>\n",
       "      <th>12</th>\n",
       "      <td>1992</td>\n",
       "      <td>43</td>\n",
       "    </tr>\n",
       "    <tr>\n",
       "      <th>13</th>\n",
       "      <td>1993</td>\n",
       "      <td>60</td>\n",
       "    </tr>\n",
       "    <tr>\n",
       "      <th>14</th>\n",
       "      <td>1994</td>\n",
       "      <td>121</td>\n",
       "    </tr>\n",
       "    <tr>\n",
       "      <th>15</th>\n",
       "      <td>1995</td>\n",
       "      <td>219</td>\n",
       "    </tr>\n",
       "    <tr>\n",
       "      <th>16</th>\n",
       "      <td>1996</td>\n",
       "      <td>263</td>\n",
       "    </tr>\n",
       "    <tr>\n",
       "      <th>17</th>\n",
       "      <td>1997</td>\n",
       "      <td>289</td>\n",
       "    </tr>\n",
       "    <tr>\n",
       "      <th>18</th>\n",
       "      <td>1998</td>\n",
       "      <td>379</td>\n",
       "    </tr>\n",
       "    <tr>\n",
       "      <th>19</th>\n",
       "      <td>1999</td>\n",
       "      <td>338</td>\n",
       "    </tr>\n",
       "    <tr>\n",
       "      <th>20</th>\n",
       "      <td>2000</td>\n",
       "      <td>350</td>\n",
       "    </tr>\n",
       "    <tr>\n",
       "      <th>21</th>\n",
       "      <td>2001</td>\n",
       "      <td>482</td>\n",
       "    </tr>\n",
       "    <tr>\n",
       "      <th>22</th>\n",
       "      <td>2002</td>\n",
       "      <td>829</td>\n",
       "    </tr>\n",
       "    <tr>\n",
       "      <th>23</th>\n",
       "      <td>2003</td>\n",
       "      <td>775</td>\n",
       "    </tr>\n",
       "    <tr>\n",
       "      <th>24</th>\n",
       "      <td>2004</td>\n",
       "      <td>762</td>\n",
       "    </tr>\n",
       "    <tr>\n",
       "      <th>25</th>\n",
       "      <td>2005</td>\n",
       "      <td>939</td>\n",
       "    </tr>\n",
       "    <tr>\n",
       "      <th>26</th>\n",
       "      <td>2006</td>\n",
       "      <td>1006</td>\n",
       "    </tr>\n",
       "    <tr>\n",
       "      <th>27</th>\n",
       "      <td>2007</td>\n",
       "      <td>1197</td>\n",
       "    </tr>\n",
       "    <tr>\n",
       "      <th>28</th>\n",
       "      <td>2008</td>\n",
       "      <td>1427</td>\n",
       "    </tr>\n",
       "    <tr>\n",
       "      <th>29</th>\n",
       "      <td>2009</td>\n",
       "      <td>1426</td>\n",
       "    </tr>\n",
       "    <tr>\n",
       "      <th>30</th>\n",
       "      <td>2010</td>\n",
       "      <td>1255</td>\n",
       "    </tr>\n",
       "    <tr>\n",
       "      <th>31</th>\n",
       "      <td>2011</td>\n",
       "      <td>1136</td>\n",
       "    </tr>\n",
       "    <tr>\n",
       "      <th>32</th>\n",
       "      <td>2012</td>\n",
       "      <td>653</td>\n",
       "    </tr>\n",
       "    <tr>\n",
       "      <th>33</th>\n",
       "      <td>2013</td>\n",
       "      <td>544</td>\n",
       "    </tr>\n",
       "    <tr>\n",
       "      <th>34</th>\n",
       "      <td>2014</td>\n",
       "      <td>581</td>\n",
       "    </tr>\n",
       "    <tr>\n",
       "      <th>35</th>\n",
       "      <td>2015</td>\n",
       "      <td>606</td>\n",
       "    </tr>\n",
       "    <tr>\n",
       "      <th>36</th>\n",
       "      <td>2016</td>\n",
       "      <td>502</td>\n",
       "    </tr>\n",
       "  </tbody>\n",
       "</table>\n",
       "</div>"
      ],
      "text/plain": [
       "    year_of_release  name\n",
       "0              1980     9\n",
       "1              1981    46\n",
       "2              1982    36\n",
       "3              1983    17\n",
       "4              1984    14\n",
       "5              1985    14\n",
       "6              1986    21\n",
       "7              1987    16\n",
       "8              1988    15\n",
       "9              1989    17\n",
       "10             1990    16\n",
       "11             1991    41\n",
       "12             1992    43\n",
       "13             1993    60\n",
       "14             1994   121\n",
       "15             1995   219\n",
       "16             1996   263\n",
       "17             1997   289\n",
       "18             1998   379\n",
       "19             1999   338\n",
       "20             2000   350\n",
       "21             2001   482\n",
       "22             2002   829\n",
       "23             2003   775\n",
       "24             2004   762\n",
       "25             2005   939\n",
       "26             2006  1006\n",
       "27             2007  1197\n",
       "28             2008  1427\n",
       "29             2009  1426\n",
       "30             2010  1255\n",
       "31             2011  1136\n",
       "32             2012   653\n",
       "33             2013   544\n",
       "34             2014   581\n",
       "35             2015   606\n",
       "36             2016   502"
      ]
     },
     "execution_count": 21,
     "metadata": {},
     "output_type": "execute_result"
    }
   ],
   "source": [
    "#look at how many games were released in different years. Is the data for every period significant?\n",
    "games_per_year = games[['year_of_release', 'name']].groupby(['year_of_release']).count().sort_values(by = 'year_of_release').reset_index()\n",
    "games_per_year"
   ]
  },
  {
   "cell_type": "code",
   "execution_count": 22,
   "metadata": {},
   "outputs": [],
   "source": [
    "#remove the 0 values from this table since it is not helping out analysis for how many games were released in a specific year\n",
    "games_per_year = games_per_year[games_per_year['year_of_release'] != 0]"
   ]
  },
  {
   "cell_type": "code",
   "execution_count": 23,
   "metadata": {},
   "outputs": [
    {
     "data": {
      "image/png": "[encoded data removed]",
      "text/plain": [
       "<Figure size 1080x720 with 1 Axes>"
      ]
     },
     "metadata": {
      "needs_background": "light"
     },
     "output_type": "display_data"
    }
   ],
   "source": [
    "#making a lolipop chart to visualize the number of games released each year\n",
    "fig,ax = plt.subplots(figsize = (15, 10))\n",
    "ax.vlines(x = games_per_year.year_of_release, ymin = 0, ymax = games_per_year.name, color = 'green', alpha = 0.8, linewidth = 2)\n",
    "ax.scatter(x = games_per_year.year_of_release, y = games_per_year.name, s = 80, color = 'black', alpha = 0.8)\n",
    "ax.set_title('Number of released games per year', fontdict = {'size':15})\n",
    "ax.set_ylabel('Number of released games')\n",
    "ax.set_xticks(games_per_year.year_of_release)\n",
    "ax.set_xticklabels(games_per_year.year_of_release, rotation = 90)\n",
    "\n",
    "#adding the value of games released each year for every line to the chart\n",
    "for row in games_per_year.itertuples():\n",
    "    ax.text(row.year_of_release, row.name + 20, s = round(row.name, 2))"
   ]
  },
  {
   "cell_type": "markdown",
   "metadata": {},
   "source": [
    "From the plot we can clearly see that there was a rise in number of games released in 2002 and a fall in 2010. \n",
    "The first years 1980 - 1993 are pretty in significant in numbers, this industry was just at the beginning , not many games were release that time, not many people could afford this new technology. "
   ]
  },
  {
   "cell_type": "code",
   "execution_count": 24,
   "metadata": {},
   "outputs": [
    {
     "data": {
      "text/html": [
       "<div>\n",
       "<style scoped>\n",
       "    .dataframe tbody tr th:only-of-type {\n",
       "        vertical-align: middle;\n",
       "    }\n",
       "\n",
       "    .dataframe tbody tr th {\n",
       "        vertical-align: top;\n",
       "    }\n",
       "\n",
       "    .dataframe thead th {\n",
       "        text-align: right;\n",
       "    }\n",
       "</style>\n",
       "<table border=\"1\" class=\"dataframe\">\n",
       "  <thead>\n",
       "    <tr style=\"text-align: right;\">\n",
       "      <th></th>\n",
       "      <th>platform</th>\n",
       "      <th>total_sales</th>\n",
       "    </tr>\n",
       "  </thead>\n",
       "  <tbody>\n",
       "    <tr>\n",
       "      <th>0</th>\n",
       "      <td>PS2</td>\n",
       "      <td>1233.56</td>\n",
       "    </tr>\n",
       "    <tr>\n",
       "      <th>1</th>\n",
       "      <td>X360</td>\n",
       "      <td>961.24</td>\n",
       "    </tr>\n",
       "    <tr>\n",
       "      <th>2</th>\n",
       "      <td>PS3</td>\n",
       "      <td>931.34</td>\n",
       "    </tr>\n",
       "    <tr>\n",
       "      <th>3</th>\n",
       "      <td>Wii</td>\n",
       "      <td>891.18</td>\n",
       "    </tr>\n",
       "    <tr>\n",
       "      <th>4</th>\n",
       "      <td>DS</td>\n",
       "      <td>802.78</td>\n",
       "    </tr>\n",
       "    <tr>\n",
       "      <th>5</th>\n",
       "      <td>PS</td>\n",
       "      <td>727.58</td>\n",
       "    </tr>\n",
       "    <tr>\n",
       "      <th>6</th>\n",
       "      <td>PS4</td>\n",
       "      <td>314.14</td>\n",
       "    </tr>\n",
       "    <tr>\n",
       "      <th>7</th>\n",
       "      <td>GBA</td>\n",
       "      <td>312.88</td>\n",
       "    </tr>\n",
       "    <tr>\n",
       "      <th>8</th>\n",
       "      <td>PSP</td>\n",
       "      <td>289.53</td>\n",
       "    </tr>\n",
       "    <tr>\n",
       "      <th>9</th>\n",
       "      <td>3DS</td>\n",
       "      <td>257.81</td>\n",
       "    </tr>\n",
       "    <tr>\n",
       "      <th>10</th>\n",
       "      <td>PC</td>\n",
       "      <td>255.76</td>\n",
       "    </tr>\n",
       "    <tr>\n",
       "      <th>11</th>\n",
       "      <td>GB</td>\n",
       "      <td>254.43</td>\n",
       "    </tr>\n",
       "    <tr>\n",
       "      <th>12</th>\n",
       "      <td>XB</td>\n",
       "      <td>251.57</td>\n",
       "    </tr>\n",
       "    <tr>\n",
       "      <th>13</th>\n",
       "      <td>NES</td>\n",
       "      <td>251.05</td>\n",
       "    </tr>\n",
       "    <tr>\n",
       "      <th>14</th>\n",
       "      <td>N64</td>\n",
       "      <td>218.01</td>\n",
       "    </tr>\n",
       "    <tr>\n",
       "      <th>15</th>\n",
       "      <td>SNES</td>\n",
       "      <td>200.04</td>\n",
       "    </tr>\n",
       "    <tr>\n",
       "      <th>16</th>\n",
       "      <td>GC</td>\n",
       "      <td>196.73</td>\n",
       "    </tr>\n",
       "    <tr>\n",
       "      <th>17</th>\n",
       "      <td>XOne</td>\n",
       "      <td>159.32</td>\n",
       "    </tr>\n",
       "    <tr>\n",
       "      <th>18</th>\n",
       "      <td>2600</td>\n",
       "      <td>86.48</td>\n",
       "    </tr>\n",
       "    <tr>\n",
       "      <th>19</th>\n",
       "      <td>WiiU</td>\n",
       "      <td>82.19</td>\n",
       "    </tr>\n",
       "    <tr>\n",
       "      <th>20</th>\n",
       "      <td>PSV</td>\n",
       "      <td>53.81</td>\n",
       "    </tr>\n",
       "    <tr>\n",
       "      <th>21</th>\n",
       "      <td>SAT</td>\n",
       "      <td>33.59</td>\n",
       "    </tr>\n",
       "    <tr>\n",
       "      <th>22</th>\n",
       "      <td>GEN</td>\n",
       "      <td>28.35</td>\n",
       "    </tr>\n",
       "    <tr>\n",
       "      <th>23</th>\n",
       "      <td>DC</td>\n",
       "      <td>15.95</td>\n",
       "    </tr>\n",
       "    <tr>\n",
       "      <th>24</th>\n",
       "      <td>SCD</td>\n",
       "      <td>1.86</td>\n",
       "    </tr>\n",
       "    <tr>\n",
       "      <th>25</th>\n",
       "      <td>NG</td>\n",
       "      <td>1.44</td>\n",
       "    </tr>\n",
       "    <tr>\n",
       "      <th>26</th>\n",
       "      <td>WS</td>\n",
       "      <td>1.42</td>\n",
       "    </tr>\n",
       "    <tr>\n",
       "      <th>27</th>\n",
       "      <td>TG16</td>\n",
       "      <td>0.16</td>\n",
       "    </tr>\n",
       "    <tr>\n",
       "      <th>28</th>\n",
       "      <td>3DO</td>\n",
       "      <td>0.10</td>\n",
       "    </tr>\n",
       "    <tr>\n",
       "      <th>29</th>\n",
       "      <td>GG</td>\n",
       "      <td>0.04</td>\n",
       "    </tr>\n",
       "    <tr>\n",
       "      <th>30</th>\n",
       "      <td>PCFX</td>\n",
       "      <td>0.03</td>\n",
       "    </tr>\n",
       "  </tbody>\n",
       "</table>\n",
       "</div>"
      ],
      "text/plain": [
       "   platform  total_sales\n",
       "0       PS2      1233.56\n",
       "1      X360       961.24\n",
       "2       PS3       931.34\n",
       "3       Wii       891.18\n",
       "4        DS       802.78\n",
       "5        PS       727.58\n",
       "6       PS4       314.14\n",
       "7       GBA       312.88\n",
       "8       PSP       289.53\n",
       "9       3DS       257.81\n",
       "10       PC       255.76\n",
       "11       GB       254.43\n",
       "12       XB       251.57\n",
       "13      NES       251.05\n",
       "14      N64       218.01\n",
       "15     SNES       200.04\n",
       "16       GC       196.73\n",
       "17     XOne       159.32\n",
       "18     2600        86.48\n",
       "19     WiiU        82.19\n",
       "20      PSV        53.81\n",
       "21      SAT        33.59\n",
       "22      GEN        28.35\n",
       "23       DC        15.95\n",
       "24      SCD         1.86\n",
       "25       NG         1.44\n",
       "26       WS         1.42\n",
       "27     TG16         0.16\n",
       "28      3DO         0.10\n",
       "29       GG         0.04\n",
       "30     PCFX         0.03"
      ]
     },
     "execution_count": 24,
     "metadata": {},
     "output_type": "execute_result"
    }
   ],
   "source": [
    "#looking at how sales varied from platform to platform\n",
    "sales_by_plat = games[['platform', 'total_sales']].groupby(['platform']).sum().sort_values(by = 'total_sales', ascending = False).reset_index()\n",
    "sales_by_plat"
   ]
  },
  {
   "cell_type": "markdown",
   "metadata": {},
   "source": [
    "We can see that most of the revenue comes from PS2 games as could by suspected from the begining since it's the most popular platform in our dataset. "
   ]
  },
  {
   "cell_type": "code",
   "execution_count": 25,
   "metadata": {},
   "outputs": [
    {
     "data": {
      "image/png": "[encoded data removed]",
      "text/plain": [
       "<Figure size 864x576 with 1 Axes>"
      ]
     },
     "metadata": {
      "needs_background": "light"
     },
     "output_type": "display_data"
    }
   ],
   "source": [
    "#creating a distribution of the PS2 (the platforms with the greatest total sales) through the years\n",
    "ps2 = games[games['platform'] == 'PS2']\n",
    "ps2 = ps2[ps2['year_of_release'] != 0]\n",
    "ps2_year = ps2[['year_of_release', 'total_sales']].groupby(['year_of_release']).sum().sort_values(by = 'year_of_release').reset_index()\n",
    "ps2_year.plot.bar(x = 'year_of_release', y = 'total_sales', figsize = (12, 8))\n",
    "plt.title('PS2 Total sales trough the years')\n",
    "plt.ylabel('Total sales')\n",
    "plt.show()"
   ]
  },
  {
   "cell_type": "markdown",
   "metadata": {},
   "source": [
    "PS2 became a hit within 1 year from 2000 to 2001, and its revanue started to decrease in 2006. "
   ]
  },
  {
   "cell_type": "code",
   "execution_count": 26,
   "metadata": {},
   "outputs": [
    {
     "data": {
      "text/html": [
       "<div>\n",
       "<style scoped>\n",
       "    .dataframe tbody tr th:only-of-type {\n",
       "        vertical-align: middle;\n",
       "    }\n",
       "\n",
       "    .dataframe tbody tr th {\n",
       "        vertical-align: top;\n",
       "    }\n",
       "\n",
       "    .dataframe thead th {\n",
       "        text-align: right;\n",
       "    }\n",
       "</style>\n",
       "<table border=\"1\" class=\"dataframe\">\n",
       "  <thead>\n",
       "    <tr style=\"text-align: right;\">\n",
       "      <th>platform</th>\n",
       "      <th>2600</th>\n",
       "      <th>3DO</th>\n",
       "      <th>3DS</th>\n",
       "      <th>DC</th>\n",
       "      <th>DS</th>\n",
       "      <th>GB</th>\n",
       "      <th>GBA</th>\n",
       "      <th>GC</th>\n",
       "      <th>GEN</th>\n",
       "      <th>GG</th>\n",
       "      <th>...</th>\n",
       "      <th>SAT</th>\n",
       "      <th>SCD</th>\n",
       "      <th>SNES</th>\n",
       "      <th>TG16</th>\n",
       "      <th>WS</th>\n",
       "      <th>Wii</th>\n",
       "      <th>WiiU</th>\n",
       "      <th>X360</th>\n",
       "      <th>XB</th>\n",
       "      <th>XOne</th>\n",
       "    </tr>\n",
       "    <tr>\n",
       "      <th>year_of_release</th>\n",
       "      <th></th>\n",
       "      <th></th>\n",
       "      <th></th>\n",
       "      <th></th>\n",
       "      <th></th>\n",
       "      <th></th>\n",
       "      <th></th>\n",
       "      <th></th>\n",
       "      <th></th>\n",
       "      <th></th>\n",
       "      <th></th>\n",
       "      <th></th>\n",
       "      <th></th>\n",
       "      <th></th>\n",
       "      <th></th>\n",
       "      <th></th>\n",
       "      <th></th>\n",
       "      <th></th>\n",
       "      <th></th>\n",
       "      <th></th>\n",
       "      <th></th>\n",
       "    </tr>\n",
       "  </thead>\n",
       "  <tbody>\n",
       "    <tr>\n",
       "      <th>1980</th>\n",
       "      <td>11.38</td>\n",
       "      <td>0.0</td>\n",
       "      <td>0.0</td>\n",
       "      <td>0.0</td>\n",
       "      <td>0.0</td>\n",
       "      <td>0.0</td>\n",
       "      <td>0.0</td>\n",
       "      <td>0.0</td>\n",
       "      <td>0.0</td>\n",
       "      <td>0.0</td>\n",
       "      <td>...</td>\n",
       "      <td>0.0</td>\n",
       "      <td>0.0</td>\n",
       "      <td>0.0</td>\n",
       "      <td>0.0</td>\n",
       "      <td>0.0</td>\n",
       "      <td>0.0</td>\n",
       "      <td>0.0</td>\n",
       "      <td>0.0</td>\n",
       "      <td>0.0</td>\n",
       "      <td>0.0</td>\n",
       "    </tr>\n",
       "    <tr>\n",
       "      <th>1981</th>\n",
       "      <td>35.68</td>\n",
       "      <td>0.0</td>\n",
       "      <td>0.0</td>\n",
       "      <td>0.0</td>\n",
       "      <td>0.0</td>\n",
       "      <td>0.0</td>\n",
       "      <td>0.0</td>\n",
       "      <td>0.0</td>\n",
       "      <td>0.0</td>\n",
       "      <td>0.0</td>\n",
       "      <td>...</td>\n",
       "      <td>0.0</td>\n",
       "      <td>0.0</td>\n",
       "      <td>0.0</td>\n",
       "      <td>0.0</td>\n",
       "      <td>0.0</td>\n",
       "      <td>0.0</td>\n",
       "      <td>0.0</td>\n",
       "      <td>0.0</td>\n",
       "      <td>0.0</td>\n",
       "      <td>0.0</td>\n",
       "    </tr>\n",
       "    <tr>\n",
       "      <th>1982</th>\n",
       "      <td>28.88</td>\n",
       "      <td>0.0</td>\n",
       "      <td>0.0</td>\n",
       "      <td>0.0</td>\n",
       "      <td>0.0</td>\n",
       "      <td>0.0</td>\n",
       "      <td>0.0</td>\n",
       "      <td>0.0</td>\n",
       "      <td>0.0</td>\n",
       "      <td>0.0</td>\n",
       "      <td>...</td>\n",
       "      <td>0.0</td>\n",
       "      <td>0.0</td>\n",
       "      <td>0.0</td>\n",
       "      <td>0.0</td>\n",
       "      <td>0.0</td>\n",
       "      <td>0.0</td>\n",
       "      <td>0.0</td>\n",
       "      <td>0.0</td>\n",
       "      <td>0.0</td>\n",
       "      <td>0.0</td>\n",
       "    </tr>\n",
       "    <tr>\n",
       "      <th>1983</th>\n",
       "      <td>5.84</td>\n",
       "      <td>0.0</td>\n",
       "      <td>0.0</td>\n",
       "      <td>0.0</td>\n",
       "      <td>0.0</td>\n",
       "      <td>0.0</td>\n",
       "      <td>0.0</td>\n",
       "      <td>0.0</td>\n",
       "      <td>0.0</td>\n",
       "      <td>0.0</td>\n",
       "      <td>...</td>\n",
       "      <td>0.0</td>\n",
       "      <td>0.0</td>\n",
       "      <td>0.0</td>\n",
       "      <td>0.0</td>\n",
       "      <td>0.0</td>\n",
       "      <td>0.0</td>\n",
       "      <td>0.0</td>\n",
       "      <td>0.0</td>\n",
       "      <td>0.0</td>\n",
       "      <td>0.0</td>\n",
       "    </tr>\n",
       "    <tr>\n",
       "      <th>1984</th>\n",
       "      <td>0.27</td>\n",
       "      <td>0.0</td>\n",
       "      <td>0.0</td>\n",
       "      <td>0.0</td>\n",
       "      <td>0.0</td>\n",
       "      <td>0.0</td>\n",
       "      <td>0.0</td>\n",
       "      <td>0.0</td>\n",
       "      <td>0.0</td>\n",
       "      <td>0.0</td>\n",
       "      <td>...</td>\n",
       "      <td>0.0</td>\n",
       "      <td>0.0</td>\n",
       "      <td>0.0</td>\n",
       "      <td>0.0</td>\n",
       "      <td>0.0</td>\n",
       "      <td>0.0</td>\n",
       "      <td>0.0</td>\n",
       "      <td>0.0</td>\n",
       "      <td>0.0</td>\n",
       "      <td>0.0</td>\n",
       "    </tr>\n",
       "  </tbody>\n",
       "</table>\n",
       "<p>5 rows × 31 columns</p>\n",
       "</div>"
      ],
      "text/plain": [
       "platform          2600  3DO  3DS   DC   DS   GB  GBA   GC  GEN   GG  ...  SAT  \\\n",
       "year_of_release                                                      ...        \n",
       "1980             11.38  0.0  0.0  0.0  0.0  0.0  0.0  0.0  0.0  0.0  ...  0.0   \n",
       "1981             35.68  0.0  0.0  0.0  0.0  0.0  0.0  0.0  0.0  0.0  ...  0.0   \n",
       "1982             28.88  0.0  0.0  0.0  0.0  0.0  0.0  0.0  0.0  0.0  ...  0.0   \n",
       "1983              5.84  0.0  0.0  0.0  0.0  0.0  0.0  0.0  0.0  0.0  ...  0.0   \n",
       "1984              0.27  0.0  0.0  0.0  0.0  0.0  0.0  0.0  0.0  0.0  ...  0.0   \n",
       "\n",
       "platform         SCD  SNES  TG16   WS  Wii  WiiU  X360   XB  XOne  \n",
       "year_of_release                                                    \n",
       "1980             0.0   0.0   0.0  0.0  0.0   0.0   0.0  0.0   0.0  \n",
       "1981             0.0   0.0   0.0  0.0  0.0   0.0   0.0  0.0   0.0  \n",
       "1982             0.0   0.0   0.0  0.0  0.0   0.0   0.0  0.0   0.0  \n",
       "1983             0.0   0.0   0.0  0.0  0.0   0.0   0.0  0.0   0.0  \n",
       "1984             0.0   0.0   0.0  0.0  0.0   0.0   0.0  0.0   0.0  \n",
       "\n",
       "[5 rows x 31 columns]"
      ]
     },
     "execution_count": 26,
     "metadata": {},
     "output_type": "execute_result"
    }
   ],
   "source": [
    "#looking into how long does it generally take for new platforms to appear and old ones to fade away...\n",
    "#creating a pivot table that includes the total sales per platform per year\n",
    "plat_pivot = games.pivot_table(values = 'total_sales', index = 'year_of_release', columns = 'platform', aggfunc = 'sum', fill_value = 0)\n",
    "plat_pivot.head()\n"
   ]
  },
  {
   "cell_type": "code",
   "execution_count": 27,
   "metadata": {},
   "outputs": [
    {
     "data": {
      "image/png": "[encoded data removed]",
      "text/plain": [
       "<Figure size 1224x720 with 1 Axes>"
      ]
     },
     "metadata": {
      "needs_background": "light"
     },
     "output_type": "display_data"
    }
   ],
   "source": [
    "#creating a lineplot for each platform throughout the years of release\n",
    "plt.figure(figsize = (17, 10))\n",
    "sns.lineplot(data=plat_pivot, dashes = False)\n",
    "plt.title('Platforms sales over the years', fontdict = {'size':15})\n",
    "plt.ylabel('Total sales')\n",
    "plt.locator_params(axis='x', nbins=len(plat_pivot))"
   ]
  },
  {
   "cell_type": "markdown",
   "metadata": {},
   "source": [
    "From the chart it looks like it takes a platform 3 - 5 years to fade away. As this industry grow more new platforms emerged in th emarket even before the older ones faded away, there are several platforms active in parallel. "
   ]
  },
  {
   "cell_type": "markdown",
   "metadata": {},
   "source": [
    "Since we are looking for the forcast for 2017 and have the data until 2016, assuming our analysis is correct and the \"life time\" of a platform is ~4 years I will reduce the data set to year_of_release >=2013. "
   ]
  },
  {
   "cell_type": "code",
   "execution_count": 28,
   "metadata": {},
   "outputs": [],
   "source": [
    "#reducing the dataset\n",
    "games_2013 = games[games['year_of_release'] >= 2013]"
   ]
  },
  {
   "cell_type": "code",
   "execution_count": 29,
   "metadata": {},
   "outputs": [
    {
     "data": {
      "text/html": [
       "<div>\n",
       "<style scoped>\n",
       "    .dataframe tbody tr th:only-of-type {\n",
       "        vertical-align: middle;\n",
       "    }\n",
       "\n",
       "    .dataframe tbody tr th {\n",
       "        vertical-align: top;\n",
       "    }\n",
       "\n",
       "    .dataframe thead th {\n",
       "        text-align: right;\n",
       "    }\n",
       "</style>\n",
       "<table border=\"1\" class=\"dataframe\">\n",
       "  <thead>\n",
       "    <tr style=\"text-align: right;\">\n",
       "      <th></th>\n",
       "      <th>platform</th>\n",
       "      <th>total_sales</th>\n",
       "    </tr>\n",
       "  </thead>\n",
       "  <tbody>\n",
       "    <tr>\n",
       "      <th>0</th>\n",
       "      <td>PS4</td>\n",
       "      <td>314.14</td>\n",
       "    </tr>\n",
       "    <tr>\n",
       "      <th>1</th>\n",
       "      <td>PS3</td>\n",
       "      <td>181.43</td>\n",
       "    </tr>\n",
       "    <tr>\n",
       "      <th>2</th>\n",
       "      <td>XOne</td>\n",
       "      <td>159.32</td>\n",
       "    </tr>\n",
       "    <tr>\n",
       "      <th>3</th>\n",
       "      <td>3DS</td>\n",
       "      <td>143.25</td>\n",
       "    </tr>\n",
       "    <tr>\n",
       "      <th>4</th>\n",
       "      <td>X360</td>\n",
       "      <td>136.80</td>\n",
       "    </tr>\n",
       "    <tr>\n",
       "      <th>5</th>\n",
       "      <td>WiiU</td>\n",
       "      <td>64.63</td>\n",
       "    </tr>\n",
       "    <tr>\n",
       "      <th>6</th>\n",
       "      <td>PC</td>\n",
       "      <td>39.43</td>\n",
       "    </tr>\n",
       "    <tr>\n",
       "      <th>7</th>\n",
       "      <td>PSV</td>\n",
       "      <td>32.99</td>\n",
       "    </tr>\n",
       "    <tr>\n",
       "      <th>8</th>\n",
       "      <td>Wii</td>\n",
       "      <td>13.66</td>\n",
       "    </tr>\n",
       "    <tr>\n",
       "      <th>9</th>\n",
       "      <td>PSP</td>\n",
       "      <td>3.50</td>\n",
       "    </tr>\n",
       "    <tr>\n",
       "      <th>10</th>\n",
       "      <td>DS</td>\n",
       "      <td>1.54</td>\n",
       "    </tr>\n",
       "  </tbody>\n",
       "</table>\n",
       "</div>"
      ],
      "text/plain": [
       "   platform  total_sales\n",
       "0       PS4       314.14\n",
       "1       PS3       181.43\n",
       "2      XOne       159.32\n",
       "3       3DS       143.25\n",
       "4      X360       136.80\n",
       "5      WiiU        64.63\n",
       "6        PC        39.43\n",
       "7       PSV        32.99\n",
       "8       Wii        13.66\n",
       "9       PSP         3.50\n",
       "10       DS         1.54"
      ]
     },
     "execution_count": 29,
     "metadata": {},
     "output_type": "execute_result"
    }
   ],
   "source": [
    "#looking at how sales varied from platform to platform in the relevant years\n",
    "sales_by_plat_2013 = games_2013[['platform', 'total_sales']].groupby(['platform']).sum().sort_values(by = 'total_sales', ascending = False).reset_index()\n",
    "sales_by_plat_2013"
   ]
  },
  {
   "cell_type": "markdown",
   "metadata": {},
   "source": [
    "We can see that the most profitable platforms in these years are X360, 3DS, XOne, PS3, PS4. "
   ]
  },
  {
   "cell_type": "code",
   "execution_count": 30,
   "metadata": {},
   "outputs": [],
   "source": [
    "#reducing the data frame to only the five most profitable platforms\n",
    "plat = ['X360', '3DS', 'XOne', 'PS3', 'PS4']\n",
    "games_2013_topplat = games_2013.query('platform in @plat').reset_index()"
   ]
  },
  {
   "cell_type": "code",
   "execution_count": 31,
   "metadata": {},
   "outputs": [
    {
     "data": {
      "text/html": [
       "<div>\n",
       "<style scoped>\n",
       "    .dataframe tbody tr th:only-of-type {\n",
       "        vertical-align: middle;\n",
       "    }\n",
       "\n",
       "    .dataframe tbody tr th {\n",
       "        vertical-align: top;\n",
       "    }\n",
       "\n",
       "    .dataframe thead th {\n",
       "        text-align: right;\n",
       "    }\n",
       "</style>\n",
       "<table border=\"1\" class=\"dataframe\">\n",
       "  <thead>\n",
       "    <tr style=\"text-align: right;\">\n",
       "      <th>platform</th>\n",
       "      <th>3DS</th>\n",
       "      <th>PS3</th>\n",
       "      <th>PS4</th>\n",
       "      <th>X360</th>\n",
       "      <th>XOne</th>\n",
       "    </tr>\n",
       "    <tr>\n",
       "      <th>year_of_release</th>\n",
       "      <th></th>\n",
       "      <th></th>\n",
       "      <th></th>\n",
       "      <th></th>\n",
       "      <th></th>\n",
       "    </tr>\n",
       "  </thead>\n",
       "  <tbody>\n",
       "    <tr>\n",
       "      <th>2013</th>\n",
       "      <td>56.57</td>\n",
       "      <td>113.25</td>\n",
       "      <td>25.99</td>\n",
       "      <td>88.58</td>\n",
       "      <td>18.96</td>\n",
       "    </tr>\n",
       "    <tr>\n",
       "      <th>2014</th>\n",
       "      <td>43.76</td>\n",
       "      <td>47.76</td>\n",
       "      <td>100.00</td>\n",
       "      <td>34.74</td>\n",
       "      <td>54.07</td>\n",
       "    </tr>\n",
       "    <tr>\n",
       "      <th>2015</th>\n",
       "      <td>27.78</td>\n",
       "      <td>16.82</td>\n",
       "      <td>118.90</td>\n",
       "      <td>11.96</td>\n",
       "      <td>60.14</td>\n",
       "    </tr>\n",
       "    <tr>\n",
       "      <th>2016</th>\n",
       "      <td>15.14</td>\n",
       "      <td>3.60</td>\n",
       "      <td>69.25</td>\n",
       "      <td>1.52</td>\n",
       "      <td>26.15</td>\n",
       "    </tr>\n",
       "  </tbody>\n",
       "</table>\n",
       "</div>"
      ],
      "text/plain": [
       "platform           3DS     PS3     PS4   X360   XOne\n",
       "year_of_release                                     \n",
       "2013             56.57  113.25   25.99  88.58  18.96\n",
       "2014             43.76   47.76  100.00  34.74  54.07\n",
       "2015             27.78   16.82  118.90  11.96  60.14\n",
       "2016             15.14    3.60   69.25   1.52  26.15"
      ]
     },
     "execution_count": 31,
     "metadata": {},
     "output_type": "execute_result"
    }
   ],
   "source": [
    "#creating a pivot table of the relevant years\n",
    "plat_pivot_2013 = games_2013_topplat.pivot_table(values = 'total_sales', index = 'year_of_release', columns = 'platform', aggfunc = 'sum', fill_value = 0)\n",
    "plat_pivot_2013\n"
   ]
  },
  {
   "cell_type": "code",
   "execution_count": 32,
   "metadata": {},
   "outputs": [
    {
     "data": {
      "image/png": "[encoded data removed]",
      "text/plain": [
       "<Figure size 1224x720 with 1 Axes>"
      ]
     },
     "metadata": {
      "needs_background": "light"
     },
     "output_type": "display_data"
    }
   ],
   "source": [
    "#creating a lineplot for each platform throughout the years of release (>=2013)\n",
    "plt.figure(figsize = (17, 10))\n",
    "sns.lineplot(data=plat_pivot_2013, dashes = False)\n",
    "plt.title('Platforms sales over the years', fontdict = {'size':15})\n",
    "plt.ylabel('Total sales')\n",
    "plt.locator_params(axis='x', nbins=len(plat_pivot_2013))"
   ]
  },
  {
   "cell_type": "markdown",
   "metadata": {},
   "source": [
    "Looking at the most profitable platforms in the past 4 years we can see that they are all shrinking by looking at the slope of the line from 2015 to 2016.\n",
    "PS3 and X360 sales are almost at 0 revenue in 2016, I can remove them from the most profitable platforms list. \n",
    "PS4 and XOne were growing until 2015 but not anymore. "
   ]
  },
  {
   "cell_type": "code",
   "execution_count": 33,
   "metadata": {},
   "outputs": [],
   "source": [
    "#reducing the data frame to only the three most profitable platforms\n",
    "plat = ['3DS', 'XOne', 'PS4']\n",
    "games_2013_topplat = games_2013.query('platform in @plat').reset_index()"
   ]
  },
  {
   "cell_type": "code",
   "execution_count": 34,
   "metadata": {},
   "outputs": [
    {
     "data": {
      "text/html": [
       "<div>\n",
       "<style scoped>\n",
       "    .dataframe tbody tr th:only-of-type {\n",
       "        vertical-align: middle;\n",
       "    }\n",
       "\n",
       "    .dataframe tbody tr th {\n",
       "        vertical-align: top;\n",
       "    }\n",
       "\n",
       "    .dataframe thead th {\n",
       "        text-align: right;\n",
       "    }\n",
       "</style>\n",
       "<table border=\"1\" class=\"dataframe\">\n",
       "  <thead>\n",
       "    <tr style=\"text-align: right;\">\n",
       "      <th></th>\n",
       "      <th>platform</th>\n",
       "      <th>year_of_release</th>\n",
       "      <th>total_sales</th>\n",
       "    </tr>\n",
       "  </thead>\n",
       "  <tbody>\n",
       "    <tr>\n",
       "      <th>0</th>\n",
       "      <td>3DS</td>\n",
       "      <td>2013</td>\n",
       "      <td>56.57</td>\n",
       "    </tr>\n",
       "    <tr>\n",
       "      <th>1</th>\n",
       "      <td>3DS</td>\n",
       "      <td>2014</td>\n",
       "      <td>43.76</td>\n",
       "    </tr>\n",
       "    <tr>\n",
       "      <th>2</th>\n",
       "      <td>3DS</td>\n",
       "      <td>2015</td>\n",
       "      <td>27.78</td>\n",
       "    </tr>\n",
       "    <tr>\n",
       "      <th>3</th>\n",
       "      <td>3DS</td>\n",
       "      <td>2016</td>\n",
       "      <td>15.14</td>\n",
       "    </tr>\n",
       "    <tr>\n",
       "      <th>4</th>\n",
       "      <td>PS4</td>\n",
       "      <td>2013</td>\n",
       "      <td>25.99</td>\n",
       "    </tr>\n",
       "    <tr>\n",
       "      <th>5</th>\n",
       "      <td>PS4</td>\n",
       "      <td>2014</td>\n",
       "      <td>100.00</td>\n",
       "    </tr>\n",
       "    <tr>\n",
       "      <th>6</th>\n",
       "      <td>PS4</td>\n",
       "      <td>2015</td>\n",
       "      <td>118.90</td>\n",
       "    </tr>\n",
       "    <tr>\n",
       "      <th>7</th>\n",
       "      <td>PS4</td>\n",
       "      <td>2016</td>\n",
       "      <td>69.25</td>\n",
       "    </tr>\n",
       "    <tr>\n",
       "      <th>8</th>\n",
       "      <td>XOne</td>\n",
       "      <td>2013</td>\n",
       "      <td>18.96</td>\n",
       "    </tr>\n",
       "    <tr>\n",
       "      <th>9</th>\n",
       "      <td>XOne</td>\n",
       "      <td>2014</td>\n",
       "      <td>54.07</td>\n",
       "    </tr>\n",
       "    <tr>\n",
       "      <th>10</th>\n",
       "      <td>XOne</td>\n",
       "      <td>2015</td>\n",
       "      <td>60.14</td>\n",
       "    </tr>\n",
       "    <tr>\n",
       "      <th>11</th>\n",
       "      <td>XOne</td>\n",
       "      <td>2016</td>\n",
       "      <td>26.15</td>\n",
       "    </tr>\n",
       "  </tbody>\n",
       "</table>\n",
       "</div>"
      ],
      "text/plain": [
       "   platform  year_of_release  total_sales\n",
       "0       3DS             2013        56.57\n",
       "1       3DS             2014        43.76\n",
       "2       3DS             2015        27.78\n",
       "3       3DS             2016        15.14\n",
       "4       PS4             2013        25.99\n",
       "5       PS4             2014       100.00\n",
       "6       PS4             2015       118.90\n",
       "7       PS4             2016        69.25\n",
       "8      XOne             2013        18.96\n",
       "9      XOne             2014        54.07\n",
       "10     XOne             2015        60.14\n",
       "11     XOne             2016        26.15"
      ]
     },
     "execution_count": 34,
     "metadata": {},
     "output_type": "execute_result"
    }
   ],
   "source": [
    "#building a box plot for the global sales of all games, broken down by platform\n",
    "grouped2013 = games_2013_topplat.groupby(['platform', 'year_of_release'])['total_sales'].sum().reset_index()\n",
    "grouped2013"
   ]
  },
  {
   "cell_type": "code",
   "execution_count": 35,
   "metadata": {},
   "outputs": [
    {
     "data": {
      "image/png": "[encoded data removed]",
      "text/plain": [
       "<Figure size 1080x720 with 1 Axes>"
      ]
     },
     "metadata": {
      "needs_background": "light"
     },
     "output_type": "display_data"
    }
   ],
   "source": [
    "plt.figure(figsize = (15,10))\n",
    "sns.boxplot(data = grouped2013, x = 'platform', y = 'total_sales')\n",
    "plt.title('Boxplot for total sales per platform')\n",
    "plt.show()"
   ]
  },
  {
   "cell_type": "markdown",
   "metadata": {},
   "source": [
    "From the boxplot we can see that the PS4 was the most profitable platform, as for the rest of the platforms they are pretty much at the same levels. \n",
    "when looking at the averages we can see that difference between XOne and 3DS is not significant. "
   ]
  },
  {
   "cell_type": "code",
   "execution_count": 36,
   "metadata": {},
   "outputs": [
    {
     "data": {
      "text/html": [
       "<div>\n",
       "<style scoped>\n",
       "    .dataframe tbody tr th:only-of-type {\n",
       "        vertical-align: middle;\n",
       "    }\n",
       "\n",
       "    .dataframe tbody tr th {\n",
       "        vertical-align: top;\n",
       "    }\n",
       "\n",
       "    .dataframe thead th {\n",
       "        text-align: right;\n",
       "    }\n",
       "</style>\n",
       "<table border=\"1\" class=\"dataframe\">\n",
       "  <thead>\n",
       "    <tr style=\"text-align: right;\">\n",
       "      <th></th>\n",
       "      <th>total_sales</th>\n",
       "      <th>critic_score</th>\n",
       "      <th>user_score</th>\n",
       "    </tr>\n",
       "  </thead>\n",
       "  <tbody>\n",
       "    <tr>\n",
       "      <th>0</th>\n",
       "      <td>14.63</td>\n",
       "      <td>NaN</td>\n",
       "      <td>NaN</td>\n",
       "    </tr>\n",
       "    <tr>\n",
       "      <th>2</th>\n",
       "      <td>12.62</td>\n",
       "      <td>97.0</td>\n",
       "      <td>8.3</td>\n",
       "    </tr>\n",
       "    <tr>\n",
       "      <th>4</th>\n",
       "      <td>8.58</td>\n",
       "      <td>82.0</td>\n",
       "      <td>4.3</td>\n",
       "    </tr>\n",
       "    <tr>\n",
       "      <th>5</th>\n",
       "      <td>7.98</td>\n",
       "      <td>NaN</td>\n",
       "      <td>NaN</td>\n",
       "    </tr>\n",
       "    <tr>\n",
       "      <th>6</th>\n",
       "      <td>7.66</td>\n",
       "      <td>83.0</td>\n",
       "      <td>5.7</td>\n",
       "    </tr>\n",
       "    <tr>\n",
       "      <th>...</th>\n",
       "      <td>...</td>\n",
       "      <td>...</td>\n",
       "      <td>...</td>\n",
       "    </tr>\n",
       "    <tr>\n",
       "      <th>914</th>\n",
       "      <td>0.01</td>\n",
       "      <td>69.0</td>\n",
       "      <td>7.5</td>\n",
       "    </tr>\n",
       "    <tr>\n",
       "      <th>916</th>\n",
       "      <td>0.01</td>\n",
       "      <td>NaN</td>\n",
       "      <td>NaN</td>\n",
       "    </tr>\n",
       "    <tr>\n",
       "      <th>920</th>\n",
       "      <td>0.01</td>\n",
       "      <td>61.0</td>\n",
       "      <td>7.9</td>\n",
       "    </tr>\n",
       "    <tr>\n",
       "      <th>921</th>\n",
       "      <td>0.01</td>\n",
       "      <td>51.0</td>\n",
       "      <td>5.5</td>\n",
       "    </tr>\n",
       "    <tr>\n",
       "      <th>926</th>\n",
       "      <td>0.01</td>\n",
       "      <td>NaN</td>\n",
       "      <td>NaN</td>\n",
       "    </tr>\n",
       "  </tbody>\n",
       "</table>\n",
       "<p>392 rows × 3 columns</p>\n",
       "</div>"
      ],
      "text/plain": [
       "     total_sales  critic_score  user_score\n",
       "0          14.63           NaN         NaN\n",
       "2          12.62          97.0         8.3\n",
       "4           8.58          82.0         4.3\n",
       "5           7.98           NaN         NaN\n",
       "6           7.66          83.0         5.7\n",
       "..           ...           ...         ...\n",
       "914         0.01          69.0         7.5\n",
       "916         0.01           NaN         NaN\n",
       "920         0.01          61.0         7.9\n",
       "921         0.01          51.0         5.5\n",
       "926         0.01           NaN         NaN\n",
       "\n",
       "[392 rows x 3 columns]"
      ]
     },
     "execution_count": 36,
     "metadata": {},
     "output_type": "execute_result"
    }
   ],
   "source": [
    "ps4 = games_2013_topplat[games_2013_topplat['platform']=='PS4'][['total_sales', 'critic_score', 'user_score']]\n",
    "\n",
    "ps4"
   ]
  },
  {
   "cell_type": "code",
   "execution_count": 37,
   "metadata": {},
   "outputs": [],
   "source": [
    "#looking on the affect of user and professional reviews on the sales \n",
    "#creating a function to generate a scatter plot and calculate the pearson correlation coefficient between the score and sales\n",
    "\n",
    "def score_affect(platform, score):\n",
    "    data = games_2013_topplat[games_2013_topplat['platform'] == platform][['total_sales', score]]\n",
    "    #build a scatter plot\n",
    "    plt.scatter(data = data, x = score, y = 'total_sales')\n",
    "    plt.title('Connection between game score to total sales')\n",
    "    plt.xlabel('Score')\n",
    "    plt.ylabel('Total sales')\n",
    "    #calculate correlation\n",
    "    cor = data.corr(method = 'pearson')   \n",
    "    if cor.iloc[0][1] >= 0.7:\n",
    "        print('Positive & strong correlation between the score to the total sales')\n",
    "    else:\n",
    "        print('Weak correlation between the score and the total sales')\n",
    "    print('Correlation coefficient is: {}'.format(cor.iloc[0][1]))\n",
    "\n"
   ]
  },
  {
   "cell_type": "code",
   "execution_count": 38,
   "metadata": {},
   "outputs": [
    {
     "name": "stdout",
     "output_type": "stream",
     "text": [
      "Weak correlation between the score and the total sales\n",
      "Correlation coefficient is: 0.40656790206178123\n"
     ]
    },
    {
     "data": {
      "image/png": "[encoded data removed]",
      "text/plain": [
       "<Figure size 432x288 with 1 Axes>"
      ]
     },
     "metadata": {
      "needs_background": "light"
     },
     "output_type": "display_data"
    }
   ],
   "source": [
    "score_affect('PS4', 'critic_score')"
   ]
  },
  {
   "cell_type": "code",
   "execution_count": 39,
   "metadata": {},
   "outputs": [
    {
     "name": "stdout",
     "output_type": "stream",
     "text": [
      "Weak correlation between the score and the total sales\n",
      "Correlation coefficient is: -0.03195711020455685\n"
     ]
    },
    {
     "data": {
      "image/png": "[encoded data removed]",
      "text/plain": [
       "<Figure size 432x288 with 1 Axes>"
      ]
     },
     "metadata": {
      "needs_background": "light"
     },
     "output_type": "display_data"
    }
   ],
   "source": [
    "score_affect('PS4', 'user_score')"
   ]
  },
  {
   "cell_type": "markdown",
   "metadata": {},
   "source": [
    "When looking at the PS4 platform it looks like there's a weak connection between the critic scores to the sales and a really weak and negetive connection between the user score the the sales. \n",
    "Though we have to remember that we have a lot of missing data for these values (user score & critic score), I didn't want to fill in these values so I won't cause a distortion in the data. It is very important to pay attention to these missing values while collecting the data. "
   ]
  },
  {
   "cell_type": "code",
   "execution_count": 40,
   "metadata": {},
   "outputs": [
    {
     "name": "stdout",
     "output_type": "stream",
     "text": [
      "Weak correlation between the score and the total sales\n",
      "Correlation coefficient is: 0.4169983280084019\n"
     ]
    },
    {
     "data": {
      "image/png": "[encoded data removed]",
      "text/plain": [
       "<Figure size 432x288 with 1 Axes>"
      ]
     },
     "metadata": {
      "needs_background": "light"
     },
     "output_type": "display_data"
    }
   ],
   "source": [
    "#looking on the same connection for other platforms\n",
    "#XOne - critic score & sales\n",
    "score_affect('XOne', 'critic_score')"
   ]
  },
  {
   "cell_type": "code",
   "execution_count": 41,
   "metadata": {},
   "outputs": [
    {
     "name": "stdout",
     "output_type": "stream",
     "text": [
      "Weak correlation between the score and the total sales\n",
      "Correlation coefficient is: -0.06892505328279544\n"
     ]
    },
    {
     "data": {
      "image/png": "[encoded data removed]",
      "text/plain": [
       "<Figure size 432x288 with 1 Axes>"
      ]
     },
     "metadata": {
      "needs_background": "light"
     },
     "output_type": "display_data"
    }
   ],
   "source": [
    "#XOne - user score & sales\n",
    "score_affect('XOne', 'user_score')"
   ]
  },
  {
   "cell_type": "code",
   "execution_count": 42,
   "metadata": {},
   "outputs": [
    {
     "name": "stdout",
     "output_type": "stream",
     "text": [
      "Weak correlation between the score and the total sales\n",
      "Correlation coefficient is: 0.35705661422880974\n"
     ]
    },
    {
     "data": {
      "image/png": "[encoded data removed]",
      "text/plain": [
       "<Figure size 432x288 with 1 Axes>"
      ]
     },
     "metadata": {
      "needs_background": "light"
     },
     "output_type": "display_data"
    }
   ],
   "source": [
    "#looking on the same connection for other platforms\n",
    "#3DS - critic score & sales\n",
    "score_affect('3DS', 'critic_score')"
   ]
  },
  {
   "cell_type": "code",
   "execution_count": 43,
   "metadata": {},
   "outputs": [
    {
     "name": "stdout",
     "output_type": "stream",
     "text": [
      "Weak correlation between the score and the total sales\n",
      "Correlation coefficient is: 0.24150411773562971\n"
     ]
    },
    {
     "data": {
      "image/png": "[encoded data removed]",
      "text/plain": [
       "<Figure size 432x288 with 1 Axes>"
      ]
     },
     "metadata": {
      "needs_background": "light"
     },
     "output_type": "display_data"
    }
   ],
   "source": [
    "#3DS - user score & sales\n",
    "score_affect('3DS', 'user_score')"
   ]
  },
  {
   "cell_type": "markdown",
   "metadata": {},
   "source": [
    "We can see that in all profitable platforms we see a weak connection between the scores to the sales, as I mention earlier this might be since we are missing a great share of data for these parameters. \n",
    "Additional thing we can notice is that the correlation between the critic score to the sales is stronger then the correlation between the user score to the sales, for all the platforms above, this makes sense since people usually look at the professional critic before they decide if to buy the product or not, sometimes we take it more seriously than looking at our fellow users' critic. "
   ]
  },
  {
   "cell_type": "code",
   "execution_count": 44,
   "metadata": {},
   "outputs": [
    {
     "data": {
      "image/png": "[encoded data removed]",
      "text/plain": [
       "<Figure size 936x720 with 1 Axes>"
      ]
     },
     "metadata": {
      "needs_background": "light"
     },
     "output_type": "display_data"
    }
   ],
   "source": [
    "#looking at the distribution of games by genre, I will use the data set with all the platforms in the years 2013 and above\n",
    "name_group_genre = games_2013[['genre', 'name']].groupby(['genre']).count().sort_values(by = 'name').reset_index()\n",
    "                                                                               \n",
    "name_group_genre.plot.bar(x = 'genre',y= 'name', figsize = (13,10))\n",
    "plt.title('Games distribution by genre')\n",
    "plt.ylabel('Number of games')\n",
    "plt.xlabel('Genre')\n",
    "plt.show()\n"
   ]
  },
  {
   "cell_type": "markdown",
   "metadata": {},
   "source": [
    "There are mostly action games (followed by Role playing and Adveture) released in the years we analyze. \n",
    "In order to learn about the profits of the genres we will look into the total sales of each genre. "
   ]
  },
  {
   "cell_type": "code",
   "execution_count": 45,
   "metadata": {},
   "outputs": [
    {
     "data": {
      "text/html": [
       "<div>\n",
       "<style scoped>\n",
       "    .dataframe tbody tr th:only-of-type {\n",
       "        vertical-align: middle;\n",
       "    }\n",
       "\n",
       "    .dataframe tbody tr th {\n",
       "        vertical-align: top;\n",
       "    }\n",
       "\n",
       "    .dataframe thead th {\n",
       "        text-align: right;\n",
       "    }\n",
       "</style>\n",
       "<table border=\"1\" class=\"dataframe\">\n",
       "  <thead>\n",
       "    <tr style=\"text-align: right;\">\n",
       "      <th></th>\n",
       "      <th>genre</th>\n",
       "      <th>total_sales</th>\n",
       "    </tr>\n",
       "  </thead>\n",
       "  <tbody>\n",
       "    <tr>\n",
       "      <th>0</th>\n",
       "      <td>Action</td>\n",
       "      <td>321.87</td>\n",
       "    </tr>\n",
       "    <tr>\n",
       "      <th>1</th>\n",
       "      <td>Shooter</td>\n",
       "      <td>232.98</td>\n",
       "    </tr>\n",
       "    <tr>\n",
       "      <th>2</th>\n",
       "      <td>Sports</td>\n",
       "      <td>150.65</td>\n",
       "    </tr>\n",
       "    <tr>\n",
       "      <th>3</th>\n",
       "      <td>Role-Playing</td>\n",
       "      <td>145.89</td>\n",
       "    </tr>\n",
       "    <tr>\n",
       "      <th>4</th>\n",
       "      <td>Misc</td>\n",
       "      <td>62.82</td>\n",
       "    </tr>\n",
       "    <tr>\n",
       "      <th>5</th>\n",
       "      <td>Platform</td>\n",
       "      <td>42.63</td>\n",
       "    </tr>\n",
       "    <tr>\n",
       "      <th>6</th>\n",
       "      <td>Racing</td>\n",
       "      <td>39.89</td>\n",
       "    </tr>\n",
       "    <tr>\n",
       "      <th>7</th>\n",
       "      <td>Fighting</td>\n",
       "      <td>35.31</td>\n",
       "    </tr>\n",
       "    <tr>\n",
       "      <th>8</th>\n",
       "      <td>Adventure</td>\n",
       "      <td>23.64</td>\n",
       "    </tr>\n",
       "    <tr>\n",
       "      <th>9</th>\n",
       "      <td>Simulation</td>\n",
       "      <td>21.76</td>\n",
       "    </tr>\n",
       "    <tr>\n",
       "      <th>10</th>\n",
       "      <td>Strategy</td>\n",
       "      <td>10.08</td>\n",
       "    </tr>\n",
       "    <tr>\n",
       "      <th>11</th>\n",
       "      <td>Puzzle</td>\n",
       "      <td>3.17</td>\n",
       "    </tr>\n",
       "  </tbody>\n",
       "</table>\n",
       "</div>"
      ],
      "text/plain": [
       "           genre  total_sales\n",
       "0         Action       321.87\n",
       "1        Shooter       232.98\n",
       "2         Sports       150.65\n",
       "3   Role-Playing       145.89\n",
       "4           Misc        62.82\n",
       "5       Platform        42.63\n",
       "6         Racing        39.89\n",
       "7       Fighting        35.31\n",
       "8      Adventure        23.64\n",
       "9     Simulation        21.76\n",
       "10      Strategy        10.08\n",
       "11        Puzzle         3.17"
      ]
     },
     "execution_count": 45,
     "metadata": {},
     "output_type": "execute_result"
    }
   ],
   "source": [
    "#looking at how sales varied from genre to genre \n",
    "games_genre = games_2013[['genre', 'total_sales']].groupby(['genre']).sum().sort_values(by = 'total_sales', ascending = False).reset_index()\n",
    "games_genre"
   ]
  },
  {
   "cell_type": "markdown",
   "metadata": {},
   "source": [
    "When looking at the revenue we can see that Action genre is the most profitable game genre in the market, which is align with the fact that a great share of the games released are from the action genre. \n",
    "We can see that the Adventure genre that was the third on number of games is actually the eigth in profits, maybe each game from the genre is cheaper than other genres or it doesn't have as many fans as it's thought.\n",
    "\n",
    "The games with the least profit are from genres that require a lot of thought into the game - Strategy, Puzzle, Simulation, probably not many people play these games, it's for a very unique crowd. "
   ]
  },
  {
   "cell_type": "markdown",
   "metadata": {},
   "source": [
    "**Create a user profile for each region**"
   ]
  },
  {
   "cell_type": "code",
   "execution_count": 46,
   "metadata": {},
   "outputs": [
    {
     "data": {
      "text/html": [
       "<div>\n",
       "<style scoped>\n",
       "    .dataframe tbody tr th:only-of-type {\n",
       "        vertical-align: middle;\n",
       "    }\n",
       "\n",
       "    .dataframe tbody tr th {\n",
       "        vertical-align: top;\n",
       "    }\n",
       "\n",
       "    .dataframe thead th {\n",
       "        text-align: right;\n",
       "    }\n",
       "</style>\n",
       "<table border=\"1\" class=\"dataframe\">\n",
       "  <thead>\n",
       "    <tr style=\"text-align: right;\">\n",
       "      <th></th>\n",
       "      <th>platform</th>\n",
       "      <th>na_sales</th>\n",
       "      <th>market_share [%]</th>\n",
       "    </tr>\n",
       "  </thead>\n",
       "  <tbody>\n",
       "    <tr>\n",
       "      <th>4</th>\n",
       "      <td>PS4</td>\n",
       "      <td>108.74</td>\n",
       "      <td>24.842933</td>\n",
       "    </tr>\n",
       "    <tr>\n",
       "      <th>10</th>\n",
       "      <td>XOne</td>\n",
       "      <td>93.12</td>\n",
       "      <td>21.274360</td>\n",
       "    </tr>\n",
       "    <tr>\n",
       "      <th>9</th>\n",
       "      <td>X360</td>\n",
       "      <td>81.66</td>\n",
       "      <td>18.656188</td>\n",
       "    </tr>\n",
       "    <tr>\n",
       "      <th>3</th>\n",
       "      <td>PS3</td>\n",
       "      <td>63.50</td>\n",
       "      <td>14.507322</td>\n",
       "    </tr>\n",
       "    <tr>\n",
       "      <th>0</th>\n",
       "      <td>3DS</td>\n",
       "      <td>38.20</td>\n",
       "      <td>8.727239</td>\n",
       "    </tr>\n",
       "  </tbody>\n",
       "</table>\n",
       "</div>"
      ],
      "text/plain": [
       "   platform  na_sales  market_share [%]\n",
       "4       PS4    108.74         24.842933\n",
       "10     XOne     93.12         21.274360\n",
       "9      X360     81.66         18.656188\n",
       "3       PS3     63.50         14.507322\n",
       "0       3DS     38.20          8.727239"
      ]
     },
     "metadata": {},
     "output_type": "display_data"
    },
    {
     "data": {
      "image/png": "[encoded data removed]",
      "text/plain": [
       "<Figure size 576x432 with 1 Axes>"
      ]
     },
     "metadata": {},
     "output_type": "display_data"
    }
   ],
   "source": [
    "# Looking at the top 5 platforms for each region\n",
    "#NA\n",
    "na_platform = games_2013.groupby(['platform'])['na_sales'].sum().reset_index().sort_values(by = 'na_sales', ascending = False)\n",
    "na_platform ['market_share [%]'] = (na_platform['na_sales'] / na_platform['na_sales'].sum())*100\n",
    "display(na_platform.head())\n",
    "na_platform[na_platform['market_share [%]'] > 8].plot.pie(y = 'na_sales', figsize = (8,6), labels = round(na_platform['market_share [%]']))\n",
    "plt.legend(na_platform['platform'], loc = (1,1))\n",
    "plt.title('Top 5 platform in NA region')\n",
    "plt.show()"
   ]
  },
  {
   "cell_type": "code",
   "execution_count": 47,
   "metadata": {},
   "outputs": [
    {
     "data": {
      "text/html": [
       "<div>\n",
       "<style scoped>\n",
       "    .dataframe tbody tr th:only-of-type {\n",
       "        vertical-align: middle;\n",
       "    }\n",
       "\n",
       "    .dataframe tbody tr th {\n",
       "        vertical-align: top;\n",
       "    }\n",
       "\n",
       "    .dataframe thead th {\n",
       "        text-align: right;\n",
       "    }\n",
       "</style>\n",
       "<table border=\"1\" class=\"dataframe\">\n",
       "  <thead>\n",
       "    <tr style=\"text-align: right;\">\n",
       "      <th></th>\n",
       "      <th>platform</th>\n",
       "      <th>jp_sales</th>\n",
       "      <th>market_share [%]</th>\n",
       "    </tr>\n",
       "  </thead>\n",
       "  <tbody>\n",
       "    <tr>\n",
       "      <th>0</th>\n",
       "      <td>3DS</td>\n",
       "      <td>67.81</td>\n",
       "      <td>48.167353</td>\n",
       "    </tr>\n",
       "    <tr>\n",
       "      <th>3</th>\n",
       "      <td>PS3</td>\n",
       "      <td>23.35</td>\n",
       "      <td>16.586163</td>\n",
       "    </tr>\n",
       "    <tr>\n",
       "      <th>6</th>\n",
       "      <td>PSV</td>\n",
       "      <td>18.59</td>\n",
       "      <td>13.205001</td>\n",
       "    </tr>\n",
       "    <tr>\n",
       "      <th>4</th>\n",
       "      <td>PS4</td>\n",
       "      <td>15.96</td>\n",
       "      <td>11.336838</td>\n",
       "    </tr>\n",
       "    <tr>\n",
       "      <th>8</th>\n",
       "      <td>WiiU</td>\n",
       "      <td>10.88</td>\n",
       "      <td>7.728371</td>\n",
       "    </tr>\n",
       "  </tbody>\n",
       "</table>\n",
       "</div>"
      ],
      "text/plain": [
       "  platform  jp_sales  market_share [%]\n",
       "0      3DS     67.81         48.167353\n",
       "3      PS3     23.35         16.586163\n",
       "6      PSV     18.59         13.205001\n",
       "4      PS4     15.96         11.336838\n",
       "8     WiiU     10.88          7.728371"
      ]
     },
     "metadata": {},
     "output_type": "display_data"
    },
    {
     "data": {
      "image/png": "[encoded data removed]",
      "text/plain": [
       "<Figure size 576x432 with 1 Axes>"
      ]
     },
     "metadata": {},
     "output_type": "display_data"
    }
   ],
   "source": [
    "# Looking at the top 5 platforms for each region\n",
    "#JP\n",
    "jp_platform = games_2013.groupby(['platform'])['jp_sales'].sum().reset_index().sort_values(by = 'jp_sales', ascending = False)\n",
    "jp_platform ['market_share [%]'] = (jp_platform['jp_sales'] / jp_platform['jp_sales'].sum())*100\n",
    "display(jp_platform.head())\n",
    "jp_platform[jp_platform['market_share [%]'] > 7.7].plot.pie(y = 'jp_sales', figsize = (8,6), labels = round(jp_platform['market_share [%]']))\n",
    "plt.legend(jp_platform['platform'], loc = (1,1))\n",
    "plt.title('Top 5 platform in JP region')\n",
    "plt.show()"
   ]
  },
  {
   "cell_type": "code",
   "execution_count": 48,
   "metadata": {},
   "outputs": [
    {
     "data": {
      "text/html": [
       "<div>\n",
       "<style scoped>\n",
       "    .dataframe tbody tr th:only-of-type {\n",
       "        vertical-align: middle;\n",
       "    }\n",
       "\n",
       "    .dataframe tbody tr th {\n",
       "        vertical-align: top;\n",
       "    }\n",
       "\n",
       "    .dataframe thead th {\n",
       "        text-align: right;\n",
       "    }\n",
       "</style>\n",
       "<table border=\"1\" class=\"dataframe\">\n",
       "  <thead>\n",
       "    <tr style=\"text-align: right;\">\n",
       "      <th></th>\n",
       "      <th>platform</th>\n",
       "      <th>eu_sales</th>\n",
       "      <th>market_share [%]</th>\n",
       "    </tr>\n",
       "  </thead>\n",
       "  <tbody>\n",
       "    <tr>\n",
       "      <th>4</th>\n",
       "      <td>PS4</td>\n",
       "      <td>141.09</td>\n",
       "      <td>35.971241</td>\n",
       "    </tr>\n",
       "    <tr>\n",
       "      <th>3</th>\n",
       "      <td>PS3</td>\n",
       "      <td>67.81</td>\n",
       "      <td>17.288326</td>\n",
       "    </tr>\n",
       "    <tr>\n",
       "      <th>10</th>\n",
       "      <td>XOne</td>\n",
       "      <td>51.59</td>\n",
       "      <td>13.152997</td>\n",
       "    </tr>\n",
       "    <tr>\n",
       "      <th>9</th>\n",
       "      <td>X360</td>\n",
       "      <td>42.52</td>\n",
       "      <td>10.840578</td>\n",
       "    </tr>\n",
       "    <tr>\n",
       "      <th>0</th>\n",
       "      <td>3DS</td>\n",
       "      <td>30.96</td>\n",
       "      <td>7.893328</td>\n",
       "    </tr>\n",
       "  </tbody>\n",
       "</table>\n",
       "</div>"
      ],
      "text/plain": [
       "   platform  eu_sales  market_share [%]\n",
       "4       PS4    141.09         35.971241\n",
       "3       PS3     67.81         17.288326\n",
       "10     XOne     51.59         13.152997\n",
       "9      X360     42.52         10.840578\n",
       "0       3DS     30.96          7.893328"
      ]
     },
     "metadata": {},
     "output_type": "display_data"
    },
    {
     "data": {
      "image/png": "[encoded data removed]",
      "text/plain": [
       "<Figure size 576x432 with 1 Axes>"
      ]
     },
     "metadata": {},
     "output_type": "display_data"
    }
   ],
   "source": [
    "# Looking at the top 5 platforms for each region\n",
    "#EU\n",
    "eu_platform = games_2013.groupby(['platform'])['eu_sales'].sum().reset_index().sort_values(by = 'eu_sales', ascending = False)\n",
    "eu_platform ['market_share [%]'] = (eu_platform['eu_sales'] / eu_platform['eu_sales'].sum())*100\n",
    "display(eu_platform.head())\n",
    "eu_platform[eu_platform['market_share [%]'] > 8].plot.pie(y = 'eu_sales', figsize = (8,6), labels = round(eu_platform['market_share [%]']))\n",
    "plt.legend(eu_platform['platform'], loc = (1,1))\n",
    "plt.title('Top 5 platform in EU region')\n",
    "plt.show()"
   ]
  },
  {
   "cell_type": "markdown",
   "metadata": {},
   "source": [
    "We can see that the top 5 platforms for JP region are different from EU & NA (with are the same in a different order). The most profitable platform in JP which holds almost 50% of the market shares is 3DS which is the least profitable (out of the 5) in the EU and NA, this region is playing using deifferent platforms when compared to NA and EU. \n",
    "This should be taken into account when launcing a game in the JP market. "
   ]
  },
  {
   "cell_type": "code",
   "execution_count": 49,
   "metadata": {},
   "outputs": [
    {
     "data": {
      "text/html": [
       "<div>\n",
       "<style scoped>\n",
       "    .dataframe tbody tr th:only-of-type {\n",
       "        vertical-align: middle;\n",
       "    }\n",
       "\n",
       "    .dataframe tbody tr th {\n",
       "        vertical-align: top;\n",
       "    }\n",
       "\n",
       "    .dataframe thead th {\n",
       "        text-align: right;\n",
       "    }\n",
       "</style>\n",
       "<table border=\"1\" class=\"dataframe\">\n",
       "  <thead>\n",
       "    <tr style=\"text-align: right;\">\n",
       "      <th></th>\n",
       "      <th>genre</th>\n",
       "      <th>na_sales</th>\n",
       "      <th>market_share [%]</th>\n",
       "    </tr>\n",
       "  </thead>\n",
       "  <tbody>\n",
       "    <tr>\n",
       "      <th>0</th>\n",
       "      <td>Action</td>\n",
       "      <td>126.05</td>\n",
       "      <td>28.797606</td>\n",
       "    </tr>\n",
       "    <tr>\n",
       "      <th>8</th>\n",
       "      <td>Shooter</td>\n",
       "      <td>109.74</td>\n",
       "      <td>25.071394</td>\n",
       "    </tr>\n",
       "    <tr>\n",
       "      <th>10</th>\n",
       "      <td>Sports</td>\n",
       "      <td>65.27</td>\n",
       "      <td>14.911700</td>\n",
       "    </tr>\n",
       "    <tr>\n",
       "      <th>7</th>\n",
       "      <td>Role-Playing</td>\n",
       "      <td>46.40</td>\n",
       "      <td>10.600626</td>\n",
       "    </tr>\n",
       "    <tr>\n",
       "      <th>3</th>\n",
       "      <td>Misc</td>\n",
       "      <td>27.49</td>\n",
       "      <td>6.280414</td>\n",
       "    </tr>\n",
       "  </tbody>\n",
       "</table>\n",
       "</div>"
      ],
      "text/plain": [
       "           genre  na_sales  market_share [%]\n",
       "0         Action    126.05         28.797606\n",
       "8        Shooter    109.74         25.071394\n",
       "10        Sports     65.27         14.911700\n",
       "7   Role-Playing     46.40         10.600626\n",
       "3           Misc     27.49          6.280414"
      ]
     },
     "execution_count": 49,
     "metadata": {},
     "output_type": "execute_result"
    }
   ],
   "source": [
    "# Looking at the top 5 genres for each region\n",
    "#NA\n",
    "na_genres = games_2013.groupby(['genre'])['na_sales'].sum().reset_index().sort_values(by = 'na_sales', ascending = False)\n",
    "na_genres ['market_share [%]'] = (na_genres['na_sales'] / na_genres['na_sales'].sum())*100\n",
    "na_genres.head()"
   ]
  },
  {
   "cell_type": "code",
   "execution_count": 50,
   "metadata": {},
   "outputs": [
    {
     "data": {
      "text/html": [
       "<div>\n",
       "<style scoped>\n",
       "    .dataframe tbody tr th:only-of-type {\n",
       "        vertical-align: middle;\n",
       "    }\n",
       "\n",
       "    .dataframe tbody tr th {\n",
       "        vertical-align: top;\n",
       "    }\n",
       "\n",
       "    .dataframe thead th {\n",
       "        text-align: right;\n",
       "    }\n",
       "</style>\n",
       "<table border=\"1\" class=\"dataframe\">\n",
       "  <thead>\n",
       "    <tr style=\"text-align: right;\">\n",
       "      <th></th>\n",
       "      <th>genre</th>\n",
       "      <th>jp_sales</th>\n",
       "      <th>market_share [%]</th>\n",
       "    </tr>\n",
       "  </thead>\n",
       "  <tbody>\n",
       "    <tr>\n",
       "      <th>7</th>\n",
       "      <td>Role-Playing</td>\n",
       "      <td>51.04</td>\n",
       "      <td>36.255150</td>\n",
       "    </tr>\n",
       "    <tr>\n",
       "      <th>0</th>\n",
       "      <td>Action</td>\n",
       "      <td>40.49</td>\n",
       "      <td>28.761188</td>\n",
       "    </tr>\n",
       "    <tr>\n",
       "      <th>3</th>\n",
       "      <td>Misc</td>\n",
       "      <td>9.20</td>\n",
       "      <td>6.535019</td>\n",
       "    </tr>\n",
       "    <tr>\n",
       "      <th>2</th>\n",
       "      <td>Fighting</td>\n",
       "      <td>7.65</td>\n",
       "      <td>5.434011</td>\n",
       "    </tr>\n",
       "    <tr>\n",
       "      <th>8</th>\n",
       "      <td>Shooter</td>\n",
       "      <td>6.61</td>\n",
       "      <td>4.695269</td>\n",
       "    </tr>\n",
       "  </tbody>\n",
       "</table>\n",
       "</div>"
      ],
      "text/plain": [
       "          genre  jp_sales  market_share [%]\n",
       "7  Role-Playing     51.04         36.255150\n",
       "0        Action     40.49         28.761188\n",
       "3          Misc      9.20          6.535019\n",
       "2      Fighting      7.65          5.434011\n",
       "8       Shooter      6.61          4.695269"
      ]
     },
     "execution_count": 50,
     "metadata": {},
     "output_type": "execute_result"
    }
   ],
   "source": [
    "# Looking at the top 5 genres for each region\n",
    "#JP\n",
    "jp_genres = games_2013.groupby(['genre'])['jp_sales'].sum().reset_index().sort_values(by = 'jp_sales', ascending = False)\n",
    "jp_genres ['market_share [%]'] = (jp_genres['jp_sales'] / jp_genres['jp_sales'].sum())*100\n",
    "jp_genres.head()"
   ]
  },
  {
   "cell_type": "code",
   "execution_count": 51,
   "metadata": {},
   "outputs": [
    {
     "data": {
      "text/html": [
       "<div>\n",
       "<style scoped>\n",
       "    .dataframe tbody tr th:only-of-type {\n",
       "        vertical-align: middle;\n",
       "    }\n",
       "\n",
       "    .dataframe tbody tr th {\n",
       "        vertical-align: top;\n",
       "    }\n",
       "\n",
       "    .dataframe thead th {\n",
       "        text-align: right;\n",
       "    }\n",
       "</style>\n",
       "<table border=\"1\" class=\"dataframe\">\n",
       "  <thead>\n",
       "    <tr style=\"text-align: right;\">\n",
       "      <th></th>\n",
       "      <th>genre</th>\n",
       "      <th>eu_sales</th>\n",
       "      <th>market_share [%]</th>\n",
       "    </tr>\n",
       "  </thead>\n",
       "  <tbody>\n",
       "    <tr>\n",
       "      <th>0</th>\n",
       "      <td>Action</td>\n",
       "      <td>118.13</td>\n",
       "      <td>30.117533</td>\n",
       "    </tr>\n",
       "    <tr>\n",
       "      <th>8</th>\n",
       "      <td>Shooter</td>\n",
       "      <td>87.86</td>\n",
       "      <td>22.400122</td>\n",
       "    </tr>\n",
       "    <tr>\n",
       "      <th>10</th>\n",
       "      <td>Sports</td>\n",
       "      <td>60.52</td>\n",
       "      <td>15.429722</td>\n",
       "    </tr>\n",
       "    <tr>\n",
       "      <th>7</th>\n",
       "      <td>Role-Playing</td>\n",
       "      <td>36.97</td>\n",
       "      <td>9.425592</td>\n",
       "    </tr>\n",
       "    <tr>\n",
       "      <th>6</th>\n",
       "      <td>Racing</td>\n",
       "      <td>20.19</td>\n",
       "      <td>5.147490</td>\n",
       "    </tr>\n",
       "  </tbody>\n",
       "</table>\n",
       "</div>"
      ],
      "text/plain": [
       "           genre  eu_sales  market_share [%]\n",
       "0         Action    118.13         30.117533\n",
       "8        Shooter     87.86         22.400122\n",
       "10        Sports     60.52         15.429722\n",
       "7   Role-Playing     36.97          9.425592\n",
       "6         Racing     20.19          5.147490"
      ]
     },
     "execution_count": 51,
     "metadata": {},
     "output_type": "execute_result"
    }
   ],
   "source": [
    "# Looking at the top 5 genres for each region\n",
    "#EU\n",
    "eu_genres = games_2013.groupby(['genre'])['eu_sales'].sum().reset_index().sort_values(by = 'eu_sales', ascending = False)\n",
    "eu_genres ['market_share [%]'] = (eu_genres['eu_sales'] / eu_genres['eu_sales'].sum())*100\n",
    "eu_genres.head()"
   ]
  },
  {
   "cell_type": "markdown",
   "metadata": {},
   "source": [
    "When looking at the top 5 genres in each region, we can again notice the the EU and NA markets are pretty similar, their top 4 are the same and only the fifth place is different. Also, their market shares for each genre is pretty similar. \n",
    "The JP market seems different in general, the first place is different (Role playing) with a market shares of 36% which is significant. \n",
    "\n",
    "Again, we learn that the JP market is unique when compared to EU and NA. "
   ]
  },
  {
   "cell_type": "code",
   "execution_count": 52,
   "metadata": {},
   "outputs": [
    {
     "data": {
      "text/html": [
       "<div>\n",
       "<style scoped>\n",
       "    .dataframe tbody tr th:only-of-type {\n",
       "        vertical-align: middle;\n",
       "    }\n",
       "\n",
       "    .dataframe tbody tr th {\n",
       "        vertical-align: top;\n",
       "    }\n",
       "\n",
       "    .dataframe thead th {\n",
       "        text-align: right;\n",
       "    }\n",
       "</style>\n",
       "<table border=\"1\" class=\"dataframe\">\n",
       "  <thead>\n",
       "    <tr style=\"text-align: right;\">\n",
       "      <th></th>\n",
       "      <th>rating</th>\n",
       "      <th>na_sales</th>\n",
       "      <th>market_share [%]</th>\n",
       "    </tr>\n",
       "  </thead>\n",
       "  <tbody>\n",
       "    <tr>\n",
       "      <th>2</th>\n",
       "      <td>M</td>\n",
       "      <td>165.21</td>\n",
       "      <td>37.744169</td>\n",
       "    </tr>\n",
       "    <tr>\n",
       "      <th>4</th>\n",
       "      <td>unknown</td>\n",
       "      <td>89.42</td>\n",
       "      <td>20.429051</td>\n",
       "    </tr>\n",
       "    <tr>\n",
       "      <th>0</th>\n",
       "      <td>E</td>\n",
       "      <td>79.05</td>\n",
       "      <td>18.059903</td>\n",
       "    </tr>\n",
       "    <tr>\n",
       "      <th>1</th>\n",
       "      <td>E10+</td>\n",
       "      <td>54.24</td>\n",
       "      <td>12.391766</td>\n",
       "    </tr>\n",
       "    <tr>\n",
       "      <th>3</th>\n",
       "      <td>T</td>\n",
       "      <td>49.79</td>\n",
       "      <td>11.375111</td>\n",
       "    </tr>\n",
       "  </tbody>\n",
       "</table>\n",
       "</div>"
      ],
      "text/plain": [
       "    rating  na_sales  market_share [%]\n",
       "2        M    165.21         37.744169\n",
       "4  unknown     89.42         20.429051\n",
       "0        E     79.05         18.059903\n",
       "1     E10+     54.24         12.391766\n",
       "3        T     49.79         11.375111"
      ]
     },
     "execution_count": 52,
     "metadata": {},
     "output_type": "execute_result"
    }
   ],
   "source": [
    "# Looking at the ERBS rating and their affect on sales for each region\n",
    "#NA\n",
    "na_erbs = games_2013.groupby(['rating'])['na_sales'].sum().reset_index().sort_values(by = 'na_sales', ascending = False)\n",
    "na_erbs ['market_share [%]'] = (na_erbs['na_sales'] / na_erbs['na_sales'].sum())*100\n",
    "na_erbs.head()"
   ]
  },
  {
   "cell_type": "code",
   "execution_count": 53,
   "metadata": {},
   "outputs": [
    {
     "data": {
      "text/html": [
       "<div>\n",
       "<style scoped>\n",
       "    .dataframe tbody tr th:only-of-type {\n",
       "        vertical-align: middle;\n",
       "    }\n",
       "\n",
       "    .dataframe tbody tr th {\n",
       "        vertical-align: top;\n",
       "    }\n",
       "\n",
       "    .dataframe thead th {\n",
       "        text-align: right;\n",
       "    }\n",
       "</style>\n",
       "<table border=\"1\" class=\"dataframe\">\n",
       "  <thead>\n",
       "    <tr style=\"text-align: right;\">\n",
       "      <th></th>\n",
       "      <th>rating</th>\n",
       "      <th>jp_sales</th>\n",
       "      <th>market_share [%]</th>\n",
       "    </tr>\n",
       "  </thead>\n",
       "  <tbody>\n",
       "    <tr>\n",
       "      <th>4</th>\n",
       "      <td>unknown</td>\n",
       "      <td>85.05</td>\n",
       "      <td>60.413411</td>\n",
       "    </tr>\n",
       "    <tr>\n",
       "      <th>3</th>\n",
       "      <td>T</td>\n",
       "      <td>20.59</td>\n",
       "      <td>14.625657</td>\n",
       "    </tr>\n",
       "    <tr>\n",
       "      <th>0</th>\n",
       "      <td>E</td>\n",
       "      <td>15.14</td>\n",
       "      <td>10.754369</td>\n",
       "    </tr>\n",
       "    <tr>\n",
       "      <th>2</th>\n",
       "      <td>M</td>\n",
       "      <td>14.11</td>\n",
       "      <td>10.022731</td>\n",
       "    </tr>\n",
       "    <tr>\n",
       "      <th>1</th>\n",
       "      <td>E10+</td>\n",
       "      <td>5.89</td>\n",
       "      <td>4.183833</td>\n",
       "    </tr>\n",
       "  </tbody>\n",
       "</table>\n",
       "</div>"
      ],
      "text/plain": [
       "    rating  jp_sales  market_share [%]\n",
       "4  unknown     85.05         60.413411\n",
       "3        T     20.59         14.625657\n",
       "0        E     15.14         10.754369\n",
       "2        M     14.11         10.022731\n",
       "1     E10+      5.89          4.183833"
      ]
     },
     "execution_count": 53,
     "metadata": {},
     "output_type": "execute_result"
    }
   ],
   "source": [
    "# Looking at the ERBS rating and their affect on sales for each region\n",
    "#JP\n",
    "jp_erbs = games_2013.groupby(['rating'])['jp_sales'].sum().reset_index().sort_values(by = 'jp_sales', ascending = False)\n",
    "jp_erbs ['market_share [%]'] = (jp_erbs ['jp_sales'] / jp_erbs ['jp_sales'].sum())*100\n",
    "jp_erbs.head()"
   ]
  },
  {
   "cell_type": "code",
   "execution_count": 54,
   "metadata": {},
   "outputs": [
    {
     "data": {
      "text/html": [
       "<div>\n",
       "<style scoped>\n",
       "    .dataframe tbody tr th:only-of-type {\n",
       "        vertical-align: middle;\n",
       "    }\n",
       "\n",
       "    .dataframe tbody tr th {\n",
       "        vertical-align: top;\n",
       "    }\n",
       "\n",
       "    .dataframe thead th {\n",
       "        text-align: right;\n",
       "    }\n",
       "</style>\n",
       "<table border=\"1\" class=\"dataframe\">\n",
       "  <thead>\n",
       "    <tr style=\"text-align: right;\">\n",
       "      <th></th>\n",
       "      <th>rating</th>\n",
       "      <th>eu_sales</th>\n",
       "      <th>market_share [%]</th>\n",
       "    </tr>\n",
       "  </thead>\n",
       "  <tbody>\n",
       "    <tr>\n",
       "      <th>2</th>\n",
       "      <td>M</td>\n",
       "      <td>145.32</td>\n",
       "      <td>37.049690</td>\n",
       "    </tr>\n",
       "    <tr>\n",
       "      <th>0</th>\n",
       "      <td>E</td>\n",
       "      <td>83.36</td>\n",
       "      <td>21.252836</td>\n",
       "    </tr>\n",
       "    <tr>\n",
       "      <th>4</th>\n",
       "      <td>unknown</td>\n",
       "      <td>78.91</td>\n",
       "      <td>20.118298</td>\n",
       "    </tr>\n",
       "    <tr>\n",
       "      <th>1</th>\n",
       "      <td>E10+</td>\n",
       "      <td>42.69</td>\n",
       "      <td>10.883920</td>\n",
       "    </tr>\n",
       "    <tr>\n",
       "      <th>3</th>\n",
       "      <td>T</td>\n",
       "      <td>41.95</td>\n",
       "      <td>10.695255</td>\n",
       "    </tr>\n",
       "  </tbody>\n",
       "</table>\n",
       "</div>"
      ],
      "text/plain": [
       "    rating  eu_sales  market_share [%]\n",
       "2        M    145.32         37.049690\n",
       "0        E     83.36         21.252836\n",
       "4  unknown     78.91         20.118298\n",
       "1     E10+     42.69         10.883920\n",
       "3        T     41.95         10.695255"
      ]
     },
     "execution_count": 54,
     "metadata": {},
     "output_type": "execute_result"
    }
   ],
   "source": [
    "# Looking at the ERBS rating and their affect on sales for each region\n",
    "#EU\n",
    "eu_erbs = games_2013.groupby(['rating'])['eu_sales'].sum().reset_index().sort_values(by = 'eu_sales', ascending = False)\n",
    "eu_erbs ['market_share [%]'] = (eu_erbs['eu_sales'] / eu_erbs['eu_sales'].sum())*100\n",
    "eu_erbs.head()"
   ]
  },
  {
   "cell_type": "markdown",
   "metadata": {},
   "source": [
    "Here as well we can see that  the JP market is different, it has the same top 4 ratings but in a deifferent order. While the EU and NA market are identical in the 4 top ratings.\n",
    "\n",
    "For all the regions we can see that the first rating holds 40-50 % of the market shares. \n"
   ]
  },
  {
   "cell_type": "markdown",
   "metadata": {},
   "source": [
    "## Hypotheses testing"
   ]
  },
  {
   "cell_type": "markdown",
   "metadata": {},
   "source": [
    "<b>Platforms </b>\n",
    "\n",
    "Testing the hypothesis that average user ratings of the Xbox One and PC platforms are the same.\n",
    "This will be tested using two-sided t-test. \n",
    "\n",
    "The Null hypothesis is that the average user ratings of the Xbox One equal to the average user ratings of the PC platforms.\n",
    "\n",
    "The alternative hypothesis is that they are different. \n",
    "\n",
    "I choose a significance level of alpha = 0.05, since it's a commonly used level and it suits this testing. "
   ]
  },
  {
   "cell_type": "code",
   "execution_count": 55,
   "metadata": {},
   "outputs": [],
   "source": [
    "#create a function to check for equal variance and perform t-test\n",
    "def t_test(sample1,sample2,alpha=0.05):\n",
    "    p_value_levene=stats.levene(sample1, sample2).pvalue.astype(int)\n",
    "    if p_value_levene<alpha:\n",
    "        equal_v=False\n",
    "    else:\n",
    "        equal_v=True\n",
    "    p_value=stats.ttest_ind(sample1, sample2,nan_policy='omit',equal_var=equal_v).pvalue.astype(int)\n",
    "    if p_value<alpha:\n",
    "        print('Reject H0: average of sample1 is not equal to average of sample2')\n",
    "    else:\n",
    "        print( \"Fail to Reject H0: We don't have enough evidence to say that averages of sample1 \\\n",
    "  and sample2 are not the same\")"
   ]
  },
  {
   "cell_type": "code",
   "execution_count": 56,
   "metadata": {},
   "outputs": [],
   "source": [
    "# devide the data to 2 groups with user_score column only\n",
    "XOne_score = games_2013[games_2013['platform']=='XOne']['user_score']\n",
    "PC_score = games_2013[games_2013['platform']=='PC']['user_score']"
   ]
  },
  {
   "cell_type": "code",
   "execution_count": 57,
   "metadata": {},
   "outputs": [
    {
     "name": "stdout",
     "output_type": "stream",
     "text": [
      "Reject H0: average of sample1 is not equal to average of sample2\n"
     ]
    }
   ],
   "source": [
    "#use the function to perform a t-test on the mean user_score of each platform\n",
    "t_test(XOne_score, PC_score)"
   ]
  },
  {
   "cell_type": "markdown",
   "metadata": {},
   "source": [
    "We can reject the null hypothesis. The mean user score for the Xbox One is not equal to the mean user score of PC platform. "
   ]
  },
  {
   "cell_type": "markdown",
   "metadata": {},
   "source": [
    "<b>Genres</b>\n",
    "\n",
    "Testing the hypothesis that the average user ratings for the Action and Sports genres are different.\n",
    "This will be tested using two-sided t-test. \n",
    "\n",
    "The Null hypothesis is that the average user ratings of the Sction genre equals to the average user ratings of the Sports genre.\n",
    "\n",
    "The alternative hypothesis is that they are different. \n",
    "\n",
    "I choose a significance level of alpha = 0.05, since it's a commonly used level and it suits this testing. "
   ]
  },
  {
   "cell_type": "code",
   "execution_count": 58,
   "metadata": {},
   "outputs": [],
   "source": [
    "# devide the data to 2 groups with user_score column only\n",
    "action_score = games_2013[games_2013['genre']=='Action']['user_score']\n",
    "sports_score = games_2013[games_2013['genre']=='Sports']['user_score']"
   ]
  },
  {
   "cell_type": "code",
   "execution_count": 59,
   "metadata": {},
   "outputs": [
    {
     "name": "stdout",
     "output_type": "stream",
     "text": [
      "Reject H0: average of sample1 is not equal to average of sample2\n"
     ]
    }
   ],
   "source": [
    "#use the function to perform a t-test on the mean user_score of each platform\n",
    "t_test(action_score, sports_score)"
   ]
  },
  {
   "cell_type": "markdown",
   "metadata": {},
   "source": [
    "We can reject the null hypothesis. The mean user score for the Action genre is not equal to the mean user score of the Sports genre. "
   ]
  },
  {
   "cell_type": "markdown",
   "metadata": {},
   "source": [
    "## Conclusions "
   ]
  },
  {
   "cell_type": "markdown",
   "metadata": {},
   "source": [
    "For this project I receive a data set of video games sold in different regions in the world (NA, EU, JP, Other) which included the revenue of each game, the platform in use, the game genre and rating (critic score, user score and ERBS). \n",
    "\n",
    "The data set included 16,715 row, with missing values mainly in the rating columns (critic score, user score and ERBS), even though the missing data was a significant amount of rows I chose not to fill in this rows since I might be distorting the dataset. These ratings might influence my later on analysis, and for the next time it is worth taking more time and effort into filling in this data properly. \n",
    "I changed the type for year_of_relese (to int) and user_score (to float) which is more suitable for the data they present. \n",
    "For user_score I needed to remove the 'tbd' values for this change which is reasonable since 'tbd' didn't have any added value for my analysis. \n",
    "\n",
    "I generated a new column \"total_sales\" which summed up the sales across all regions. \n",
    "\n",
    "As part of the data analysis I looked into several intresting details: \n",
    "1. Number of games released by year - we could see that the greatest hype in video games selling was in the years of 2002 - 2010, which could be explained by the mobile games that captured some of the video games audiance. \n",
    "2. The total revenue by platform - the most selling platform along the years was PS2, which is also the platform with the most games released in these years. It became popular within 1 year (2000 to 2001) and started fading away 4 years later (2005 - 2006).\n",
    "3. The lifetime of a platform - we saw that the golden years of a platform is 3-5 years so we could minimize our dataset to 2013-2016 in order to create a forecast for 2017. \n",
    "4. In these years (2013 - 2016) the most profitable platforms were - X360, 3DS, XOne, PS3 and PS4.Yet, looking deeper into the numbers we can see that all of these platforms are in a downhill slope of revenues in (at least) the last year. I further reduced the data to top 3 platforms 3DS, PS3 and XOne (since the other two already reached 0 revenue in 2016). Maybe it's time for a new platform to emerge (PS5 maybe..).\n",
    "5. In these years (2013 - 2016) among the most profitable platforms we can see that PS4 was the most profitable one, as for the rest of the platforms they are pretty much at the same levels.\n",
    "6. I created a function that generates a scatter plot of the connection between sales and ratings (critic score, user score) and calculated the correlation between them. In all profitable platforms I saw a weak connection between the scores to the sales, as I mentioned earlier this might be since we are missing a great share of data for these parameters. Additional thing I noticed is that the correlation between the critic score to the sales is stronger then the correlation between the user score to the sales, for all the platforms above, this makes sense since people usually look at the professional critic before they decide if to buy the product or not, sometimes we take it more seriously than looking at our fellow users' critic. \n",
    "7. The most popular genre is the Action games. Also, when looking at profits it's the most profitable, but not by much compared to Shooter genre which was in the fifth place, maybe we need to increase the fee for action games. As for the When looking at games with the least profit - Strategy, Puzzle, Simulation, these are genres that require a lot of thought into the game, probably not many people play these games, it's for a very unique crowd. \n",
    "\n",
    "\n",
    "I created a user profile for each region and investigated the different platforms, genres and rating in each region, their similarity and differences. I noticed that for the Japan market the platforms they use are somehow differet from the ones in EU and NA and their favorite genre is Role-playing while for the EU and NA market it's Action games that role the market. \n",
    "As for the ratings, this was actually pretty similar between the regions and that the market is divided to the same 4 ratings (E, M, T, E10+) and the first rating holds almost half of the market shares. \n",
    "\n",
    "For the end of my analysis I performed a t-test to investigate the similarity between user scores average in different platforms (Xbox One and PC) and user scores average in diferrent genres (Action and Sports) , in both cases the null hypothesis was rejected and the conclusion was that the user score avergae in these platforms and in these genres are not equal. \n",
    "\n",
    "My recommendations to the company are: \n",
    "\n",
    "1. Release games for the most profitable platforms (3DS, XOne and PS4). \n",
    "2. Focus on games in the genres: Action and Shooter (worldwide) and Role- playing (for JP Market).\n",
    "3. Pay attention to the JP market, since it's quite different in the aspects of favorite genres and popular platforms. \n",
    "\n"
   ]
  }
 ],
 "metadata": {
  "ExecuteTimeLog": [
   {
    "duration": 119,
    "start_time": "2021-11-27T09:09:41.220Z"
   },
   {
    "duration": 811,
    "start_time": "2021-11-27T09:10:59.073Z"
   },
   {
    "duration": 51,
    "start_time": "2021-11-27T09:11:45.027Z"
   },
   {
    "duration": 15,
    "start_time": "2021-11-27T09:12:31.380Z"
   },
   {
    "duration": 23,
    "start_time": "2021-11-27T09:12:39.700Z"
   },
   {
    "duration": 13,
    "start_time": "2021-11-27T09:12:47.148Z"
   },
   {
    "duration": 13,
    "start_time": "2021-11-27T09:12:53.068Z"
   },
   {
    "duration": 465,
    "start_time": "2021-11-27T09:22:40.615Z"
   },
   {
    "duration": 360,
    "start_time": "2021-11-27T09:22:47.054Z"
   },
   {
    "duration": 12033,
    "start_time": "2021-11-27T09:24:08.102Z"
   },
   {
    "duration": 9,
    "start_time": "2021-11-27T09:24:44.277Z"
   },
   {
    "duration": 390,
    "start_time": "2021-11-27T09:24:48.518Z"
   },
   {
    "duration": 1141,
    "start_time": "2021-11-27T09:25:00.152Z"
   },
   {
    "duration": 15,
    "start_time": "2021-11-27T09:30:35.943Z"
   },
   {
    "duration": 25,
    "start_time": "2021-11-27T09:33:00.463Z"
   },
   {
    "duration": 395,
    "start_time": "2021-11-27T09:34:24.568Z"
   },
   {
    "duration": 13,
    "start_time": "2021-11-27T09:35:17.856Z"
   },
   {
    "duration": 7,
    "start_time": "2021-11-27T09:35:21.489Z"
   },
   {
    "duration": 15,
    "start_time": "2021-11-27T09:35:51.338Z"
   },
   {
    "duration": 5,
    "start_time": "2021-11-27T09:36:04.882Z"
   },
   {
    "duration": 15,
    "start_time": "2021-11-27T09:36:08.345Z"
   },
   {
    "duration": 7,
    "start_time": "2021-11-27T09:37:24.321Z"
   },
   {
    "duration": 13,
    "start_time": "2021-11-27T09:37:27.641Z"
   },
   {
    "duration": 5,
    "start_time": "2021-11-27T09:41:24.617Z"
   },
   {
    "duration": 8,
    "start_time": "2021-11-27T09:41:33.177Z"
   },
   {
    "duration": 118,
    "start_time": "2021-11-27T09:46:48.859Z"
   },
   {
    "duration": 45,
    "start_time": "2021-11-27T09:47:03.298Z"
   },
   {
    "duration": 88,
    "start_time": "2021-11-27T09:47:17.926Z"
   },
   {
    "duration": 3,
    "start_time": "2021-11-27T11:50:38.359Z"
   },
   {
    "duration": 76,
    "start_time": "2021-11-27T11:51:11.493Z"
   },
   {
    "duration": 12,
    "start_time": "2021-11-27T12:02:03.933Z"
   },
   {
    "duration": 366,
    "start_time": "2021-11-27T12:06:02.436Z"
   },
   {
    "duration": 11,
    "start_time": "2021-11-27T12:06:09.204Z"
   },
   {
    "duration": 11,
    "start_time": "2021-11-27T12:06:25.668Z"
   },
   {
    "duration": 12,
    "start_time": "2021-11-27T12:09:11.438Z"
   },
   {
    "duration": 13,
    "start_time": "2021-11-27T12:12:30.659Z"
   },
   {
    "duration": 28,
    "start_time": "2021-11-27T12:12:43.661Z"
   },
   {
    "duration": 29,
    "start_time": "2021-11-27T12:13:04.846Z"
   },
   {
    "duration": 26,
    "start_time": "2021-11-27T12:13:20.278Z"
   },
   {
    "duration": 23,
    "start_time": "2021-11-27T12:13:29.022Z"
   },
   {
    "duration": 25,
    "start_time": "2021-11-27T12:14:40.560Z"
   },
   {
    "duration": 691,
    "start_time": "2021-11-27T12:16:26.463Z"
   },
   {
    "duration": 12,
    "start_time": "2021-11-27T12:18:18.520Z"
   },
   {
    "duration": 19,
    "start_time": "2021-11-27T12:18:31.066Z"
   },
   {
    "duration": 6,
    "start_time": "2021-11-27T12:21:49.096Z"
   },
   {
    "duration": 485,
    "start_time": "2021-11-27T12:27:03.176Z"
   },
   {
    "duration": 723,
    "start_time": "2021-11-27T12:27:28.400Z"
   },
   {
    "duration": 614,
    "start_time": "2021-11-27T12:27:39.535Z"
   },
   {
    "duration": 757,
    "start_time": "2021-11-27T12:31:11.809Z"
   },
   {
    "duration": 1154,
    "start_time": "2021-11-27T12:35:23.193Z"
   },
   {
    "duration": 1045,
    "start_time": "2021-11-27T12:35:35.585Z"
   },
   {
    "duration": 1024,
    "start_time": "2021-11-27T12:35:42.867Z"
   },
   {
    "duration": 1042,
    "start_time": "2021-11-27T12:35:48.873Z"
   },
   {
    "duration": 1034,
    "start_time": "2021-11-27T12:35:54.146Z"
   },
   {
    "duration": 1089,
    "start_time": "2021-11-27T12:35:58.169Z"
   },
   {
    "duration": 1124,
    "start_time": "2021-11-27T12:36:22.698Z"
   },
   {
    "duration": 356,
    "start_time": "2021-11-27T12:44:09.243Z"
   },
   {
    "duration": 20,
    "start_time": "2021-11-27T12:44:26.916Z"
   },
   {
    "duration": 297,
    "start_time": "2021-11-27T13:36:42.921Z"
   },
   {
    "duration": 8,
    "start_time": "2021-11-27T13:42:38.867Z"
   },
   {
    "duration": 15,
    "start_time": "2021-11-27T13:43:46.684Z"
   },
   {
    "duration": 20,
    "start_time": "2021-11-27T13:43:51.715Z"
   },
   {
    "duration": 355,
    "start_time": "2021-11-27T13:44:09.211Z"
   },
   {
    "duration": 34,
    "start_time": "2021-11-27T13:44:23.386Z"
   },
   {
    "duration": 403,
    "start_time": "2021-11-27T13:46:20.389Z"
   },
   {
    "duration": 369,
    "start_time": "2021-11-27T13:46:36.907Z"
   },
   {
    "duration": 743,
    "start_time": "2021-11-27T13:47:29.563Z"
   },
   {
    "duration": 34,
    "start_time": "2021-11-27T13:47:43.474Z"
   },
   {
    "duration": 421,
    "start_time": "2021-11-27T13:48:25.938Z"
   },
   {
    "duration": 374,
    "start_time": "2021-11-27T13:49:14.923Z"
   },
   {
    "duration": 36,
    "start_time": "2021-11-27T13:49:32.762Z"
   },
   {
    "duration": 16,
    "start_time": "2021-11-27T13:51:17.804Z"
   },
   {
    "duration": 21,
    "start_time": "2021-11-27T13:51:24.059Z"
   },
   {
    "duration": 390,
    "start_time": "2021-11-27T13:51:48.386Z"
   },
   {
    "duration": 360,
    "start_time": "2021-11-27T13:52:20.651Z"
   },
   {
    "duration": 346,
    "start_time": "2021-11-27T13:52:37.116Z"
   },
   {
    "duration": 8210,
    "start_time": "2021-11-27T13:53:18.620Z"
   },
   {
    "duration": 336,
    "start_time": "2021-11-27T13:54:36.558Z"
   },
   {
    "duration": 586,
    "start_time": "2021-11-27T13:54:57.956Z"
   },
   {
    "duration": 596,
    "start_time": "2021-11-27T13:55:07.930Z"
   },
   {
    "duration": 472,
    "start_time": "2021-11-27T13:55:18.044Z"
   },
   {
    "duration": 501,
    "start_time": "2021-11-27T13:57:05.337Z"
   },
   {
    "duration": 617,
    "start_time": "2021-11-27T13:57:25.195Z"
   },
   {
    "duration": 386,
    "start_time": "2021-11-27T14:06:17.716Z"
   },
   {
    "duration": 55,
    "start_time": "2021-11-27T14:06:35.117Z"
   },
   {
    "duration": 47,
    "start_time": "2021-11-27T14:08:01.834Z"
   },
   {
    "duration": 370,
    "start_time": "2021-11-27T14:09:39.461Z"
   },
   {
    "duration": 73,
    "start_time": "2021-11-27T14:12:04.999Z"
   },
   {
    "duration": 50,
    "start_time": "2021-11-27T14:12:11.769Z"
   },
   {
    "duration": 49,
    "start_time": "2021-11-27T14:16:37.952Z"
   },
   {
    "duration": 395,
    "start_time": "2021-11-27T14:16:40.621Z"
   },
   {
    "duration": 374,
    "start_time": "2021-11-27T14:17:28.999Z"
   },
   {
    "duration": 8203,
    "start_time": "2021-11-27T14:18:16.199Z"
   },
   {
    "duration": 9697,
    "start_time": "2021-11-27T14:21:07.696Z"
   },
   {
    "duration": 53,
    "start_time": "2021-11-27T14:21:52.759Z"
   },
   {
    "duration": 417,
    "start_time": "2021-11-27T14:22:10.596Z"
   },
   {
    "duration": 8471,
    "start_time": "2021-11-27T14:23:30.480Z"
   },
   {
    "duration": 728,
    "start_time": "2021-11-27T14:23:54.272Z"
   },
   {
    "duration": 9661,
    "start_time": "2021-11-27T15:50:38.039Z"
   },
   {
    "duration": 8773,
    "start_time": "2021-11-27T15:52:33.791Z"
   },
   {
    "duration": 950,
    "start_time": "2021-11-27T15:53:21.140Z"
   },
   {
    "duration": 813,
    "start_time": "2021-11-27T15:54:09.287Z"
   },
   {
    "duration": 55,
    "start_time": "2021-11-27T15:54:22.430Z"
   },
   {
    "duration": 923,
    "start_time": "2021-11-27T15:54:26.080Z"
   },
   {
    "duration": 13,
    "start_time": "2021-11-27T15:56:04.543Z"
   },
   {
    "duration": 14,
    "start_time": "2021-11-27T15:56:15.807Z"
   },
   {
    "duration": 9,
    "start_time": "2021-11-27T15:56:54.206Z"
   },
   {
    "duration": 16,
    "start_time": "2021-11-27T15:58:47.103Z"
   },
   {
    "duration": 6,
    "start_time": "2021-11-27T15:58:56.727Z"
   },
   {
    "duration": 8,
    "start_time": "2021-11-27T16:00:11.552Z"
   },
   {
    "duration": 3512,
    "start_time": "2021-11-27T16:00:25.953Z"
   },
   {
    "duration": 1749,
    "start_time": "2021-11-27T16:00:29.468Z"
   },
   {
    "duration": 51,
    "start_time": "2021-11-27T16:00:31.220Z"
   },
   {
    "duration": 37,
    "start_time": "2021-11-27T16:00:31.274Z"
   },
   {
    "duration": 20,
    "start_time": "2021-11-27T16:00:31.314Z"
   },
   {
    "duration": 733,
    "start_time": "2021-11-27T16:00:31.337Z"
   },
   {
    "duration": 10,
    "start_time": "2021-11-27T16:00:32.072Z"
   },
   {
    "duration": 4,
    "start_time": "2021-11-27T16:00:32.101Z"
   },
   {
    "duration": 20,
    "start_time": "2021-11-27T16:00:32.108Z"
   },
   {
    "duration": 80,
    "start_time": "2021-11-27T16:00:32.131Z"
   },
   {
    "duration": 12,
    "start_time": "2021-11-27T16:00:32.214Z"
   },
   {
    "duration": 24,
    "start_time": "2021-11-27T16:00:32.228Z"
   },
   {
    "duration": 13,
    "start_time": "2021-11-27T16:00:32.254Z"
   },
   {
    "duration": 35,
    "start_time": "2021-11-27T16:00:32.269Z"
   },
   {
    "duration": 33,
    "start_time": "2021-11-27T16:00:32.306Z"
   },
   {
    "duration": 22,
    "start_time": "2021-11-27T16:00:32.341Z"
   },
   {
    "duration": 4,
    "start_time": "2021-11-27T16:00:32.365Z"
   },
   {
    "duration": 1079,
    "start_time": "2021-11-27T16:00:32.372Z"
   },
   {
    "duration": 21,
    "start_time": "2021-11-27T16:00:33.453Z"
   },
   {
    "duration": 528,
    "start_time": "2021-11-27T16:00:33.477Z"
   },
   {
    "duration": 5,
    "start_time": "2021-11-27T16:00:34.008Z"
   },
   {
    "duration": 121,
    "start_time": "2021-11-27T16:00:34.016Z"
   },
   {
    "duration": 6,
    "start_time": "2021-11-27T16:03:54.447Z"
   },
   {
    "duration": 9,
    "start_time": "2021-11-27T16:04:02.324Z"
   },
   {
    "duration": 23,
    "start_time": "2021-11-27T16:08:31.374Z"
   },
   {
    "duration": 101,
    "start_time": "2021-11-27T16:09:14.182Z"
   },
   {
    "duration": 118,
    "start_time": "2021-11-27T16:09:24.802Z"
   },
   {
    "duration": 62,
    "start_time": "2021-11-27T16:11:30.325Z"
   },
   {
    "duration": 1235,
    "start_time": "2021-11-27T16:13:11.284Z"
   },
   {
    "duration": 989,
    "start_time": "2021-11-27T16:14:23.798Z"
   },
   {
    "duration": 6697,
    "start_time": "2021-11-27T16:14:29.262Z"
   },
   {
    "duration": 6466,
    "start_time": "2021-11-27T16:17:07.807Z"
   },
   {
    "duration": 6470,
    "start_time": "2021-11-27T16:17:47.208Z"
   },
   {
    "duration": 6733,
    "start_time": "2021-11-27T16:18:04.945Z"
   },
   {
    "duration": 6227,
    "start_time": "2021-11-27T16:18:25.697Z"
   },
   {
    "duration": 6278,
    "start_time": "2021-11-27T16:19:00.690Z"
   },
   {
    "duration": 6363,
    "start_time": "2021-11-27T16:19:09.087Z"
   },
   {
    "duration": 7338,
    "start_time": "2021-11-27T16:29:46.125Z"
   },
   {
    "duration": 6355,
    "start_time": "2021-11-27T16:32:46.482Z"
   },
   {
    "duration": 61,
    "start_time": "2021-11-27T16:33:17.048Z"
   },
   {
    "duration": 60,
    "start_time": "2021-11-27T16:33:24.409Z"
   },
   {
    "duration": 7,
    "start_time": "2021-11-27T16:38:14.726Z"
   },
   {
    "duration": 22,
    "start_time": "2021-11-27T16:38:21.336Z"
   },
   {
    "duration": 490,
    "start_time": "2021-11-27T16:40:52.651Z"
   },
   {
    "duration": 485,
    "start_time": "2021-11-27T16:41:08.325Z"
   },
   {
    "duration": 57,
    "start_time": "2021-11-27T16:41:22.122Z"
   },
   {
    "duration": 4511,
    "start_time": "2021-11-27T16:45:05.411Z"
   },
   {
    "duration": 21,
    "start_time": "2021-11-27T16:55:06.396Z"
   },
   {
    "duration": 482,
    "start_time": "2021-11-27T16:55:11.118Z"
   },
   {
    "duration": 470,
    "start_time": "2021-11-27T16:55:16.636Z"
   },
   {
    "duration": 62,
    "start_time": "2021-11-27T16:55:21.062Z"
   },
   {
    "duration": 5901,
    "start_time": "2021-11-27T16:55:22.893Z"
   },
   {
    "duration": 822,
    "start_time": "2021-11-27T16:56:46.204Z"
   },
   {
    "duration": 5935,
    "start_time": "2021-11-27T16:57:01.501Z"
   },
   {
    "duration": 6214,
    "start_time": "2021-11-27T16:57:41.341Z"
   },
   {
    "duration": 6,
    "start_time": "2021-11-27T17:08:37.547Z"
   },
   {
    "duration": 6,
    "start_time": "2021-11-27T17:08:56.916Z"
   },
   {
    "duration": 6,
    "start_time": "2021-11-27T17:10:23.151Z"
   },
   {
    "duration": 1568,
    "start_time": "2021-11-27T17:18:09.256Z"
   },
   {
    "duration": 57,
    "start_time": "2021-11-27T17:19:52.252Z"
   },
   {
    "duration": 37,
    "start_time": "2021-11-27T17:19:59.621Z"
   },
   {
    "duration": 17,
    "start_time": "2021-11-27T17:20:49.319Z"
   },
   {
    "duration": 380,
    "start_time": "2021-11-27T17:23:01.471Z"
   },
   {
    "duration": 10,
    "start_time": "2021-11-27T17:28:52.730Z"
   },
   {
    "duration": 394,
    "start_time": "2021-11-27T17:29:04.311Z"
   },
   {
    "duration": 356,
    "start_time": "2021-11-27T17:29:10.919Z"
   },
   {
    "duration": 10,
    "start_time": "2021-11-27T17:29:53.424Z"
   },
   {
    "duration": 38,
    "start_time": "2021-11-27T17:30:00.645Z"
   },
   {
    "duration": 10,
    "start_time": "2021-11-27T17:30:14.118Z"
   },
   {
    "duration": 355,
    "start_time": "2021-11-27T17:30:17.177Z"
   },
   {
    "duration": 30,
    "start_time": "2021-11-27T17:30:20.968Z"
   },
   {
    "duration": 714,
    "start_time": "2021-11-27T17:30:28.880Z"
   },
   {
    "duration": 32,
    "start_time": "2021-11-27T17:30:45.319Z"
   },
   {
    "duration": 736,
    "start_time": "2021-11-27T17:30:51.747Z"
   },
   {
    "duration": 794,
    "start_time": "2021-11-27T17:33:32.651Z"
   },
   {
    "duration": 734,
    "start_time": "2021-11-27T17:40:42.097Z"
   },
   {
    "duration": 906,
    "start_time": "2021-11-27T17:40:54.438Z"
   },
   {
    "duration": 21,
    "start_time": "2021-11-27T17:50:29.825Z"
   },
   {
    "duration": 555,
    "start_time": "2021-11-27T17:56:40.739Z"
   },
   {
    "duration": 371,
    "start_time": "2021-11-27T17:56:59.092Z"
   },
   {
    "duration": 21,
    "start_time": "2021-11-27T17:59:08.650Z"
   },
   {
    "duration": 551,
    "start_time": "2021-11-27T17:59:14.236Z"
   },
   {
    "duration": 534,
    "start_time": "2021-11-27T18:00:12.877Z"
   },
   {
    "duration": 668,
    "start_time": "2021-11-27T18:00:50.981Z"
   },
   {
    "duration": 373,
    "start_time": "2021-11-27T18:26:30.159Z"
   },
   {
    "duration": 38,
    "start_time": "2021-11-27T18:26:43.928Z"
   },
   {
    "duration": 373,
    "start_time": "2021-11-27T18:26:58.167Z"
   },
   {
    "duration": 5,
    "start_time": "2021-11-27T18:27:04.826Z"
   },
   {
    "duration": 4698,
    "start_time": "2021-11-27T18:27:07.522Z"
   },
   {
    "duration": 4952,
    "start_time": "2021-11-27T18:33:32.417Z"
   },
   {
    "duration": 5,
    "start_time": "2021-11-27T18:33:54.474Z"
   },
   {
    "duration": 4820,
    "start_time": "2021-11-27T18:33:59.634Z"
   },
   {
    "duration": 5278,
    "start_time": "2021-11-27T18:35:58.218Z"
   },
   {
    "duration": 4212,
    "start_time": "2021-11-27T18:38:17.227Z"
   },
   {
    "duration": 4429,
    "start_time": "2021-11-27T18:39:03.003Z"
   },
   {
    "duration": 4274,
    "start_time": "2021-11-27T18:39:26.002Z"
   },
   {
    "duration": 4335,
    "start_time": "2021-11-27T18:41:18.899Z"
   },
   {
    "duration": 4,
    "start_time": "2021-11-27T18:57:15.764Z"
   },
   {
    "duration": 4929,
    "start_time": "2021-11-27T18:57:44.524Z"
   },
   {
    "duration": 34,
    "start_time": "2021-11-27T19:10:22.357Z"
   },
   {
    "duration": 6,
    "start_time": "2021-11-27T19:10:48.120Z"
   },
   {
    "duration": 17,
    "start_time": "2021-11-27T19:10:54.525Z"
   },
   {
    "duration": 16,
    "start_time": "2021-11-27T19:11:10.681Z"
   },
   {
    "duration": 6,
    "start_time": "2021-11-27T19:11:52.247Z"
   },
   {
    "duration": 11,
    "start_time": "2021-11-27T19:11:57.182Z"
   },
   {
    "duration": 4,
    "start_time": "2021-11-27T19:13:17.592Z"
   },
   {
    "duration": 241,
    "start_time": "2021-11-27T19:13:19.915Z"
   },
   {
    "duration": 5,
    "start_time": "2021-11-27T19:13:40.542Z"
   },
   {
    "duration": 402,
    "start_time": "2021-11-27T19:13:43.951Z"
   },
   {
    "duration": 5,
    "start_time": "2021-11-27T19:15:22.527Z"
   },
   {
    "duration": 1116,
    "start_time": "2021-11-27T19:15:25.878Z"
   },
   {
    "duration": 5,
    "start_time": "2021-11-27T19:15:40.583Z"
   },
   {
    "duration": 442,
    "start_time": "2021-11-27T19:15:43.662Z"
   },
   {
    "duration": 6,
    "start_time": "2021-11-27T19:19:53.153Z"
   },
   {
    "duration": 988,
    "start_time": "2021-11-27T19:19:55.966Z"
   },
   {
    "duration": 6,
    "start_time": "2021-11-27T19:20:38.387Z"
   },
   {
    "duration": 544,
    "start_time": "2021-11-27T19:20:40.865Z"
   },
   {
    "duration": 5,
    "start_time": "2021-11-27T19:21:42.875Z"
   },
   {
    "duration": 5360,
    "start_time": "2021-11-27T19:21:47.726Z"
   },
   {
    "duration": 7,
    "start_time": "2021-11-27T19:22:11.240Z"
   },
   {
    "duration": 4907,
    "start_time": "2021-11-27T19:22:22.487Z"
   },
   {
    "duration": 6,
    "start_time": "2021-11-27T19:29:02.139Z"
   },
   {
    "duration": 1011,
    "start_time": "2021-11-27T19:29:07.249Z"
   },
   {
    "duration": 129,
    "start_time": "2021-11-27T19:29:21.954Z"
   },
   {
    "duration": 6,
    "start_time": "2021-11-27T19:29:25.297Z"
   },
   {
    "duration": 983,
    "start_time": "2021-11-27T19:29:27.688Z"
   },
   {
    "duration": 6,
    "start_time": "2021-11-27T19:29:46.074Z"
   },
   {
    "duration": 1301,
    "start_time": "2021-11-27T19:29:50.360Z"
   },
   {
    "duration": 5,
    "start_time": "2021-11-27T19:34:29.387Z"
   },
   {
    "duration": 418,
    "start_time": "2021-11-27T19:34:31.704Z"
   },
   {
    "duration": 7,
    "start_time": "2021-11-27T19:35:06.321Z"
   },
   {
    "duration": 414,
    "start_time": "2021-11-27T19:35:08.512Z"
   },
   {
    "duration": 1228,
    "start_time": "2021-11-27T19:36:20.017Z"
   },
   {
    "duration": 5,
    "start_time": "2021-11-27T19:37:12.914Z"
   },
   {
    "duration": 1017,
    "start_time": "2021-11-27T19:37:16.354Z"
   },
   {
    "duration": 324,
    "start_time": "2021-11-28T19:43:50.425Z"
   },
   {
    "duration": 7857,
    "start_time": "2021-11-28T19:44:05.057Z"
   },
   {
    "duration": 1320,
    "start_time": "2021-11-28T19:44:12.916Z"
   },
   {
    "duration": 41,
    "start_time": "2021-11-28T19:44:14.238Z"
   },
   {
    "duration": 16,
    "start_time": "2021-11-28T19:44:14.281Z"
   },
   {
    "duration": 13,
    "start_time": "2021-11-28T19:44:14.299Z"
   },
   {
    "duration": 636,
    "start_time": "2021-11-28T19:44:14.314Z"
   },
   {
    "duration": 7,
    "start_time": "2021-11-28T19:44:14.952Z"
   },
   {
    "duration": 6,
    "start_time": "2021-11-28T19:44:14.961Z"
   },
   {
    "duration": 10,
    "start_time": "2021-11-28T19:44:14.969Z"
   },
   {
    "duration": 48,
    "start_time": "2021-11-28T19:44:14.981Z"
   },
   {
    "duration": 8,
    "start_time": "2021-11-28T19:44:15.031Z"
   },
   {
    "duration": 36,
    "start_time": "2021-11-28T19:44:15.041Z"
   },
   {
    "duration": 9,
    "start_time": "2021-11-28T19:44:15.078Z"
   },
   {
    "duration": 8,
    "start_time": "2021-11-28T19:44:15.090Z"
   },
   {
    "duration": 19,
    "start_time": "2021-11-28T19:44:15.100Z"
   },
   {
    "duration": 16,
    "start_time": "2021-11-28T19:44:15.121Z"
   },
   {
    "duration": 25,
    "start_time": "2021-11-28T19:44:15.139Z"
   },
   {
    "duration": 980,
    "start_time": "2021-11-28T19:44:15.166Z"
   },
   {
    "duration": 32,
    "start_time": "2021-11-28T19:44:16.148Z"
   },
   {
    "duration": 449,
    "start_time": "2021-11-28T19:44:16.183Z"
   },
   {
    "duration": 72,
    "start_time": "2021-11-28T19:44:16.634Z"
   },
   {
    "duration": 5585,
    "start_time": "2021-11-28T19:44:16.708Z"
   },
   {
    "duration": 5,
    "start_time": "2021-11-28T19:44:22.298Z"
   },
   {
    "duration": 18,
    "start_time": "2021-11-28T19:44:22.306Z"
   },
   {
    "duration": 9,
    "start_time": "2021-11-28T19:44:22.326Z"
   },
   {
    "duration": 53,
    "start_time": "2021-11-28T19:44:22.337Z"
   },
   {
    "duration": 686,
    "start_time": "2021-11-28T19:44:22.393Z"
   },
   {
    "duration": 19,
    "start_time": "2021-11-28T19:44:23.082Z"
   },
   {
    "duration": 519,
    "start_time": "2021-11-28T19:44:23.103Z"
   },
   {
    "duration": 16,
    "start_time": "2021-11-28T19:44:23.624Z"
   },
   {
    "duration": 22,
    "start_time": "2021-11-28T19:44:23.642Z"
   },
   {
    "duration": 411,
    "start_time": "2021-11-28T19:44:23.666Z"
   },
   {
    "duration": 22,
    "start_time": "2021-11-28T19:44:24.079Z"
   },
   {
    "duration": 920,
    "start_time": "2021-11-28T19:44:24.103Z"
   },
   {
    "duration": 5,
    "start_time": "2021-11-28T19:46:52.425Z"
   },
   {
    "duration": 695,
    "start_time": "2021-11-28T19:46:59.596Z"
   },
   {
    "duration": 81,
    "start_time": "2021-11-28T19:47:40.601Z"
   },
   {
    "duration": 5,
    "start_time": "2021-11-28T19:47:47.997Z"
   },
   {
    "duration": 690,
    "start_time": "2021-11-28T19:47:56.851Z"
   },
   {
    "duration": 377,
    "start_time": "2021-11-28T19:50:50.603Z"
   },
   {
    "duration": 678,
    "start_time": "2021-11-28T19:51:36.064Z"
   },
   {
    "duration": 4,
    "start_time": "2021-11-28T19:53:49.881Z"
   },
   {
    "duration": 428,
    "start_time": "2021-11-28T19:53:57.254Z"
   },
   {
    "duration": 720,
    "start_time": "2021-11-28T19:54:13.612Z"
   },
   {
    "duration": 7,
    "start_time": "2021-11-28T20:00:04.025Z"
   },
   {
    "duration": 308,
    "start_time": "2021-11-28T20:00:07.267Z"
   },
   {
    "duration": 5,
    "start_time": "2021-11-28T20:01:09.864Z"
   },
   {
    "duration": 305,
    "start_time": "2021-11-28T20:01:13.226Z"
   },
   {
    "duration": 5,
    "start_time": "2021-11-28T20:01:18.623Z"
   },
   {
    "duration": 338,
    "start_time": "2021-11-28T20:01:21.857Z"
   },
   {
    "duration": 4,
    "start_time": "2021-11-29T07:36:03.479Z"
   },
   {
    "duration": 270,
    "start_time": "2021-11-29T07:36:47.706Z"
   },
   {
    "duration": 241,
    "start_time": "2021-11-29T07:37:00.136Z"
   },
   {
    "duration": 229,
    "start_time": "2021-11-29T07:37:16.041Z"
   },
   {
    "duration": 7105,
    "start_time": "2021-11-29T07:37:31.966Z"
   },
   {
    "duration": 1228,
    "start_time": "2021-11-29T07:37:39.073Z"
   },
   {
    "duration": 38,
    "start_time": "2021-11-29T07:37:40.303Z"
   },
   {
    "duration": 14,
    "start_time": "2021-11-29T07:37:40.343Z"
   },
   {
    "duration": 33,
    "start_time": "2021-11-29T07:37:40.358Z"
   },
   {
    "duration": 512,
    "start_time": "2021-11-29T07:37:40.392Z"
   },
   {
    "duration": 6,
    "start_time": "2021-11-29T07:37:40.905Z"
   },
   {
    "duration": 16,
    "start_time": "2021-11-29T07:37:40.913Z"
   },
   {
    "duration": 36,
    "start_time": "2021-11-29T07:37:40.930Z"
   },
   {
    "duration": 62,
    "start_time": "2021-11-29T07:37:40.967Z"
   },
   {
    "duration": 7,
    "start_time": "2021-11-29T07:37:41.030Z"
   },
   {
    "duration": 24,
    "start_time": "2021-11-29T07:37:41.038Z"
   },
   {
    "duration": 9,
    "start_time": "2021-11-29T07:37:41.063Z"
   },
   {
    "duration": 22,
    "start_time": "2021-11-29T07:37:41.073Z"
   },
   {
    "duration": 28,
    "start_time": "2021-11-29T07:37:41.096Z"
   },
   {
    "duration": 19,
    "start_time": "2021-11-29T07:37:41.125Z"
   },
   {
    "duration": 2,
    "start_time": "2021-11-29T07:37:41.146Z"
   },
   {
    "duration": 606,
    "start_time": "2021-11-29T07:37:41.149Z"
   },
   {
    "duration": 13,
    "start_time": "2021-11-29T07:37:41.756Z"
   },
   {
    "duration": 273,
    "start_time": "2021-11-29T07:37:41.770Z"
   },
   {
    "duration": 46,
    "start_time": "2021-11-29T07:37:42.045Z"
   },
   {
    "duration": 3304,
    "start_time": "2021-11-29T07:37:42.093Z"
   },
   {
    "duration": 4,
    "start_time": "2021-11-29T07:37:45.400Z"
   },
   {
    "duration": 12,
    "start_time": "2021-11-29T07:37:45.406Z"
   },
   {
    "duration": 5,
    "start_time": "2021-11-29T07:37:45.420Z"
   },
   {
    "duration": 18,
    "start_time": "2021-11-29T07:37:45.426Z"
   },
   {
    "duration": 401,
    "start_time": "2021-11-29T07:37:45.445Z"
   },
   {
    "duration": 12,
    "start_time": "2021-11-29T07:37:45.847Z"
   },
   {
    "duration": 310,
    "start_time": "2021-11-29T07:37:45.861Z"
   },
   {
    "duration": 19,
    "start_time": "2021-11-29T07:37:46.173Z"
   },
   {
    "duration": 33,
    "start_time": "2021-11-29T07:37:46.193Z"
   },
   {
    "duration": 725,
    "start_time": "2021-11-29T07:37:46.227Z"
   },
   {
    "duration": -11393,
    "start_time": "2021-11-29T07:37:58.347Z"
   },
   {
    "duration": -11393,
    "start_time": "2021-11-29T07:37:58.348Z"
   },
   {
    "duration": 12,
    "start_time": "2021-11-29T07:42:34.037Z"
   },
   {
    "duration": 12,
    "start_time": "2021-11-29T07:42:57.644Z"
   },
   {
    "duration": 9,
    "start_time": "2021-11-29T07:43:04.173Z"
   },
   {
    "duration": 21,
    "start_time": "2021-11-29T07:46:42.324Z"
   },
   {
    "duration": 9,
    "start_time": "2021-11-29T07:46:54.479Z"
   },
   {
    "duration": 3680,
    "start_time": "2021-11-29T07:58:40.481Z"
   },
   {
    "duration": 15,
    "start_time": "2021-11-29T08:09:36.429Z"
   },
   {
    "duration": 242,
    "start_time": "2021-11-29T08:25:18.129Z"
   },
   {
    "duration": 2194,
    "start_time": "2021-11-29T08:25:36.349Z"
   },
   {
    "duration": 1075,
    "start_time": "2021-11-29T08:25:38.545Z"
   },
   {
    "duration": 37,
    "start_time": "2021-11-29T08:25:39.622Z"
   },
   {
    "duration": 15,
    "start_time": "2021-11-29T08:25:39.661Z"
   },
   {
    "duration": 16,
    "start_time": "2021-11-29T08:25:39.677Z"
   },
   {
    "duration": 446,
    "start_time": "2021-11-29T08:25:39.695Z"
   },
   {
    "duration": 7,
    "start_time": "2021-11-29T08:25:40.142Z"
   },
   {
    "duration": 6,
    "start_time": "2021-11-29T08:25:40.151Z"
   },
   {
    "duration": 16,
    "start_time": "2021-11-29T08:25:40.158Z"
   },
   {
    "duration": 490,
    "start_time": "2021-11-29T08:25:40.175Z"
   },
   {
    "duration": -10983,
    "start_time": "2021-11-29T08:25:51.651Z"
   },
   {
    "duration": -10984,
    "start_time": "2021-11-29T08:25:51.653Z"
   },
   {
    "duration": -10985,
    "start_time": "2021-11-29T08:25:51.654Z"
   },
   {
    "duration": -11116,
    "start_time": "2021-11-29T08:25:51.786Z"
   },
   {
    "duration": -11116,
    "start_time": "2021-11-29T08:25:51.787Z"
   },
   {
    "duration": -11116,
    "start_time": "2021-11-29T08:25:51.788Z"
   },
   {
    "duration": -11115,
    "start_time": "2021-11-29T08:25:51.788Z"
   },
   {
    "duration": -11116,
    "start_time": "2021-11-29T08:25:51.789Z"
   },
   {
    "duration": -11119,
    "start_time": "2021-11-29T08:25:51.793Z"
   },
   {
    "duration": -11119,
    "start_time": "2021-11-29T08:25:51.794Z"
   },
   {
    "duration": -11119,
    "start_time": "2021-11-29T08:25:51.795Z"
   },
   {
    "duration": -11119,
    "start_time": "2021-11-29T08:25:51.796Z"
   },
   {
    "duration": -11119,
    "start_time": "2021-11-29T08:25:51.797Z"
   },
   {
    "duration": -11119,
    "start_time": "2021-11-29T08:25:51.798Z"
   },
   {
    "duration": -11119,
    "start_time": "2021-11-29T08:25:51.799Z"
   },
   {
    "duration": -11120,
    "start_time": "2021-11-29T08:25:51.801Z"
   },
   {
    "duration": -11237,
    "start_time": "2021-11-29T08:25:51.919Z"
   },
   {
    "duration": -11238,
    "start_time": "2021-11-29T08:25:51.921Z"
   },
   {
    "duration": -11238,
    "start_time": "2021-11-29T08:25:51.922Z"
   },
   {
    "duration": -11241,
    "start_time": "2021-11-29T08:25:51.926Z"
   },
   {
    "duration": -11242,
    "start_time": "2021-11-29T08:25:51.928Z"
   },
   {
    "duration": -11243,
    "start_time": "2021-11-29T08:25:51.929Z"
   },
   {
    "duration": -11243,
    "start_time": "2021-11-29T08:25:51.930Z"
   },
   {
    "duration": -11243,
    "start_time": "2021-11-29T08:25:51.931Z"
   },
   {
    "duration": -11242,
    "start_time": "2021-11-29T08:25:51.931Z"
   },
   {
    "duration": -11243,
    "start_time": "2021-11-29T08:25:51.933Z"
   },
   {
    "duration": -11243,
    "start_time": "2021-11-29T08:25:51.934Z"
   },
   {
    "duration": 39,
    "start_time": "2021-11-29T08:34:30.513Z"
   },
   {
    "duration": 8,
    "start_time": "2021-11-29T08:34:33.534Z"
   },
   {
    "duration": 9,
    "start_time": "2021-11-29T08:34:36.936Z"
   },
   {
    "duration": 239,
    "start_time": "2021-11-29T08:36:12.935Z"
   },
   {
    "duration": 3,
    "start_time": "2021-11-29T08:36:21.337Z"
   },
   {
    "duration": 5,
    "start_time": "2021-11-29T08:37:22.201Z"
   },
   {
    "duration": 2391,
    "start_time": "2021-11-29T08:39:01.340Z"
   },
   {
    "duration": 1078,
    "start_time": "2021-11-29T08:39:03.733Z"
   },
   {
    "duration": 40,
    "start_time": "2021-11-29T08:39:04.813Z"
   },
   {
    "duration": 16,
    "start_time": "2021-11-29T08:39:04.855Z"
   },
   {
    "duration": 22,
    "start_time": "2021-11-29T08:39:04.872Z"
   },
   {
    "duration": 499,
    "start_time": "2021-11-29T08:39:04.895Z"
   },
   {
    "duration": 5,
    "start_time": "2021-11-29T08:39:05.395Z"
   },
   {
    "duration": 5,
    "start_time": "2021-11-29T08:39:05.402Z"
   },
   {
    "duration": 7,
    "start_time": "2021-11-29T08:39:05.409Z"
   },
   {
    "duration": 50,
    "start_time": "2021-11-29T08:39:05.418Z"
   },
   {
    "duration": 18,
    "start_time": "2021-11-29T08:39:05.470Z"
   },
   {
    "duration": 7,
    "start_time": "2021-11-29T08:39:05.489Z"
   },
   {
    "duration": 4,
    "start_time": "2021-11-29T08:39:05.497Z"
   },
   {
    "duration": 7,
    "start_time": "2021-11-29T08:39:05.502Z"
   },
   {
    "duration": 8,
    "start_time": "2021-11-29T08:39:05.511Z"
   },
   {
    "duration": 7,
    "start_time": "2021-11-29T08:39:05.520Z"
   },
   {
    "duration": 6,
    "start_time": "2021-11-29T08:39:05.528Z"
   },
   {
    "duration": 16,
    "start_time": "2021-11-29T08:39:05.535Z"
   },
   {
    "duration": 41,
    "start_time": "2021-11-29T08:39:05.553Z"
   },
   {
    "duration": 3,
    "start_time": "2021-11-29T08:39:05.596Z"
   },
   {
    "duration": 641,
    "start_time": "2021-11-29T08:39:05.601Z"
   },
   {
    "duration": 15,
    "start_time": "2021-11-29T08:39:06.244Z"
   },
   {
    "duration": 273,
    "start_time": "2021-11-29T08:39:06.261Z"
   },
   {
    "duration": 33,
    "start_time": "2021-11-29T08:39:06.536Z"
   },
   {
    "duration": 3265,
    "start_time": "2021-11-29T08:39:06.571Z"
   },
   {
    "duration": 4,
    "start_time": "2021-11-29T08:39:09.838Z"
   },
   {
    "duration": 14,
    "start_time": "2021-11-29T08:39:09.846Z"
   },
   {
    "duration": 28,
    "start_time": "2021-11-29T08:39:09.862Z"
   },
   {
    "duration": 18,
    "start_time": "2021-11-29T08:39:09.891Z"
   },
   {
    "duration": 398,
    "start_time": "2021-11-29T08:39:09.911Z"
   },
   {
    "duration": 13,
    "start_time": "2021-11-29T08:39:10.310Z"
   },
   {
    "duration": 348,
    "start_time": "2021-11-29T08:39:10.324Z"
   },
   {
    "duration": 21,
    "start_time": "2021-11-29T08:39:10.673Z"
   },
   {
    "duration": 9,
    "start_time": "2021-11-29T08:39:10.696Z"
   },
   {
    "duration": 4,
    "start_time": "2021-11-29T08:39:10.707Z"
   },
   {
    "duration": 688,
    "start_time": "2021-11-29T08:39:10.712Z"
   },
   {
    "duration": -10847,
    "start_time": "2021-11-29T08:39:22.249Z"
   },
   {
    "duration": -10847,
    "start_time": "2021-11-29T08:39:22.250Z"
   },
   {
    "duration": 13,
    "start_time": "2021-11-29T08:41:39.423Z"
   },
   {
    "duration": 6,
    "start_time": "2021-11-29T08:41:47.370Z"
   },
   {
    "duration": 12,
    "start_time": "2021-11-29T08:41:51.418Z"
   },
   {
    "duration": 5,
    "start_time": "2021-11-29T08:42:38.600Z"
   },
   {
    "duration": 6,
    "start_time": "2021-11-29T08:42:51.650Z"
   },
   {
    "duration": 13,
    "start_time": "2021-11-29T08:42:55.435Z"
   },
   {
    "duration": 5,
    "start_time": "2021-11-29T08:43:16.670Z"
   },
   {
    "duration": 5,
    "start_time": "2021-11-29T08:43:31.618Z"
   },
   {
    "duration": 11,
    "start_time": "2021-11-29T08:43:35.124Z"
   },
   {
    "duration": 5,
    "start_time": "2021-11-29T08:43:49.273Z"
   },
   {
    "duration": 11,
    "start_time": "2021-11-29T08:43:57.770Z"
   },
   {
    "duration": 5,
    "start_time": "2021-11-29T08:44:15.347Z"
   },
   {
    "duration": 40,
    "start_time": "2021-11-29T08:44:22.162Z"
   },
   {
    "duration": 6,
    "start_time": "2021-11-29T08:44:26.800Z"
   },
   {
    "duration": 5,
    "start_time": "2021-11-29T08:44:38.385Z"
   },
   {
    "duration": 5,
    "start_time": "2021-11-29T08:44:44.338Z"
   },
   {
    "duration": 2047,
    "start_time": "2021-11-29T08:44:58.167Z"
   },
   {
    "duration": 1160,
    "start_time": "2021-11-29T08:45:00.216Z"
   },
   {
    "duration": 37,
    "start_time": "2021-11-29T08:45:01.378Z"
   },
   {
    "duration": 20,
    "start_time": "2021-11-29T08:45:01.417Z"
   },
   {
    "duration": 16,
    "start_time": "2021-11-29T08:45:01.439Z"
   },
   {
    "duration": 524,
    "start_time": "2021-11-29T08:45:01.457Z"
   },
   {
    "duration": 8,
    "start_time": "2021-11-29T08:45:01.983Z"
   },
   {
    "duration": 14,
    "start_time": "2021-11-29T08:45:01.994Z"
   },
   {
    "duration": 38,
    "start_time": "2021-11-29T08:45:02.010Z"
   },
   {
    "duration": 54,
    "start_time": "2021-11-29T08:45:02.049Z"
   },
   {
    "duration": 6,
    "start_time": "2021-11-29T08:45:02.105Z"
   },
   {
    "duration": 39,
    "start_time": "2021-11-29T08:45:02.113Z"
   },
   {
    "duration": 32,
    "start_time": "2021-11-29T08:45:02.154Z"
   },
   {
    "duration": 39,
    "start_time": "2021-11-29T08:45:02.187Z"
   },
   {
    "duration": 26,
    "start_time": "2021-11-29T08:45:02.228Z"
   },
   {
    "duration": 11,
    "start_time": "2021-11-29T08:45:02.256Z"
   },
   {
    "duration": 9,
    "start_time": "2021-11-29T08:45:02.269Z"
   },
   {
    "duration": 3,
    "start_time": "2021-11-29T08:45:02.280Z"
   },
   {
    "duration": 25,
    "start_time": "2021-11-29T08:45:02.285Z"
   },
   {
    "duration": 12,
    "start_time": "2021-11-29T08:45:02.312Z"
   },
   {
    "duration": 3,
    "start_time": "2021-11-29T08:45:02.326Z"
   },
   {
    "duration": 626,
    "start_time": "2021-11-29T08:45:02.330Z"
   },
   {
    "duration": 13,
    "start_time": "2021-11-29T08:45:02.959Z"
   },
   {
    "duration": 267,
    "start_time": "2021-11-29T08:45:02.987Z"
   },
   {
    "duration": 41,
    "start_time": "2021-11-29T08:45:03.255Z"
   },
   {
    "duration": 3681,
    "start_time": "2021-11-29T08:45:03.298Z"
   },
   {
    "duration": 8,
    "start_time": "2021-11-29T08:45:06.980Z"
   },
   {
    "duration": 13,
    "start_time": "2021-11-29T08:45:06.990Z"
   },
   {
    "duration": 5,
    "start_time": "2021-11-29T08:45:07.005Z"
   },
   {
    "duration": 21,
    "start_time": "2021-11-29T08:45:07.012Z"
   },
   {
    "duration": 416,
    "start_time": "2021-11-29T08:45:07.035Z"
   },
   {
    "duration": 15,
    "start_time": "2021-11-29T08:45:07.453Z"
   },
   {
    "duration": 442,
    "start_time": "2021-11-29T08:45:07.469Z"
   },
   {
    "duration": 17,
    "start_time": "2021-11-29T08:45:07.913Z"
   },
   {
    "duration": 13,
    "start_time": "2021-11-29T08:45:07.932Z"
   },
   {
    "duration": 6,
    "start_time": "2021-11-29T08:45:07.947Z"
   },
   {
    "duration": 820,
    "start_time": "2021-11-29T08:45:07.954Z"
   },
   {
    "duration": -10853,
    "start_time": "2021-11-29T08:45:19.628Z"
   },
   {
    "duration": -10853,
    "start_time": "2021-11-29T08:45:19.629Z"
   },
   {
    "duration": 2419,
    "start_time": "2021-11-29T08:46:08.671Z"
   },
   {
    "duration": 1190,
    "start_time": "2021-11-29T08:46:11.092Z"
   },
   {
    "duration": 39,
    "start_time": "2021-11-29T08:46:12.284Z"
   },
   {
    "duration": 16,
    "start_time": "2021-11-29T08:46:12.324Z"
   },
   {
    "duration": 12,
    "start_time": "2021-11-29T08:46:12.342Z"
   },
   {
    "duration": 475,
    "start_time": "2021-11-29T08:46:12.355Z"
   },
   {
    "duration": 6,
    "start_time": "2021-11-29T08:46:12.832Z"
   },
   {
    "duration": 5,
    "start_time": "2021-11-29T08:46:12.840Z"
   },
   {
    "duration": 7,
    "start_time": "2021-11-29T08:46:12.847Z"
   },
   {
    "duration": 54,
    "start_time": "2021-11-29T08:46:12.856Z"
   },
   {
    "duration": 7,
    "start_time": "2021-11-29T08:46:12.912Z"
   },
   {
    "duration": 10,
    "start_time": "2021-11-29T08:46:12.921Z"
   },
   {
    "duration": 5,
    "start_time": "2021-11-29T08:46:12.933Z"
   },
   {
    "duration": 14,
    "start_time": "2021-11-29T08:46:12.939Z"
   },
   {
    "duration": 41,
    "start_time": "2021-11-29T08:46:12.955Z"
   },
   {
    "duration": 9,
    "start_time": "2021-11-29T08:46:12.998Z"
   },
   {
    "duration": 7,
    "start_time": "2021-11-29T08:46:13.009Z"
   },
   {
    "duration": 5,
    "start_time": "2021-11-29T08:46:13.018Z"
   },
   {
    "duration": 15,
    "start_time": "2021-11-29T08:46:13.025Z"
   },
   {
    "duration": 13,
    "start_time": "2021-11-29T08:46:13.041Z"
   },
   {
    "duration": 33,
    "start_time": "2021-11-29T08:46:13.055Z"
   },
   {
    "duration": 645,
    "start_time": "2021-11-29T08:46:13.090Z"
   },
   {
    "duration": 12,
    "start_time": "2021-11-29T08:46:13.738Z"
   },
   {
    "duration": 279,
    "start_time": "2021-11-29T08:46:13.752Z"
   },
   {
    "duration": 33,
    "start_time": "2021-11-29T08:46:14.032Z"
   },
   {
    "duration": 3559,
    "start_time": "2021-11-29T08:46:14.067Z"
   },
   {
    "duration": 4,
    "start_time": "2021-11-29T08:46:17.628Z"
   },
   {
    "duration": 17,
    "start_time": "2021-11-29T08:46:17.634Z"
   },
   {
    "duration": 7,
    "start_time": "2021-11-29T08:46:17.653Z"
   },
   {
    "duration": 48,
    "start_time": "2021-11-29T08:46:17.662Z"
   },
   {
    "duration": 471,
    "start_time": "2021-11-29T08:46:17.712Z"
   },
   {
    "duration": 14,
    "start_time": "2021-11-29T08:46:18.187Z"
   },
   {
    "duration": 343,
    "start_time": "2021-11-29T08:46:18.203Z"
   },
   {
    "duration": 16,
    "start_time": "2021-11-29T08:46:18.548Z"
   },
   {
    "duration": 24,
    "start_time": "2021-11-29T08:46:18.566Z"
   },
   {
    "duration": 5,
    "start_time": "2021-11-29T08:46:18.592Z"
   },
   {
    "duration": 765,
    "start_time": "2021-11-29T08:46:18.598Z"
   },
   {
    "duration": -10834,
    "start_time": "2021-11-29T08:46:30.199Z"
   },
   {
    "duration": -10836,
    "start_time": "2021-11-29T08:46:30.201Z"
   },
   {
    "duration": 8,
    "start_time": "2021-11-29T08:48:41.798Z"
   },
   {
    "duration": 17,
    "start_time": "2021-11-29T08:48:48.463Z"
   },
   {
    "duration": 4,
    "start_time": "2021-11-29T08:49:09.660Z"
   },
   {
    "duration": 12,
    "start_time": "2021-11-29T08:49:23.941Z"
   },
   {
    "duration": 7,
    "start_time": "2021-11-29T19:44:50.998Z"
   },
   {
    "duration": 797,
    "start_time": "2021-11-29T19:44:54.259Z"
   },
   {
    "duration": 13089,
    "start_time": "2021-11-29T19:45:04.884Z"
   },
   {
    "duration": 1686,
    "start_time": "2021-11-29T19:45:17.976Z"
   },
   {
    "duration": 52,
    "start_time": "2021-11-29T19:45:19.665Z"
   },
   {
    "duration": 25,
    "start_time": "2021-11-29T19:45:19.720Z"
   },
   {
    "duration": 27,
    "start_time": "2021-11-29T19:45:19.748Z"
   },
   {
    "duration": 757,
    "start_time": "2021-11-29T19:45:19.778Z"
   },
   {
    "duration": 10,
    "start_time": "2021-11-29T19:45:20.537Z"
   },
   {
    "duration": 7,
    "start_time": "2021-11-29T19:45:20.559Z"
   },
   {
    "duration": 15,
    "start_time": "2021-11-29T19:45:20.570Z"
   },
   {
    "duration": 76,
    "start_time": "2021-11-29T19:45:20.587Z"
   },
   {
    "duration": 11,
    "start_time": "2021-11-29T19:45:20.672Z"
   },
   {
    "duration": 14,
    "start_time": "2021-11-29T19:45:20.685Z"
   },
   {
    "duration": 12,
    "start_time": "2021-11-29T19:45:20.701Z"
   },
   {
    "duration": 15,
    "start_time": "2021-11-29T19:45:20.715Z"
   },
   {
    "duration": 38,
    "start_time": "2021-11-29T19:45:20.733Z"
   },
   {
    "duration": 10,
    "start_time": "2021-11-29T19:45:20.774Z"
   },
   {
    "duration": 9,
    "start_time": "2021-11-29T19:45:20.786Z"
   },
   {
    "duration": 6,
    "start_time": "2021-11-29T19:45:20.797Z"
   },
   {
    "duration": 69,
    "start_time": "2021-11-29T19:45:20.806Z"
   },
   {
    "duration": 19,
    "start_time": "2021-11-29T19:45:20.877Z"
   },
   {
    "duration": 5,
    "start_time": "2021-11-29T19:45:20.898Z"
   },
   {
    "duration": 1058,
    "start_time": "2021-11-29T19:45:20.905Z"
   },
   {
    "duration": 27,
    "start_time": "2021-11-29T19:45:21.969Z"
   },
   {
    "duration": 505,
    "start_time": "2021-11-29T19:45:21.999Z"
   },
   {
    "duration": 68,
    "start_time": "2021-11-29T19:45:22.506Z"
   },
   {
    "duration": 6233,
    "start_time": "2021-11-29T19:45:22.576Z"
   },
   {
    "duration": 6,
    "start_time": "2021-11-29T19:45:28.812Z"
   },
   {
    "duration": 42,
    "start_time": "2021-11-29T19:45:28.820Z"
   },
   {
    "duration": 11,
    "start_time": "2021-11-29T19:45:28.872Z"
   },
   {
    "duration": 29,
    "start_time": "2021-11-29T19:45:28.886Z"
   },
   {
    "duration": 781,
    "start_time": "2021-11-29T19:45:28.918Z"
   },
   {
    "duration": 18,
    "start_time": "2021-11-29T19:45:29.701Z"
   },
   {
    "duration": 589,
    "start_time": "2021-11-29T19:45:29.721Z"
   },
   {
    "duration": 19,
    "start_time": "2021-11-29T19:45:30.313Z"
   },
   {
    "duration": 42,
    "start_time": "2021-11-29T19:45:30.335Z"
   },
   {
    "duration": 18,
    "start_time": "2021-11-29T19:45:30.380Z"
   },
   {
    "duration": 472,
    "start_time": "2021-11-29T19:45:30.402Z"
   },
   {
    "duration": 6,
    "start_time": "2021-11-29T19:45:30.879Z"
   },
   {
    "duration": 423,
    "start_time": "2021-11-29T19:45:30.888Z"
   },
   {
    "duration": 5,
    "start_time": "2021-11-29T19:50:24.093Z"
   },
   {
    "duration": 364,
    "start_time": "2021-11-29T19:50:57.597Z"
   },
   {
    "duration": 389,
    "start_time": "2021-11-29T19:51:20.400Z"
   },
   {
    "duration": 6,
    "start_time": "2021-11-29T19:52:07.419Z"
   },
   {
    "duration": 409,
    "start_time": "2021-11-29T19:52:13.140Z"
   },
   {
    "duration": 537,
    "start_time": "2021-11-29T19:53:03.635Z"
   },
   {
    "duration": 566,
    "start_time": "2021-11-29T19:53:45.826Z"
   },
   {
    "duration": 427,
    "start_time": "2021-11-29T19:54:03.233Z"
   },
   {
    "duration": 406,
    "start_time": "2021-11-29T19:54:08.705Z"
   },
   {
    "duration": 264,
    "start_time": "2021-11-29T19:54:51.100Z"
   },
   {
    "duration": 415,
    "start_time": "2021-11-29T19:55:04.276Z"
   },
   {
    "duration": 447,
    "start_time": "2021-11-29T19:55:21.633Z"
   },
   {
    "duration": 359,
    "start_time": "2021-11-29T19:55:58.195Z"
   },
   {
    "duration": 409,
    "start_time": "2021-11-29T19:56:20.454Z"
   },
   {
    "duration": 54,
    "start_time": "2021-11-29T20:16:31.269Z"
   },
   {
    "duration": 8,
    "start_time": "2021-11-29T20:16:54.939Z"
   },
   {
    "duration": 595,
    "start_time": "2021-11-29T20:17:10.541Z"
   },
   {
    "duration": 9,
    "start_time": "2021-11-29T20:17:28.154Z"
   },
   {
    "duration": 6,
    "start_time": "2021-11-29T20:17:39.875Z"
   },
   {
    "duration": 8,
    "start_time": "2021-11-29T20:17:46.889Z"
   },
   {
    "duration": 17,
    "start_time": "2021-11-29T20:18:03.640Z"
   },
   {
    "duration": 16,
    "start_time": "2021-11-29T20:18:35.748Z"
   },
   {
    "duration": 17,
    "start_time": "2021-11-29T20:18:53.897Z"
   },
   {
    "duration": 8033,
    "start_time": "2021-11-29T20:20:17.018Z"
   },
   {
    "duration": 320,
    "start_time": "2021-11-29T20:21:14.147Z"
   },
   {
    "duration": 550,
    "start_time": "2021-11-29T20:21:37.419Z"
   },
   {
    "duration": 4037,
    "start_time": "2021-11-29T20:22:43.179Z"
   },
   {
    "duration": 1152,
    "start_time": "2021-11-29T20:23:10.294Z"
   },
   {
    "duration": 447,
    "start_time": "2021-11-29T20:23:19.299Z"
   },
   {
    "duration": 535,
    "start_time": "2021-11-29T20:23:31.519Z"
   },
   {
    "duration": 5626,
    "start_time": "2021-11-29T20:24:12.861Z"
   },
   {
    "duration": 4950,
    "start_time": "2021-11-29T20:24:35.580Z"
   },
   {
    "duration": 19,
    "start_time": "2021-11-29T20:24:51.729Z"
   },
   {
    "duration": 20,
    "start_time": "2021-11-29T20:25:03.171Z"
   },
   {
    "duration": 619,
    "start_time": "2021-11-29T20:25:10.075Z"
   },
   {
    "duration": 517,
    "start_time": "2021-11-29T20:25:29.576Z"
   },
   {
    "duration": 19,
    "start_time": "2021-11-29T20:29:14.440Z"
   },
   {
    "duration": 129,
    "start_time": "2021-11-29T20:30:56.619Z"
   },
   {
    "duration": 341,
    "start_time": "2021-12-01T08:34:41.067Z"
   },
   {
    "duration": 10559,
    "start_time": "2021-12-01T08:35:05.430Z"
   },
   {
    "duration": 1617,
    "start_time": "2021-12-01T08:35:15.992Z"
   },
   {
    "duration": 50,
    "start_time": "2021-12-01T08:35:17.613Z"
   },
   {
    "duration": 23,
    "start_time": "2021-12-01T08:35:17.666Z"
   },
   {
    "duration": 37,
    "start_time": "2021-12-01T08:35:17.692Z"
   },
   {
    "duration": 649,
    "start_time": "2021-12-01T08:35:17.732Z"
   },
   {
    "duration": 9,
    "start_time": "2021-12-01T08:35:18.384Z"
   },
   {
    "duration": 5,
    "start_time": "2021-12-01T08:35:18.397Z"
   },
   {
    "duration": 24,
    "start_time": "2021-12-01T08:35:18.405Z"
   },
   {
    "duration": 76,
    "start_time": "2021-12-01T08:35:18.432Z"
   },
   {
    "duration": 21,
    "start_time": "2021-12-01T08:35:18.510Z"
   },
   {
    "duration": 12,
    "start_time": "2021-12-01T08:35:18.533Z"
   },
   {
    "duration": 8,
    "start_time": "2021-12-01T08:35:18.548Z"
   },
   {
    "duration": 18,
    "start_time": "2021-12-01T08:35:18.558Z"
   },
   {
    "duration": 51,
    "start_time": "2021-12-01T08:35:18.578Z"
   },
   {
    "duration": 10,
    "start_time": "2021-12-01T08:35:18.632Z"
   },
   {
    "duration": 14,
    "start_time": "2021-12-01T08:35:18.644Z"
   },
   {
    "duration": 10,
    "start_time": "2021-12-01T08:35:18.660Z"
   },
   {
    "duration": 58,
    "start_time": "2021-12-01T08:35:18.673Z"
   },
   {
    "duration": 19,
    "start_time": "2021-12-01T08:35:18.733Z"
   },
   {
    "duration": 5,
    "start_time": "2021-12-01T08:35:18.755Z"
   },
   {
    "duration": 990,
    "start_time": "2021-12-01T08:35:18.762Z"
   },
   {
    "duration": 22,
    "start_time": "2021-12-01T08:35:19.758Z"
   },
   {
    "duration": 493,
    "start_time": "2021-12-01T08:35:19.783Z"
   },
   {
    "duration": 69,
    "start_time": "2021-12-01T08:35:20.279Z"
   },
   {
    "duration": 6218,
    "start_time": "2021-12-01T08:35:20.351Z"
   },
   {
    "duration": 6,
    "start_time": "2021-12-01T08:35:26.572Z"
   },
   {
    "duration": 21,
    "start_time": "2021-12-01T08:35:26.580Z"
   },
   {
    "duration": 11,
    "start_time": "2021-12-01T08:35:26.628Z"
   },
   {
    "duration": 33,
    "start_time": "2021-12-01T08:35:26.641Z"
   },
   {
    "duration": 757,
    "start_time": "2021-12-01T08:35:26.676Z"
   },
   {
    "duration": 22,
    "start_time": "2021-12-01T08:35:27.436Z"
   },
   {
    "duration": 585,
    "start_time": "2021-12-01T08:35:27.461Z"
   },
   {
    "duration": 17,
    "start_time": "2021-12-01T08:35:28.049Z"
   },
   {
    "duration": 17,
    "start_time": "2021-12-01T08:35:28.069Z"
   },
   {
    "duration": 473,
    "start_time": "2021-12-01T08:35:28.088Z"
   },
   {
    "duration": 423,
    "start_time": "2021-12-01T08:35:28.563Z"
   },
   {
    "duration": 440,
    "start_time": "2021-12-01T08:35:28.990Z"
   },
   {
    "duration": 401,
    "start_time": "2021-12-01T08:35:29.433Z"
   },
   {
    "duration": 441,
    "start_time": "2021-12-01T08:35:29.836Z"
   },
   {
    "duration": 449,
    "start_time": "2021-12-01T08:35:30.280Z"
   },
   {
    "duration": 533,
    "start_time": "2021-12-01T08:35:30.731Z"
   },
   {
    "duration": 392,
    "start_time": "2021-12-01T08:35:31.267Z"
   },
   {
    "duration": 387,
    "start_time": "2021-12-01T08:35:31.661Z"
   },
   {
    "duration": 404,
    "start_time": "2021-12-01T08:35:32.050Z"
   },
   {
    "duration": 543,
    "start_time": "2021-12-01T08:35:32.456Z"
   },
   {
    "duration": 33,
    "start_time": "2021-12-01T08:35:33.002Z"
   },
   {
    "duration": 436,
    "start_time": "2021-12-01T08:35:33.038Z"
   },
   {
    "duration": 15,
    "start_time": "2021-12-01T08:35:45.519Z"
   },
   {
    "duration": 15,
    "start_time": "2021-12-01T08:36:05.223Z"
   },
   {
    "duration": 15,
    "start_time": "2021-12-01T08:37:33.424Z"
   },
   {
    "duration": 20,
    "start_time": "2021-12-01T08:38:26.986Z"
   },
   {
    "duration": 19,
    "start_time": "2021-12-01T08:41:18.502Z"
   },
   {
    "duration": 17,
    "start_time": "2021-12-01T08:41:28.897Z"
   },
   {
    "duration": 19,
    "start_time": "2021-12-01T08:42:27.661Z"
   },
   {
    "duration": 17,
    "start_time": "2021-12-01T08:42:58.562Z"
   },
   {
    "duration": 18,
    "start_time": "2021-12-01T08:50:13.612Z"
   },
   {
    "duration": 16,
    "start_time": "2021-12-01T08:51:16.150Z"
   },
   {
    "duration": 15,
    "start_time": "2021-12-01T08:52:14.530Z"
   },
   {
    "duration": 15,
    "start_time": "2021-12-01T08:52:51.195Z"
   },
   {
    "duration": 17,
    "start_time": "2021-12-01T08:56:25.374Z"
   },
   {
    "duration": 20,
    "start_time": "2021-12-01T08:56:54.125Z"
   },
   {
    "duration": 4346,
    "start_time": "2021-12-01T08:57:39.220Z"
   },
   {
    "duration": 27,
    "start_time": "2021-12-01T08:57:56.109Z"
   },
   {
    "duration": 17,
    "start_time": "2021-12-01T08:58:35.303Z"
   },
   {
    "duration": 8,
    "start_time": "2021-12-01T09:06:30.665Z"
   },
   {
    "duration": 16,
    "start_time": "2021-12-01T09:06:39.839Z"
   },
   {
    "duration": 15,
    "start_time": "2021-12-01T09:07:18.768Z"
   },
   {
    "duration": 15,
    "start_time": "2021-12-01T09:07:34.461Z"
   },
   {
    "duration": 16,
    "start_time": "2021-12-01T09:07:41.830Z"
   },
   {
    "duration": 16,
    "start_time": "2021-12-01T09:08:14.117Z"
   },
   {
    "duration": 15,
    "start_time": "2021-12-01T09:09:40.980Z"
   },
   {
    "duration": 15,
    "start_time": "2021-12-01T09:09:48.177Z"
   },
   {
    "duration": 14,
    "start_time": "2021-12-01T09:09:55.751Z"
   },
   {
    "duration": 16,
    "start_time": "2021-12-01T09:10:22.213Z"
   },
   {
    "duration": 17,
    "start_time": "2021-12-01T09:10:26.036Z"
   },
   {
    "duration": 17,
    "start_time": "2021-12-01T09:10:31.527Z"
   },
   {
    "duration": 20,
    "start_time": "2021-12-01T09:10:55.632Z"
   },
   {
    "duration": 18,
    "start_time": "2021-12-01T09:11:20.897Z"
   },
   {
    "duration": 20,
    "start_time": "2021-12-01T09:11:41.391Z"
   },
   {
    "duration": 681,
    "start_time": "2021-12-01T09:21:07.994Z"
   },
   {
    "duration": 96,
    "start_time": "2021-12-01T09:21:31.264Z"
   },
   {
    "duration": 617,
    "start_time": "2021-12-01T09:21:37.619Z"
   },
   {
    "duration": 753,
    "start_time": "2021-12-01T09:22:27.121Z"
   },
   {
    "duration": 573,
    "start_time": "2021-12-01T09:22:37.281Z"
   },
   {
    "duration": 633,
    "start_time": "2021-12-01T09:22:42.108Z"
   },
   {
    "duration": 3552,
    "start_time": "2021-12-01T09:23:26.950Z"
   },
   {
    "duration": 202,
    "start_time": "2021-12-01T09:23:46.473Z"
   },
   {
    "duration": 1023,
    "start_time": "2021-12-01T09:27:36.003Z"
   },
   {
    "duration": 1208,
    "start_time": "2021-12-01T09:28:08.431Z"
   },
   {
    "duration": 205,
    "start_time": "2021-12-01T09:28:17.851Z"
   },
   {
    "duration": 1130,
    "start_time": "2021-12-01T09:29:13.162Z"
   },
   {
    "duration": 859,
    "start_time": "2021-12-01T09:29:25.219Z"
   },
   {
    "duration": 206,
    "start_time": "2021-12-01T09:29:34.948Z"
   },
   {
    "duration": 212,
    "start_time": "2021-12-01T09:32:22.807Z"
   },
   {
    "duration": 200,
    "start_time": "2021-12-01T09:32:37.284Z"
   },
   {
    "duration": 208,
    "start_time": "2021-12-01T09:32:46.316Z"
   },
   {
    "duration": 207,
    "start_time": "2021-12-01T09:32:55.331Z"
   },
   {
    "duration": 304,
    "start_time": "2021-12-01T09:33:03.508Z"
   },
   {
    "duration": 197,
    "start_time": "2021-12-01T09:33:07.400Z"
   },
   {
    "duration": 208,
    "start_time": "2021-12-01T09:33:11.894Z"
   },
   {
    "duration": 197,
    "start_time": "2021-12-01T09:33:19.697Z"
   },
   {
    "duration": 206,
    "start_time": "2021-12-01T09:33:54.292Z"
   },
   {
    "duration": 212,
    "start_time": "2021-12-01T09:34:19.507Z"
   },
   {
    "duration": 5845,
    "start_time": "2021-12-01T09:35:02.186Z"
   },
   {
    "duration": 230,
    "start_time": "2021-12-01T09:35:27.587Z"
   },
   {
    "duration": 3871,
    "start_time": "2021-12-01T09:36:08.755Z"
   },
   {
    "duration": 325,
    "start_time": "2021-12-01T09:36:16.828Z"
   },
   {
    "duration": 226,
    "start_time": "2021-12-01T09:36:45.652Z"
   },
   {
    "duration": 210,
    "start_time": "2021-12-01T09:36:51.979Z"
   },
   {
    "duration": 214,
    "start_time": "2021-12-01T09:36:58.908Z"
   },
   {
    "duration": 210,
    "start_time": "2021-12-01T09:37:02.790Z"
   },
   {
    "duration": 296,
    "start_time": "2021-12-01T09:37:20.100Z"
   },
   {
    "duration": 5,
    "start_time": "2021-12-01T09:45:41.765Z"
   },
   {
    "duration": 8,
    "start_time": "2021-12-01T09:49:10.693Z"
   },
   {
    "duration": 13,
    "start_time": "2021-12-01T09:49:32.364Z"
   },
   {
    "duration": 34,
    "start_time": "2021-12-01T09:51:21.669Z"
   },
   {
    "duration": 11,
    "start_time": "2021-12-01T09:51:40.350Z"
   },
   {
    "duration": 19,
    "start_time": "2021-12-01T09:51:55.341Z"
   },
   {
    "duration": 11,
    "start_time": "2021-12-01T09:53:04.597Z"
   },
   {
    "duration": 10,
    "start_time": "2021-12-01T09:53:42.405Z"
   },
   {
    "duration": 14,
    "start_time": "2021-12-01T09:53:50.301Z"
   },
   {
    "duration": 14,
    "start_time": "2021-12-01T09:53:56.782Z"
   },
   {
    "duration": 588,
    "start_time": "2021-12-01T09:54:38.309Z"
   },
   {
    "duration": 4,
    "start_time": "2021-12-01T09:55:08.654Z"
   },
   {
    "duration": 9,
    "start_time": "2021-12-01T09:55:14.214Z"
   },
   {
    "duration": 10,
    "start_time": "2021-12-01T09:58:27.662Z"
   },
   {
    "duration": 8,
    "start_time": "2021-12-01T09:58:46.254Z"
   },
   {
    "duration": 526,
    "start_time": "2021-12-01T10:08:03.802Z"
   },
   {
    "duration": 4622,
    "start_time": "2021-12-01T10:08:55.462Z"
   },
   {
    "duration": 228,
    "start_time": "2021-12-01T10:09:07.970Z"
   },
   {
    "duration": 210,
    "start_time": "2021-12-01T10:09:27.722Z"
   },
   {
    "duration": 221,
    "start_time": "2021-12-01T10:12:31.942Z"
   },
   {
    "duration": 223,
    "start_time": "2021-12-01T10:12:42.714Z"
   },
   {
    "duration": 214,
    "start_time": "2021-12-01T10:12:58.215Z"
   },
   {
    "duration": 306,
    "start_time": "2021-12-01T10:13:24.563Z"
   },
   {
    "duration": 216,
    "start_time": "2021-12-01T10:13:29.571Z"
   },
   {
    "duration": 216,
    "start_time": "2021-12-01T10:13:48.482Z"
   },
   {
    "duration": 18,
    "start_time": "2021-12-01T10:32:47.671Z"
   },
   {
    "duration": 5,
    "start_time": "2021-12-01T10:33:02.351Z"
   },
   {
    "duration": 1033,
    "start_time": "2021-12-01T10:33:29.889Z"
   },
   {
    "duration": 23,
    "start_time": "2021-12-01T10:34:12.999Z"
   },
   {
    "duration": 21,
    "start_time": "2021-12-01T10:34:29.678Z"
   },
   {
    "duration": 56,
    "start_time": "2021-12-01T10:35:09.751Z"
   },
   {
    "duration": 103,
    "start_time": "2021-12-01T10:35:19.783Z"
   },
   {
    "duration": 64,
    "start_time": "2021-12-01T10:35:29.418Z"
   },
   {
    "duration": 6,
    "start_time": "2021-12-01T10:36:22.087Z"
   },
   {
    "duration": 21,
    "start_time": "2021-12-01T10:36:58.657Z"
   },
   {
    "duration": 17,
    "start_time": "2021-12-01T10:37:34.167Z"
   },
   {
    "duration": 9,
    "start_time": "2021-12-01T10:38:04.168Z"
   },
   {
    "duration": 35,
    "start_time": "2021-12-01T10:38:15.519Z"
   },
   {
    "duration": 29,
    "start_time": "2021-12-01T10:38:40.486Z"
   },
   {
    "duration": 719,
    "start_time": "2021-12-01T10:38:54.890Z"
   },
   {
    "duration": 18,
    "start_time": "2021-12-01T10:40:24.560Z"
   },
   {
    "duration": 688,
    "start_time": "2021-12-01T10:40:31.719Z"
   },
   {
    "duration": 20,
    "start_time": "2021-12-01T10:40:52.778Z"
   },
   {
    "duration": 7,
    "start_time": "2021-12-01T10:41:03.793Z"
   },
   {
    "duration": 774,
    "start_time": "2021-12-01T10:41:25.415Z"
   },
   {
    "duration": 9,
    "start_time": "2021-12-01T10:41:34.046Z"
   },
   {
    "duration": 1768,
    "start_time": "2021-12-01T10:41:39.422Z"
   },
   {
    "duration": 6,
    "start_time": "2021-12-01T10:42:10.003Z"
   },
   {
    "duration": 453,
    "start_time": "2021-12-01T10:42:12.900Z"
   },
   {
    "duration": 408,
    "start_time": "2021-12-01T10:42:15.583Z"
   },
   {
    "duration": 533,
    "start_time": "2021-12-01T10:42:32.543Z"
   },
   {
    "duration": 3441,
    "start_time": "2021-12-01T10:42:49.699Z"
   },
   {
    "duration": 1686,
    "start_time": "2021-12-01T10:42:53.143Z"
   },
   {
    "duration": 52,
    "start_time": "2021-12-01T10:42:54.832Z"
   },
   {
    "duration": 31,
    "start_time": "2021-12-01T10:42:54.887Z"
   },
   {
    "duration": 21,
    "start_time": "2021-12-01T10:42:54.921Z"
   },
   {
    "duration": 1037,
    "start_time": "2021-12-01T10:42:54.945Z"
   },
   {
    "duration": 10,
    "start_time": "2021-12-01T10:42:55.984Z"
   },
   {
    "duration": 17,
    "start_time": "2021-12-01T10:42:55.997Z"
   },
   {
    "duration": 6,
    "start_time": "2021-12-01T10:42:56.019Z"
   },
   {
    "duration": 110,
    "start_time": "2021-12-01T10:42:56.028Z"
   },
   {
    "duration": 12,
    "start_time": "2021-12-01T10:42:56.140Z"
   },
   {
    "duration": 16,
    "start_time": "2021-12-01T10:42:56.154Z"
   },
   {
    "duration": 5,
    "start_time": "2021-12-01T10:42:56.173Z"
   },
   {
    "duration": 14,
    "start_time": "2021-12-01T10:42:56.180Z"
   },
   {
    "duration": 40,
    "start_time": "2021-12-01T10:42:56.197Z"
   },
   {
    "duration": 10,
    "start_time": "2021-12-01T10:42:56.240Z"
   },
   {
    "duration": 11,
    "start_time": "2021-12-01T10:42:56.253Z"
   },
   {
    "duration": 8,
    "start_time": "2021-12-01T10:42:56.266Z"
   },
   {
    "duration": 27,
    "start_time": "2021-12-01T10:42:56.277Z"
   },
   {
    "duration": 32,
    "start_time": "2021-12-01T10:42:56.306Z"
   },
   {
    "duration": 5,
    "start_time": "2021-12-01T10:42:56.341Z"
   },
   {
    "duration": 973,
    "start_time": "2021-12-01T10:42:56.349Z"
   },
   {
    "duration": -11419,
    "start_time": "2021-12-01T10:43:08.747Z"
   },
   {
    "duration": -11422,
    "start_time": "2021-12-01T10:43:08.751Z"
   },
   {
    "duration": -11439,
    "start_time": "2021-12-01T10:43:08.770Z"
   },
   {
    "duration": -11441,
    "start_time": "2021-12-01T10:43:08.773Z"
   },
   {
    "duration": -11504,
    "start_time": "2021-12-01T10:43:08.838Z"
   },
   {
    "duration": -11507,
    "start_time": "2021-12-01T10:43:08.842Z"
   },
   {
    "duration": -11510,
    "start_time": "2021-12-01T10:43:08.846Z"
   },
   {
    "duration": -11511,
    "start_time": "2021-12-01T10:43:08.849Z"
   },
   {
    "duration": -11521,
    "start_time": "2021-12-01T10:43:08.860Z"
   },
   {
    "duration": -11521,
    "start_time": "2021-12-01T10:43:08.861Z"
   },
   {
    "duration": -11535,
    "start_time": "2021-12-01T10:43:08.877Z"
   },
   {
    "duration": -11545,
    "start_time": "2021-12-01T10:43:08.888Z"
   },
   {
    "duration": -11545,
    "start_time": "2021-12-01T10:43:08.889Z"
   },
   {
    "duration": -11544,
    "start_time": "2021-12-01T10:43:08.890Z"
   },
   {
    "duration": -11544,
    "start_time": "2021-12-01T10:43:08.891Z"
   },
   {
    "duration": -11620,
    "start_time": "2021-12-01T10:43:08.968Z"
   },
   {
    "duration": -11621,
    "start_time": "2021-12-01T10:43:08.970Z"
   },
   {
    "duration": -11650,
    "start_time": "2021-12-01T10:43:09.001Z"
   },
   {
    "duration": -11651,
    "start_time": "2021-12-01T10:43:09.003Z"
   },
   {
    "duration": -11651,
    "start_time": "2021-12-01T10:43:09.004Z"
   },
   {
    "duration": -11651,
    "start_time": "2021-12-01T10:43:09.005Z"
   },
   {
    "duration": -11650,
    "start_time": "2021-12-01T10:43:09.006Z"
   },
   {
    "duration": -11650,
    "start_time": "2021-12-01T10:43:09.007Z"
   },
   {
    "duration": -11705,
    "start_time": "2021-12-01T10:43:09.063Z"
   },
   {
    "duration": -11708,
    "start_time": "2021-12-01T10:43:09.067Z"
   },
   {
    "duration": -11711,
    "start_time": "2021-12-01T10:43:09.071Z"
   },
   {
    "duration": -11714,
    "start_time": "2021-12-01T10:43:09.075Z"
   },
   {
    "duration": -11758,
    "start_time": "2021-12-01T10:43:09.120Z"
   },
   {
    "duration": -11759,
    "start_time": "2021-12-01T10:43:09.123Z"
   },
   {
    "duration": -11759,
    "start_time": "2021-12-01T10:43:09.124Z"
   },
   {
    "duration": -11759,
    "start_time": "2021-12-01T10:43:09.125Z"
   },
   {
    "duration": -11695,
    "start_time": "2021-12-01T10:43:09.127Z"
   },
   {
    "duration": -11695,
    "start_time": "2021-12-01T10:43:09.128Z"
   },
   {
    "duration": -11695,
    "start_time": "2021-12-01T10:43:09.129Z"
   },
   {
    "duration": -11696,
    "start_time": "2021-12-01T10:43:09.131Z"
   },
   {
    "duration": -11696,
    "start_time": "2021-12-01T10:43:09.133Z"
   },
   {
    "duration": -11699,
    "start_time": "2021-12-01T10:43:09.137Z"
   },
   {
    "duration": -11815,
    "start_time": "2021-12-01T10:43:09.254Z"
   },
   {
    "duration": -11818,
    "start_time": "2021-12-01T10:43:09.258Z"
   },
   {
    "duration": 807,
    "start_time": "2021-12-01T10:54:47.114Z"
   },
   {
    "duration": 1037,
    "start_time": "2021-12-01T10:54:57.183Z"
   },
   {
    "duration": 20,
    "start_time": "2021-12-01T11:03:43.402Z"
   },
   {
    "duration": 469,
    "start_time": "2021-12-01T11:04:53.689Z"
   },
   {
    "duration": 55,
    "start_time": "2021-12-01T11:07:37.297Z"
   },
   {
    "duration": 5696,
    "start_time": "2021-12-01T11:07:42.408Z"
   },
   {
    "duration": 6,
    "start_time": "2021-12-01T11:09:08.544Z"
   },
   {
    "duration": 18,
    "start_time": "2021-12-01T11:09:10.529Z"
   },
   {
    "duration": 779,
    "start_time": "2021-12-01T11:09:21.402Z"
   },
   {
    "duration": 17,
    "start_time": "2021-12-01T11:09:24.913Z"
   },
   {
    "duration": 9,
    "start_time": "2021-12-01T11:10:34.633Z"
   },
   {
    "duration": 28,
    "start_time": "2021-12-01T11:10:37.696Z"
   },
   {
    "duration": 1208,
    "start_time": "2021-12-01T11:10:41.264Z"
   },
   {
    "duration": 715,
    "start_time": "2021-12-01T11:10:59.826Z"
   },
   {
    "duration": 18,
    "start_time": "2021-12-01T11:32:53.829Z"
   },
   {
    "duration": 544,
    "start_time": "2021-12-01T11:33:51.989Z"
   },
   {
    "duration": 18,
    "start_time": "2021-12-01T11:43:35.458Z"
   },
   {
    "duration": 6,
    "start_time": "2021-12-01T11:43:39.303Z"
   },
   {
    "duration": 406,
    "start_time": "2021-12-01T11:43:42.077Z"
   },
   {
    "duration": 397,
    "start_time": "2021-12-01T11:43:44.740Z"
   },
   {
    "duration": 472,
    "start_time": "2021-12-01T11:43:47.460Z"
   },
   {
    "duration": 390,
    "start_time": "2021-12-01T11:43:50.085Z"
   },
   {
    "duration": 418,
    "start_time": "2021-12-01T11:43:54.142Z"
   },
   {
    "duration": 415,
    "start_time": "2021-12-01T11:43:56.660Z"
   },
   {
    "duration": 396,
    "start_time": "2021-12-01T11:43:59.285Z"
   },
   {
    "duration": 404,
    "start_time": "2021-12-01T11:44:02.029Z"
   },
   {
    "duration": 368,
    "start_time": "2021-12-01T11:44:04.556Z"
   },
   {
    "duration": 389,
    "start_time": "2021-12-01T11:44:06.933Z"
   },
   {
    "duration": 517,
    "start_time": "2021-12-01T11:48:11.574Z"
   },
   {
    "duration": 18,
    "start_time": "2021-12-01T11:48:22.199Z"
   },
   {
    "duration": 18,
    "start_time": "2021-12-01T11:49:00.178Z"
   },
   {
    "duration": 209,
    "start_time": "2021-12-01T11:53:25.702Z"
   },
   {
    "duration": 227,
    "start_time": "2021-12-01T11:53:28.703Z"
   },
   {
    "duration": 218,
    "start_time": "2021-12-01T11:53:32.144Z"
   },
   {
    "duration": 18,
    "start_time": "2021-12-01T11:53:35.775Z"
   },
   {
    "duration": 18,
    "start_time": "2021-12-01T11:53:45.223Z"
   },
   {
    "duration": 18,
    "start_time": "2021-12-01T11:53:47.167Z"
   },
   {
    "duration": 19,
    "start_time": "2021-12-01T11:54:56.782Z"
   },
   {
    "duration": 19,
    "start_time": "2021-12-01T11:55:00.655Z"
   },
   {
    "duration": 20,
    "start_time": "2021-12-01T11:55:02.926Z"
   },
   {
    "duration": 94669,
    "start_time": "2021-12-01T15:44:36.810Z"
   },
   {
    "duration": 1215,
    "start_time": "2021-12-01T15:46:11.481Z"
   },
   {
    "duration": 38,
    "start_time": "2021-12-01T15:46:12.699Z"
   },
   {
    "duration": 19,
    "start_time": "2021-12-01T15:46:12.740Z"
   },
   {
    "duration": 66,
    "start_time": "2021-12-01T15:46:12.761Z"
   },
   {
    "duration": 91783,
    "start_time": "2021-12-01T15:49:35.655Z"
   },
   {
    "duration": 1355,
    "start_time": "2021-12-01T15:51:07.440Z"
   },
   {
    "duration": 40,
    "start_time": "2021-12-01T15:51:08.796Z"
   },
   {
    "duration": 19,
    "start_time": "2021-12-01T15:51:08.838Z"
   },
   {
    "duration": 15,
    "start_time": "2021-12-01T15:51:08.859Z"
   },
   {
    "duration": 73911,
    "start_time": "2021-12-01T15:51:08.876Z"
   },
   {
    "duration": 6,
    "start_time": "2021-12-01T15:52:22.788Z"
   },
   {
    "duration": 7,
    "start_time": "2021-12-01T15:52:22.796Z"
   },
   {
    "duration": 16,
    "start_time": "2021-12-01T15:52:22.805Z"
   },
   {
    "duration": 59,
    "start_time": "2021-12-01T15:52:22.823Z"
   },
   {
    "duration": 6,
    "start_time": "2021-12-01T15:52:22.883Z"
   },
   {
    "duration": 23,
    "start_time": "2021-12-01T15:52:22.891Z"
   },
   {
    "duration": 8,
    "start_time": "2021-12-01T15:52:22.916Z"
   },
   {
    "duration": 28,
    "start_time": "2021-12-01T15:52:22.926Z"
   },
   {
    "duration": 28,
    "start_time": "2021-12-01T15:52:22.956Z"
   },
   {
    "duration": 17,
    "start_time": "2021-12-01T15:52:22.985Z"
   },
   {
    "duration": 12,
    "start_time": "2021-12-01T15:52:23.003Z"
   },
   {
    "duration": 13,
    "start_time": "2021-12-01T15:52:23.016Z"
   },
   {
    "duration": 37,
    "start_time": "2021-12-01T15:52:23.031Z"
   },
   {
    "duration": 22,
    "start_time": "2021-12-01T15:52:23.070Z"
   },
   {
    "duration": 3,
    "start_time": "2021-12-01T15:52:23.094Z"
   },
   {
    "duration": 793,
    "start_time": "2021-12-01T15:52:23.099Z"
   },
   {
    "duration": 13,
    "start_time": "2021-12-01T15:52:23.896Z"
   },
   {
    "duration": 311,
    "start_time": "2021-12-01T15:52:23.911Z"
   },
   {
    "duration": 47,
    "start_time": "2021-12-01T15:52:24.224Z"
   },
   {
    "duration": 4110,
    "start_time": "2021-12-01T15:52:24.272Z"
   },
   {
    "duration": 5,
    "start_time": "2021-12-01T15:52:28.384Z"
   },
   {
    "duration": 32,
    "start_time": "2021-12-01T15:52:28.390Z"
   },
   {
    "duration": 20,
    "start_time": "2021-12-01T15:52:28.423Z"
   },
   {
    "duration": 40,
    "start_time": "2021-12-01T15:52:28.445Z"
   },
   {
    "duration": 458,
    "start_time": "2021-12-01T15:52:28.486Z"
   },
   {
    "duration": 19,
    "start_time": "2021-12-01T15:52:28.946Z"
   },
   {
    "duration": 357,
    "start_time": "2021-12-01T15:52:28.967Z"
   },
   {
    "duration": 27,
    "start_time": "2021-12-01T15:52:29.326Z"
   },
   {
    "duration": 26,
    "start_time": "2021-12-01T15:52:29.355Z"
   },
   {
    "duration": 324,
    "start_time": "2021-12-01T15:52:29.382Z"
   },
   {
    "duration": 310,
    "start_time": "2021-12-01T15:52:29.708Z"
   },
   {
    "duration": 306,
    "start_time": "2021-12-01T15:52:30.020Z"
   },
   {
    "duration": 290,
    "start_time": "2021-12-01T15:52:30.344Z"
   },
   {
    "duration": 334,
    "start_time": "2021-12-01T15:52:30.644Z"
   },
   {
    "duration": 309,
    "start_time": "2021-12-01T15:52:30.980Z"
   },
   {
    "duration": 381,
    "start_time": "2021-12-01T15:52:31.291Z"
   },
   {
    "duration": 296,
    "start_time": "2021-12-01T15:52:31.673Z"
   },
   {
    "duration": 305,
    "start_time": "2021-12-01T15:52:31.971Z"
   },
   {
    "duration": 286,
    "start_time": "2021-12-01T15:52:32.278Z"
   },
   {
    "duration": 332,
    "start_time": "2021-12-01T15:52:32.566Z"
   },
   {
    "duration": 14,
    "start_time": "2021-12-01T15:52:32.900Z"
   },
   {
    "duration": 160,
    "start_time": "2021-12-01T15:52:32.915Z"
   },
   {
    "duration": 145,
    "start_time": "2021-12-01T15:52:33.077Z"
   },
   {
    "duration": 157,
    "start_time": "2021-12-01T15:52:33.224Z"
   },
   {
    "duration": 12,
    "start_time": "2021-12-01T15:52:33.382Z"
   },
   {
    "duration": 30,
    "start_time": "2021-12-01T15:52:33.395Z"
   },
   {
    "duration": 22,
    "start_time": "2021-12-01T15:52:33.427Z"
   },
   {
    "duration": 30,
    "start_time": "2021-12-01T15:52:33.451Z"
   },
   {
    "duration": 35,
    "start_time": "2021-12-01T15:52:33.483Z"
   },
   {
    "duration": 17,
    "start_time": "2021-12-01T15:52:33.520Z"
   },
   {
    "duration": 14,
    "start_time": "2021-12-01T15:52:33.539Z"
   },
   {
    "duration": 15,
    "start_time": "2021-12-01T15:52:33.555Z"
   },
   {
    "duration": 25,
    "start_time": "2021-12-01T15:52:33.571Z"
   },
   {
    "duration": 27,
    "start_time": "2021-12-01T15:52:33.598Z"
   },
   {
    "duration": 15,
    "start_time": "2021-12-01T15:52:33.627Z"
   },
   {
    "duration": 5,
    "start_time": "2021-12-01T16:18:00.012Z"
   },
   {
    "duration": 6,
    "start_time": "2021-12-01T16:18:16.321Z"
   },
   {
    "duration": 8,
    "start_time": "2021-12-01T16:19:50.952Z"
   },
   {
    "duration": 8,
    "start_time": "2021-12-01T16:20:13.320Z"
   },
   {
    "duration": 6,
    "start_time": "2021-12-02T07:38:09.468Z"
   },
   {
    "duration": 15132,
    "start_time": "2021-12-02T07:38:35.021Z"
   },
   {
    "duration": 1672,
    "start_time": "2021-12-02T07:38:50.156Z"
   },
   {
    "duration": 50,
    "start_time": "2021-12-02T07:38:51.831Z"
   },
   {
    "duration": 26,
    "start_time": "2021-12-02T07:38:51.884Z"
   },
   {
    "duration": 19,
    "start_time": "2021-12-02T07:38:51.913Z"
   },
   {
    "duration": 726,
    "start_time": "2021-12-02T07:38:51.935Z"
   },
   {
    "duration": 18,
    "start_time": "2021-12-02T07:38:52.664Z"
   },
   {
    "duration": 10,
    "start_time": "2021-12-02T07:38:52.686Z"
   },
   {
    "duration": 7,
    "start_time": "2021-12-02T07:38:52.699Z"
   },
   {
    "duration": 85,
    "start_time": "2021-12-02T07:38:52.709Z"
   },
   {
    "duration": 11,
    "start_time": "2021-12-02T07:38:52.797Z"
   },
   {
    "duration": 17,
    "start_time": "2021-12-02T07:38:52.810Z"
   },
   {
    "duration": 5,
    "start_time": "2021-12-02T07:38:52.829Z"
   },
   {
    "duration": 44,
    "start_time": "2021-12-02T07:38:52.838Z"
   },
   {
    "duration": 30,
    "start_time": "2021-12-02T07:38:52.885Z"
   },
   {
    "duration": 13,
    "start_time": "2021-12-02T07:38:52.918Z"
   },
   {
    "duration": 11,
    "start_time": "2021-12-02T07:38:52.933Z"
   },
   {
    "duration": 39,
    "start_time": "2021-12-02T07:38:52.947Z"
   },
   {
    "duration": 29,
    "start_time": "2021-12-02T07:38:52.989Z"
   },
   {
    "duration": 19,
    "start_time": "2021-12-02T07:38:53.021Z"
   },
   {
    "duration": 5,
    "start_time": "2021-12-02T07:38:53.042Z"
   },
   {
    "duration": 989,
    "start_time": "2021-12-02T07:38:53.083Z"
   },
   {
    "duration": 21,
    "start_time": "2021-12-02T07:38:54.086Z"
   },
   {
    "duration": 487,
    "start_time": "2021-12-02T07:38:54.111Z"
   },
   {
    "duration": 59,
    "start_time": "2021-12-02T07:38:54.601Z"
   },
   {
    "duration": 5840,
    "start_time": "2021-12-02T07:38:54.682Z"
   },
   {
    "duration": 6,
    "start_time": "2021-12-02T07:39:00.524Z"
   },
   {
    "duration": 30,
    "start_time": "2021-12-02T07:39:00.532Z"
   },
   {
    "duration": 11,
    "start_time": "2021-12-02T07:39:00.582Z"
   },
   {
    "duration": 36,
    "start_time": "2021-12-02T07:39:00.596Z"
   },
   {
    "duration": 754,
    "start_time": "2021-12-02T07:39:00.635Z"
   },
   {
    "duration": 18,
    "start_time": "2021-12-02T07:39:01.392Z"
   },
   {
    "duration": 572,
    "start_time": "2021-12-02T07:39:01.413Z"
   },
   {
    "duration": 19,
    "start_time": "2021-12-02T07:39:01.987Z"
   },
   {
    "duration": 7,
    "start_time": "2021-12-02T07:39:02.009Z"
   },
   {
    "duration": 416,
    "start_time": "2021-12-02T07:39:02.019Z"
   },
   {
    "duration": 583,
    "start_time": "2021-12-02T07:39:02.438Z"
   },
   {
    "duration": 508,
    "start_time": "2021-12-02T07:39:03.024Z"
   },
   {
    "duration": 459,
    "start_time": "2021-12-02T07:39:03.535Z"
   },
   {
    "duration": 429,
    "start_time": "2021-12-02T07:39:03.997Z"
   },
   {
    "duration": 423,
    "start_time": "2021-12-02T07:39:04.429Z"
   },
   {
    "duration": 537,
    "start_time": "2021-12-02T07:39:04.854Z"
   },
   {
    "duration": 420,
    "start_time": "2021-12-02T07:39:05.394Z"
   },
   {
    "duration": 509,
    "start_time": "2021-12-02T07:39:05.817Z"
   },
   {
    "duration": 570,
    "start_time": "2021-12-02T07:39:06.329Z"
   },
   {
    "duration": 780,
    "start_time": "2021-12-02T07:39:06.902Z"
   },
   {
    "duration": 25,
    "start_time": "2021-12-02T07:39:07.685Z"
   },
   {
    "duration": 331,
    "start_time": "2021-12-02T07:39:07.713Z"
   },
   {
    "duration": 326,
    "start_time": "2021-12-02T07:39:08.048Z"
   },
   {
    "duration": 239,
    "start_time": "2021-12-02T07:39:08.378Z"
   },
   {
    "duration": 18,
    "start_time": "2021-12-02T07:39:08.620Z"
   },
   {
    "duration": 42,
    "start_time": "2021-12-02T07:39:08.640Z"
   },
   {
    "duration": 18,
    "start_time": "2021-12-02T07:39:08.684Z"
   },
   {
    "duration": 18,
    "start_time": "2021-12-02T07:39:08.704Z"
   },
   {
    "duration": 19,
    "start_time": "2021-12-02T07:39:08.725Z"
   },
   {
    "duration": 54,
    "start_time": "2021-12-02T07:39:08.746Z"
   },
   {
    "duration": 9,
    "start_time": "2021-12-02T07:39:08.802Z"
   },
   {
    "duration": 10,
    "start_time": "2021-12-02T07:39:08.814Z"
   },
   {
    "duration": 8,
    "start_time": "2021-12-02T07:39:08.827Z"
   },
   {
    "duration": 47,
    "start_time": "2021-12-02T07:39:08.837Z"
   },
   {
    "duration": 9,
    "start_time": "2021-12-02T07:39:08.886Z"
   },
   {
    "duration": 5648,
    "start_time": "2021-12-02T07:43:29.531Z"
   },
   {
    "duration": 24,
    "start_time": "2021-12-02T07:43:55.849Z"
   },
   {
    "duration": 4003,
    "start_time": "2021-12-02T07:43:59.760Z"
   },
   {
    "duration": 3715,
    "start_time": "2021-12-02T07:44:57.610Z"
   },
   {
    "duration": 1731,
    "start_time": "2021-12-02T07:45:01.328Z"
   },
   {
    "duration": 53,
    "start_time": "2021-12-02T07:45:03.062Z"
   },
   {
    "duration": 27,
    "start_time": "2021-12-02T07:45:03.118Z"
   },
   {
    "duration": 42,
    "start_time": "2021-12-02T07:45:03.147Z"
   },
   {
    "duration": 737,
    "start_time": "2021-12-02T07:45:03.192Z"
   },
   {
    "duration": 11,
    "start_time": "2021-12-02T07:45:03.932Z"
   },
   {
    "duration": 4,
    "start_time": "2021-12-02T07:45:03.947Z"
   },
   {
    "duration": 532,
    "start_time": "2021-12-02T07:45:03.954Z"
   },
   {
    "duration": -11681,
    "start_time": "2021-12-02T07:45:16.173Z"
   },
   {
    "duration": -11688,
    "start_time": "2021-12-02T07:45:16.182Z"
   },
   {
    "duration": -11690,
    "start_time": "2021-12-02T07:45:16.185Z"
   },
   {
    "duration": -11690,
    "start_time": "2021-12-02T07:45:16.187Z"
   },
   {
    "duration": -11699,
    "start_time": "2021-12-02T07:45:16.197Z"
   },
   {
    "duration": -11701,
    "start_time": "2021-12-02T07:45:16.200Z"
   },
   {
    "duration": -11702,
    "start_time": "2021-12-02T07:45:16.203Z"
   },
   {
    "duration": -11704,
    "start_time": "2021-12-02T07:45:16.206Z"
   },
   {
    "duration": -11712,
    "start_time": "2021-12-02T07:45:16.216Z"
   },
   {
    "duration": -11714,
    "start_time": "2021-12-02T07:45:16.219Z"
   },
   {
    "duration": -11716,
    "start_time": "2021-12-02T07:45:16.222Z"
   },
   {
    "duration": -11885,
    "start_time": "2021-12-02T07:45:16.393Z"
   },
   {
    "duration": -11898,
    "start_time": "2021-12-02T07:45:16.408Z"
   },
   {
    "duration": -11900,
    "start_time": "2021-12-02T07:45:16.411Z"
   },
   {
    "duration": -11900,
    "start_time": "2021-12-02T07:45:16.413Z"
   },
   {
    "duration": -11901,
    "start_time": "2021-12-02T07:45:16.415Z"
   },
   {
    "duration": -11902,
    "start_time": "2021-12-02T07:45:16.418Z"
   },
   {
    "duration": -11903,
    "start_time": "2021-12-02T07:45:16.420Z"
   },
   {
    "duration": -11905,
    "start_time": "2021-12-02T07:45:16.423Z"
   },
   {
    "duration": -11906,
    "start_time": "2021-12-02T07:45:16.426Z"
   },
   {
    "duration": -11907,
    "start_time": "2021-12-02T07:45:16.428Z"
   },
   {
    "duration": -11908,
    "start_time": "2021-12-02T07:45:16.431Z"
   },
   {
    "duration": -11909,
    "start_time": "2021-12-02T07:45:16.433Z"
   },
   {
    "duration": -11853,
    "start_time": "2021-12-02T07:45:16.435Z"
   },
   {
    "duration": -11855,
    "start_time": "2021-12-02T07:45:16.438Z"
   },
   {
    "duration": -11857,
    "start_time": "2021-12-02T07:45:16.442Z"
   },
   {
    "duration": -11858,
    "start_time": "2021-12-02T07:45:16.444Z"
   },
   {
    "duration": -11859,
    "start_time": "2021-12-02T07:45:16.447Z"
   },
   {
    "duration": -11859,
    "start_time": "2021-12-02T07:45:16.448Z"
   },
   {
    "duration": -11860,
    "start_time": "2021-12-02T07:45:16.451Z"
   },
   {
    "duration": -11862,
    "start_time": "2021-12-02T07:45:16.454Z"
   },
   {
    "duration": -11863,
    "start_time": "2021-12-02T07:45:16.457Z"
   },
   {
    "duration": -11864,
    "start_time": "2021-12-02T07:45:16.460Z"
   },
   {
    "duration": -11865,
    "start_time": "2021-12-02T07:45:16.462Z"
   },
   {
    "duration": -11867,
    "start_time": "2021-12-02T07:45:16.465Z"
   },
   {
    "duration": -11867,
    "start_time": "2021-12-02T07:45:16.467Z"
   },
   {
    "duration": -11867,
    "start_time": "2021-12-02T07:45:16.469Z"
   },
   {
    "duration": -11868,
    "start_time": "2021-12-02T07:45:16.472Z"
   },
   {
    "duration": -11870,
    "start_time": "2021-12-02T07:45:16.475Z"
   },
   {
    "duration": -11872,
    "start_time": "2021-12-02T07:45:16.478Z"
   },
   {
    "duration": -11873,
    "start_time": "2021-12-02T07:45:16.480Z"
   },
   {
    "duration": -11873,
    "start_time": "2021-12-02T07:45:16.482Z"
   },
   {
    "duration": -11874,
    "start_time": "2021-12-02T07:45:16.484Z"
   },
   {
    "duration": -11875,
    "start_time": "2021-12-02T07:45:16.486Z"
   },
   {
    "duration": -11877,
    "start_time": "2021-12-02T07:45:16.489Z"
   },
   {
    "duration": -11878,
    "start_time": "2021-12-02T07:45:16.492Z"
   },
   {
    "duration": -11878,
    "start_time": "2021-12-02T07:45:16.494Z"
   },
   {
    "duration": -11879,
    "start_time": "2021-12-02T07:45:16.496Z"
   },
   {
    "duration": -11815,
    "start_time": "2021-12-02T07:45:16.498Z"
   },
   {
    "duration": -11815,
    "start_time": "2021-12-02T07:45:16.500Z"
   },
   {
    "duration": -11816,
    "start_time": "2021-12-02T07:45:16.502Z"
   },
   {
    "duration": -11816,
    "start_time": "2021-12-02T07:45:16.504Z"
   },
   {
    "duration": 3873,
    "start_time": "2021-12-02T07:45:33.189Z"
   },
   {
    "duration": 51,
    "start_time": "2021-12-02T07:45:56.416Z"
   },
   {
    "duration": 22,
    "start_time": "2021-12-02T07:46:00.198Z"
   },
   {
    "duration": 21,
    "start_time": "2021-12-02T07:46:03.077Z"
   },
   {
    "duration": 30,
    "start_time": "2021-12-02T07:46:05.980Z"
   },
   {
    "duration": 13,
    "start_time": "2021-12-02T07:46:10.217Z"
   },
   {
    "duration": 10,
    "start_time": "2021-12-02T07:46:45.509Z"
   },
   {
    "duration": 28,
    "start_time": "2021-12-02T07:47:05.140Z"
   },
   {
    "duration": 11,
    "start_time": "2021-12-02T07:47:09.455Z"
   },
   {
    "duration": 37,
    "start_time": "2021-12-02T07:47:12.314Z"
   },
   {
    "duration": 14,
    "start_time": "2021-12-02T07:47:48.783Z"
   },
   {
    "duration": 26,
    "start_time": "2021-12-02T07:47:51.344Z"
   },
   {
    "duration": 47,
    "start_time": "2021-12-02T07:48:05.329Z"
   },
   {
    "duration": 25,
    "start_time": "2021-12-02T07:48:09.697Z"
   },
   {
    "duration": 14,
    "start_time": "2021-12-02T07:48:13.320Z"
   },
   {
    "duration": 27,
    "start_time": "2021-12-02T07:48:16.091Z"
   },
   {
    "duration": 15,
    "start_time": "2021-12-02T07:48:49.531Z"
   },
   {
    "duration": 28,
    "start_time": "2021-12-02T07:48:52.206Z"
   },
   {
    "duration": 10,
    "start_time": "2021-12-02T07:49:13.750Z"
   },
   {
    "duration": 24,
    "start_time": "2021-12-02T07:49:15.933Z"
   },
   {
    "duration": 3872,
    "start_time": "2021-12-02T07:49:28.014Z"
   },
   {
    "duration": 1861,
    "start_time": "2021-12-02T07:49:31.889Z"
   },
   {
    "duration": 54,
    "start_time": "2021-12-02T07:49:33.754Z"
   },
   {
    "duration": 25,
    "start_time": "2021-12-02T07:49:33.811Z"
   },
   {
    "duration": 20,
    "start_time": "2021-12-02T07:49:33.838Z"
   },
   {
    "duration": 699,
    "start_time": "2021-12-02T07:49:33.860Z"
   },
   {
    "duration": 22,
    "start_time": "2021-12-02T07:49:34.561Z"
   },
   {
    "duration": 26,
    "start_time": "2021-12-02T07:49:34.586Z"
   },
   {
    "duration": 3,
    "start_time": "2021-12-02T07:49:34.615Z"
   },
   {
    "duration": 498,
    "start_time": "2021-12-02T07:49:34.621Z"
   },
   {
    "duration": -11499,
    "start_time": "2021-12-02T07:49:46.623Z"
   },
   {
    "duration": -11501,
    "start_time": "2021-12-02T07:49:46.626Z"
   },
   {
    "duration": -11503,
    "start_time": "2021-12-02T07:49:46.629Z"
   },
   {
    "duration": -11600,
    "start_time": "2021-12-02T07:49:46.728Z"
   },
   {
    "duration": -11652,
    "start_time": "2021-12-02T07:49:46.781Z"
   },
   {
    "duration": -11655,
    "start_time": "2021-12-02T07:49:46.786Z"
   },
   {
    "duration": -11659,
    "start_time": "2021-12-02T07:49:46.791Z"
   },
   {
    "duration": -11661,
    "start_time": "2021-12-02T07:49:46.795Z"
   },
   {
    "duration": -11665,
    "start_time": "2021-12-02T07:49:46.800Z"
   },
   {
    "duration": -11669,
    "start_time": "2021-12-02T07:49:46.806Z"
   },
   {
    "duration": -11676,
    "start_time": "2021-12-02T07:49:46.815Z"
   },
   {
    "duration": -11678,
    "start_time": "2021-12-02T07:49:46.818Z"
   },
   {
    "duration": -11680,
    "start_time": "2021-12-02T07:49:46.822Z"
   },
   {
    "duration": -11681,
    "start_time": "2021-12-02T07:49:46.824Z"
   },
   {
    "duration": -11690,
    "start_time": "2021-12-02T07:49:46.834Z"
   },
   {
    "duration": -11692,
    "start_time": "2021-12-02T07:49:46.838Z"
   },
   {
    "duration": -11701,
    "start_time": "2021-12-02T07:49:46.848Z"
   },
   {
    "duration": -11701,
    "start_time": "2021-12-02T07:49:46.850Z"
   },
   {
    "duration": -11704,
    "start_time": "2021-12-02T07:49:46.854Z"
   },
   {
    "duration": -11711,
    "start_time": "2021-12-02T07:49:46.863Z"
   },
   {
    "duration": -11712,
    "start_time": "2021-12-02T07:49:46.865Z"
   },
   {
    "duration": -11685,
    "start_time": "2021-12-02T07:49:46.867Z"
   },
   {
    "duration": -11688,
    "start_time": "2021-12-02T07:49:46.871Z"
   },
   {
    "duration": -11695,
    "start_time": "2021-12-02T07:49:46.880Z"
   },
   {
    "duration": -11695,
    "start_time": "2021-12-02T07:49:46.882Z"
   },
   {
    "duration": -11699,
    "start_time": "2021-12-02T07:49:46.887Z"
   },
   {
    "duration": -11706,
    "start_time": "2021-12-02T07:49:46.896Z"
   },
   {
    "duration": -11707,
    "start_time": "2021-12-02T07:49:46.898Z"
   },
   {
    "duration": -11707,
    "start_time": "2021-12-02T07:49:46.900Z"
   },
   {
    "duration": -11709,
    "start_time": "2021-12-02T07:49:46.903Z"
   },
   {
    "duration": -11718,
    "start_time": "2021-12-02T07:49:46.914Z"
   },
   {
    "duration": -11719,
    "start_time": "2021-12-02T07:49:46.916Z"
   },
   {
    "duration": -11719,
    "start_time": "2021-12-02T07:49:46.918Z"
   },
   {
    "duration": -11733,
    "start_time": "2021-12-02T07:49:46.934Z"
   },
   {
    "duration": -11741,
    "start_time": "2021-12-02T07:49:46.944Z"
   },
   {
    "duration": -11742,
    "start_time": "2021-12-02T07:49:46.947Z"
   },
   {
    "duration": -11743,
    "start_time": "2021-12-02T07:49:46.949Z"
   },
   {
    "duration": -11744,
    "start_time": "2021-12-02T07:49:46.952Z"
   },
   {
    "duration": -11754,
    "start_time": "2021-12-02T07:49:46.964Z"
   },
   {
    "duration": -11755,
    "start_time": "2021-12-02T07:49:46.966Z"
   },
   {
    "duration": -11756,
    "start_time": "2021-12-02T07:49:46.969Z"
   },
   {
    "duration": -11765,
    "start_time": "2021-12-02T07:49:46.979Z"
   },
   {
    "duration": -11765,
    "start_time": "2021-12-02T07:49:46.981Z"
   },
   {
    "duration": -11766,
    "start_time": "2021-12-02T07:49:46.983Z"
   },
   {
    "duration": -11705,
    "start_time": "2021-12-02T07:49:46.987Z"
   },
   {
    "duration": -11713,
    "start_time": "2021-12-02T07:49:46.996Z"
   },
   {
    "duration": -11713,
    "start_time": "2021-12-02T07:49:46.998Z"
   },
   {
    "duration": -11713,
    "start_time": "2021-12-02T07:49:47.000Z"
   },
   {
    "duration": -11716,
    "start_time": "2021-12-02T07:49:47.004Z"
   },
   {
    "duration": -11723,
    "start_time": "2021-12-02T07:49:47.013Z"
   },
   {
    "duration": -11724,
    "start_time": "2021-12-02T07:49:47.015Z"
   },
   {
    "duration": -11727,
    "start_time": "2021-12-02T07:49:47.020Z"
   },
   {
    "duration": 482,
    "start_time": "2021-12-02T07:53:20.955Z"
   },
   {
    "duration": 3260,
    "start_time": "2021-12-02T07:53:36.961Z"
   },
   {
    "duration": 1944,
    "start_time": "2021-12-02T07:53:40.225Z"
   },
   {
    "duration": 50,
    "start_time": "2021-12-02T07:53:42.173Z"
   },
   {
    "duration": 25,
    "start_time": "2021-12-02T07:53:42.226Z"
   },
   {
    "duration": 37,
    "start_time": "2021-12-02T07:53:42.254Z"
   },
   {
    "duration": 679,
    "start_time": "2021-12-02T07:53:42.293Z"
   },
   {
    "duration": 29,
    "start_time": "2021-12-02T07:53:42.976Z"
   },
   {
    "duration": 39,
    "start_time": "2021-12-02T07:53:43.010Z"
   },
   {
    "duration": 30,
    "start_time": "2021-12-02T07:53:43.053Z"
   },
   {
    "duration": 12,
    "start_time": "2021-12-02T07:53:43.086Z"
   },
   {
    "duration": 118,
    "start_time": "2021-12-02T07:53:43.101Z"
   },
   {
    "duration": 15,
    "start_time": "2021-12-02T07:53:43.222Z"
   },
   {
    "duration": 43,
    "start_time": "2021-12-02T07:53:43.241Z"
   },
   {
    "duration": 7,
    "start_time": "2021-12-02T07:53:43.287Z"
   },
   {
    "duration": 18,
    "start_time": "2021-12-02T07:53:43.297Z"
   },
   {
    "duration": 22,
    "start_time": "2021-12-02T07:53:43.318Z"
   },
   {
    "duration": 10,
    "start_time": "2021-12-02T07:53:43.342Z"
   },
   {
    "duration": 37,
    "start_time": "2021-12-02T07:53:43.354Z"
   },
   {
    "duration": 6,
    "start_time": "2021-12-02T07:53:43.394Z"
   },
   {
    "duration": 25,
    "start_time": "2021-12-02T07:53:43.402Z"
   },
   {
    "duration": 55,
    "start_time": "2021-12-02T07:53:43.430Z"
   },
   {
    "duration": 5,
    "start_time": "2021-12-02T07:53:43.487Z"
   },
   {
    "duration": 995,
    "start_time": "2021-12-02T07:53:43.499Z"
   },
   {
    "duration": 22,
    "start_time": "2021-12-02T07:53:44.498Z"
   },
   {
    "duration": 492,
    "start_time": "2021-12-02T07:53:44.523Z"
   },
   {
    "duration": 75,
    "start_time": "2021-12-02T07:53:45.017Z"
   },
   {
    "duration": 6121,
    "start_time": "2021-12-02T07:53:45.094Z"
   },
   {
    "duration": 6,
    "start_time": "2021-12-02T07:53:51.218Z"
   },
   {
    "duration": 26,
    "start_time": "2021-12-02T07:53:51.226Z"
   },
   {
    "duration": 32,
    "start_time": "2021-12-02T07:53:51.254Z"
   },
   {
    "duration": 31,
    "start_time": "2021-12-02T07:53:51.288Z"
   },
   {
    "duration": 751,
    "start_time": "2021-12-02T07:53:51.321Z"
   },
   {
    "duration": 23,
    "start_time": "2021-12-02T07:53:52.074Z"
   },
   {
    "duration": 576,
    "start_time": "2021-12-02T07:53:52.100Z"
   },
   {
    "duration": 19,
    "start_time": "2021-12-02T07:53:52.682Z"
   },
   {
    "duration": 7,
    "start_time": "2021-12-02T07:53:52.703Z"
   },
   {
    "duration": 432,
    "start_time": "2021-12-02T07:53:52.713Z"
   },
   {
    "duration": 471,
    "start_time": "2021-12-02T07:53:53.148Z"
   },
   {
    "duration": 364,
    "start_time": "2021-12-02T07:53:53.621Z"
   },
   {
    "duration": 379,
    "start_time": "2021-12-02T07:53:53.988Z"
   },
   {
    "duration": 453,
    "start_time": "2021-12-02T07:53:54.382Z"
   },
   {
    "duration": 493,
    "start_time": "2021-12-02T07:53:54.837Z"
   },
   {
    "duration": 541,
    "start_time": "2021-12-02T07:53:55.332Z"
   },
   {
    "duration": 436,
    "start_time": "2021-12-02T07:53:55.876Z"
   },
   {
    "duration": 379,
    "start_time": "2021-12-02T07:53:56.315Z"
   },
   {
    "duration": 393,
    "start_time": "2021-12-02T07:53:56.697Z"
   },
   {
    "duration": 557,
    "start_time": "2021-12-02T07:53:57.093Z"
   },
   {
    "duration": 34,
    "start_time": "2021-12-02T07:53:57.653Z"
   },
   {
    "duration": 245,
    "start_time": "2021-12-02T07:53:57.690Z"
   },
   {
    "duration": 236,
    "start_time": "2021-12-02T07:53:57.938Z"
   },
   {
    "duration": 231,
    "start_time": "2021-12-02T07:53:58.177Z"
   },
   {
    "duration": 17,
    "start_time": "2021-12-02T07:53:58.411Z"
   },
   {
    "duration": 53,
    "start_time": "2021-12-02T07:53:58.431Z"
   },
   {
    "duration": 27,
    "start_time": "2021-12-02T07:53:58.487Z"
   },
   {
    "duration": 27,
    "start_time": "2021-12-02T07:53:58.517Z"
   },
   {
    "duration": 61,
    "start_time": "2021-12-02T07:53:58.547Z"
   },
   {
    "duration": 28,
    "start_time": "2021-12-02T07:53:58.611Z"
   },
   {
    "duration": 40,
    "start_time": "2021-12-02T07:53:58.642Z"
   },
   {
    "duration": 16,
    "start_time": "2021-12-02T07:53:58.685Z"
   },
   {
    "duration": 10,
    "start_time": "2021-12-02T07:53:58.704Z"
   },
   {
    "duration": 13,
    "start_time": "2021-12-02T07:53:58.718Z"
   },
   {
    "duration": 7,
    "start_time": "2021-12-02T07:53:58.733Z"
   },
   {
    "duration": 4,
    "start_time": "2021-12-02T07:55:20.115Z"
   },
   {
    "duration": 5,
    "start_time": "2021-12-02T07:55:29.180Z"
   },
   {
    "duration": 7,
    "start_time": "2021-12-02T08:02:58.806Z"
   },
   {
    "duration": 10,
    "start_time": "2021-12-02T08:15:00.698Z"
   },
   {
    "duration": 19,
    "start_time": "2021-12-02T08:15:04.272Z"
   },
   {
    "duration": 474,
    "start_time": "2021-12-02T08:15:09.211Z"
   },
   {
    "duration": 21,
    "start_time": "2021-12-02T08:15:20.472Z"
   },
   {
    "duration": 7,
    "start_time": "2021-12-02T08:15:26.001Z"
   },
   {
    "duration": 798,
    "start_time": "2021-12-02T08:20:28.591Z"
   },
   {
    "duration": 21,
    "start_time": "2021-12-02T08:21:29.711Z"
   },
   {
    "duration": 19,
    "start_time": "2021-12-02T08:21:42.823Z"
   },
   {
    "duration": 320,
    "start_time": "2021-12-02T08:27:19.986Z"
   },
   {
    "duration": 214,
    "start_time": "2021-12-02T08:27:38.048Z"
   },
   {
    "duration": 325,
    "start_time": "2021-12-02T08:28:08.498Z"
   },
   {
    "duration": 19,
    "start_time": "2021-12-02T08:30:46.502Z"
   },
   {
    "duration": 18,
    "start_time": "2021-12-02T08:31:35.927Z"
   },
   {
    "duration": 28,
    "start_time": "2021-12-02T08:31:41.388Z"
   },
   {
    "duration": 26,
    "start_time": "2021-12-02T08:34:13.610Z"
   },
   {
    "duration": 26,
    "start_time": "2021-12-02T08:34:37.917Z"
   },
   {
    "duration": 19,
    "start_time": "2021-12-02T08:34:47.808Z"
   },
   {
    "duration": 7,
    "start_time": "2021-12-02T08:38:23.611Z"
   },
   {
    "duration": 8,
    "start_time": "2021-12-02T08:38:26.428Z"
   },
   {
    "duration": 7,
    "start_time": "2021-12-02T08:38:48.419Z"
   },
   {
    "duration": 10,
    "start_time": "2021-12-02T08:38:52.379Z"
   },
   {
    "duration": 72164,
    "start_time": "2021-12-02T10:41:35.290Z"
   },
   {
    "duration": 2021,
    "start_time": "2021-12-02T10:42:47.459Z"
   },
   {
    "duration": 73,
    "start_time": "2021-12-02T10:42:49.484Z"
   },
   {
    "duration": 40,
    "start_time": "2021-12-02T10:42:49.566Z"
   },
   {
    "duration": 58,
    "start_time": "2021-12-02T10:42:49.609Z"
   },
   {
    "duration": 78490,
    "start_time": "2021-12-02T10:42:49.671Z"
   },
   {
    "duration": 23,
    "start_time": "2021-12-02T10:44:08.164Z"
   },
   {
    "duration": 29,
    "start_time": "2021-12-02T10:44:08.191Z"
   },
   {
    "duration": 6,
    "start_time": "2021-12-02T10:44:08.224Z"
   },
   {
    "duration": 7,
    "start_time": "2021-12-02T10:44:08.268Z"
   },
   {
    "duration": 91,
    "start_time": "2021-12-02T10:44:08.278Z"
   },
   {
    "duration": 15,
    "start_time": "2021-12-02T10:44:08.372Z"
   },
   {
    "duration": 17,
    "start_time": "2021-12-02T10:44:08.390Z"
   },
   {
    "duration": 8,
    "start_time": "2021-12-02T10:44:08.411Z"
   },
   {
    "duration": 46,
    "start_time": "2021-12-02T10:44:08.421Z"
   },
   {
    "duration": 19,
    "start_time": "2021-12-02T10:44:08.469Z"
   },
   {
    "duration": 10,
    "start_time": "2021-12-02T10:44:08.491Z"
   },
   {
    "duration": 11,
    "start_time": "2021-12-02T10:44:08.503Z"
   },
   {
    "duration": 58,
    "start_time": "2021-12-02T10:44:08.516Z"
   },
   {
    "duration": 28,
    "start_time": "2021-12-02T10:44:08.577Z"
   },
   {
    "duration": 20,
    "start_time": "2021-12-02T10:44:08.608Z"
   },
   {
    "duration": 37,
    "start_time": "2021-12-02T10:44:08.631Z"
   },
   {
    "duration": 1133,
    "start_time": "2021-12-02T10:44:08.676Z"
   },
   {
    "duration": 21,
    "start_time": "2021-12-02T10:44:09.812Z"
   },
   {
    "duration": 524,
    "start_time": "2021-12-02T10:44:09.835Z"
   },
   {
    "duration": 61,
    "start_time": "2021-12-02T10:44:10.361Z"
   },
   {
    "duration": 6230,
    "start_time": "2021-12-02T10:44:10.424Z"
   },
   {
    "duration": 13,
    "start_time": "2021-12-02T10:44:16.657Z"
   },
   {
    "duration": 28,
    "start_time": "2021-12-02T10:44:16.672Z"
   },
   {
    "duration": 16,
    "start_time": "2021-12-02T10:44:16.703Z"
   },
   {
    "duration": 49,
    "start_time": "2021-12-02T10:44:16.722Z"
   },
   {
    "duration": 786,
    "start_time": "2021-12-02T10:44:16.773Z"
   },
   {
    "duration": 9,
    "start_time": "2021-12-02T10:44:17.566Z"
   },
   {
    "duration": 26,
    "start_time": "2021-12-02T10:44:17.578Z"
   },
   {
    "duration": 522,
    "start_time": "2021-12-02T10:44:17.606Z"
   },
   {
    "duration": 19,
    "start_time": "2021-12-02T10:44:18.131Z"
   },
   {
    "duration": 6,
    "start_time": "2021-12-02T10:44:18.168Z"
   },
   {
    "duration": 475,
    "start_time": "2021-12-02T10:44:18.177Z"
   },
   {
    "duration": 436,
    "start_time": "2021-12-02T10:44:18.656Z"
   },
   {
    "duration": 618,
    "start_time": "2021-12-02T10:44:19.095Z"
   },
   {
    "duration": 459,
    "start_time": "2021-12-02T10:44:19.716Z"
   },
   {
    "duration": 435,
    "start_time": "2021-12-02T10:44:20.179Z"
   },
   {
    "duration": 414,
    "start_time": "2021-12-02T10:44:20.617Z"
   },
   {
    "duration": 785,
    "start_time": "2021-12-02T10:44:21.034Z"
   },
   {
    "duration": 20,
    "start_time": "2021-12-02T10:44:21.821Z"
   },
   {
    "duration": 362,
    "start_time": "2021-12-02T10:44:21.843Z"
   },
   {
    "duration": 229,
    "start_time": "2021-12-02T10:44:22.207Z"
   },
   {
    "duration": 351,
    "start_time": "2021-12-02T10:44:22.438Z"
   },
   {
    "duration": 31,
    "start_time": "2021-12-02T10:44:22.792Z"
   },
   {
    "duration": 53,
    "start_time": "2021-12-02T10:44:22.826Z"
   },
   {
    "duration": 26,
    "start_time": "2021-12-02T10:44:22.883Z"
   },
   {
    "duration": 54,
    "start_time": "2021-12-02T10:44:22.913Z"
   },
   {
    "duration": 26,
    "start_time": "2021-12-02T10:44:22.971Z"
   },
   {
    "duration": 24,
    "start_time": "2021-12-02T10:44:23.000Z"
   },
   {
    "duration": 41,
    "start_time": "2021-12-02T10:44:23.026Z"
   },
   {
    "duration": 6,
    "start_time": "2021-12-02T10:44:23.070Z"
   },
   {
    "duration": 10,
    "start_time": "2021-12-02T10:44:23.079Z"
   },
   {
    "duration": 7,
    "start_time": "2021-12-02T10:44:23.092Z"
   },
   {
    "duration": 11,
    "start_time": "2021-12-02T10:44:23.101Z"
   }
  ],
  "kernelspec": {
   "display_name": "Python 3 (ipykernel)",
   "language": "python",
   "name": "python3"
  },
  "language_info": {
   "codemirror_mode": {
    "name": "ipython",
    "version": 3
   },
   "file_extension": ".py",
   "mimetype": "text/x-python",
   "name": "python",
   "nbconvert_exporter": "python",
   "pygments_lexer": "ipython3",
   "version": "3.9.7"
  },
  "toc": {
   "base_numbering": 1,
   "nav_menu": {},
   "number_sections": true,
   "sideBar": true,
   "skip_h1_title": true,
   "title_cell": "Table of Contents",
   "title_sidebar": "Contents",
   "toc_cell": false,
   "toc_position": {},
   "toc_section_display": true,
   "toc_window_display": false
  }
 },
 "nbformat": 4,
 "nbformat_minor": 2
}
