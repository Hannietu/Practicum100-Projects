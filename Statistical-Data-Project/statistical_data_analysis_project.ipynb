{
 "cells": [
  {
   "cell_type": "markdown",
   "metadata": {},
   "source": [
    "# Megaline Telecom Project"
   ]
  },
  {
   "cell_type": "markdown",
   "metadata": {},
   "source": [
    "This project will include an investigation on which of the Megaline telecom company pre paid plans brings in more revenue.\n",
    "\n",
    "The goal of this projct is to learn more about the users of both plans, their call usage, data usage and test usage in order to adjust the company's advertising budget to better fit the clients needs. \n",
    "\n",
    "This project will include a dataset of 500 Megaline clients in the year 2018. \n",
    "\n",
    "<b> Analysis outline: </b>\n",
    "\n",
    "Assessed the data, and made decisions about dealing with missing values.\n",
    "\n",
    "Calculated the revanue from the usage data we have. \n",
    "\n",
    "Performed EDA, plotted histograms and calculated the variances.\n",
    "Performed hypothesis testing to learn about the differences in revanues for different groups of clients.\n",
    "\n",
    "Made recommendations backed by statistics for users preferences and what the pre plan should include. "
   ]
  },
  {
   "cell_type": "markdown",
   "metadata": {},
   "source": [
    "## Data overview"
   ]
  },
  {
   "cell_type": "code",
   "execution_count": 1,
   "metadata": {},
   "outputs": [
    {
     "name": "stdout",
     "output_type": "stream",
     "text": [
      "Defaulting to user installation because normal site-packages is not writeable\n",
      "Requirement already up-to-date: seaborn in /home/jovyan/.local/lib/python3.7/site-packages (0.11.2)\n",
      "Requirement already satisfied, skipping upgrade: pandas>=0.23 in /home/jovyan/.local/lib/python3.7/site-packages (from seaborn) (1.3.4)\n",
      "Requirement already satisfied, skipping upgrade: numpy>=1.15 in /opt/conda/lib/python3.7/site-packages (from seaborn) (1.19.5)\n",
      "Requirement already satisfied, skipping upgrade: matplotlib>=2.2 in /opt/conda/lib/python3.7/site-packages (from seaborn) (3.1.0)\n",
      "Requirement already satisfied, skipping upgrade: scipy>=1.0 in /opt/conda/lib/python3.7/site-packages (from seaborn) (1.4.1)\n",
      "Requirement already satisfied, skipping upgrade: python-dateutil>=2.7.3 in /opt/conda/lib/python3.7/site-packages (from pandas>=0.23->seaborn) (2.8.1)\n",
      "Requirement already satisfied, skipping upgrade: pytz>=2017.3 in /opt/conda/lib/python3.7/site-packages (from pandas>=0.23->seaborn) (2021.1)\n",
      "Requirement already satisfied, skipping upgrade: cycler>=0.10 in /opt/conda/lib/python3.7/site-packages (from matplotlib>=2.2->seaborn) (0.10.0)\n",
      "Requirement already satisfied, skipping upgrade: pyparsing!=2.0.4,!=2.1.2,!=2.1.6,>=2.0.1 in /opt/conda/lib/python3.7/site-packages (from matplotlib>=2.2->seaborn) (2.4.7)\n",
      "Requirement already satisfied, skipping upgrade: kiwisolver>=1.0.1 in /opt/conda/lib/python3.7/site-packages (from matplotlib>=2.2->seaborn) (1.3.1)\n",
      "Requirement already satisfied, skipping upgrade: six>=1.5 in /opt/conda/lib/python3.7/site-packages (from python-dateutil>=2.7.3->pandas>=0.23->seaborn) (1.15.0)\n"
     ]
    }
   ],
   "source": [
    "!pip install seaborn -U"
   ]
  },
  {
   "cell_type": "code",
   "execution_count": 2,
   "metadata": {},
   "outputs": [],
   "source": [
    "#import libraries\n",
    "import pandas as pd\n",
    "import numpy as np\n",
    "import matplotlib.pyplot as plt\n",
    "from functools import reduce\n",
    "import seaborn as sns\n",
    "from scipy import stats"
   ]
  },
  {
   "cell_type": "code",
   "execution_count": 3,
   "metadata": {},
   "outputs": [],
   "source": [
    "# read the datasetes\n",
    "calls = pd.read_csv('/datasets/megaline_calls.csv')\n",
    "internet = pd.read_csv('/datasets/megaline_internet.csv')\n",
    "mess = pd.read_csv('/datasets/megaline_messages.csv')\n",
    "plans = pd.read_csv('/datasets/megaline_plans.csv')\n",
    "users = pd.read_csv('/datasets/megaline_users.csv')"
   ]
  },
  {
   "cell_type": "code",
   "execution_count": 4,
   "metadata": {},
   "outputs": [
    {
     "name": "stdout",
     "output_type": "stream",
     "text": [
      "----------------------------------------Calls Data--------------------------------------\n"
     ]
    },
    {
     "data": {
      "text/html": [
       "<div>\n",
       "<style scoped>\n",
       "    .dataframe tbody tr th:only-of-type {\n",
       "        vertical-align: middle;\n",
       "    }\n",
       "\n",
       "    .dataframe tbody tr th {\n",
       "        vertical-align: top;\n",
       "    }\n",
       "\n",
       "    .dataframe thead th {\n",
       "        text-align: right;\n",
       "    }\n",
       "</style>\n",
       "<table border=\"1\" class=\"dataframe\">\n",
       "  <thead>\n",
       "    <tr style=\"text-align: right;\">\n",
       "      <th></th>\n",
       "      <th>id</th>\n",
       "      <th>user_id</th>\n",
       "      <th>call_date</th>\n",
       "      <th>duration</th>\n",
       "    </tr>\n",
       "  </thead>\n",
       "  <tbody>\n",
       "    <tr>\n",
       "      <th>0</th>\n",
       "      <td>1000_93</td>\n",
       "      <td>1000</td>\n",
       "      <td>2018-12-27</td>\n",
       "      <td>8.52</td>\n",
       "    </tr>\n",
       "    <tr>\n",
       "      <th>1</th>\n",
       "      <td>1000_145</td>\n",
       "      <td>1000</td>\n",
       "      <td>2018-12-27</td>\n",
       "      <td>13.66</td>\n",
       "    </tr>\n",
       "    <tr>\n",
       "      <th>2</th>\n",
       "      <td>1000_247</td>\n",
       "      <td>1000</td>\n",
       "      <td>2018-12-27</td>\n",
       "      <td>14.48</td>\n",
       "    </tr>\n",
       "    <tr>\n",
       "      <th>3</th>\n",
       "      <td>1000_309</td>\n",
       "      <td>1000</td>\n",
       "      <td>2018-12-28</td>\n",
       "      <td>5.76</td>\n",
       "    </tr>\n",
       "    <tr>\n",
       "      <th>4</th>\n",
       "      <td>1000_380</td>\n",
       "      <td>1000</td>\n",
       "      <td>2018-12-30</td>\n",
       "      <td>4.22</td>\n",
       "    </tr>\n",
       "  </tbody>\n",
       "</table>\n",
       "</div>"
      ],
      "text/plain": [
       "         id  user_id   call_date  duration\n",
       "0   1000_93     1000  2018-12-27      8.52\n",
       "1  1000_145     1000  2018-12-27     13.66\n",
       "2  1000_247     1000  2018-12-27     14.48\n",
       "3  1000_309     1000  2018-12-28      5.76\n",
       "4  1000_380     1000  2018-12-30      4.22"
      ]
     },
     "metadata": {},
     "output_type": "display_data"
    },
    {
     "name": "stdout",
     "output_type": "stream",
     "text": [
      "----------------------------------------Internet Data-----------------------------------\n"
     ]
    },
    {
     "data": {
      "text/html": [
       "<div>\n",
       "<style scoped>\n",
       "    .dataframe tbody tr th:only-of-type {\n",
       "        vertical-align: middle;\n",
       "    }\n",
       "\n",
       "    .dataframe tbody tr th {\n",
       "        vertical-align: top;\n",
       "    }\n",
       "\n",
       "    .dataframe thead th {\n",
       "        text-align: right;\n",
       "    }\n",
       "</style>\n",
       "<table border=\"1\" class=\"dataframe\">\n",
       "  <thead>\n",
       "    <tr style=\"text-align: right;\">\n",
       "      <th></th>\n",
       "      <th>id</th>\n",
       "      <th>user_id</th>\n",
       "      <th>session_date</th>\n",
       "      <th>mb_used</th>\n",
       "    </tr>\n",
       "  </thead>\n",
       "  <tbody>\n",
       "    <tr>\n",
       "      <th>0</th>\n",
       "      <td>1000_13</td>\n",
       "      <td>1000</td>\n",
       "      <td>2018-12-29</td>\n",
       "      <td>89.86</td>\n",
       "    </tr>\n",
       "    <tr>\n",
       "      <th>1</th>\n",
       "      <td>1000_204</td>\n",
       "      <td>1000</td>\n",
       "      <td>2018-12-31</td>\n",
       "      <td>0.00</td>\n",
       "    </tr>\n",
       "    <tr>\n",
       "      <th>2</th>\n",
       "      <td>1000_379</td>\n",
       "      <td>1000</td>\n",
       "      <td>2018-12-28</td>\n",
       "      <td>660.40</td>\n",
       "    </tr>\n",
       "    <tr>\n",
       "      <th>3</th>\n",
       "      <td>1000_413</td>\n",
       "      <td>1000</td>\n",
       "      <td>2018-12-26</td>\n",
       "      <td>270.99</td>\n",
       "    </tr>\n",
       "    <tr>\n",
       "      <th>4</th>\n",
       "      <td>1000_442</td>\n",
       "      <td>1000</td>\n",
       "      <td>2018-12-27</td>\n",
       "      <td>880.22</td>\n",
       "    </tr>\n",
       "  </tbody>\n",
       "</table>\n",
       "</div>"
      ],
      "text/plain": [
       "         id  user_id session_date  mb_used\n",
       "0   1000_13     1000   2018-12-29    89.86\n",
       "1  1000_204     1000   2018-12-31     0.00\n",
       "2  1000_379     1000   2018-12-28   660.40\n",
       "3  1000_413     1000   2018-12-26   270.99\n",
       "4  1000_442     1000   2018-12-27   880.22"
      ]
     },
     "metadata": {},
     "output_type": "display_data"
    },
    {
     "name": "stdout",
     "output_type": "stream",
     "text": [
      "----------------------------------------Messages Data-----------------------------------\n"
     ]
    },
    {
     "data": {
      "text/html": [
       "<div>\n",
       "<style scoped>\n",
       "    .dataframe tbody tr th:only-of-type {\n",
       "        vertical-align: middle;\n",
       "    }\n",
       "\n",
       "    .dataframe tbody tr th {\n",
       "        vertical-align: top;\n",
       "    }\n",
       "\n",
       "    .dataframe thead th {\n",
       "        text-align: right;\n",
       "    }\n",
       "</style>\n",
       "<table border=\"1\" class=\"dataframe\">\n",
       "  <thead>\n",
       "    <tr style=\"text-align: right;\">\n",
       "      <th></th>\n",
       "      <th>id</th>\n",
       "      <th>user_id</th>\n",
       "      <th>message_date</th>\n",
       "    </tr>\n",
       "  </thead>\n",
       "  <tbody>\n",
       "    <tr>\n",
       "      <th>0</th>\n",
       "      <td>1000_125</td>\n",
       "      <td>1000</td>\n",
       "      <td>2018-12-27</td>\n",
       "    </tr>\n",
       "    <tr>\n",
       "      <th>1</th>\n",
       "      <td>1000_160</td>\n",
       "      <td>1000</td>\n",
       "      <td>2018-12-31</td>\n",
       "    </tr>\n",
       "    <tr>\n",
       "      <th>2</th>\n",
       "      <td>1000_223</td>\n",
       "      <td>1000</td>\n",
       "      <td>2018-12-31</td>\n",
       "    </tr>\n",
       "    <tr>\n",
       "      <th>3</th>\n",
       "      <td>1000_251</td>\n",
       "      <td>1000</td>\n",
       "      <td>2018-12-27</td>\n",
       "    </tr>\n",
       "    <tr>\n",
       "      <th>4</th>\n",
       "      <td>1000_255</td>\n",
       "      <td>1000</td>\n",
       "      <td>2018-12-26</td>\n",
       "    </tr>\n",
       "  </tbody>\n",
       "</table>\n",
       "</div>"
      ],
      "text/plain": [
       "         id  user_id message_date\n",
       "0  1000_125     1000   2018-12-27\n",
       "1  1000_160     1000   2018-12-31\n",
       "2  1000_223     1000   2018-12-31\n",
       "3  1000_251     1000   2018-12-27\n",
       "4  1000_255     1000   2018-12-26"
      ]
     },
     "metadata": {},
     "output_type": "display_data"
    },
    {
     "name": "stdout",
     "output_type": "stream",
     "text": [
      "-----------------------------------------Plans Data-------------------------------------\n"
     ]
    },
    {
     "data": {
      "text/html": [
       "<div>\n",
       "<style scoped>\n",
       "    .dataframe tbody tr th:only-of-type {\n",
       "        vertical-align: middle;\n",
       "    }\n",
       "\n",
       "    .dataframe tbody tr th {\n",
       "        vertical-align: top;\n",
       "    }\n",
       "\n",
       "    .dataframe thead th {\n",
       "        text-align: right;\n",
       "    }\n",
       "</style>\n",
       "<table border=\"1\" class=\"dataframe\">\n",
       "  <thead>\n",
       "    <tr style=\"text-align: right;\">\n",
       "      <th></th>\n",
       "      <th>messages_included</th>\n",
       "      <th>mb_per_month_included</th>\n",
       "      <th>minutes_included</th>\n",
       "      <th>usd_monthly_pay</th>\n",
       "      <th>usd_per_gb</th>\n",
       "      <th>usd_per_message</th>\n",
       "      <th>usd_per_minute</th>\n",
       "      <th>plan_name</th>\n",
       "    </tr>\n",
       "  </thead>\n",
       "  <tbody>\n",
       "    <tr>\n",
       "      <th>0</th>\n",
       "      <td>50</td>\n",
       "      <td>15360</td>\n",
       "      <td>500</td>\n",
       "      <td>20</td>\n",
       "      <td>10</td>\n",
       "      <td>0.03</td>\n",
       "      <td>0.03</td>\n",
       "      <td>surf</td>\n",
       "    </tr>\n",
       "    <tr>\n",
       "      <th>1</th>\n",
       "      <td>1000</td>\n",
       "      <td>30720</td>\n",
       "      <td>3000</td>\n",
       "      <td>70</td>\n",
       "      <td>7</td>\n",
       "      <td>0.01</td>\n",
       "      <td>0.01</td>\n",
       "      <td>ultimate</td>\n",
       "    </tr>\n",
       "  </tbody>\n",
       "</table>\n",
       "</div>"
      ],
      "text/plain": [
       "   messages_included  mb_per_month_included  minutes_included  \\\n",
       "0                 50                  15360               500   \n",
       "1               1000                  30720              3000   \n",
       "\n",
       "   usd_monthly_pay  usd_per_gb  usd_per_message  usd_per_minute plan_name  \n",
       "0               20          10             0.03            0.03      surf  \n",
       "1               70           7             0.01            0.01  ultimate  "
      ]
     },
     "metadata": {},
     "output_type": "display_data"
    },
    {
     "name": "stdout",
     "output_type": "stream",
     "text": [
      "-----------------------------------------Users Data-------------------------------------\n"
     ]
    },
    {
     "data": {
      "text/html": [
       "<div>\n",
       "<style scoped>\n",
       "    .dataframe tbody tr th:only-of-type {\n",
       "        vertical-align: middle;\n",
       "    }\n",
       "\n",
       "    .dataframe tbody tr th {\n",
       "        vertical-align: top;\n",
       "    }\n",
       "\n",
       "    .dataframe thead th {\n",
       "        text-align: right;\n",
       "    }\n",
       "</style>\n",
       "<table border=\"1\" class=\"dataframe\">\n",
       "  <thead>\n",
       "    <tr style=\"text-align: right;\">\n",
       "      <th></th>\n",
       "      <th>user_id</th>\n",
       "      <th>first_name</th>\n",
       "      <th>last_name</th>\n",
       "      <th>age</th>\n",
       "      <th>city</th>\n",
       "      <th>reg_date</th>\n",
       "      <th>plan</th>\n",
       "      <th>churn_date</th>\n",
       "    </tr>\n",
       "  </thead>\n",
       "  <tbody>\n",
       "    <tr>\n",
       "      <th>0</th>\n",
       "      <td>1000</td>\n",
       "      <td>Anamaria</td>\n",
       "      <td>Bauer</td>\n",
       "      <td>45</td>\n",
       "      <td>Atlanta-Sandy Springs-Roswell, GA MSA</td>\n",
       "      <td>2018-12-24</td>\n",
       "      <td>ultimate</td>\n",
       "      <td>NaN</td>\n",
       "    </tr>\n",
       "    <tr>\n",
       "      <th>1</th>\n",
       "      <td>1001</td>\n",
       "      <td>Mickey</td>\n",
       "      <td>Wilkerson</td>\n",
       "      <td>28</td>\n",
       "      <td>Seattle-Tacoma-Bellevue, WA MSA</td>\n",
       "      <td>2018-08-13</td>\n",
       "      <td>surf</td>\n",
       "      <td>NaN</td>\n",
       "    </tr>\n",
       "    <tr>\n",
       "      <th>2</th>\n",
       "      <td>1002</td>\n",
       "      <td>Carlee</td>\n",
       "      <td>Hoffman</td>\n",
       "      <td>36</td>\n",
       "      <td>Las Vegas-Henderson-Paradise, NV MSA</td>\n",
       "      <td>2018-10-21</td>\n",
       "      <td>surf</td>\n",
       "      <td>NaN</td>\n",
       "    </tr>\n",
       "    <tr>\n",
       "      <th>3</th>\n",
       "      <td>1003</td>\n",
       "      <td>Reynaldo</td>\n",
       "      <td>Jenkins</td>\n",
       "      <td>52</td>\n",
       "      <td>Tulsa, OK MSA</td>\n",
       "      <td>2018-01-28</td>\n",
       "      <td>surf</td>\n",
       "      <td>NaN</td>\n",
       "    </tr>\n",
       "    <tr>\n",
       "      <th>4</th>\n",
       "      <td>1004</td>\n",
       "      <td>Leonila</td>\n",
       "      <td>Thompson</td>\n",
       "      <td>40</td>\n",
       "      <td>Seattle-Tacoma-Bellevue, WA MSA</td>\n",
       "      <td>2018-05-23</td>\n",
       "      <td>surf</td>\n",
       "      <td>NaN</td>\n",
       "    </tr>\n",
       "  </tbody>\n",
       "</table>\n",
       "</div>"
      ],
      "text/plain": [
       "   user_id first_name  last_name  age                                   city  \\\n",
       "0     1000   Anamaria      Bauer   45  Atlanta-Sandy Springs-Roswell, GA MSA   \n",
       "1     1001     Mickey  Wilkerson   28        Seattle-Tacoma-Bellevue, WA MSA   \n",
       "2     1002     Carlee    Hoffman   36   Las Vegas-Henderson-Paradise, NV MSA   \n",
       "3     1003   Reynaldo    Jenkins   52                          Tulsa, OK MSA   \n",
       "4     1004    Leonila   Thompson   40        Seattle-Tacoma-Bellevue, WA MSA   \n",
       "\n",
       "     reg_date      plan churn_date  \n",
       "0  2018-12-24  ultimate        NaN  \n",
       "1  2018-08-13      surf        NaN  \n",
       "2  2018-10-21      surf        NaN  \n",
       "3  2018-01-28      surf        NaN  \n",
       "4  2018-05-23      surf        NaN  "
      ]
     },
     "metadata": {},
     "output_type": "display_data"
    }
   ],
   "source": [
    "#take a look at each table and learn what it includes\n",
    "print('----------------------------------------Calls Data--------------------------------------')\n",
    "display(calls.head())\n",
    "print('----------------------------------------Internet Data-----------------------------------')\n",
    "display(internet.head())\n",
    "print('----------------------------------------Messages Data-----------------------------------')\n",
    "display(mess.head())\n",
    "print('-----------------------------------------Plans Data-------------------------------------')\n",
    "display(plans.head())\n",
    "print('-----------------------------------------Users Data-------------------------------------')\n",
    "display(users.head())"
   ]
  },
  {
   "cell_type": "code",
   "execution_count": 5,
   "metadata": {},
   "outputs": [
    {
     "name": "stdout",
     "output_type": "stream",
     "text": [
      "----------------------------------------Calls Data info--------------------------------------------------\n",
      "<class 'pandas.core.frame.DataFrame'>\n",
      "RangeIndex: 137735 entries, 0 to 137734\n",
      "Data columns (total 4 columns):\n",
      " #   Column     Non-Null Count   Dtype  \n",
      "---  ------     --------------   -----  \n",
      " 0   id         137735 non-null  object \n",
      " 1   user_id    137735 non-null  int64  \n",
      " 2   call_date  137735 non-null  object \n",
      " 3   duration   137735 non-null  float64\n",
      "dtypes: float64(1), int64(1), object(2)\n",
      "memory usage: 4.2+ MB\n"
     ]
    },
    {
     "data": {
      "text/plain": [
       "None"
      ]
     },
     "metadata": {},
     "output_type": "display_data"
    },
    {
     "name": "stdout",
     "output_type": "stream",
     "text": [
      "----------------------------------------Internet Data info------------------------------------------------------------\n",
      "<class 'pandas.core.frame.DataFrame'>\n",
      "RangeIndex: 104825 entries, 0 to 104824\n",
      "Data columns (total 4 columns):\n",
      " #   Column        Non-Null Count   Dtype  \n",
      "---  ------        --------------   -----  \n",
      " 0   id            104825 non-null  object \n",
      " 1   user_id       104825 non-null  int64  \n",
      " 2   session_date  104825 non-null  object \n",
      " 3   mb_used       104825 non-null  float64\n",
      "dtypes: float64(1), int64(1), object(2)\n",
      "memory usage: 3.2+ MB\n"
     ]
    },
    {
     "data": {
      "text/plain": [
       "None"
      ]
     },
     "metadata": {},
     "output_type": "display_data"
    },
    {
     "name": "stdout",
     "output_type": "stream",
     "text": [
      "----------------------------------------Messages Data info---------------------------------------------------------\n",
      "<class 'pandas.core.frame.DataFrame'>\n",
      "RangeIndex: 76051 entries, 0 to 76050\n",
      "Data columns (total 3 columns):\n",
      " #   Column        Non-Null Count  Dtype \n",
      "---  ------        --------------  ----- \n",
      " 0   id            76051 non-null  object\n",
      " 1   user_id       76051 non-null  int64 \n",
      " 2   message_date  76051 non-null  object\n",
      "dtypes: int64(1), object(2)\n",
      "memory usage: 1.7+ MB\n"
     ]
    },
    {
     "data": {
      "text/plain": [
       "None"
      ]
     },
     "metadata": {},
     "output_type": "display_data"
    },
    {
     "name": "stdout",
     "output_type": "stream",
     "text": [
      "-----------------------------------------Plans Data info----------------------------------------------------------\n",
      "<class 'pandas.core.frame.DataFrame'>\n",
      "RangeIndex: 2 entries, 0 to 1\n",
      "Data columns (total 8 columns):\n",
      " #   Column                 Non-Null Count  Dtype  \n",
      "---  ------                 --------------  -----  \n",
      " 0   messages_included      2 non-null      int64  \n",
      " 1   mb_per_month_included  2 non-null      int64  \n",
      " 2   minutes_included       2 non-null      int64  \n",
      " 3   usd_monthly_pay        2 non-null      int64  \n",
      " 4   usd_per_gb             2 non-null      int64  \n",
      " 5   usd_per_message        2 non-null      float64\n",
      " 6   usd_per_minute         2 non-null      float64\n",
      " 7   plan_name              2 non-null      object \n",
      "dtypes: float64(2), int64(5), object(1)\n",
      "memory usage: 256.0+ bytes\n"
     ]
    },
    {
     "data": {
      "text/plain": [
       "None"
      ]
     },
     "metadata": {},
     "output_type": "display_data"
    },
    {
     "name": "stdout",
     "output_type": "stream",
     "text": [
      "-----------------------------------------Users Data info-----------------------------------------------------------\n",
      "<class 'pandas.core.frame.DataFrame'>\n",
      "RangeIndex: 500 entries, 0 to 499\n",
      "Data columns (total 8 columns):\n",
      " #   Column      Non-Null Count  Dtype \n",
      "---  ------      --------------  ----- \n",
      " 0   user_id     500 non-null    int64 \n",
      " 1   first_name  500 non-null    object\n",
      " 2   last_name   500 non-null    object\n",
      " 3   age         500 non-null    int64 \n",
      " 4   city        500 non-null    object\n",
      " 5   reg_date    500 non-null    object\n",
      " 6   plan        500 non-null    object\n",
      " 7   churn_date  34 non-null     object\n",
      "dtypes: int64(2), object(6)\n",
      "memory usage: 31.4+ KB\n"
     ]
    },
    {
     "data": {
      "text/plain": [
       "None"
      ]
     },
     "metadata": {},
     "output_type": "display_data"
    }
   ],
   "source": [
    "#looking into data types\n",
    "print('----------------------------------------Calls Data info--------------------------------------------------')\n",
    "display(calls.info())\n",
    "print('----------------------------------------Internet Data info------------------------------------------------------------')\n",
    "display(internet.info())\n",
    "print('----------------------------------------Messages Data info---------------------------------------------------------')\n",
    "display(mess.info())\n",
    "print('-----------------------------------------Plans Data info----------------------------------------------------------')\n",
    "display(plans.info())\n",
    "print('-----------------------------------------Users Data info-----------------------------------------------------------')\n",
    "display(users.info())"
   ]
  },
  {
   "cell_type": "markdown",
   "metadata": {},
   "source": [
    "Looks like we don't have any missing values, only for the Users data frame 'chrn_date' which we know that the missing values means that the calling plan was being used when this data was retrieved. I will change the missing values to 'in use'. "
   ]
  },
  {
   "cell_type": "code",
   "execution_count": 6,
   "metadata": {},
   "outputs": [],
   "source": [
    "users['churn_date'] =  users['churn_date'].fillna('in use')"
   ]
  },
  {
   "cell_type": "markdown",
   "metadata": {},
   "source": [
    "I don't see and data type that I have to convert, i will leave all as is for now"
   ]
  },
  {
   "cell_type": "code",
   "execution_count": 7,
   "metadata": {},
   "outputs": [
    {
     "name": "stdout",
     "output_type": "stream",
     "text": [
      "----------------------------------------Calls Data description--------------------------------------------------\n"
     ]
    },
    {
     "data": {
      "text/html": [
       "<div>\n",
       "<style scoped>\n",
       "    .dataframe tbody tr th:only-of-type {\n",
       "        vertical-align: middle;\n",
       "    }\n",
       "\n",
       "    .dataframe tbody tr th {\n",
       "        vertical-align: top;\n",
       "    }\n",
       "\n",
       "    .dataframe thead th {\n",
       "        text-align: right;\n",
       "    }\n",
       "</style>\n",
       "<table border=\"1\" class=\"dataframe\">\n",
       "  <thead>\n",
       "    <tr style=\"text-align: right;\">\n",
       "      <th></th>\n",
       "      <th>user_id</th>\n",
       "      <th>duration</th>\n",
       "    </tr>\n",
       "  </thead>\n",
       "  <tbody>\n",
       "    <tr>\n",
       "      <th>count</th>\n",
       "      <td>137735.000000</td>\n",
       "      <td>137735.000000</td>\n",
       "    </tr>\n",
       "    <tr>\n",
       "      <th>mean</th>\n",
       "      <td>1247.658046</td>\n",
       "      <td>6.745927</td>\n",
       "    </tr>\n",
       "    <tr>\n",
       "      <th>std</th>\n",
       "      <td>139.416268</td>\n",
       "      <td>5.839241</td>\n",
       "    </tr>\n",
       "    <tr>\n",
       "      <th>min</th>\n",
       "      <td>1000.000000</td>\n",
       "      <td>0.000000</td>\n",
       "    </tr>\n",
       "    <tr>\n",
       "      <th>25%</th>\n",
       "      <td>1128.000000</td>\n",
       "      <td>1.290000</td>\n",
       "    </tr>\n",
       "    <tr>\n",
       "      <th>50%</th>\n",
       "      <td>1247.000000</td>\n",
       "      <td>5.980000</td>\n",
       "    </tr>\n",
       "    <tr>\n",
       "      <th>75%</th>\n",
       "      <td>1365.000000</td>\n",
       "      <td>10.690000</td>\n",
       "    </tr>\n",
       "    <tr>\n",
       "      <th>max</th>\n",
       "      <td>1499.000000</td>\n",
       "      <td>37.600000</td>\n",
       "    </tr>\n",
       "  </tbody>\n",
       "</table>\n",
       "</div>"
      ],
      "text/plain": [
       "             user_id       duration\n",
       "count  137735.000000  137735.000000\n",
       "mean     1247.658046       6.745927\n",
       "std       139.416268       5.839241\n",
       "min      1000.000000       0.000000\n",
       "25%      1128.000000       1.290000\n",
       "50%      1247.000000       5.980000\n",
       "75%      1365.000000      10.690000\n",
       "max      1499.000000      37.600000"
      ]
     },
     "metadata": {},
     "output_type": "display_data"
    },
    {
     "name": "stdout",
     "output_type": "stream",
     "text": [
      "----------------------------------------Internet Data description------------------------------------------------------------\n"
     ]
    },
    {
     "data": {
      "text/html": [
       "<div>\n",
       "<style scoped>\n",
       "    .dataframe tbody tr th:only-of-type {\n",
       "        vertical-align: middle;\n",
       "    }\n",
       "\n",
       "    .dataframe tbody tr th {\n",
       "        vertical-align: top;\n",
       "    }\n",
       "\n",
       "    .dataframe thead th {\n",
       "        text-align: right;\n",
       "    }\n",
       "</style>\n",
       "<table border=\"1\" class=\"dataframe\">\n",
       "  <thead>\n",
       "    <tr style=\"text-align: right;\">\n",
       "      <th></th>\n",
       "      <th>user_id</th>\n",
       "      <th>mb_used</th>\n",
       "    </tr>\n",
       "  </thead>\n",
       "  <tbody>\n",
       "    <tr>\n",
       "      <th>count</th>\n",
       "      <td>104825.000000</td>\n",
       "      <td>104825.000000</td>\n",
       "    </tr>\n",
       "    <tr>\n",
       "      <th>mean</th>\n",
       "      <td>1242.496361</td>\n",
       "      <td>366.713701</td>\n",
       "    </tr>\n",
       "    <tr>\n",
       "      <th>std</th>\n",
       "      <td>142.053913</td>\n",
       "      <td>277.170542</td>\n",
       "    </tr>\n",
       "    <tr>\n",
       "      <th>min</th>\n",
       "      <td>1000.000000</td>\n",
       "      <td>0.000000</td>\n",
       "    </tr>\n",
       "    <tr>\n",
       "      <th>25%</th>\n",
       "      <td>1122.000000</td>\n",
       "      <td>136.080000</td>\n",
       "    </tr>\n",
       "    <tr>\n",
       "      <th>50%</th>\n",
       "      <td>1236.000000</td>\n",
       "      <td>343.980000</td>\n",
       "    </tr>\n",
       "    <tr>\n",
       "      <th>75%</th>\n",
       "      <td>1367.000000</td>\n",
       "      <td>554.610000</td>\n",
       "    </tr>\n",
       "    <tr>\n",
       "      <th>max</th>\n",
       "      <td>1499.000000</td>\n",
       "      <td>1693.470000</td>\n",
       "    </tr>\n",
       "  </tbody>\n",
       "</table>\n",
       "</div>"
      ],
      "text/plain": [
       "             user_id        mb_used\n",
       "count  104825.000000  104825.000000\n",
       "mean     1242.496361     366.713701\n",
       "std       142.053913     277.170542\n",
       "min      1000.000000       0.000000\n",
       "25%      1122.000000     136.080000\n",
       "50%      1236.000000     343.980000\n",
       "75%      1367.000000     554.610000\n",
       "max      1499.000000    1693.470000"
      ]
     },
     "metadata": {},
     "output_type": "display_data"
    },
    {
     "name": "stdout",
     "output_type": "stream",
     "text": [
      "----------------------------------------Messages Data description---------------------------------------------------------\n"
     ]
    },
    {
     "data": {
      "text/html": [
       "<div>\n",
       "<style scoped>\n",
       "    .dataframe tbody tr th:only-of-type {\n",
       "        vertical-align: middle;\n",
       "    }\n",
       "\n",
       "    .dataframe tbody tr th {\n",
       "        vertical-align: top;\n",
       "    }\n",
       "\n",
       "    .dataframe thead th {\n",
       "        text-align: right;\n",
       "    }\n",
       "</style>\n",
       "<table border=\"1\" class=\"dataframe\">\n",
       "  <thead>\n",
       "    <tr style=\"text-align: right;\">\n",
       "      <th></th>\n",
       "      <th>user_id</th>\n",
       "    </tr>\n",
       "  </thead>\n",
       "  <tbody>\n",
       "    <tr>\n",
       "      <th>count</th>\n",
       "      <td>76051.000000</td>\n",
       "    </tr>\n",
       "    <tr>\n",
       "      <th>mean</th>\n",
       "      <td>1245.972768</td>\n",
       "    </tr>\n",
       "    <tr>\n",
       "      <th>std</th>\n",
       "      <td>139.843635</td>\n",
       "    </tr>\n",
       "    <tr>\n",
       "      <th>min</th>\n",
       "      <td>1000.000000</td>\n",
       "    </tr>\n",
       "    <tr>\n",
       "      <th>25%</th>\n",
       "      <td>1123.000000</td>\n",
       "    </tr>\n",
       "    <tr>\n",
       "      <th>50%</th>\n",
       "      <td>1251.000000</td>\n",
       "    </tr>\n",
       "    <tr>\n",
       "      <th>75%</th>\n",
       "      <td>1362.000000</td>\n",
       "    </tr>\n",
       "    <tr>\n",
       "      <th>max</th>\n",
       "      <td>1497.000000</td>\n",
       "    </tr>\n",
       "  </tbody>\n",
       "</table>\n",
       "</div>"
      ],
      "text/plain": [
       "            user_id\n",
       "count  76051.000000\n",
       "mean    1245.972768\n",
       "std      139.843635\n",
       "min     1000.000000\n",
       "25%     1123.000000\n",
       "50%     1251.000000\n",
       "75%     1362.000000\n",
       "max     1497.000000"
      ]
     },
     "metadata": {},
     "output_type": "display_data"
    },
    {
     "name": "stdout",
     "output_type": "stream",
     "text": [
      "-----------------------------------------Plans Data description----------------------------------------------------------\n"
     ]
    },
    {
     "data": {
      "text/html": [
       "<div>\n",
       "<style scoped>\n",
       "    .dataframe tbody tr th:only-of-type {\n",
       "        vertical-align: middle;\n",
       "    }\n",
       "\n",
       "    .dataframe tbody tr th {\n",
       "        vertical-align: top;\n",
       "    }\n",
       "\n",
       "    .dataframe thead th {\n",
       "        text-align: right;\n",
       "    }\n",
       "</style>\n",
       "<table border=\"1\" class=\"dataframe\">\n",
       "  <thead>\n",
       "    <tr style=\"text-align: right;\">\n",
       "      <th></th>\n",
       "      <th>messages_included</th>\n",
       "      <th>mb_per_month_included</th>\n",
       "      <th>minutes_included</th>\n",
       "      <th>usd_monthly_pay</th>\n",
       "      <th>usd_per_gb</th>\n",
       "      <th>usd_per_message</th>\n",
       "      <th>usd_per_minute</th>\n",
       "    </tr>\n",
       "  </thead>\n",
       "  <tbody>\n",
       "    <tr>\n",
       "      <th>count</th>\n",
       "      <td>2.000000</td>\n",
       "      <td>2.000000</td>\n",
       "      <td>2.000000</td>\n",
       "      <td>2.000000</td>\n",
       "      <td>2.00000</td>\n",
       "      <td>2.000000</td>\n",
       "      <td>2.000000</td>\n",
       "    </tr>\n",
       "    <tr>\n",
       "      <th>mean</th>\n",
       "      <td>525.000000</td>\n",
       "      <td>23040.000000</td>\n",
       "      <td>1750.000000</td>\n",
       "      <td>45.000000</td>\n",
       "      <td>8.50000</td>\n",
       "      <td>0.020000</td>\n",
       "      <td>0.020000</td>\n",
       "    </tr>\n",
       "    <tr>\n",
       "      <th>std</th>\n",
       "      <td>671.751442</td>\n",
       "      <td>10861.160159</td>\n",
       "      <td>1767.766953</td>\n",
       "      <td>35.355339</td>\n",
       "      <td>2.12132</td>\n",
       "      <td>0.014142</td>\n",
       "      <td>0.014142</td>\n",
       "    </tr>\n",
       "    <tr>\n",
       "      <th>min</th>\n",
       "      <td>50.000000</td>\n",
       "      <td>15360.000000</td>\n",
       "      <td>500.000000</td>\n",
       "      <td>20.000000</td>\n",
       "      <td>7.00000</td>\n",
       "      <td>0.010000</td>\n",
       "      <td>0.010000</td>\n",
       "    </tr>\n",
       "    <tr>\n",
       "      <th>25%</th>\n",
       "      <td>287.500000</td>\n",
       "      <td>19200.000000</td>\n",
       "      <td>1125.000000</td>\n",
       "      <td>32.500000</td>\n",
       "      <td>7.75000</td>\n",
       "      <td>0.015000</td>\n",
       "      <td>0.015000</td>\n",
       "    </tr>\n",
       "    <tr>\n",
       "      <th>50%</th>\n",
       "      <td>525.000000</td>\n",
       "      <td>23040.000000</td>\n",
       "      <td>1750.000000</td>\n",
       "      <td>45.000000</td>\n",
       "      <td>8.50000</td>\n",
       "      <td>0.020000</td>\n",
       "      <td>0.020000</td>\n",
       "    </tr>\n",
       "    <tr>\n",
       "      <th>75%</th>\n",
       "      <td>762.500000</td>\n",
       "      <td>26880.000000</td>\n",
       "      <td>2375.000000</td>\n",
       "      <td>57.500000</td>\n",
       "      <td>9.25000</td>\n",
       "      <td>0.025000</td>\n",
       "      <td>0.025000</td>\n",
       "    </tr>\n",
       "    <tr>\n",
       "      <th>max</th>\n",
       "      <td>1000.000000</td>\n",
       "      <td>30720.000000</td>\n",
       "      <td>3000.000000</td>\n",
       "      <td>70.000000</td>\n",
       "      <td>10.00000</td>\n",
       "      <td>0.030000</td>\n",
       "      <td>0.030000</td>\n",
       "    </tr>\n",
       "  </tbody>\n",
       "</table>\n",
       "</div>"
      ],
      "text/plain": [
       "       messages_included  mb_per_month_included  minutes_included  \\\n",
       "count           2.000000               2.000000          2.000000   \n",
       "mean          525.000000           23040.000000       1750.000000   \n",
       "std           671.751442           10861.160159       1767.766953   \n",
       "min            50.000000           15360.000000        500.000000   \n",
       "25%           287.500000           19200.000000       1125.000000   \n",
       "50%           525.000000           23040.000000       1750.000000   \n",
       "75%           762.500000           26880.000000       2375.000000   \n",
       "max          1000.000000           30720.000000       3000.000000   \n",
       "\n",
       "       usd_monthly_pay  usd_per_gb  usd_per_message  usd_per_minute  \n",
       "count         2.000000     2.00000         2.000000        2.000000  \n",
       "mean         45.000000     8.50000         0.020000        0.020000  \n",
       "std          35.355339     2.12132         0.014142        0.014142  \n",
       "min          20.000000     7.00000         0.010000        0.010000  \n",
       "25%          32.500000     7.75000         0.015000        0.015000  \n",
       "50%          45.000000     8.50000         0.020000        0.020000  \n",
       "75%          57.500000     9.25000         0.025000        0.025000  \n",
       "max          70.000000    10.00000         0.030000        0.030000  "
      ]
     },
     "metadata": {},
     "output_type": "display_data"
    },
    {
     "name": "stdout",
     "output_type": "stream",
     "text": [
      "-----------------------------------------Users Data description-----------------------------------------------------------\n"
     ]
    },
    {
     "data": {
      "text/html": [
       "<div>\n",
       "<style scoped>\n",
       "    .dataframe tbody tr th:only-of-type {\n",
       "        vertical-align: middle;\n",
       "    }\n",
       "\n",
       "    .dataframe tbody tr th {\n",
       "        vertical-align: top;\n",
       "    }\n",
       "\n",
       "    .dataframe thead th {\n",
       "        text-align: right;\n",
       "    }\n",
       "</style>\n",
       "<table border=\"1\" class=\"dataframe\">\n",
       "  <thead>\n",
       "    <tr style=\"text-align: right;\">\n",
       "      <th></th>\n",
       "      <th>user_id</th>\n",
       "      <th>age</th>\n",
       "    </tr>\n",
       "  </thead>\n",
       "  <tbody>\n",
       "    <tr>\n",
       "      <th>count</th>\n",
       "      <td>500.000000</td>\n",
       "      <td>500.000000</td>\n",
       "    </tr>\n",
       "    <tr>\n",
       "      <th>mean</th>\n",
       "      <td>1249.500000</td>\n",
       "      <td>45.486000</td>\n",
       "    </tr>\n",
       "    <tr>\n",
       "      <th>std</th>\n",
       "      <td>144.481833</td>\n",
       "      <td>16.972269</td>\n",
       "    </tr>\n",
       "    <tr>\n",
       "      <th>min</th>\n",
       "      <td>1000.000000</td>\n",
       "      <td>18.000000</td>\n",
       "    </tr>\n",
       "    <tr>\n",
       "      <th>25%</th>\n",
       "      <td>1124.750000</td>\n",
       "      <td>30.000000</td>\n",
       "    </tr>\n",
       "    <tr>\n",
       "      <th>50%</th>\n",
       "      <td>1249.500000</td>\n",
       "      <td>46.000000</td>\n",
       "    </tr>\n",
       "    <tr>\n",
       "      <th>75%</th>\n",
       "      <td>1374.250000</td>\n",
       "      <td>61.000000</td>\n",
       "    </tr>\n",
       "    <tr>\n",
       "      <th>max</th>\n",
       "      <td>1499.000000</td>\n",
       "      <td>75.000000</td>\n",
       "    </tr>\n",
       "  </tbody>\n",
       "</table>\n",
       "</div>"
      ],
      "text/plain": [
       "           user_id         age\n",
       "count   500.000000  500.000000\n",
       "mean   1249.500000   45.486000\n",
       "std     144.481833   16.972269\n",
       "min    1000.000000   18.000000\n",
       "25%    1124.750000   30.000000\n",
       "50%    1249.500000   46.000000\n",
       "75%    1374.250000   61.000000\n",
       "max    1499.000000   75.000000"
      ]
     },
     "metadata": {},
     "output_type": "display_data"
    }
   ],
   "source": [
    "#looking into the data\n",
    "print('----------------------------------------Calls Data description--------------------------------------------------')\n",
    "display(calls.describe())\n",
    "print('----------------------------------------Internet Data description------------------------------------------------------------')\n",
    "display(internet.describe())\n",
    "print('----------------------------------------Messages Data description---------------------------------------------------------')\n",
    "display(mess.describe())\n",
    "print('-----------------------------------------Plans Data description----------------------------------------------------------')\n",
    "display(plans.describe())\n",
    "print('-----------------------------------------Users Data description-----------------------------------------------------------')\n",
    "display(users.describe())"
   ]
  },
  {
   "cell_type": "markdown",
   "metadata": {},
   "source": [
    "The only noteable value is phone calls with 0 minutes, it will not be counted in the revanue calculation, there's no reason to save these calls in the data, it might happend because the way the server saves the data is even for calls that were not picked up. Since I will be dealing with calculation of summing the minutes per month I can drop these rows. "
   ]
  },
  {
   "cell_type": "code",
   "execution_count": 8,
   "metadata": {},
   "outputs": [
    {
     "data": {
      "text/plain": [
       "id              13747\n",
       "user_id         13747\n",
       "session_date    13747\n",
       "mb_used         13747\n",
       "dtype: int64"
      ]
     },
     "execution_count": 8,
     "metadata": {},
     "output_type": "execute_result"
    }
   ],
   "source": [
    "#looking into data session of zero value\n",
    "internet[internet['mb_used']==0].count()"
   ]
  },
  {
   "cell_type": "code",
   "execution_count": 9,
   "metadata": {},
   "outputs": [
    {
     "data": {
      "text/plain": [
       "<matplotlib.axes._subplots.AxesSubplot at 0x7f7cdb2eac10>"
      ]
     },
     "execution_count": 9,
     "metadata": {},
     "output_type": "execute_result"
    },
    {
     "data": {
      "image/png": "[encoded data removed]",
      "text/plain": [
       "<Figure size 432x288 with 1 Axes>"
      ]
     },
     "metadata": {
      "needs_background": "light"
     },
     "output_type": "display_data"
    }
   ],
   "source": [
    "internet['mb_used'].hist(bins = 50)"
   ]
  },
  {
   "cell_type": "markdown",
   "metadata": {},
   "source": [
    "There are 13747 users who didn't not use their data package in a specific month (out of 76051 row data set, 18% of the data). By looking at the histogram it looks like an outliar.. \n",
    "If we remove these rows, for users that didn't use call & messages on the same month we will not have anu data on them. but if they just didn't use the internet (maybe they don't have a smartphone..) I will still have these users in the merged data set that will combine the information about them, and the data sessions will be set to 0 anyway so removing these rows is ok. "
   ]
  },
  {
   "cell_type": "markdown",
   "metadata": {},
   "source": [
    "## Step 2. Data Preprocessing"
   ]
  },
  {
   "cell_type": "code",
   "execution_count": 10,
   "metadata": {},
   "outputs": [],
   "source": [
    "#dropping rows for calls of 0 minutes\n",
    "calls = calls[calls.duration != 0]"
   ]
  },
  {
   "cell_type": "code",
   "execution_count": 11,
   "metadata": {},
   "outputs": [],
   "source": [
    "#dropping rows for data sessions of 0 mb\n",
    "internet = internet[internet.mb_used != 0]"
   ]
  },
  {
   "cell_type": "code",
   "execution_count": 12,
   "metadata": {},
   "outputs": [
    {
     "data": {
      "text/html": [
       "<div>\n",
       "<style scoped>\n",
       "    .dataframe tbody tr th:only-of-type {\n",
       "        vertical-align: middle;\n",
       "    }\n",
       "\n",
       "    .dataframe tbody tr th {\n",
       "        vertical-align: top;\n",
       "    }\n",
       "\n",
       "    .dataframe thead th {\n",
       "        text-align: right;\n",
       "    }\n",
       "</style>\n",
       "<table border=\"1\" class=\"dataframe\">\n",
       "  <thead>\n",
       "    <tr style=\"text-align: right;\">\n",
       "      <th></th>\n",
       "      <th>id</th>\n",
       "      <th>user_id</th>\n",
       "      <th>call_date</th>\n",
       "      <th>duration</th>\n",
       "      <th>month</th>\n",
       "    </tr>\n",
       "  </thead>\n",
       "  <tbody>\n",
       "    <tr>\n",
       "      <th>0</th>\n",
       "      <td>1000_93</td>\n",
       "      <td>1000</td>\n",
       "      <td>2018-12-27</td>\n",
       "      <td>9.0</td>\n",
       "      <td>12</td>\n",
       "    </tr>\n",
       "    <tr>\n",
       "      <th>1</th>\n",
       "      <td>1000_145</td>\n",
       "      <td>1000</td>\n",
       "      <td>2018-12-27</td>\n",
       "      <td>14.0</td>\n",
       "      <td>12</td>\n",
       "    </tr>\n",
       "    <tr>\n",
       "      <th>2</th>\n",
       "      <td>1000_247</td>\n",
       "      <td>1000</td>\n",
       "      <td>2018-12-27</td>\n",
       "      <td>15.0</td>\n",
       "      <td>12</td>\n",
       "    </tr>\n",
       "    <tr>\n",
       "      <th>3</th>\n",
       "      <td>1000_309</td>\n",
       "      <td>1000</td>\n",
       "      <td>2018-12-28</td>\n",
       "      <td>6.0</td>\n",
       "      <td>12</td>\n",
       "    </tr>\n",
       "    <tr>\n",
       "      <th>4</th>\n",
       "      <td>1000_380</td>\n",
       "      <td>1000</td>\n",
       "      <td>2018-12-30</td>\n",
       "      <td>5.0</td>\n",
       "      <td>12</td>\n",
       "    </tr>\n",
       "  </tbody>\n",
       "</table>\n",
       "</div>"
      ],
      "text/plain": [
       "         id  user_id  call_date  duration  month\n",
       "0   1000_93     1000 2018-12-27       9.0     12\n",
       "1  1000_145     1000 2018-12-27      14.0     12\n",
       "2  1000_247     1000 2018-12-27      15.0     12\n",
       "3  1000_309     1000 2018-12-28       6.0     12\n",
       "4  1000_380     1000 2018-12-30       5.0     12"
      ]
     },
     "metadata": {},
     "output_type": "display_data"
    }
   ],
   "source": [
    "#calculating the number of calls made and minutes used per month\n",
    "#add a column for the month the call was made\n",
    "calls['call_date'] = pd.to_datetime(calls['call_date'] ,format = '%Y-%m-%d')\n",
    "calls['month'] = calls['call_date'].dt.month\n",
    "#round up each call duration \n",
    "calls['duration'] = calls['duration'].apply(np.ceil)\n",
    "display(calls.head())"
   ]
  },
  {
   "cell_type": "code",
   "execution_count": 13,
   "metadata": {},
   "outputs": [
    {
     "data": {
      "text/html": [
       "<div>\n",
       "<style scoped>\n",
       "    .dataframe tbody tr th:only-of-type {\n",
       "        vertical-align: middle;\n",
       "    }\n",
       "\n",
       "    .dataframe tbody tr th {\n",
       "        vertical-align: top;\n",
       "    }\n",
       "\n",
       "    .dataframe thead th {\n",
       "        text-align: right;\n",
       "    }\n",
       "</style>\n",
       "<table border=\"1\" class=\"dataframe\">\n",
       "  <thead>\n",
       "    <tr style=\"text-align: right;\">\n",
       "      <th></th>\n",
       "      <th>user_id</th>\n",
       "      <th>month</th>\n",
       "      <th>duration</th>\n",
       "    </tr>\n",
       "  </thead>\n",
       "  <tbody>\n",
       "    <tr>\n",
       "      <th>0</th>\n",
       "      <td>1000</td>\n",
       "      <td>12</td>\n",
       "      <td>124.0</td>\n",
       "    </tr>\n",
       "    <tr>\n",
       "      <th>1</th>\n",
       "      <td>1001</td>\n",
       "      <td>8</td>\n",
       "      <td>182.0</td>\n",
       "    </tr>\n",
       "    <tr>\n",
       "      <th>2</th>\n",
       "      <td>1001</td>\n",
       "      <td>9</td>\n",
       "      <td>315.0</td>\n",
       "    </tr>\n",
       "    <tr>\n",
       "      <th>3</th>\n",
       "      <td>1001</td>\n",
       "      <td>10</td>\n",
       "      <td>393.0</td>\n",
       "    </tr>\n",
       "    <tr>\n",
       "      <th>4</th>\n",
       "      <td>1001</td>\n",
       "      <td>11</td>\n",
       "      <td>426.0</td>\n",
       "    </tr>\n",
       "  </tbody>\n",
       "</table>\n",
       "</div>"
      ],
      "text/plain": [
       "   user_id  month  duration\n",
       "0     1000     12     124.0\n",
       "1     1001      8     182.0\n",
       "2     1001      9     315.0\n",
       "3     1001     10     393.0\n",
       "4     1001     11     426.0"
      ]
     },
     "metadata": {},
     "output_type": "display_data"
    }
   ],
   "source": [
    "#group by user id & month and calculation calls duration per user per month\n",
    "calls_grouped = calls.groupby(['user_id', 'month'])['duration'].sum().reset_index()\n",
    "\n",
    "display(calls_grouped.head())\n"
   ]
  },
  {
   "cell_type": "code",
   "execution_count": 14,
   "metadata": {},
   "outputs": [
    {
     "data": {
      "text/html": [
       "<div>\n",
       "<style scoped>\n",
       "    .dataframe tbody tr th:only-of-type {\n",
       "        vertical-align: middle;\n",
       "    }\n",
       "\n",
       "    .dataframe tbody tr th {\n",
       "        vertical-align: top;\n",
       "    }\n",
       "\n",
       "    .dataframe thead th {\n",
       "        text-align: right;\n",
       "    }\n",
       "</style>\n",
       "<table border=\"1\" class=\"dataframe\">\n",
       "  <thead>\n",
       "    <tr style=\"text-align: right;\">\n",
       "      <th></th>\n",
       "      <th>id</th>\n",
       "      <th>user_id</th>\n",
       "      <th>session_date</th>\n",
       "      <th>mb_used</th>\n",
       "      <th>month</th>\n",
       "    </tr>\n",
       "  </thead>\n",
       "  <tbody>\n",
       "    <tr>\n",
       "      <th>0</th>\n",
       "      <td>1000_13</td>\n",
       "      <td>1000</td>\n",
       "      <td>2018-12-29</td>\n",
       "      <td>89.86</td>\n",
       "      <td>12</td>\n",
       "    </tr>\n",
       "    <tr>\n",
       "      <th>2</th>\n",
       "      <td>1000_379</td>\n",
       "      <td>1000</td>\n",
       "      <td>2018-12-28</td>\n",
       "      <td>660.40</td>\n",
       "      <td>12</td>\n",
       "    </tr>\n",
       "    <tr>\n",
       "      <th>3</th>\n",
       "      <td>1000_413</td>\n",
       "      <td>1000</td>\n",
       "      <td>2018-12-26</td>\n",
       "      <td>270.99</td>\n",
       "      <td>12</td>\n",
       "    </tr>\n",
       "    <tr>\n",
       "      <th>4</th>\n",
       "      <td>1000_442</td>\n",
       "      <td>1000</td>\n",
       "      <td>2018-12-27</td>\n",
       "      <td>880.22</td>\n",
       "      <td>12</td>\n",
       "    </tr>\n",
       "    <tr>\n",
       "      <th>5</th>\n",
       "      <td>1001_0</td>\n",
       "      <td>1001</td>\n",
       "      <td>2018-08-24</td>\n",
       "      <td>284.68</td>\n",
       "      <td>8</td>\n",
       "    </tr>\n",
       "  </tbody>\n",
       "</table>\n",
       "</div>"
      ],
      "text/plain": [
       "         id  user_id session_date  mb_used  month\n",
       "0   1000_13     1000   2018-12-29    89.86     12\n",
       "2  1000_379     1000   2018-12-28   660.40     12\n",
       "3  1000_413     1000   2018-12-26   270.99     12\n",
       "4  1000_442     1000   2018-12-27   880.22     12\n",
       "5    1001_0     1001   2018-08-24   284.68      8"
      ]
     },
     "metadata": {},
     "output_type": "display_data"
    }
   ],
   "source": [
    "#add a column for the month the session was made\n",
    "internet['session_date'] = pd.to_datetime(internet['session_date'] ,format = '%Y-%m-%d')\n",
    "internet['month'] = internet['session_date'].dt.month\n",
    "\n",
    "display(internet.head())"
   ]
  },
  {
   "cell_type": "code",
   "execution_count": 15,
   "metadata": {},
   "outputs": [
    {
     "data": {
      "text/html": [
       "<div>\n",
       "<style scoped>\n",
       "    .dataframe tbody tr th:only-of-type {\n",
       "        vertical-align: middle;\n",
       "    }\n",
       "\n",
       "    .dataframe tbody tr th {\n",
       "        vertical-align: top;\n",
       "    }\n",
       "\n",
       "    .dataframe thead th {\n",
       "        text-align: right;\n",
       "    }\n",
       "</style>\n",
       "<table border=\"1\" class=\"dataframe\">\n",
       "  <thead>\n",
       "    <tr style=\"text-align: right;\">\n",
       "      <th></th>\n",
       "      <th>user_id</th>\n",
       "      <th>month</th>\n",
       "      <th>mb_used</th>\n",
       "      <th>gb_used</th>\n",
       "    </tr>\n",
       "  </thead>\n",
       "  <tbody>\n",
       "    <tr>\n",
       "      <th>0</th>\n",
       "      <td>1000</td>\n",
       "      <td>12</td>\n",
       "      <td>1901.47</td>\n",
       "      <td>2.0</td>\n",
       "    </tr>\n",
       "    <tr>\n",
       "      <th>1</th>\n",
       "      <td>1001</td>\n",
       "      <td>8</td>\n",
       "      <td>6919.15</td>\n",
       "      <td>7.0</td>\n",
       "    </tr>\n",
       "    <tr>\n",
       "      <th>2</th>\n",
       "      <td>1001</td>\n",
       "      <td>9</td>\n",
       "      <td>13314.82</td>\n",
       "      <td>14.0</td>\n",
       "    </tr>\n",
       "    <tr>\n",
       "      <th>3</th>\n",
       "      <td>1001</td>\n",
       "      <td>10</td>\n",
       "      <td>22330.49</td>\n",
       "      <td>22.0</td>\n",
       "    </tr>\n",
       "    <tr>\n",
       "      <th>4</th>\n",
       "      <td>1001</td>\n",
       "      <td>11</td>\n",
       "      <td>18504.30</td>\n",
       "      <td>19.0</td>\n",
       "    </tr>\n",
       "  </tbody>\n",
       "</table>\n",
       "</div>"
      ],
      "text/plain": [
       "   user_id  month   mb_used  gb_used\n",
       "0     1000     12   1901.47      2.0\n",
       "1     1001      8   6919.15      7.0\n",
       "2     1001      9  13314.82     14.0\n",
       "3     1001     10  22330.49     22.0\n",
       "4     1001     11  18504.30     19.0"
      ]
     },
     "metadata": {},
     "output_type": "display_data"
    }
   ],
   "source": [
    "#group by user id & month and calculate the total sessions volume per user per month\n",
    "internet_grouped = internet.groupby(['user_id', 'month'])['mb_used'].sum().reset_index()\n",
    "#change mb_used to gb_used and round up\n",
    "internet_grouped['gb_used'] = (internet_grouped['mb_used']/1024).apply(np.ceil)\n",
    "display(internet_grouped.head())"
   ]
  },
  {
   "cell_type": "code",
   "execution_count": 16,
   "metadata": {},
   "outputs": [
    {
     "data": {
      "text/html": [
       "<div>\n",
       "<style scoped>\n",
       "    .dataframe tbody tr th:only-of-type {\n",
       "        vertical-align: middle;\n",
       "    }\n",
       "\n",
       "    .dataframe tbody tr th {\n",
       "        vertical-align: top;\n",
       "    }\n",
       "\n",
       "    .dataframe thead th {\n",
       "        text-align: right;\n",
       "    }\n",
       "</style>\n",
       "<table border=\"1\" class=\"dataframe\">\n",
       "  <thead>\n",
       "    <tr style=\"text-align: right;\">\n",
       "      <th></th>\n",
       "      <th>id</th>\n",
       "      <th>user_id</th>\n",
       "      <th>message_date</th>\n",
       "      <th>month</th>\n",
       "    </tr>\n",
       "  </thead>\n",
       "  <tbody>\n",
       "    <tr>\n",
       "      <th>0</th>\n",
       "      <td>1000_125</td>\n",
       "      <td>1000</td>\n",
       "      <td>2018-12-27</td>\n",
       "      <td>12</td>\n",
       "    </tr>\n",
       "    <tr>\n",
       "      <th>1</th>\n",
       "      <td>1000_160</td>\n",
       "      <td>1000</td>\n",
       "      <td>2018-12-31</td>\n",
       "      <td>12</td>\n",
       "    </tr>\n",
       "    <tr>\n",
       "      <th>2</th>\n",
       "      <td>1000_223</td>\n",
       "      <td>1000</td>\n",
       "      <td>2018-12-31</td>\n",
       "      <td>12</td>\n",
       "    </tr>\n",
       "    <tr>\n",
       "      <th>3</th>\n",
       "      <td>1000_251</td>\n",
       "      <td>1000</td>\n",
       "      <td>2018-12-27</td>\n",
       "      <td>12</td>\n",
       "    </tr>\n",
       "    <tr>\n",
       "      <th>4</th>\n",
       "      <td>1000_255</td>\n",
       "      <td>1000</td>\n",
       "      <td>2018-12-26</td>\n",
       "      <td>12</td>\n",
       "    </tr>\n",
       "  </tbody>\n",
       "</table>\n",
       "</div>"
      ],
      "text/plain": [
       "         id  user_id message_date  month\n",
       "0  1000_125     1000   2018-12-27     12\n",
       "1  1000_160     1000   2018-12-31     12\n",
       "2  1000_223     1000   2018-12-31     12\n",
       "3  1000_251     1000   2018-12-27     12\n",
       "4  1000_255     1000   2018-12-26     12"
      ]
     },
     "metadata": {},
     "output_type": "display_data"
    }
   ],
   "source": [
    "#calculating the number of messagese sent per user per month\n",
    "#add a column for the month the message was sent\n",
    "mess['message_date'] = pd.to_datetime(mess['message_date'] ,format = '%Y-%m-%d')\n",
    "mess['month'] = mess['message_date'].dt.month\n",
    "display(mess.head())"
   ]
  },
  {
   "cell_type": "code",
   "execution_count": 17,
   "metadata": {},
   "outputs": [
    {
     "name": "stderr",
     "output_type": "stream",
     "text": [
      "/opt/conda/lib/python3.7/site-packages/ipykernel_launcher.py:3: FutureWarning: In a future version of pandas all arguments of DataFrame.drop except for the argument 'labels' will be keyword-only\n",
      "  This is separate from the ipykernel package so we can avoid doing imports until\n"
     ]
    },
    {
     "data": {
      "text/html": [
       "<div>\n",
       "<style scoped>\n",
       "    .dataframe tbody tr th:only-of-type {\n",
       "        vertical-align: middle;\n",
       "    }\n",
       "\n",
       "    .dataframe tbody tr th {\n",
       "        vertical-align: top;\n",
       "    }\n",
       "\n",
       "    .dataframe thead th {\n",
       "        text-align: right;\n",
       "    }\n",
       "</style>\n",
       "<table border=\"1\" class=\"dataframe\">\n",
       "  <thead>\n",
       "    <tr style=\"text-align: right;\">\n",
       "      <th></th>\n",
       "      <th>user_id</th>\n",
       "      <th>month</th>\n",
       "      <th>num_of_messages</th>\n",
       "    </tr>\n",
       "  </thead>\n",
       "  <tbody>\n",
       "    <tr>\n",
       "      <th>0</th>\n",
       "      <td>1000</td>\n",
       "      <td>12</td>\n",
       "      <td>11</td>\n",
       "    </tr>\n",
       "    <tr>\n",
       "      <th>1</th>\n",
       "      <td>1001</td>\n",
       "      <td>8</td>\n",
       "      <td>30</td>\n",
       "    </tr>\n",
       "    <tr>\n",
       "      <th>2</th>\n",
       "      <td>1001</td>\n",
       "      <td>9</td>\n",
       "      <td>44</td>\n",
       "    </tr>\n",
       "    <tr>\n",
       "      <th>3</th>\n",
       "      <td>1001</td>\n",
       "      <td>10</td>\n",
       "      <td>53</td>\n",
       "    </tr>\n",
       "    <tr>\n",
       "      <th>4</th>\n",
       "      <td>1001</td>\n",
       "      <td>11</td>\n",
       "      <td>36</td>\n",
       "    </tr>\n",
       "  </tbody>\n",
       "</table>\n",
       "</div>"
      ],
      "text/plain": [
       "   user_id  month  num_of_messages\n",
       "0     1000     12               11\n",
       "1     1001      8               30\n",
       "2     1001      9               44\n",
       "3     1001     10               53\n",
       "4     1001     11               36"
      ]
     },
     "metadata": {},
     "output_type": "display_data"
    }
   ],
   "source": [
    "#group by user id & month and calculate the number of messages per user per month\n",
    "mess_grouped = mess.groupby(['user_id', 'month']).count().reset_index()\n",
    "mess_grouped.drop('message_date', 1, inplace = True)\n",
    "mess_grouped.columns = ['user_id', 'month', 'num_of_messages']\n",
    "\n",
    "display(mess_grouped.head())"
   ]
  },
  {
   "cell_type": "code",
   "execution_count": 18,
   "metadata": {},
   "outputs": [
    {
     "data": {
      "text/html": [
       "<div>\n",
       "<style scoped>\n",
       "    .dataframe tbody tr th:only-of-type {\n",
       "        vertical-align: middle;\n",
       "    }\n",
       "\n",
       "    .dataframe tbody tr th {\n",
       "        vertical-align: top;\n",
       "    }\n",
       "\n",
       "    .dataframe thead th {\n",
       "        text-align: right;\n",
       "    }\n",
       "</style>\n",
       "<table border=\"1\" class=\"dataframe\">\n",
       "  <thead>\n",
       "    <tr style=\"text-align: right;\">\n",
       "      <th></th>\n",
       "      <th>user_id</th>\n",
       "      <th>month</th>\n",
       "      <th>mb_used</th>\n",
       "      <th>gb_used</th>\n",
       "      <th>duration</th>\n",
       "      <th>num_of_messages</th>\n",
       "    </tr>\n",
       "  </thead>\n",
       "  <tbody>\n",
       "    <tr>\n",
       "      <th>0</th>\n",
       "      <td>1000</td>\n",
       "      <td>12</td>\n",
       "      <td>1901.47</td>\n",
       "      <td>2.0</td>\n",
       "      <td>124.0</td>\n",
       "      <td>11.0</td>\n",
       "    </tr>\n",
       "    <tr>\n",
       "      <th>1</th>\n",
       "      <td>1001</td>\n",
       "      <td>8</td>\n",
       "      <td>6919.15</td>\n",
       "      <td>7.0</td>\n",
       "      <td>182.0</td>\n",
       "      <td>30.0</td>\n",
       "    </tr>\n",
       "    <tr>\n",
       "      <th>2</th>\n",
       "      <td>1001</td>\n",
       "      <td>9</td>\n",
       "      <td>13314.82</td>\n",
       "      <td>14.0</td>\n",
       "      <td>315.0</td>\n",
       "      <td>44.0</td>\n",
       "    </tr>\n",
       "    <tr>\n",
       "      <th>3</th>\n",
       "      <td>1001</td>\n",
       "      <td>10</td>\n",
       "      <td>22330.49</td>\n",
       "      <td>22.0</td>\n",
       "      <td>393.0</td>\n",
       "      <td>53.0</td>\n",
       "    </tr>\n",
       "    <tr>\n",
       "      <th>4</th>\n",
       "      <td>1001</td>\n",
       "      <td>11</td>\n",
       "      <td>18504.30</td>\n",
       "      <td>19.0</td>\n",
       "      <td>426.0</td>\n",
       "      <td>36.0</td>\n",
       "    </tr>\n",
       "  </tbody>\n",
       "</table>\n",
       "</div>"
      ],
      "text/plain": [
       "   user_id  month   mb_used  gb_used  duration  num_of_messages\n",
       "0     1000     12   1901.47      2.0     124.0             11.0\n",
       "1     1001      8   6919.15      7.0     182.0             30.0\n",
       "2     1001      9  13314.82     14.0     315.0             44.0\n",
       "3     1001     10  22330.49     22.0     393.0             53.0\n",
       "4     1001     11  18504.30     19.0     426.0             36.0"
      ]
     },
     "metadata": {},
     "output_type": "display_data"
    }
   ],
   "source": [
    "#merge the users data (calls, internet use and messages) into one table\n",
    "data_frames = [internet_grouped, calls_grouped, mess_grouped]\n",
    "df_merged = reduce(lambda  left,right: pd.merge(left,right,on=['user_id', 'month'],\n",
    "                                            how='outer'), data_frames).fillna(0)\n",
    "display(df_merged.head())"
   ]
  },
  {
   "cell_type": "code",
   "execution_count": 19,
   "metadata": {},
   "outputs": [
    {
     "data": {
      "text/html": [
       "<div>\n",
       "<style scoped>\n",
       "    .dataframe tbody tr th:only-of-type {\n",
       "        vertical-align: middle;\n",
       "    }\n",
       "\n",
       "    .dataframe tbody tr th {\n",
       "        vertical-align: top;\n",
       "    }\n",
       "\n",
       "    .dataframe thead th {\n",
       "        text-align: right;\n",
       "    }\n",
       "</style>\n",
       "<table border=\"1\" class=\"dataframe\">\n",
       "  <thead>\n",
       "    <tr style=\"text-align: right;\">\n",
       "      <th></th>\n",
       "      <th>user_id</th>\n",
       "      <th>month</th>\n",
       "      <th>mb_used</th>\n",
       "      <th>gb_used</th>\n",
       "      <th>duration</th>\n",
       "      <th>num_of_messages</th>\n",
       "      <th>city</th>\n",
       "      <th>plan</th>\n",
       "    </tr>\n",
       "  </thead>\n",
       "  <tbody>\n",
       "    <tr>\n",
       "      <th>0</th>\n",
       "      <td>1000</td>\n",
       "      <td>12.0</td>\n",
       "      <td>1901.47</td>\n",
       "      <td>2.0</td>\n",
       "      <td>124.0</td>\n",
       "      <td>11.0</td>\n",
       "      <td>Atlanta-Sandy Springs-Roswell, GA MSA</td>\n",
       "      <td>ultimate</td>\n",
       "    </tr>\n",
       "    <tr>\n",
       "      <th>1</th>\n",
       "      <td>1001</td>\n",
       "      <td>8.0</td>\n",
       "      <td>6919.15</td>\n",
       "      <td>7.0</td>\n",
       "      <td>182.0</td>\n",
       "      <td>30.0</td>\n",
       "      <td>Seattle-Tacoma-Bellevue, WA MSA</td>\n",
       "      <td>surf</td>\n",
       "    </tr>\n",
       "    <tr>\n",
       "      <th>2</th>\n",
       "      <td>1001</td>\n",
       "      <td>9.0</td>\n",
       "      <td>13314.82</td>\n",
       "      <td>14.0</td>\n",
       "      <td>315.0</td>\n",
       "      <td>44.0</td>\n",
       "      <td>Seattle-Tacoma-Bellevue, WA MSA</td>\n",
       "      <td>surf</td>\n",
       "    </tr>\n",
       "    <tr>\n",
       "      <th>3</th>\n",
       "      <td>1001</td>\n",
       "      <td>10.0</td>\n",
       "      <td>22330.49</td>\n",
       "      <td>22.0</td>\n",
       "      <td>393.0</td>\n",
       "      <td>53.0</td>\n",
       "      <td>Seattle-Tacoma-Bellevue, WA MSA</td>\n",
       "      <td>surf</td>\n",
       "    </tr>\n",
       "    <tr>\n",
       "      <th>4</th>\n",
       "      <td>1001</td>\n",
       "      <td>11.0</td>\n",
       "      <td>18504.30</td>\n",
       "      <td>19.0</td>\n",
       "      <td>426.0</td>\n",
       "      <td>36.0</td>\n",
       "      <td>Seattle-Tacoma-Bellevue, WA MSA</td>\n",
       "      <td>surf</td>\n",
       "    </tr>\n",
       "  </tbody>\n",
       "</table>\n",
       "</div>"
      ],
      "text/plain": [
       "   user_id  month   mb_used  gb_used  duration  num_of_messages  \\\n",
       "0     1000   12.0   1901.47      2.0     124.0             11.0   \n",
       "1     1001    8.0   6919.15      7.0     182.0             30.0   \n",
       "2     1001    9.0  13314.82     14.0     315.0             44.0   \n",
       "3     1001   10.0  22330.49     22.0     393.0             53.0   \n",
       "4     1001   11.0  18504.30     19.0     426.0             36.0   \n",
       "\n",
       "                                    city      plan  \n",
       "0  Atlanta-Sandy Springs-Roswell, GA MSA  ultimate  \n",
       "1        Seattle-Tacoma-Bellevue, WA MSA      surf  \n",
       "2        Seattle-Tacoma-Bellevue, WA MSA      surf  \n",
       "3        Seattle-Tacoma-Bellevue, WA MSA      surf  \n",
       "4        Seattle-Tacoma-Bellevue, WA MSA      surf  "
      ]
     },
     "metadata": {},
     "output_type": "display_data"
    }
   ],
   "source": [
    "#merge with the users data\n",
    "df_merged2= pd.merge(left = df_merged, \n",
    "                right = users[['user_id', 'city', 'plan']], how='outer',on=['user_id']).fillna(0)\n",
    "\n",
    "display(df_merged2.head())"
   ]
  },
  {
   "cell_type": "code",
   "execution_count": 20,
   "metadata": {},
   "outputs": [
    {
     "data": {
      "text/html": [
       "<div>\n",
       "<style scoped>\n",
       "    .dataframe tbody tr th:only-of-type {\n",
       "        vertical-align: middle;\n",
       "    }\n",
       "\n",
       "    .dataframe tbody tr th {\n",
       "        vertical-align: top;\n",
       "    }\n",
       "\n",
       "    .dataframe thead th {\n",
       "        text-align: right;\n",
       "    }\n",
       "</style>\n",
       "<table border=\"1\" class=\"dataframe\">\n",
       "  <thead>\n",
       "    <tr style=\"text-align: right;\">\n",
       "      <th></th>\n",
       "      <th>messages_included</th>\n",
       "      <th>mb_per_month_included</th>\n",
       "      <th>minutes_included</th>\n",
       "      <th>usd_monthly_pay</th>\n",
       "      <th>usd_per_gb</th>\n",
       "      <th>usd_per_message</th>\n",
       "      <th>usd_per_minute</th>\n",
       "      <th>plan_name</th>\n",
       "    </tr>\n",
       "  </thead>\n",
       "  <tbody>\n",
       "    <tr>\n",
       "      <th>0</th>\n",
       "      <td>50</td>\n",
       "      <td>15360</td>\n",
       "      <td>500</td>\n",
       "      <td>20</td>\n",
       "      <td>10</td>\n",
       "      <td>0.03</td>\n",
       "      <td>0.03</td>\n",
       "      <td>surf</td>\n",
       "    </tr>\n",
       "    <tr>\n",
       "      <th>1</th>\n",
       "      <td>1000</td>\n",
       "      <td>30720</td>\n",
       "      <td>3000</td>\n",
       "      <td>70</td>\n",
       "      <td>7</td>\n",
       "      <td>0.01</td>\n",
       "      <td>0.01</td>\n",
       "      <td>ultimate</td>\n",
       "    </tr>\n",
       "  </tbody>\n",
       "</table>\n",
       "</div>"
      ],
      "text/plain": [
       "   messages_included  mb_per_month_included  minutes_included  \\\n",
       "0                 50                  15360               500   \n",
       "1               1000                  30720              3000   \n",
       "\n",
       "   usd_monthly_pay  usd_per_gb  usd_per_message  usd_per_minute plan_name  \n",
       "0               20          10             0.03            0.03      surf  \n",
       "1               70           7             0.01            0.01  ultimate  "
      ]
     },
     "metadata": {},
     "output_type": "display_data"
    }
   ],
   "source": [
    "display(plans.head())"
   ]
  },
  {
   "cell_type": "code",
   "execution_count": 21,
   "metadata": {},
   "outputs": [],
   "source": [
    "#creating a function to calculate the revenue per user\n",
    "def revanue_calc(row):\n",
    "    \n",
    "    if row['plan'] == 'surf':\n",
    "        basic = 20\n",
    "    else:\n",
    "        basic = 70\n",
    "    \n",
    "    if row['plan'] == 'surf':\n",
    "        if row['gb_used'] > plans['mb_per_month_included'].iloc[0]/1024:\n",
    "            internet = ((row['gb_used'] - (plans['mb_per_month_included'].iloc[0])/1024))* plans['usd_per_gb'].iloc[0]\n",
    "        else:\n",
    "            internet = 0\n",
    "        if row['duration'] > plans['minutes_included'].iloc[0]:\n",
    "            call = (row['duration'] - plans['minutes_included'].iloc[0])*plans['usd_per_minute'].iloc[0]\n",
    "        else:\n",
    "            call = 0\n",
    "        if row['num_of_messages'] > plans['messages_included'].iloc[0]:\n",
    "            messages = row['num_of_messages'] - plans['messages_included'].iloc[0]\n",
    "        else:\n",
    "            messages = 0\n",
    "            \n",
    "    else:\n",
    "        if row['gb_used'] > plans['mb_per_month_included'].iloc[1]/1024:\n",
    "            internet = ((row['gb_used'] - (plans['mb_per_month_included'].iloc[1])/1024))* plans['usd_per_gb'].iloc[1]\n",
    "        else:\n",
    "            internet = 0\n",
    "        if row['duration'] > plans['minutes_included'].iloc[1]:\n",
    "            call = (row['duration'] - plans['minutes_included'].iloc[1])*plans['usd_per_minute'].iloc[1]\n",
    "        else:\n",
    "            call = 0\n",
    "        if row['num_of_messages'] > plans['messages_included'].iloc[1]:\n",
    "            messages = row['num_of_messages'] - plans['messages_included'].iloc[1]\n",
    "        else:\n",
    "            messages = 0\n",
    "            \n",
    "        \n",
    "    total_revanue = basic + internet + call + messages\n",
    "    return total_revanue"
   ]
  },
  {
   "cell_type": "code",
   "execution_count": 22,
   "metadata": {},
   "outputs": [
    {
     "data": {
      "text/html": [
       "<div>\n",
       "<style scoped>\n",
       "    .dataframe tbody tr th:only-of-type {\n",
       "        vertical-align: middle;\n",
       "    }\n",
       "\n",
       "    .dataframe tbody tr th {\n",
       "        vertical-align: top;\n",
       "    }\n",
       "\n",
       "    .dataframe thead th {\n",
       "        text-align: right;\n",
       "    }\n",
       "</style>\n",
       "<table border=\"1\" class=\"dataframe\">\n",
       "  <thead>\n",
       "    <tr style=\"text-align: right;\">\n",
       "      <th></th>\n",
       "      <th>user_id</th>\n",
       "      <th>month</th>\n",
       "      <th>mb_used</th>\n",
       "      <th>gb_used</th>\n",
       "      <th>duration</th>\n",
       "      <th>num_of_messages</th>\n",
       "      <th>city</th>\n",
       "      <th>plan</th>\n",
       "      <th>total_revanue</th>\n",
       "    </tr>\n",
       "  </thead>\n",
       "  <tbody>\n",
       "    <tr>\n",
       "      <th>0</th>\n",
       "      <td>1000</td>\n",
       "      <td>12.0</td>\n",
       "      <td>1901.47</td>\n",
       "      <td>2.0</td>\n",
       "      <td>124.0</td>\n",
       "      <td>11.0</td>\n",
       "      <td>Atlanta-Sandy Springs-Roswell, GA MSA</td>\n",
       "      <td>ultimate</td>\n",
       "      <td>70.0</td>\n",
       "    </tr>\n",
       "    <tr>\n",
       "      <th>1</th>\n",
       "      <td>1001</td>\n",
       "      <td>8.0</td>\n",
       "      <td>6919.15</td>\n",
       "      <td>7.0</td>\n",
       "      <td>182.0</td>\n",
       "      <td>30.0</td>\n",
       "      <td>Seattle-Tacoma-Bellevue, WA MSA</td>\n",
       "      <td>surf</td>\n",
       "      <td>20.0</td>\n",
       "    </tr>\n",
       "    <tr>\n",
       "      <th>2</th>\n",
       "      <td>1001</td>\n",
       "      <td>9.0</td>\n",
       "      <td>13314.82</td>\n",
       "      <td>14.0</td>\n",
       "      <td>315.0</td>\n",
       "      <td>44.0</td>\n",
       "      <td>Seattle-Tacoma-Bellevue, WA MSA</td>\n",
       "      <td>surf</td>\n",
       "      <td>20.0</td>\n",
       "    </tr>\n",
       "    <tr>\n",
       "      <th>3</th>\n",
       "      <td>1001</td>\n",
       "      <td>10.0</td>\n",
       "      <td>22330.49</td>\n",
       "      <td>22.0</td>\n",
       "      <td>393.0</td>\n",
       "      <td>53.0</td>\n",
       "      <td>Seattle-Tacoma-Bellevue, WA MSA</td>\n",
       "      <td>surf</td>\n",
       "      <td>93.0</td>\n",
       "    </tr>\n",
       "    <tr>\n",
       "      <th>4</th>\n",
       "      <td>1001</td>\n",
       "      <td>11.0</td>\n",
       "      <td>18504.30</td>\n",
       "      <td>19.0</td>\n",
       "      <td>426.0</td>\n",
       "      <td>36.0</td>\n",
       "      <td>Seattle-Tacoma-Bellevue, WA MSA</td>\n",
       "      <td>surf</td>\n",
       "      <td>60.0</td>\n",
       "    </tr>\n",
       "    <tr>\n",
       "      <th>...</th>\n",
       "      <td>...</td>\n",
       "      <td>...</td>\n",
       "      <td>...</td>\n",
       "      <td>...</td>\n",
       "      <td>...</td>\n",
       "      <td>...</td>\n",
       "      <td>...</td>\n",
       "      <td>...</td>\n",
       "      <td>...</td>\n",
       "    </tr>\n",
       "    <tr>\n",
       "      <th>2298</th>\n",
       "      <td>1307</td>\n",
       "      <td>0.0</td>\n",
       "      <td>0.00</td>\n",
       "      <td>0.0</td>\n",
       "      <td>0.0</td>\n",
       "      <td>0.0</td>\n",
       "      <td>Boston-Cambridge-Newton, MA-NH MSA</td>\n",
       "      <td>surf</td>\n",
       "      <td>20.0</td>\n",
       "    </tr>\n",
       "    <tr>\n",
       "      <th>2299</th>\n",
       "      <td>1319</td>\n",
       "      <td>0.0</td>\n",
       "      <td>0.00</td>\n",
       "      <td>0.0</td>\n",
       "      <td>0.0</td>\n",
       "      <td>0.0</td>\n",
       "      <td>Colorado Springs, CO MSA</td>\n",
       "      <td>surf</td>\n",
       "      <td>20.0</td>\n",
       "    </tr>\n",
       "    <tr>\n",
       "      <th>2300</th>\n",
       "      <td>1378</td>\n",
       "      <td>0.0</td>\n",
       "      <td>0.00</td>\n",
       "      <td>0.0</td>\n",
       "      <td>0.0</td>\n",
       "      <td>0.0</td>\n",
       "      <td>Denver-Aurora-Lakewood, CO MSA</td>\n",
       "      <td>surf</td>\n",
       "      <td>20.0</td>\n",
       "    </tr>\n",
       "    <tr>\n",
       "      <th>2301</th>\n",
       "      <td>1463</td>\n",
       "      <td>0.0</td>\n",
       "      <td>0.00</td>\n",
       "      <td>0.0</td>\n",
       "      <td>0.0</td>\n",
       "      <td>0.0</td>\n",
       "      <td>Atlanta-Sandy Springs-Roswell, GA MSA</td>\n",
       "      <td>ultimate</td>\n",
       "      <td>70.0</td>\n",
       "    </tr>\n",
       "    <tr>\n",
       "      <th>2302</th>\n",
       "      <td>1473</td>\n",
       "      <td>0.0</td>\n",
       "      <td>0.00</td>\n",
       "      <td>0.0</td>\n",
       "      <td>0.0</td>\n",
       "      <td>0.0</td>\n",
       "      <td>Louisville/Jefferson County, KY-IN MSA</td>\n",
       "      <td>surf</td>\n",
       "      <td>20.0</td>\n",
       "    </tr>\n",
       "  </tbody>\n",
       "</table>\n",
       "<p>2303 rows × 9 columns</p>\n",
       "</div>"
      ],
      "text/plain": [
       "      user_id  month   mb_used  gb_used  duration  num_of_messages  \\\n",
       "0        1000   12.0   1901.47      2.0     124.0             11.0   \n",
       "1        1001    8.0   6919.15      7.0     182.0             30.0   \n",
       "2        1001    9.0  13314.82     14.0     315.0             44.0   \n",
       "3        1001   10.0  22330.49     22.0     393.0             53.0   \n",
       "4        1001   11.0  18504.30     19.0     426.0             36.0   \n",
       "...       ...    ...       ...      ...       ...              ...   \n",
       "2298     1307    0.0      0.00      0.0       0.0              0.0   \n",
       "2299     1319    0.0      0.00      0.0       0.0              0.0   \n",
       "2300     1378    0.0      0.00      0.0       0.0              0.0   \n",
       "2301     1463    0.0      0.00      0.0       0.0              0.0   \n",
       "2302     1473    0.0      0.00      0.0       0.0              0.0   \n",
       "\n",
       "                                        city      plan  total_revanue  \n",
       "0      Atlanta-Sandy Springs-Roswell, GA MSA  ultimate           70.0  \n",
       "1            Seattle-Tacoma-Bellevue, WA MSA      surf           20.0  \n",
       "2            Seattle-Tacoma-Bellevue, WA MSA      surf           20.0  \n",
       "3            Seattle-Tacoma-Bellevue, WA MSA      surf           93.0  \n",
       "4            Seattle-Tacoma-Bellevue, WA MSA      surf           60.0  \n",
       "...                                      ...       ...            ...  \n",
       "2298      Boston-Cambridge-Newton, MA-NH MSA      surf           20.0  \n",
       "2299                Colorado Springs, CO MSA      surf           20.0  \n",
       "2300          Denver-Aurora-Lakewood, CO MSA      surf           20.0  \n",
       "2301   Atlanta-Sandy Springs-Roswell, GA MSA  ultimate           70.0  \n",
       "2302  Louisville/Jefferson County, KY-IN MSA      surf           20.0  \n",
       "\n",
       "[2303 rows x 9 columns]"
      ]
     },
     "metadata": {},
     "output_type": "display_data"
    }
   ],
   "source": [
    "#calculating the revanue per user\n",
    "df_merged2['total_revanue']=df_merged2.apply(revanue_calc,axis=1)\n",
    "display(df_merged2)"
   ]
  },
  {
   "cell_type": "markdown",
   "metadata": {},
   "source": [
    "We can see that we have rows with 0 value for mb_used, duration and number_of_messages this can happen, a month that you are away and not use your phone but you still pay the monthly rate per plan. \n",
    "Yet, we have rows with 0 value in the month column, not sure what does it mean, I'll look into it. \n"
   ]
  },
  {
   "cell_type": "code",
   "execution_count": 23,
   "metadata": {},
   "outputs": [
    {
     "data": {
      "text/plain": [
       "user_id            10\n",
       "month              10\n",
       "mb_used            10\n",
       "gb_used            10\n",
       "duration           10\n",
       "num_of_messages    10\n",
       "city               10\n",
       "plan               10\n",
       "total_revanue      10\n",
       "dtype: int64"
      ]
     },
     "execution_count": 23,
     "metadata": {},
     "output_type": "execute_result"
    }
   ],
   "source": [
    "df_merged2[df_merged2['month']== 0].count()"
   ]
  },
  {
   "cell_type": "markdown",
   "metadata": {},
   "source": [
    "We have 10 rows with month = 0, we will drop these rows since we can't calculate any thing on a month 0 that doesn't exist..."
   ]
  },
  {
   "cell_type": "code",
   "execution_count": 24,
   "metadata": {},
   "outputs": [
    {
     "data": {
      "text/html": [
       "<div>\n",
       "<style scoped>\n",
       "    .dataframe tbody tr th:only-of-type {\n",
       "        vertical-align: middle;\n",
       "    }\n",
       "\n",
       "    .dataframe tbody tr th {\n",
       "        vertical-align: top;\n",
       "    }\n",
       "\n",
       "    .dataframe thead th {\n",
       "        text-align: right;\n",
       "    }\n",
       "</style>\n",
       "<table border=\"1\" class=\"dataframe\">\n",
       "  <thead>\n",
       "    <tr style=\"text-align: right;\">\n",
       "      <th></th>\n",
       "      <th>user_id</th>\n",
       "      <th>month</th>\n",
       "      <th>mb_used</th>\n",
       "      <th>gb_used</th>\n",
       "      <th>duration</th>\n",
       "      <th>num_of_messages</th>\n",
       "      <th>city</th>\n",
       "      <th>plan</th>\n",
       "      <th>total_revanue</th>\n",
       "    </tr>\n",
       "  </thead>\n",
       "  <tbody>\n",
       "    <tr>\n",
       "      <th>0</th>\n",
       "      <td>1000</td>\n",
       "      <td>12.0</td>\n",
       "      <td>1901.47</td>\n",
       "      <td>2.0</td>\n",
       "      <td>124.0</td>\n",
       "      <td>11.0</td>\n",
       "      <td>Atlanta-Sandy Springs-Roswell, GA MSA</td>\n",
       "      <td>ultimate</td>\n",
       "      <td>70.00</td>\n",
       "    </tr>\n",
       "    <tr>\n",
       "      <th>1</th>\n",
       "      <td>1001</td>\n",
       "      <td>8.0</td>\n",
       "      <td>6919.15</td>\n",
       "      <td>7.0</td>\n",
       "      <td>182.0</td>\n",
       "      <td>30.0</td>\n",
       "      <td>Seattle-Tacoma-Bellevue, WA MSA</td>\n",
       "      <td>surf</td>\n",
       "      <td>20.00</td>\n",
       "    </tr>\n",
       "    <tr>\n",
       "      <th>2</th>\n",
       "      <td>1001</td>\n",
       "      <td>9.0</td>\n",
       "      <td>13314.82</td>\n",
       "      <td>14.0</td>\n",
       "      <td>315.0</td>\n",
       "      <td>44.0</td>\n",
       "      <td>Seattle-Tacoma-Bellevue, WA MSA</td>\n",
       "      <td>surf</td>\n",
       "      <td>20.00</td>\n",
       "    </tr>\n",
       "    <tr>\n",
       "      <th>3</th>\n",
       "      <td>1001</td>\n",
       "      <td>10.0</td>\n",
       "      <td>22330.49</td>\n",
       "      <td>22.0</td>\n",
       "      <td>393.0</td>\n",
       "      <td>53.0</td>\n",
       "      <td>Seattle-Tacoma-Bellevue, WA MSA</td>\n",
       "      <td>surf</td>\n",
       "      <td>93.00</td>\n",
       "    </tr>\n",
       "    <tr>\n",
       "      <th>4</th>\n",
       "      <td>1001</td>\n",
       "      <td>11.0</td>\n",
       "      <td>18504.30</td>\n",
       "      <td>19.0</td>\n",
       "      <td>426.0</td>\n",
       "      <td>36.0</td>\n",
       "      <td>Seattle-Tacoma-Bellevue, WA MSA</td>\n",
       "      <td>surf</td>\n",
       "      <td>60.00</td>\n",
       "    </tr>\n",
       "    <tr>\n",
       "      <th>...</th>\n",
       "      <td>...</td>\n",
       "      <td>...</td>\n",
       "      <td>...</td>\n",
       "      <td>...</td>\n",
       "      <td>...</td>\n",
       "      <td>...</td>\n",
       "      <td>...</td>\n",
       "      <td>...</td>\n",
       "      <td>...</td>\n",
       "    </tr>\n",
       "    <tr>\n",
       "      <th>2288</th>\n",
       "      <td>1470</td>\n",
       "      <td>8.0</td>\n",
       "      <td>0.00</td>\n",
       "      <td>0.0</td>\n",
       "      <td>580.0</td>\n",
       "      <td>141.0</td>\n",
       "      <td>Washington-Arlington-Alexandria, DC-VA-MD-WV MSA</td>\n",
       "      <td>surf</td>\n",
       "      <td>113.40</td>\n",
       "    </tr>\n",
       "    <tr>\n",
       "      <th>2289</th>\n",
       "      <td>1470</td>\n",
       "      <td>9.0</td>\n",
       "      <td>0.00</td>\n",
       "      <td>0.0</td>\n",
       "      <td>471.0</td>\n",
       "      <td>130.0</td>\n",
       "      <td>Washington-Arlington-Alexandria, DC-VA-MD-WV MSA</td>\n",
       "      <td>surf</td>\n",
       "      <td>100.00</td>\n",
       "    </tr>\n",
       "    <tr>\n",
       "      <th>2290</th>\n",
       "      <td>1470</td>\n",
       "      <td>10.0</td>\n",
       "      <td>0.00</td>\n",
       "      <td>0.0</td>\n",
       "      <td>459.0</td>\n",
       "      <td>145.0</td>\n",
       "      <td>Washington-Arlington-Alexandria, DC-VA-MD-WV MSA</td>\n",
       "      <td>surf</td>\n",
       "      <td>115.00</td>\n",
       "    </tr>\n",
       "    <tr>\n",
       "      <th>2291</th>\n",
       "      <td>1470</td>\n",
       "      <td>11.0</td>\n",
       "      <td>0.00</td>\n",
       "      <td>0.0</td>\n",
       "      <td>632.0</td>\n",
       "      <td>156.0</td>\n",
       "      <td>Washington-Arlington-Alexandria, DC-VA-MD-WV MSA</td>\n",
       "      <td>surf</td>\n",
       "      <td>129.96</td>\n",
       "    </tr>\n",
       "    <tr>\n",
       "      <th>2292</th>\n",
       "      <td>1470</td>\n",
       "      <td>12.0</td>\n",
       "      <td>0.00</td>\n",
       "      <td>0.0</td>\n",
       "      <td>592.0</td>\n",
       "      <td>153.0</td>\n",
       "      <td>Washington-Arlington-Alexandria, DC-VA-MD-WV MSA</td>\n",
       "      <td>surf</td>\n",
       "      <td>125.76</td>\n",
       "    </tr>\n",
       "  </tbody>\n",
       "</table>\n",
       "<p>2293 rows × 9 columns</p>\n",
       "</div>"
      ],
      "text/plain": [
       "      user_id  month   mb_used  gb_used  duration  num_of_messages  \\\n",
       "0        1000   12.0   1901.47      2.0     124.0             11.0   \n",
       "1        1001    8.0   6919.15      7.0     182.0             30.0   \n",
       "2        1001    9.0  13314.82     14.0     315.0             44.0   \n",
       "3        1001   10.0  22330.49     22.0     393.0             53.0   \n",
       "4        1001   11.0  18504.30     19.0     426.0             36.0   \n",
       "...       ...    ...       ...      ...       ...              ...   \n",
       "2288     1470    8.0      0.00      0.0     580.0            141.0   \n",
       "2289     1470    9.0      0.00      0.0     471.0            130.0   \n",
       "2290     1470   10.0      0.00      0.0     459.0            145.0   \n",
       "2291     1470   11.0      0.00      0.0     632.0            156.0   \n",
       "2292     1470   12.0      0.00      0.0     592.0            153.0   \n",
       "\n",
       "                                                  city      plan  \\\n",
       "0                Atlanta-Sandy Springs-Roswell, GA MSA  ultimate   \n",
       "1                      Seattle-Tacoma-Bellevue, WA MSA      surf   \n",
       "2                      Seattle-Tacoma-Bellevue, WA MSA      surf   \n",
       "3                      Seattle-Tacoma-Bellevue, WA MSA      surf   \n",
       "4                      Seattle-Tacoma-Bellevue, WA MSA      surf   \n",
       "...                                                ...       ...   \n",
       "2288  Washington-Arlington-Alexandria, DC-VA-MD-WV MSA      surf   \n",
       "2289  Washington-Arlington-Alexandria, DC-VA-MD-WV MSA      surf   \n",
       "2290  Washington-Arlington-Alexandria, DC-VA-MD-WV MSA      surf   \n",
       "2291  Washington-Arlington-Alexandria, DC-VA-MD-WV MSA      surf   \n",
       "2292  Washington-Arlington-Alexandria, DC-VA-MD-WV MSA      surf   \n",
       "\n",
       "      total_revanue  \n",
       "0             70.00  \n",
       "1             20.00  \n",
       "2             20.00  \n",
       "3             93.00  \n",
       "4             60.00  \n",
       "...             ...  \n",
       "2288         113.40  \n",
       "2289         100.00  \n",
       "2290         115.00  \n",
       "2291         129.96  \n",
       "2292         125.76  \n",
       "\n",
       "[2293 rows x 9 columns]"
      ]
     },
     "metadata": {},
     "output_type": "display_data"
    }
   ],
   "source": [
    "df_merged2 = df_merged2[df_merged2['month'] != 0]\n",
    "display(df_merged2)"
   ]
  },
  {
   "cell_type": "markdown",
   "metadata": {},
   "source": [
    "We should check if anything else = 0 and doesn't make sense to us. "
   ]
  },
  {
   "cell_type": "code",
   "execution_count": 25,
   "metadata": {},
   "outputs": [
    {
     "data": {
      "text/html": [
       "<div>\n",
       "<style scoped>\n",
       "    .dataframe tbody tr th:only-of-type {\n",
       "        vertical-align: middle;\n",
       "    }\n",
       "\n",
       "    .dataframe tbody tr th {\n",
       "        vertical-align: top;\n",
       "    }\n",
       "\n",
       "    .dataframe thead th {\n",
       "        text-align: right;\n",
       "    }\n",
       "</style>\n",
       "<table border=\"1\" class=\"dataframe\">\n",
       "  <thead>\n",
       "    <tr style=\"text-align: right;\">\n",
       "      <th></th>\n",
       "      <th>user_id</th>\n",
       "      <th>month</th>\n",
       "      <th>mb_used</th>\n",
       "      <th>gb_used</th>\n",
       "      <th>duration</th>\n",
       "      <th>num_of_messages</th>\n",
       "      <th>city</th>\n",
       "      <th>plan</th>\n",
       "      <th>total_revanue</th>\n",
       "    </tr>\n",
       "  </thead>\n",
       "  <tbody>\n",
       "    <tr>\n",
       "      <th>count</th>\n",
       "      <td>2293.000000</td>\n",
       "      <td>2293.000000</td>\n",
       "      <td>2293.000000</td>\n",
       "      <td>2293.000000</td>\n",
       "      <td>2293.000000</td>\n",
       "      <td>2293.000000</td>\n",
       "      <td>2293</td>\n",
       "      <td>2293</td>\n",
       "      <td>2293.000000</td>\n",
       "    </tr>\n",
       "    <tr>\n",
       "      <th>unique</th>\n",
       "      <td>NaN</td>\n",
       "      <td>NaN</td>\n",
       "      <td>NaN</td>\n",
       "      <td>NaN</td>\n",
       "      <td>NaN</td>\n",
       "      <td>NaN</td>\n",
       "      <td>73</td>\n",
       "      <td>2</td>\n",
       "      <td>NaN</td>\n",
       "    </tr>\n",
       "    <tr>\n",
       "      <th>top</th>\n",
       "      <td>NaN</td>\n",
       "      <td>NaN</td>\n",
       "      <td>NaN</td>\n",
       "      <td>NaN</td>\n",
       "      <td>NaN</td>\n",
       "      <td>NaN</td>\n",
       "      <td>New York-Newark-Jersey City, NY-NJ-PA MSA</td>\n",
       "      <td>surf</td>\n",
       "      <td>NaN</td>\n",
       "    </tr>\n",
       "    <tr>\n",
       "      <th>freq</th>\n",
       "      <td>NaN</td>\n",
       "      <td>NaN</td>\n",
       "      <td>NaN</td>\n",
       "      <td>NaN</td>\n",
       "      <td>NaN</td>\n",
       "      <td>NaN</td>\n",
       "      <td>377</td>\n",
       "      <td>1573</td>\n",
       "      <td>NaN</td>\n",
       "    </tr>\n",
       "    <tr>\n",
       "      <th>mean</th>\n",
       "      <td>1246.075883</td>\n",
       "      <td>9.172700</td>\n",
       "      <td>16764.397606</td>\n",
       "      <td>16.870475</td>\n",
       "      <td>429.283471</td>\n",
       "      <td>33.166594</td>\n",
       "      <td>NaN</td>\n",
       "      <td>NaN</td>\n",
       "      <td>69.017553</td>\n",
       "    </tr>\n",
       "    <tr>\n",
       "      <th>std</th>\n",
       "      <td>143.051927</td>\n",
       "      <td>2.496386</td>\n",
       "      <td>7967.237527</td>\n",
       "      <td>7.796174</td>\n",
       "      <td>236.320077</td>\n",
       "      <td>34.070085</td>\n",
       "      <td>NaN</td>\n",
       "      <td>NaN</td>\n",
       "      <td>51.489127</td>\n",
       "    </tr>\n",
       "    <tr>\n",
       "      <th>min</th>\n",
       "      <td>1000.000000</td>\n",
       "      <td>1.000000</td>\n",
       "      <td>0.000000</td>\n",
       "      <td>0.000000</td>\n",
       "      <td>0.000000</td>\n",
       "      <td>0.000000</td>\n",
       "      <td>NaN</td>\n",
       "      <td>NaN</td>\n",
       "      <td>20.000000</td>\n",
       "    </tr>\n",
       "    <tr>\n",
       "      <th>25%</th>\n",
       "      <td>1122.000000</td>\n",
       "      <td>8.000000</td>\n",
       "      <td>12235.760000</td>\n",
       "      <td>12.000000</td>\n",
       "      <td>265.000000</td>\n",
       "      <td>3.000000</td>\n",
       "      <td>NaN</td>\n",
       "      <td>NaN</td>\n",
       "      <td>30.000000</td>\n",
       "    </tr>\n",
       "    <tr>\n",
       "      <th>50%</th>\n",
       "      <td>1245.000000</td>\n",
       "      <td>10.000000</td>\n",
       "      <td>16830.640000</td>\n",
       "      <td>17.000000</td>\n",
       "      <td>425.000000</td>\n",
       "      <td>26.000000</td>\n",
       "      <td>NaN</td>\n",
       "      <td>NaN</td>\n",
       "      <td>70.000000</td>\n",
       "    </tr>\n",
       "    <tr>\n",
       "      <th>75%</th>\n",
       "      <td>1368.000000</td>\n",
       "      <td>11.000000</td>\n",
       "      <td>20999.840000</td>\n",
       "      <td>21.000000</td>\n",
       "      <td>572.000000</td>\n",
       "      <td>51.000000</td>\n",
       "      <td>NaN</td>\n",
       "      <td>NaN</td>\n",
       "      <td>74.170000</td>\n",
       "    </tr>\n",
       "    <tr>\n",
       "      <th>max</th>\n",
       "      <td>1499.000000</td>\n",
       "      <td>12.000000</td>\n",
       "      <td>70931.590000</td>\n",
       "      <td>70.000000</td>\n",
       "      <td>1510.000000</td>\n",
       "      <td>266.000000</td>\n",
       "      <td>NaN</td>\n",
       "      <td>NaN</td>\n",
       "      <td>664.090000</td>\n",
       "    </tr>\n",
       "  </tbody>\n",
       "</table>\n",
       "</div>"
      ],
      "text/plain": [
       "            user_id        month       mb_used      gb_used     duration  \\\n",
       "count   2293.000000  2293.000000   2293.000000  2293.000000  2293.000000   \n",
       "unique          NaN          NaN           NaN          NaN          NaN   \n",
       "top             NaN          NaN           NaN          NaN          NaN   \n",
       "freq            NaN          NaN           NaN          NaN          NaN   \n",
       "mean    1246.075883     9.172700  16764.397606    16.870475   429.283471   \n",
       "std      143.051927     2.496386   7967.237527     7.796174   236.320077   \n",
       "min     1000.000000     1.000000      0.000000     0.000000     0.000000   \n",
       "25%     1122.000000     8.000000  12235.760000    12.000000   265.000000   \n",
       "50%     1245.000000    10.000000  16830.640000    17.000000   425.000000   \n",
       "75%     1368.000000    11.000000  20999.840000    21.000000   572.000000   \n",
       "max     1499.000000    12.000000  70931.590000    70.000000  1510.000000   \n",
       "\n",
       "        num_of_messages                                       city  plan  \\\n",
       "count       2293.000000                                       2293  2293   \n",
       "unique              NaN                                         73     2   \n",
       "top                 NaN  New York-Newark-Jersey City, NY-NJ-PA MSA  surf   \n",
       "freq                NaN                                        377  1573   \n",
       "mean          33.166594                                        NaN   NaN   \n",
       "std           34.070085                                        NaN   NaN   \n",
       "min            0.000000                                        NaN   NaN   \n",
       "25%            3.000000                                        NaN   NaN   \n",
       "50%           26.000000                                        NaN   NaN   \n",
       "75%           51.000000                                        NaN   NaN   \n",
       "max          266.000000                                        NaN   NaN   \n",
       "\n",
       "        total_revanue  \n",
       "count     2293.000000  \n",
       "unique            NaN  \n",
       "top               NaN  \n",
       "freq              NaN  \n",
       "mean        69.017553  \n",
       "std         51.489127  \n",
       "min         20.000000  \n",
       "25%         30.000000  \n",
       "50%         70.000000  \n",
       "75%         74.170000  \n",
       "max        664.090000  "
      ]
     },
     "execution_count": 25,
     "metadata": {},
     "output_type": "execute_result"
    }
   ],
   "source": [
    "df_merged2.describe(include = 'all')"
   ]
  },
  {
   "cell_type": "markdown",
   "metadata": {},
   "source": [
    "The only rows left with 0 values are call duration, data sessions and messages sent which I believe can be the true stroy, so I will leave it as is. "
   ]
  },
  {
   "cell_type": "markdown",
   "metadata": {},
   "source": [
    "## Step 3. Data Analysis"
   ]
  },
  {
   "cell_type": "code",
   "execution_count": 26,
   "metadata": {},
   "outputs": [],
   "source": [
    "#split the merged data frame into 2 - for each plan\n",
    "df_surf = df_merged2[df_merged2['plan'] == 'surf']\n",
    "df_ultimate = df_merged2[df_merged2['plan'] == 'ultimate']"
   ]
  },
  {
   "cell_type": "code",
   "execution_count": 27,
   "metadata": {},
   "outputs": [
    {
     "data": {
      "text/html": [
       "<div>\n",
       "<style scoped>\n",
       "    .dataframe tbody tr th:only-of-type {\n",
       "        vertical-align: middle;\n",
       "    }\n",
       "\n",
       "    .dataframe tbody tr th {\n",
       "        vertical-align: top;\n",
       "    }\n",
       "\n",
       "    .dataframe thead th {\n",
       "        text-align: right;\n",
       "    }\n",
       "</style>\n",
       "<table border=\"1\" class=\"dataframe\">\n",
       "  <thead>\n",
       "    <tr style=\"text-align: right;\">\n",
       "      <th></th>\n",
       "      <th>user_id</th>\n",
       "      <th>month</th>\n",
       "      <th>mb_used</th>\n",
       "      <th>gb_used</th>\n",
       "      <th>duration</th>\n",
       "      <th>num_of_messages</th>\n",
       "      <th>total_revanue</th>\n",
       "    </tr>\n",
       "  </thead>\n",
       "  <tbody>\n",
       "    <tr>\n",
       "      <th>count</th>\n",
       "      <td>1573.000000</td>\n",
       "      <td>1573.000000</td>\n",
       "      <td>1573.000000</td>\n",
       "      <td>1573.000000</td>\n",
       "      <td>1573.000000</td>\n",
       "      <td>1573.000000</td>\n",
       "      <td>1573.000000</td>\n",
       "    </tr>\n",
       "    <tr>\n",
       "      <th>mean</th>\n",
       "      <td>1242.755245</td>\n",
       "      <td>9.182454</td>\n",
       "      <td>16558.283490</td>\n",
       "      <td>16.670693</td>\n",
       "      <td>428.749523</td>\n",
       "      <td>31.159568</td>\n",
       "      <td>67.508741</td>\n",
       "    </tr>\n",
       "    <tr>\n",
       "      <th>std</th>\n",
       "      <td>139.227939</td>\n",
       "      <td>2.468199</td>\n",
       "      <td>8013.513327</td>\n",
       "      <td>7.847522</td>\n",
       "      <td>234.453150</td>\n",
       "      <td>33.566717</td>\n",
       "      <td>61.633949</td>\n",
       "    </tr>\n",
       "    <tr>\n",
       "      <th>min</th>\n",
       "      <td>1001.000000</td>\n",
       "      <td>1.000000</td>\n",
       "      <td>0.000000</td>\n",
       "      <td>0.000000</td>\n",
       "      <td>0.000000</td>\n",
       "      <td>0.000000</td>\n",
       "      <td>20.000000</td>\n",
       "    </tr>\n",
       "    <tr>\n",
       "      <th>25%</th>\n",
       "      <td>1120.000000</td>\n",
       "      <td>8.000000</td>\n",
       "      <td>11986.520000</td>\n",
       "      <td>12.000000</td>\n",
       "      <td>272.000000</td>\n",
       "      <td>3.000000</td>\n",
       "      <td>20.000000</td>\n",
       "    </tr>\n",
       "    <tr>\n",
       "      <th>50%</th>\n",
       "      <td>1245.000000</td>\n",
       "      <td>10.000000</td>\n",
       "      <td>16829.310000</td>\n",
       "      <td>17.000000</td>\n",
       "      <td>425.000000</td>\n",
       "      <td>24.000000</td>\n",
       "      <td>50.000000</td>\n",
       "    </tr>\n",
       "    <tr>\n",
       "      <th>75%</th>\n",
       "      <td>1358.000000</td>\n",
       "      <td>11.000000</td>\n",
       "      <td>20999.610000</td>\n",
       "      <td>21.000000</td>\n",
       "      <td>576.000000</td>\n",
       "      <td>47.000000</td>\n",
       "      <td>90.000000</td>\n",
       "    </tr>\n",
       "    <tr>\n",
       "      <th>max</th>\n",
       "      <td>1499.000000</td>\n",
       "      <td>12.000000</td>\n",
       "      <td>70931.590000</td>\n",
       "      <td>70.000000</td>\n",
       "      <td>1510.000000</td>\n",
       "      <td>266.000000</td>\n",
       "      <td>664.090000</td>\n",
       "    </tr>\n",
       "  </tbody>\n",
       "</table>\n",
       "</div>"
      ],
      "text/plain": [
       "           user_id        month       mb_used      gb_used     duration  \\\n",
       "count  1573.000000  1573.000000   1573.000000  1573.000000  1573.000000   \n",
       "mean   1242.755245     9.182454  16558.283490    16.670693   428.749523   \n",
       "std     139.227939     2.468199   8013.513327     7.847522   234.453150   \n",
       "min    1001.000000     1.000000      0.000000     0.000000     0.000000   \n",
       "25%    1120.000000     8.000000  11986.520000    12.000000   272.000000   \n",
       "50%    1245.000000    10.000000  16829.310000    17.000000   425.000000   \n",
       "75%    1358.000000    11.000000  20999.610000    21.000000   576.000000   \n",
       "max    1499.000000    12.000000  70931.590000    70.000000  1510.000000   \n",
       "\n",
       "       num_of_messages  total_revanue  \n",
       "count      1573.000000    1573.000000  \n",
       "mean         31.159568      67.508741  \n",
       "std          33.566717      61.633949  \n",
       "min           0.000000      20.000000  \n",
       "25%           3.000000      20.000000  \n",
       "50%          24.000000      50.000000  \n",
       "75%          47.000000      90.000000  \n",
       "max         266.000000     664.090000  "
      ]
     },
     "metadata": {},
     "output_type": "display_data"
    }
   ],
   "source": [
    "#learn more about the merged data frame for 'surf' plan users\n",
    "display(df_surf.describe())"
   ]
  },
  {
   "cell_type": "code",
   "execution_count": 28,
   "metadata": {},
   "outputs": [
    {
     "data": {
      "text/html": [
       "<div>\n",
       "<style scoped>\n",
       "    .dataframe tbody tr th:only-of-type {\n",
       "        vertical-align: middle;\n",
       "    }\n",
       "\n",
       "    .dataframe tbody tr th {\n",
       "        vertical-align: top;\n",
       "    }\n",
       "\n",
       "    .dataframe thead th {\n",
       "        text-align: right;\n",
       "    }\n",
       "</style>\n",
       "<table border=\"1\" class=\"dataframe\">\n",
       "  <thead>\n",
       "    <tr style=\"text-align: right;\">\n",
       "      <th></th>\n",
       "      <th>user_id</th>\n",
       "      <th>month</th>\n",
       "      <th>mb_used</th>\n",
       "      <th>gb_used</th>\n",
       "      <th>duration</th>\n",
       "      <th>num_of_messages</th>\n",
       "      <th>total_revanue</th>\n",
       "    </tr>\n",
       "  </thead>\n",
       "  <tbody>\n",
       "    <tr>\n",
       "      <th>count</th>\n",
       "      <td>720.000000</td>\n",
       "      <td>720.000000</td>\n",
       "      <td>720.000000</td>\n",
       "      <td>720.000000</td>\n",
       "      <td>720.000000</td>\n",
       "      <td>720.000000</td>\n",
       "      <td>720.000000</td>\n",
       "    </tr>\n",
       "    <tr>\n",
       "      <th>mean</th>\n",
       "      <td>1253.330556</td>\n",
       "      <td>9.151389</td>\n",
       "      <td>17214.699694</td>\n",
       "      <td>17.306944</td>\n",
       "      <td>430.450000</td>\n",
       "      <td>37.551389</td>\n",
       "      <td>72.313889</td>\n",
       "    </tr>\n",
       "    <tr>\n",
       "      <th>std</th>\n",
       "      <td>150.915644</td>\n",
       "      <td>2.558495</td>\n",
       "      <td>7851.897435</td>\n",
       "      <td>7.670108</td>\n",
       "      <td>240.508762</td>\n",
       "      <td>34.767179</td>\n",
       "      <td>11.395108</td>\n",
       "    </tr>\n",
       "    <tr>\n",
       "      <th>min</th>\n",
       "      <td>1000.000000</td>\n",
       "      <td>1.000000</td>\n",
       "      <td>0.000000</td>\n",
       "      <td>0.000000</td>\n",
       "      <td>0.000000</td>\n",
       "      <td>0.000000</td>\n",
       "      <td>70.000000</td>\n",
       "    </tr>\n",
       "    <tr>\n",
       "      <th>25%</th>\n",
       "      <td>1126.000000</td>\n",
       "      <td>8.000000</td>\n",
       "      <td>12666.955000</td>\n",
       "      <td>13.000000</td>\n",
       "      <td>260.000000</td>\n",
       "      <td>7.000000</td>\n",
       "      <td>70.000000</td>\n",
       "    </tr>\n",
       "    <tr>\n",
       "      <th>50%</th>\n",
       "      <td>1241.500000</td>\n",
       "      <td>10.000000</td>\n",
       "      <td>16858.340000</td>\n",
       "      <td>17.000000</td>\n",
       "      <td>424.000000</td>\n",
       "      <td>30.000000</td>\n",
       "      <td>70.000000</td>\n",
       "    </tr>\n",
       "    <tr>\n",
       "      <th>75%</th>\n",
       "      <td>1401.000000</td>\n",
       "      <td>11.000000</td>\n",
       "      <td>21014.527500</td>\n",
       "      <td>21.000000</td>\n",
       "      <td>565.250000</td>\n",
       "      <td>61.000000</td>\n",
       "      <td>70.000000</td>\n",
       "    </tr>\n",
       "    <tr>\n",
       "      <th>max</th>\n",
       "      <td>1497.000000</td>\n",
       "      <td>12.000000</td>\n",
       "      <td>46595.330000</td>\n",
       "      <td>46.000000</td>\n",
       "      <td>1369.000000</td>\n",
       "      <td>166.000000</td>\n",
       "      <td>182.000000</td>\n",
       "    </tr>\n",
       "  </tbody>\n",
       "</table>\n",
       "</div>"
      ],
      "text/plain": [
       "           user_id       month       mb_used     gb_used     duration  \\\n",
       "count   720.000000  720.000000    720.000000  720.000000   720.000000   \n",
       "mean   1253.330556    9.151389  17214.699694   17.306944   430.450000   \n",
       "std     150.915644    2.558495   7851.897435    7.670108   240.508762   \n",
       "min    1000.000000    1.000000      0.000000    0.000000     0.000000   \n",
       "25%    1126.000000    8.000000  12666.955000   13.000000   260.000000   \n",
       "50%    1241.500000   10.000000  16858.340000   17.000000   424.000000   \n",
       "75%    1401.000000   11.000000  21014.527500   21.000000   565.250000   \n",
       "max    1497.000000   12.000000  46595.330000   46.000000  1369.000000   \n",
       "\n",
       "       num_of_messages  total_revanue  \n",
       "count       720.000000     720.000000  \n",
       "mean         37.551389      72.313889  \n",
       "std          34.767179      11.395108  \n",
       "min           0.000000      70.000000  \n",
       "25%           7.000000      70.000000  \n",
       "50%          30.000000      70.000000  \n",
       "75%          61.000000      70.000000  \n",
       "max         166.000000     182.000000  "
      ]
     },
     "metadata": {},
     "output_type": "display_data"
    }
   ],
   "source": [
    "#learn more about the merged data frame for 'ultimate' plan users\n",
    "display(df_ultimate.describe())"
   ]
  },
  {
   "cell_type": "markdown",
   "metadata": {},
   "source": [
    "When looking at the data description, first we can see that the amount of users in the surf plan is almost twice the amount of the ultimate plan, which makes sense because there's a big difference in the plan fee (20 and 70) people will not rush into spending 70 $ as the basic plan fee.\n",
    "It seems like users from the 'surf' plan which is suppose to be for users that spend less time on their phones are actually spending more (or the same).\n",
    "The maximum value for messgaes, mb_used and duration of calls per month is actually higher in the 'surf' plan. The average value is similar for these columns in both plans. \n",
    "Also we can see that the mean values and median values for duration, mb_used and num_of_messages are pretty close so we will probably get normal distribution plots. \n",
    "I'll look in the histograms for each plan to see if we can desribe the users of each plan better."
   ]
  },
  {
   "cell_type": "code",
   "execution_count": 29,
   "metadata": {},
   "outputs": [
    {
     "data": {
      "image/png": "[encoded data removed]",
      "text/plain": [
       "<Figure size 576x576 with 1 Axes>"
      ]
     },
     "metadata": {
      "needs_background": "light"
     },
     "output_type": "display_data"
    }
   ],
   "source": [
    "#plotting histogram\n",
    "#calls duration\n",
    "plt.figure(figsize=(8,8))\n",
    "sns.histplot(df_merged2,x='duration',hue='plan')\n",
    "plt.title('Monthly calls duration histogram')\n",
    "plt.xlabel('Calls duration [minutes]')\n",
    "plt.show()"
   ]
  },
  {
   "cell_type": "code",
   "execution_count": 30,
   "metadata": {},
   "outputs": [
    {
     "data": {
      "image/png": "[encoded data removed]",
      "text/plain": [
       "<Figure size 576x576 with 1 Axes>"
      ]
     },
     "metadata": {
      "needs_background": "light"
     },
     "output_type": "display_data"
    }
   ],
   "source": [
    "#plotting histogram \n",
    "#mb_used\n",
    "plt.figure(figsize=(8,8))\n",
    "sns.histplot(df_merged2,x='mb_used',hue='plan')\n",
    "plt.title('Monthly data sessions volume histogram')\n",
    "plt.xlabel('Data sessions volume [Mb]')\n",
    "plt.show()"
   ]
  },
  {
   "cell_type": "code",
   "execution_count": 31,
   "metadata": {},
   "outputs": [
    {
     "data": {
      "image/png": "[encoded data removed]",
      "text/plain": [
       "<Figure size 576x576 with 1 Axes>"
      ]
     },
     "metadata": {
      "needs_background": "light"
     },
     "output_type": "display_data"
    }
   ],
   "source": [
    "#plotting histogram for surf users data\n",
    "#number of messages\n",
    "plt.figure(figsize=(8,8))\n",
    "sns.histplot(df_merged2,x='num_of_messages',hue='plan')\n",
    "plt.title('Number of monthly messages histogram')\n",
    "plt.xlabel('Number of messgaes per month')\n",
    "plt.show()"
   ]
  },
  {
   "cell_type": "code",
   "execution_count": 32,
   "metadata": {},
   "outputs": [
    {
     "name": "stdout",
     "output_type": "stream",
     "text": [
      "The variance of calls duration for Surf plan users is: 54968.27946065038\n",
      "The variance of calls duration for Ultimate plan users is: 57844.46481223922\n",
      "The variance of number of messages for Surf plan users is: 1126.7245219504068\n",
      "The variance of  number of messages for Ultimate plan users is: 1208.7567435481378\n",
      "The variance of data sessions for Surf plan users is: 64216395.838027954\n",
      "The variance of  data sessions for Ultimate plan users is: 61652293.32385832\n"
     ]
    }
   ],
   "source": [
    "#Calculating the variance\n",
    "print('The variance of calls duration for Surf plan users is:' ,df_surf.duration.var())\n",
    "print('The variance of calls duration for Ultimate plan users is:' ,df_ultimate.duration.var())\n",
    "print('The variance of number of messages for Surf plan users is:' ,df_surf.num_of_messages.var())\n",
    "print('The variance of  number of messages for Ultimate plan users is:' ,df_ultimate.num_of_messages.var())\n",
    "print('The variance of data sessions for Surf plan users is:' ,df_surf.mb_used.var())\n",
    "print('The variance of  data sessions for Ultimate plan users is:' ,df_ultimate.mb_used.var())"
   ]
  },
  {
   "cell_type": "markdown",
   "metadata": {},
   "source": [
    "When looking at the histograms of the calls duration, messages and data sessions we can see that both plans have similar distribution.\n",
    "We have less ultimate users so the count is smaller.\n",
    "This may raise a questions that maybe if their phone usage is similar which of the plans is better fitted for their use? Maybe it's something in the middle...\n",
    "\n",
    "The histogram for number of message can clearly show that no one ( in both plans) is even close to reaching the 'Ultimate' plan limit of 1000 texts. Same for call duration, the highest we get is hald of the limit of the Ultimate plan limit for call duration. \n",
    "The most used thing for both plans users is the internet, even some of the calls we make today are using the data volume and not the call duration minutes (on Whatsapp, Zoom, facetime etc') and also messages can be sent throught the internet and not through the regular texts in the pre paid plan (on Whatsapp, facebook messanger, etc'). The telecom company should invest on enlarging the data volume offered and minimizing the calls but mostly the messages. \n",
    "The Ultimate plan can be adjusted and maybe this way we can lower it's basic fee to draw more clients. "
   ]
  },
  {
   "cell_type": "markdown",
   "metadata": {},
   "source": [
    "## Step 4. Test the hypotheses"
   ]
  },
  {
   "cell_type": "markdown",
   "metadata": {},
   "source": [
    "I will test the hypotheses that the average revenue from users of Ultimate and Surf calling plans differs.\n",
    "\n",
    "The Null hypotheses will be that the average revanue is the same, I will use alpha = 0.05 which is the standard choice. \n",
    "\n",
    "The alternative hypothesis will be that the average revanue for the Ultimate and Surf plans are different.  \n",
    "\n",
    "I will use two sided t-test. first I will run a levene test to check wether these two groups have equal variance or not so the t - test will be more accurate.  "
   ]
  },
  {
   "cell_type": "code",
   "execution_count": 33,
   "metadata": {},
   "outputs": [
    {
     "data": {
      "text/plain": [
       "plan\n",
       "surf        67.508741\n",
       "ultimate    72.313889\n",
       "Name: total_revanue, dtype: float64"
      ]
     },
     "execution_count": 33,
     "metadata": {},
     "output_type": "execute_result"
    }
   ],
   "source": [
    "#first review of the mean revanue for each group\n",
    "df_merged2.groupby(['plan'])['total_revanue'].mean()"
   ]
  },
  {
   "cell_type": "markdown",
   "metadata": {},
   "source": [
    "We can see there is a difference in the mean revanue between the groups, let's make sure it's statistically proven."
   ]
  },
  {
   "cell_type": "code",
   "execution_count": 34,
   "metadata": {},
   "outputs": [],
   "source": [
    "# devide the data to 2 groups with total_revanue column only\n",
    "surf_rev = df_surf['total_revanue']\n",
    "ultimate_rev = df_ultimate['total_revanue']"
   ]
  },
  {
   "cell_type": "code",
   "execution_count": 35,
   "metadata": {},
   "outputs": [],
   "source": [
    "#create a function to check for equal variance and perform t-test\n",
    "def t_test(sample1,sample2,alpha=0.05):\n",
    "    p_value_levene=stats.levene(sample1, sample2).pvalue.astype(int)\n",
    "    if p_value_levene<alpha:\n",
    "        equal_v=False\n",
    "    else:\n",
    "        equal_v=True\n",
    "    p_value=stats.ttest_ind(sample1, sample2,nan_policy='omit',equal_var=equal_v).pvalue.astype(int)\n",
    "    if p_value<alpha:\n",
    "        print('Reject H0: average of sample1 is not equal to average of sample2')\n",
    "    else:\n",
    "        print( \"Fail to Reject H0: We don't have enough evidence to say that averages of sample1 \\\n",
    "  and sample2 are not the same\") "
   ]
  },
  {
   "cell_type": "code",
   "execution_count": 36,
   "metadata": {},
   "outputs": [
    {
     "name": "stdout",
     "output_type": "stream",
     "text": [
      "Reject H0: average of sample1 is not equal to average of sample2\n"
     ]
    }
   ],
   "source": [
    "#use the function to perform a t-test on the mean total_revanue of each plan group\n",
    "t_test(surf_rev, ultimate_rev)"
   ]
  },
  {
   "cell_type": "markdown",
   "metadata": {},
   "source": [
    "As we suspected, we can reject the null hypothsis - the mean revanue of users in the surf plan is different than the mean revenue of the users in the ultimate plan. "
   ]
  },
  {
   "cell_type": "markdown",
   "metadata": {},
   "source": [
    "Now I will test the hypotheses that the average revenue from users who live in the NY-NJ region and users from other regions differs.\n",
    "\n",
    "The Null hypothesis will be that the average revanue is the same, I will use alpha = 0.05 which is the standard choice. \n",
    "\n",
    "The alternative hypothesis will be that the average revanue from users in the NY-NJ region is defferent than users from other regions. \n",
    "\n",
    "I will use two sided t-test. first I will run a levene test to check wether these two groups have equal variance or not so the t - test will be more accurate. "
   ]
  },
  {
   "cell_type": "code",
   "execution_count": 37,
   "metadata": {},
   "outputs": [
    {
     "data": {
      "text/html": [
       "<div>\n",
       "<style scoped>\n",
       "    .dataframe tbody tr th:only-of-type {\n",
       "        vertical-align: middle;\n",
       "    }\n",
       "\n",
       "    .dataframe tbody tr th {\n",
       "        vertical-align: top;\n",
       "    }\n",
       "\n",
       "    .dataframe thead th {\n",
       "        text-align: right;\n",
       "    }\n",
       "</style>\n",
       "<table border=\"1\" class=\"dataframe\">\n",
       "  <thead>\n",
       "    <tr style=\"text-align: right;\">\n",
       "      <th></th>\n",
       "      <th>user_id</th>\n",
       "      <th>month</th>\n",
       "      <th>mb_used</th>\n",
       "      <th>gb_used</th>\n",
       "      <th>duration</th>\n",
       "      <th>num_of_messages</th>\n",
       "      <th>city</th>\n",
       "      <th>plan</th>\n",
       "      <th>total_revanue</th>\n",
       "    </tr>\n",
       "  </thead>\n",
       "  <tbody>\n",
       "    <tr>\n",
       "      <th>56</th>\n",
       "      <td>1014</td>\n",
       "      <td>11.0</td>\n",
       "      <td>1175.59</td>\n",
       "      <td>2.0</td>\n",
       "      <td>163.0</td>\n",
       "      <td>9.0</td>\n",
       "      <td>New York-Newark-Jersey City, NY-NJ-PA MSA</td>\n",
       "      <td>surf</td>\n",
       "      <td>20.00</td>\n",
       "    </tr>\n",
       "    <tr>\n",
       "      <th>57</th>\n",
       "      <td>1014</td>\n",
       "      <td>12.0</td>\n",
       "      <td>7792.41</td>\n",
       "      <td>8.0</td>\n",
       "      <td>1114.0</td>\n",
       "      <td>64.0</td>\n",
       "      <td>New York-Newark-Jersey City, NY-NJ-PA MSA</td>\n",
       "      <td>surf</td>\n",
       "      <td>52.42</td>\n",
       "    </tr>\n",
       "    <tr>\n",
       "      <th>75</th>\n",
       "      <td>1022</td>\n",
       "      <td>5.0</td>\n",
       "      <td>4908.08</td>\n",
       "      <td>5.0</td>\n",
       "      <td>302.0</td>\n",
       "      <td>0.0</td>\n",
       "      <td>New York-Newark-Jersey City, NY-NJ-PA MSA</td>\n",
       "      <td>surf</td>\n",
       "      <td>20.00</td>\n",
       "    </tr>\n",
       "    <tr>\n",
       "      <th>76</th>\n",
       "      <td>1022</td>\n",
       "      <td>6.0</td>\n",
       "      <td>23436.48</td>\n",
       "      <td>23.0</td>\n",
       "      <td>490.0</td>\n",
       "      <td>0.0</td>\n",
       "      <td>New York-Newark-Jersey City, NY-NJ-PA MSA</td>\n",
       "      <td>surf</td>\n",
       "      <td>100.00</td>\n",
       "    </tr>\n",
       "    <tr>\n",
       "      <th>77</th>\n",
       "      <td>1022</td>\n",
       "      <td>7.0</td>\n",
       "      <td>9933.15</td>\n",
       "      <td>10.0</td>\n",
       "      <td>475.0</td>\n",
       "      <td>0.0</td>\n",
       "      <td>New York-Newark-Jersey City, NY-NJ-PA MSA</td>\n",
       "      <td>surf</td>\n",
       "      <td>20.00</td>\n",
       "    </tr>\n",
       "  </tbody>\n",
       "</table>\n",
       "</div>"
      ],
      "text/plain": [
       "    user_id  month   mb_used  gb_used  duration  num_of_messages  \\\n",
       "56     1014   11.0   1175.59      2.0     163.0              9.0   \n",
       "57     1014   12.0   7792.41      8.0    1114.0             64.0   \n",
       "75     1022    5.0   4908.08      5.0     302.0              0.0   \n",
       "76     1022    6.0  23436.48     23.0     490.0              0.0   \n",
       "77     1022    7.0   9933.15     10.0     475.0              0.0   \n",
       "\n",
       "                                         city  plan  total_revanue  \n",
       "56  New York-Newark-Jersey City, NY-NJ-PA MSA  surf          20.00  \n",
       "57  New York-Newark-Jersey City, NY-NJ-PA MSA  surf          52.42  \n",
       "75  New York-Newark-Jersey City, NY-NJ-PA MSA  surf          20.00  \n",
       "76  New York-Newark-Jersey City, NY-NJ-PA MSA  surf         100.00  \n",
       "77  New York-Newark-Jersey City, NY-NJ-PA MSA  surf          20.00  "
      ]
     },
     "metadata": {},
     "output_type": "display_data"
    },
    {
     "data": {
      "text/html": [
       "<div>\n",
       "<style scoped>\n",
       "    .dataframe tbody tr th:only-of-type {\n",
       "        vertical-align: middle;\n",
       "    }\n",
       "\n",
       "    .dataframe tbody tr th {\n",
       "        vertical-align: top;\n",
       "    }\n",
       "\n",
       "    .dataframe thead th {\n",
       "        text-align: right;\n",
       "    }\n",
       "</style>\n",
       "<table border=\"1\" class=\"dataframe\">\n",
       "  <thead>\n",
       "    <tr style=\"text-align: right;\">\n",
       "      <th></th>\n",
       "      <th>user_id</th>\n",
       "      <th>month</th>\n",
       "      <th>mb_used</th>\n",
       "      <th>gb_used</th>\n",
       "      <th>duration</th>\n",
       "      <th>num_of_messages</th>\n",
       "      <th>city</th>\n",
       "      <th>plan</th>\n",
       "      <th>total_revanue</th>\n",
       "    </tr>\n",
       "  </thead>\n",
       "  <tbody>\n",
       "    <tr>\n",
       "      <th>0</th>\n",
       "      <td>1000</td>\n",
       "      <td>12.0</td>\n",
       "      <td>1901.47</td>\n",
       "      <td>2.0</td>\n",
       "      <td>124.0</td>\n",
       "      <td>11.0</td>\n",
       "      <td>Atlanta-Sandy Springs-Roswell, GA MSA</td>\n",
       "      <td>ultimate</td>\n",
       "      <td>70.0</td>\n",
       "    </tr>\n",
       "    <tr>\n",
       "      <th>1</th>\n",
       "      <td>1001</td>\n",
       "      <td>8.0</td>\n",
       "      <td>6919.15</td>\n",
       "      <td>7.0</td>\n",
       "      <td>182.0</td>\n",
       "      <td>30.0</td>\n",
       "      <td>Seattle-Tacoma-Bellevue, WA MSA</td>\n",
       "      <td>surf</td>\n",
       "      <td>20.0</td>\n",
       "    </tr>\n",
       "    <tr>\n",
       "      <th>2</th>\n",
       "      <td>1001</td>\n",
       "      <td>9.0</td>\n",
       "      <td>13314.82</td>\n",
       "      <td>14.0</td>\n",
       "      <td>315.0</td>\n",
       "      <td>44.0</td>\n",
       "      <td>Seattle-Tacoma-Bellevue, WA MSA</td>\n",
       "      <td>surf</td>\n",
       "      <td>20.0</td>\n",
       "    </tr>\n",
       "    <tr>\n",
       "      <th>3</th>\n",
       "      <td>1001</td>\n",
       "      <td>10.0</td>\n",
       "      <td>22330.49</td>\n",
       "      <td>22.0</td>\n",
       "      <td>393.0</td>\n",
       "      <td>53.0</td>\n",
       "      <td>Seattle-Tacoma-Bellevue, WA MSA</td>\n",
       "      <td>surf</td>\n",
       "      <td>93.0</td>\n",
       "    </tr>\n",
       "    <tr>\n",
       "      <th>4</th>\n",
       "      <td>1001</td>\n",
       "      <td>11.0</td>\n",
       "      <td>18504.30</td>\n",
       "      <td>19.0</td>\n",
       "      <td>426.0</td>\n",
       "      <td>36.0</td>\n",
       "      <td>Seattle-Tacoma-Bellevue, WA MSA</td>\n",
       "      <td>surf</td>\n",
       "      <td>60.0</td>\n",
       "    </tr>\n",
       "  </tbody>\n",
       "</table>\n",
       "</div>"
      ],
      "text/plain": [
       "   user_id  month   mb_used  gb_used  duration  num_of_messages  \\\n",
       "0     1000   12.0   1901.47      2.0     124.0             11.0   \n",
       "1     1001    8.0   6919.15      7.0     182.0             30.0   \n",
       "2     1001    9.0  13314.82     14.0     315.0             44.0   \n",
       "3     1001   10.0  22330.49     22.0     393.0             53.0   \n",
       "4     1001   11.0  18504.30     19.0     426.0             36.0   \n",
       "\n",
       "                                    city      plan  total_revanue  \n",
       "0  Atlanta-Sandy Springs-Roswell, GA MSA  ultimate           70.0  \n",
       "1        Seattle-Tacoma-Bellevue, WA MSA      surf           20.0  \n",
       "2        Seattle-Tacoma-Bellevue, WA MSA      surf           20.0  \n",
       "3        Seattle-Tacoma-Bellevue, WA MSA      surf           93.0  \n",
       "4        Seattle-Tacoma-Bellevue, WA MSA      surf           60.0  "
      ]
     },
     "metadata": {},
     "output_type": "display_data"
    }
   ],
   "source": [
    "# devide the data to 2 groups: NY-NJ region and other regions\n",
    "\n",
    "NYNJ_reg = df_merged2[df_merged2['city'].str.contains(\"NY\" or \"NJ\")]\n",
    "display(NYNJ_reg.head())\n",
    "other_reg = df_merged2[~df_merged2['city'].str.contains(\"NY\" or \"NJ\")]\n",
    "display(other_reg.head())"
   ]
  },
  {
   "cell_type": "code",
   "execution_count": 38,
   "metadata": {},
   "outputs": [
    {
     "name": "stdout",
     "output_type": "stream",
     "text": [
      "64.92110837438423\n",
      "69.89892951775305\n"
     ]
    }
   ],
   "source": [
    "#look into the mean of revanue for each group of regions\n",
    "print(NYNJ_reg['total_revanue'].mean())\n",
    "print(other_reg['total_revanue'].mean())"
   ]
  },
  {
   "cell_type": "markdown",
   "metadata": {},
   "source": [
    "There is a difference bewtween the groups but I'm not sure if it's considered to be significant. we will perform a t-test again. "
   ]
  },
  {
   "cell_type": "code",
   "execution_count": 39,
   "metadata": {},
   "outputs": [],
   "source": [
    "#first create samples of the data\n",
    "NYNJ_rev = NYNJ_reg['total_revanue']\n",
    "other_rev = other_reg['total_revanue']"
   ]
  },
  {
   "cell_type": "code",
   "execution_count": 40,
   "metadata": {},
   "outputs": [
    {
     "name": "stdout",
     "output_type": "stream",
     "text": [
      "Reject H0: average of sample1 is not equal to average of sample2\n"
     ]
    }
   ],
   "source": [
    "t_test(NYNJ_rev, other_rev)"
   ]
  },
  {
   "cell_type": "markdown",
   "metadata": {},
   "source": [
    "As we suspected again, we can reject the null hypothsis - the mean revanue of users in the NY-NJ region is different than the mean revenue of the users in other regions. "
   ]
  },
  {
   "cell_type": "markdown",
   "metadata": {},
   "source": [
    "## Conclusions"
   ]
  },
  {
   "cell_type": "markdown",
   "metadata": {},
   "source": [
    "In the project I received data on 500 Megaline clients: who the clients are, where they're from, which plan they use (surf or Ultimate), the number of calls they made, data sessions they used and text messages they sent in 2018. \n",
    "The purporse of this project was to analyze clients' behavior and determine which prepaid plan out of the two brings in more revenue.\n",
    "\n",
    "At first we looked at the data received, there were no missing values, we didn't convert any data type and the only thing noteable was the calls with duration of 0 which might have been a really quick call that in the server was saved as 0 minutes, I droped these rows since a call duration will not add to my monthly total calculations in the next step. \n",
    "\n",
    "In order to prepare the data for analysis I calculated the monthly number of massages each user sent, the monthly call duration each user made (by summing all the call after I rounded up the seconds to minutes of each seperate call) and the total data sessions used (by summing up the total per month and then rounding up the Mb to Gb). \n",
    "\n",
    "I created a function for calculating the total revanue for each user depending on the basic plan fee and the additional fees for calls, texts and data which is over the included in the plan. \n",
    "\n",
    "I merged all the data I want to analyze into one table and started the investigation. \n",
    "\n",
    "I plotted histograms for call duration, number of messages and data used by the users of each plan and learned that the data is distributed pretty similarly, also when looking at the data description tables the numbers seems pretty similar. The majority of the users of both plans use their phone pretty much the same amount of time. \n",
    "\n",
    "In order to determine whether the average revanue in both plan groups is the same or not, I performed a two sided t-test and I learned that the average revanue differs between the groups. The average is higher for the Ultimate group, mostly because the basic fee is much high. Though it looks like most of the clients are of the surf plan and since the revanue is not only the average per month but also the amount of customers maybe it's worth to lower a bit the basic fee of the Ultimate group so it will convince more people to join this plan. \n",
    "\n",
    "As for the difference between clients in the NY-NJ region and other regions, I thought the difference in the average value is not significatant but again, using a t-test we can see that the averages differ and clients in other regions make a higher revanue for Megaline. "
   ]
  }
 ],
 "metadata": {
  "ExecuteTimeLog": [
   {
    "duration": 738,
    "start_time": "2021-11-03T09:32:05.978Z"
   },
   {
    "duration": 1025,
    "start_time": "2021-11-03T09:34:08.951Z"
   },
   {
    "duration": 22,
    "start_time": "2021-11-03T09:35:09.238Z"
   },
   {
    "duration": 11,
    "start_time": "2021-11-03T09:35:27.748Z"
   },
   {
    "duration": 53,
    "start_time": "2021-11-03T09:36:30.383Z"
   },
   {
    "duration": 58,
    "start_time": "2021-11-03T09:37:46.563Z"
   },
   {
    "duration": 70,
    "start_time": "2021-11-03T09:40:44.700Z"
   },
   {
    "duration": 6811,
    "start_time": "2021-11-03T09:51:00.815Z"
   },
   {
    "duration": 8,
    "start_time": "2021-11-03T09:51:10.216Z"
   },
   {
    "duration": 7,
    "start_time": "2021-11-03T09:51:27.017Z"
   },
   {
    "duration": 6,
    "start_time": "2021-11-03T09:53:41.706Z"
   },
   {
    "duration": 9,
    "start_time": "2021-11-03T09:54:27.594Z"
   },
   {
    "duration": 619,
    "start_time": "2021-11-05T12:28:13.055Z"
   },
   {
    "duration": 308,
    "start_time": "2021-11-05T12:28:13.676Z"
   },
   {
    "duration": 41,
    "start_time": "2021-11-05T12:28:13.986Z"
   },
   {
    "duration": 58,
    "start_time": "2021-11-05T12:28:14.028Z"
   },
   {
    "duration": 4,
    "start_time": "2021-11-05T12:28:14.088Z"
   },
   {
    "duration": 98,
    "start_time": "2021-11-05T12:31:25.300Z"
   },
   {
    "duration": 323,
    "start_time": "2021-11-05T12:39:33.260Z"
   },
   {
    "duration": 544,
    "start_time": "2021-11-06T10:48:57.995Z"
   },
   {
    "duration": 283,
    "start_time": "2021-11-06T10:48:58.541Z"
   },
   {
    "duration": 38,
    "start_time": "2021-11-06T10:48:58.826Z"
   },
   {
    "duration": 46,
    "start_time": "2021-11-06T10:48:58.866Z"
   },
   {
    "duration": 3,
    "start_time": "2021-11-06T10:48:58.945Z"
   },
   {
    "duration": 109,
    "start_time": "2021-11-06T10:48:58.950Z"
   },
   {
    "duration": 348,
    "start_time": "2021-11-06T10:48:59.060Z"
   },
   {
    "duration": 9,
    "start_time": "2021-11-06T10:53:39.356Z"
   },
   {
    "duration": 646,
    "start_time": "2021-11-06T11:02:01.019Z"
   },
   {
    "duration": 30,
    "start_time": "2021-11-06T11:04:33.118Z"
   },
   {
    "duration": 7,
    "start_time": "2021-11-06T11:07:04.991Z"
   },
   {
    "duration": 1041,
    "start_time": "2021-11-06T11:07:45.450Z"
   },
   {
    "duration": 7,
    "start_time": "2021-11-06T11:08:51.242Z"
   },
   {
    "duration": 22,
    "start_time": "2021-11-06T11:10:24.829Z"
   },
   {
    "duration": 258,
    "start_time": "2021-11-06T11:11:09.796Z"
   },
   {
    "duration": 7,
    "start_time": "2021-11-06T11:11:32.449Z"
   },
   {
    "duration": 19,
    "start_time": "2021-11-06T11:12:13.610Z"
   },
   {
    "duration": 25,
    "start_time": "2021-11-06T11:12:34.472Z"
   },
   {
    "duration": 6,
    "start_time": "2021-11-06T11:18:15.580Z"
   },
   {
    "duration": 8,
    "start_time": "2021-11-06T11:18:29.409Z"
   },
   {
    "duration": 266,
    "start_time": "2021-11-06T11:18:54.517Z"
   },
   {
    "duration": 705,
    "start_time": "2021-11-06T12:13:54.601Z"
   },
   {
    "duration": 286,
    "start_time": "2021-11-06T12:18:39.219Z"
   },
   {
    "duration": 32,
    "start_time": "2021-11-06T12:18:53.860Z"
   },
   {
    "duration": 274,
    "start_time": "2021-11-06T12:19:59.242Z"
   },
   {
    "duration": 15,
    "start_time": "2021-11-06T12:20:15.505Z"
   },
   {
    "duration": 17,
    "start_time": "2021-11-06T12:21:04.554Z"
   },
   {
    "duration": 257,
    "start_time": "2021-11-06T12:21:21.029Z"
   },
   {
    "duration": 21,
    "start_time": "2021-11-06T12:21:37.857Z"
   },
   {
    "duration": 253,
    "start_time": "2021-11-06T12:22:44.618Z"
   },
   {
    "duration": 617,
    "start_time": "2021-11-06T12:23:28.315Z"
   },
   {
    "duration": 705,
    "start_time": "2021-11-06T12:27:14.909Z"
   },
   {
    "duration": 18,
    "start_time": "2021-11-06T12:27:27.165Z"
   },
   {
    "duration": 1391,
    "start_time": "2021-11-06T12:28:08.855Z"
   },
   {
    "duration": 18,
    "start_time": "2021-11-06T12:28:20.696Z"
   },
   {
    "duration": 17,
    "start_time": "2021-11-06T12:28:41.195Z"
   },
   {
    "duration": 2,
    "start_time": "2021-11-06T12:30:21.009Z"
   },
   {
    "duration": 273,
    "start_time": "2021-11-06T12:30:53.501Z"
   },
   {
    "duration": 264,
    "start_time": "2021-11-06T12:31:56.511Z"
   },
   {
    "duration": 17,
    "start_time": "2021-11-06T12:32:08.950Z"
   },
   {
    "duration": 6884,
    "start_time": "2021-11-06T12:34:05.636Z"
   },
   {
    "duration": 20,
    "start_time": "2021-11-06T12:34:23.384Z"
   },
   {
    "duration": 339,
    "start_time": "2021-11-06T12:35:51.912Z"
   },
   {
    "duration": 267,
    "start_time": "2021-11-06T12:36:26.080Z"
   },
   {
    "duration": 11,
    "start_time": "2021-11-06T12:36:31.390Z"
   },
   {
    "duration": 259,
    "start_time": "2021-11-06T12:37:04.402Z"
   },
   {
    "duration": 14,
    "start_time": "2021-11-06T12:37:31.317Z"
   },
   {
    "duration": 10,
    "start_time": "2021-11-06T12:38:20.362Z"
   },
   {
    "duration": 11,
    "start_time": "2021-11-06T12:39:04.168Z"
   },
   {
    "duration": 271,
    "start_time": "2021-11-06T12:40:40.239Z"
   },
   {
    "duration": 11,
    "start_time": "2021-11-06T12:40:48.652Z"
   },
   {
    "duration": 348,
    "start_time": "2021-11-06T12:41:29.263Z"
   },
   {
    "duration": 12,
    "start_time": "2021-11-06T12:41:41.285Z"
   },
   {
    "duration": 1123,
    "start_time": "2021-11-06T12:42:03.220Z"
   },
   {
    "duration": 1223,
    "start_time": "2021-11-06T12:42:05.207Z"
   },
   {
    "duration": 18,
    "start_time": "2021-11-06T12:42:20.275Z"
   },
   {
    "duration": 12,
    "start_time": "2021-11-06T12:43:00.935Z"
   },
   {
    "duration": 18,
    "start_time": "2021-11-06T12:43:07.578Z"
   },
   {
    "duration": 1043,
    "start_time": "2021-11-06T12:45:30.642Z"
   },
   {
    "duration": 18,
    "start_time": "2021-11-06T12:45:50.688Z"
   },
   {
    "duration": 5632,
    "start_time": "2021-11-06T12:46:12.316Z"
   },
   {
    "duration": 18,
    "start_time": "2021-11-06T12:46:47.076Z"
   },
   {
    "duration": 20,
    "start_time": "2021-11-06T12:47:06.957Z"
   },
   {
    "duration": 30,
    "start_time": "2021-11-06T12:49:14.494Z"
   },
   {
    "duration": 14,
    "start_time": "2021-11-06T12:49:20.504Z"
   },
   {
    "duration": 33,
    "start_time": "2021-11-06T12:51:01.950Z"
   },
   {
    "duration": 16,
    "start_time": "2021-11-06T12:53:24.105Z"
   },
   {
    "duration": 1116,
    "start_time": "2021-11-06T12:55:25.986Z"
   },
   {
    "duration": 19,
    "start_time": "2021-11-06T12:55:36.528Z"
   },
   {
    "duration": 87,
    "start_time": "2021-11-06T12:56:35.868Z"
   },
   {
    "duration": 18,
    "start_time": "2021-11-06T12:56:42.388Z"
   },
   {
    "duration": 2,
    "start_time": "2021-11-06T12:57:53.847Z"
   },
   {
    "duration": 20,
    "start_time": "2021-11-06T12:59:43.840Z"
   },
   {
    "duration": 7224,
    "start_time": "2021-11-06T13:02:11.224Z"
   },
   {
    "duration": 20,
    "start_time": "2021-11-06T13:02:32.651Z"
   },
   {
    "duration": 736,
    "start_time": "2021-11-06T13:04:01.800Z"
   },
   {
    "duration": 6870,
    "start_time": "2021-11-06T13:04:38.630Z"
   },
   {
    "duration": 297,
    "start_time": "2021-11-06T13:05:06.797Z"
   },
   {
    "duration": 450,
    "start_time": "2021-11-06T13:06:36.097Z"
   },
   {
    "duration": 268,
    "start_time": "2021-11-06T13:08:06.214Z"
   },
   {
    "duration": 516,
    "start_time": "2021-11-06T13:08:29.647Z"
   },
   {
    "duration": 268,
    "start_time": "2021-11-06T13:08:52.695Z"
   },
   {
    "duration": 97,
    "start_time": "2021-11-06T13:09:26.986Z"
   },
   {
    "duration": 340,
    "start_time": "2021-11-06T13:09:34.255Z"
   },
   {
    "duration": 9,
    "start_time": "2021-11-06T13:09:46.574Z"
   },
   {
    "duration": 15,
    "start_time": "2021-11-06T13:10:07.771Z"
   },
   {
    "duration": 9,
    "start_time": "2021-11-06T13:27:39.782Z"
   },
   {
    "duration": 93,
    "start_time": "2021-11-06T13:34:48.463Z"
   },
   {
    "duration": 95,
    "start_time": "2021-11-06T13:35:13.993Z"
   },
   {
    "duration": 103,
    "start_time": "2021-11-06T13:37:10.380Z"
   },
   {
    "duration": 7,
    "start_time": "2021-11-06T13:38:12.347Z"
   },
   {
    "duration": 8332,
    "start_time": "2021-11-06T13:39:12.896Z"
   },
   {
    "duration": 7133,
    "start_time": "2021-11-06T13:39:39.227Z"
   },
   {
    "duration": 7,
    "start_time": "2021-11-06T13:43:01.165Z"
   },
   {
    "duration": 6556,
    "start_time": "2021-11-06T13:43:07.161Z"
   },
   {
    "duration": 7,
    "start_time": "2021-11-06T13:43:37.973Z"
   },
   {
    "duration": 8,
    "start_time": "2021-11-06T13:43:44.929Z"
   },
   {
    "duration": 227,
    "start_time": "2021-11-06T13:43:48.761Z"
   },
   {
    "duration": 234,
    "start_time": "2021-11-06T13:44:44.877Z"
   },
   {
    "duration": 277,
    "start_time": "2021-11-06T13:58:26.419Z"
   },
   {
    "duration": 23,
    "start_time": "2021-11-06T13:58:34.880Z"
   },
   {
    "duration": 6,
    "start_time": "2021-11-06T14:00:34.387Z"
   },
   {
    "duration": 24,
    "start_time": "2021-11-06T14:00:45.204Z"
   },
   {
    "duration": 24,
    "start_time": "2021-11-06T14:01:21.035Z"
   },
   {
    "duration": 600,
    "start_time": "2021-11-06T14:11:10.504Z"
   },
   {
    "duration": 3,
    "start_time": "2021-11-06T14:12:04.645Z"
   },
   {
    "duration": 346,
    "start_time": "2021-11-06T14:12:15.945Z"
   },
   {
    "duration": 296,
    "start_time": "2021-11-06T14:13:23.191Z"
   },
   {
    "duration": 278,
    "start_time": "2021-11-06T14:14:38.414Z"
   },
   {
    "duration": 659,
    "start_time": "2021-11-06T14:16:28.662Z"
   },
   {
    "duration": 590,
    "start_time": "2021-11-06T14:17:14.807Z"
   },
   {
    "duration": 571,
    "start_time": "2021-11-06T14:17:42.650Z"
   },
   {
    "duration": 1489,
    "start_time": "2021-11-10T12:11:56.868Z"
   },
   {
    "duration": 472,
    "start_time": "2021-11-10T12:13:56.857Z"
   },
   {
    "duration": 1427,
    "start_time": "2021-11-10T12:15:07.916Z"
   },
   {
    "duration": 379,
    "start_time": "2021-11-10T12:15:09.346Z"
   },
   {
    "duration": 62,
    "start_time": "2021-11-10T12:15:09.728Z"
   },
   {
    "duration": 106,
    "start_time": "2021-11-10T12:15:09.794Z"
   },
   {
    "duration": 4,
    "start_time": "2021-11-10T12:15:09.903Z"
   },
   {
    "duration": 193,
    "start_time": "2021-11-10T12:15:09.910Z"
   },
   {
    "duration": 16,
    "start_time": "2021-11-10T12:15:10.105Z"
   },
   {
    "duration": 84,
    "start_time": "2021-11-10T12:15:10.126Z"
   },
   {
    "duration": 26,
    "start_time": "2021-11-10T12:15:10.213Z"
   },
   {
    "duration": 69,
    "start_time": "2021-11-10T12:15:10.242Z"
   },
   {
    "duration": 25,
    "start_time": "2021-11-10T12:15:10.314Z"
   },
   {
    "duration": 61,
    "start_time": "2021-11-10T12:15:10.341Z"
   },
   {
    "duration": 30,
    "start_time": "2021-11-10T12:15:10.405Z"
   },
   {
    "duration": 54,
    "start_time": "2021-11-10T12:15:10.437Z"
   },
   {
    "duration": 24,
    "start_time": "2021-11-10T12:15:10.494Z"
   },
   {
    "duration": 13,
    "start_time": "2021-11-10T12:15:10.520Z"
   },
   {
    "duration": 11,
    "start_time": "2021-11-10T12:15:10.567Z"
   },
   {
    "duration": 474,
    "start_time": "2021-11-10T12:15:10.581Z"
   },
   {
    "duration": 14,
    "start_time": "2021-11-10T12:15:11.057Z"
   },
   {
    "duration": 46,
    "start_time": "2021-11-10T12:15:11.074Z"
   },
   {
    "duration": 60,
    "start_time": "2021-11-10T12:15:11.122Z"
   },
   {
    "duration": 414,
    "start_time": "2021-11-10T12:15:11.184Z"
   },
   {
    "duration": -283,
    "start_time": "2021-11-10T12:15:11.883Z"
   },
   {
    "duration": -282,
    "start_time": "2021-11-10T12:15:11.884Z"
   },
   {
    "duration": 404,
    "start_time": "2021-11-10T12:16:28.147Z"
   },
   {
    "duration": 313,
    "start_time": "2021-11-10T12:18:18.389Z"
   },
   {
    "duration": 702,
    "start_time": "2021-11-10T12:20:00.594Z"
   },
   {
    "duration": 1017,
    "start_time": "2021-11-10T12:21:07.978Z"
   },
   {
    "duration": 1015,
    "start_time": "2021-11-10T12:21:11.647Z"
   },
   {
    "duration": 291,
    "start_time": "2021-11-10T12:34:31.923Z"
   },
   {
    "duration": 12,
    "start_time": "2021-11-10T12:48:32.688Z"
   },
   {
    "duration": 4,
    "start_time": "2021-11-10T12:51:32.406Z"
   },
   {
    "duration": 101,
    "start_time": "2021-11-10T12:55:52.660Z"
   },
   {
    "duration": 6,
    "start_time": "2021-11-10T12:55:57.161Z"
   },
   {
    "duration": 557,
    "start_time": "2021-11-10T12:58:44.878Z"
   },
   {
    "duration": 292,
    "start_time": "2021-11-10T12:58:56.653Z"
   },
   {
    "duration": 266,
    "start_time": "2021-11-10T12:59:06.765Z"
   },
   {
    "duration": 6,
    "start_time": "2021-11-10T12:59:14.084Z"
   },
   {
    "duration": 612,
    "start_time": "2021-11-10T12:59:16.603Z"
   },
   {
    "duration": 4,
    "start_time": "2021-11-10T12:59:58.180Z"
   },
   {
    "duration": 6,
    "start_time": "2021-11-10T13:00:04.909Z"
   },
   {
    "duration": 7,
    "start_time": "2021-11-10T13:00:07.907Z"
   },
   {
    "duration": 4,
    "start_time": "2021-11-10T13:00:31.623Z"
   },
   {
    "duration": 9,
    "start_time": "2021-11-10T13:01:22.710Z"
   },
   {
    "duration": 8,
    "start_time": "2021-11-10T13:01:24.837Z"
   },
   {
    "duration": 6,
    "start_time": "2021-11-10T13:01:40.772Z"
   },
   {
    "duration": 7,
    "start_time": "2021-11-10T13:01:42.781Z"
   },
   {
    "duration": 6,
    "start_time": "2021-11-10T13:03:05.749Z"
   },
   {
    "duration": 12,
    "start_time": "2021-11-10T13:03:09.455Z"
   },
   {
    "duration": 6,
    "start_time": "2021-11-10T13:05:21.566Z"
   },
   {
    "duration": 7,
    "start_time": "2021-11-10T13:05:24.257Z"
   },
   {
    "duration": 90,
    "start_time": "2021-11-10T13:12:01.263Z"
   },
   {
    "duration": 94,
    "start_time": "2021-11-10T13:12:12.221Z"
   },
   {
    "duration": 312,
    "start_time": "2021-11-10T13:17:43.808Z"
   },
   {
    "duration": 337,
    "start_time": "2021-11-10T13:18:08.159Z"
   },
   {
    "duration": 8,
    "start_time": "2021-11-10T13:18:16.104Z"
   },
   {
    "duration": 15,
    "start_time": "2021-11-10T13:18:29.192Z"
   },
   {
    "duration": 16,
    "start_time": "2021-11-10T13:19:01.708Z"
   },
   {
    "duration": 7,
    "start_time": "2021-11-10T13:20:05.000Z"
   },
   {
    "duration": 8,
    "start_time": "2021-11-10T13:23:50.137Z"
   },
   {
    "duration": 7,
    "start_time": "2021-11-10T13:23:57.410Z"
   },
   {
    "duration": 21,
    "start_time": "2021-11-10T13:24:11.611Z"
   },
   {
    "duration": 26,
    "start_time": "2021-11-10T13:30:30.486Z"
   },
   {
    "duration": 36,
    "start_time": "2021-11-10T13:31:02.232Z"
   },
   {
    "duration": 6,
    "start_time": "2021-11-10T13:32:21.424Z"
   },
   {
    "duration": 6,
    "start_time": "2021-11-10T13:32:37.968Z"
   },
   {
    "duration": 4,
    "start_time": "2021-11-10T13:34:39.831Z"
   },
   {
    "duration": 7,
    "start_time": "2021-11-10T13:35:22.441Z"
   },
   {
    "duration": 4887,
    "start_time": "2021-11-11T10:05:06.454Z"
   },
   {
    "duration": 2010,
    "start_time": "2021-11-11T10:05:15.138Z"
   },
   {
    "duration": 525,
    "start_time": "2021-11-11T10:10:26.931Z"
   },
   {
    "duration": 426,
    "start_time": "2021-11-11T10:10:34.338Z"
   },
   {
    "duration": -1509,
    "start_time": "2021-11-11T10:14:24.236Z"
   },
   {
    "duration": -1510,
    "start_time": "2021-11-11T10:14:24.238Z"
   },
   {
    "duration": -1510,
    "start_time": "2021-11-11T10:14:24.239Z"
   },
   {
    "duration": -1509,
    "start_time": "2021-11-11T10:14:24.240Z"
   },
   {
    "duration": -1510,
    "start_time": "2021-11-11T10:14:24.242Z"
   },
   {
    "duration": -1510,
    "start_time": "2021-11-11T10:14:24.243Z"
   },
   {
    "duration": -1572,
    "start_time": "2021-11-11T10:14:24.306Z"
   },
   {
    "duration": -1574,
    "start_time": "2021-11-11T10:14:24.310Z"
   },
   {
    "duration": -1573,
    "start_time": "2021-11-11T10:14:24.311Z"
   },
   {
    "duration": -1572,
    "start_time": "2021-11-11T10:14:24.312Z"
   },
   {
    "duration": -1572,
    "start_time": "2021-11-11T10:14:24.313Z"
   },
   {
    "duration": -1570,
    "start_time": "2021-11-11T10:14:24.314Z"
   },
   {
    "duration": -1569,
    "start_time": "2021-11-11T10:14:24.315Z"
   },
   {
    "duration": -1568,
    "start_time": "2021-11-11T10:14:24.316Z"
   },
   {
    "duration": -1567,
    "start_time": "2021-11-11T10:14:24.317Z"
   },
   {
    "duration": -1566,
    "start_time": "2021-11-11T10:14:24.318Z"
   },
   {
    "duration": -1599,
    "start_time": "2021-11-11T10:14:24.352Z"
   },
   {
    "duration": -1601,
    "start_time": "2021-11-11T10:14:24.355Z"
   },
   {
    "duration": -1601,
    "start_time": "2021-11-11T10:14:24.357Z"
   },
   {
    "duration": -1600,
    "start_time": "2021-11-11T10:14:24.358Z"
   },
   {
    "duration": -1599,
    "start_time": "2021-11-11T10:14:24.359Z"
   },
   {
    "duration": -1598,
    "start_time": "2021-11-11T10:14:24.360Z"
   },
   {
    "duration": -1597,
    "start_time": "2021-11-11T10:14:24.361Z"
   },
   {
    "duration": -1596,
    "start_time": "2021-11-11T10:14:24.362Z"
   },
   {
    "duration": -1594,
    "start_time": "2021-11-11T10:14:24.362Z"
   },
   {
    "duration": -1562,
    "start_time": "2021-11-11T10:14:24.364Z"
   },
   {
    "duration": -1627,
    "start_time": "2021-11-11T10:14:24.431Z"
   },
   {
    "duration": -1626,
    "start_time": "2021-11-11T10:14:24.432Z"
   },
   {
    "duration": -1625,
    "start_time": "2021-11-11T10:14:24.433Z"
   },
   {
    "duration": -1625,
    "start_time": "2021-11-11T10:14:24.434Z"
   },
   {
    "duration": -1624,
    "start_time": "2021-11-11T10:14:24.435Z"
   },
   {
    "duration": -1623,
    "start_time": "2021-11-11T10:14:24.436Z"
   },
   {
    "duration": -1625,
    "start_time": "2021-11-11T10:14:24.440Z"
   },
   {
    "duration": 3905,
    "start_time": "2021-11-11T10:20:13.676Z"
   },
   {
    "duration": 5,
    "start_time": "2021-11-11T10:20:36.318Z"
   },
   {
    "duration": 460,
    "start_time": "2021-11-11T10:20:39.251Z"
   },
   {
    "duration": 59,
    "start_time": "2021-11-11T10:20:41.736Z"
   },
   {
    "duration": 75,
    "start_time": "2021-11-11T10:20:45.943Z"
   },
   {
    "duration": 5,
    "start_time": "2021-11-11T10:20:49.980Z"
   },
   {
    "duration": 210,
    "start_time": "2021-11-11T10:20:52.206Z"
   },
   {
    "duration": 15,
    "start_time": "2021-11-11T10:20:55.667Z"
   },
   {
    "duration": 65,
    "start_time": "2021-11-11T10:20:57.582Z"
   },
   {
    "duration": 25,
    "start_time": "2021-11-11T10:21:00.158Z"
   },
   {
    "duration": 49,
    "start_time": "2021-11-11T10:21:02.646Z"
   },
   {
    "duration": 22,
    "start_time": "2021-11-11T10:21:05.551Z"
   },
   {
    "duration": 39,
    "start_time": "2021-11-11T10:21:08.014Z"
   },
   {
    "duration": 30,
    "start_time": "2021-11-11T10:21:10.814Z"
   },
   {
    "duration": 36,
    "start_time": "2021-11-11T10:21:13.977Z"
   },
   {
    "duration": 25,
    "start_time": "2021-11-11T10:21:16.551Z"
   },
   {
    "duration": 13,
    "start_time": "2021-11-11T10:21:19.973Z"
   },
   {
    "duration": 12,
    "start_time": "2021-11-11T10:21:22.592Z"
   },
   {
    "duration": 486,
    "start_time": "2021-11-11T10:21:27.702Z"
   },
   {
    "duration": 9,
    "start_time": "2021-11-11T10:21:35.590Z"
   },
   {
    "duration": 44,
    "start_time": "2021-11-11T10:21:42.302Z"
   },
   {
    "duration": 39,
    "start_time": "2021-11-11T10:21:57.045Z"
   },
   {
    "duration": 875,
    "start_time": "2021-11-11T10:22:13.478Z"
   },
   {
    "duration": 810,
    "start_time": "2021-11-11T10:22:40.920Z"
   },
   {
    "duration": 605,
    "start_time": "2021-11-11T10:22:48.936Z"
   },
   {
    "duration": 777,
    "start_time": "2021-11-11T10:24:14.372Z"
   },
   {
    "duration": 815,
    "start_time": "2021-11-11T10:24:55.017Z"
   },
   {
    "duration": 9,
    "start_time": "2021-11-11T10:25:18.048Z"
   },
   {
    "duration": 4,
    "start_time": "2021-11-11T10:25:21.798Z"
   },
   {
    "duration": 6,
    "start_time": "2021-11-11T10:25:25.832Z"
   },
   {
    "duration": 8,
    "start_time": "2021-11-11T10:25:31.758Z"
   },
   {
    "duration": 406,
    "start_time": "2021-11-11T10:25:42.327Z"
   },
   {
    "duration": 38,
    "start_time": "2021-11-11T10:26:03.744Z"
   },
   {
    "duration": 8,
    "start_time": "2021-11-11T10:26:34.167Z"
   },
   {
    "duration": 4,
    "start_time": "2021-11-11T10:26:39.022Z"
   },
   {
    "duration": 8,
    "start_time": "2021-11-11T10:26:42.182Z"
   },
   {
    "duration": 793,
    "start_time": "2021-11-11T10:36:58.153Z"
   },
   {
    "duration": 128,
    "start_time": "2021-11-11T10:40:54.024Z"
   },
   {
    "duration": 1200,
    "start_time": "2021-11-11T10:40:58.385Z"
   },
   {
    "duration": 837,
    "start_time": "2021-11-11T10:41:10.641Z"
   },
   {
    "duration": 862,
    "start_time": "2021-11-11T10:41:52.602Z"
   },
   {
    "duration": 674,
    "start_time": "2021-11-11T10:42:10.569Z"
   },
   {
    "duration": 674,
    "start_time": "2021-11-11T10:42:34.410Z"
   },
   {
    "duration": 985,
    "start_time": "2021-11-11T10:42:45.785Z"
   },
   {
    "duration": 691,
    "start_time": "2021-11-11T10:43:54.960Z"
   },
   {
    "duration": 695,
    "start_time": "2021-11-11T10:43:56.910Z"
   },
   {
    "duration": 847,
    "start_time": "2021-11-11T10:43:59.544Z"
   },
   {
    "duration": 699,
    "start_time": "2021-11-11T10:44:21.969Z"
   },
   {
    "duration": 856,
    "start_time": "2021-11-11T10:44:43.097Z"
   },
   {
    "duration": 376,
    "start_time": "2021-11-11T10:53:51.511Z"
   },
   {
    "duration": 43,
    "start_time": "2021-11-11T10:53:58.777Z"
   },
   {
    "duration": 394,
    "start_time": "2021-11-11T10:57:39.435Z"
   },
   {
    "duration": 19,
    "start_time": "2021-11-11T10:57:44.825Z"
   },
   {
    "duration": 6701,
    "start_time": "2021-11-11T10:57:55.657Z"
   },
   {
    "duration": 10,
    "start_time": "2021-11-11T10:58:10.474Z"
   },
   {
    "duration": 995,
    "start_time": "2021-11-11T11:08:55.395Z"
   },
   {
    "duration": 961,
    "start_time": "2021-11-11T11:09:02.786Z"
   },
   {
    "duration": 156,
    "start_time": "2021-11-11T11:09:31.419Z"
   },
   {
    "duration": 8,
    "start_time": "2021-11-11T11:09:49.830Z"
   },
   {
    "duration": 470,
    "start_time": "2021-11-11T11:10:13.933Z"
   },
   {
    "duration": 28,
    "start_time": "2021-11-11T11:10:30.252Z"
   },
   {
    "duration": 423,
    "start_time": "2021-11-11T11:11:45.195Z"
   },
   {
    "duration": 8,
    "start_time": "2021-11-11T11:11:49.929Z"
   },
   {
    "duration": 7,
    "start_time": "2021-11-11T11:11:56.260Z"
   },
   {
    "duration": 10,
    "start_time": "2021-11-11T11:12:27.132Z"
   },
   {
    "duration": 3901,
    "start_time": "2021-11-11T13:13:51.159Z"
   },
   {
    "duration": 1574,
    "start_time": "2021-11-11T13:13:55.063Z"
   },
   {
    "duration": 1147,
    "start_time": "2021-11-11T13:13:56.641Z"
   },
   {
    "duration": 58,
    "start_time": "2021-11-11T13:13:57.791Z"
   },
   {
    "duration": 102,
    "start_time": "2021-11-11T13:13:57.851Z"
   },
   {
    "duration": 5,
    "start_time": "2021-11-11T13:13:57.955Z"
   },
   {
    "duration": 199,
    "start_time": "2021-11-11T13:13:57.963Z"
   },
   {
    "duration": 43,
    "start_time": "2021-11-11T13:13:58.168Z"
   },
   {
    "duration": 54,
    "start_time": "2021-11-11T13:13:58.215Z"
   },
   {
    "duration": 50,
    "start_time": "2021-11-11T13:13:58.273Z"
   },
   {
    "duration": 74,
    "start_time": "2021-11-11T13:13:58.326Z"
   },
   {
    "duration": 27,
    "start_time": "2021-11-11T13:13:58.403Z"
   },
   {
    "duration": 37,
    "start_time": "2021-11-11T13:13:58.433Z"
   },
   {
    "duration": 29,
    "start_time": "2021-11-11T13:13:58.501Z"
   },
   {
    "duration": 29,
    "start_time": "2021-11-11T13:13:58.533Z"
   },
   {
    "duration": 55,
    "start_time": "2021-11-11T13:13:58.564Z"
   },
   {
    "duration": 12,
    "start_time": "2021-11-11T13:13:58.621Z"
   },
   {
    "duration": 11,
    "start_time": "2021-11-11T13:13:58.636Z"
   },
   {
    "duration": 505,
    "start_time": "2021-11-11T13:13:58.650Z"
   },
   {
    "duration": 10,
    "start_time": "2021-11-11T13:13:59.157Z"
   },
   {
    "duration": 49,
    "start_time": "2021-11-11T13:13:59.169Z"
   },
   {
    "duration": 8,
    "start_time": "2021-11-11T13:13:59.221Z"
   },
   {
    "duration": 16,
    "start_time": "2021-11-11T13:13:59.234Z"
   },
   {
    "duration": 62,
    "start_time": "2021-11-11T13:13:59.253Z"
   },
   {
    "duration": 40,
    "start_time": "2021-11-11T13:13:59.317Z"
   },
   {
    "duration": 707,
    "start_time": "2021-11-11T13:13:59.359Z"
   },
   {
    "duration": 845,
    "start_time": "2021-11-11T13:14:00.069Z"
   },
   {
    "duration": 815,
    "start_time": "2021-11-11T13:14:00.917Z"
   },
   {
    "duration": 9,
    "start_time": "2021-11-11T13:14:01.734Z"
   },
   {
    "duration": 31,
    "start_time": "2021-11-11T13:14:01.745Z"
   },
   {
    "duration": 41,
    "start_time": "2021-11-11T13:14:01.778Z"
   },
   {
    "duration": 22,
    "start_time": "2021-11-11T13:14:01.821Z"
   },
   {
    "duration": 43,
    "start_time": "2021-11-11T13:14:01.846Z"
   },
   {
    "duration": 41,
    "start_time": "2021-11-11T13:14:01.891Z"
   },
   {
    "duration": 17,
    "start_time": "2021-11-11T13:14:01.935Z"
   },
   {
    "duration": 29,
    "start_time": "2021-11-11T13:14:01.954Z"
   },
   {
    "duration": 3605,
    "start_time": "2021-11-12T10:26:07.440Z"
   },
   {
    "duration": 1097,
    "start_time": "2021-11-12T10:26:11.047Z"
   },
   {
    "duration": 314,
    "start_time": "2021-11-12T10:26:12.147Z"
   },
   {
    "duration": 42,
    "start_time": "2021-11-12T10:26:12.463Z"
   },
   {
    "duration": 58,
    "start_time": "2021-11-12T10:26:12.507Z"
   },
   {
    "duration": 4,
    "start_time": "2021-11-12T10:26:12.567Z"
   },
   {
    "duration": 149,
    "start_time": "2021-11-12T10:26:12.573Z"
   },
   {
    "duration": 13,
    "start_time": "2021-11-12T10:26:12.724Z"
   },
   {
    "duration": 37,
    "start_time": "2021-11-12T10:26:12.739Z"
   },
   {
    "duration": 44,
    "start_time": "2021-11-12T10:26:12.777Z"
   },
   {
    "duration": 34,
    "start_time": "2021-11-12T10:26:12.823Z"
   },
   {
    "duration": 18,
    "start_time": "2021-11-12T10:26:12.858Z"
   },
   {
    "duration": 49,
    "start_time": "2021-11-12T10:26:12.878Z"
   },
   {
    "duration": 21,
    "start_time": "2021-11-12T10:26:12.929Z"
   },
   {
    "duration": 19,
    "start_time": "2021-11-12T10:26:12.952Z"
   },
   {
    "duration": 42,
    "start_time": "2021-11-12T10:26:12.973Z"
   },
   {
    "duration": 20,
    "start_time": "2021-11-12T10:26:13.017Z"
   },
   {
    "duration": 27,
    "start_time": "2021-11-12T10:26:13.039Z"
   },
   {
    "duration": 275,
    "start_time": "2021-11-12T10:26:13.067Z"
   },
   {
    "duration": 7,
    "start_time": "2021-11-12T10:26:13.344Z"
   },
   {
    "duration": 25,
    "start_time": "2021-11-12T10:26:13.353Z"
   },
   {
    "duration": 6,
    "start_time": "2021-11-12T10:26:13.380Z"
   },
   {
    "duration": 5,
    "start_time": "2021-11-12T10:26:13.409Z"
   },
   {
    "duration": 29,
    "start_time": "2021-11-12T10:26:13.417Z"
   },
   {
    "duration": 25,
    "start_time": "2021-11-12T10:26:13.448Z"
   },
   {
    "duration": 434,
    "start_time": "2021-11-12T10:26:13.475Z"
   },
   {
    "duration": 478,
    "start_time": "2021-11-12T10:26:13.910Z"
   },
   {
    "duration": 487,
    "start_time": "2021-11-12T10:26:14.389Z"
   },
   {
    "duration": 7,
    "start_time": "2021-11-12T10:26:14.878Z"
   },
   {
    "duration": 6,
    "start_time": "2021-11-12T10:26:14.886Z"
   },
   {
    "duration": 15,
    "start_time": "2021-11-12T10:26:14.893Z"
   },
   {
    "duration": 12,
    "start_time": "2021-11-12T10:26:14.909Z"
   },
   {
    "duration": 26,
    "start_time": "2021-11-12T10:26:14.923Z"
   },
   {
    "duration": 14,
    "start_time": "2021-11-12T10:26:14.951Z"
   },
   {
    "duration": 17,
    "start_time": "2021-11-12T10:26:14.967Z"
   },
   {
    "duration": 34,
    "start_time": "2021-11-12T10:26:14.985Z"
   },
   {
    "duration": 24,
    "start_time": "2021-11-12T11:14:12.942Z"
   },
   {
    "duration": 391,
    "start_time": "2021-11-13T16:07:21.667Z"
   },
   {
    "duration": 5509,
    "start_time": "2021-11-13T16:07:30.711Z"
   },
   {
    "duration": 1550,
    "start_time": "2021-11-13T16:07:36.226Z"
   },
   {
    "duration": 522,
    "start_time": "2021-11-13T16:07:39.440Z"
   },
   {
    "duration": 68,
    "start_time": "2021-11-13T16:07:41.806Z"
   },
   {
    "duration": 82,
    "start_time": "2021-11-13T16:07:47.784Z"
   },
   {
    "duration": 5,
    "start_time": "2021-11-13T16:08:03.548Z"
   },
   {
    "duration": 156,
    "start_time": "2021-11-13T16:08:07.112Z"
   },
   {
    "duration": 386,
    "start_time": "2021-11-13T16:08:13.083Z"
   },
   {
    "duration": 292,
    "start_time": "2021-11-13T16:08:48.062Z"
   },
   {
    "duration": 505,
    "start_time": "2021-11-13T16:08:54.445Z"
   },
   {
    "duration": 305,
    "start_time": "2021-11-13T16:09:21.333Z"
   },
   {
    "duration": 18,
    "start_time": "2021-11-13T16:09:54.872Z"
   },
   {
    "duration": 280,
    "start_time": "2021-11-13T16:10:47.325Z"
   },
   {
    "duration": 284,
    "start_time": "2021-11-13T16:11:09.493Z"
   },
   {
    "duration": 14,
    "start_time": "2021-11-13T16:11:25.893Z"
   },
   {
    "duration": 10,
    "start_time": "2021-11-13T16:20:41.391Z"
   },
   {
    "duration": 10,
    "start_time": "2021-11-13T16:20:50.532Z"
   },
   {
    "duration": 9,
    "start_time": "2021-11-13T16:20:59.487Z"
   },
   {
    "duration": 8,
    "start_time": "2021-11-13T16:21:22.655Z"
   },
   {
    "duration": 519,
    "start_time": "2021-11-13T16:25:25.598Z"
   },
   {
    "duration": 295,
    "start_time": "2021-11-13T16:25:40.063Z"
   },
   {
    "duration": 433,
    "start_time": "2021-11-13T16:25:51.849Z"
   },
   {
    "duration": 13,
    "start_time": "2021-11-13T16:27:49.625Z"
   },
   {
    "duration": 67,
    "start_time": "2021-11-13T16:27:54.205Z"
   },
   {
    "duration": 33,
    "start_time": "2021-11-13T16:33:08.553Z"
   },
   {
    "duration": 44,
    "start_time": "2021-11-13T16:33:17.384Z"
   },
   {
    "duration": 23,
    "start_time": "2021-11-13T16:33:22.974Z"
   },
   {
    "duration": 38,
    "start_time": "2021-11-13T16:33:29.289Z"
   },
   {
    "duration": 30,
    "start_time": "2021-11-13T16:33:47.324Z"
   },
   {
    "duration": 35,
    "start_time": "2021-11-13T16:33:55.235Z"
   },
   {
    "duration": 25,
    "start_time": "2021-11-13T16:34:14.201Z"
   },
   {
    "duration": 14,
    "start_time": "2021-11-13T16:34:18.546Z"
   },
   {
    "duration": 12,
    "start_time": "2021-11-13T16:34:28.403Z"
   },
   {
    "duration": 448,
    "start_time": "2021-11-13T16:34:31.505Z"
   },
   {
    "duration": 33,
    "start_time": "2021-11-13T16:38:51.122Z"
   },
   {
    "duration": 28,
    "start_time": "2021-11-13T16:39:08.336Z"
   },
   {
    "duration": 26,
    "start_time": "2021-11-13T16:39:11.169Z"
   },
   {
    "duration": 30,
    "start_time": "2021-11-13T16:39:13.704Z"
   },
   {
    "duration": 25,
    "start_time": "2021-11-13T16:39:16.785Z"
   },
   {
    "duration": 18,
    "start_time": "2021-11-13T16:39:20.333Z"
   },
   {
    "duration": 11,
    "start_time": "2021-11-13T16:42:39.672Z"
   },
   {
    "duration": 580,
    "start_time": "2021-11-13T16:42:46.567Z"
   },
   {
    "duration": 17,
    "start_time": "2021-11-13T16:44:28.323Z"
   },
   {
    "duration": 433,
    "start_time": "2021-11-13T16:44:31.169Z"
   },
   {
    "duration": 10,
    "start_time": "2021-11-13T16:48:22.935Z"
   },
   {
    "duration": 34,
    "start_time": "2021-11-13T16:48:26.122Z"
   },
   {
    "duration": 11,
    "start_time": "2021-11-13T16:50:32.624Z"
   },
   {
    "duration": 27,
    "start_time": "2021-11-13T16:52:06.484Z"
   },
   {
    "duration": 13,
    "start_time": "2021-11-13T16:52:11.019Z"
   },
   {
    "duration": 457,
    "start_time": "2021-11-13T16:52:16.363Z"
   },
   {
    "duration": 13,
    "start_time": "2021-11-13T16:53:31.522Z"
   },
   {
    "duration": 29,
    "start_time": "2021-11-13T16:53:52.975Z"
   },
   {
    "duration": 39,
    "start_time": "2021-11-13T16:58:51.428Z"
   },
   {
    "duration": 36,
    "start_time": "2021-11-13T17:02:09.401Z"
   },
   {
    "duration": 9,
    "start_time": "2021-11-13T17:02:54.492Z"
   },
   {
    "duration": 44,
    "start_time": "2021-11-13T17:03:35.275Z"
   },
   {
    "duration": 61,
    "start_time": "2021-11-13T17:03:51.107Z"
   },
   {
    "duration": 31,
    "start_time": "2021-11-13T17:04:28.300Z"
   },
   {
    "duration": 25,
    "start_time": "2021-11-13T17:04:32.403Z"
   },
   {
    "duration": 13,
    "start_time": "2021-11-13T17:04:36.575Z"
   },
   {
    "duration": 12,
    "start_time": "2021-11-13T17:04:37.604Z"
   },
   {
    "duration": 429,
    "start_time": "2021-11-13T17:04:41.140Z"
   },
   {
    "duration": 13,
    "start_time": "2021-11-13T17:05:09.939Z"
   },
   {
    "duration": 27,
    "start_time": "2021-11-13T17:05:13.578Z"
   },
   {
    "duration": 51,
    "start_time": "2021-11-13T17:05:29.382Z"
   },
   {
    "duration": 9,
    "start_time": "2021-11-13T17:15:18.166Z"
   },
   {
    "duration": 60,
    "start_time": "2021-11-13T17:15:20.350Z"
   },
   {
    "duration": 43,
    "start_time": "2021-11-13T17:15:24.268Z"
   },
   {
    "duration": 701,
    "start_time": "2021-11-13T17:17:50.888Z"
   },
   {
    "duration": 678,
    "start_time": "2021-11-13T17:18:56.958Z"
   },
   {
    "duration": 718,
    "start_time": "2021-11-13T17:20:38.862Z"
   },
   {
    "duration": 5,
    "start_time": "2021-11-13T17:27:54.373Z"
   },
   {
    "duration": 104,
    "start_time": "2021-11-13T17:28:50.323Z"
   },
   {
    "duration": 10,
    "start_time": "2021-11-13T17:28:55.025Z"
   },
   {
    "duration": 12,
    "start_time": "2021-11-13T17:31:43.296Z"
   },
   {
    "duration": 10,
    "start_time": "2021-11-13T17:33:59.664Z"
   },
   {
    "duration": 43,
    "start_time": "2021-11-13T17:39:20.733Z"
   },
   {
    "duration": 11,
    "start_time": "2021-11-13T17:39:28.302Z"
   },
   {
    "duration": 4,
    "start_time": "2021-11-13T17:39:31.159Z"
   },
   {
    "duration": 6,
    "start_time": "2021-11-13T17:39:34.287Z"
   },
   {
    "duration": 7,
    "start_time": "2021-11-13T17:39:37.316Z"
   },
   {
    "duration": 38,
    "start_time": "2021-11-13T17:39:53.254Z"
   },
   {
    "duration": 5,
    "start_time": "2021-11-13T17:39:57.063Z"
   },
   {
    "duration": 4,
    "start_time": "2021-11-13T17:40:04.999Z"
   },
   {
    "duration": 8,
    "start_time": "2021-11-13T17:40:08.270Z"
   },
   {
    "duration": 3662,
    "start_time": "2021-11-13T18:08:24.610Z"
   },
   {
    "duration": 1487,
    "start_time": "2021-11-13T18:08:28.275Z"
   },
   {
    "duration": 389,
    "start_time": "2021-11-13T18:08:29.764Z"
   },
   {
    "duration": 76,
    "start_time": "2021-11-13T18:08:30.155Z"
   },
   {
    "duration": 128,
    "start_time": "2021-11-13T18:08:30.234Z"
   },
   {
    "duration": 5,
    "start_time": "2021-11-13T18:08:30.364Z"
   },
   {
    "duration": 200,
    "start_time": "2021-11-13T18:08:30.372Z"
   },
   {
    "duration": 18,
    "start_time": "2021-11-13T18:08:30.578Z"
   },
   {
    "duration": 729,
    "start_time": "2021-11-13T18:08:30.600Z"
   },
   {
    "duration": 21,
    "start_time": "2021-11-13T18:08:31.332Z"
   },
   {
    "duration": 16,
    "start_time": "2021-11-13T18:08:31.356Z"
   },
   {
    "duration": 103,
    "start_time": "2021-11-13T18:08:31.375Z"
   },
   {
    "duration": 49,
    "start_time": "2021-11-13T18:08:31.481Z"
   },
   {
    "duration": 53,
    "start_time": "2021-11-13T18:08:31.533Z"
   },
   {
    "duration": 59,
    "start_time": "2021-11-13T18:08:31.589Z"
   },
   {
    "duration": 54,
    "start_time": "2021-11-13T18:08:31.650Z"
   },
   {
    "duration": 54,
    "start_time": "2021-11-13T18:08:31.707Z"
   },
   {
    "duration": 67,
    "start_time": "2021-11-13T18:08:31.764Z"
   },
   {
    "duration": 39,
    "start_time": "2021-11-13T18:08:31.834Z"
   },
   {
    "duration": 20,
    "start_time": "2021-11-13T18:08:31.876Z"
   },
   {
    "duration": 43,
    "start_time": "2021-11-13T18:08:31.899Z"
   },
   {
    "duration": 459,
    "start_time": "2021-11-13T18:08:31.945Z"
   },
   {
    "duration": 26,
    "start_time": "2021-11-13T18:08:32.409Z"
   },
   {
    "duration": 33,
    "start_time": "2021-11-13T18:08:32.438Z"
   },
   {
    "duration": 80,
    "start_time": "2021-11-13T18:08:32.474Z"
   },
   {
    "duration": 9,
    "start_time": "2021-11-13T18:08:32.556Z"
   },
   {
    "duration": 42,
    "start_time": "2021-11-13T18:08:32.567Z"
   },
   {
    "duration": 45,
    "start_time": "2021-11-13T18:08:32.637Z"
   },
   {
    "duration": 725,
    "start_time": "2021-11-13T18:08:32.684Z"
   },
   {
    "duration": 888,
    "start_time": "2021-11-13T18:08:33.412Z"
   },
   {
    "duration": 702,
    "start_time": "2021-11-13T18:08:34.303Z"
   },
   {
    "duration": 25,
    "start_time": "2021-11-13T18:08:35.007Z"
   },
   {
    "duration": 14,
    "start_time": "2021-11-13T18:08:35.035Z"
   },
   {
    "duration": 4,
    "start_time": "2021-11-13T18:08:35.053Z"
   },
   {
    "duration": 7,
    "start_time": "2021-11-13T18:08:35.059Z"
   },
   {
    "duration": 14,
    "start_time": "2021-11-13T18:08:35.069Z"
   },
   {
    "duration": 196,
    "start_time": "2021-11-13T18:08:35.086Z"
   },
   {
    "duration": 6,
    "start_time": "2021-11-13T18:08:35.284Z"
   },
   {
    "duration": 4,
    "start_time": "2021-11-13T18:08:35.292Z"
   },
   {
    "duration": 38,
    "start_time": "2021-11-13T18:08:35.299Z"
   },
   {
    "duration": 3487,
    "start_time": "2021-11-14T10:36:30.771Z"
   },
   {
    "duration": 1204,
    "start_time": "2021-11-14T10:36:34.260Z"
   },
   {
    "duration": 304,
    "start_time": "2021-11-14T10:36:35.466Z"
   },
   {
    "duration": 35,
    "start_time": "2021-11-14T10:36:35.772Z"
   },
   {
    "duration": 70,
    "start_time": "2021-11-14T10:36:35.809Z"
   },
   {
    "duration": 3,
    "start_time": "2021-11-14T10:36:35.881Z"
   },
   {
    "duration": 101,
    "start_time": "2021-11-14T10:36:35.886Z"
   },
   {
    "duration": 12,
    "start_time": "2021-11-14T10:36:35.989Z"
   },
   {
    "duration": 1278,
    "start_time": "2021-11-14T10:36:36.003Z"
   },
   {
    "duration": 11,
    "start_time": "2021-11-14T10:36:37.283Z"
   },
   {
    "duration": 8,
    "start_time": "2021-11-14T10:36:37.295Z"
   },
   {
    "duration": 55,
    "start_time": "2021-11-14T10:36:37.304Z"
   },
   {
    "duration": 16,
    "start_time": "2021-11-14T10:36:37.361Z"
   },
   {
    "duration": 29,
    "start_time": "2021-11-14T10:36:37.379Z"
   },
   {
    "duration": 39,
    "start_time": "2021-11-14T10:36:37.409Z"
   },
   {
    "duration": 26,
    "start_time": "2021-11-14T10:36:37.450Z"
   },
   {
    "duration": 22,
    "start_time": "2021-11-14T10:36:37.478Z"
   },
   {
    "duration": 18,
    "start_time": "2021-11-14T10:36:37.501Z"
   },
   {
    "duration": 18,
    "start_time": "2021-11-14T10:36:37.545Z"
   },
   {
    "duration": 8,
    "start_time": "2021-11-14T10:36:37.564Z"
   },
   {
    "duration": 7,
    "start_time": "2021-11-14T10:36:37.574Z"
   },
   {
    "duration": 185,
    "start_time": "2021-11-14T10:36:37.583Z"
   },
   {
    "duration": 7,
    "start_time": "2021-11-14T10:36:37.772Z"
   },
   {
    "duration": 19,
    "start_time": "2021-11-14T10:36:37.781Z"
   },
   {
    "duration": 50,
    "start_time": "2021-11-14T10:36:37.801Z"
   },
   {
    "duration": 6,
    "start_time": "2021-11-14T10:36:37.853Z"
   },
   {
    "duration": 26,
    "start_time": "2021-11-14T10:36:37.861Z"
   },
   {
    "duration": 24,
    "start_time": "2021-11-14T10:36:37.889Z"
   },
   {
    "duration": 431,
    "start_time": "2021-11-14T10:36:37.915Z"
   },
   {
    "duration": 555,
    "start_time": "2021-11-14T10:36:38.349Z"
   },
   {
    "duration": 405,
    "start_time": "2021-11-14T10:36:38.907Z"
   },
   {
    "duration": 9,
    "start_time": "2021-11-14T10:36:39.314Z"
   },
   {
    "duration": 23,
    "start_time": "2021-11-14T10:36:39.325Z"
   },
   {
    "duration": 3,
    "start_time": "2021-11-14T10:36:39.349Z"
   },
   {
    "duration": 7,
    "start_time": "2021-11-14T10:36:39.354Z"
   },
   {
    "duration": 10,
    "start_time": "2021-11-14T10:36:39.362Z"
   },
   {
    "duration": 25,
    "start_time": "2021-11-14T10:36:39.374Z"
   },
   {
    "duration": 3,
    "start_time": "2021-11-14T10:36:39.401Z"
   },
   {
    "duration": 18,
    "start_time": "2021-11-14T10:36:39.406Z"
   },
   {
    "duration": 5,
    "start_time": "2021-11-14T10:36:39.444Z"
   },
   {
    "duration": 15,
    "start_time": "2021-11-14T10:38:39.124Z"
   },
   {
    "duration": 11,
    "start_time": "2021-11-14T10:44:40.150Z"
   },
   {
    "duration": 6,
    "start_time": "2021-11-14T10:44:45.975Z"
   }
  ],
  "kernelspec": {
   "display_name": "Python 3 (ipykernel)",
   "language": "python",
   "name": "python3"
  },
  "language_info": {
   "codemirror_mode": {
    "name": "ipython",
    "version": 3
   },
   "file_extension": ".py",
   "mimetype": "text/x-python",
   "name": "python",
   "nbconvert_exporter": "python",
   "pygments_lexer": "ipython3",
   "version": "3.9.7"
  },
  "toc": {
   "base_numbering": 1,
   "nav_menu": {},
   "number_sections": true,
   "sideBar": true,
   "skip_h1_title": true,
   "title_cell": "Table of Contents",
   "title_sidebar": "Contents",
   "toc_cell": false,
   "toc_position": {},
   "toc_section_display": true,
   "toc_window_display": false
  }
 },
 "nbformat": 4,
 "nbformat_minor": 2
}
